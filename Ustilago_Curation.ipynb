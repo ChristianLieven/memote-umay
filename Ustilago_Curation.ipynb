{
 "cells": [
  {
   "cell_type": "code",
   "execution_count": 1,
   "metadata": {
    "collapsed": true
   },
   "outputs": [],
   "source": [
    "# from bokeh.io import output_notebook\n",
    "# from bokeh.resources import INLINE"
   ]
  },
  {
   "cell_type": "code",
   "execution_count": 2,
   "metadata": {},
   "outputs": [],
   "source": [
    "# output_notebook(resources=INLINE)"
   ]
  },
  {
   "cell_type": "code",
   "execution_count": 14,
   "metadata": {},
   "outputs": [],
   "source": [
    "from cobra.io import read_legacy_sbml, read_sbml_model\n",
    "from cobra import Metabolite"
   ]
  },
  {
   "cell_type": "code",
   "execution_count": 10,
   "metadata": {
    "collapsed": true
   },
   "outputs": [],
   "source": [
    "from cobra import Reaction"
   ]
  },
  {
   "cell_type": "code",
   "execution_count": 11,
   "metadata": {
    "collapsed": true
   },
   "outputs": [],
   "source": [
    "import imp\n",
    "foo = imp.load_source('curation_tools','/Users/clie/Desktop/EFPro2/Functions_Modules/curation_tools.py')"
   ]
  },
  {
   "cell_type": "code",
   "execution_count": 16,
   "metadata": {},
   "outputs": [],
   "source": [
    "model = read_sbml_model('iCL_Conversion3.xml')"
   ]
  },
  {
   "cell_type": "code",
   "execution_count": 17,
   "metadata": {},
   "outputs": [
    {
     "name": "stdout",
     "output_type": "stream",
     "text": [
      "Maximize\n",
      "-1.0*BIOMASS_REACTION_reverse_42726 + 1.0*BIOMASS_REACTION\n"
     ]
    }
   ],
   "source": [
    "print model.objective"
   ]
  },
  {
   "cell_type": "code",
   "execution_count": 20,
   "metadata": {},
   "outputs": [
    {
     "name": "stdout",
     "output_type": "stream",
     "text": [
      "0.99396112705\n"
     ]
    }
   ],
   "source": [
    "model.reactions.EX_glc__D_e.bounds = -20, 1000\n",
    "print model.optimize().f"
   ]
  },
  {
   "cell_type": "code",
   "execution_count": 21,
   "metadata": {},
   "outputs": [
    {
     "name": "stdout",
     "output_type": "stream",
     "text": [
      "0.99396112705\n"
     ]
    }
   ],
   "source": [
    "print model.optimize().f"
   ]
  },
  {
   "cell_type": "code",
   "execution_count": 22,
   "metadata": {},
   "outputs": [
    {
     "name": "stdout",
     "output_type": "stream",
     "text": [
      "EX_o2_e: o2_e <=>  -1000.0 1000.0 -8.05442235359\n",
      "EX_co2_e: co2_e <=>  -1000.0 1000.0 -10.1284067319\n",
      "EX_nh4_e: nh4_e <=>  -1000.0 1000.0 -7.11701015996\n",
      "EX_pi_e: pi_e <=>  -1000.0 1000.0 -2.39747399689\n",
      "EX_so4_e: so4_e <=>  -1000.0 1000.0 -0.0815048124181\n",
      "EX_h2o_e: h2o_e <=>  -1000.0 1000.0 30.2798031634\n",
      "EX_nac_e: nac_e <=>  -1000.0 1000.0 0.157314227578\n",
      "EX_glc__D_e: glc__D_e <=>  -20 1000 -20.0\n",
      "EX_mal__L_e: mal__L_e -->  0.0 1000.0 20.5878845209\n",
      "EX_fum_e: fum_e -->  0.0 1000.0 0.174937158361\n"
     ]
    }
   ],
   "source": [
    "for rxn in model.reactions:\n",
    "    if rxn.id.startswith('EX_') and abs(rxn.flux)>0:\n",
    "        print rxn,rxn.lower_bound,rxn.upper_bound,rxn.flux"
   ]
  },
  {
   "cell_type": "code",
   "execution_count": 26,
   "metadata": {
    "collapsed": true
   },
   "outputs": [],
   "source": [
    "solution = model.optimize()"
   ]
  },
  {
   "cell_type": "code",
   "execution_count": 27,
   "metadata": {
    "collapsed": true
   },
   "outputs": [],
   "source": [
    "import escher"
   ]
  },
  {
   "cell_type": "code",
   "execution_count": 29,
   "metadata": {},
   "outputs": [
    {
     "name": "stderr",
     "output_type": "stream",
     "text": [
      "IOPub data rate exceeded.\n",
      "The notebook server will temporarily stop sending output\n",
      "to the client in order to avoid crashing it.\n",
      "To change this limit, set the config variable\n",
      "`--NotebookApp.iopub_data_rate_limit`.\n"
     ]
    }
   ],
   "source": [
    "maps = escher.Builder(\n",
    "                    model=model,\n",
    "                    map_name='Ustilago maydis 521 genome-scale metabolic model',\n",
    "                    map_json='UstiMap10.json',\n",
    "                    show_gene_reaction_rules=True,\n",
    "                    use_3d_transform = True)\n",
    "\n",
    "maps.set_reaction_scale([ { 'type': 'min', 'color': 'rgb(235,89,162)', 'size': 12 },\n",
    "   { 'type': 'median', 'color': 'rgb(200,200,200)', 'size': 20 },\n",
    "   { 'type': 'max', 'color': 'rgb(255,255,109)', 'size': 25 } ])\n",
    "maps.display_in_notebook()"
   ]
  },
  {
   "cell_type": "markdown",
   "metadata": {},
   "source": [
    "# Implement corrected Phospholipid Synthesis Pathways!"
   ]
  },
  {
   "cell_type": "markdown",
   "metadata": {},
   "source": [
    "#### Phosphatidate Pathway : Using 16:0 at C1 and 16:0 C2\n",
    "\n",
    "Berg J, Tymoczko JL, Stryer L (2006). Biochemistry (6th ed.). San Francisco: W. H. Freeman. ISBN 0-7167-8724-5."
   ]
  },
  {
   "cell_type": "code",
   "execution_count": 30,
   "metadata": {},
   "outputs": [],
   "source": [
    "rxn = model.reactions.G3PD1"
   ]
  },
  {
   "cell_type": "code",
   "execution_count": 31,
   "metadata": {},
   "outputs": [],
   "source": [
    "rxn = model.reactions.GLYC3PDEHYDROGBIOSYN__45__RXN__45__GLYCEROL__45__3P__47__NADP__47____47__DIHYDROXY__45__ACETONE__45__PHOSPHATE__47__NADPH__47__PROTON__46__59__46__\n",
    "rxn.id = 'G3PD2'"
   ]
  },
  {
   "cell_type": "code",
   "execution_count": 32,
   "metadata": {
    "collapsed": true
   },
   "outputs": [],
   "source": [
    "met = model.metabolites.get_by_id('Palmitoyl__45__ACPs_c')\n",
    "met.formula = 'C27H51N2O8PRS'\n",
    "met.charge = -1\n",
    "met.id = 'palmACP_c'"
   ]
  },
  {
   "cell_type": "code",
   "execution_count": 33,
   "metadata": {},
   "outputs": [
    {
     "name": "stdout",
     "output_type": "stream",
     "text": [
      "unknown metabolite '1hdecg3p_c' created\n"
     ]
    }
   ],
   "source": [
    "rxn = model.reactions.RXN__45__10462\n",
    "rxn.build_reaction_from_string('glyc3p_c + palmACP_c <=> 1hdecg3p_c + ACP_c')\n",
    "rxn.name = 'Glycerol-3-phosphate acyltransferase (C16:0)'\n",
    "rxn.id = 'G3PAT160'"
   ]
  },
  {
   "cell_type": "code",
   "execution_count": 34,
   "metadata": {},
   "outputs": [],
   "source": [
    "met = model.metabolites.get_by_id('1hdecg3p_c')\n",
    "met.name='1-hexadecanoyl-sn-glycerol 3-phosphate'\n",
    "met.formula='C19H37O7P'\n",
    "met.charge=-2"
   ]
  },
  {
   "cell_type": "code",
   "execution_count": 35,
   "metadata": {
    "collapsed": true
   },
   "outputs": [],
   "source": [
    "rxn = model.reactions._1__45__ACYLGLYCEROL__45__3__45__P__45__ACYLTRANSFER__45__RXN\n",
    "rxn.build_reaction_from_string('1hdecg3p_c + palmACP_c -> ACP_c + pa160_c')\n",
    "rxn.name = '1-hexadecanoyl-sn-glycerol 3-phosphate O-acyltransferase (n-C16:0)'\n",
    "rxn.id = 'AGPAT160'"
   ]
  },
  {
   "cell_type": "code",
   "execution_count": 36,
   "metadata": {},
   "outputs": [],
   "source": [
    "met =  model.metabolites.CDPDIACYLGLYCEROL_c\n",
    "met.name='CDP-1,2-dihexadecanoylglycerol'\n",
    "met.formula='C44H79N3O15P2'\n",
    "met.charge=-2"
   ]
  },
  {
   "cell_type": "code",
   "execution_count": 37,
   "metadata": {
    "collapsed": true
   },
   "outputs": [],
   "source": [
    "met.id = 'cdpdhdecg_c'"
   ]
  },
  {
   "cell_type": "code",
   "execution_count": 38,
   "metadata": {},
   "outputs": [],
   "source": [
    "rxn = model.reactions.CDPDIGLYSYN__45__RXN\n",
    "rxn.build_reaction_from_string('ctp_c + h_c + pa160_c -> cdpdhdecg_c + ppi_c')\n",
    "rxn.name = 'CDP-diacylglycerol synthetase (n-C16:0)'\n",
    "rxn.id = 'DASYN160'"
   ]
  },
  {
   "cell_type": "code",
   "execution_count": 39,
   "metadata": {
    "collapsed": true
   },
   "outputs": [],
   "source": [
    "met = model.metabolites.pgp_EC_c\n",
    "met.name='Phosphatidylglycerophosphate (dihexadecanoyl, n-C16:0)'\n",
    "met.formula='C38H73O13P2'\n",
    "met.charge=-3\n",
    "met.id = 'pgp160_c'"
   ]
  },
  {
   "cell_type": "code",
   "execution_count": 40,
   "metadata": {},
   "outputs": [],
   "source": [
    "rxn = model.reactions.PHOSPHAGLYPSYN__45__RXN\n",
    "rxn.name = 'Phosphatidylglycerol synthase (n-C16:0)'\n",
    "rxn.id = 'PGSA160'"
   ]
  },
  {
   "cell_type": "code",
   "execution_count": 41,
   "metadata": {
    "collapsed": true
   },
   "outputs": [],
   "source": [
    "met = model.metabolites.L__45__1__45__PHOSPHATIDYL__45__GLYCEROL_c\n",
    "met.name='Phosphatidylglycerol (dihexadecanoyl, n-C16:0)'\n",
    "met.formula='C38H74O10P1'\n",
    "met.charge=-1\n",
    "met.id = 'pg160_c'"
   ]
  },
  {
   "cell_type": "code",
   "execution_count": 42,
   "metadata": {
    "collapsed": true
   },
   "outputs": [],
   "source": [
    "rxn = model.reactions.PGPPHOSPHA__45__RXN\n",
    "rxn.name = 'Phosphatidylglycerol phosphate phosphatase (n-C16:0)'\n",
    "rxn.id = 'PGPP160'"
   ]
  },
  {
   "cell_type": "code",
   "execution_count": 43,
   "metadata": {
    "collapsed": true
   },
   "outputs": [],
   "source": [
    "met = model.metabolites.L__45__1__45__PHOSPHATIDYL__45__SERINE_c\n",
    "met.name='Phosphatidylserine (dihexadecanoyl, n-C16:0)'\n",
    "met.formula='C38H73N1O10P1'\n",
    "met.charge=0\n",
    "met.id = 'ps160_c'"
   ]
  },
  {
   "cell_type": "code",
   "execution_count": 44,
   "metadata": {
    "collapsed": true
   },
   "outputs": [],
   "source": [
    "rxn = model.reactions.PHOSPHASERSYN__45__RXN\n",
    "rxn.name = 'Phosphatidylserine syntase (n-C16:0)'\n",
    "rxn.id = 'PSSA160'"
   ]
  },
  {
   "cell_type": "code",
   "execution_count": 45,
   "metadata": {
    "collapsed": true
   },
   "outputs": [],
   "source": [
    "met = model.metabolites.L__45__1__45__PHOSPHATIDYL__45__ETHANOLAMINE_c\n",
    "met.name='Phosphatidylethanolamine (dihexadecanoyl, n-C16:0)'\n",
    "met.formula='C37H74N1O8P1'\n",
    "met.charge=0\n",
    "met.id = 'pe160_c'"
   ]
  },
  {
   "cell_type": "code",
   "execution_count": 46,
   "metadata": {
    "collapsed": true
   },
   "outputs": [],
   "source": [
    "rxn = model.reactions.PHOSPHASERDECARB__45__RXN\n",
    "rxn.name = 'Phosphatidylserine decarboxylase (n-C16:0)'\n",
    "rxn.id = 'PSD160'"
   ]
  },
  {
   "cell_type": "code",
   "execution_count": 47,
   "metadata": {
    "collapsed": true
   },
   "outputs": [],
   "source": [
    "met = model.metabolites.CPD__45__405_c\n",
    "met.name='Phosphatidyl N methylethanolamine (dihexadecanoyl, n-C16:0)'\n",
    "met.formula='C38H76N1O8P1'\n",
    "met.charge=0\n",
    "met.id = 'ptdmeeta160_c'"
   ]
  },
  {
   "cell_type": "code",
   "execution_count": 48,
   "metadata": {
    "collapsed": true
   },
   "outputs": [],
   "source": [
    "rxn = model.reactions._2__46__1__46__1__46__17__45__RXN\n",
    "rxn.name = 'Phosphatidylethanolamine N methyltransferase (n-C16:0)'\n",
    "rxn.id = 'PETOHM'"
   ]
  },
  {
   "cell_type": "code",
   "execution_count": 49,
   "metadata": {},
   "outputs": [],
   "source": [
    "met = model.metabolites.ptd2meeta_SC_c\n",
    "met.name='Phosphatidyl N dimethylethanolamine (dihexadecanoyl, n-C16:0)'\n",
    "met.formula='C39H78N1O8P1'\n",
    "met.charge=0\n",
    "met.id = 'ptd2meeta160_c'"
   ]
  },
  {
   "cell_type": "code",
   "execution_count": 50,
   "metadata": {
    "collapsed": true
   },
   "outputs": [],
   "source": [
    "rxn = model.reactions._2__46__1__46__1__46__71__45__RXN\n",
    "rxn.name = 'Methylene fatty acyl phospholipid synthase (n-C16:0)'\n",
    "rxn.id = 'MFAPS'"
   ]
  },
  {
   "cell_type": "code",
   "execution_count": 51,
   "metadata": {
    "collapsed": true
   },
   "outputs": [],
   "source": [
    "met = model.metabolites.PHOSPHATIDYLCHOLINE_c\n",
    "met.name='Phosphatidylcholine (dihexadecanoyl, n-C16:0)'\n",
    "met.formula='C40H80N1O8P1'\n",
    "met.charge=0\n",
    "met.id = 'pc160_c'"
   ]
  },
  {
   "cell_type": "code",
   "execution_count": 52,
   "metadata": {
    "collapsed": true
   },
   "outputs": [],
   "source": [
    "rxn = model.reactions.RXN4FS__45__2\n",
    "rxn.name = 'Phosphatidyl N methylethanolamine N methyltransferase (n-C16:0)'\n",
    "rxn.id = 'PMETM'"
   ]
  },
  {
   "cell_type": "markdown",
   "metadata": {},
   "source": [
    "### Balancing of Chitin Synthesis"
   ]
  },
  {
   "cell_type": "code",
   "execution_count": 53,
   "metadata": {},
   "outputs": [],
   "source": [
    "met = model.metabolites.chtn_c\n",
    "met.name='Chitin monomer C8H13NO5'\n",
    "met.formula='C8H13NO5'\n",
    "met.charge=0\n",
    "met.id = 'chitin_c'"
   ]
  },
  {
   "cell_type": "code",
   "execution_count": 54,
   "metadata": {
    "collapsed": true
   },
   "outputs": [],
   "source": [
    "rxn = model.reactions.CHITIN__45__SYNTHASE__45__RXN\n",
    "rxn.name = 'Chitin synthase'\n",
    "rxn.id = 'CHTNS'"
   ]
  },
  {
   "cell_type": "code",
   "execution_count": 55,
   "metadata": {
    "collapsed": true
   },
   "outputs": [],
   "source": [
    "model.reactions.CHTNS.build_reaction_from_string('uacgam_c -> h_c + udp_c + chitin_c')"
   ]
  },
  {
   "cell_type": "markdown",
   "metadata": {},
   "source": [
    "Quick check for growth"
   ]
  },
  {
   "cell_type": "code",
   "execution_count": 57,
   "metadata": {},
   "outputs": [
    {
     "data": {
      "text/plain": [
       "0.9978769544121785"
      ]
     },
     "execution_count": 57,
     "metadata": {},
     "output_type": "execute_result"
    }
   ],
   "source": [
    "model.optimize().f"
   ]
  },
  {
   "cell_type": "code",
   "execution_count": 59,
   "metadata": {
    "collapsed": true
   },
   "outputs": [],
   "source": [
    "from cobra.flux_analysis import find_essential_reactions"
   ]
  },
  {
   "cell_type": "code",
   "execution_count": 60,
   "metadata": {},
   "outputs": [
    {
     "name": "stdout",
     "output_type": "stream",
     "text": [
      "There are 338 unbalanced reactions and 0 metabolites with a faulty syntax\n",
      "3OAS180 {'C': -1.0, 'H': -9.0, 'charge': -1.0, 'O': 11.0, 'N': 2.0, 'P': 1.0, 'S': 1.0, 'R': 1.0}\n",
      "EAR120y {'C': 0, 'H': -2.0, 'charge': 0, 'O': 0, 'N': 0, 'P': 0, 'S': 0, 'R': 0}\n",
      "MCOATA {'C': -14.0, 'H': -22.0, 'charge': 1.0, 'O': -10.0, 'N': -2.0, 'P': -1.0, 'S': -1.0, 'R': -1.0}\n",
      "RXN__45__9548 {'C': 29.0, 'H': 55.0, 'charge': -1.0, 'O': 8.0, 'N': 2.0, 'P': 1.0, 'S': 1.0, 'R': 1.0}\n",
      "EAR160y {'C': 27.0, 'H': 49.0, 'charge': -1.0, 'O': 8.0, 'N': 2.0, 'P': 1.0, 'S': 1.0, 'R': 1.0}\n",
      "3OAS60 {'C': 12.0, 'H': 20.0, 'charge': -1.0, 'O': 9.0, 'N': 2.0, 'P': 1.0, 'S': 1.0, 'R': 1.0}\n",
      "EAR140y {'C': 25.0, 'H': 45.0, 'charge': -1.0, 'O': 8.0, 'N': 2.0, 'P': 1.0, 'S': 1.0, 'R': 1.0}\n",
      "BIOMASS_REACTION {'C': -44.37737999999989, 'H': -128.8003400000002, 'charge': -44.89506000000003, 'O': -19.711309999999877, 'N': -5.5009199999999945, 'P': -0.9892799999999615, 'S': -0.082, 'R': 0}\n",
      "3OAR160 {'C': 0, 'H': -2.0, 'charge': 0, 'O': 0, 'N': 0, 'P': 0, 'S': 0, 'R': 0}\n",
      "COA1819ZD9DS {'C': 21.0, 'H': 27.0, 'charge': -4.0, 'O': 14.0, 'N': 7.0, 'P': 2.0, 'S': 0, 'R': 0}\n",
      "3HAD180 {'C': 0, 'H': 2.0, 'charge': 0, 'O': 1.0, 'N': 0, 'P': 0, 'S': 0, 'R': 0}\n",
      "3OAR80_1 {'C': 0, 'H': -2.0, 'charge': 0, 'O': 0, 'N': 0, 'P': 0, 'S': 0, 'R': 0}\n",
      "3OAR180 {'C': 0, 'H': 2.0, 'charge': 0, 'O': 0, 'N': 0, 'P': 0, 'S': 0, 'R': 0}\n",
      "3OAR60 {'C': 0, 'H': -2.0, 'charge': 0, 'O': 0, 'N': 0, 'P': 0, 'S': 0, 'R': 0}\n",
      "KAS14 {'C': 12.0, 'H': 20.0, 'charge': -1.0, 'O': 9.0, 'N': 2.0, 'P': 1.0, 'S': 1.0, 'R': 1.0}\n",
      "3HAD60 {'C': 0, 'H': 2.0, 'charge': 0, 'O': 1.0, 'N': 0, 'P': 0, 'S': 0, 'R': 0}\n",
      "3OAS160 {'C': -13.0, 'H': -27.0, 'charge': 0, 'O': 1.0, 'N': 0, 'P': 0, 'S': 0, 'R': 0}\n",
      "3OAS80 {'C': -5.0, 'H': -11.0, 'charge': 0, 'O': 1.0, 'N': 0, 'P': 0, 'S': 0, 'R': 0}\n",
      "3OAS140 {'C': 12.0, 'H': 20.0, 'charge': -1.0, 'O': 9.0, 'N': 2.0, 'P': 1.0, 'S': 1.0, 'R': 1.0}\n",
      "3HAD140 {'C': 0, 'H': 2.0, 'charge': 0, 'O': 1.0, 'N': 0, 'P': 0, 'S': 0, 'R': 0}\n",
      "EAR100y {'C': 0, 'H': -2.0, 'charge': 0, 'O': 0, 'N': 0, 'P': 0, 'S': 0, 'R': 0}\n",
      "ACOATA {'C': -13.0, 'H': -23.0, 'charge': 1.0, 'O': -8.0, 'N': -2.0, 'P': -1.0, 'S': -1.0, 'R': -1.0}\n",
      "3HAD160 {'C': 0, 'H': 2.0, 'charge': 0, 'O': 1.0, 'N': 0, 'P': 0, 'S': 0, 'R': 0}\n",
      "EAR80y {'C': 19.0, 'H': 33.0, 'charge': -1.0, 'O': 8.0, 'N': 2.0, 'P': 1.0, 'S': 1.0, 'R': 1.0}\n",
      "3OAR140 {'C': 0, 'H': -2.0, 'charge': 0, 'O': 0, 'N': 0, 'P': 0, 'S': 0, 'R': 0}\n",
      "EAR40y {'C': 0, 'H': -2.0, 'charge': 0, 'O': 0, 'N': 0, 'P': 0, 'S': 0, 'R': 0}\n",
      "3OAS120 {'C': 12.0, 'H': 20.0, 'charge': -1.0, 'O': 9.0, 'N': 2.0, 'P': 1.0, 'S': 1.0, 'R': 1.0}\n",
      "PSD160 {'C': 0, 'H': 0, 'charge': -1.0, 'O': 0, 'N': 0, 'P': 0, 'S': 0, 'R': 0}\n",
      "3HAD80 {'C': 0, 'H': 2.0, 'charge': 0, 'O': 1.0, 'N': 0, 'P': 0, 'S': 0, 'R': 0}\n",
      "3OAR40 {'C': 0, 'H': -2.0, 'charge': 0, 'O': 0, 'N': 0, 'P': 0, 'S': 0, 'R': 0}\n",
      "EAR60y {'C': 17.0, 'H': 29.0, 'charge': -1.0, 'O': 8.0, 'N': 2.0, 'P': 1.0, 'S': 1.0, 'R': 1.0}\n",
      "PSSA160 {'C': 0, 'H': 0, 'charge': 1.0, 'O': 0, 'N': 0, 'P': 0, 'S': 0, 'R': 0}\n",
      "3OAR120 {'C': 0, 'H': -2.0, 'charge': 0, 'O': 0, 'N': 0, 'P': 0, 'S': 0, 'R': 0}\n",
      "PAPSR {'C': 0, 'H': 2.0, 'charge': 0, 'O': 0, 'N': 0, 'P': 0, 'S': 0, 'R': 0}\n",
      "3HAD40 {'C': 0, 'H': 2.0, 'charge': 0, 'O': 1.0, 'N': 0, 'P': 0, 'S': 0, 'R': 0}\n",
      "3OAR100 {'C': 0, 'H': -2.0, 'charge': 0, 'O': 0, 'N': 0, 'P': 0, 'S': 0, 'R': 0}\n",
      "GLCt1 {'C': 6.0, 'H': 12.0, 'charge': 0, 'O': 6.0, 'N': 0, 'P': 0, 'S': 0, 'R': 0}\n",
      "3HAD120 {'C': 0, 'H': 2.0, 'charge': 0, 'O': 1.0, 'N': 0, 'P': 0, 'S': 0, 'R': 0}\n",
      "3HAD100 {'C': 0, 'H': 2.0, 'charge': 0, 'O': 1.0, 'N': 0, 'P': 0, 'S': 0, 'R': 0}\n",
      "_1__46__14__46__19__46__6__45__RXN {'C': 0, 'H': -2.0, 'charge': 0, 'O': 1.0, 'N': 0, 'P': 0, 'S': 0, 'R': 0}\n",
      "EAR180y {'C': 0, 'H': 2.0, 'charge': 0, 'O': 0, 'N': 0, 'P': 0, 'S': 0, 'R': 0}\n",
      "3OAS100 {'C': -7.0, 'H': -15.0, 'charge': 0, 'O': 1.0, 'N': 0, 'P': 0, 'S': 0, 'R': 0}\n",
      "CYTOCHROME__45__B5__45__REDUCTASE__45__RXN {'C': 0, 'H': -1.0, 'charge': 1.0, 'O': 0, 'N': 0, 'P': 0, 'S': 0, 'R': 0}\n"
     ]
    }
   ],
   "source": [
    "essential_reactions = find_essential_reactions(model)\n",
    "unbalanced_list = foo.find_unbalanced_reactions(model)\n",
    "check_and_fix = [x.id for x in essential_reactions if x.id in unbalanced_list[0]]\n",
    "for x in check_and_fix:\n",
    "    print x,unbalanced_list[0][x]"
   ]
  },
  {
   "cell_type": "markdown",
   "metadata": {},
   "source": [
    "# Fix unbalanced essential reactions!!"
   ]
  },
  {
   "cell_type": "code",
   "execution_count": 61,
   "metadata": {
    "collapsed": true
   },
   "outputs": [],
   "source": [
    "import re"
   ]
  },
  {
   "cell_type": "code",
   "execution_count": 62,
   "metadata": {},
   "outputs": [
    {
     "name": "stdout",
     "output_type": "stream",
     "text": [
      "There are 338 unbalanced reactions and 0 metabolites with a faulty syntax\n"
     ]
    },
    {
     "data": {
      "text/plain": [
       "({'3HAD100': {'C': 0,\n",
       "   'H': 2.0,\n",
       "   'N': 0,\n",
       "   'O': 1.0,\n",
       "   'P': 0,\n",
       "   'R': 0,\n",
       "   'S': 0,\n",
       "   'charge': 0},\n",
       "  '3HAD120': {'C': 0,\n",
       "   'H': 2.0,\n",
       "   'N': 0,\n",
       "   'O': 1.0,\n",
       "   'P': 0,\n",
       "   'R': 0,\n",
       "   'S': 0,\n",
       "   'charge': 0},\n",
       "  '3HAD140': {'C': 0,\n",
       "   'H': 2.0,\n",
       "   'N': 0,\n",
       "   'O': 1.0,\n",
       "   'P': 0,\n",
       "   'R': 0,\n",
       "   'S': 0,\n",
       "   'charge': 0},\n",
       "  '3HAD160': {'C': 0,\n",
       "   'H': 2.0,\n",
       "   'N': 0,\n",
       "   'O': 1.0,\n",
       "   'P': 0,\n",
       "   'R': 0,\n",
       "   'S': 0,\n",
       "   'charge': 0},\n",
       "  '3HAD180': {'C': 0,\n",
       "   'H': 2.0,\n",
       "   'N': 0,\n",
       "   'O': 1.0,\n",
       "   'P': 0,\n",
       "   'R': 0,\n",
       "   'S': 0,\n",
       "   'charge': 0},\n",
       "  '3HAD40': {'C': 0,\n",
       "   'H': 2.0,\n",
       "   'N': 0,\n",
       "   'O': 1.0,\n",
       "   'P': 0,\n",
       "   'R': 0,\n",
       "   'S': 0,\n",
       "   'charge': 0},\n",
       "  '3HAD60': {'C': 0,\n",
       "   'H': 2.0,\n",
       "   'N': 0,\n",
       "   'O': 1.0,\n",
       "   'P': 0,\n",
       "   'R': 0,\n",
       "   'S': 0,\n",
       "   'charge': 0},\n",
       "  '3HAD80': {'C': 0,\n",
       "   'H': 2.0,\n",
       "   'N': 0,\n",
       "   'O': 1.0,\n",
       "   'P': 0,\n",
       "   'R': 0,\n",
       "   'S': 0,\n",
       "   'charge': 0},\n",
       "  '3OAR100': {'C': 0,\n",
       "   'H': -2.0,\n",
       "   'N': 0,\n",
       "   'O': 0,\n",
       "   'P': 0,\n",
       "   'R': 0,\n",
       "   'S': 0,\n",
       "   'charge': 0},\n",
       "  '3OAR120': {'C': 0,\n",
       "   'H': -2.0,\n",
       "   'N': 0,\n",
       "   'O': 0,\n",
       "   'P': 0,\n",
       "   'R': 0,\n",
       "   'S': 0,\n",
       "   'charge': 0},\n",
       "  '3OAR140': {'C': 0,\n",
       "   'H': -2.0,\n",
       "   'N': 0,\n",
       "   'O': 0,\n",
       "   'P': 0,\n",
       "   'R': 0,\n",
       "   'S': 0,\n",
       "   'charge': 0},\n",
       "  '3OAR160': {'C': 0,\n",
       "   'H': -2.0,\n",
       "   'N': 0,\n",
       "   'O': 0,\n",
       "   'P': 0,\n",
       "   'R': 0,\n",
       "   'S': 0,\n",
       "   'charge': 0},\n",
       "  '3OAR180': {'C': 0,\n",
       "   'H': 2.0,\n",
       "   'N': 0,\n",
       "   'O': 0,\n",
       "   'P': 0,\n",
       "   'R': 0,\n",
       "   'S': 0,\n",
       "   'charge': 0},\n",
       "  '3OAR181_1': {'C': 0,\n",
       "   'H': 2.0,\n",
       "   'N': 0,\n",
       "   'O': 0,\n",
       "   'P': 0,\n",
       "   'R': 0,\n",
       "   'S': 0,\n",
       "   'charge': 0},\n",
       "  '3OAR40': {'C': 0,\n",
       "   'H': -2.0,\n",
       "   'N': 0,\n",
       "   'O': 0,\n",
       "   'P': 0,\n",
       "   'R': 0,\n",
       "   'S': 0,\n",
       "   'charge': 0},\n",
       "  '3OAR60': {'C': 0,\n",
       "   'H': -2.0,\n",
       "   'N': 0,\n",
       "   'O': 0,\n",
       "   'P': 0,\n",
       "   'R': 0,\n",
       "   'S': 0,\n",
       "   'charge': 0},\n",
       "  '3OAR80_1': {'C': 0,\n",
       "   'H': -2.0,\n",
       "   'N': 0,\n",
       "   'O': 0,\n",
       "   'P': 0,\n",
       "   'R': 0,\n",
       "   'S': 0,\n",
       "   'charge': 0},\n",
       "  '3OAS100': {'C': -7.0,\n",
       "   'H': -15.0,\n",
       "   'N': 0,\n",
       "   'O': 1.0,\n",
       "   'P': 0,\n",
       "   'R': 0,\n",
       "   'S': 0,\n",
       "   'charge': 0},\n",
       "  '3OAS120': {'C': 12.0,\n",
       "   'H': 20.0,\n",
       "   'N': 2.0,\n",
       "   'O': 9.0,\n",
       "   'P': 1.0,\n",
       "   'R': 1.0,\n",
       "   'S': 1.0,\n",
       "   'charge': -1.0},\n",
       "  '3OAS140': {'C': 12.0,\n",
       "   'H': 20.0,\n",
       "   'N': 2.0,\n",
       "   'O': 9.0,\n",
       "   'P': 1.0,\n",
       "   'R': 1.0,\n",
       "   'S': 1.0,\n",
       "   'charge': -1.0},\n",
       "  '3OAS160': {'C': -13.0,\n",
       "   'H': -27.0,\n",
       "   'N': 0,\n",
       "   'O': 1.0,\n",
       "   'P': 0,\n",
       "   'R': 0,\n",
       "   'S': 0,\n",
       "   'charge': 0},\n",
       "  '3OAS180': {'C': -1.0,\n",
       "   'H': -9.0,\n",
       "   'N': 2.0,\n",
       "   'O': 11.0,\n",
       "   'P': 1.0,\n",
       "   'R': 1.0,\n",
       "   'S': 1.0,\n",
       "   'charge': -1.0},\n",
       "  '3OAS60': {'C': 12.0,\n",
       "   'H': 20.0,\n",
       "   'N': 2.0,\n",
       "   'O': 9.0,\n",
       "   'P': 1.0,\n",
       "   'R': 1.0,\n",
       "   'S': 1.0,\n",
       "   'charge': -1.0},\n",
       "  '3OAS80': {'C': -5.0,\n",
       "   'H': -11.0,\n",
       "   'N': 0,\n",
       "   'O': 1.0,\n",
       "   'P': 0,\n",
       "   'R': 0,\n",
       "   'S': 0,\n",
       "   'charge': 0},\n",
       "  'ACOATA': {'C': -13.0,\n",
       "   'H': -23.0,\n",
       "   'N': -2.0,\n",
       "   'O': -8.0,\n",
       "   'P': -1.0,\n",
       "   'R': -1.0,\n",
       "   'S': -1.0,\n",
       "   'charge': 1.0},\n",
       "  'ACP_REPLENISHMENT_RXN': {'C': -13.0,\n",
       "   'H': -23.0,\n",
       "   'N': -2.0,\n",
       "   'O': -8.0,\n",
       "   'P': -1.0,\n",
       "   'R': -1.0,\n",
       "   'S': -1.0,\n",
       "   'charge': 1.0},\n",
       "  'ACYLCOADEHYDROG__45__RXN': {'C': 0,\n",
       "   'H': -1.0,\n",
       "   'N': 0,\n",
       "   'O': 0,\n",
       "   'P': 0,\n",
       "   'R': 0,\n",
       "   'S': 0,\n",
       "   'charge': 0},\n",
       "  'ACYLCOASYN__45__RXN__45__POLYMER__45__INST__45__CPD66__45__39__45__C10__45__H20__47__CO__45__A__47__ATP__47____47__TETRADECANOYL__45__COA__47__PPI__47__AMP__46__66__46__': {'C': 0,\n",
       "   'H': 0,\n",
       "   'N': 0,\n",
       "   'O': 0,\n",
       "   'P': 0,\n",
       "   'R': 0,\n",
       "   'S': 0,\n",
       "   'charge': -1.0},\n",
       "  'ACYLCOASYN__45__RXN__45__POLYMER__45__INST__45__CPD66__45__39__45__C16__45__H32__47__CO__45__A__47__ATP__47____47__CPD__45__9965__47__PPI__47__AMP__46__57__46__': {'C': 0,\n",
       "   'H': 0,\n",
       "   'N': 0,\n",
       "   'O': 0,\n",
       "   'P': 0,\n",
       "   'R': 0,\n",
       "   'S': 0,\n",
       "   'charge': -1.0},\n",
       "  'ACYLCOASYN__45__RXN__45__POLYMER__45__INST__45__CPD66__45__39__45__C2__45__H4__47__CO__45__A__47__ATP__47____47__HEXANOYL__45__COA__47__PPI__47__AMP__46__59__46__': {'C': 0,\n",
       "   'H': 0,\n",
       "   'N': 0,\n",
       "   'O': 0,\n",
       "   'P': 0,\n",
       "   'R': 0,\n",
       "   'S': 0,\n",
       "   'charge': -1.0},\n",
       "  'ALANINE__45____45__TRNA__45__LIGASE__45__RXN': {'C': -3.0,\n",
       "   'H': -7.0,\n",
       "   'N': -1.0,\n",
       "   'O': -1.0,\n",
       "   'P': 0,\n",
       "   'R': 0,\n",
       "   'S': 0,\n",
       "   'charge': -1.0},\n",
       "  'AMINEOXID__45__RXN': {'C': 0,\n",
       "   'H': 4.0,\n",
       "   'N': 1.0,\n",
       "   'O': -1.0,\n",
       "   'P': 0,\n",
       "   'R': 0,\n",
       "   'S': 0,\n",
       "   'charge': 0},\n",
       "  'AOXSr2': {'C': 18.0,\n",
       "   'H': 30.0,\n",
       "   'N': 2.0,\n",
       "   'O': 10.0,\n",
       "   'P': 1.0,\n",
       "   'R': 1.0,\n",
       "   'S': 1.0,\n",
       "   'charge': -1.0},\n",
       "  'ARGININE__45____45__TRNA__45__LIGASE__45__RXN': {'C': -6.0,\n",
       "   'H': -15.0,\n",
       "   'N': -4.0,\n",
       "   'O': -1.0,\n",
       "   'P': 0,\n",
       "   'R': 0,\n",
       "   'S': 0,\n",
       "   'charge': -1.0},\n",
       "  'ARGINYLTRANSFERASE__45__RXN': {'C': 0,\n",
       "   'H': 1.0,\n",
       "   'N': 0,\n",
       "   'O': 0,\n",
       "   'P': 0,\n",
       "   'R': 0,\n",
       "   'S': 0,\n",
       "   'charge': 1.0},\n",
       "  'ARYLSULFAT__45__RXN': {'C': 0,\n",
       "   'H': -1.0,\n",
       "   'N': 0,\n",
       "   'O': 3.0,\n",
       "   'P': 0,\n",
       "   'R': 0,\n",
       "   'S': 1.0,\n",
       "   'charge': 0},\n",
       "  'ASPARAGINE__45____45__TRNA__45__LIGASE__45__RXN': {'C': -4.0,\n",
       "   'H': -8.0,\n",
       "   'N': -2.0,\n",
       "   'O': -2.0,\n",
       "   'P': 0,\n",
       "   'R': 0,\n",
       "   'S': 0,\n",
       "   'charge': -1.0},\n",
       "  'ASPTRSm': {'C': -4.0,\n",
       "   'H': -6.0,\n",
       "   'N': -1.0,\n",
       "   'O': -3.0,\n",
       "   'P': 0,\n",
       "   'R': 0,\n",
       "   'S': 0,\n",
       "   'charge': -2.0},\n",
       "  'BIOMASS_REACTION': {'C': -44.37737999999989,\n",
       "   'H': -128.8003400000002,\n",
       "   'N': -5.5009199999999945,\n",
       "   'O': -19.711309999999877,\n",
       "   'P': -0.9892799999999615,\n",
       "   'R': 0,\n",
       "   'S': -0.082,\n",
       "   'charge': -44.89506000000003},\n",
       "  'BIOTINLIG__45__RXN': {'C': -10.0,\n",
       "   'H': -14.0,\n",
       "   'N': -2.0,\n",
       "   'O': -2.0,\n",
       "   'P': 0,\n",
       "   'R': 0,\n",
       "   'S': -1.0,\n",
       "   'charge': 0},\n",
       "  'BIOTIN__45__CARBOXYL__45__RXN': {'C': -1.0,\n",
       "   'H': 1.0,\n",
       "   'N': 0,\n",
       "   'O': -2.0,\n",
       "   'P': 0,\n",
       "   'R': 0,\n",
       "   'S': 0,\n",
       "   'charge': 0},\n",
       "  'BTNtex': {'C': 0,\n",
       "   'H': 0,\n",
       "   'N': 0,\n",
       "   'O': 0,\n",
       "   'P': 0,\n",
       "   'R': 0,\n",
       "   'S': 0,\n",
       "   'charge': -1.0},\n",
       "  'BUTYRYL__45__COA__45__DEHYDROGENASE__45__RXN': {'C': 0,\n",
       "   'H': 3.0,\n",
       "   'N': 0,\n",
       "   'O': 0,\n",
       "   'P': 0,\n",
       "   'R': 0,\n",
       "   'S': 0,\n",
       "   'charge': 0},\n",
       "  'CARBONYL__45__REDUCTASE__45__NADPH__45__RXN': {'C': 0,\n",
       "   'H': -2.0,\n",
       "   'N': 0,\n",
       "   'O': 0,\n",
       "   'P': 0,\n",
       "   'R': 0,\n",
       "   'S': 0,\n",
       "   'charge': 0},\n",
       "  'CARBOXYLESTERASE__45__RXN': {'C': 0,\n",
       "   'H': -1.0,\n",
       "   'N': 0,\n",
       "   'O': -1.0,\n",
       "   'P': 0,\n",
       "   'R': 0,\n",
       "   'S': 0,\n",
       "   'charge': 0},\n",
       "  'CERAMIDASE__45__RXN': {'C': 18.0,\n",
       "   'H': 36.0,\n",
       "   'N': 1.0,\n",
       "   'O': 1.0,\n",
       "   'P': 0,\n",
       "   'R': 0,\n",
       "   'S': 0,\n",
       "   'charge': 0},\n",
       "  'CITRYLY__45__RXN': {'C': 4.0,\n",
       "   'H': 2.0,\n",
       "   'N': 0,\n",
       "   'O': 5.0,\n",
       "   'P': 0,\n",
       "   'R': 0,\n",
       "   'S': 0,\n",
       "   'charge': 0},\n",
       "  'CITTRANS__45__RXN': {'C': -4.0,\n",
       "   'H': -2.0,\n",
       "   'N': 0,\n",
       "   'O': -5.0,\n",
       "   'P': 0,\n",
       "   'R': 0,\n",
       "   'S': 0,\n",
       "   'charge': 0},\n",
       "  'CO2tex': {'C': 1.0,\n",
       "   'H': 0,\n",
       "   'N': 0,\n",
       "   'O': 2.0,\n",
       "   'P': 0,\n",
       "   'R': 0,\n",
       "   'S': 0,\n",
       "   'charge': 0},\n",
       "  'COA1819ZD9DS': {'C': 21.0,\n",
       "   'H': 27.0,\n",
       "   'N': 7.0,\n",
       "   'O': 14.0,\n",
       "   'P': 2.0,\n",
       "   'R': 0,\n",
       "   'S': 0,\n",
       "   'charge': -4.0},\n",
       "  'CYOOm_umay': {'C': 0,\n",
       "   'H': 0,\n",
       "   'N': 0,\n",
       "   'O': 0,\n",
       "   'P': 0,\n",
       "   'R': 0,\n",
       "   'S': 0,\n",
       "   'charge': -2.0},\n",
       "  'CYOR_u6m_umay': {'C': 0,\n",
       "   'H': 0,\n",
       "   'N': 0,\n",
       "   'O': 0,\n",
       "   'P': 0,\n",
       "   'R': 0,\n",
       "   'S': 0,\n",
       "   'charge': 2.0},\n",
       "  'CYSTRS': {'C': -3.0,\n",
       "   'H': -7.0,\n",
       "   'N': -1.0,\n",
       "   'O': -1.0,\n",
       "   'P': 0,\n",
       "   'R': 0,\n",
       "   'S': -1.0,\n",
       "   'charge': -1.0},\n",
       "  'CYTOCHROME__45__B5__45__REDUCTASE__45__RXN': {'C': 0,\n",
       "   'H': -1.0,\n",
       "   'N': 0,\n",
       "   'O': 0,\n",
       "   'P': 0,\n",
       "   'R': 0,\n",
       "   'S': 0,\n",
       "   'charge': 1.0},\n",
       "  'DEOXYHYPUSINE__45__MONOOXYGENASE__45__RXN': {'C': 0,\n",
       "   'H': 0,\n",
       "   'N': 0,\n",
       "   'O': -1.0,\n",
       "   'P': 0,\n",
       "   'R': 0,\n",
       "   'S': 0,\n",
       "   'charge': 0},\n",
       "  'DIPS': {'C': -1.0,\n",
       "   'H': -2.0,\n",
       "   'N': 0,\n",
       "   'O': 0,\n",
       "   'P': 0,\n",
       "   'R': 0,\n",
       "   'S': 0,\n",
       "   'charge': 0},\n",
       "  'DM_erythol_c': {'C': -4.0,\n",
       "   'H': -10.0,\n",
       "   'N': 0,\n",
       "   'O': -4.0,\n",
       "   'P': 0,\n",
       "   'R': 0,\n",
       "   'S': 0,\n",
       "   'charge': 0},\n",
       "  'D__45__AMINO__45__ACID__45__OXIDASE__45__RXN': {'C': 0,\n",
       "   'H': 4.0,\n",
       "   'N': 1.0,\n",
       "   'O': -1.0,\n",
       "   'P': 0,\n",
       "   'R': 0,\n",
       "   'S': 0,\n",
       "   'charge': 0},\n",
       "  'D__45__THREO__45__ALDOSE__45__1__45__DEHYDROGENASE__45__RXN': {'C': 0,\n",
       "   'H': 2.0,\n",
       "   'N': 0,\n",
       "   'O': 0,\n",
       "   'P': 0,\n",
       "   'R': 0,\n",
       "   'S': 0,\n",
       "   'charge': 0},\n",
       "  'EAR100y': {'C': 0,\n",
       "   'H': -2.0,\n",
       "   'N': 0,\n",
       "   'O': 0,\n",
       "   'P': 0,\n",
       "   'R': 0,\n",
       "   'S': 0,\n",
       "   'charge': 0},\n",
       "  'EAR120y': {'C': 0,\n",
       "   'H': -2.0,\n",
       "   'N': 0,\n",
       "   'O': 0,\n",
       "   'P': 0,\n",
       "   'R': 0,\n",
       "   'S': 0,\n",
       "   'charge': 0},\n",
       "  'EAR140y': {'C': 25.0,\n",
       "   'H': 45.0,\n",
       "   'N': 2.0,\n",
       "   'O': 8.0,\n",
       "   'P': 1.0,\n",
       "   'R': 1.0,\n",
       "   'S': 1.0,\n",
       "   'charge': -1.0},\n",
       "  'EAR160y': {'C': 27.0,\n",
       "   'H': 49.0,\n",
       "   'N': 2.0,\n",
       "   'O': 8.0,\n",
       "   'P': 1.0,\n",
       "   'R': 1.0,\n",
       "   'S': 1.0,\n",
       "   'charge': -1.0},\n",
       "  'EAR180y': {'C': 0,\n",
       "   'H': 2.0,\n",
       "   'N': 0,\n",
       "   'O': 0,\n",
       "   'P': 0,\n",
       "   'R': 0,\n",
       "   'S': 0,\n",
       "   'charge': 0},\n",
       "  'EAR40y': {'C': 0,\n",
       "   'H': -2.0,\n",
       "   'N': 0,\n",
       "   'O': 0,\n",
       "   'P': 0,\n",
       "   'R': 0,\n",
       "   'S': 0,\n",
       "   'charge': 0},\n",
       "  'EAR60y': {'C': 17.0,\n",
       "   'H': 29.0,\n",
       "   'N': 2.0,\n",
       "   'O': 8.0,\n",
       "   'P': 1.0,\n",
       "   'R': 1.0,\n",
       "   'S': 1.0,\n",
       "   'charge': -1.0},\n",
       "  'EAR80y': {'C': 19.0,\n",
       "   'H': 33.0,\n",
       "   'N': 2.0,\n",
       "   'O': 8.0,\n",
       "   'P': 1.0,\n",
       "   'R': 1.0,\n",
       "   'S': 1.0,\n",
       "   'charge': -1.0},\n",
       "  'ENOYL__45__ACP__45__REDUCT__45__NADPH__45__RXN': {'C': 0,\n",
       "   'H': 2.0,\n",
       "   'N': 0,\n",
       "   'O': 0,\n",
       "   'P': 0,\n",
       "   'R': 0,\n",
       "   'S': 0,\n",
       "   'charge': 0},\n",
       "  'ENOYL__45__COA__45__HYDRAT__45__RXN__45__CPD0__45__2232__47____47__POLYMER__45__INST__45__TRANS__45__D2__45__ENOYL__45__COA__45__C12__45__H24__47__WATER__46__57__46__': {'C': 0,\n",
       "   'H': 0,\n",
       "   'N': 0,\n",
       "   'O': 0,\n",
       "   'P': 0,\n",
       "   'R': 0,\n",
       "   'S': 0,\n",
       "   'charge': -4.0},\n",
       "  'ENOYL__45__COA__45__HYDRAT__45__RXN__45__POLYMER__45__INST__45__L__45__3__45__HYDROXYACYL__45__COA__45__C14__45__H28__47____47__CPD__45__10262__47__WATER__46__58__46__': {'C': 0,\n",
       "   'H': 0,\n",
       "   'N': 0,\n",
       "   'O': 0,\n",
       "   'P': 0,\n",
       "   'R': 0,\n",
       "   'S': 0,\n",
       "   'charge': 4.0},\n",
       "  'ENOYL__45__COA__45__HYDRAT__45__RXN__45__POLYMER__45__INST__45__L__45__3__45__HYDROXYACYL__45__COA__45__C8__45__H16__47____47__CPD__45__7222__47__WATER__46__56__46__': {'C': 0,\n",
       "   'H': 0,\n",
       "   'N': 0,\n",
       "   'O': 0,\n",
       "   'P': 0,\n",
       "   'R': 0,\n",
       "   'S': 0,\n",
       "   'charge': 4.0},\n",
       "  'FA120ACPHi_1': {'C': 23.0,\n",
       "   'H': 43.0,\n",
       "   'N': 2.0,\n",
       "   'O': 8.0,\n",
       "   'P': 1.0,\n",
       "   'R': 1.0,\n",
       "   'S': 1.0,\n",
       "   'charge': -1.0},\n",
       "  'FA181ACPHi': {'C': 29.0,\n",
       "   'H': 53.0,\n",
       "   'N': 2.0,\n",
       "   'O': 8.0,\n",
       "   'P': 1.0,\n",
       "   'R': 1.0,\n",
       "   'S': 1.0,\n",
       "   'charge': -1.0},\n",
       "  'FKYNH': {'C': 0,\n",
       "   'H': 0,\n",
       "   'N': 0,\n",
       "   'O': 0,\n",
       "   'P': 0,\n",
       "   'R': 0,\n",
       "   'S': 0,\n",
       "   'charge': 2.0},\n",
       "  'GALACTOSIDE__45__3__45__FUCOSYLTRANSFERASE__45__RXN': {'C': -6.0,\n",
       "   'H': -10.0,\n",
       "   'N': 0,\n",
       "   'O': -4.0,\n",
       "   'P': 0,\n",
       "   'R': 0,\n",
       "   'S': 0,\n",
       "   'charge': 0},\n",
       "  'GAMMA__45__GLUTAMYLCYCLOTRANSFERASE__45__RXN': {'C': 5.0,\n",
       "   'H': 6.0,\n",
       "   'N': 1.0,\n",
       "   'O': 3.0,\n",
       "   'P': 0,\n",
       "   'R': 0,\n",
       "   'S': 0,\n",
       "   'charge': 0},\n",
       "  'GCVT__45__RXN': {'C': 1.0,\n",
       "   'H': 4.0,\n",
       "   'N': 1.0,\n",
       "   'O': 0,\n",
       "   'P': 0,\n",
       "   'R': 0,\n",
       "   'S': 0,\n",
       "   'charge': 0},\n",
       "  'GLCt1': {'C': 6.0,\n",
       "   'H': 12.0,\n",
       "   'N': 0,\n",
       "   'O': 6.0,\n",
       "   'P': 0,\n",
       "   'R': 0,\n",
       "   'S': 0,\n",
       "   'charge': 0},\n",
       "  'GLNTRAT': {'C': 0,\n",
       "   'H': -2.0,\n",
       "   'N': -1.0,\n",
       "   'O': 1.0,\n",
       "   'P': 0,\n",
       "   'R': 0,\n",
       "   'S': 0,\n",
       "   'charge': 0},\n",
       "  'GLNTRS': {'C': -5.0,\n",
       "   'H': -10.0,\n",
       "   'N': -2.0,\n",
       "   'O': -2.0,\n",
       "   'P': 0,\n",
       "   'R': 0,\n",
       "   'S': 0,\n",
       "   'charge': -1.0},\n",
       "  'GLUCOSE__45__1__45__DEHYDROGENASE__45__RXN': {'C': 0,\n",
       "   'H': -1.0,\n",
       "   'N': 0,\n",
       "   'O': 0,\n",
       "   'P': 0,\n",
       "   'R': 0,\n",
       "   'S': 0,\n",
       "   'charge': 0},\n",
       "  'GLURS__45__RXN': {'C': -5.0,\n",
       "   'H': -8.0,\n",
       "   'N': -1.0,\n",
       "   'O': -3.0,\n",
       "   'P': 0,\n",
       "   'R': 0,\n",
       "   'S': 0,\n",
       "   'charge': -1.0},\n",
       "  'GLUTARYL__45__COA__45__DEHYDROG__45__RXN': {'C': 0,\n",
       "   'H': -3.0,\n",
       "   'N': 0,\n",
       "   'O': 0,\n",
       "   'P': 0,\n",
       "   'R': 0,\n",
       "   'S': 0,\n",
       "   'charge': 0},\n",
       "  'GLUTRS_Gln': {'C': -5.0,\n",
       "   'H': -8.0,\n",
       "   'N': -1.0,\n",
       "   'O': -3.0,\n",
       "   'P': 0,\n",
       "   'R': 0,\n",
       "   'S': 0,\n",
       "   'charge': -1.0},\n",
       "  'GLYCINE__45____45__TRNA__45__LIGASE__45__RXN': {'C': -2.0,\n",
       "   'H': -5.0,\n",
       "   'N': -1.0,\n",
       "   'O': -1.0,\n",
       "   'P': 0,\n",
       "   'R': 0,\n",
       "   'S': 0,\n",
       "   'charge': -1.0},\n",
       "  'GLYCPDIESTER__45__RXN': {'C': 3.0,\n",
       "   'H': 6.0,\n",
       "   'N': 0,\n",
       "   'O': 5.0,\n",
       "   'P': 1.0,\n",
       "   'R': 0,\n",
       "   'S': 0,\n",
       "   'charge': 0},\n",
       "  'HEME__45__OXYGENASE__45__DECYCLIZING__45__RXN': {'C': 0,\n",
       "   'H': 2.0,\n",
       "   'N': 0,\n",
       "   'O': 0,\n",
       "   'P': 0,\n",
       "   'R': 0,\n",
       "   'S': 0,\n",
       "   'charge': 2.0},\n",
       "  'HISTIDINE__45____45__TRNA__45__LIGASE__45__RXN': {'C': -6.0,\n",
       "   'H': -9.0,\n",
       "   'N': -3.0,\n",
       "   'O': -1.0,\n",
       "   'P': 0,\n",
       "   'R': 0,\n",
       "   'S': 0,\n",
       "   'charge': -1.0},\n",
       "  'HISTONE__45__ACETYLTRANSFERASE__45__RXN': {'C': -2.0,\n",
       "   'H': -1.0,\n",
       "   'N': 0,\n",
       "   'O': -1.0,\n",
       "   'P': 0,\n",
       "   'R': 0,\n",
       "   'S': 0,\n",
       "   'charge': 0},\n",
       "  'HISTONE__45__LYSINE__45__N__45__METHYLTRANSFERASE__45__RXN': {'C': -1.0,\n",
       "   'H': -2.0,\n",
       "   'N': 0,\n",
       "   'O': 0,\n",
       "   'P': 0,\n",
       "   'R': 0,\n",
       "   'S': 0,\n",
       "   'charge': 0},\n",
       "  'Hexaprenyl__45__Diphosphate__45__Biosynthesis__45__RXN': {'C': 10.0,\n",
       "   'H': 18.0,\n",
       "   'N': 0,\n",
       "   'O': 14.0,\n",
       "   'P': 4.0,\n",
       "   'R': 0,\n",
       "   'S': 0,\n",
       "   'charge': -6.0},\n",
       "  'ISOLEUCINE__45____45__TRNA__45__LIGASE__45__RXN': {'C': -6.0,\n",
       "   'H': -13.0,\n",
       "   'N': -1.0,\n",
       "   'O': -1.0,\n",
       "   'P': 0,\n",
       "   'R': 0,\n",
       "   'S': 0,\n",
       "   'charge': -1.0},\n",
       "  'KAS14': {'C': 12.0,\n",
       "   'H': 20.0,\n",
       "   'N': 2.0,\n",
       "   'O': 9.0,\n",
       "   'P': 1.0,\n",
       "   'R': 1.0,\n",
       "   'S': 1.0,\n",
       "   'charge': -1.0},\n",
       "  'KETOACYLCOATHIOL__45__RXN__45__PALMITYL__45__COA__47__ACETYL__45__COA__47____47__POLYMER__45__INST__45__3__45__KETOACYL__45__COA__45__C14__45__H28__47__CO__45__A__46__66__46__': {'C': 0,\n",
       "   'H': 0,\n",
       "   'N': 0,\n",
       "   'O': 0,\n",
       "   'P': 0,\n",
       "   'R': 0,\n",
       "   'S': 0,\n",
       "   'charge': -4.0},\n",
       "  'LEUCINE__45____45__TRNA__45__LIGASE__45__RXN': {'C': -6.0,\n",
       "   'H': -13.0,\n",
       "   'N': -1.0,\n",
       "   'O': -1.0,\n",
       "   'P': 0,\n",
       "   'R': 0,\n",
       "   'S': 0,\n",
       "   'charge': -1.0},\n",
       "  'LONG__45__CHAIN__45__ENOYL__45__COA__45__HYDRATASE__45__RXN': {'C': 0,\n",
       "   'H': 2.0,\n",
       "   'N': 0,\n",
       "   'O': 1.0,\n",
       "   'P': 0,\n",
       "   'R': 0,\n",
       "   'S': 0,\n",
       "   'charge': 0},\n",
       "  'LYSINE__45____45__TRNA__45__LIGASE__45__RXN': {'C': -6.0,\n",
       "   'H': -15.0,\n",
       "   'N': -2.0,\n",
       "   'O': -1.0,\n",
       "   'P': 0,\n",
       "   'R': 0,\n",
       "   'S': 0,\n",
       "   'charge': -1.0},\n",
       "  'LYSOPHOSPHOLIPASE__45__RXN': {'C': 8.0,\n",
       "   'H': 19.0,\n",
       "   'N': 1.0,\n",
       "   'O': 5.0,\n",
       "   'P': 1.0,\n",
       "   'R': 0,\n",
       "   'S': 0,\n",
       "   'charge': 0},\n",
       "  'MCOATA': {'C': -14.0,\n",
       "   'H': -22.0,\n",
       "   'N': -2.0,\n",
       "   'O': -10.0,\n",
       "   'P': -1.0,\n",
       "   'R': -1.0,\n",
       "   'S': -1.0,\n",
       "   'charge': 1.0},\n",
       "  'METHIONINE__45____45__TRNA__45__LIGASE__45__RXN': {'C': -5.0,\n",
       "   'H': -11.0,\n",
       "   'N': -1.0,\n",
       "   'O': -1.0,\n",
       "   'P': 0,\n",
       "   'R': 0,\n",
       "   'S': -1.0,\n",
       "   'charge': -1.0},\n",
       "  'METHIONYL__45__TRNA__45__FORMYLTRANSFERASE__45__RXN': {'C': -1.0,\n",
       "   'H': 0,\n",
       "   'N': 0,\n",
       "   'O': -1.0,\n",
       "   'P': 0,\n",
       "   'R': 0,\n",
       "   'S': 0,\n",
       "   'charge': 0},\n",
       "  'MYOSIN__45__LIGHT__45__CHAIN__45__PHOSPHATASE__45__RXN': {'C': 0,\n",
       "   'H': 1.0,\n",
       "   'N': 0,\n",
       "   'O': 3.0,\n",
       "   'P': 1.0,\n",
       "   'R': 0,\n",
       "   'S': 0,\n",
       "   'charge': 0},\n",
       "  'NGAM': {'C': 0,\n",
       "   'H': -1.0,\n",
       "   'N': 0,\n",
       "   'O': 0,\n",
       "   'P': 0,\n",
       "   'R': 0,\n",
       "   'S': 0,\n",
       "   'charge': -1.0},\n",
       "  'OHACYL__45__COA__45__DEHYDROG__45__RXN__45__POLYMER__45__INST__45__L__45__3__45__HYDROXYACYL__45__COA__45__C10__45__H20__47__NAD__47____47__CPD__45__10284__47__NADH__47__PROTON__46__68__46__': {'C': 0,\n",
       "   'H': 0,\n",
       "   'N': 0,\n",
       "   'O': 0,\n",
       "   'P': 0,\n",
       "   'R': 0,\n",
       "   'S': 0,\n",
       "   'charge': -4.0},\n",
       "  'OHACYL__45__COA__45__DEHYDROG__45__RXN__45__POLYMER__45__INST__45__L__45__3__45__HYDROXYACYL__45__COA__45__C16__45__H32__47__NAD__47____47__CPD__45__14271__47__NADH__47__PROTON__46__68__46__': {'C': 0,\n",
       "   'H': 0,\n",
       "   'N': 0,\n",
       "   'O': 0,\n",
       "   'P': 0,\n",
       "   'R': 0,\n",
       "   'S': 0,\n",
       "   'charge': -4.0},\n",
       "  'OHACYL__45__COA__45__DEHYDROG__45__RXN__45__POLYMER__45__INST__45__L__45__3__45__HYDROXYACYL__45__COA__45__C8__45__H16__47__NAD__47____47__CPD0__45__2105__47__NADH__47__PROTON__46__67__46__': {'C': 0,\n",
       "   'H': 0,\n",
       "   'N': 0,\n",
       "   'O': 0,\n",
       "   'P': 0,\n",
       "   'R': 0,\n",
       "   'S': 0,\n",
       "   'charge': -4.0},\n",
       "  'Oxidization_FADH2': {'C': 0,\n",
       "   'H': -1.0,\n",
       "   'N': 0,\n",
       "   'O': 0,\n",
       "   'P': 0,\n",
       "   'R': 0,\n",
       "   'S': 0,\n",
       "   'charge': -1.0},\n",
       "  'PAPSR': {'C': 0,\n",
       "   'H': 2.0,\n",
       "   'N': 0,\n",
       "   'O': 0,\n",
       "   'P': 0,\n",
       "   'R': 0,\n",
       "   'S': 0,\n",
       "   'charge': 0},\n",
       "  'PHENOL__45__BETA__45__GLUCOSYLTRANSFERASE__45__RXN': {'C': -6.0,\n",
       "   'H': -10.0,\n",
       "   'N': 0,\n",
       "   'O': -5.0,\n",
       "   'P': 0,\n",
       "   'R': 0,\n",
       "   'S': 0,\n",
       "   'charge': 0},\n",
       "  'PHENYLALANINE__45____45__TRNA__45__LIGASE__45__RXN': {'C': -9.0,\n",
       "   'H': -11.0,\n",
       "   'N': -1.0,\n",
       "   'O': -1.0,\n",
       "   'P': 0,\n",
       "   'R': 0,\n",
       "   'S': 0,\n",
       "   'charge': -1.0},\n",
       "  'PHOSPHATIDATE__45__PHOSPHATASE__45__RXN': {'C': 0,\n",
       "   'H': -1.0,\n",
       "   'N': 0,\n",
       "   'O': 3.0,\n",
       "   'P': 1.0,\n",
       "   'R': 0,\n",
       "   'S': 0,\n",
       "   'charge': 0},\n",
       "  'PHOSPHATIDYLCHOLINE__45__DESATURASE__45__RXN': {'C': 0,\n",
       "   'H': 2.0,\n",
       "   'N': 0,\n",
       "   'O': 0,\n",
       "   'P': 0,\n",
       "   'R': 0,\n",
       "   'S': 0,\n",
       "   'charge': 0},\n",
       "  'PHOSPHATIDYLINOSITOL__45__3__45__PHOSPHATASE__45__RXN': {'C': 0,\n",
       "   'H': -1.0,\n",
       "   'N': 0,\n",
       "   'O': 3.0,\n",
       "   'P': 1.0,\n",
       "   'R': 0,\n",
       "   'S': 0,\n",
       "   'charge': 0},\n",
       "  'PHOSPHATIDYLINOSITOL__45__BISPHOSPHATASE__45__RXN': {'C': 0,\n",
       "   'H': -1.0,\n",
       "   'N': 0,\n",
       "   'O': 3.0,\n",
       "   'P': 1.0,\n",
       "   'R': 0,\n",
       "   'S': 0,\n",
       "   'charge': 0},\n",
       "  'PHOSPHOLIPASE__45__A1__45__RXN': {'C': -40.0,\n",
       "   'H': -81.0,\n",
       "   'N': -1.0,\n",
       "   'O': -9.0,\n",
       "   'P': -1.0,\n",
       "   'R': 0,\n",
       "   'S': 0,\n",
       "   'charge': 0},\n",
       "  'PHOSPHOLIPASE__45__C__45__RXN': {'C': -35.0,\n",
       "   'H': -68.0,\n",
       "   'N': 0,\n",
       "   'O': -5.0,\n",
       "   'P': 0,\n",
       "   'R': 0,\n",
       "   'S': 0,\n",
       "   'charge': 0},\n",
       "  'PNTO_Rtex': {'C': -9.0,\n",
       "   'H': -16.0,\n",
       "   'N': -1.0,\n",
       "   'O': -5.0,\n",
       "   'P': 0,\n",
       "   'R': 0,\n",
       "   'S': 0,\n",
       "   'charge': 0},\n",
       "  'PRODISULFREDUCT__45__A__45__RXN': {'C': 0,\n",
       "   'H': -2.0,\n",
       "   'N': 0,\n",
       "   'O': 0,\n",
       "   'P': 0,\n",
       "   'R': 0,\n",
       "   'S': 0,\n",
       "   'charge': 0},\n",
       "  'PROLINE__45____45__TRNA__45__LIGASE__45__RXN': {'C': -5.0,\n",
       "   'H': -9.0,\n",
       "   'N': -1.0,\n",
       "   'O': -1.0,\n",
       "   'P': 0,\n",
       "   'R': 0,\n",
       "   'S': 0,\n",
       "   'charge': -1.0},\n",
       "  'PROTEIN__45__KINASE__45__RXN': {'C': 0,\n",
       "   'H': 1.0,\n",
       "   'N': 0,\n",
       "   'O': -3.0,\n",
       "   'P': -1.0,\n",
       "   'R': 0,\n",
       "   'S': 0,\n",
       "   'charge': 0},\n",
       "  'PROTEIN__45__TYROSINE__45__PHOSPHATASE__45__RXN': {'C': 0,\n",
       "   'H': -1.0,\n",
       "   'N': 0,\n",
       "   'O': 3.0,\n",
       "   'P': 1.0,\n",
       "   'R': 0,\n",
       "   'S': 0,\n",
       "   'charge': 0},\n",
       "  'PSD160': {'C': 0,\n",
       "   'H': 0,\n",
       "   'N': 0,\n",
       "   'O': 0,\n",
       "   'P': 0,\n",
       "   'R': 0,\n",
       "   'S': 0,\n",
       "   'charge': -1.0},\n",
       "  'PSSA160': {'C': 0,\n",
       "   'H': 0,\n",
       "   'N': 0,\n",
       "   'O': 0,\n",
       "   'P': 0,\n",
       "   'R': 0,\n",
       "   'S': 0,\n",
       "   'charge': 1.0},\n",
       "  'Putative_Trans_Aconitate_Decarboxylase': {'C': 0,\n",
       "   'H': 1.0,\n",
       "   'N': 0,\n",
       "   'O': 0,\n",
       "   'P': 0,\n",
       "   'R': 0,\n",
       "   'S': 0,\n",
       "   'charge': 1.0},\n",
       "  'R265__45__RXN': {'C': 0,\n",
       "   'H': -3.0,\n",
       "   'N': 0,\n",
       "   'O': 0,\n",
       "   'P': 0,\n",
       "   'R': 0,\n",
       "   'S': 0,\n",
       "   'charge': 0},\n",
       "  'R282__45__RXN': {'C': 0,\n",
       "   'H': -3.0,\n",
       "   'N': 0,\n",
       "   'O': 0,\n",
       "   'P': 0,\n",
       "   'R': 0,\n",
       "   'S': 0,\n",
       "   'charge': 0},\n",
       "  'RIBONUCLEOSIDE__45__DIP__45__REDUCTI__45__RXN': {'C': 0,\n",
       "   'H': -2.0,\n",
       "   'N': 0,\n",
       "   'O': -1.0,\n",
       "   'P': 0,\n",
       "   'R': 0,\n",
       "   'S': 0,\n",
       "   'charge': 0},\n",
       "  'RNDR1n': {'C': 0,\n",
       "   'H': -2.0,\n",
       "   'N': 0,\n",
       "   'O': 0,\n",
       "   'P': 0,\n",
       "   'R': 0,\n",
       "   'S': 0,\n",
       "   'charge': 0},\n",
       "  'RNDR2n': {'C': 0,\n",
       "   'H': 2.0,\n",
       "   'N': 0,\n",
       "   'O': 0,\n",
       "   'P': 0,\n",
       "   'R': 0,\n",
       "   'S': 0,\n",
       "   'charge': 0},\n",
       "  'RNDR3n': {'C': 0,\n",
       "   'H': 2.0,\n",
       "   'N': 0,\n",
       "   'O': 0,\n",
       "   'P': 0,\n",
       "   'R': 0,\n",
       "   'S': 0,\n",
       "   'charge': 0},\n",
       "  'RNDR4n': {'C': 0,\n",
       "   'H': 2.0,\n",
       "   'N': 0,\n",
       "   'O': 0,\n",
       "   'P': 0,\n",
       "   'R': 0,\n",
       "   'S': 0,\n",
       "   'charge': 0},\n",
       "  'RXN0__45__1134': {'C': -2.0,\n",
       "   'H': -4.0,\n",
       "   'N': 0,\n",
       "   'O': -1.0,\n",
       "   'P': 0,\n",
       "   'R': 0,\n",
       "   'S': 0,\n",
       "   'charge': 0},\n",
       "  'RXN0__45__2142': {'C': 0,\n",
       "   'H': 2.0,\n",
       "   'N': 0,\n",
       "   'O': 0,\n",
       "   'P': 0,\n",
       "   'R': 0,\n",
       "   'S': 0,\n",
       "   'charge': 0},\n",
       "  'RXN0__45__2161': {'C': -3.0,\n",
       "   'H': -7.0,\n",
       "   'N': -1.0,\n",
       "   'O': -2.0,\n",
       "   'P': 0,\n",
       "   'R': 0,\n",
       "   'S': 0,\n",
       "   'charge': -1.0},\n",
       "  'RXN0__45__5055': {'C': 1.0,\n",
       "   'H': -1.0,\n",
       "   'N': 0,\n",
       "   'O': 2.0,\n",
       "   'P': 0,\n",
       "   'R': 0,\n",
       "   'S': 0,\n",
       "   'charge': 0},\n",
       "  'RXN0__45__5468': {'C': 0,\n",
       "   'H': 2.0,\n",
       "   'N': 0,\n",
       "   'O': 1.0,\n",
       "   'P': 0,\n",
       "   'R': 0,\n",
       "   'S': 0,\n",
       "   'charge': 0},\n",
       "  'RXN0__45__5514': {'C': 11.0,\n",
       "   'H': 21.0,\n",
       "   'N': 2.0,\n",
       "   'O': 7.0,\n",
       "   'P': 1.0,\n",
       "   'R': 1.0,\n",
       "   'S': 1.0,\n",
       "   'charge': -1.0},\n",
       "  'RXN0__45__5515': {'C': -9.0,\n",
       "   'H': -12.0,\n",
       "   'N': -3.0,\n",
       "   'O': -7.0,\n",
       "   'P': -1.0,\n",
       "   'R': 0,\n",
       "   'S': 0,\n",
       "   'charge': 0},\n",
       "  'RXN0__45__6274': {'C': -5.0,\n",
       "   'H': -8.0,\n",
       "   'N': 0,\n",
       "   'O': 0,\n",
       "   'P': 0,\n",
       "   'R': 0,\n",
       "   'S': 0,\n",
       "   'charge': 0},\n",
       "  'RXN0__45__6359': {'C': 0,\n",
       "   'H': 1.0,\n",
       "   'N': 0,\n",
       "   'O': 0,\n",
       "   'P': 0,\n",
       "   'R': 0,\n",
       "   'S': 1.0,\n",
       "   'charge': 1.0},\n",
       "  'RXN0__45__7080': {'C': 0,\n",
       "   'H': 0,\n",
       "   'N': 0,\n",
       "   'O': 0,\n",
       "   'P': 0,\n",
       "   'R': 0,\n",
       "   'S': 0,\n",
       "   'charge': 1.0},\n",
       "  'RXN0__45__949': {'C': 0,\n",
       "   'H': 4.0,\n",
       "   'N': 0,\n",
       "   'O': 0,\n",
       "   'P': 0,\n",
       "   'R': 0,\n",
       "   'S': 0,\n",
       "   'charge': 0},\n",
       "  'RXN1A0__45__6303': {'C': 0,\n",
       "   'H': -1.0,\n",
       "   'N': 0,\n",
       "   'O': 0,\n",
       "   'P': 0,\n",
       "   'R': 0,\n",
       "   'S': 0,\n",
       "   'charge': 1.0},\n",
       "  'RXN1G__45__1050': {'C': 0,\n",
       "   'H': 2.0,\n",
       "   'N': 0,\n",
       "   'O': 0,\n",
       "   'P': 0,\n",
       "   'R': 0,\n",
       "   'S': 0,\n",
       "   'charge': 0},\n",
       "  'RXN1G__45__1053': {'C': 0,\n",
       "   'H': 2.0,\n",
       "   'N': 0,\n",
       "   'O': 0,\n",
       "   'P': 0,\n",
       "   'R': 0,\n",
       "   'S': 0,\n",
       "   'charge': 0},\n",
       "  'RXN1G__45__1247': {'C': 0,\n",
       "   'H': 2.0,\n",
       "   'N': 0,\n",
       "   'O': 0,\n",
       "   'P': 0,\n",
       "   'R': 0,\n",
       "   'S': 0,\n",
       "   'charge': 0},\n",
       "  'RXN1G__45__163': {'C': 0,\n",
       "   'H': 2.0,\n",
       "   'N': 0,\n",
       "   'O': 0,\n",
       "   'P': 0,\n",
       "   'R': 0,\n",
       "   'S': 0,\n",
       "   'charge': 0},\n",
       "  'RXN1G__45__182': {'C': 0,\n",
       "   'H': 2.0,\n",
       "   'N': 0,\n",
       "   'O': 0,\n",
       "   'P': 0,\n",
       "   'R': 0,\n",
       "   'S': 0,\n",
       "   'charge': 0},\n",
       "  'RXN1G__45__184': {'C': 0,\n",
       "   'H': 2.0,\n",
       "   'N': 0,\n",
       "   'O': 0,\n",
       "   'P': 0,\n",
       "   'R': 0,\n",
       "   'S': 0,\n",
       "   'charge': 0},\n",
       "  'RXN1G__45__203': {'C': 0,\n",
       "   'H': 2.0,\n",
       "   'N': 0,\n",
       "   'O': 0,\n",
       "   'P': 0,\n",
       "   'R': 0,\n",
       "   'S': 0,\n",
       "   'charge': 0},\n",
       "  'RXN1G__45__240': {'C': 0,\n",
       "   'H': 2.0,\n",
       "   'N': 0,\n",
       "   'O': 0,\n",
       "   'P': 0,\n",
       "   'R': 0,\n",
       "   'S': 0,\n",
       "   'charge': 0},\n",
       "  'RXN1G__45__252': {'C': 0,\n",
       "   'H': 2.0,\n",
       "   'N': 0,\n",
       "   'O': 0,\n",
       "   'P': 0,\n",
       "   'R': 0,\n",
       "   'S': 0,\n",
       "   'charge': 0},\n",
       "  'RXN1G__45__260': {'C': 0,\n",
       "   'H': 2.0,\n",
       "   'N': 0,\n",
       "   'O': 0,\n",
       "   'P': 0,\n",
       "   'R': 0,\n",
       "   'S': 0,\n",
       "   'charge': 0},\n",
       "  'RXN1G__45__262': {'C': 0,\n",
       "   'H': 2.0,\n",
       "   'N': 0,\n",
       "   'O': 0,\n",
       "   'P': 0,\n",
       "   'R': 0,\n",
       "   'S': 0,\n",
       "   'charge': 0},\n",
       "  'RXN1G__45__287': {'C': 0,\n",
       "   'H': 2.0,\n",
       "   'N': 0,\n",
       "   'O': 0,\n",
       "   'P': 0,\n",
       "   'R': 0,\n",
       "   'S': 0,\n",
       "   'charge': 0},\n",
       "  'RXN1G__45__320': {'C': 0,\n",
       "   'H': 2.0,\n",
       "   'N': 0,\n",
       "   'O': 1.0,\n",
       "   'P': 0,\n",
       "   'R': 0,\n",
       "   'S': 0,\n",
       "   'charge': 0},\n",
       "  'RXN1G__45__358': {'C': 0,\n",
       "   'H': 2.0,\n",
       "   'N': 0,\n",
       "   'O': 0,\n",
       "   'P': 0,\n",
       "   'R': 0,\n",
       "   'S': 0,\n",
       "   'charge': 0},\n",
       "  'RXN1G__45__363': {'C': 0,\n",
       "   'H': 2.0,\n",
       "   'N': 0,\n",
       "   'O': 1.0,\n",
       "   'P': 0,\n",
       "   'R': 0,\n",
       "   'S': 0,\n",
       "   'charge': 0},\n",
       "  'RXN1G__45__364': {'C': 0,\n",
       "   'H': 2.0,\n",
       "   'N': 0,\n",
       "   'O': 0,\n",
       "   'P': 0,\n",
       "   'R': 0,\n",
       "   'S': 0,\n",
       "   'charge': 0},\n",
       "  'RXN1G__45__384': {'C': 0,\n",
       "   'H': 2.0,\n",
       "   'N': 0,\n",
       "   'O': 0,\n",
       "   'P': 0,\n",
       "   'R': 0,\n",
       "   'S': 0,\n",
       "   'charge': 0},\n",
       "  'RXN1G__45__408': {'C': 0,\n",
       "   'H': 2.0,\n",
       "   'N': 0,\n",
       "   'O': 0,\n",
       "   'P': 0,\n",
       "   'R': 0,\n",
       "   'S': 0,\n",
       "   'charge': 0},\n",
       "  'RXN1G__45__409': {'C': 0,\n",
       "   'H': 2.0,\n",
       "   'N': 0,\n",
       "   'O': 0,\n",
       "   'P': 0,\n",
       "   'R': 0,\n",
       "   'S': 0,\n",
       "   'charge': 0},\n",
       "  'RXN1G__45__469': {'C': 0,\n",
       "   'H': 2.0,\n",
       "   'N': 0,\n",
       "   'O': 0,\n",
       "   'P': 0,\n",
       "   'R': 0,\n",
       "   'S': 0,\n",
       "   'charge': 0},\n",
       "  'RXN1G__45__481': {'C': 0,\n",
       "   'H': 2.0,\n",
       "   'N': 0,\n",
       "   'O': 0,\n",
       "   'P': 0,\n",
       "   'R': 0,\n",
       "   'S': 0,\n",
       "   'charge': 0},\n",
       "  'RXN1G__45__517': {'C': 0,\n",
       "   'H': 2.0,\n",
       "   'N': 0,\n",
       "   'O': 1.0,\n",
       "   'P': 0,\n",
       "   'R': 0,\n",
       "   'S': 0,\n",
       "   'charge': 0},\n",
       "  'RXN1G__45__613': {'C': 0,\n",
       "   'H': 2.0,\n",
       "   'N': 0,\n",
       "   'O': 0,\n",
       "   'P': 0,\n",
       "   'R': 0,\n",
       "   'S': 0,\n",
       "   'charge': 0},\n",
       "  'RXN1G__45__617': {'C': 0,\n",
       "   'H': 2.0,\n",
       "   'N': 0,\n",
       "   'O': 0,\n",
       "   'P': 0,\n",
       "   'R': 0,\n",
       "   'S': 0,\n",
       "   'charge': 0},\n",
       "  'RXN1G__45__637': {'C': 0,\n",
       "   'H': 2.0,\n",
       "   'N': 0,\n",
       "   'O': 0,\n",
       "   'P': 0,\n",
       "   'R': 0,\n",
       "   'S': 0,\n",
       "   'charge': 0},\n",
       "  'RXN1G__45__717': {'C': 0,\n",
       "   'H': 2.0,\n",
       "   'N': 0,\n",
       "   'O': 0,\n",
       "   'P': 0,\n",
       "   'R': 0,\n",
       "   'S': 0,\n",
       "   'charge': 0},\n",
       "  'RXN1G__45__72': {'C': 0,\n",
       "   'H': 2.0,\n",
       "   'N': 0,\n",
       "   'O': 0,\n",
       "   'P': 0,\n",
       "   'R': 0,\n",
       "   'S': 0,\n",
       "   'charge': 0},\n",
       "  'RXN1G__45__853': {'C': 0,\n",
       "   'H': 2.0,\n",
       "   'N': 0,\n",
       "   'O': 0,\n",
       "   'P': 0,\n",
       "   'R': 0,\n",
       "   'S': 0,\n",
       "   'charge': 0},\n",
       "  'RXN1G__45__881': {'C': 0,\n",
       "   'H': 2.0,\n",
       "   'N': 0,\n",
       "   'O': 0,\n",
       "   'P': 0,\n",
       "   'R': 0,\n",
       "   'S': 0,\n",
       "   'charge': 0},\n",
       "  'RXN1G__45__951': {'C': 0,\n",
       "   'H': 2.0,\n",
       "   'N': 0,\n",
       "   'O': 0,\n",
       "   'P': 0,\n",
       "   'R': 0,\n",
       "   'S': 0,\n",
       "   'charge': 0},\n",
       "  'RXN3DJ__45__11100': {'C': 0,\n",
       "   'H': 3.0,\n",
       "   'N': 0,\n",
       "   'O': 0,\n",
       "   'P': 0,\n",
       "   'R': 0,\n",
       "   'S': 0,\n",
       "   'charge': 0},\n",
       "  'RXN3DJ__45__118': {'C': 3.0,\n",
       "   'H': -7.0,\n",
       "   'N': 6.0,\n",
       "   'O': 14.0,\n",
       "   'P': 3.0,\n",
       "   'R': 0,\n",
       "   'S': 1.0,\n",
       "   'charge': 0},\n",
       "  'RXN66__45__469': {'C': -21.0,\n",
       "   'H': -31.0,\n",
       "   'N': -7.0,\n",
       "   'O': -15.0,\n",
       "   'P': -3.0,\n",
       "   'R': 0,\n",
       "   'S': -1.0,\n",
       "   'charge': 0},\n",
       "  'RXN66__45__472': {'C': 0,\n",
       "   'H': 1.0,\n",
       "   'N': 0,\n",
       "   'O': -1.0,\n",
       "   'P': 0,\n",
       "   'R': 0,\n",
       "   'S': 0,\n",
       "   'charge': 0},\n",
       "  'RXN66__45__474': {'C': -21.0,\n",
       "   'H': -31.0,\n",
       "   'N': -7.0,\n",
       "   'O': -15.0,\n",
       "   'P': -3.0,\n",
       "   'R': 0,\n",
       "   'S': -1.0,\n",
       "   'charge': 0},\n",
       "  'RXN66__45__476': {'C': 0,\n",
       "   'H': 1.0,\n",
       "   'N': 0,\n",
       "   'O': -1.0,\n",
       "   'P': 0,\n",
       "   'R': 0,\n",
       "   'S': 0,\n",
       "   'charge': 0},\n",
       "  'RXN66__45__477': {'C': -21.0,\n",
       "   'H': -31.0,\n",
       "   'N': -7.0,\n",
       "   'O': -15.0,\n",
       "   'P': -3.0,\n",
       "   'R': 0,\n",
       "   'S': -1.0,\n",
       "   'charge': 0},\n",
       "  'RXN66__45__485__45__CPD__45__10261__47__NAD__47____47__POLYMER__45__INST__45__3__45__KETOACYL__45__COA__45__C14__45__H28__47__NADH__47__PROTON__46__63__46__': {'C': 0,\n",
       "   'H': 0,\n",
       "   'N': 0,\n",
       "   'O': 0,\n",
       "   'P': 0,\n",
       "   'R': 0,\n",
       "   'S': 0,\n",
       "   'charge': 4.0},\n",
       "  'RXN66__45__485__45__POLYMER__45__INST__45__D__45__3__45__HYDROXYACYL__45__COA__45__C10__45__H20__47__NAD__47____47__CPD__45__10284__47__NADH__47__PROTON__46__68__46__': {'C': 0,\n",
       "   'H': 0,\n",
       "   'N': 0,\n",
       "   'O': 0,\n",
       "   'P': 0,\n",
       "   'R': 0,\n",
       "   'S': 0,\n",
       "   'charge': -4.0},\n",
       "  'RXN66__45__485__45__POLYMER__45__INST__45__D__45__3__45__HYDROXYACYL__45__COA__45__C12__45__H24__47__NAD__47____47__3__45__OXOPALMITOYL__45__COA__47__NADH__47__PROTON__46__77__46__': {'C': 0,\n",
       "   'H': 0,\n",
       "   'N': 0,\n",
       "   'O': 0,\n",
       "   'P': 0,\n",
       "   'R': 0,\n",
       "   'S': 0,\n",
       "   'charge': -4.0},\n",
       "  'RXN66__45__485__45__POLYMER__45__INST__45__D__45__3__45__HYDROXYACYL__45__COA__45__C2__45__H4__47__NAD__47____47__K__45__HEXANOYL__45__COA__47__NADH__47__PROTON__46__71__46__': {'C': 0,\n",
       "   'H': 0,\n",
       "   'N': 0,\n",
       "   'O': 0,\n",
       "   'P': 0,\n",
       "   'R': 0,\n",
       "   'S': 0,\n",
       "   'charge': -4.0},\n",
       "  'RXN66__45__485__45__POLYMER__45__INST__45__D__45__3__45__HYDROXYACYL__45__COA__45__C4__45__H8__47__NAD__47____47__CPD0__45__2106__47__NADH__47__PROTON__46__66__46__': {'C': 0,\n",
       "   'H': 0,\n",
       "   'N': 0,\n",
       "   'O': 0,\n",
       "   'P': 0,\n",
       "   'R': 0,\n",
       "   'S': 0,\n",
       "   'charge': -4.0},\n",
       "  'RXN66__45__485__45__POLYMER__45__INST__45__D__45__3__45__HYDROXYACYL__45__COA__45__C8__45__H16__47__NAD__47____47__CPD0__45__2105__47__NADH__47__PROTON__46__67__46__': {'C': 0,\n",
       "   'H': 0,\n",
       "   'N': 0,\n",
       "   'O': 0,\n",
       "   'P': 0,\n",
       "   'R': 0,\n",
       "   'S': 0,\n",
       "   'charge': -4.0},\n",
       "  'RXN__45__10655': {'C': 0,\n",
       "   'H': 2.0,\n",
       "   'N': 0,\n",
       "   'O': 0,\n",
       "   'P': 0,\n",
       "   'R': 0,\n",
       "   'S': 0,\n",
       "   'charge': 0},\n",
       "  'RXN__45__10659': {'C': 0,\n",
       "   'H': 2.0,\n",
       "   'N': 0,\n",
       "   'O': 0,\n",
       "   'P': 0,\n",
       "   'R': 0,\n",
       "   'S': 0,\n",
       "   'charge': 0},\n",
       "  'RXN__45__10938': {'C': 0,\n",
       "   'H': -1.0,\n",
       "   'N': 0,\n",
       "   'O': 3.0,\n",
       "   'P': 1.0,\n",
       "   'R': 0,\n",
       "   'S': 0,\n",
       "   'charge': 0},\n",
       "  'RXN__45__10958': {'C': 0,\n",
       "   'H': -1.0,\n",
       "   'N': 0,\n",
       "   'O': 3.0,\n",
       "   'P': 1.0,\n",
       "   'R': 0,\n",
       "   'S': 0,\n",
       "   'charge': 0},\n",
       "  'RXN__45__10981': {'C': 0,\n",
       "   'H': 0,\n",
       "   'N': 0,\n",
       "   'O': 0,\n",
       "   'P': 0,\n",
       "   'R': 0,\n",
       "   'S': 0,\n",
       "   'charge': -1.0},\n",
       "  'RXN__45__11026__45__CPD__45__9965__47__OXYGEN__45__MOLECULE__47____47__POLYMER__45__INST__45__TRANS__45__D2__45__ENOYL__45__COA__45__C16__45__H32__47__HYDROGEN__45__PEROXIDE__46__84__46__': {'C': 0,\n",
       "   'H': 0,\n",
       "   'N': 0,\n",
       "   'O': 0,\n",
       "   'P': 0,\n",
       "   'R': 0,\n",
       "   'S': 0,\n",
       "   'charge': 4.0},\n",
       "  'RXN__45__11026__45__PALMITYL__45__COA__47__OXYGEN__45__MOLECULE__47____47__POLYMER__45__INST__45__TRANS__45__D2__45__ENOYL__45__COA__45__C12__45__H24__47__HYDROGEN__45__PEROXIDE__46__88__46__': {'C': 0,\n",
       "   'H': 0,\n",
       "   'N': 0,\n",
       "   'O': 0,\n",
       "   'P': 0,\n",
       "   'R': 0,\n",
       "   'S': 0,\n",
       "   'charge': 4.0},\n",
       "  'RXN__45__11026__45__TETRADECANOYL__45__COA__47__OXYGEN__45__MOLECULE__47____47__POLYMER__45__INST__45__TRANS__45__D2__45__ENOYL__45__COA__45__C10__45__H20__47__HYDROGEN__45__PEROXIDE__46__93__46__': {'C': 0,\n",
       "   'H': 0,\n",
       "   'N': 0,\n",
       "   'O': 0,\n",
       "   'P': 0,\n",
       "   'R': 0,\n",
       "   'S': 0,\n",
       "   'charge': 4.0},\n",
       "  'RXN__45__11373': {'C': -1.0,\n",
       "   'H': -2.0,\n",
       "   'N': 0,\n",
       "   'O': 0,\n",
       "   'P': 0,\n",
       "   'R': 0,\n",
       "   'S': 0,\n",
       "   'charge': 0},\n",
       "  'RXN__45__11374': {'C': -1.0,\n",
       "   'H': -2.0,\n",
       "   'N': 0,\n",
       "   'O': 0,\n",
       "   'P': 0,\n",
       "   'R': 0,\n",
       "   'S': 0,\n",
       "   'charge': 0},\n",
       "  'RXN__45__11375': {'C': 0,\n",
       "   'H': -2.0,\n",
       "   'N': 0,\n",
       "   'O': -1.0,\n",
       "   'P': 0,\n",
       "   'R': 0,\n",
       "   'S': 0,\n",
       "   'charge': 0},\n",
       "  'RXN__45__11377': {'C': 2.0,\n",
       "   'H': 7.0,\n",
       "   'N': 1.0,\n",
       "   'O': 4.0,\n",
       "   'P': 1.0,\n",
       "   'R': 0,\n",
       "   'S': 0,\n",
       "   'charge': 0},\n",
       "  'RXN__45__11409': {'C': 0,\n",
       "   'H': 0,\n",
       "   'N': 0,\n",
       "   'O': 0,\n",
       "   'P': 0,\n",
       "   'R': 0,\n",
       "   'S': 0,\n",
       "   'charge': 1.0},\n",
       "  'RXN__45__11410': {'C': 0,\n",
       "   'H': 0,\n",
       "   'N': 0,\n",
       "   'O': 0,\n",
       "   'P': 0,\n",
       "   'R': 0,\n",
       "   'S': 0,\n",
       "   'charge': 1.0},\n",
       "  'RXN__45__11474': {'C': 12.0,\n",
       "   'H': 20.0,\n",
       "   'N': 2.0,\n",
       "   'O': 9.0,\n",
       "   'P': 1.0,\n",
       "   'R': 1.0,\n",
       "   'S': 1.0,\n",
       "   'charge': -1.0},\n",
       "  'RXN__45__11476': {'C': 0,\n",
       "   'H': 2.0,\n",
       "   'N': 0,\n",
       "   'O': 0,\n",
       "   'P': 0,\n",
       "   'R': 0,\n",
       "   'S': 0,\n",
       "   'charge': 0},\n",
       "  'RXN__45__11480': {'C': 0,\n",
       "   'H': 2.0,\n",
       "   'N': 0,\n",
       "   'O': 0,\n",
       "   'P': 0,\n",
       "   'R': 0,\n",
       "   'S': 0,\n",
       "   'charge': 0},\n",
       "  'RXN__45__11634': {'C': -4.0,\n",
       "   'H': -8.0,\n",
       "   'N': 0,\n",
       "   'O': 0,\n",
       "   'P': 0,\n",
       "   'R': 0,\n",
       "   'S': 0,\n",
       "   'charge': 0},\n",
       "  'RXN__45__11696': {'C': 0,\n",
       "   'H': 1.0,\n",
       "   'N': 0,\n",
       "   'O': 0,\n",
       "   'P': 0,\n",
       "   'R': 0,\n",
       "   'S': 0,\n",
       "   'charge': 0},\n",
       "  'RXN__45__11754': {'C': -1.0,\n",
       "   'H': -4.0,\n",
       "   'N': 0,\n",
       "   'O': 0,\n",
       "   'P': 0,\n",
       "   'R': 0,\n",
       "   'S': 0,\n",
       "   'charge': -2.0},\n",
       "  'RXN__45__11797': {'C': 21.0,\n",
       "   'H': 39.0,\n",
       "   'N': 2.0,\n",
       "   'O': 9.0,\n",
       "   'P': 1.0,\n",
       "   'R': 1.0,\n",
       "   'S': 1.0,\n",
       "   'charge': -1.0},\n",
       "  'RXN__45__12088': {'C': 6.0,\n",
       "   'H': 10.0,\n",
       "   'N': 0,\n",
       "   'O': 5.0,\n",
       "   'P': 0,\n",
       "   'R': 0,\n",
       "   'S': 0,\n",
       "   'charge': 0},\n",
       "  'RXN__45__1224': {'C': -6.0,\n",
       "   'H': -10.0,\n",
       "   'N': 0,\n",
       "   'O': -7.0,\n",
       "   'P': 0,\n",
       "   'R': 0,\n",
       "   'S': -1.0,\n",
       "   'charge': 0},\n",
       "  'RXN__45__12339': {'C': 23.0,\n",
       "   'H': 48.0,\n",
       "   'N': 2.0,\n",
       "   'O': 4.0,\n",
       "   'P': 1.0,\n",
       "   'R': 0,\n",
       "   'S': 0,\n",
       "   'charge': 0},\n",
       "  'RXN__45__12448': {'C': 0,\n",
       "   'H': 2.0,\n",
       "   'N': 0,\n",
       "   'O': 0,\n",
       "   'P': 0,\n",
       "   'R': 0,\n",
       "   'S': 0,\n",
       "   'charge': 0},\n",
       "  'RXN__45__12460': {'C': 4.0,\n",
       "   'H': 8.0,\n",
       "   'N': 2.0,\n",
       "   'O': 2.0,\n",
       "   'P': 0,\n",
       "   'R': 0,\n",
       "   'S': 0,\n",
       "   'charge': 1.0},\n",
       "  'RXN__45__12518': {'C': 0,\n",
       "   'H': 2.0,\n",
       "   'N': 0,\n",
       "   'O': 0,\n",
       "   'P': 0,\n",
       "   'R': 0,\n",
       "   'S': 0,\n",
       "   'charge': 0},\n",
       "  'RXN__45__12539': {'C': 0,\n",
       "   'H': 0,\n",
       "   'N': 0,\n",
       "   'O': 0,\n",
       "   'P': 0,\n",
       "   'R': 0,\n",
       "   'S': 0,\n",
       "   'charge': 1.0},\n",
       "  'RXN__45__12579': {'C': 20.0,\n",
       "   'H': 29.0,\n",
       "   'N': 0,\n",
       "   'O': 0,\n",
       "   'P': 0,\n",
       "   'R': 0,\n",
       "   'S': 0,\n",
       "   'charge': 0},\n",
       "  'RXN__45__12588': {'C': 0,\n",
       "   'H': -1.0,\n",
       "   'N': 0,\n",
       "   'O': 0,\n",
       "   'P': 0,\n",
       "   'R': 0,\n",
       "   'S': -1.0,\n",
       "   'charge': -1.0},\n",
       "  'RXN__45__12959': {'C': 0,\n",
       "   'H': 1.0,\n",
       "   'N': 0,\n",
       "   'O': -3.0,\n",
       "   'P': -1.0,\n",
       "   'R': 0,\n",
       "   'S': 0,\n",
       "   'charge': 0},\n",
       "  'RXN__45__13008': {'C': 0,\n",
       "   'H': 2.0,\n",
       "   'N': 0,\n",
       "   'O': 0,\n",
       "   'P': 0,\n",
       "   'R': 0,\n",
       "   'S': 0,\n",
       "   'charge': 0},\n",
       "  'RXN__45__13334': {'C': 6.0,\n",
       "   'H': 9.0,\n",
       "   'N': 0,\n",
       "   'O': 11.0,\n",
       "   'P': 2.0,\n",
       "   'R': 0,\n",
       "   'S': 0,\n",
       "   'charge': 0},\n",
       "  'RXN__45__13415': {'C': -4.0,\n",
       "   'H': -8.0,\n",
       "   'N': -1.0,\n",
       "   'O': 0,\n",
       "   'P': 0,\n",
       "   'R': 0,\n",
       "   'S': 0,\n",
       "   'charge': 0},\n",
       "  'RXN__45__13416': {'C': 0,\n",
       "   'H': 1.0,\n",
       "   'N': 0,\n",
       "   'O': 0,\n",
       "   'P': 0,\n",
       "   'R': 0,\n",
       "   'S': 0,\n",
       "   'charge': 0},\n",
       "  'RXN__45__13417': {'C': 0,\n",
       "   'H': -2.0,\n",
       "   'N': 0,\n",
       "   'O': 0,\n",
       "   'P': 0,\n",
       "   'R': 0,\n",
       "   'S': 0,\n",
       "   'charge': 0},\n",
       "  'RXN__45__13445': {'C': 0,\n",
       "   'H': 0,\n",
       "   'N': 0,\n",
       "   'O': 0,\n",
       "   'P': 0,\n",
       "   'R': 0,\n",
       "   'S': 0,\n",
       "   'charge': -2.0},\n",
       "  'RXN__45__13682': {'C': 0,\n",
       "   'H': 2.0,\n",
       "   'N': 0,\n",
       "   'O': 0,\n",
       "   'P': 0,\n",
       "   'R': 0,\n",
       "   'S': 0,\n",
       "   'charge': 0},\n",
       "  'RXN__45__13730': {'C': 6.0,\n",
       "   'H': 10.0,\n",
       "   'N': 0,\n",
       "   'O': 8.0,\n",
       "   'P': 1.0,\n",
       "   'R': 0,\n",
       "   'S': 0,\n",
       "   'charge': 0},\n",
       "  'RXN__45__13731': {'C': 12.0,\n",
       "   'H': 20.0,\n",
       "   'N': 0,\n",
       "   'O': 13.0,\n",
       "   'P': 1.0,\n",
       "   'R': 0,\n",
       "   'S': 0,\n",
       "   'charge': 0},\n",
       "  'RXN__45__13732': {'C': 18.0,\n",
       "   'H': 30.0,\n",
       "   'N': 0,\n",
       "   'O': 21.0,\n",
       "   'P': 2.0,\n",
       "   'R': 0,\n",
       "   'S': 0,\n",
       "   'charge': 0},\n",
       "  'RXN__45__13733': {'C': 18.0,\n",
       "   'H': 38.0,\n",
       "   'N': 1.0,\n",
       "   'O': 1.0,\n",
       "   'P': 0,\n",
       "   'R': 0,\n",
       "   'S': 0,\n",
       "   'charge': 0},\n",
       "  'RXN__45__14290': {'C': 0,\n",
       "   'H': 0,\n",
       "   'N': 0,\n",
       "   'O': 0,\n",
       "   'P': 0,\n",
       "   'R': 0,\n",
       "   'S': 0,\n",
       "   'charge': 1.0},\n",
       "  'RXN__45__14326': {'C': -3.0,\n",
       "   'H': -6.0,\n",
       "   'N': 0,\n",
       "   'O': 0,\n",
       "   'P': 0,\n",
       "   'R': 0,\n",
       "   'S': 0,\n",
       "   'charge': 0},\n",
       "  'RXN__45__14554': {'C': -16.0,\n",
       "   'H': -30.0,\n",
       "   'N': 0,\n",
       "   'O': -1.0,\n",
       "   'P': 0,\n",
       "   'R': 0,\n",
       "   'S': 0,\n",
       "   'charge': 0},\n",
       "  'RXN__45__14577': {'C': 0,\n",
       "   'H': 0,\n",
       "   'N': 0,\n",
       "   'O': 0,\n",
       "   'P': 0,\n",
       "   'R': 0,\n",
       "   'S': 0,\n",
       "   'charge': -2.0},\n",
       "  'RXN__45__14665': {'C': 0,\n",
       "   'H': 0,\n",
       "   'N': 0,\n",
       "   'O': -1.0,\n",
       "   'P': 0,\n",
       "   'R': 0,\n",
       "   'S': 0,\n",
       "   'charge': 0},\n",
       "  'RXN__45__14906': {'C': 0,\n",
       "   'H': 1.0,\n",
       "   'N': 0,\n",
       "   'O': -3.0,\n",
       "   'P': -1.0,\n",
       "   'R': 0,\n",
       "   'S': 0,\n",
       "   'charge': 0},\n",
       "  'RXN__45__14950': {'C': 0,\n",
       "   'H': 4.0,\n",
       "   'N': 0,\n",
       "   'O': 0,\n",
       "   'P': 0,\n",
       "   'R': 0,\n",
       "   'S': 0,\n",
       "   'charge': 0},\n",
       "  'RXN__45__14959': {'C': 0,\n",
       "   'H': 4.0,\n",
       "   'N': 0,\n",
       "   'O': 0,\n",
       "   'P': 0,\n",
       "   'R': 0,\n",
       "   'S': 0,\n",
       "   'charge': 0},\n",
       "  'RXN__45__14960': {'C': 0,\n",
       "   'Fe': 1.0,\n",
       "   'H': -1.0,\n",
       "   'N': 0,\n",
       "   'O': 0,\n",
       "   'P': 0,\n",
       "   'R': 0,\n",
       "   'S': 0,\n",
       "   'charge': -1.0},\n",
       "  'RXN__45__15003': {'C': -5.0,\n",
       "   'H': -6.0,\n",
       "   'N': -1.0,\n",
       "   'O': -3.0,\n",
       "   'P': 0,\n",
       "   'R': 0,\n",
       "   'S': 0,\n",
       "   'charge': 0},\n",
       "  'RXN__45__15004': {'C': 5.0,\n",
       "   'H': 11.0,\n",
       "   'N': 2.0,\n",
       "   'O': 1.0,\n",
       "   'P': 0,\n",
       "   'R': 0,\n",
       "   'S': 0,\n",
       "   'charge': 0},\n",
       "  'RXN__45__15005': {'C': 0,\n",
       "   'H': 0,\n",
       "   'N': 0,\n",
       "   'O': -3.0,\n",
       "   'P': -1.0,\n",
       "   'R': 0,\n",
       "   'S': 0,\n",
       "   'charge': 0},\n",
       "  'RXN__45__15006': {'C': 0,\n",
       "   'H': -1.0,\n",
       "   'N': 0,\n",
       "   'O': 4.0,\n",
       "   'P': 1.0,\n",
       "   'R': 0,\n",
       "   'S': 0,\n",
       "   'charge': 0},\n",
       "  'RXN__45__15007': {'C': 0,\n",
       "   'H': 4.0,\n",
       "   'N': 1.0,\n",
       "   'O': -1.0,\n",
       "   'P': 0,\n",
       "   'R': 0,\n",
       "   'S': 0,\n",
       "   'charge': 0},\n",
       "  'RXN__45__15041': {'C': 0,\n",
       "   'H': 0,\n",
       "   'N': 0,\n",
       "   'O': -1.0,\n",
       "   'P': 0,\n",
       "   'R': 0,\n",
       "   'S': 0,\n",
       "   'charge': 1.0},\n",
       "  'RXN__45__15139': {'C': 0,\n",
       "   'H': 0,\n",
       "   'N': 0,\n",
       "   'O': 0,\n",
       "   'P': 0,\n",
       "   'R': 0,\n",
       "   'S': 0,\n",
       "   'charge': 1.0},\n",
       "  'RXN__45__15211': {'C': -40.0,\n",
       "   'H': -80.0,\n",
       "   'N': -1.0,\n",
       "   'O': -8.0,\n",
       "   'P': -1.0,\n",
       "   'R': 0,\n",
       "   'S': 0,\n",
       "   'charge': 0},\n",
       "  'RXN__45__15212': {'C': 5.0,\n",
       "   'H': 12.0,\n",
       "   'N': 1.0,\n",
       "   'O': 3.0,\n",
       "   'P': 1.0,\n",
       "   'R': 0,\n",
       "   'S': 0,\n",
       "   'charge': 0},\n",
       "  'RXN__45__15271': {'C': -11.0,\n",
       "   'H': -16.0,\n",
       "   'N': -1.0,\n",
       "   'O': -8.0,\n",
       "   'P': 0,\n",
       "   'R': 0,\n",
       "   'S': 0,\n",
       "   'charge': 0},\n",
       "  'RXN__45__15276': {'C': -6.0,\n",
       "   'H': -10.0,\n",
       "   'N': 0,\n",
       "   'O': -5.0,\n",
       "   'P': 0,\n",
       "   'R': 0,\n",
       "   'S': 0,\n",
       "   'charge': 0},\n",
       "  'RXN__45__15277': {'C': -8.0,\n",
       "   'H': -13.0,\n",
       "   'N': -1.0,\n",
       "   'O': -5.0,\n",
       "   'P': 0,\n",
       "   'R': 0,\n",
       "   'S': 0,\n",
       "   'charge': 0},\n",
       "  'RXN__45__15278': {'C': -6.0,\n",
       "   'H': -10.0,\n",
       "   'N': 0,\n",
       "   'O': -5.0,\n",
       "   'P': 0,\n",
       "   'R': 0,\n",
       "   'S': 0,\n",
       "   'charge': 0},\n",
       "  'RXN__45__1602': {'C': 0,\n",
       "   'H': -1.0,\n",
       "   'N': 0,\n",
       "   'O': -1.0,\n",
       "   'P': 0,\n",
       "   'R': 0,\n",
       "   'S': 0,\n",
       "   'charge': 0},\n",
       "  'RXN__45__1641': {'C': -40.0,\n",
       "   'H': -80.0,\n",
       "   'N': -1.0,\n",
       "   'O': -8.0,\n",
       "   'P': -1.0,\n",
       "   'R': 0,\n",
       "   'S': 0,\n",
       "   'charge': 0},\n",
       "  'RXN__45__3701': {'C': -20.0,\n",
       "   'H': -32.0,\n",
       "   'N': 0,\n",
       "   'O': 0,\n",
       "   'P': 0,\n",
       "   'R': 0,\n",
       "   'S': 0,\n",
       "   'charge': 0},\n",
       "  'RXN__45__5781': {'C': 35.0,\n",
       "   'H': 68.0,\n",
       "   'N': 0,\n",
       "   'O': 5.0,\n",
       "   'P': 0,\n",
       "   'R': 0,\n",
       "   'S': 0,\n",
       "   'charge': 0},\n",
       "  'RXN__45__6601': {'C': -5.0,\n",
       "   'H': -6.0,\n",
       "   'N': -1.0,\n",
       "   'O': -3.0,\n",
       "   'P': 0,\n",
       "   'R': 0,\n",
       "   'S': 0,\n",
       "   'charge': 0},\n",
       "  'RXN__45__7605': {'C': -1.0,\n",
       "   'H': -3.0,\n",
       "   'N': 0,\n",
       "   'O': 0,\n",
       "   'P': 0,\n",
       "   'R': 0,\n",
       "   'S': 0,\n",
       "   'charge': -1.0},\n",
       "  'RXN__45__7699__45__CPD__45__14275__47____47__POLYMER__45__INST__45__TRANS__45__D2__45__ENOYL__45__COA__45__C16__45__H32__47__WATER__46__57__46__': {'C': 0,\n",
       "   'H': 0,\n",
       "   'N': 0,\n",
       "   'O': 0,\n",
       "   'P': 0,\n",
       "   'R': 0,\n",
       "   'S': 0,\n",
       "   'charge': -4.0},\n",
       "  'RXN__45__7699__45__POLYMER__45__INST__45__D__45__3__45__HYDROXYACYL__45__COA__45__C2__45__H4__47____47__CPD0__45__2121__47__WATER__46__56__46__': {'C': 0,\n",
       "   'H': 0,\n",
       "   'N': 0,\n",
       "   'O': 0,\n",
       "   'P': 0,\n",
       "   'R': 0,\n",
       "   'S': 0,\n",
       "   'charge': 4.0},\n",
       "  'RXN__45__7699__45__POLYMER__45__INST__45__D__45__3__45__HYDROXYACYL__45__COA__45__C4__45__H8__47____47__CPD0__45__2108__47__WATER__46__56__46__': {'C': 0,\n",
       "   'H': 0,\n",
       "   'N': 0,\n",
       "   'O': 0,\n",
       "   'P': 0,\n",
       "   'R': 0,\n",
       "   'S': 0,\n",
       "   'charge': 4.0},\n",
       "  'RXN__45__7699__45__POLYMER__45__INST__45__D__45__3__45__HYDROXYACYL__45__COA__45__C8__45__H16__47____47__CPD__45__7222__47__WATER__46__56__46__': {'C': 0,\n",
       "   'H': 0,\n",
       "   'N': 0,\n",
       "   'O': 0,\n",
       "   'P': 0,\n",
       "   'R': 0,\n",
       "   'S': 0,\n",
       "   'charge': 4.0},\n",
       "  'RXN__45__7719': {'C': 0,\n",
       "   'H': 2.0,\n",
       "   'N': 0,\n",
       "   'O': 0,\n",
       "   'P': 0,\n",
       "   'R': 0,\n",
       "   'S': 0,\n",
       "   'charge': 0},\n",
       "  'RXN__45__7838': {'C': 0,\n",
       "   'H': 2.0,\n",
       "   'N': 0,\n",
       "   'O': 1.0,\n",
       "   'P': 0,\n",
       "   'R': 0,\n",
       "   'S': 0,\n",
       "   'charge': 0},\n",
       "  'RXN__45__7919': {'C': 10.0,\n",
       "   'H': 14.0,\n",
       "   'N': 3.0,\n",
       "   'O': 5.0,\n",
       "   'P': 0,\n",
       "   'R': 0,\n",
       "   'S': 1.0,\n",
       "   'charge': 0},\n",
       "  'RXN__45__8351': {'C': 0,\n",
       "   'H': 0,\n",
       "   'N': 0,\n",
       "   'O': 0,\n",
       "   'P': 0,\n",
       "   'R': 0,\n",
       "   'S': 0,\n",
       "   'charge': -2.0},\n",
       "  'RXN__45__8353': {'C': 0,\n",
       "   'H': 0,\n",
       "   'N': 0,\n",
       "   'O': 0,\n",
       "   'P': 0,\n",
       "   'R': 0,\n",
       "   'S': 0,\n",
       "   'charge': -2.0},\n",
       "  'RXN__45__8629': {'C': 0,\n",
       "   'H': 2.0,\n",
       "   'N': 0,\n",
       "   'O': 0,\n",
       "   'P': 0,\n",
       "   'R': 0,\n",
       "   'S': 0,\n",
       "   'charge': 0},\n",
       "  'RXN__45__9548': {'C': 29.0,\n",
       "   'H': 55.0,\n",
       "   'N': 2.0,\n",
       "   'O': 8.0,\n",
       "   'P': 1.0,\n",
       "   'R': 1.0,\n",
       "   'S': 1.0,\n",
       "   'charge': -1.0},\n",
       "  'RXN__45__9552': {'C': 0,\n",
       "   'H': 2.0,\n",
       "   'N': 0,\n",
       "   'O': 0,\n",
       "   'P': 0,\n",
       "   'R': 0,\n",
       "   'S': 0,\n",
       "   'charge': 0},\n",
       "  'RXN__45__9553': {'C': 0,\n",
       "   'H': 2.0,\n",
       "   'N': 0,\n",
       "   'O': 1.0,\n",
       "   'P': 0,\n",
       "   'R': 0,\n",
       "   'S': 0,\n",
       "   'charge': 0},\n",
       "  'RXN__45__9557': {'C': 0,\n",
       "   'H': 2.0,\n",
       "   'N': 0,\n",
       "   'O': 1.0,\n",
       "   'P': 0,\n",
       "   'R': 0,\n",
       "   'S': 0,\n",
       "   'charge': 0},\n",
       "  'RXN__45__9597': {'C': 0,\n",
       "   'H': 4.0,\n",
       "   'N': 1.0,\n",
       "   'O': -1.0,\n",
       "   'P': 0,\n",
       "   'R': 0,\n",
       "   'S': 0,\n",
       "   'charge': 0},\n",
       "  'RXN__45__9779': {'C': 0,\n",
       "   'H': -1.0,\n",
       "   'N': 0,\n",
       "   'O': 3.0,\n",
       "   'P': 1.0,\n",
       "   'R': 0,\n",
       "   'S': 0,\n",
       "   'charge': 0},\n",
       "  'RXN__45__9787': {'C': 0,\n",
       "   'H': 0,\n",
       "   'N': 0,\n",
       "   'O': 0,\n",
       "   'P': 0,\n",
       "   'R': 0,\n",
       "   'S': -1.0,\n",
       "   'charge': 0},\n",
       "  'RXN__45__9918': {'C': 14.0,\n",
       "   'H': 17.0,\n",
       "   'N': 6.0,\n",
       "   'O': 13.0,\n",
       "   'P': 3.0,\n",
       "   'R': 0,\n",
       "   'S': 1.0,\n",
       "   'charge': 0},\n",
       "  'RXN__45__9920': {'C': 0,\n",
       "   'H': -1.0,\n",
       "   'N': 0,\n",
       "   'O': 3.0,\n",
       "   'P': 1.0,\n",
       "   'R': 0,\n",
       "   'S': 0,\n",
       "   'charge': 0},\n",
       "  'SERTRS': {'C': -3.0,\n",
       "   'H': -7.0,\n",
       "   'N': -1.0,\n",
       "   'O': -2.0,\n",
       "   'P': 0,\n",
       "   'R': 0,\n",
       "   'S': 0,\n",
       "   'charge': -2.0},\n",
       "  'SPHINGOMYELIN__45__PHOSPHODIESTERASE__45__RXN': {'C': 5.0,\n",
       "   'H': 12.0,\n",
       "   'N': 1.0,\n",
       "   'O': 3.0,\n",
       "   'P': 1.0,\n",
       "   'R': 0,\n",
       "   'S': 0,\n",
       "   'charge': 0},\n",
       "  'STS1r': {'C': 0,\n",
       "   'H': 0,\n",
       "   'N': 0,\n",
       "   'O': 0,\n",
       "   'P': 0,\n",
       "   'R': 0,\n",
       "   'S': 0,\n",
       "   'charge': 2.0},\n",
       "  'THIORDXp': {'C': 0,\n",
       "   'H': 2.0,\n",
       "   'N': 0,\n",
       "   'O': 0,\n",
       "   'P': 0,\n",
       "   'R': 0,\n",
       "   'S': 0,\n",
       "   'charge': 0},\n",
       "  'THMtex': {'C': 0,\n",
       "   'H': 0,\n",
       "   'N': 0,\n",
       "   'O': 0,\n",
       "   'P': 0,\n",
       "   'R': 0,\n",
       "   'S': 0,\n",
       "   'charge': 1.0},\n",
       "  'THREONINE__45____45__TRNA__45__LIGASE__45__RXN': {'C': -4.0,\n",
       "   'H': -9.0,\n",
       "   'N': -1.0,\n",
       "   'O': -2.0,\n",
       "   'P': 0,\n",
       "   'R': 0,\n",
       "   'S': 0,\n",
       "   'charge': -1.0},\n",
       "  'TRANS__45__RXNTFS__45__2__45__ALPHA__45__GLUCOSE__47____47__ALPHA__45__GLUCOSE__46__29__46__': {'C': 6.0,\n",
       "   'H': 12.0,\n",
       "   'N': 0,\n",
       "   'O': 6.0,\n",
       "   'P': 0,\n",
       "   'R': 0,\n",
       "   'S': 0,\n",
       "   'charge': 0},\n",
       "  'TRANS__45__RXNTFS__45__32__45__ALPHA__45__GLUCOSE__47____47__ALPHA__45__GLUCOSE__46__29__46__': {'C': 6.0,\n",
       "   'H': 12.0,\n",
       "   'N': 0,\n",
       "   'O': 6.0,\n",
       "   'P': 0,\n",
       "   'R': 0,\n",
       "   'S': 0,\n",
       "   'charge': 0},\n",
       "  'TRDRm': {'C': 0,\n",
       "   'H': -2.0,\n",
       "   'N': 0,\n",
       "   'O': 0,\n",
       "   'P': 0,\n",
       "   'R': 0,\n",
       "   'S': 0,\n",
       "   'charge': 0},\n",
       "  'TRPO2': {'C': 0,\n",
       "   'H': 0,\n",
       "   'N': 0,\n",
       "   'O': 0,\n",
       "   'P': 0,\n",
       "   'R': 0,\n",
       "   'S': 0,\n",
       "   'charge': -2.0},\n",
       "  'TRYPTOPHAN__45____45__TRNA__45__LIGASE__45__RXN': {'C': -11.0,\n",
       "   'H': -12.0,\n",
       "   'N': -2.0,\n",
       "   'O': -1.0,\n",
       "   'P': 0,\n",
       "   'R': 0,\n",
       "   'S': 0,\n",
       "   'charge': -1.0},\n",
       "  'TYROSINE__45____45__TRNA__45__LIGASE__45__RXN': {'C': -9.0,\n",
       "   'H': -11.0,\n",
       "   'N': -1.0,\n",
       "   'O': -2.0,\n",
       "   'P': 0,\n",
       "   'R': 0,\n",
       "   'S': 0,\n",
       "   'charge': -1.0},\n",
       "  'UBIQUITIN__45____45__PROTEIN__45__LIGASE__45__RXN': {'C': 0,\n",
       "   'H': 2.0,\n",
       "   'N': 0,\n",
       "   'O': 1.0,\n",
       "   'P': 0,\n",
       "   'R': 0,\n",
       "   'S': 0,\n",
       "   'charge': 0},\n",
       "  'VALINE__45____45__TRNA__45__LIGASE__45__RXN': {'C': -5.0,\n",
       "   'H': -11.0,\n",
       "   'N': -1.0,\n",
       "   'O': -1.0,\n",
       "   'P': 0,\n",
       "   'R': 0,\n",
       "   'S': 0,\n",
       "   'charge': -1.0},\n",
       "  '_1__45__PHOSPHATIDYLINOSITOL__45__3__45__KINASE__45__RXN': {'C': 0,\n",
       "   'H': 1.0,\n",
       "   'N': 0,\n",
       "   'O': -3.0,\n",
       "   'P': -1.0,\n",
       "   'R': 0,\n",
       "   'S': 0,\n",
       "   'charge': 0},\n",
       "  '_1__45__PHOSPHATIDYLINOSITOL__45__KINASE__45__RXN': {'C': 0,\n",
       "   'H': 1.0,\n",
       "   'N': 0,\n",
       "   'O': -3.0,\n",
       "   'P': -1.0,\n",
       "   'R': 0,\n",
       "   'S': 0,\n",
       "   'charge': 0},\n",
       "  '_1__46__11__46__1__46__12__45__RXN': {'C': 30.0,\n",
       "   'H': 50.0,\n",
       "   'N': 0,\n",
       "   'O': 9.0,\n",
       "   'P': 2.0,\n",
       "   'R': 0,\n",
       "   'S': 0,\n",
       "   'charge': -4.0},\n",
       "  '_1__46__14__46__19__46__6__45__RXN': {'C': 0,\n",
       "   'H': -2.0,\n",
       "   'N': 0,\n",
       "   'O': 1.0,\n",
       "   'P': 0,\n",
       "   'R': 0,\n",
       "   'S': 0,\n",
       "   'charge': 0},\n",
       "  '_1__46__17__46__4__46__2__45__RXN': {'C': 0,\n",
       "   'H': -2.0,\n",
       "   'N': 0,\n",
       "   'O': -1.0,\n",
       "   'P': 0,\n",
       "   'R': 0,\n",
       "   'S': 0,\n",
       "   'charge': 0},\n",
       "  '_1__46__1__46__1__46__117__45__RXN': {'C': 0,\n",
       "   'H': -1.0,\n",
       "   'N': 0,\n",
       "   'O': 0,\n",
       "   'P': 0,\n",
       "   'R': 0,\n",
       "   'S': 0,\n",
       "   'charge': 0},\n",
       "  '_1__46__2__46__4__46__4__45__RXN': {'C': -4.0,\n",
       "   'H': -8.0,\n",
       "   'N': 0,\n",
       "   'O': -1.0,\n",
       "   'P': 0,\n",
       "   'R': 0,\n",
       "   'S': 0,\n",
       "   'charge': 0},\n",
       "  '_2__46__1__46__1__46__126__45__RXN': {'C': -1.0,\n",
       "   'H': -2.0,\n",
       "   'N': 0,\n",
       "   'O': 0,\n",
       "   'P': 0,\n",
       "   'R': 0,\n",
       "   'S': 0,\n",
       "   'charge': 0},\n",
       "  '_2__46__1__46__1__46__16__45__RXN': {'C': -1.0,\n",
       "   'H': -2.0,\n",
       "   'N': 0,\n",
       "   'O': 0,\n",
       "   'P': 0,\n",
       "   'R': 0,\n",
       "   'S': 0,\n",
       "   'charge': 0},\n",
       "  '_2__46__1__46__1__46__77__45__RXN': {'C': -1.0,\n",
       "   'H': -3.0,\n",
       "   'N': 0,\n",
       "   'O': 0,\n",
       "   'P': 0,\n",
       "   'R': 0,\n",
       "   'S': 0,\n",
       "   'charge': 0},\n",
       "  '_2__46__1__46__1__46__79__45__RXN': {'C': -1.0,\n",
       "   'H': -2.0,\n",
       "   'N': 0,\n",
       "   'O': 0,\n",
       "   'P': 0,\n",
       "   'R': 0,\n",
       "   'S': 0,\n",
       "   'charge': 0},\n",
       "  '_2__46__3__46__1__46__168__45__RXN': {'C': 4.0,\n",
       "   'H': 6.0,\n",
       "   'N': 0,\n",
       "   'O': 1.0,\n",
       "   'P': 0,\n",
       "   'R': 0,\n",
       "   'S': 0,\n",
       "   'charge': 0},\n",
       "  '_2__46__3__46__1__46__97__45__RXN': {'C': -14.0,\n",
       "   'H': -26.0,\n",
       "   'N': 0,\n",
       "   'O': -1.0,\n",
       "   'P': 0,\n",
       "   'R': 0,\n",
       "   'S': 0,\n",
       "   'charge': 0},\n",
       "  '_2__46__3__46__2__46__13__45__RXN': {'C': 0,\n",
       "   'H': 4.0,\n",
       "   'N': 1.0,\n",
       "   'O': 0,\n",
       "   'P': 0,\n",
       "   'R': 0,\n",
       "   'S': 0,\n",
       "   'charge': 0},\n",
       "  '_2__46__4__46__1__46__119__45__RXN': {'C': -88.0,\n",
       "   'H': -147.0,\n",
       "   'N': -2.0,\n",
       "   'O': -70.0,\n",
       "   'P': 0,\n",
       "   'R': 0,\n",
       "   'S': 0,\n",
       "   'charge': 0},\n",
       "  '_2__46__4__46__1__46__149__45__RXN': {'C': -8.0,\n",
       "   'H': -13.0,\n",
       "   'N': -1.0,\n",
       "   'O': -5.0,\n",
       "   'P': 0,\n",
       "   'R': 0,\n",
       "   'S': 0,\n",
       "   'charge': 0},\n",
       "  '_2__46__4__46__1__46__150__45__RXN': {'C': -8.0,\n",
       "   'H': -13.0,\n",
       "   'N': -1.0,\n",
       "   'O': -5.0,\n",
       "   'P': 0,\n",
       "   'R': 0,\n",
       "   'S': 0,\n",
       "   'charge': 0},\n",
       "  '_2__46__4__46__1__46__151__45__RXN': {'C': -6.0,\n",
       "   'H': -10.0,\n",
       "   'N': 0,\n",
       "   'O': -5.0,\n",
       "   'P': 0,\n",
       "   'R': 0,\n",
       "   'S': 0,\n",
       "   'charge': 0},\n",
       "  '_2__46__4__46__1__46__198__45__RXN': {'C': -8.0,\n",
       "   'H': -13.0,\n",
       "   'N': -1.0,\n",
       "   'O': -5.0,\n",
       "   'P': 0,\n",
       "   'R': 0,\n",
       "   'S': 0,\n",
       "   'charge': 0},\n",
       "  '_2__46__4__46__1__46__223__45__RXN': {'C': -8.0,\n",
       "   'H': -13.0,\n",
       "   'N': -1.0,\n",
       "   'O': -5.0,\n",
       "   'P': 0,\n",
       "   'R': 0,\n",
       "   'S': 0,\n",
       "   'charge': 0},\n",
       "  '_2__46__4__46__1__46__38__45__RXN': {'C': -6.0,\n",
       "   'H': -10.0,\n",
       "   'N': 0,\n",
       "   'O': -5.0,\n",
       "   'P': 0,\n",
       "   'R': 0,\n",
       "   'S': 0,\n",
       "   'charge': 0},\n",
       "  '_2__46__4__46__99__46__6__45__RXN': {'C': -11.0,\n",
       "   'H': -16.0,\n",
       "   'N': -1.0,\n",
       "   'O': -8.0,\n",
       "   'P': 0,\n",
       "   'R': 0,\n",
       "   'S': 0,\n",
       "   'charge': 0},\n",
       "  '_2__46__5__46__1__46__46__45__RXN': {'C': -4.0,\n",
       "   'H': -9.0,\n",
       "   'N': -1.0,\n",
       "   'O': 0,\n",
       "   'P': 0,\n",
       "   'R': 0,\n",
       "   'S': 0,\n",
       "   'charge': 0},\n",
       "  '_2__46__7__46__12__46__1__45__RXN': {'C': 0,\n",
       "   'H': 1.0,\n",
       "   'N': 0,\n",
       "   'O': -3.0,\n",
       "   'P': -1.0,\n",
       "   'R': 0,\n",
       "   'S': 0,\n",
       "   'charge': 0},\n",
       "  '_2__46__7__46__1__46__149__45__RXN': {'C': 0,\n",
       "   'H': 1.0,\n",
       "   'N': 0,\n",
       "   'O': -3.0,\n",
       "   'P': -1.0,\n",
       "   'R': 0,\n",
       "   'S': 0,\n",
       "   'charge': 0},\n",
       "  '_2__46__7__46__1__46__150__45__RXN': {'C': 0,\n",
       "   'H': 1.0,\n",
       "   'N': 0,\n",
       "   'O': -3.0,\n",
       "   'P': -1.0,\n",
       "   'R': 0,\n",
       "   'S': 0,\n",
       "   'charge': 0},\n",
       "  '_2__46__7__46__1__46__153__45__RXN': {'C': 0,\n",
       "   'H': 1.0,\n",
       "   'N': 0,\n",
       "   'O': -3.0,\n",
       "   'P': -1.0,\n",
       "   'R': 0,\n",
       "   'S': 0,\n",
       "   'charge': 0},\n",
       "  '_2__46__7__46__1__46__154__45__RXN': {'C': 0,\n",
       "   'H': 1.0,\n",
       "   'N': 0,\n",
       "   'O': -3.0,\n",
       "   'P': -1.0,\n",
       "   'R': 0,\n",
       "   'S': 0,\n",
       "   'charge': 0},\n",
       "  '_2__46__7__46__1__46__68__45__RXN': {'C': 0,\n",
       "   'H': 1.0,\n",
       "   'N': 0,\n",
       "   'O': -3.0,\n",
       "   'P': -1.0,\n",
       "   'R': 0,\n",
       "   'S': 0,\n",
       "   'charge': 0},\n",
       "  '_2__46__7__46__8__46__11__45__RXN': {'C': -41.0,\n",
       "   'H': -78.0,\n",
       "   'N': 0,\n",
       "   'O': -13.0,\n",
       "   'P': -1.0,\n",
       "   'R': 0,\n",
       "   'S': 0,\n",
       "   'charge': 0},\n",
       "  '_2__46__7__46__8__46__19__45__RXN': {'C': -6.0,\n",
       "   'H': -10.0,\n",
       "   'N': 0,\n",
       "   'O': -8.0,\n",
       "   'P': -1.0,\n",
       "   'R': 0,\n",
       "   'S': 0,\n",
       "   'charge': 0},\n",
       "  '_2__46__8__46__1__46__6__45__RXN': {'C': 0,\n",
       "   'H': 1.0,\n",
       "   'N': 0,\n",
       "   'O': 0,\n",
       "   'P': 0,\n",
       "   'R': 0,\n",
       "   'S': 1.0,\n",
       "   'charge': -1.0},\n",
       "  '_3__45__OXOACID__45__COA__45__TRANSFERASE__45__RXN': {'C': -21.0,\n",
       "   'H': -31.0,\n",
       "   'N': -7.0,\n",
       "   'O': -15.0,\n",
       "   'P': -3.0,\n",
       "   'R': 0,\n",
       "   'S': -1.0,\n",
       "   'charge': 0},\n",
       "  '_3__46__1__46__1__46__23__45__RXN': {'C': 3.0,\n",
       "   'H': 7.0,\n",
       "   'N': 0,\n",
       "   'O': 2.0,\n",
       "   'P': 0,\n",
       "   'R': 0,\n",
       "   'S': 0,\n",
       "   'charge': 0},\n",
       "  '_3__46__1__46__1__46__47__45__RXN': {'C': 2.0,\n",
       "   'H': 2.0,\n",
       "   'N': 0,\n",
       "   'O': 1.0,\n",
       "   'P': 0,\n",
       "   'R': 0,\n",
       "   'S': 0,\n",
       "   'charge': 0},\n",
       "  '_3__46__1__46__1__46__69__45__RXN': {'C': 2.0,\n",
       "   'H': 1.0,\n",
       "   'N': 0,\n",
       "   'O': 1.0,\n",
       "   'P': 0,\n",
       "   'R': 0,\n",
       "   'S': 0,\n",
       "   'charge': 0},\n",
       "  '_3__46__1__46__1__46__73__45__RXN': {'C': 10.0,\n",
       "   'H': 9.0,\n",
       "   'N': 0,\n",
       "   'O': 3.0,\n",
       "   'P': 0,\n",
       "   'R': 0,\n",
       "   'S': 0,\n",
       "   'charge': 1.0},\n",
       "  '_3__46__1__46__3__46__16__45__RXN': {'C': 0,\n",
       "   'H': -1.0,\n",
       "   'N': 0,\n",
       "   'O': 3.0,\n",
       "   'P': 1.0,\n",
       "   'R': 0,\n",
       "   'S': 0,\n",
       "   'charge': 0},\n",
       "  '_3__46__1__46__4__46__10__45__RXN': {'C': 6.0,\n",
       "   'H': 10.0,\n",
       "   'N': 0,\n",
       "   'O': 8.0,\n",
       "   'P': 1.0,\n",
       "   'R': 0,\n",
       "   'S': 0,\n",
       "   'charge': 0},\n",
       "  '_3__46__1__46__4__46__11__45__RXN': {'C': 6.0,\n",
       "   'H': 8.0,\n",
       "   'N': 0,\n",
       "   'O': 14.0,\n",
       "   'P': 3.0,\n",
       "   'R': 0,\n",
       "   'S': 0,\n",
       "   'charge': 0},\n",
       "  '_3__46__2__46__1__46__21__45__RXN': {'C': 6.0,\n",
       "   'H': 10.0,\n",
       "   'N': 0,\n",
       "   'O': 5.0,\n",
       "   'P': 0,\n",
       "   'R': 0,\n",
       "   'S': 0,\n",
       "   'charge': 0},\n",
       "  '_3__46__2__46__1__46__24__45__RXN': {'C': 6.0,\n",
       "   'H': 10.0,\n",
       "   'N': 0,\n",
       "   'O': 5.0,\n",
       "   'P': 0,\n",
       "   'R': 0,\n",
       "   'S': 0,\n",
       "   'charge': 0},\n",
       "  '_3__46__2__46__1__46__25__45__RXN': {'C': 6.0,\n",
       "   'H': 10.0,\n",
       "   'N': 0,\n",
       "   'O': 5.0,\n",
       "   'P': 0,\n",
       "   'R': 0,\n",
       "   'S': 0,\n",
       "   'charge': 0},\n",
       "  '_3__46__2__46__1__46__52__45__RXN': {'C': 8.0,\n",
       "   'H': 13.0,\n",
       "   'N': 1.0,\n",
       "   'O': 5.0,\n",
       "   'P': 0,\n",
       "   'R': 0,\n",
       "   'S': 0,\n",
       "   'charge': 0},\n",
       "  '_3__46__4__46__11__46__7__45__RXN': {'C': 5.0,\n",
       "   'H': 7.0,\n",
       "   'N': 1.0,\n",
       "   'O': 3.0,\n",
       "   'P': 0,\n",
       "   'R': 0,\n",
       "   'S': 0,\n",
       "   'charge': 0},\n",
       "  '_3__46__5__46__1__46__87__45__RXN': {'C': 1.0,\n",
       "   'H': 0,\n",
       "   'N': 1.0,\n",
       "   'O': 1.0,\n",
       "   'P': 0,\n",
       "   'R': 0,\n",
       "   'S': 0,\n",
       "   'charge': 0},\n",
       "  '_3__46__5__46__1__46__98__45__RXN': {'C': 2.0,\n",
       "   'H': 1.0,\n",
       "   'N': 0,\n",
       "   'O': 1.0,\n",
       "   'P': 0,\n",
       "   'R': 0,\n",
       "   'S': 0,\n",
       "   'charge': 0},\n",
       "  '_3__46__5__46__5__46__1__45__RXN': {'C': 0,\n",
       "   'H': 0,\n",
       "   'N': 1.0,\n",
       "   'O': -2.0,\n",
       "   'P': 0,\n",
       "   'R': 0,\n",
       "   'S': 0,\n",
       "   'charge': 0},\n",
       "  '_6__46__1__46__1__46__23__45__RXN': {'C': -4.0,\n",
       "   'H': -7.0,\n",
       "   'N': -1.0,\n",
       "   'O': -3.0,\n",
       "   'P': 0,\n",
       "   'R': 0,\n",
       "   'S': 0,\n",
       "   'charge': -1.0}},\n",
       " [])"
      ]
     },
     "execution_count": 62,
     "metadata": {},
     "output_type": "execute_result"
    }
   ],
   "source": [
    "foo.find_unbalanced_reactions(model)"
   ]
  },
  {
   "cell_type": "code",
   "execution_count": 66,
   "metadata": {},
   "outputs": [],
   "source": [
    "model2 = read_sbml_model(\"/Users/clie/Desktop/Side_Projects/Memote/Ecoli_Model_collection/iJO1366/iJO1366.xml\")"
   ]
  },
  {
   "cell_type": "code",
   "execution_count": 67,
   "metadata": {},
   "outputs": [],
   "source": [
    "for met in model.metabolites:\n",
    "    if met.formula == '' or met.formula is None:\n",
    "        if met.id in model2.metabolites:\n",
    "            met.formula = model2.metabolites.get_by_id(met.id).formula\n",
    "            if met.charge is None and model2.metabolites.get_by_id(met.id).charge is not None:\n",
    "                met.charge = model2.metabolites.get_by_id(met.id).charge"
   ]
  },
  {
   "cell_type": "code",
   "execution_count": 68,
   "metadata": {},
   "outputs": [
    {
     "name": "stdout",
     "output_type": "stream",
     "text": [
      "There are 308 unbalanced reactions and 0 metabolites with a faulty syntax\n"
     ]
    },
    {
     "data": {
      "text/plain": [
       "({'3HAD160': {'C': 27.0,\n",
       "   'H': 51.0,\n",
       "   'N': 2.0,\n",
       "   'O': 9.0,\n",
       "   'P': 1.0,\n",
       "   'R': 1.0,\n",
       "   'S': 1.0,\n",
       "   'charge': 0},\n",
       "  '3HAD60': {'C': 17.0,\n",
       "   'H': 31.0,\n",
       "   'N': 2.0,\n",
       "   'O': 9.0,\n",
       "   'P': 1.0,\n",
       "   'R': 1.0,\n",
       "   'S': 1.0,\n",
       "   'charge': 0},\n",
       "  '3OAR160': {'C': 0,\n",
       "   'H': -2.0,\n",
       "   'N': 0,\n",
       "   'O': 0,\n",
       "   'P': 0,\n",
       "   'R': 0,\n",
       "   'S': 0,\n",
       "   'charge': 0},\n",
       "  '3OAR60': {'C': -17.0,\n",
       "   'H': -31.0,\n",
       "   'N': -2.0,\n",
       "   'O': -9.0,\n",
       "   'P': -1.0,\n",
       "   'R': -1.0,\n",
       "   'S': -1.0,\n",
       "   'charge': 0},\n",
       "  '3OAS120': {'C': 0,\n",
       "   'H': 0,\n",
       "   'N': 0,\n",
       "   'O': 0,\n",
       "   'P': 0,\n",
       "   'R': 0,\n",
       "   'S': 0,\n",
       "   'charge': -1.0},\n",
       "  '3OAS140': {'C': 0,\n",
       "   'H': 0,\n",
       "   'N': 0,\n",
       "   'O': 0,\n",
       "   'P': 0,\n",
       "   'R': 0,\n",
       "   'S': 0,\n",
       "   'charge': -1.0},\n",
       "  '3OAS160': {'C': -27.0,\n",
       "   'H': -49.0,\n",
       "   'N': -2.0,\n",
       "   'O': -9.0,\n",
       "   'P': -1.0,\n",
       "   'R': -1.0,\n",
       "   'S': -1.0,\n",
       "   'charge': 0},\n",
       "  '3OAS180': {'C': 0,\n",
       "   'H': 0,\n",
       "   'N': 0,\n",
       "   'O': 0,\n",
       "   'P': 0,\n",
       "   'R': 0,\n",
       "   'S': 0,\n",
       "   'charge': -1.0},\n",
       "  '3OAS60': {'C': 0,\n",
       "   'H': 0,\n",
       "   'N': 0,\n",
       "   'O': 0,\n",
       "   'P': 0,\n",
       "   'R': 0,\n",
       "   'S': 0,\n",
       "   'charge': -1.0},\n",
       "  'ACOATA': {'C': 0,\n",
       "   'H': 0,\n",
       "   'N': 0,\n",
       "   'O': 0,\n",
       "   'P': 0,\n",
       "   'R': 0,\n",
       "   'S': 0,\n",
       "   'charge': 1.0},\n",
       "  'ACP_REPLENISHMENT_RXN': {'C': -13.0,\n",
       "   'H': -23.0,\n",
       "   'N': -2.0,\n",
       "   'O': -8.0,\n",
       "   'P': -1.0,\n",
       "   'R': -1.0,\n",
       "   'S': -1.0,\n",
       "   'charge': 1.0},\n",
       "  'ACYLCOADEHYDROG__45__RXN': {'C': 0,\n",
       "   'H': -1.0,\n",
       "   'N': 0,\n",
       "   'O': 0,\n",
       "   'P': 0,\n",
       "   'R': 0,\n",
       "   'S': 0,\n",
       "   'charge': 0},\n",
       "  'ACYLCOASYN__45__RXN__45__POLYMER__45__INST__45__CPD66__45__39__45__C10__45__H20__47__CO__45__A__47__ATP__47____47__TETRADECANOYL__45__COA__47__PPI__47__AMP__46__66__46__': {'C': 0,\n",
       "   'H': 0,\n",
       "   'N': 0,\n",
       "   'O': 0,\n",
       "   'P': 0,\n",
       "   'R': 0,\n",
       "   'S': 0,\n",
       "   'charge': -1.0},\n",
       "  'ACYLCOASYN__45__RXN__45__POLYMER__45__INST__45__CPD66__45__39__45__C16__45__H32__47__CO__45__A__47__ATP__47____47__CPD__45__9965__47__PPI__47__AMP__46__57__46__': {'C': 0,\n",
       "   'H': 0,\n",
       "   'N': 0,\n",
       "   'O': 0,\n",
       "   'P': 0,\n",
       "   'R': 0,\n",
       "   'S': 0,\n",
       "   'charge': -1.0},\n",
       "  'ACYLCOASYN__45__RXN__45__POLYMER__45__INST__45__CPD66__45__39__45__C2__45__H4__47__CO__45__A__47__ATP__47____47__HEXANOYL__45__COA__47__PPI__47__AMP__46__59__46__': {'C': 0,\n",
       "   'H': 0,\n",
       "   'N': 0,\n",
       "   'O': 0,\n",
       "   'P': 0,\n",
       "   'R': 0,\n",
       "   'S': 0,\n",
       "   'charge': -1.0},\n",
       "  'ALANINE__45____45__TRNA__45__LIGASE__45__RXN': {'C': -3.0,\n",
       "   'H': -7.0,\n",
       "   'N': -1.0,\n",
       "   'O': -1.0,\n",
       "   'P': 0,\n",
       "   'R': -1.0,\n",
       "   'S': 0,\n",
       "   'charge': -1.0},\n",
       "  'AMINEOXID__45__RXN': {'C': 0,\n",
       "   'H': 4.0,\n",
       "   'N': 1.0,\n",
       "   'O': -1.0,\n",
       "   'P': 0,\n",
       "   'R': 0,\n",
       "   'S': 0,\n",
       "   'charge': 0},\n",
       "  'AOXSr2': {'C': 0,\n",
       "   'H': -1.0,\n",
       "   'N': 0,\n",
       "   'O': 0,\n",
       "   'P': 0,\n",
       "   'R': 0,\n",
       "   'S': 0,\n",
       "   'charge': -1.0},\n",
       "  'ARGININE__45____45__TRNA__45__LIGASE__45__RXN': {'C': -6.0,\n",
       "   'H': -15.0,\n",
       "   'N': -4.0,\n",
       "   'O': -1.0,\n",
       "   'P': 0,\n",
       "   'R': -1.0,\n",
       "   'S': 0,\n",
       "   'charge': -1.0},\n",
       "  'ARGINYLTRANSFERASE__45__RXN': {'C': 0,\n",
       "   'H': 1.0,\n",
       "   'N': 0,\n",
       "   'O': 0,\n",
       "   'P': 0,\n",
       "   'R': 1.0,\n",
       "   'S': 0,\n",
       "   'charge': 1.0},\n",
       "  'ARYLSULFAT__45__RXN': {'C': 0,\n",
       "   'H': -1.0,\n",
       "   'N': 0,\n",
       "   'O': 3.0,\n",
       "   'P': 0,\n",
       "   'R': 0,\n",
       "   'S': 1.0,\n",
       "   'charge': 0},\n",
       "  'ASPARAGINE__45____45__TRNA__45__LIGASE__45__RXN': {'C': -14.0,\n",
       "   'H': -25.0,\n",
       "   'N': -2.0,\n",
       "   'O': -12.0,\n",
       "   'P': -1.0,\n",
       "   'R': -2.0,\n",
       "   'S': 0,\n",
       "   'charge': -1.0},\n",
       "  'ASPTRSm': {'C': 0,\n",
       "   'H': -1.0,\n",
       "   'N': 0,\n",
       "   'O': 0,\n",
       "   'P': 0,\n",
       "   'R': 0,\n",
       "   'S': 0,\n",
       "   'charge': -2.0},\n",
       "  'BIOMASS_REACTION': {'C': -44.37737999999989,\n",
       "   'H': -128.8003400000002,\n",
       "   'N': -5.5009199999999945,\n",
       "   'O': -19.711309999999877,\n",
       "   'P': -0.9892799999999615,\n",
       "   'R': 0,\n",
       "   'S': -0.082,\n",
       "   'charge': -44.89506000000003},\n",
       "  'BIOTINLIG__45__RXN': {'C': -10.0,\n",
       "   'H': -14.0,\n",
       "   'N': -2.0,\n",
       "   'O': -2.0,\n",
       "   'P': 0,\n",
       "   'R': 0,\n",
       "   'S': -1.0,\n",
       "   'charge': 0},\n",
       "  'BIOTIN__45__CARBOXYL__45__RXN': {'C': -1.0,\n",
       "   'H': 1.0,\n",
       "   'N': 0,\n",
       "   'O': -2.0,\n",
       "   'P': 0,\n",
       "   'R': 0,\n",
       "   'S': 0,\n",
       "   'charge': 0},\n",
       "  'BTNtex': {'C': 0,\n",
       "   'H': 0,\n",
       "   'N': 0,\n",
       "   'O': 0,\n",
       "   'P': 0,\n",
       "   'R': 0,\n",
       "   'S': 0,\n",
       "   'charge': -1.0},\n",
       "  'BUTYRYL__45__COA__45__DEHYDROGENASE__45__RXN': {'C': 0,\n",
       "   'H': 3.0,\n",
       "   'N': 0,\n",
       "   'O': 0,\n",
       "   'P': 0,\n",
       "   'R': 0,\n",
       "   'S': 0,\n",
       "   'charge': 0},\n",
       "  'CARBONYL__45__REDUCTASE__45__NADPH__45__RXN': {'C': 0,\n",
       "   'H': -2.0,\n",
       "   'N': 0,\n",
       "   'O': 0,\n",
       "   'P': 0,\n",
       "   'R': 0,\n",
       "   'S': 0,\n",
       "   'charge': 0},\n",
       "  'CARBOXYLESTERASE__45__RXN': {'C': 0,\n",
       "   'H': -1.0,\n",
       "   'N': 0,\n",
       "   'O': -1.0,\n",
       "   'P': 0,\n",
       "   'R': 0,\n",
       "   'S': 0,\n",
       "   'charge': 0},\n",
       "  'CERAMIDASE__45__RXN': {'C': 18.0,\n",
       "   'H': 36.0,\n",
       "   'N': 1.0,\n",
       "   'O': 1.0,\n",
       "   'P': 0,\n",
       "   'R': 0,\n",
       "   'S': 0,\n",
       "   'charge': 0},\n",
       "  'CITRYLY__45__RXN': {'C': 4.0,\n",
       "   'H': 2.0,\n",
       "   'N': 0,\n",
       "   'O': 5.0,\n",
       "   'P': 0,\n",
       "   'R': 0,\n",
       "   'S': 0,\n",
       "   'charge': 0},\n",
       "  'CITTRANS__45__RXN': {'C': -4.0,\n",
       "   'H': -2.0,\n",
       "   'N': 0,\n",
       "   'O': -5.0,\n",
       "   'P': 0,\n",
       "   'R': 0,\n",
       "   'S': 0,\n",
       "   'charge': 0},\n",
       "  'COA1819ZD9DS': {'C': 21.0,\n",
       "   'H': 27.0,\n",
       "   'N': 7.0,\n",
       "   'O': 14.0,\n",
       "   'P': 2.0,\n",
       "   'R': 0,\n",
       "   'S': 0,\n",
       "   'charge': -4.0},\n",
       "  'CYOOm_umay': {'C': 0,\n",
       "   'H': 0,\n",
       "   'N': 0,\n",
       "   'O': 0,\n",
       "   'P': 0,\n",
       "   'R': 0,\n",
       "   'S': 0,\n",
       "   'charge': -2.0},\n",
       "  'CYOR_u6m_umay': {'C': 0,\n",
       "   'H': 0,\n",
       "   'N': 0,\n",
       "   'O': 0,\n",
       "   'P': 0,\n",
       "   'R': 0,\n",
       "   'S': 0,\n",
       "   'charge': 2.0},\n",
       "  'CYSTRS': {'C': 0,\n",
       "   'H': -1.0,\n",
       "   'N': 0,\n",
       "   'O': 0,\n",
       "   'P': 0,\n",
       "   'R': 0,\n",
       "   'S': 0,\n",
       "   'charge': -1.0},\n",
       "  'CYTOCHROME__45__B5__45__REDUCTASE__45__RXN': {'C': 0,\n",
       "   'H': -1.0,\n",
       "   'N': 0,\n",
       "   'O': 0,\n",
       "   'P': 0,\n",
       "   'R': 0,\n",
       "   'S': 0,\n",
       "   'charge': 1.0},\n",
       "  'DEOXYHYPUSINE__45__MONOOXYGENASE__45__RXN': {'C': 0,\n",
       "   'H': 0,\n",
       "   'N': 0,\n",
       "   'O': -1.0,\n",
       "   'P': 0,\n",
       "   'R': 0,\n",
       "   'S': 0,\n",
       "   'charge': 0},\n",
       "  'DIPS': {'C': -1.0,\n",
       "   'H': -2.0,\n",
       "   'N': 0,\n",
       "   'O': 0,\n",
       "   'P': 0,\n",
       "   'R': 0,\n",
       "   'S': 0,\n",
       "   'charge': 0},\n",
       "  'DM_erythol_c': {'C': -4.0,\n",
       "   'H': -10.0,\n",
       "   'N': 0,\n",
       "   'O': -4.0,\n",
       "   'P': 0,\n",
       "   'R': 0,\n",
       "   'S': 0,\n",
       "   'charge': 0},\n",
       "  'D__45__AMINO__45__ACID__45__OXIDASE__45__RXN': {'C': 0,\n",
       "   'H': 4.0,\n",
       "   'N': 1.0,\n",
       "   'O': -1.0,\n",
       "   'P': 0,\n",
       "   'R': 0,\n",
       "   'S': 0,\n",
       "   'charge': 0},\n",
       "  'D__45__THREO__45__ALDOSE__45__1__45__DEHYDROGENASE__45__RXN': {'C': 0,\n",
       "   'H': 2.0,\n",
       "   'N': 0,\n",
       "   'O': 0,\n",
       "   'P': 0,\n",
       "   'R': 0,\n",
       "   'S': 0,\n",
       "   'charge': 0},\n",
       "  'EAR140y': {'C': 0,\n",
       "   'H': 0,\n",
       "   'N': 0,\n",
       "   'O': 0,\n",
       "   'P': 0,\n",
       "   'R': 0,\n",
       "   'S': 0,\n",
       "   'charge': -1.0},\n",
       "  'EAR160y': {'C': 0,\n",
       "   'H': 0,\n",
       "   'N': 0,\n",
       "   'O': 0,\n",
       "   'P': 0,\n",
       "   'R': 0,\n",
       "   'S': 0,\n",
       "   'charge': -1.0},\n",
       "  'EAR60y': {'C': 0,\n",
       "   'H': 0,\n",
       "   'N': 0,\n",
       "   'O': 0,\n",
       "   'P': 0,\n",
       "   'R': 0,\n",
       "   'S': 0,\n",
       "   'charge': -1.0},\n",
       "  'EAR80y': {'C': 0,\n",
       "   'H': 0,\n",
       "   'N': 0,\n",
       "   'O': 0,\n",
       "   'P': 0,\n",
       "   'R': 0,\n",
       "   'S': 0,\n",
       "   'charge': -1.0},\n",
       "  'ENOYL__45__ACP__45__REDUCT__45__NADPH__45__RXN': {'C': 0,\n",
       "   'H': 2.0,\n",
       "   'N': 0,\n",
       "   'O': 0,\n",
       "   'P': 0,\n",
       "   'R': 0,\n",
       "   'S': 0,\n",
       "   'charge': 0},\n",
       "  'ENOYL__45__COA__45__HYDRAT__45__RXN__45__CPD0__45__2232__47____47__POLYMER__45__INST__45__TRANS__45__D2__45__ENOYL__45__COA__45__C12__45__H24__47__WATER__46__57__46__': {'C': 0,\n",
       "   'H': 0,\n",
       "   'N': 0,\n",
       "   'O': 0,\n",
       "   'P': 0,\n",
       "   'R': 0,\n",
       "   'S': 0,\n",
       "   'charge': -4.0},\n",
       "  'ENOYL__45__COA__45__HYDRAT__45__RXN__45__POLYMER__45__INST__45__L__45__3__45__HYDROXYACYL__45__COA__45__C14__45__H28__47____47__CPD__45__10262__47__WATER__46__58__46__': {'C': 0,\n",
       "   'H': 0,\n",
       "   'N': 0,\n",
       "   'O': 0,\n",
       "   'P': 0,\n",
       "   'R': 0,\n",
       "   'S': 0,\n",
       "   'charge': 4.0},\n",
       "  'ENOYL__45__COA__45__HYDRAT__45__RXN__45__POLYMER__45__INST__45__L__45__3__45__HYDROXYACYL__45__COA__45__C8__45__H16__47____47__CPD__45__7222__47__WATER__46__56__46__': {'C': 0,\n",
       "   'H': 0,\n",
       "   'N': 0,\n",
       "   'O': 0,\n",
       "   'P': 0,\n",
       "   'R': 0,\n",
       "   'S': 0,\n",
       "   'charge': 4.0},\n",
       "  'FA120ACPHi_1': {'C': 0,\n",
       "   'H': 0,\n",
       "   'N': 0,\n",
       "   'O': 0,\n",
       "   'P': 0,\n",
       "   'R': 0,\n",
       "   'S': 0,\n",
       "   'charge': -1.0},\n",
       "  'FA181ACPHi': {'C': 0,\n",
       "   'H': 0,\n",
       "   'N': 0,\n",
       "   'O': 0,\n",
       "   'P': 0,\n",
       "   'R': 0,\n",
       "   'S': 0,\n",
       "   'charge': -1.0},\n",
       "  'FKYNH': {'C': 0,\n",
       "   'H': 0,\n",
       "   'N': 0,\n",
       "   'O': 0,\n",
       "   'P': 0,\n",
       "   'R': 0,\n",
       "   'S': 0,\n",
       "   'charge': 2.0},\n",
       "  'GALACTOSIDE__45__3__45__FUCOSYLTRANSFERASE__45__RXN': {'C': -6.0,\n",
       "   'H': -10.0,\n",
       "   'N': 0,\n",
       "   'O': -4.0,\n",
       "   'P': 0,\n",
       "   'R': 0,\n",
       "   'S': 0,\n",
       "   'charge': 0},\n",
       "  'GAMMA__45__GLUTAMYLCYCLOTRANSFERASE__45__RXN': {'C': 5.0,\n",
       "   'H': 6.0,\n",
       "   'N': 1.0,\n",
       "   'O': 3.0,\n",
       "   'P': 0,\n",
       "   'R': 0,\n",
       "   'S': 0,\n",
       "   'charge': 0},\n",
       "  'GCVT__45__RXN': {'C': 1.0,\n",
       "   'H': 4.0,\n",
       "   'N': 1.0,\n",
       "   'O': 0,\n",
       "   'P': 0,\n",
       "   'R': 0,\n",
       "   'S': 0,\n",
       "   'charge': 0},\n",
       "  'GLNTRAT': {'C': 5.0,\n",
       "   'H': 7.0,\n",
       "   'N': 1.0,\n",
       "   'O': 3.0,\n",
       "   'P': 0,\n",
       "   'R': 1.0,\n",
       "   'S': 0,\n",
       "   'charge': 0},\n",
       "  'GLNTRS': {'C': 0,\n",
       "   'H': -1.0,\n",
       "   'N': 0,\n",
       "   'O': 0,\n",
       "   'P': 0,\n",
       "   'R': 0,\n",
       "   'S': 0,\n",
       "   'charge': -1.0},\n",
       "  'GLUCOSE__45__1__45__DEHYDROGENASE__45__RXN': {'C': 0,\n",
       "   'H': -1.0,\n",
       "   'N': 0,\n",
       "   'O': 0,\n",
       "   'P': 0,\n",
       "   'R': 0,\n",
       "   'S': 0,\n",
       "   'charge': 0},\n",
       "  'GLURS__45__RXN': {'C': -5.0,\n",
       "   'H': -8.0,\n",
       "   'N': -1.0,\n",
       "   'O': -3.0,\n",
       "   'P': 0,\n",
       "   'R': -1.0,\n",
       "   'S': 0,\n",
       "   'charge': -1.0},\n",
       "  'GLUTARYL__45__COA__45__DEHYDROG__45__RXN': {'C': 0,\n",
       "   'H': -3.0,\n",
       "   'N': 0,\n",
       "   'O': 0,\n",
       "   'P': 0,\n",
       "   'R': 0,\n",
       "   'S': 0,\n",
       "   'charge': 0},\n",
       "  'GLUTRS_Gln': {'C': -5.0,\n",
       "   'H': -8.0,\n",
       "   'N': -1.0,\n",
       "   'O': -3.0,\n",
       "   'P': 0,\n",
       "   'R': -1.0,\n",
       "   'S': 0,\n",
       "   'charge': -1.0},\n",
       "  'GLYCINE__45____45__TRNA__45__LIGASE__45__RXN': {'C': -2.0,\n",
       "   'H': -5.0,\n",
       "   'N': -1.0,\n",
       "   'O': -1.0,\n",
       "   'P': 0,\n",
       "   'R': -1.0,\n",
       "   'S': 0,\n",
       "   'charge': -1.0},\n",
       "  'GLYCPDIESTER__45__RXN': {'C': 3.0,\n",
       "   'H': 6.0,\n",
       "   'N': 0,\n",
       "   'O': 5.0,\n",
       "   'P': 1.0,\n",
       "   'R': 0,\n",
       "   'S': 0,\n",
       "   'charge': 0},\n",
       "  'HEME__45__OXYGENASE__45__DECYCLIZING__45__RXN': {'C': 0,\n",
       "   'H': 2.0,\n",
       "   'N': 0,\n",
       "   'O': 0,\n",
       "   'P': 0,\n",
       "   'R': 0,\n",
       "   'S': 0,\n",
       "   'charge': 2.0},\n",
       "  'HISTIDINE__45____45__TRNA__45__LIGASE__45__RXN': {'C': -6.0,\n",
       "   'H': -9.0,\n",
       "   'N': -3.0,\n",
       "   'O': -1.0,\n",
       "   'P': 0,\n",
       "   'R': -1.0,\n",
       "   'S': 0,\n",
       "   'charge': -1.0},\n",
       "  'HISTONE__45__ACETYLTRANSFERASE__45__RXN': {'C': -2.0,\n",
       "   'H': -1.0,\n",
       "   'N': 0,\n",
       "   'O': -1.0,\n",
       "   'P': 0,\n",
       "   'R': 0,\n",
       "   'S': 0,\n",
       "   'charge': 0},\n",
       "  'HISTONE__45__LYSINE__45__N__45__METHYLTRANSFERASE__45__RXN': {'C': -1.0,\n",
       "   'H': -2.0,\n",
       "   'N': 0,\n",
       "   'O': 0,\n",
       "   'P': 0,\n",
       "   'R': 0,\n",
       "   'S': 0,\n",
       "   'charge': 0},\n",
       "  'Hexaprenyl__45__Diphosphate__45__Biosynthesis__45__RXN': {'C': 10.0,\n",
       "   'H': 18.0,\n",
       "   'N': 0,\n",
       "   'O': 14.0,\n",
       "   'P': 4.0,\n",
       "   'R': 0,\n",
       "   'S': 0,\n",
       "   'charge': -6.0},\n",
       "  'ISOLEUCINE__45____45__TRNA__45__LIGASE__45__RXN': {'C': -6.0,\n",
       "   'H': -13.0,\n",
       "   'N': -1.0,\n",
       "   'O': -1.0,\n",
       "   'P': 0,\n",
       "   'R': -1.0,\n",
       "   'S': 0,\n",
       "   'charge': -1.0},\n",
       "  'KAS14': {'C': 0,\n",
       "   'H': 0,\n",
       "   'N': 0,\n",
       "   'O': 0,\n",
       "   'P': 0,\n",
       "   'R': 0,\n",
       "   'S': 0,\n",
       "   'charge': -1.0},\n",
       "  'KETOACYLCOATHIOL__45__RXN__45__PALMITYL__45__COA__47__ACETYL__45__COA__47____47__POLYMER__45__INST__45__3__45__KETOACYL__45__COA__45__C14__45__H28__47__CO__45__A__46__66__46__': {'C': 0,\n",
       "   'H': 0,\n",
       "   'N': 0,\n",
       "   'O': 0,\n",
       "   'P': 0,\n",
       "   'R': 0,\n",
       "   'S': 0,\n",
       "   'charge': -4.0},\n",
       "  'LEUCINE__45____45__TRNA__45__LIGASE__45__RXN': {'C': -6.0,\n",
       "   'H': -13.0,\n",
       "   'N': -1.0,\n",
       "   'O': -1.0,\n",
       "   'P': 0,\n",
       "   'R': -1.0,\n",
       "   'S': 0,\n",
       "   'charge': -1.0},\n",
       "  'LONG__45__CHAIN__45__ENOYL__45__COA__45__HYDRATASE__45__RXN': {'C': 0,\n",
       "   'H': 2.0,\n",
       "   'N': 0,\n",
       "   'O': 1.0,\n",
       "   'P': 0,\n",
       "   'R': 0,\n",
       "   'S': 0,\n",
       "   'charge': 0},\n",
       "  'LYSINE__45____45__TRNA__45__LIGASE__45__RXN': {'C': -6.0,\n",
       "   'H': -15.0,\n",
       "   'N': -2.0,\n",
       "   'O': -1.0,\n",
       "   'P': 0,\n",
       "   'R': -1.0,\n",
       "   'S': 0,\n",
       "   'charge': -1.0},\n",
       "  'LYSOPHOSPHOLIPASE__45__RXN': {'C': 8.0,\n",
       "   'H': 19.0,\n",
       "   'N': 1.0,\n",
       "   'O': 5.0,\n",
       "   'P': 1.0,\n",
       "   'R': 0,\n",
       "   'S': 0,\n",
       "   'charge': 0},\n",
       "  'MCOATA': {'C': 0,\n",
       "   'H': 0,\n",
       "   'N': 0,\n",
       "   'O': 0,\n",
       "   'P': 0,\n",
       "   'R': 0,\n",
       "   'S': 0,\n",
       "   'charge': 1.0},\n",
       "  'METHIONINE__45____45__TRNA__45__LIGASE__45__RXN': {'C': 0,\n",
       "   'H': -1.0,\n",
       "   'N': 0,\n",
       "   'O': 0,\n",
       "   'P': 0,\n",
       "   'R': 1.0,\n",
       "   'S': 0,\n",
       "   'charge': -1.0},\n",
       "  'METHIONYL__45__TRNA__45__FORMYLTRANSFERASE__45__RXN': {'C': 5.0,\n",
       "   'H': 9.0,\n",
       "   'N': 1.0,\n",
       "   'O': 1.0,\n",
       "   'P': 0,\n",
       "   'R': 1.0,\n",
       "   'S': 1.0,\n",
       "   'charge': 0},\n",
       "  'MYOSIN__45__LIGHT__45__CHAIN__45__PHOSPHATASE__45__RXN': {'C': 0,\n",
       "   'H': 1.0,\n",
       "   'N': 0,\n",
       "   'O': 3.0,\n",
       "   'P': 1.0,\n",
       "   'R': 0,\n",
       "   'S': 0,\n",
       "   'charge': 0},\n",
       "  'NGAM': {'C': 0,\n",
       "   'H': -1.0,\n",
       "   'N': 0,\n",
       "   'O': 0,\n",
       "   'P': 0,\n",
       "   'R': 0,\n",
       "   'S': 0,\n",
       "   'charge': -1.0},\n",
       "  'OHACYL__45__COA__45__DEHYDROG__45__RXN__45__POLYMER__45__INST__45__L__45__3__45__HYDROXYACYL__45__COA__45__C10__45__H20__47__NAD__47____47__CPD__45__10284__47__NADH__47__PROTON__46__68__46__': {'C': 0,\n",
       "   'H': 0,\n",
       "   'N': 0,\n",
       "   'O': 0,\n",
       "   'P': 0,\n",
       "   'R': 0,\n",
       "   'S': 0,\n",
       "   'charge': -4.0},\n",
       "  'OHACYL__45__COA__45__DEHYDROG__45__RXN__45__POLYMER__45__INST__45__L__45__3__45__HYDROXYACYL__45__COA__45__C16__45__H32__47__NAD__47____47__CPD__45__14271__47__NADH__47__PROTON__46__68__46__': {'C': 0,\n",
       "   'H': 0,\n",
       "   'N': 0,\n",
       "   'O': 0,\n",
       "   'P': 0,\n",
       "   'R': 0,\n",
       "   'S': 0,\n",
       "   'charge': -4.0},\n",
       "  'OHACYL__45__COA__45__DEHYDROG__45__RXN__45__POLYMER__45__INST__45__L__45__3__45__HYDROXYACYL__45__COA__45__C8__45__H16__47__NAD__47____47__CPD0__45__2105__47__NADH__47__PROTON__46__67__46__': {'C': 0,\n",
       "   'H': 0,\n",
       "   'N': 0,\n",
       "   'O': 0,\n",
       "   'P': 0,\n",
       "   'R': 0,\n",
       "   'S': 0,\n",
       "   'charge': -4.0},\n",
       "  'Oxidization_FADH2': {'C': 0,\n",
       "   'H': -1.0,\n",
       "   'N': 0,\n",
       "   'O': 0,\n",
       "   'P': 0,\n",
       "   'R': 0,\n",
       "   'S': 0,\n",
       "   'charge': -1.0},\n",
       "  'PHENOL__45__BETA__45__GLUCOSYLTRANSFERASE__45__RXN': {'C': -6.0,\n",
       "   'H': -10.0,\n",
       "   'N': 0,\n",
       "   'O': -5.0,\n",
       "   'P': 0,\n",
       "   'R': 0,\n",
       "   'S': 0,\n",
       "   'charge': 0},\n",
       "  'PHENYLALANINE__45____45__TRNA__45__LIGASE__45__RXN': {'C': -9.0,\n",
       "   'H': -11.0,\n",
       "   'N': -1.0,\n",
       "   'O': -1.0,\n",
       "   'P': 0,\n",
       "   'R': -1.0,\n",
       "   'S': 0,\n",
       "   'charge': -1.0},\n",
       "  'PHOSPHATIDATE__45__PHOSPHATASE__45__RXN': {'C': 0,\n",
       "   'H': -1.0,\n",
       "   'N': 0,\n",
       "   'O': 3.0,\n",
       "   'P': 1.0,\n",
       "   'R': 0,\n",
       "   'S': 0,\n",
       "   'charge': 0},\n",
       "  'PHOSPHATIDYLCHOLINE__45__DESATURASE__45__RXN': {'C': 0,\n",
       "   'H': 2.0,\n",
       "   'N': 0,\n",
       "   'O': 0,\n",
       "   'P': 0,\n",
       "   'R': 0,\n",
       "   'S': 0,\n",
       "   'charge': 0},\n",
       "  'PHOSPHATIDYLINOSITOL__45__3__45__PHOSPHATASE__45__RXN': {'C': 0,\n",
       "   'H': -1.0,\n",
       "   'N': 0,\n",
       "   'O': 3.0,\n",
       "   'P': 1.0,\n",
       "   'R': 0,\n",
       "   'S': 0,\n",
       "   'charge': 0},\n",
       "  'PHOSPHATIDYLINOSITOL__45__BISPHOSPHATASE__45__RXN': {'C': 0,\n",
       "   'H': -1.0,\n",
       "   'N': 0,\n",
       "   'O': 3.0,\n",
       "   'P': 1.0,\n",
       "   'R': 0,\n",
       "   'S': 0,\n",
       "   'charge': 0},\n",
       "  'PHOSPHOLIPASE__45__A1__45__RXN': {'C': -40.0,\n",
       "   'H': -81.0,\n",
       "   'N': -1.0,\n",
       "   'O': -9.0,\n",
       "   'P': -1.0,\n",
       "   'R': 0,\n",
       "   'S': 0,\n",
       "   'charge': 0},\n",
       "  'PHOSPHOLIPASE__45__C__45__RXN': {'C': -35.0,\n",
       "   'H': -68.0,\n",
       "   'N': 0,\n",
       "   'O': -5.0,\n",
       "   'P': 0,\n",
       "   'R': 0,\n",
       "   'S': 0,\n",
       "   'charge': 0},\n",
       "  'PNTO_Rtex': {'C': -9.0,\n",
       "   'H': -16.0,\n",
       "   'N': -1.0,\n",
       "   'O': -5.0,\n",
       "   'P': 0,\n",
       "   'R': 0,\n",
       "   'S': 0,\n",
       "   'charge': 0},\n",
       "  'PRODISULFREDUCT__45__A__45__RXN': {'C': 0,\n",
       "   'H': 0,\n",
       "   'N': 0,\n",
       "   'O': 0,\n",
       "   'P': 0,\n",
       "   'R': 0,\n",
       "   'S': 0,\n",
       "   'X': 1.0,\n",
       "   'charge': 0},\n",
       "  'PROLINE__45____45__TRNA__45__LIGASE__45__RXN': {'C': -5.0,\n",
       "   'H': -9.0,\n",
       "   'N': -1.0,\n",
       "   'O': -1.0,\n",
       "   'P': 0,\n",
       "   'R': -1.0,\n",
       "   'S': 0,\n",
       "   'charge': -1.0},\n",
       "  'PROTEIN__45__KINASE__45__RXN': {'C': 0,\n",
       "   'H': 1.0,\n",
       "   'N': 0,\n",
       "   'O': -3.0,\n",
       "   'P': -1.0,\n",
       "   'R': 0,\n",
       "   'S': 0,\n",
       "   'charge': 0},\n",
       "  'PROTEIN__45__TYROSINE__45__PHOSPHATASE__45__RXN': {'C': 0,\n",
       "   'H': -1.0,\n",
       "   'N': 0,\n",
       "   'O': 3.0,\n",
       "   'P': 1.0,\n",
       "   'R': 0,\n",
       "   'S': 0,\n",
       "   'charge': 0},\n",
       "  'PSD160': {'C': 0,\n",
       "   'H': 0,\n",
       "   'N': 0,\n",
       "   'O': 0,\n",
       "   'P': 0,\n",
       "   'R': 0,\n",
       "   'S': 0,\n",
       "   'charge': -1.0},\n",
       "  'PSSA160': {'C': 0,\n",
       "   'H': 0,\n",
       "   'N': 0,\n",
       "   'O': 0,\n",
       "   'P': 0,\n",
       "   'R': 0,\n",
       "   'S': 0,\n",
       "   'charge': 1.0},\n",
       "  'Putative_Trans_Aconitate_Decarboxylase': {'C': 0,\n",
       "   'H': 1.0,\n",
       "   'N': 0,\n",
       "   'O': 0,\n",
       "   'P': 0,\n",
       "   'R': 0,\n",
       "   'S': 0,\n",
       "   'charge': 1.0},\n",
       "  'R265__45__RXN': {'C': 0,\n",
       "   'H': -3.0,\n",
       "   'N': 0,\n",
       "   'O': 0,\n",
       "   'P': 0,\n",
       "   'R': 0,\n",
       "   'S': 0,\n",
       "   'charge': 0},\n",
       "  'R282__45__RXN': {'C': 0,\n",
       "   'H': -3.0,\n",
       "   'N': 0,\n",
       "   'O': 0,\n",
       "   'P': 0,\n",
       "   'R': 0,\n",
       "   'S': 0,\n",
       "   'charge': 0},\n",
       "  'RIBONUCLEOSIDE__45__DIP__45__REDUCTI__45__RXN': {'C': 0,\n",
       "   'H': 0,\n",
       "   'N': 0,\n",
       "   'O': -1.0,\n",
       "   'P': 0,\n",
       "   'R': 0,\n",
       "   'S': 0,\n",
       "   'charge': 0},\n",
       "  'RXN0__45__1134': {'C': -2.0,\n",
       "   'H': -4.0,\n",
       "   'N': 0,\n",
       "   'O': -1.0,\n",
       "   'P': 0,\n",
       "   'R': 0,\n",
       "   'S': 0,\n",
       "   'charge': 0},\n",
       "  'RXN0__45__2142': {'C': 0,\n",
       "   'H': 2.0,\n",
       "   'N': 0,\n",
       "   'O': 0,\n",
       "   'P': 0,\n",
       "   'R': 0,\n",
       "   'S': 0,\n",
       "   'charge': 0},\n",
       "  'RXN0__45__2161': {'C': -3.0,\n",
       "   'H': -7.0,\n",
       "   'N': -1.0,\n",
       "   'O': -2.0,\n",
       "   'P': 0,\n",
       "   'R': 0,\n",
       "   'S': 0,\n",
       "   'charge': -1.0},\n",
       "  'RXN0__45__5055': {'C': 1.0,\n",
       "   'H': -1.0,\n",
       "   'N': 0,\n",
       "   'O': 2.0,\n",
       "   'P': 0,\n",
       "   'R': 0,\n",
       "   'S': 0,\n",
       "   'charge': 0},\n",
       "  'RXN0__45__5468': {'C': 0,\n",
       "   'H': 0,\n",
       "   'N': 0,\n",
       "   'O': 1.0,\n",
       "   'P': 0,\n",
       "   'R': 0,\n",
       "   'S': 0,\n",
       "   'charge': 0},\n",
       "  'RXN0__45__5514': {'C': 11.0,\n",
       "   'H': 21.0,\n",
       "   'N': 2.0,\n",
       "   'O': 7.0,\n",
       "   'P': 1.0,\n",
       "   'R': 1.0,\n",
       "   'S': 1.0,\n",
       "   'charge': -1.0},\n",
       "  'RXN0__45__5515': {'C': -9.0,\n",
       "   'H': -12.0,\n",
       "   'N': -3.0,\n",
       "   'O': -7.0,\n",
       "   'P': -1.0,\n",
       "   'R': 0,\n",
       "   'S': 0,\n",
       "   'charge': 0},\n",
       "  'RXN0__45__6274': {'C': -5.0,\n",
       "   'H': -8.0,\n",
       "   'N': 0,\n",
       "   'O': 0,\n",
       "   'P': 0,\n",
       "   'R': 0,\n",
       "   'S': 0,\n",
       "   'charge': 0},\n",
       "  'RXN0__45__6359': {'C': 0,\n",
       "   'H': 1.0,\n",
       "   'N': 0,\n",
       "   'O': 0,\n",
       "   'P': 0,\n",
       "   'R': 0,\n",
       "   'S': 1.0,\n",
       "   'charge': 1.0},\n",
       "  'RXN0__45__7080': {'C': 0,\n",
       "   'H': 0,\n",
       "   'N': 0,\n",
       "   'O': 0,\n",
       "   'P': 0,\n",
       "   'R': 0,\n",
       "   'S': 0,\n",
       "   'charge': 1.0},\n",
       "  'RXN0__45__949': {'C': 0,\n",
       "   'H': 4.0,\n",
       "   'N': 0,\n",
       "   'O': 0,\n",
       "   'P': 0,\n",
       "   'R': 0,\n",
       "   'S': 0,\n",
       "   'charge': 0},\n",
       "  'RXN1A0__45__6303': {'C': 0,\n",
       "   'H': -1.0,\n",
       "   'N': 0,\n",
       "   'O': 0,\n",
       "   'P': 0,\n",
       "   'R': 0,\n",
       "   'S': 0,\n",
       "   'charge': 1.0},\n",
       "  'RXN1G__45__1050': {'C': 0,\n",
       "   'H': 2.0,\n",
       "   'N': 0,\n",
       "   'O': 0,\n",
       "   'P': 0,\n",
       "   'R': 0,\n",
       "   'S': 0,\n",
       "   'charge': 0},\n",
       "  'RXN1G__45__1053': {'C': 0,\n",
       "   'H': 2.0,\n",
       "   'N': 0,\n",
       "   'O': 0,\n",
       "   'P': 0,\n",
       "   'R': 0,\n",
       "   'S': 0,\n",
       "   'charge': 0},\n",
       "  'RXN1G__45__1247': {'C': 0,\n",
       "   'H': 2.0,\n",
       "   'N': 0,\n",
       "   'O': 0,\n",
       "   'P': 0,\n",
       "   'R': 0,\n",
       "   'S': 0,\n",
       "   'charge': 0},\n",
       "  'RXN1G__45__163': {'C': 0,\n",
       "   'H': 2.0,\n",
       "   'N': 0,\n",
       "   'O': 0,\n",
       "   'P': 0,\n",
       "   'R': 0,\n",
       "   'S': 0,\n",
       "   'charge': 0},\n",
       "  'RXN1G__45__182': {'C': 0,\n",
       "   'H': 2.0,\n",
       "   'N': 0,\n",
       "   'O': 0,\n",
       "   'P': 0,\n",
       "   'R': 0,\n",
       "   'S': 0,\n",
       "   'charge': 0},\n",
       "  'RXN1G__45__184': {'C': 0,\n",
       "   'H': 2.0,\n",
       "   'N': 0,\n",
       "   'O': 0,\n",
       "   'P': 0,\n",
       "   'R': 0,\n",
       "   'S': 0,\n",
       "   'charge': 0},\n",
       "  'RXN1G__45__203': {'C': 0,\n",
       "   'H': 2.0,\n",
       "   'N': 0,\n",
       "   'O': 0,\n",
       "   'P': 0,\n",
       "   'R': 0,\n",
       "   'S': 0,\n",
       "   'charge': 0},\n",
       "  'RXN1G__45__240': {'C': 0,\n",
       "   'H': 2.0,\n",
       "   'N': 0,\n",
       "   'O': 0,\n",
       "   'P': 0,\n",
       "   'R': 0,\n",
       "   'S': 0,\n",
       "   'charge': 0},\n",
       "  'RXN1G__45__252': {'C': 0,\n",
       "   'H': 2.0,\n",
       "   'N': 0,\n",
       "   'O': 0,\n",
       "   'P': 0,\n",
       "   'R': 0,\n",
       "   'S': 0,\n",
       "   'charge': 0},\n",
       "  'RXN1G__45__260': {'C': 0,\n",
       "   'H': 2.0,\n",
       "   'N': 0,\n",
       "   'O': 0,\n",
       "   'P': 0,\n",
       "   'R': 0,\n",
       "   'S': 0,\n",
       "   'charge': 0},\n",
       "  'RXN1G__45__262': {'C': 0,\n",
       "   'H': 2.0,\n",
       "   'N': 0,\n",
       "   'O': 0,\n",
       "   'P': 0,\n",
       "   'R': 0,\n",
       "   'S': 0,\n",
       "   'charge': 0},\n",
       "  'RXN1G__45__287': {'C': 0,\n",
       "   'H': 2.0,\n",
       "   'N': 0,\n",
       "   'O': 0,\n",
       "   'P': 0,\n",
       "   'R': 0,\n",
       "   'S': 0,\n",
       "   'charge': 0},\n",
       "  'RXN1G__45__320': {'C': 0,\n",
       "   'H': 2.0,\n",
       "   'N': 0,\n",
       "   'O': 1.0,\n",
       "   'P': 0,\n",
       "   'R': 0,\n",
       "   'S': 0,\n",
       "   'charge': 0},\n",
       "  'RXN1G__45__358': {'C': 0,\n",
       "   'H': 2.0,\n",
       "   'N': 0,\n",
       "   'O': 0,\n",
       "   'P': 0,\n",
       "   'R': 0,\n",
       "   'S': 0,\n",
       "   'charge': 0},\n",
       "  'RXN1G__45__363': {'C': 0,\n",
       "   'H': 2.0,\n",
       "   'N': 0,\n",
       "   'O': 1.0,\n",
       "   'P': 0,\n",
       "   'R': 0,\n",
       "   'S': 0,\n",
       "   'charge': 0},\n",
       "  'RXN1G__45__364': {'C': 0,\n",
       "   'H': 2.0,\n",
       "   'N': 0,\n",
       "   'O': 0,\n",
       "   'P': 0,\n",
       "   'R': 0,\n",
       "   'S': 0,\n",
       "   'charge': 0},\n",
       "  'RXN1G__45__384': {'C': 0,\n",
       "   'H': 2.0,\n",
       "   'N': 0,\n",
       "   'O': 0,\n",
       "   'P': 0,\n",
       "   'R': 0,\n",
       "   'S': 0,\n",
       "   'charge': 0},\n",
       "  'RXN1G__45__408': {'C': 0,\n",
       "   'H': 2.0,\n",
       "   'N': 0,\n",
       "   'O': 0,\n",
       "   'P': 0,\n",
       "   'R': 0,\n",
       "   'S': 0,\n",
       "   'charge': 0},\n",
       "  'RXN1G__45__409': {'C': 0,\n",
       "   'H': 2.0,\n",
       "   'N': 0,\n",
       "   'O': 0,\n",
       "   'P': 0,\n",
       "   'R': 0,\n",
       "   'S': 0,\n",
       "   'charge': 0},\n",
       "  'RXN1G__45__469': {'C': 0,\n",
       "   'H': 2.0,\n",
       "   'N': 0,\n",
       "   'O': 0,\n",
       "   'P': 0,\n",
       "   'R': 0,\n",
       "   'S': 0,\n",
       "   'charge': 0},\n",
       "  'RXN1G__45__481': {'C': 0,\n",
       "   'H': 2.0,\n",
       "   'N': 0,\n",
       "   'O': 0,\n",
       "   'P': 0,\n",
       "   'R': 0,\n",
       "   'S': 0,\n",
       "   'charge': 0},\n",
       "  'RXN1G__45__517': {'C': 0,\n",
       "   'H': 2.0,\n",
       "   'N': 0,\n",
       "   'O': 1.0,\n",
       "   'P': 0,\n",
       "   'R': 0,\n",
       "   'S': 0,\n",
       "   'charge': 0},\n",
       "  'RXN1G__45__613': {'C': 0,\n",
       "   'H': 2.0,\n",
       "   'N': 0,\n",
       "   'O': 0,\n",
       "   'P': 0,\n",
       "   'R': 0,\n",
       "   'S': 0,\n",
       "   'charge': 0},\n",
       "  'RXN1G__45__617': {'C': 0,\n",
       "   'H': 2.0,\n",
       "   'N': 0,\n",
       "   'O': 0,\n",
       "   'P': 0,\n",
       "   'R': 0,\n",
       "   'S': 0,\n",
       "   'charge': 0},\n",
       "  'RXN1G__45__637': {'C': 0,\n",
       "   'H': 2.0,\n",
       "   'N': 0,\n",
       "   'O': 0,\n",
       "   'P': 0,\n",
       "   'R': 0,\n",
       "   'S': 0,\n",
       "   'charge': 0},\n",
       "  'RXN1G__45__717': {'C': 0,\n",
       "   'H': 2.0,\n",
       "   'N': 0,\n",
       "   'O': 0,\n",
       "   'P': 0,\n",
       "   'R': 0,\n",
       "   'S': 0,\n",
       "   'charge': 0},\n",
       "  'RXN1G__45__72': {'C': 0,\n",
       "   'H': 2.0,\n",
       "   'N': 0,\n",
       "   'O': 0,\n",
       "   'P': 0,\n",
       "   'R': 0,\n",
       "   'S': 0,\n",
       "   'charge': 0},\n",
       "  'RXN1G__45__853': {'C': 0,\n",
       "   'H': 2.0,\n",
       "   'N': 0,\n",
       "   'O': 0,\n",
       "   'P': 0,\n",
       "   'R': 0,\n",
       "   'S': 0,\n",
       "   'charge': 0},\n",
       "  'RXN1G__45__881': {'C': 0,\n",
       "   'H': 2.0,\n",
       "   'N': 0,\n",
       "   'O': 0,\n",
       "   'P': 0,\n",
       "   'R': 0,\n",
       "   'S': 0,\n",
       "   'charge': 0},\n",
       "  'RXN1G__45__951': {'C': 0,\n",
       "   'H': 2.0,\n",
       "   'N': 0,\n",
       "   'O': 0,\n",
       "   'P': 0,\n",
       "   'R': 0,\n",
       "   'S': 0,\n",
       "   'charge': 0},\n",
       "  'RXN3DJ__45__11100': {'C': 0,\n",
       "   'H': 3.0,\n",
       "   'N': 0,\n",
       "   'O': 0,\n",
       "   'P': 0,\n",
       "   'R': 0,\n",
       "   'S': 0,\n",
       "   'charge': 0},\n",
       "  'RXN3DJ__45__118': {'C': 3.0,\n",
       "   'H': -7.0,\n",
       "   'N': 6.0,\n",
       "   'O': 14.0,\n",
       "   'P': 3.0,\n",
       "   'R': 0,\n",
       "   'S': 1.0,\n",
       "   'charge': 0},\n",
       "  'RXN66__45__469': {'C': -21.0,\n",
       "   'H': -31.0,\n",
       "   'N': -7.0,\n",
       "   'O': -15.0,\n",
       "   'P': -3.0,\n",
       "   'R': 0,\n",
       "   'S': -1.0,\n",
       "   'charge': 0},\n",
       "  'RXN66__45__472': {'C': 0,\n",
       "   'H': 1.0,\n",
       "   'N': 0,\n",
       "   'O': -1.0,\n",
       "   'P': 0,\n",
       "   'R': 0,\n",
       "   'S': 0,\n",
       "   'charge': 0},\n",
       "  'RXN66__45__474': {'C': -21.0,\n",
       "   'H': -31.0,\n",
       "   'N': -7.0,\n",
       "   'O': -15.0,\n",
       "   'P': -3.0,\n",
       "   'R': 0,\n",
       "   'S': -1.0,\n",
       "   'charge': 0},\n",
       "  'RXN66__45__476': {'C': 0,\n",
       "   'H': 1.0,\n",
       "   'N': 0,\n",
       "   'O': -1.0,\n",
       "   'P': 0,\n",
       "   'R': 0,\n",
       "   'S': 0,\n",
       "   'charge': 0},\n",
       "  'RXN66__45__477': {'C': -21.0,\n",
       "   'H': -31.0,\n",
       "   'N': -7.0,\n",
       "   'O': -15.0,\n",
       "   'P': -3.0,\n",
       "   'R': 0,\n",
       "   'S': -1.0,\n",
       "   'charge': 0},\n",
       "  'RXN66__45__485__45__CPD__45__10261__47__NAD__47____47__POLYMER__45__INST__45__3__45__KETOACYL__45__COA__45__C14__45__H28__47__NADH__47__PROTON__46__63__46__': {'C': 0,\n",
       "   'H': 0,\n",
       "   'N': 0,\n",
       "   'O': 0,\n",
       "   'P': 0,\n",
       "   'R': 0,\n",
       "   'S': 0,\n",
       "   'charge': 4.0},\n",
       "  'RXN66__45__485__45__POLYMER__45__INST__45__D__45__3__45__HYDROXYACYL__45__COA__45__C10__45__H20__47__NAD__47____47__CPD__45__10284__47__NADH__47__PROTON__46__68__46__': {'C': 0,\n",
       "   'H': 0,\n",
       "   'N': 0,\n",
       "   'O': 0,\n",
       "   'P': 0,\n",
       "   'R': 0,\n",
       "   'S': 0,\n",
       "   'charge': -4.0},\n",
       "  'RXN66__45__485__45__POLYMER__45__INST__45__D__45__3__45__HYDROXYACYL__45__COA__45__C12__45__H24__47__NAD__47____47__3__45__OXOPALMITOYL__45__COA__47__NADH__47__PROTON__46__77__46__': {'C': 0,\n",
       "   'H': 0,\n",
       "   'N': 0,\n",
       "   'O': 0,\n",
       "   'P': 0,\n",
       "   'R': 0,\n",
       "   'S': 0,\n",
       "   'charge': -4.0},\n",
       "  'RXN66__45__485__45__POLYMER__45__INST__45__D__45__3__45__HYDROXYACYL__45__COA__45__C2__45__H4__47__NAD__47____47__K__45__HEXANOYL__45__COA__47__NADH__47__PROTON__46__71__46__': {'C': 0,\n",
       "   'H': 0,\n",
       "   'N': 0,\n",
       "   'O': 0,\n",
       "   'P': 0,\n",
       "   'R': 0,\n",
       "   'S': 0,\n",
       "   'charge': -4.0},\n",
       "  'RXN66__45__485__45__POLYMER__45__INST__45__D__45__3__45__HYDROXYACYL__45__COA__45__C4__45__H8__47__NAD__47____47__CPD0__45__2106__47__NADH__47__PROTON__46__66__46__': {'C': 0,\n",
       "   'H': 0,\n",
       "   'N': 0,\n",
       "   'O': 0,\n",
       "   'P': 0,\n",
       "   'R': 0,\n",
       "   'S': 0,\n",
       "   'charge': -4.0},\n",
       "  'RXN66__45__485__45__POLYMER__45__INST__45__D__45__3__45__HYDROXYACYL__45__COA__45__C8__45__H16__47__NAD__47____47__CPD0__45__2105__47__NADH__47__PROTON__46__67__46__': {'C': 0,\n",
       "   'H': 0,\n",
       "   'N': 0,\n",
       "   'O': 0,\n",
       "   'P': 0,\n",
       "   'R': 0,\n",
       "   'S': 0,\n",
       "   'charge': -4.0},\n",
       "  'RXN__45__10655': {'C': 0,\n",
       "   'H': 2.0,\n",
       "   'N': 0,\n",
       "   'O': 0,\n",
       "   'P': 0,\n",
       "   'R': 0,\n",
       "   'S': 0,\n",
       "   'charge': 0},\n",
       "  'RXN__45__10659': {'C': 0,\n",
       "   'H': 2.0,\n",
       "   'N': 0,\n",
       "   'O': 0,\n",
       "   'P': 0,\n",
       "   'R': 0,\n",
       "   'S': 0,\n",
       "   'charge': 0},\n",
       "  'RXN__45__10938': {'C': 0,\n",
       "   'H': -1.0,\n",
       "   'N': 0,\n",
       "   'O': 3.0,\n",
       "   'P': 1.0,\n",
       "   'R': 0,\n",
       "   'S': 0,\n",
       "   'charge': 0},\n",
       "  'RXN__45__10958': {'C': 0,\n",
       "   'H': -1.0,\n",
       "   'N': 0,\n",
       "   'O': 3.0,\n",
       "   'P': 1.0,\n",
       "   'R': 0,\n",
       "   'S': 0,\n",
       "   'charge': 0},\n",
       "  'RXN__45__10981': {'C': 0,\n",
       "   'H': 0,\n",
       "   'N': 0,\n",
       "   'O': 0,\n",
       "   'P': 0,\n",
       "   'R': 0,\n",
       "   'S': 0,\n",
       "   'charge': -1.0},\n",
       "  'RXN__45__11026__45__CPD__45__9965__47__OXYGEN__45__MOLECULE__47____47__POLYMER__45__INST__45__TRANS__45__D2__45__ENOYL__45__COA__45__C16__45__H32__47__HYDROGEN__45__PEROXIDE__46__84__46__': {'C': 0,\n",
       "   'H': 0,\n",
       "   'N': 0,\n",
       "   'O': 0,\n",
       "   'P': 0,\n",
       "   'R': 0,\n",
       "   'S': 0,\n",
       "   'charge': 4.0},\n",
       "  'RXN__45__11026__45__PALMITYL__45__COA__47__OXYGEN__45__MOLECULE__47____47__POLYMER__45__INST__45__TRANS__45__D2__45__ENOYL__45__COA__45__C12__45__H24__47__HYDROGEN__45__PEROXIDE__46__88__46__': {'C': 0,\n",
       "   'H': 0,\n",
       "   'N': 0,\n",
       "   'O': 0,\n",
       "   'P': 0,\n",
       "   'R': 0,\n",
       "   'S': 0,\n",
       "   'charge': 4.0},\n",
       "  'RXN__45__11026__45__TETRADECANOYL__45__COA__47__OXYGEN__45__MOLECULE__47____47__POLYMER__45__INST__45__TRANS__45__D2__45__ENOYL__45__COA__45__C10__45__H20__47__HYDROGEN__45__PEROXIDE__46__93__46__': {'C': 0,\n",
       "   'H': 0,\n",
       "   'N': 0,\n",
       "   'O': 0,\n",
       "   'P': 0,\n",
       "   'R': 0,\n",
       "   'S': 0,\n",
       "   'charge': 4.0},\n",
       "  'RXN__45__11373': {'C': -1.0,\n",
       "   'H': -2.0,\n",
       "   'N': 0,\n",
       "   'O': 0,\n",
       "   'P': 0,\n",
       "   'R': 0,\n",
       "   'S': 0,\n",
       "   'charge': 0},\n",
       "  'RXN__45__11374': {'C': -1.0,\n",
       "   'H': -2.0,\n",
       "   'N': 0,\n",
       "   'O': 0,\n",
       "   'P': 0,\n",
       "   'R': 0,\n",
       "   'S': 0,\n",
       "   'charge': 0},\n",
       "  'RXN__45__11375': {'C': 0,\n",
       "   'H': -2.0,\n",
       "   'N': 0,\n",
       "   'O': -1.0,\n",
       "   'P': 0,\n",
       "   'R': 0,\n",
       "   'S': 0,\n",
       "   'charge': 0},\n",
       "  'RXN__45__11377': {'C': 2.0,\n",
       "   'H': 7.0,\n",
       "   'N': 1.0,\n",
       "   'O': 4.0,\n",
       "   'P': 1.0,\n",
       "   'R': 0,\n",
       "   'S': 0,\n",
       "   'charge': 0},\n",
       "  'RXN__45__11409': {'C': 0,\n",
       "   'H': 0,\n",
       "   'N': 0,\n",
       "   'O': 0,\n",
       "   'P': 0,\n",
       "   'R': 0,\n",
       "   'S': 0,\n",
       "   'charge': 1.0},\n",
       "  'RXN__45__11410': {'C': 0,\n",
       "   'H': 0,\n",
       "   'N': 0,\n",
       "   'O': 0,\n",
       "   'P': 0,\n",
       "   'R': 0,\n",
       "   'S': 0,\n",
       "   'charge': 1.0},\n",
       "  'RXN__45__11474': {'C': -2.0,\n",
       "   'H': -2.0,\n",
       "   'N': 0,\n",
       "   'O': -1.0,\n",
       "   'P': 0,\n",
       "   'R': 0,\n",
       "   'S': 0,\n",
       "   'charge': -1.0},\n",
       "  'RXN__45__11476': {'C': 0,\n",
       "   'H': 2.0,\n",
       "   'N': 0,\n",
       "   'O': 0,\n",
       "   'P': 0,\n",
       "   'R': 0,\n",
       "   'S': 0,\n",
       "   'charge': 0},\n",
       "  'RXN__45__11480': {'C': -19.0,\n",
       "   'H': -31.0,\n",
       "   'N': -2.0,\n",
       "   'O': -11.0,\n",
       "   'P': -1.0,\n",
       "   'R': -1.0,\n",
       "   'S': -1.0,\n",
       "   'charge': 0},\n",
       "  'RXN__45__11634': {'C': -4.0,\n",
       "   'H': -8.0,\n",
       "   'N': 0,\n",
       "   'O': 0,\n",
       "   'P': 0,\n",
       "   'R': 0,\n",
       "   'S': 0,\n",
       "   'charge': 0},\n",
       "  'RXN__45__11696': {'C': 0,\n",
       "   'H': 1.0,\n",
       "   'N': 0,\n",
       "   'O': 0,\n",
       "   'P': 0,\n",
       "   'R': 0,\n",
       "   'S': 0,\n",
       "   'charge': 0},\n",
       "  'RXN__45__11754': {'C': -1.0,\n",
       "   'H': -4.0,\n",
       "   'N': 0,\n",
       "   'O': 0,\n",
       "   'P': 0,\n",
       "   'R': 0,\n",
       "   'S': 0,\n",
       "   'charge': -2.0},\n",
       "  'RXN__45__11797': {'C': 0,\n",
       "   'H': 0,\n",
       "   'N': 0,\n",
       "   'O': 0,\n",
       "   'P': 0,\n",
       "   'R': 0,\n",
       "   'S': 0,\n",
       "   'charge': -1.0},\n",
       "  'RXN__45__12088': {'C': 6.0,\n",
       "   'H': 10.0,\n",
       "   'N': 0,\n",
       "   'O': 5.0,\n",
       "   'P': 0,\n",
       "   'R': 0,\n",
       "   'S': 0,\n",
       "   'charge': 0},\n",
       "  'RXN__45__1224': {'C': -6.0,\n",
       "   'H': -10.0,\n",
       "   'N': 0,\n",
       "   'O': -7.0,\n",
       "   'P': 0,\n",
       "   'R': 0,\n",
       "   'S': -1.0,\n",
       "   'charge': 0},\n",
       "  'RXN__45__12339': {'C': 23.0,\n",
       "   'H': 48.0,\n",
       "   'N': 2.0,\n",
       "   'O': 4.0,\n",
       "   'P': 1.0,\n",
       "   'R': 0,\n",
       "   'S': 0,\n",
       "   'charge': 0},\n",
       "  'RXN__45__12448': {'C': 0,\n",
       "   'H': 2.0,\n",
       "   'N': 0,\n",
       "   'O': 0,\n",
       "   'P': 0,\n",
       "   'R': 0,\n",
       "   'S': 0,\n",
       "   'charge': 0},\n",
       "  'RXN__45__12460': {'C': 14.0,\n",
       "   'H': 25.0,\n",
       "   'N': 2.0,\n",
       "   'O': 12.0,\n",
       "   'P': 1.0,\n",
       "   'R': 2.0,\n",
       "   'S': 0,\n",
       "   'charge': 1.0},\n",
       "  'RXN__45__12518': {'C': 0,\n",
       "   'H': 2.0,\n",
       "   'N': 0,\n",
       "   'O': 0,\n",
       "   'P': 0,\n",
       "   'R': 0,\n",
       "   'S': 0,\n",
       "   'charge': 0},\n",
       "  'RXN__45__12539': {'C': 0,\n",
       "   'H': 0,\n",
       "   'N': 0,\n",
       "   'O': 0,\n",
       "   'P': 0,\n",
       "   'R': 0,\n",
       "   'S': 0,\n",
       "   'charge': 1.0},\n",
       "  'RXN__45__12579': {'C': 20.0,\n",
       "   'H': 29.0,\n",
       "   'N': 0,\n",
       "   'O': 0,\n",
       "   'P': 0,\n",
       "   'R': 0,\n",
       "   'S': 0,\n",
       "   'charge': 0},\n",
       "  'RXN__45__12588': {'C': 0,\n",
       "   'H': -1.0,\n",
       "   'N': 0,\n",
       "   'O': 0,\n",
       "   'P': 0,\n",
       "   'R': 0,\n",
       "   'S': -1.0,\n",
       "   'charge': -1.0},\n",
       "  'RXN__45__12959': {'C': 0,\n",
       "   'H': 1.0,\n",
       "   'N': 0,\n",
       "   'O': -3.0,\n",
       "   'P': -1.0,\n",
       "   'R': 0,\n",
       "   'S': 0,\n",
       "   'charge': 0},\n",
       "  'RXN__45__13008': {'C': 0,\n",
       "   'H': 2.0,\n",
       "   'N': 0,\n",
       "   'O': 0,\n",
       "   'P': 0,\n",
       "   'R': 0,\n",
       "   'S': 0,\n",
       "   'charge': 0},\n",
       "  'RXN__45__13334': {'C': 6.0,\n",
       "   'H': 9.0,\n",
       "   'N': 0,\n",
       "   'O': 11.0,\n",
       "   'P': 2.0,\n",
       "   'R': 0,\n",
       "   'S': 0,\n",
       "   'charge': 0},\n",
       "  'RXN__45__13415': {'C': -4.0,\n",
       "   'H': -8.0,\n",
       "   'N': -1.0,\n",
       "   'O': 0,\n",
       "   'P': 0,\n",
       "   'R': 0,\n",
       "   'S': 0,\n",
       "   'charge': 0},\n",
       "  'RXN__45__13416': {'C': 0,\n",
       "   'H': 1.0,\n",
       "   'N': 0,\n",
       "   'O': 0,\n",
       "   'P': 0,\n",
       "   'R': 0,\n",
       "   'S': 0,\n",
       "   'charge': 0},\n",
       "  'RXN__45__13417': {'C': 0,\n",
       "   'H': -2.0,\n",
       "   'N': 0,\n",
       "   'O': 0,\n",
       "   'P': 0,\n",
       "   'R': 0,\n",
       "   'S': 0,\n",
       "   'charge': 0},\n",
       "  'RXN__45__13445': {'C': 0,\n",
       "   'H': 0,\n",
       "   'N': 0,\n",
       "   'O': 0,\n",
       "   'P': 0,\n",
       "   'R': 0,\n",
       "   'S': 0,\n",
       "   'charge': -2.0},\n",
       "  'RXN__45__13682': {'C': 0,\n",
       "   'H': 2.0,\n",
       "   'N': 0,\n",
       "   'O': 0,\n",
       "   'P': 0,\n",
       "   'R': 0,\n",
       "   'S': 0,\n",
       "   'charge': 0},\n",
       "  'RXN__45__13730': {'C': 6.0,\n",
       "   'H': 10.0,\n",
       "   'N': 0,\n",
       "   'O': 8.0,\n",
       "   'P': 1.0,\n",
       "   'R': 0,\n",
       "   'S': 0,\n",
       "   'charge': 0},\n",
       "  'RXN__45__13731': {'C': 12.0,\n",
       "   'H': 20.0,\n",
       "   'N': 0,\n",
       "   'O': 13.0,\n",
       "   'P': 1.0,\n",
       "   'R': 0,\n",
       "   'S': 0,\n",
       "   'charge': 0},\n",
       "  'RXN__45__13732': {'C': 18.0,\n",
       "   'H': 30.0,\n",
       "   'N': 0,\n",
       "   'O': 21.0,\n",
       "   'P': 2.0,\n",
       "   'R': 0,\n",
       "   'S': 0,\n",
       "   'charge': 0},\n",
       "  'RXN__45__13733': {'C': 18.0,\n",
       "   'H': 38.0,\n",
       "   'N': 1.0,\n",
       "   'O': 1.0,\n",
       "   'P': 0,\n",
       "   'R': 0,\n",
       "   'S': 0,\n",
       "   'charge': 0},\n",
       "  'RXN__45__14290': {'C': 0,\n",
       "   'H': 0,\n",
       "   'N': 0,\n",
       "   'O': 0,\n",
       "   'P': 0,\n",
       "   'R': 0,\n",
       "   'S': 0,\n",
       "   'charge': 1.0},\n",
       "  'RXN__45__14326': {'C': -3.0,\n",
       "   'H': -6.0,\n",
       "   'N': 0,\n",
       "   'O': 0,\n",
       "   'P': 0,\n",
       "   'R': 0,\n",
       "   'S': 0,\n",
       "   'charge': 0},\n",
       "  'RXN__45__14554': {'C': -16.0,\n",
       "   'H': -30.0,\n",
       "   'N': 0,\n",
       "   'O': -1.0,\n",
       "   'P': 0,\n",
       "   'R': 0,\n",
       "   'S': 0,\n",
       "   'charge': 0},\n",
       "  'RXN__45__14577': {'C': 0,\n",
       "   'H': 0,\n",
       "   'N': 0,\n",
       "   'O': 0,\n",
       "   'P': 0,\n",
       "   'R': 0,\n",
       "   'S': 0,\n",
       "   'charge': -2.0},\n",
       "  'RXN__45__14665': {'C': 0,\n",
       "   'H': 0,\n",
       "   'N': 0,\n",
       "   'O': -1.0,\n",
       "   'P': 0,\n",
       "   'R': 0,\n",
       "   'S': 0,\n",
       "   'charge': 0},\n",
       "  'RXN__45__14906': {'C': 0,\n",
       "   'H': 1.0,\n",
       "   'N': 0,\n",
       "   'O': -3.0,\n",
       "   'P': -1.0,\n",
       "   'R': 0,\n",
       "   'S': 0,\n",
       "   'charge': 0},\n",
       "  'RXN__45__14950': {'C': 0,\n",
       "   'H': 4.0,\n",
       "   'N': 0,\n",
       "   'O': 0,\n",
       "   'P': 0,\n",
       "   'R': 0,\n",
       "   'S': 0,\n",
       "   'charge': 0},\n",
       "  'RXN__45__14959': {'C': 0,\n",
       "   'H': 4.0,\n",
       "   'N': 0,\n",
       "   'O': 0,\n",
       "   'P': 0,\n",
       "   'R': 0,\n",
       "   'S': 0,\n",
       "   'charge': 0},\n",
       "  'RXN__45__14960': {'C': 0,\n",
       "   'Fe': 1.0,\n",
       "   'H': -1.0,\n",
       "   'N': 0,\n",
       "   'O': 0,\n",
       "   'P': 0,\n",
       "   'R': 0,\n",
       "   'S': 0,\n",
       "   'charge': -1.0},\n",
       "  'RXN__45__15003': {'C': -5.0,\n",
       "   'H': -6.0,\n",
       "   'N': -1.0,\n",
       "   'O': -3.0,\n",
       "   'P': 0,\n",
       "   'R': 0,\n",
       "   'S': 0,\n",
       "   'charge': 0},\n",
       "  'RXN__45__15004': {'C': 5.0,\n",
       "   'H': 11.0,\n",
       "   'N': 2.0,\n",
       "   'O': 1.0,\n",
       "   'P': 0,\n",
       "   'R': 0,\n",
       "   'S': 0,\n",
       "   'charge': 0},\n",
       "  'RXN__45__15005': {'C': 0,\n",
       "   'H': 0,\n",
       "   'N': 0,\n",
       "   'O': -3.0,\n",
       "   'P': -1.0,\n",
       "   'R': 0,\n",
       "   'S': 0,\n",
       "   'charge': 0},\n",
       "  'RXN__45__15006': {'C': 0,\n",
       "   'H': -1.0,\n",
       "   'N': 0,\n",
       "   'O': 4.0,\n",
       "   'P': 1.0,\n",
       "   'R': 0,\n",
       "   'S': 0,\n",
       "   'charge': 0},\n",
       "  'RXN__45__15007': {'C': 0,\n",
       "   'H': 4.0,\n",
       "   'N': 1.0,\n",
       "   'O': -1.0,\n",
       "   'P': 0,\n",
       "   'R': 0,\n",
       "   'S': 0,\n",
       "   'charge': 0},\n",
       "  'RXN__45__15041': {'C': 0,\n",
       "   'H': 0,\n",
       "   'N': 0,\n",
       "   'O': -1.0,\n",
       "   'P': 0,\n",
       "   'R': 0,\n",
       "   'S': 0,\n",
       "   'charge': 1.0},\n",
       "  'RXN__45__15139': {'C': 0,\n",
       "   'H': 0,\n",
       "   'N': 0,\n",
       "   'O': 0,\n",
       "   'P': 0,\n",
       "   'R': 0,\n",
       "   'S': 0,\n",
       "   'charge': 1.0},\n",
       "  'RXN__45__15211': {'C': -40.0,\n",
       "   'H': -80.0,\n",
       "   'N': -1.0,\n",
       "   'O': -8.0,\n",
       "   'P': -1.0,\n",
       "   'R': 0,\n",
       "   'S': 0,\n",
       "   'charge': 0},\n",
       "  'RXN__45__15212': {'C': 5.0,\n",
       "   'H': 12.0,\n",
       "   'N': 1.0,\n",
       "   'O': 3.0,\n",
       "   'P': 1.0,\n",
       "   'R': 0,\n",
       "   'S': 0,\n",
       "   'charge': 0},\n",
       "  'RXN__45__15271': {'C': -11.0,\n",
       "   'H': -16.0,\n",
       "   'N': -1.0,\n",
       "   'O': -8.0,\n",
       "   'P': 0,\n",
       "   'R': 0,\n",
       "   'S': 0,\n",
       "   'charge': 0},\n",
       "  'RXN__45__15276': {'C': -6.0,\n",
       "   'H': -10.0,\n",
       "   'N': 0,\n",
       "   'O': -5.0,\n",
       "   'P': 0,\n",
       "   'R': 0,\n",
       "   'S': 0,\n",
       "   'charge': 0},\n",
       "  'RXN__45__15277': {'C': -8.0,\n",
       "   'H': -13.0,\n",
       "   'N': -1.0,\n",
       "   'O': -5.0,\n",
       "   'P': 0,\n",
       "   'R': 0,\n",
       "   'S': 0,\n",
       "   'charge': 0},\n",
       "  'RXN__45__15278': {'C': -6.0,\n",
       "   'H': -10.0,\n",
       "   'N': 0,\n",
       "   'O': -5.0,\n",
       "   'P': 0,\n",
       "   'R': 0,\n",
       "   'S': 0,\n",
       "   'charge': 0},\n",
       "  'RXN__45__1602': {'C': 0,\n",
       "   'H': -1.0,\n",
       "   'N': 0,\n",
       "   'O': -1.0,\n",
       "   'P': 0,\n",
       "   'R': 0,\n",
       "   'S': 0,\n",
       "   'charge': 0},\n",
       "  'RXN__45__1641': {'C': -40.0,\n",
       "   'H': -80.0,\n",
       "   'N': -1.0,\n",
       "   'O': -8.0,\n",
       "   'P': -1.0,\n",
       "   'R': 0,\n",
       "   'S': 0,\n",
       "   'charge': 0},\n",
       "  'RXN__45__3701': {'C': -20.0,\n",
       "   'H': -32.0,\n",
       "   'N': 0,\n",
       "   'O': 0,\n",
       "   'P': 0,\n",
       "   'R': 0,\n",
       "   'S': 0,\n",
       "   'charge': 0},\n",
       "  'RXN__45__5781': {'C': 35.0,\n",
       "   'H': 68.0,\n",
       "   'N': 0,\n",
       "   'O': 5.0,\n",
       "   'P': 0,\n",
       "   'R': 0,\n",
       "   'S': 0,\n",
       "   'charge': 0},\n",
       "  'RXN__45__6601': {'C': -5.0,\n",
       "   'H': -6.0,\n",
       "   'N': -1.0,\n",
       "   'O': -3.0,\n",
       "   'P': 0,\n",
       "   'R': 0,\n",
       "   'S': 0,\n",
       "   'charge': 0},\n",
       "  'RXN__45__7605': {'C': -1.0,\n",
       "   'H': -3.0,\n",
       "   'N': 0,\n",
       "   'O': 0,\n",
       "   'P': 0,\n",
       "   'R': 0,\n",
       "   'S': 0,\n",
       "   'charge': -1.0},\n",
       "  'RXN__45__7699__45__CPD__45__14275__47____47__POLYMER__45__INST__45__TRANS__45__D2__45__ENOYL__45__COA__45__C16__45__H32__47__WATER__46__57__46__': {'C': 0,\n",
       "   'H': 0,\n",
       "   'N': 0,\n",
       "   'O': 0,\n",
       "   'P': 0,\n",
       "   'R': 0,\n",
       "   'S': 0,\n",
       "   'charge': -4.0},\n",
       "  'RXN__45__7699__45__POLYMER__45__INST__45__D__45__3__45__HYDROXYACYL__45__COA__45__C2__45__H4__47____47__CPD0__45__2121__47__WATER__46__56__46__': {'C': 0,\n",
       "   'H': 0,\n",
       "   'N': 0,\n",
       "   'O': 0,\n",
       "   'P': 0,\n",
       "   'R': 0,\n",
       "   'S': 0,\n",
       "   'charge': 4.0},\n",
       "  'RXN__45__7699__45__POLYMER__45__INST__45__D__45__3__45__HYDROXYACYL__45__COA__45__C4__45__H8__47____47__CPD0__45__2108__47__WATER__46__56__46__': {'C': 0,\n",
       "   'H': 0,\n",
       "   'N': 0,\n",
       "   'O': 0,\n",
       "   'P': 0,\n",
       "   'R': 0,\n",
       "   'S': 0,\n",
       "   'charge': 4.0},\n",
       "  'RXN__45__7699__45__POLYMER__45__INST__45__D__45__3__45__HYDROXYACYL__45__COA__45__C8__45__H16__47____47__CPD__45__7222__47__WATER__46__56__46__': {'C': 0,\n",
       "   'H': 0,\n",
       "   'N': 0,\n",
       "   'O': 0,\n",
       "   'P': 0,\n",
       "   'R': 0,\n",
       "   'S': 0,\n",
       "   'charge': 4.0},\n",
       "  'RXN__45__7719': {'C': 0,\n",
       "   'H': 2.0,\n",
       "   'N': 0,\n",
       "   'O': 0,\n",
       "   'P': 0,\n",
       "   'R': 0,\n",
       "   'S': 0,\n",
       "   'charge': 0},\n",
       "  'RXN__45__7838': {'C': 0,\n",
       "   'H': 2.0,\n",
       "   'N': 0,\n",
       "   'O': 1.0,\n",
       "   'P': 0,\n",
       "   'R': 0,\n",
       "   'S': 0,\n",
       "   'charge': 0},\n",
       "  'RXN__45__7919': {'C': 10.0,\n",
       "   'H': 14.0,\n",
       "   'N': 3.0,\n",
       "   'O': 5.0,\n",
       "   'P': 0,\n",
       "   'R': 0,\n",
       "   'S': 1.0,\n",
       "   'charge': 0},\n",
       "  'RXN__45__8351': {'C': 0,\n",
       "   'H': 0,\n",
       "   'N': 0,\n",
       "   'O': 0,\n",
       "   'P': 0,\n",
       "   'R': 0,\n",
       "   'S': 0,\n",
       "   'charge': -2.0},\n",
       "  'RXN__45__8353': {'C': 0,\n",
       "   'H': 0,\n",
       "   'N': 0,\n",
       "   'O': 0,\n",
       "   'P': 0,\n",
       "   'R': 0,\n",
       "   'S': 0,\n",
       "   'charge': -2.0},\n",
       "  'RXN__45__8629': {'C': 0,\n",
       "   'H': 2.0,\n",
       "   'N': 0,\n",
       "   'O': 0,\n",
       "   'P': 0,\n",
       "   'R': 0,\n",
       "   'S': 0,\n",
       "   'charge': 0},\n",
       "  'RXN__45__9548': {'C': 0,\n",
       "   'H': 0,\n",
       "   'N': 0,\n",
       "   'O': 0,\n",
       "   'P': 0,\n",
       "   'R': 0,\n",
       "   'S': 0,\n",
       "   'charge': -1.0},\n",
       "  'RXN__45__9552': {'C': 0,\n",
       "   'H': 2.0,\n",
       "   'N': 0,\n",
       "   'O': 0,\n",
       "   'P': 0,\n",
       "   'R': 0,\n",
       "   'S': 0,\n",
       "   'charge': 0},\n",
       "  'RXN__45__9553': {'C': 0,\n",
       "   'H': 2.0,\n",
       "   'N': 0,\n",
       "   'O': 1.0,\n",
       "   'P': 0,\n",
       "   'R': 0,\n",
       "   'S': 0,\n",
       "   'charge': 0},\n",
       "  'RXN__45__9557': {'C': -29.0,\n",
       "   'H': -51.0,\n",
       "   'N': -2.0,\n",
       "   'O': -8.0,\n",
       "   'P': -1.0,\n",
       "   'R': -1.0,\n",
       "   'S': -1.0,\n",
       "   'charge': 0},\n",
       "  'RXN__45__9597': {'C': 0,\n",
       "   'H': 4.0,\n",
       "   'N': 1.0,\n",
       "   'O': -1.0,\n",
       "   'P': 0,\n",
       "   'R': 0,\n",
       "   'S': 0,\n",
       "   'charge': 0},\n",
       "  'RXN__45__9779': {'C': 0,\n",
       "   'H': -1.0,\n",
       "   'N': 0,\n",
       "   'O': 3.0,\n",
       "   'P': 1.0,\n",
       "   'R': 0,\n",
       "   'S': 0,\n",
       "   'charge': 0},\n",
       "  'RXN__45__9787': {'C': 0,\n",
       "   'H': 0,\n",
       "   'N': 0,\n",
       "   'O': 0,\n",
       "   'P': 0,\n",
       "   'R': 0,\n",
       "   'S': -1.0,\n",
       "   'charge': 0},\n",
       "  'RXN__45__9918': {'C': 14.0,\n",
       "   'H': 17.0,\n",
       "   'N': 6.0,\n",
       "   'O': 13.0,\n",
       "   'P': 3.0,\n",
       "   'R': 0,\n",
       "   'S': 1.0,\n",
       "   'charge': 0},\n",
       "  'RXN__45__9920': {'C': 0,\n",
       "   'H': -1.0,\n",
       "   'N': 0,\n",
       "   'O': 3.0,\n",
       "   'P': 1.0,\n",
       "   'R': 0,\n",
       "   'S': 0,\n",
       "   'charge': 0},\n",
       "  'SERTRS': {'C': 0,\n",
       "   'H': -1.0,\n",
       "   'N': 0,\n",
       "   'O': 0,\n",
       "   'P': 0,\n",
       "   'R': 0,\n",
       "   'S': 0,\n",
       "   'charge': -2.0},\n",
       "  'SPHINGOMYELIN__45__PHOSPHODIESTERASE__45__RXN': {'C': 5.0,\n",
       "   'H': 12.0,\n",
       "   'N': 1.0,\n",
       "   'O': 3.0,\n",
       "   'P': 1.0,\n",
       "   'R': 0,\n",
       "   'S': 0,\n",
       "   'charge': 0},\n",
       "  'STS1r': {'C': 0,\n",
       "   'H': 0,\n",
       "   'N': 0,\n",
       "   'O': 0,\n",
       "   'P': 0,\n",
       "   'R': 0,\n",
       "   'S': 0,\n",
       "   'charge': 2.0},\n",
       "  'THMtex': {'C': 0,\n",
       "   'H': 0,\n",
       "   'N': 0,\n",
       "   'O': 0,\n",
       "   'P': 0,\n",
       "   'R': 0,\n",
       "   'S': 0,\n",
       "   'charge': 1.0},\n",
       "  'THREONINE__45____45__TRNA__45__LIGASE__45__RXN': {'C': -4.0,\n",
       "   'H': -9.0,\n",
       "   'N': -1.0,\n",
       "   'O': -2.0,\n",
       "   'P': 0,\n",
       "   'R': -1.0,\n",
       "   'S': 0,\n",
       "   'charge': -1.0},\n",
       "  'TRPO2': {'C': 0,\n",
       "   'H': 0,\n",
       "   'N': 0,\n",
       "   'O': 0,\n",
       "   'P': 0,\n",
       "   'R': 0,\n",
       "   'S': 0,\n",
       "   'charge': -2.0},\n",
       "  'TRYPTOPHAN__45____45__TRNA__45__LIGASE__45__RXN': {'C': -11.0,\n",
       "   'H': -12.0,\n",
       "   'N': -2.0,\n",
       "   'O': -1.0,\n",
       "   'P': 0,\n",
       "   'R': -1.0,\n",
       "   'S': 0,\n",
       "   'charge': -1.0},\n",
       "  'TYROSINE__45____45__TRNA__45__LIGASE__45__RXN': {'C': -9.0,\n",
       "   'H': -11.0,\n",
       "   'N': -1.0,\n",
       "   'O': -2.0,\n",
       "   'P': 0,\n",
       "   'R': -1.0,\n",
       "   'S': 0,\n",
       "   'charge': -1.0},\n",
       "  'UBIQUITIN__45____45__PROTEIN__45__LIGASE__45__RXN': {'C': 0,\n",
       "   'H': 2.0,\n",
       "   'N': 0,\n",
       "   'O': 1.0,\n",
       "   'P': 0,\n",
       "   'R': 0,\n",
       "   'S': 0,\n",
       "   'charge': 0},\n",
       "  'VALINE__45____45__TRNA__45__LIGASE__45__RXN': {'C': -5.0,\n",
       "   'H': -11.0,\n",
       "   'N': -1.0,\n",
       "   'O': -1.0,\n",
       "   'P': 0,\n",
       "   'R': -1.0,\n",
       "   'S': 0,\n",
       "   'charge': -1.0},\n",
       "  '_1__45__PHOSPHATIDYLINOSITOL__45__3__45__KINASE__45__RXN': {'C': 0,\n",
       "   'H': 1.0,\n",
       "   'N': 0,\n",
       "   'O': -3.0,\n",
       "   'P': -1.0,\n",
       "   'R': 0,\n",
       "   'S': 0,\n",
       "   'charge': 0},\n",
       "  '_1__45__PHOSPHATIDYLINOSITOL__45__KINASE__45__RXN': {'C': 0,\n",
       "   'H': 1.0,\n",
       "   'N': 0,\n",
       "   'O': -3.0,\n",
       "   'P': -1.0,\n",
       "   'R': 0,\n",
       "   'S': 0,\n",
       "   'charge': 0},\n",
       "  '_1__46__11__46__1__46__12__45__RXN': {'C': 30.0,\n",
       "   'H': 50.0,\n",
       "   'N': 0,\n",
       "   'O': 9.0,\n",
       "   'P': 2.0,\n",
       "   'R': 0,\n",
       "   'S': 0,\n",
       "   'charge': -4.0},\n",
       "  '_1__46__14__46__19__46__6__45__RXN': {'C': 0,\n",
       "   'H': -2.0,\n",
       "   'N': 0,\n",
       "   'O': 1.0,\n",
       "   'P': 0,\n",
       "   'R': 0,\n",
       "   'S': 0,\n",
       "   'charge': 0},\n",
       "  '_1__46__17__46__4__46__2__45__RXN': {'C': 0,\n",
       "   'H': 0,\n",
       "   'N': 0,\n",
       "   'O': -1.0,\n",
       "   'P': 0,\n",
       "   'R': 0,\n",
       "   'S': 0,\n",
       "   'charge': 0},\n",
       "  '_1__46__1__46__1__46__117__45__RXN': {'C': 0,\n",
       "   'H': -1.0,\n",
       "   'N': 0,\n",
       "   'O': 0,\n",
       "   'P': 0,\n",
       "   'R': 0,\n",
       "   'S': 0,\n",
       "   'charge': 0},\n",
       "  '_1__46__2__46__4__46__4__45__RXN': {'C': -4.0,\n",
       "   'H': -8.0,\n",
       "   'N': 0,\n",
       "   'O': -1.0,\n",
       "   'P': 0,\n",
       "   'R': 0,\n",
       "   'S': 0,\n",
       "   'charge': 0},\n",
       "  '_2__46__1__46__1__46__126__45__RXN': {'C': -1.0,\n",
       "   'H': -2.0,\n",
       "   'N': 0,\n",
       "   'O': 0,\n",
       "   'P': 0,\n",
       "   'R': 0,\n",
       "   'S': 0,\n",
       "   'charge': 0},\n",
       "  '_2__46__1__46__1__46__16__45__RXN': {'C': -1.0,\n",
       "   'H': -2.0,\n",
       "   'N': 0,\n",
       "   'O': 0,\n",
       "   'P': 0,\n",
       "   'R': 0,\n",
       "   'S': 0,\n",
       "   'charge': 0},\n",
       "  '_2__46__1__46__1__46__77__45__RXN': {'C': -1.0,\n",
       "   'H': -3.0,\n",
       "   'N': 0,\n",
       "   'O': 0,\n",
       "   'P': 0,\n",
       "   'R': 0,\n",
       "   'S': 0,\n",
       "   'charge': 0},\n",
       "  '_2__46__1__46__1__46__79__45__RXN': {'C': -1.0,\n",
       "   'H': -2.0,\n",
       "   'N': 0,\n",
       "   'O': 0,\n",
       "   'P': 0,\n",
       "   'R': 0,\n",
       "   'S': 0,\n",
       "   'charge': 0},\n",
       "  '_2__46__3__46__1__46__168__45__RXN': {'C': 4.0,\n",
       "   'H': 6.0,\n",
       "   'N': 0,\n",
       "   'O': 1.0,\n",
       "   'P': 0,\n",
       "   'R': 0,\n",
       "   'S': 0,\n",
       "   'charge': 0},\n",
       "  '_2__46__3__46__1__46__97__45__RXN': {'C': -14.0,\n",
       "   'H': -26.0,\n",
       "   'N': 0,\n",
       "   'O': -1.0,\n",
       "   'P': 0,\n",
       "   'R': 0,\n",
       "   'S': 0,\n",
       "   'charge': 0},\n",
       "  '_2__46__3__46__2__46__13__45__RXN': {'C': 0,\n",
       "   'H': 4.0,\n",
       "   'N': 1.0,\n",
       "   'O': 0,\n",
       "   'P': 0,\n",
       "   'R': 0,\n",
       "   'S': 0,\n",
       "   'charge': 0},\n",
       "  '_2__46__4__46__1__46__119__45__RXN': {'C': -88.0,\n",
       "   'H': -147.0,\n",
       "   'N': -2.0,\n",
       "   'O': -70.0,\n",
       "   'P': 0,\n",
       "   'R': 0,\n",
       "   'S': 0,\n",
       "   'charge': 0},\n",
       "  '_2__46__4__46__1__46__149__45__RXN': {'C': -8.0,\n",
       "   'H': -13.0,\n",
       "   'N': -1.0,\n",
       "   'O': -5.0,\n",
       "   'P': 0,\n",
       "   'R': 0,\n",
       "   'S': 0,\n",
       "   'charge': 0},\n",
       "  '_2__46__4__46__1__46__150__45__RXN': {'C': -8.0,\n",
       "   'H': -13.0,\n",
       "   'N': -1.0,\n",
       "   'O': -5.0,\n",
       "   'P': 0,\n",
       "   'R': 0,\n",
       "   'S': 0,\n",
       "   'charge': 0},\n",
       "  '_2__46__4__46__1__46__151__45__RXN': {'C': -6.0,\n",
       "   'H': -10.0,\n",
       "   'N': 0,\n",
       "   'O': -5.0,\n",
       "   'P': 0,\n",
       "   'R': 0,\n",
       "   'S': 0,\n",
       "   'charge': 0},\n",
       "  '_2__46__4__46__1__46__198__45__RXN': {'C': -8.0,\n",
       "   'H': -13.0,\n",
       "   'N': -1.0,\n",
       "   'O': -5.0,\n",
       "   'P': 0,\n",
       "   'R': 0,\n",
       "   'S': 0,\n",
       "   'charge': 0},\n",
       "  '_2__46__4__46__1__46__223__45__RXN': {'C': -8.0,\n",
       "   'H': -13.0,\n",
       "   'N': -1.0,\n",
       "   'O': -5.0,\n",
       "   'P': 0,\n",
       "   'R': 0,\n",
       "   'S': 0,\n",
       "   'charge': 0},\n",
       "  '_2__46__4__46__1__46__38__45__RXN': {'C': -6.0,\n",
       "   'H': -10.0,\n",
       "   'N': 0,\n",
       "   'O': -5.0,\n",
       "   'P': 0,\n",
       "   'R': 0,\n",
       "   'S': 0,\n",
       "   'charge': 0},\n",
       "  '_2__46__4__46__99__46__6__45__RXN': {'C': -11.0,\n",
       "   'H': -16.0,\n",
       "   'N': -1.0,\n",
       "   'O': -8.0,\n",
       "   'P': 0,\n",
       "   'R': 0,\n",
       "   'S': 0,\n",
       "   'charge': 0},\n",
       "  '_2__46__5__46__1__46__46__45__RXN': {'C': -4.0,\n",
       "   'H': -9.0,\n",
       "   'N': -1.0,\n",
       "   'O': 0,\n",
       "   'P': 0,\n",
       "   'R': 0,\n",
       "   'S': 0,\n",
       "   'charge': 0},\n",
       "  '_2__46__7__46__12__46__1__45__RXN': {'C': 0,\n",
       "   'H': 1.0,\n",
       "   'N': 0,\n",
       "   'O': -3.0,\n",
       "   'P': -1.0,\n",
       "   'R': 0,\n",
       "   'S': 0,\n",
       "   'charge': 0},\n",
       "  '_2__46__7__46__1__46__149__45__RXN': {'C': 0,\n",
       "   'H': 1.0,\n",
       "   'N': 0,\n",
       "   'O': -3.0,\n",
       "   'P': -1.0,\n",
       "   'R': 0,\n",
       "   'S': 0,\n",
       "   'charge': 0},\n",
       "  '_2__46__7__46__1__46__150__45__RXN': {'C': 0,\n",
       "   'H': 1.0,\n",
       "   'N': 0,\n",
       "   'O': -3.0,\n",
       "   'P': -1.0,\n",
       "   'R': 0,\n",
       "   'S': 0,\n",
       "   'charge': 0},\n",
       "  '_2__46__7__46__1__46__153__45__RXN': {'C': 0,\n",
       "   'H': 1.0,\n",
       "   'N': 0,\n",
       "   'O': -3.0,\n",
       "   'P': -1.0,\n",
       "   'R': 0,\n",
       "   'S': 0,\n",
       "   'charge': 0},\n",
       "  '_2__46__7__46__1__46__154__45__RXN': {'C': 0,\n",
       "   'H': 1.0,\n",
       "   'N': 0,\n",
       "   'O': -3.0,\n",
       "   'P': -1.0,\n",
       "   'R': 0,\n",
       "   'S': 0,\n",
       "   'charge': 0},\n",
       "  '_2__46__7__46__1__46__68__45__RXN': {'C': 0,\n",
       "   'H': 1.0,\n",
       "   'N': 0,\n",
       "   'O': -3.0,\n",
       "   'P': -1.0,\n",
       "   'R': 0,\n",
       "   'S': 0,\n",
       "   'charge': 0},\n",
       "  '_2__46__7__46__8__46__11__45__RXN': {'C': -41.0,\n",
       "   'H': -78.0,\n",
       "   'N': 0,\n",
       "   'O': -13.0,\n",
       "   'P': -1.0,\n",
       "   'R': 0,\n",
       "   'S': 0,\n",
       "   'charge': 0},\n",
       "  '_2__46__7__46__8__46__19__45__RXN': {'C': -6.0,\n",
       "   'H': -10.0,\n",
       "   'N': 0,\n",
       "   'O': -8.0,\n",
       "   'P': -1.0,\n",
       "   'R': 0,\n",
       "   'S': 0,\n",
       "   'charge': 0},\n",
       "  '_2__46__8__46__1__46__6__45__RXN': {'C': 0,\n",
       "   'H': 1.0,\n",
       "   'N': 0,\n",
       "   'O': 0,\n",
       "   'P': 0,\n",
       "   'R': 0,\n",
       "   'S': 1.0,\n",
       "   'charge': -1.0},\n",
       "  '_3__45__OXOACID__45__COA__45__TRANSFERASE__45__RXN': {'C': -21.0,\n",
       "   'H': -31.0,\n",
       "   'N': -7.0,\n",
       "   'O': -15.0,\n",
       "   'P': -3.0,\n",
       "   'R': 0,\n",
       "   'S': -1.0,\n",
       "   'charge': 0},\n",
       "  '_3__46__1__46__1__46__23__45__RXN': {'C': 3.0,\n",
       "   'H': 7.0,\n",
       "   'N': 0,\n",
       "   'O': 2.0,\n",
       "   'P': 0,\n",
       "   'R': 0,\n",
       "   'S': 0,\n",
       "   'charge': 0},\n",
       "  '_3__46__1__46__1__46__47__45__RXN': {'C': 2.0,\n",
       "   'H': 2.0,\n",
       "   'N': 0,\n",
       "   'O': 1.0,\n",
       "   'P': 0,\n",
       "   'R': 0,\n",
       "   'S': 0,\n",
       "   'charge': 0},\n",
       "  '_3__46__1__46__1__46__69__45__RXN': {'C': 2.0,\n",
       "   'H': 1.0,\n",
       "   'N': 0,\n",
       "   'O': 1.0,\n",
       "   'P': 0,\n",
       "   'R': 0,\n",
       "   'S': 0,\n",
       "   'charge': 0},\n",
       "  '_3__46__1__46__1__46__73__45__RXN': {'C': 10.0,\n",
       "   'H': 9.0,\n",
       "   'N': 0,\n",
       "   'O': 3.0,\n",
       "   'P': 0,\n",
       "   'R': 0,\n",
       "   'S': 0,\n",
       "   'charge': 1.0},\n",
       "  '_3__46__1__46__3__46__16__45__RXN': {'C': 0,\n",
       "   'H': -1.0,\n",
       "   'N': 0,\n",
       "   'O': 3.0,\n",
       "   'P': 1.0,\n",
       "   'R': 0,\n",
       "   'S': 0,\n",
       "   'charge': 0},\n",
       "  '_3__46__1__46__4__46__10__45__RXN': {'C': 6.0,\n",
       "   'H': 10.0,\n",
       "   'N': 0,\n",
       "   'O': 8.0,\n",
       "   'P': 1.0,\n",
       "   'R': 0,\n",
       "   'S': 0,\n",
       "   'charge': 0},\n",
       "  '_3__46__1__46__4__46__11__45__RXN': {'C': 6.0,\n",
       "   'H': 8.0,\n",
       "   'N': 0,\n",
       "   'O': 14.0,\n",
       "   'P': 3.0,\n",
       "   'R': 0,\n",
       "   'S': 0,\n",
       "   'charge': 0},\n",
       "  '_3__46__2__46__1__46__21__45__RXN': {'C': 6.0,\n",
       "   'H': 10.0,\n",
       "   'N': 0,\n",
       "   'O': 5.0,\n",
       "   'P': 0,\n",
       "   'R': 0,\n",
       "   'S': 0,\n",
       "   'charge': 0},\n",
       "  '_3__46__2__46__1__46__24__45__RXN': {'C': 6.0,\n",
       "   'H': 10.0,\n",
       "   'N': 0,\n",
       "   'O': 5.0,\n",
       "   'P': 0,\n",
       "   'R': 0,\n",
       "   'S': 0,\n",
       "   'charge': 0},\n",
       "  '_3__46__2__46__1__46__25__45__RXN': {'C': 6.0,\n",
       "   'H': 10.0,\n",
       "   'N': 0,\n",
       "   'O': 5.0,\n",
       "   'P': 0,\n",
       "   'R': 0,\n",
       "   'S': 0,\n",
       "   'charge': 0},\n",
       "  '_3__46__2__46__1__46__52__45__RXN': {'C': 8.0,\n",
       "   'H': 13.0,\n",
       "   'N': 1.0,\n",
       "   'O': 5.0,\n",
       "   'P': 0,\n",
       "   'R': 0,\n",
       "   'S': 0,\n",
       "   'charge': 0},\n",
       "  '_3__46__4__46__11__46__7__45__RXN': {'C': 5.0,\n",
       "   'H': 7.0,\n",
       "   'N': 1.0,\n",
       "   'O': 3.0,\n",
       "   'P': 0,\n",
       "   'R': 0,\n",
       "   'S': 0,\n",
       "   'charge': 0},\n",
       "  '_3__46__5__46__1__46__87__45__RXN': {'C': 1.0,\n",
       "   'H': 0,\n",
       "   'N': 1.0,\n",
       "   'O': 1.0,\n",
       "   'P': 0,\n",
       "   'R': 0,\n",
       "   'S': 0,\n",
       "   'charge': 0},\n",
       "  '_3__46__5__46__1__46__98__45__RXN': {'C': 2.0,\n",
       "   'H': 1.0,\n",
       "   'N': 0,\n",
       "   'O': 1.0,\n",
       "   'P': 0,\n",
       "   'R': 0,\n",
       "   'S': 0,\n",
       "   'charge': 0},\n",
       "  '_3__46__5__46__5__46__1__45__RXN': {'C': 0,\n",
       "   'H': 0,\n",
       "   'N': 1.0,\n",
       "   'O': -2.0,\n",
       "   'P': 0,\n",
       "   'R': 0,\n",
       "   'S': 0,\n",
       "   'charge': 0},\n",
       "  '_6__46__1__46__1__46__23__45__RXN': {'C': -4.0,\n",
       "   'H': -7.0,\n",
       "   'N': -1.0,\n",
       "   'O': -3.0,\n",
       "   'P': 0,\n",
       "   'R': 0,\n",
       "   'S': 0,\n",
       "   'charge': -1.0}},\n",
       " [])"
      ]
     },
     "execution_count": 68,
     "metadata": {},
     "output_type": "execute_result"
    }
   ],
   "source": [
    "foo.find_unbalanced_reactions(model)"
   ]
  },
  {
   "cell_type": "code",
   "execution_count": 69,
   "metadata": {},
   "outputs": [
    {
     "name": "stdout",
     "output_type": "stream",
     "text": [
      "R__45__3__45__Hydroxypalmitoyl__45__ACPs_c --> h2o_c + tpalm2eACP_c \n",
      "\n",
      "R__45__3__45__Hydroxypalmitoyl__45__ACPs_c None 0\n",
      "<=>\n",
      "tpalm2eACP_c C27H49N2O8PRS 0\n",
      "h2o_c H2O 0\n"
     ]
    }
   ],
   "source": [
    "foo.superprint(model,'3HAD160')"
   ]
  },
  {
   "cell_type": "code",
   "execution_count": 70,
   "metadata": {},
   "outputs": [],
   "source": [
    "met = model.metabolites.get_by_id('R__45__3__45__Hydroxypalmitoyl__45__ACPs_c')\n",
    "met.formula = 'C27H51N2O9PRS'\n",
    "met.charge = -1\n",
    "met.id = '3hpalmACP_c'\n",
    "met = model.metabolites.get_by_id('tpalm2eACP_c')\n",
    "met.charge = -1"
   ]
  },
  {
   "cell_type": "code",
   "execution_count": 71,
   "metadata": {},
   "outputs": [
    {
     "name": "stdout",
     "output_type": "stream",
     "text": [
      "R__45__3__45__hydroxyhexanoyl__45__ACPs_c --> h2o_c + thex2eACP_c \n",
      "\n",
      "R__45__3__45__hydroxyhexanoyl__45__ACPs_c None 0\n",
      "<=>\n",
      "h2o_c H2O 0\n",
      "thex2eACP_c C17H29N2O8PRS 0\n"
     ]
    }
   ],
   "source": [
    "foo.superprint(model,'3HAD60')"
   ]
  },
  {
   "cell_type": "code",
   "execution_count": 72,
   "metadata": {
    "collapsed": true
   },
   "outputs": [],
   "source": [
    "met = model.metabolites.get_by_id('R__45__3__45__hydroxyhexanoyl__45__ACPs_c')\n",
    "met.formula = 'C17H31N2O9PRS'\n",
    "met.charge = -1\n",
    "met.id = '3hhexACP'\n",
    "met = model.metabolites.get_by_id('thex2eACP_c')\n",
    "met.charge = -1"
   ]
  },
  {
   "cell_type": "code",
   "execution_count": 73,
   "metadata": {},
   "outputs": [
    {
     "name": "stdout",
     "output_type": "stream",
     "text": [
      "_3__45__oxo__45__ealmitoyl__45__ACPs_c + h_c + nadph_c --> 3hpalmACP_c + nadp_c \n",
      "\n",
      "_3__45__oxo__45__ealmitoyl__45__ACPs_c None 0\n",
      "nadph_c C21H26N7O17P3 -4\n",
      "h_c H 1\n",
      "<=>\n",
      "nadp_c C21H25N7O17P3 -3\n",
      "3hpalmACP_c C27H51N2O9PRS -1\n"
     ]
    }
   ],
   "source": [
    "foo.superprint(model,'3OAR160')"
   ]
  },
  {
   "cell_type": "code",
   "execution_count": 74,
   "metadata": {
    "collapsed": true
   },
   "outputs": [],
   "source": [
    "met = model.metabolites.get_by_id('_3__45__oxo__45__ealmitoyl__45__ACPs_c')\n",
    "met.formula = 'C27H49N2O9PRS'\n",
    "met.charge = -1\n",
    "met.id = '3opalmACP'"
   ]
  },
  {
   "cell_type": "code",
   "execution_count": 75,
   "metadata": {},
   "outputs": [
    {
     "name": "stdout",
     "output_type": "stream",
     "text": [
      "3ohexACP_c + h_c + nadph_c --> 3hhexACP + nadp_c \n",
      "\n",
      "nadph_c C21H26N7O17P3 -4\n",
      "h_c H 1\n",
      "3ohexACP_c C17H29N2O9PRS 0\n",
      "<=>\n",
      "nadp_c C21H25N7O17P3 -3\n",
      "3hhexACP C17H31N2O9PRS -1\n"
     ]
    }
   ],
   "source": [
    "foo.superprint(model,'3OAR60')"
   ]
  },
  {
   "cell_type": "code",
   "execution_count": 76,
   "metadata": {
    "collapsed": true
   },
   "outputs": [],
   "source": [
    "met = model.metabolites.get_by_id('3ohexACP_c')\n",
    "met.charge = -1"
   ]
  },
  {
   "cell_type": "code",
   "execution_count": 77,
   "metadata": {},
   "outputs": [
    {
     "name": "stdout",
     "output_type": "stream",
     "text": [
      "h_c + malACP_c + ocACP_c --> 3odecACP_c + ACP_c + co2_c \n",
      "\n",
      "malACP_c C14H22N2O10PRS -1\n",
      "h_c H 1\n",
      "ocACP_c C19H35N2O8PRS -1\n",
      "<=>\n",
      "3odecACP_c C21H37N2O9PRS 0\n",
      "ACP_c C11H21N2O7PRS -1\n",
      "co2_c CO2 0\n"
     ]
    }
   ],
   "source": [
    "foo.superprint(model,'3OAS100')"
   ]
  },
  {
   "cell_type": "code",
   "execution_count": 78,
   "metadata": {
    "collapsed": true
   },
   "outputs": [],
   "source": [
    "met = model.metabolites.get_by_id('malACP_c')\n",
    "met.charge = -2\n",
    "met = model.metabolites.get_by_id('3odecACP_c')\n",
    "met.charge = -1"
   ]
  },
  {
   "cell_type": "code",
   "execution_count": 79,
   "metadata": {},
   "outputs": [
    {
     "name": "stdout",
     "output_type": "stream",
     "text": [
      "There are 299 unbalanced reactions and 0 metabolites with a faulty syntax\n"
     ]
    },
    {
     "data": {
      "text/plain": [
       "({'3OAR100': {'C': 0,\n",
       "   'H': 0,\n",
       "   'N': 0,\n",
       "   'O': 0,\n",
       "   'P': 0,\n",
       "   'R': 0,\n",
       "   'S': 0,\n",
       "   'charge': 1.0},\n",
       "  '3OAS180': {'C': 0,\n",
       "   'H': 0,\n",
       "   'N': 0,\n",
       "   'O': 0,\n",
       "   'P': 0,\n",
       "   'R': 0,\n",
       "   'S': 0,\n",
       "   'charge': 1.0},\n",
       "  '3OAS60': {'C': 0,\n",
       "   'H': 0,\n",
       "   'N': 0,\n",
       "   'O': 0,\n",
       "   'P': 0,\n",
       "   'R': 0,\n",
       "   'S': 0,\n",
       "   'charge': -1.0},\n",
       "  '3OAS80': {'C': 0,\n",
       "   'H': 0,\n",
       "   'N': 0,\n",
       "   'O': 0,\n",
       "   'P': 0,\n",
       "   'R': 0,\n",
       "   'S': 0,\n",
       "   'charge': 1.0},\n",
       "  'ACOATA': {'C': 0,\n",
       "   'H': 0,\n",
       "   'N': 0,\n",
       "   'O': 0,\n",
       "   'P': 0,\n",
       "   'R': 0,\n",
       "   'S': 0,\n",
       "   'charge': 1.0},\n",
       "  'ACP_REPLENISHMENT_RXN': {'C': -13.0,\n",
       "   'H': -23.0,\n",
       "   'N': -2.0,\n",
       "   'O': -8.0,\n",
       "   'P': -1.0,\n",
       "   'R': -1.0,\n",
       "   'S': -1.0,\n",
       "   'charge': 1.0},\n",
       "  'ACYLCOADEHYDROG__45__RXN': {'C': 0,\n",
       "   'H': -1.0,\n",
       "   'N': 0,\n",
       "   'O': 0,\n",
       "   'P': 0,\n",
       "   'R': 0,\n",
       "   'S': 0,\n",
       "   'charge': 0},\n",
       "  'ACYLCOASYN__45__RXN__45__POLYMER__45__INST__45__CPD66__45__39__45__C10__45__H20__47__CO__45__A__47__ATP__47____47__TETRADECANOYL__45__COA__47__PPI__47__AMP__46__66__46__': {'C': 0,\n",
       "   'H': 0,\n",
       "   'N': 0,\n",
       "   'O': 0,\n",
       "   'P': 0,\n",
       "   'R': 0,\n",
       "   'S': 0,\n",
       "   'charge': -1.0},\n",
       "  'ACYLCOASYN__45__RXN__45__POLYMER__45__INST__45__CPD66__45__39__45__C16__45__H32__47__CO__45__A__47__ATP__47____47__CPD__45__9965__47__PPI__47__AMP__46__57__46__': {'C': 0,\n",
       "   'H': 0,\n",
       "   'N': 0,\n",
       "   'O': 0,\n",
       "   'P': 0,\n",
       "   'R': 0,\n",
       "   'S': 0,\n",
       "   'charge': -1.0},\n",
       "  'ACYLCOASYN__45__RXN__45__POLYMER__45__INST__45__CPD66__45__39__45__C2__45__H4__47__CO__45__A__47__ATP__47____47__HEXANOYL__45__COA__47__PPI__47__AMP__46__59__46__': {'C': 0,\n",
       "   'H': 0,\n",
       "   'N': 0,\n",
       "   'O': 0,\n",
       "   'P': 0,\n",
       "   'R': 0,\n",
       "   'S': 0,\n",
       "   'charge': -1.0},\n",
       "  'ALANINE__45____45__TRNA__45__LIGASE__45__RXN': {'C': -3.0,\n",
       "   'H': -7.0,\n",
       "   'N': -1.0,\n",
       "   'O': -1.0,\n",
       "   'P': 0,\n",
       "   'R': -1.0,\n",
       "   'S': 0,\n",
       "   'charge': -1.0},\n",
       "  'AMINEOXID__45__RXN': {'C': 0,\n",
       "   'H': 4.0,\n",
       "   'N': 1.0,\n",
       "   'O': -1.0,\n",
       "   'P': 0,\n",
       "   'R': 0,\n",
       "   'S': 0,\n",
       "   'charge': 0},\n",
       "  'AOXSr2': {'C': 0,\n",
       "   'H': -1.0,\n",
       "   'N': 0,\n",
       "   'O': 0,\n",
       "   'P': 0,\n",
       "   'R': 0,\n",
       "   'S': 0,\n",
       "   'charge': -1.0},\n",
       "  'ARGININE__45____45__TRNA__45__LIGASE__45__RXN': {'C': -6.0,\n",
       "   'H': -15.0,\n",
       "   'N': -4.0,\n",
       "   'O': -1.0,\n",
       "   'P': 0,\n",
       "   'R': -1.0,\n",
       "   'S': 0,\n",
       "   'charge': -1.0},\n",
       "  'ARGINYLTRANSFERASE__45__RXN': {'C': 0,\n",
       "   'H': 1.0,\n",
       "   'N': 0,\n",
       "   'O': 0,\n",
       "   'P': 0,\n",
       "   'R': 1.0,\n",
       "   'S': 0,\n",
       "   'charge': 1.0},\n",
       "  'ARYLSULFAT__45__RXN': {'C': 0,\n",
       "   'H': -1.0,\n",
       "   'N': 0,\n",
       "   'O': 3.0,\n",
       "   'P': 0,\n",
       "   'R': 0,\n",
       "   'S': 1.0,\n",
       "   'charge': 0},\n",
       "  'ASPARAGINE__45____45__TRNA__45__LIGASE__45__RXN': {'C': -14.0,\n",
       "   'H': -25.0,\n",
       "   'N': -2.0,\n",
       "   'O': -12.0,\n",
       "   'P': -1.0,\n",
       "   'R': -2.0,\n",
       "   'S': 0,\n",
       "   'charge': -1.0},\n",
       "  'ASPTRSm': {'C': 0,\n",
       "   'H': -1.0,\n",
       "   'N': 0,\n",
       "   'O': 0,\n",
       "   'P': 0,\n",
       "   'R': 0,\n",
       "   'S': 0,\n",
       "   'charge': -2.0},\n",
       "  'BIOMASS_REACTION': {'C': -44.37737999999989,\n",
       "   'H': -128.8003400000002,\n",
       "   'N': -5.5009199999999945,\n",
       "   'O': -19.711309999999877,\n",
       "   'P': -0.9892799999999615,\n",
       "   'R': 0,\n",
       "   'S': -0.082,\n",
       "   'charge': -44.89506000000003},\n",
       "  'BIOTINLIG__45__RXN': {'C': -10.0,\n",
       "   'H': -14.0,\n",
       "   'N': -2.0,\n",
       "   'O': -2.0,\n",
       "   'P': 0,\n",
       "   'R': 0,\n",
       "   'S': -1.0,\n",
       "   'charge': 0},\n",
       "  'BIOTIN__45__CARBOXYL__45__RXN': {'C': -1.0,\n",
       "   'H': 1.0,\n",
       "   'N': 0,\n",
       "   'O': -2.0,\n",
       "   'P': 0,\n",
       "   'R': 0,\n",
       "   'S': 0,\n",
       "   'charge': 0},\n",
       "  'BTNtex': {'C': 0,\n",
       "   'H': 0,\n",
       "   'N': 0,\n",
       "   'O': 0,\n",
       "   'P': 0,\n",
       "   'R': 0,\n",
       "   'S': 0,\n",
       "   'charge': -1.0},\n",
       "  'BUTYRYL__45__COA__45__DEHYDROGENASE__45__RXN': {'C': 0,\n",
       "   'H': 3.0,\n",
       "   'N': 0,\n",
       "   'O': 0,\n",
       "   'P': 0,\n",
       "   'R': 0,\n",
       "   'S': 0,\n",
       "   'charge': 0},\n",
       "  'CARBONYL__45__REDUCTASE__45__NADPH__45__RXN': {'C': 0,\n",
       "   'H': -2.0,\n",
       "   'N': 0,\n",
       "   'O': 0,\n",
       "   'P': 0,\n",
       "   'R': 0,\n",
       "   'S': 0,\n",
       "   'charge': 0},\n",
       "  'CARBOXYLESTERASE__45__RXN': {'C': 0,\n",
       "   'H': -1.0,\n",
       "   'N': 0,\n",
       "   'O': -1.0,\n",
       "   'P': 0,\n",
       "   'R': 0,\n",
       "   'S': 0,\n",
       "   'charge': 0},\n",
       "  'CERAMIDASE__45__RXN': {'C': 18.0,\n",
       "   'H': 36.0,\n",
       "   'N': 1.0,\n",
       "   'O': 1.0,\n",
       "   'P': 0,\n",
       "   'R': 0,\n",
       "   'S': 0,\n",
       "   'charge': 0},\n",
       "  'CITRYLY__45__RXN': {'C': 4.0,\n",
       "   'H': 2.0,\n",
       "   'N': 0,\n",
       "   'O': 5.0,\n",
       "   'P': 0,\n",
       "   'R': 0,\n",
       "   'S': 0,\n",
       "   'charge': 0},\n",
       "  'CITTRANS__45__RXN': {'C': -4.0,\n",
       "   'H': -2.0,\n",
       "   'N': 0,\n",
       "   'O': -5.0,\n",
       "   'P': 0,\n",
       "   'R': 0,\n",
       "   'S': 0,\n",
       "   'charge': 0},\n",
       "  'COA1819ZD9DS': {'C': 21.0,\n",
       "   'H': 27.0,\n",
       "   'N': 7.0,\n",
       "   'O': 14.0,\n",
       "   'P': 2.0,\n",
       "   'R': 0,\n",
       "   'S': 0,\n",
       "   'charge': -4.0},\n",
       "  'CYOOm_umay': {'C': 0,\n",
       "   'H': 0,\n",
       "   'N': 0,\n",
       "   'O': 0,\n",
       "   'P': 0,\n",
       "   'R': 0,\n",
       "   'S': 0,\n",
       "   'charge': -2.0},\n",
       "  'CYOR_u6m_umay': {'C': 0,\n",
       "   'H': 0,\n",
       "   'N': 0,\n",
       "   'O': 0,\n",
       "   'P': 0,\n",
       "   'R': 0,\n",
       "   'S': 0,\n",
       "   'charge': 2.0},\n",
       "  'CYSTRS': {'C': 0,\n",
       "   'H': -1.0,\n",
       "   'N': 0,\n",
       "   'O': 0,\n",
       "   'P': 0,\n",
       "   'R': 0,\n",
       "   'S': 0,\n",
       "   'charge': -1.0},\n",
       "  'CYTOCHROME__45__B5__45__REDUCTASE__45__RXN': {'C': 0,\n",
       "   'H': -1.0,\n",
       "   'N': 0,\n",
       "   'O': 0,\n",
       "   'P': 0,\n",
       "   'R': 0,\n",
       "   'S': 0,\n",
       "   'charge': 1.0},\n",
       "  'DEOXYHYPUSINE__45__MONOOXYGENASE__45__RXN': {'C': 0,\n",
       "   'H': 0,\n",
       "   'N': 0,\n",
       "   'O': -1.0,\n",
       "   'P': 0,\n",
       "   'R': 0,\n",
       "   'S': 0,\n",
       "   'charge': 0},\n",
       "  'DIPS': {'C': -1.0,\n",
       "   'H': -2.0,\n",
       "   'N': 0,\n",
       "   'O': 0,\n",
       "   'P': 0,\n",
       "   'R': 0,\n",
       "   'S': 0,\n",
       "   'charge': 0},\n",
       "  'DM_erythol_c': {'C': -4.0,\n",
       "   'H': -10.0,\n",
       "   'N': 0,\n",
       "   'O': -4.0,\n",
       "   'P': 0,\n",
       "   'R': 0,\n",
       "   'S': 0,\n",
       "   'charge': 0},\n",
       "  'D__45__AMINO__45__ACID__45__OXIDASE__45__RXN': {'C': 0,\n",
       "   'H': 4.0,\n",
       "   'N': 1.0,\n",
       "   'O': -1.0,\n",
       "   'P': 0,\n",
       "   'R': 0,\n",
       "   'S': 0,\n",
       "   'charge': 0},\n",
       "  'D__45__THREO__45__ALDOSE__45__1__45__DEHYDROGENASE__45__RXN': {'C': 0,\n",
       "   'H': 2.0,\n",
       "   'N': 0,\n",
       "   'O': 0,\n",
       "   'P': 0,\n",
       "   'R': 0,\n",
       "   'S': 0,\n",
       "   'charge': 0},\n",
       "  'EAR140y': {'C': 0,\n",
       "   'H': 0,\n",
       "   'N': 0,\n",
       "   'O': 0,\n",
       "   'P': 0,\n",
       "   'R': 0,\n",
       "   'S': 0,\n",
       "   'charge': -1.0},\n",
       "  'EAR80y': {'C': 0,\n",
       "   'H': 0,\n",
       "   'N': 0,\n",
       "   'O': 0,\n",
       "   'P': 0,\n",
       "   'R': 0,\n",
       "   'S': 0,\n",
       "   'charge': -1.0},\n",
       "  'ENOYL__45__ACP__45__REDUCT__45__NADPH__45__RXN': {'C': 0,\n",
       "   'H': 2.0,\n",
       "   'N': 0,\n",
       "   'O': 0,\n",
       "   'P': 0,\n",
       "   'R': 0,\n",
       "   'S': 0,\n",
       "   'charge': 0},\n",
       "  'ENOYL__45__COA__45__HYDRAT__45__RXN__45__CPD0__45__2232__47____47__POLYMER__45__INST__45__TRANS__45__D2__45__ENOYL__45__COA__45__C12__45__H24__47__WATER__46__57__46__': {'C': 0,\n",
       "   'H': 0,\n",
       "   'N': 0,\n",
       "   'O': 0,\n",
       "   'P': 0,\n",
       "   'R': 0,\n",
       "   'S': 0,\n",
       "   'charge': -4.0},\n",
       "  'ENOYL__45__COA__45__HYDRAT__45__RXN__45__POLYMER__45__INST__45__L__45__3__45__HYDROXYACYL__45__COA__45__C14__45__H28__47____47__CPD__45__10262__47__WATER__46__58__46__': {'C': 0,\n",
       "   'H': 0,\n",
       "   'N': 0,\n",
       "   'O': 0,\n",
       "   'P': 0,\n",
       "   'R': 0,\n",
       "   'S': 0,\n",
       "   'charge': 4.0},\n",
       "  'ENOYL__45__COA__45__HYDRAT__45__RXN__45__POLYMER__45__INST__45__L__45__3__45__HYDROXYACYL__45__COA__45__C8__45__H16__47____47__CPD__45__7222__47__WATER__46__56__46__': {'C': 0,\n",
       "   'H': 0,\n",
       "   'N': 0,\n",
       "   'O': 0,\n",
       "   'P': 0,\n",
       "   'R': 0,\n",
       "   'S': 0,\n",
       "   'charge': 4.0},\n",
       "  'FA120ACPHi_1': {'C': 0,\n",
       "   'H': 0,\n",
       "   'N': 0,\n",
       "   'O': 0,\n",
       "   'P': 0,\n",
       "   'R': 0,\n",
       "   'S': 0,\n",
       "   'charge': -1.0},\n",
       "  'FA181ACPHi': {'C': 0,\n",
       "   'H': 0,\n",
       "   'N': 0,\n",
       "   'O': 0,\n",
       "   'P': 0,\n",
       "   'R': 0,\n",
       "   'S': 0,\n",
       "   'charge': -1.0},\n",
       "  'FKYNH': {'C': 0,\n",
       "   'H': 0,\n",
       "   'N': 0,\n",
       "   'O': 0,\n",
       "   'P': 0,\n",
       "   'R': 0,\n",
       "   'S': 0,\n",
       "   'charge': 2.0},\n",
       "  'GALACTOSIDE__45__3__45__FUCOSYLTRANSFERASE__45__RXN': {'C': -6.0,\n",
       "   'H': -10.0,\n",
       "   'N': 0,\n",
       "   'O': -4.0,\n",
       "   'P': 0,\n",
       "   'R': 0,\n",
       "   'S': 0,\n",
       "   'charge': 0},\n",
       "  'GAMMA__45__GLUTAMYLCYCLOTRANSFERASE__45__RXN': {'C': 5.0,\n",
       "   'H': 6.0,\n",
       "   'N': 1.0,\n",
       "   'O': 3.0,\n",
       "   'P': 0,\n",
       "   'R': 0,\n",
       "   'S': 0,\n",
       "   'charge': 0},\n",
       "  'GCVT__45__RXN': {'C': 1.0,\n",
       "   'H': 4.0,\n",
       "   'N': 1.0,\n",
       "   'O': 0,\n",
       "   'P': 0,\n",
       "   'R': 0,\n",
       "   'S': 0,\n",
       "   'charge': 0},\n",
       "  'GLNTRAT': {'C': 5.0,\n",
       "   'H': 7.0,\n",
       "   'N': 1.0,\n",
       "   'O': 3.0,\n",
       "   'P': 0,\n",
       "   'R': 1.0,\n",
       "   'S': 0,\n",
       "   'charge': 0},\n",
       "  'GLNTRS': {'C': 0,\n",
       "   'H': -1.0,\n",
       "   'N': 0,\n",
       "   'O': 0,\n",
       "   'P': 0,\n",
       "   'R': 0,\n",
       "   'S': 0,\n",
       "   'charge': -1.0},\n",
       "  'GLUCOSE__45__1__45__DEHYDROGENASE__45__RXN': {'C': 0,\n",
       "   'H': -1.0,\n",
       "   'N': 0,\n",
       "   'O': 0,\n",
       "   'P': 0,\n",
       "   'R': 0,\n",
       "   'S': 0,\n",
       "   'charge': 0},\n",
       "  'GLURS__45__RXN': {'C': -5.0,\n",
       "   'H': -8.0,\n",
       "   'N': -1.0,\n",
       "   'O': -3.0,\n",
       "   'P': 0,\n",
       "   'R': -1.0,\n",
       "   'S': 0,\n",
       "   'charge': -1.0},\n",
       "  'GLUTARYL__45__COA__45__DEHYDROG__45__RXN': {'C': 0,\n",
       "   'H': -3.0,\n",
       "   'N': 0,\n",
       "   'O': 0,\n",
       "   'P': 0,\n",
       "   'R': 0,\n",
       "   'S': 0,\n",
       "   'charge': 0},\n",
       "  'GLUTRS_Gln': {'C': -5.0,\n",
       "   'H': -8.0,\n",
       "   'N': -1.0,\n",
       "   'O': -3.0,\n",
       "   'P': 0,\n",
       "   'R': -1.0,\n",
       "   'S': 0,\n",
       "   'charge': -1.0},\n",
       "  'GLYCINE__45____45__TRNA__45__LIGASE__45__RXN': {'C': -2.0,\n",
       "   'H': -5.0,\n",
       "   'N': -1.0,\n",
       "   'O': -1.0,\n",
       "   'P': 0,\n",
       "   'R': -1.0,\n",
       "   'S': 0,\n",
       "   'charge': -1.0},\n",
       "  'GLYCPDIESTER__45__RXN': {'C': 3.0,\n",
       "   'H': 6.0,\n",
       "   'N': 0,\n",
       "   'O': 5.0,\n",
       "   'P': 1.0,\n",
       "   'R': 0,\n",
       "   'S': 0,\n",
       "   'charge': 0},\n",
       "  'HEME__45__OXYGENASE__45__DECYCLIZING__45__RXN': {'C': 0,\n",
       "   'H': 2.0,\n",
       "   'N': 0,\n",
       "   'O': 0,\n",
       "   'P': 0,\n",
       "   'R': 0,\n",
       "   'S': 0,\n",
       "   'charge': 2.0},\n",
       "  'HISTIDINE__45____45__TRNA__45__LIGASE__45__RXN': {'C': -6.0,\n",
       "   'H': -9.0,\n",
       "   'N': -3.0,\n",
       "   'O': -1.0,\n",
       "   'P': 0,\n",
       "   'R': -1.0,\n",
       "   'S': 0,\n",
       "   'charge': -1.0},\n",
       "  'HISTONE__45__ACETYLTRANSFERASE__45__RXN': {'C': -2.0,\n",
       "   'H': -1.0,\n",
       "   'N': 0,\n",
       "   'O': -1.0,\n",
       "   'P': 0,\n",
       "   'R': 0,\n",
       "   'S': 0,\n",
       "   'charge': 0},\n",
       "  'HISTONE__45__LYSINE__45__N__45__METHYLTRANSFERASE__45__RXN': {'C': -1.0,\n",
       "   'H': -2.0,\n",
       "   'N': 0,\n",
       "   'O': 0,\n",
       "   'P': 0,\n",
       "   'R': 0,\n",
       "   'S': 0,\n",
       "   'charge': 0},\n",
       "  'Hexaprenyl__45__Diphosphate__45__Biosynthesis__45__RXN': {'C': 10.0,\n",
       "   'H': 18.0,\n",
       "   'N': 0,\n",
       "   'O': 14.0,\n",
       "   'P': 4.0,\n",
       "   'R': 0,\n",
       "   'S': 0,\n",
       "   'charge': -6.0},\n",
       "  'ISOLEUCINE__45____45__TRNA__45__LIGASE__45__RXN': {'C': -6.0,\n",
       "   'H': -13.0,\n",
       "   'N': -1.0,\n",
       "   'O': -1.0,\n",
       "   'P': 0,\n",
       "   'R': -1.0,\n",
       "   'S': 0,\n",
       "   'charge': -1.0},\n",
       "  'KETOACYLCOATHIOL__45__RXN__45__PALMITYL__45__COA__47__ACETYL__45__COA__47____47__POLYMER__45__INST__45__3__45__KETOACYL__45__COA__45__C14__45__H28__47__CO__45__A__46__66__46__': {'C': 0,\n",
       "   'H': 0,\n",
       "   'N': 0,\n",
       "   'O': 0,\n",
       "   'P': 0,\n",
       "   'R': 0,\n",
       "   'S': 0,\n",
       "   'charge': -4.0},\n",
       "  'LEUCINE__45____45__TRNA__45__LIGASE__45__RXN': {'C': -6.0,\n",
       "   'H': -13.0,\n",
       "   'N': -1.0,\n",
       "   'O': -1.0,\n",
       "   'P': 0,\n",
       "   'R': -1.0,\n",
       "   'S': 0,\n",
       "   'charge': -1.0},\n",
       "  'LONG__45__CHAIN__45__ENOYL__45__COA__45__HYDRATASE__45__RXN': {'C': 0,\n",
       "   'H': 2.0,\n",
       "   'N': 0,\n",
       "   'O': 1.0,\n",
       "   'P': 0,\n",
       "   'R': 0,\n",
       "   'S': 0,\n",
       "   'charge': 0},\n",
       "  'LYSINE__45____45__TRNA__45__LIGASE__45__RXN': {'C': -6.0,\n",
       "   'H': -15.0,\n",
       "   'N': -2.0,\n",
       "   'O': -1.0,\n",
       "   'P': 0,\n",
       "   'R': -1.0,\n",
       "   'S': 0,\n",
       "   'charge': -1.0},\n",
       "  'LYSOPHOSPHOLIPASE__45__RXN': {'C': 8.0,\n",
       "   'H': 19.0,\n",
       "   'N': 1.0,\n",
       "   'O': 5.0,\n",
       "   'P': 1.0,\n",
       "   'R': 0,\n",
       "   'S': 0,\n",
       "   'charge': 0},\n",
       "  'METHIONINE__45____45__TRNA__45__LIGASE__45__RXN': {'C': 0,\n",
       "   'H': -1.0,\n",
       "   'N': 0,\n",
       "   'O': 0,\n",
       "   'P': 0,\n",
       "   'R': 1.0,\n",
       "   'S': 0,\n",
       "   'charge': -1.0},\n",
       "  'METHIONYL__45__TRNA__45__FORMYLTRANSFERASE__45__RXN': {'C': 5.0,\n",
       "   'H': 9.0,\n",
       "   'N': 1.0,\n",
       "   'O': 1.0,\n",
       "   'P': 0,\n",
       "   'R': 1.0,\n",
       "   'S': 1.0,\n",
       "   'charge': 0},\n",
       "  'MYOSIN__45__LIGHT__45__CHAIN__45__PHOSPHATASE__45__RXN': {'C': 0,\n",
       "   'H': 1.0,\n",
       "   'N': 0,\n",
       "   'O': 3.0,\n",
       "   'P': 1.0,\n",
       "   'R': 0,\n",
       "   'S': 0,\n",
       "   'charge': 0},\n",
       "  'NGAM': {'C': 0,\n",
       "   'H': -1.0,\n",
       "   'N': 0,\n",
       "   'O': 0,\n",
       "   'P': 0,\n",
       "   'R': 0,\n",
       "   'S': 0,\n",
       "   'charge': -1.0},\n",
       "  'OHACYL__45__COA__45__DEHYDROG__45__RXN__45__POLYMER__45__INST__45__L__45__3__45__HYDROXYACYL__45__COA__45__C10__45__H20__47__NAD__47____47__CPD__45__10284__47__NADH__47__PROTON__46__68__46__': {'C': 0,\n",
       "   'H': 0,\n",
       "   'N': 0,\n",
       "   'O': 0,\n",
       "   'P': 0,\n",
       "   'R': 0,\n",
       "   'S': 0,\n",
       "   'charge': -4.0},\n",
       "  'OHACYL__45__COA__45__DEHYDROG__45__RXN__45__POLYMER__45__INST__45__L__45__3__45__HYDROXYACYL__45__COA__45__C16__45__H32__47__NAD__47____47__CPD__45__14271__47__NADH__47__PROTON__46__68__46__': {'C': 0,\n",
       "   'H': 0,\n",
       "   'N': 0,\n",
       "   'O': 0,\n",
       "   'P': 0,\n",
       "   'R': 0,\n",
       "   'S': 0,\n",
       "   'charge': -4.0},\n",
       "  'OHACYL__45__COA__45__DEHYDROG__45__RXN__45__POLYMER__45__INST__45__L__45__3__45__HYDROXYACYL__45__COA__45__C8__45__H16__47__NAD__47____47__CPD0__45__2105__47__NADH__47__PROTON__46__67__46__': {'C': 0,\n",
       "   'H': 0,\n",
       "   'N': 0,\n",
       "   'O': 0,\n",
       "   'P': 0,\n",
       "   'R': 0,\n",
       "   'S': 0,\n",
       "   'charge': -4.0},\n",
       "  'Oxidization_FADH2': {'C': 0,\n",
       "   'H': -1.0,\n",
       "   'N': 0,\n",
       "   'O': 0,\n",
       "   'P': 0,\n",
       "   'R': 0,\n",
       "   'S': 0,\n",
       "   'charge': -1.0},\n",
       "  'PHENOL__45__BETA__45__GLUCOSYLTRANSFERASE__45__RXN': {'C': -6.0,\n",
       "   'H': -10.0,\n",
       "   'N': 0,\n",
       "   'O': -5.0,\n",
       "   'P': 0,\n",
       "   'R': 0,\n",
       "   'S': 0,\n",
       "   'charge': 0},\n",
       "  'PHENYLALANINE__45____45__TRNA__45__LIGASE__45__RXN': {'C': -9.0,\n",
       "   'H': -11.0,\n",
       "   'N': -1.0,\n",
       "   'O': -1.0,\n",
       "   'P': 0,\n",
       "   'R': -1.0,\n",
       "   'S': 0,\n",
       "   'charge': -1.0},\n",
       "  'PHOSPHATIDATE__45__PHOSPHATASE__45__RXN': {'C': 0,\n",
       "   'H': -1.0,\n",
       "   'N': 0,\n",
       "   'O': 3.0,\n",
       "   'P': 1.0,\n",
       "   'R': 0,\n",
       "   'S': 0,\n",
       "   'charge': 0},\n",
       "  'PHOSPHATIDYLCHOLINE__45__DESATURASE__45__RXN': {'C': 0,\n",
       "   'H': 2.0,\n",
       "   'N': 0,\n",
       "   'O': 0,\n",
       "   'P': 0,\n",
       "   'R': 0,\n",
       "   'S': 0,\n",
       "   'charge': 0},\n",
       "  'PHOSPHATIDYLINOSITOL__45__3__45__PHOSPHATASE__45__RXN': {'C': 0,\n",
       "   'H': -1.0,\n",
       "   'N': 0,\n",
       "   'O': 3.0,\n",
       "   'P': 1.0,\n",
       "   'R': 0,\n",
       "   'S': 0,\n",
       "   'charge': 0},\n",
       "  'PHOSPHATIDYLINOSITOL__45__BISPHOSPHATASE__45__RXN': {'C': 0,\n",
       "   'H': -1.0,\n",
       "   'N': 0,\n",
       "   'O': 3.0,\n",
       "   'P': 1.0,\n",
       "   'R': 0,\n",
       "   'S': 0,\n",
       "   'charge': 0},\n",
       "  'PHOSPHOLIPASE__45__A1__45__RXN': {'C': -40.0,\n",
       "   'H': -81.0,\n",
       "   'N': -1.0,\n",
       "   'O': -9.0,\n",
       "   'P': -1.0,\n",
       "   'R': 0,\n",
       "   'S': 0,\n",
       "   'charge': 0},\n",
       "  'PHOSPHOLIPASE__45__C__45__RXN': {'C': -35.0,\n",
       "   'H': -68.0,\n",
       "   'N': 0,\n",
       "   'O': -5.0,\n",
       "   'P': 0,\n",
       "   'R': 0,\n",
       "   'S': 0,\n",
       "   'charge': 0},\n",
       "  'PNTO_Rtex': {'C': -9.0,\n",
       "   'H': -16.0,\n",
       "   'N': -1.0,\n",
       "   'O': -5.0,\n",
       "   'P': 0,\n",
       "   'R': 0,\n",
       "   'S': 0,\n",
       "   'charge': 0},\n",
       "  'PRODISULFREDUCT__45__A__45__RXN': {'C': 0,\n",
       "   'H': 0,\n",
       "   'N': 0,\n",
       "   'O': 0,\n",
       "   'P': 0,\n",
       "   'R': 0,\n",
       "   'S': 0,\n",
       "   'X': 1.0,\n",
       "   'charge': 0},\n",
       "  'PROLINE__45____45__TRNA__45__LIGASE__45__RXN': {'C': -5.0,\n",
       "   'H': -9.0,\n",
       "   'N': -1.0,\n",
       "   'O': -1.0,\n",
       "   'P': 0,\n",
       "   'R': -1.0,\n",
       "   'S': 0,\n",
       "   'charge': -1.0},\n",
       "  'PROTEIN__45__KINASE__45__RXN': {'C': 0,\n",
       "   'H': 1.0,\n",
       "   'N': 0,\n",
       "   'O': -3.0,\n",
       "   'P': -1.0,\n",
       "   'R': 0,\n",
       "   'S': 0,\n",
       "   'charge': 0},\n",
       "  'PROTEIN__45__TYROSINE__45__PHOSPHATASE__45__RXN': {'C': 0,\n",
       "   'H': -1.0,\n",
       "   'N': 0,\n",
       "   'O': 3.0,\n",
       "   'P': 1.0,\n",
       "   'R': 0,\n",
       "   'S': 0,\n",
       "   'charge': 0},\n",
       "  'PSD160': {'C': 0,\n",
       "   'H': 0,\n",
       "   'N': 0,\n",
       "   'O': 0,\n",
       "   'P': 0,\n",
       "   'R': 0,\n",
       "   'S': 0,\n",
       "   'charge': -1.0},\n",
       "  'PSSA160': {'C': 0,\n",
       "   'H': 0,\n",
       "   'N': 0,\n",
       "   'O': 0,\n",
       "   'P': 0,\n",
       "   'R': 0,\n",
       "   'S': 0,\n",
       "   'charge': 1.0},\n",
       "  'Putative_Trans_Aconitate_Decarboxylase': {'C': 0,\n",
       "   'H': 1.0,\n",
       "   'N': 0,\n",
       "   'O': 0,\n",
       "   'P': 0,\n",
       "   'R': 0,\n",
       "   'S': 0,\n",
       "   'charge': 1.0},\n",
       "  'R265__45__RXN': {'C': 0,\n",
       "   'H': -3.0,\n",
       "   'N': 0,\n",
       "   'O': 0,\n",
       "   'P': 0,\n",
       "   'R': 0,\n",
       "   'S': 0,\n",
       "   'charge': 0},\n",
       "  'R282__45__RXN': {'C': 0,\n",
       "   'H': -3.0,\n",
       "   'N': 0,\n",
       "   'O': 0,\n",
       "   'P': 0,\n",
       "   'R': 0,\n",
       "   'S': 0,\n",
       "   'charge': 0},\n",
       "  'RIBONUCLEOSIDE__45__DIP__45__REDUCTI__45__RXN': {'C': 0,\n",
       "   'H': 0,\n",
       "   'N': 0,\n",
       "   'O': -1.0,\n",
       "   'P': 0,\n",
       "   'R': 0,\n",
       "   'S': 0,\n",
       "   'charge': 0},\n",
       "  'RXN0__45__1134': {'C': -2.0,\n",
       "   'H': -4.0,\n",
       "   'N': 0,\n",
       "   'O': -1.0,\n",
       "   'P': 0,\n",
       "   'R': 0,\n",
       "   'S': 0,\n",
       "   'charge': 0},\n",
       "  'RXN0__45__2142': {'C': 0,\n",
       "   'H': 2.0,\n",
       "   'N': 0,\n",
       "   'O': 0,\n",
       "   'P': 0,\n",
       "   'R': 0,\n",
       "   'S': 0,\n",
       "   'charge': 0},\n",
       "  'RXN0__45__2161': {'C': -3.0,\n",
       "   'H': -7.0,\n",
       "   'N': -1.0,\n",
       "   'O': -2.0,\n",
       "   'P': 0,\n",
       "   'R': 0,\n",
       "   'S': 0,\n",
       "   'charge': -1.0},\n",
       "  'RXN0__45__5055': {'C': 1.0,\n",
       "   'H': -1.0,\n",
       "   'N': 0,\n",
       "   'O': 2.0,\n",
       "   'P': 0,\n",
       "   'R': 0,\n",
       "   'S': 0,\n",
       "   'charge': 0},\n",
       "  'RXN0__45__5468': {'C': 0,\n",
       "   'H': 0,\n",
       "   'N': 0,\n",
       "   'O': 1.0,\n",
       "   'P': 0,\n",
       "   'R': 0,\n",
       "   'S': 0,\n",
       "   'charge': 0},\n",
       "  'RXN0__45__5514': {'C': 11.0,\n",
       "   'H': 21.0,\n",
       "   'N': 2.0,\n",
       "   'O': 7.0,\n",
       "   'P': 1.0,\n",
       "   'R': 1.0,\n",
       "   'S': 1.0,\n",
       "   'charge': -1.0},\n",
       "  'RXN0__45__5515': {'C': -9.0,\n",
       "   'H': -12.0,\n",
       "   'N': -3.0,\n",
       "   'O': -7.0,\n",
       "   'P': -1.0,\n",
       "   'R': 0,\n",
       "   'S': 0,\n",
       "   'charge': 0},\n",
       "  'RXN0__45__6274': {'C': -5.0,\n",
       "   'H': -8.0,\n",
       "   'N': 0,\n",
       "   'O': 0,\n",
       "   'P': 0,\n",
       "   'R': 0,\n",
       "   'S': 0,\n",
       "   'charge': 0},\n",
       "  'RXN0__45__6359': {'C': 0,\n",
       "   'H': 1.0,\n",
       "   'N': 0,\n",
       "   'O': 0,\n",
       "   'P': 0,\n",
       "   'R': 0,\n",
       "   'S': 1.0,\n",
       "   'charge': 1.0},\n",
       "  'RXN0__45__7080': {'C': 0,\n",
       "   'H': 0,\n",
       "   'N': 0,\n",
       "   'O': 0,\n",
       "   'P': 0,\n",
       "   'R': 0,\n",
       "   'S': 0,\n",
       "   'charge': 1.0},\n",
       "  'RXN0__45__949': {'C': 0,\n",
       "   'H': 4.0,\n",
       "   'N': 0,\n",
       "   'O': 0,\n",
       "   'P': 0,\n",
       "   'R': 0,\n",
       "   'S': 0,\n",
       "   'charge': 0},\n",
       "  'RXN1A0__45__6303': {'C': 0,\n",
       "   'H': -1.0,\n",
       "   'N': 0,\n",
       "   'O': 0,\n",
       "   'P': 0,\n",
       "   'R': 0,\n",
       "   'S': 0,\n",
       "   'charge': 1.0},\n",
       "  'RXN1G__45__1050': {'C': 0,\n",
       "   'H': 2.0,\n",
       "   'N': 0,\n",
       "   'O': 0,\n",
       "   'P': 0,\n",
       "   'R': 0,\n",
       "   'S': 0,\n",
       "   'charge': 0},\n",
       "  'RXN1G__45__1053': {'C': 0,\n",
       "   'H': 2.0,\n",
       "   'N': 0,\n",
       "   'O': 0,\n",
       "   'P': 0,\n",
       "   'R': 0,\n",
       "   'S': 0,\n",
       "   'charge': 0},\n",
       "  'RXN1G__45__1247': {'C': 0,\n",
       "   'H': 2.0,\n",
       "   'N': 0,\n",
       "   'O': 0,\n",
       "   'P': 0,\n",
       "   'R': 0,\n",
       "   'S': 0,\n",
       "   'charge': 0},\n",
       "  'RXN1G__45__163': {'C': 0,\n",
       "   'H': 2.0,\n",
       "   'N': 0,\n",
       "   'O': 0,\n",
       "   'P': 0,\n",
       "   'R': 0,\n",
       "   'S': 0,\n",
       "   'charge': 0},\n",
       "  'RXN1G__45__182': {'C': 0,\n",
       "   'H': 2.0,\n",
       "   'N': 0,\n",
       "   'O': 0,\n",
       "   'P': 0,\n",
       "   'R': 0,\n",
       "   'S': 0,\n",
       "   'charge': 0},\n",
       "  'RXN1G__45__184': {'C': 0,\n",
       "   'H': 2.0,\n",
       "   'N': 0,\n",
       "   'O': 0,\n",
       "   'P': 0,\n",
       "   'R': 0,\n",
       "   'S': 0,\n",
       "   'charge': 0},\n",
       "  'RXN1G__45__203': {'C': 0,\n",
       "   'H': 2.0,\n",
       "   'N': 0,\n",
       "   'O': 0,\n",
       "   'P': 0,\n",
       "   'R': 0,\n",
       "   'S': 0,\n",
       "   'charge': 0},\n",
       "  'RXN1G__45__240': {'C': 0,\n",
       "   'H': 2.0,\n",
       "   'N': 0,\n",
       "   'O': 0,\n",
       "   'P': 0,\n",
       "   'R': 0,\n",
       "   'S': 0,\n",
       "   'charge': 0},\n",
       "  'RXN1G__45__252': {'C': 0,\n",
       "   'H': 2.0,\n",
       "   'N': 0,\n",
       "   'O': 0,\n",
       "   'P': 0,\n",
       "   'R': 0,\n",
       "   'S': 0,\n",
       "   'charge': 0},\n",
       "  'RXN1G__45__260': {'C': 0,\n",
       "   'H': 2.0,\n",
       "   'N': 0,\n",
       "   'O': 0,\n",
       "   'P': 0,\n",
       "   'R': 0,\n",
       "   'S': 0,\n",
       "   'charge': 0},\n",
       "  'RXN1G__45__262': {'C': 0,\n",
       "   'H': 2.0,\n",
       "   'N': 0,\n",
       "   'O': 0,\n",
       "   'P': 0,\n",
       "   'R': 0,\n",
       "   'S': 0,\n",
       "   'charge': 0},\n",
       "  'RXN1G__45__287': {'C': 0,\n",
       "   'H': 2.0,\n",
       "   'N': 0,\n",
       "   'O': 0,\n",
       "   'P': 0,\n",
       "   'R': 0,\n",
       "   'S': 0,\n",
       "   'charge': 0},\n",
       "  'RXN1G__45__320': {'C': 0,\n",
       "   'H': 2.0,\n",
       "   'N': 0,\n",
       "   'O': 1.0,\n",
       "   'P': 0,\n",
       "   'R': 0,\n",
       "   'S': 0,\n",
       "   'charge': 0},\n",
       "  'RXN1G__45__358': {'C': 0,\n",
       "   'H': 2.0,\n",
       "   'N': 0,\n",
       "   'O': 0,\n",
       "   'P': 0,\n",
       "   'R': 0,\n",
       "   'S': 0,\n",
       "   'charge': 0},\n",
       "  'RXN1G__45__363': {'C': 0,\n",
       "   'H': 2.0,\n",
       "   'N': 0,\n",
       "   'O': 1.0,\n",
       "   'P': 0,\n",
       "   'R': 0,\n",
       "   'S': 0,\n",
       "   'charge': 0},\n",
       "  'RXN1G__45__364': {'C': 0,\n",
       "   'H': 2.0,\n",
       "   'N': 0,\n",
       "   'O': 0,\n",
       "   'P': 0,\n",
       "   'R': 0,\n",
       "   'S': 0,\n",
       "   'charge': 0},\n",
       "  'RXN1G__45__384': {'C': 0,\n",
       "   'H': 2.0,\n",
       "   'N': 0,\n",
       "   'O': 0,\n",
       "   'P': 0,\n",
       "   'R': 0,\n",
       "   'S': 0,\n",
       "   'charge': 0},\n",
       "  'RXN1G__45__408': {'C': 0,\n",
       "   'H': 2.0,\n",
       "   'N': 0,\n",
       "   'O': 0,\n",
       "   'P': 0,\n",
       "   'R': 0,\n",
       "   'S': 0,\n",
       "   'charge': 0},\n",
       "  'RXN1G__45__409': {'C': 0,\n",
       "   'H': 2.0,\n",
       "   'N': 0,\n",
       "   'O': 0,\n",
       "   'P': 0,\n",
       "   'R': 0,\n",
       "   'S': 0,\n",
       "   'charge': 0},\n",
       "  'RXN1G__45__469': {'C': 0,\n",
       "   'H': 2.0,\n",
       "   'N': 0,\n",
       "   'O': 0,\n",
       "   'P': 0,\n",
       "   'R': 0,\n",
       "   'S': 0,\n",
       "   'charge': 0},\n",
       "  'RXN1G__45__481': {'C': 0,\n",
       "   'H': 2.0,\n",
       "   'N': 0,\n",
       "   'O': 0,\n",
       "   'P': 0,\n",
       "   'R': 0,\n",
       "   'S': 0,\n",
       "   'charge': 0},\n",
       "  'RXN1G__45__517': {'C': 0,\n",
       "   'H': 2.0,\n",
       "   'N': 0,\n",
       "   'O': 1.0,\n",
       "   'P': 0,\n",
       "   'R': 0,\n",
       "   'S': 0,\n",
       "   'charge': 0},\n",
       "  'RXN1G__45__613': {'C': 0,\n",
       "   'H': 2.0,\n",
       "   'N': 0,\n",
       "   'O': 0,\n",
       "   'P': 0,\n",
       "   'R': 0,\n",
       "   'S': 0,\n",
       "   'charge': 0},\n",
       "  'RXN1G__45__617': {'C': 0,\n",
       "   'H': 2.0,\n",
       "   'N': 0,\n",
       "   'O': 0,\n",
       "   'P': 0,\n",
       "   'R': 0,\n",
       "   'S': 0,\n",
       "   'charge': 0},\n",
       "  'RXN1G__45__637': {'C': 0,\n",
       "   'H': 2.0,\n",
       "   'N': 0,\n",
       "   'O': 0,\n",
       "   'P': 0,\n",
       "   'R': 0,\n",
       "   'S': 0,\n",
       "   'charge': 0},\n",
       "  'RXN1G__45__717': {'C': 0,\n",
       "   'H': 2.0,\n",
       "   'N': 0,\n",
       "   'O': 0,\n",
       "   'P': 0,\n",
       "   'R': 0,\n",
       "   'S': 0,\n",
       "   'charge': 0},\n",
       "  'RXN1G__45__72': {'C': 0,\n",
       "   'H': 2.0,\n",
       "   'N': 0,\n",
       "   'O': 0,\n",
       "   'P': 0,\n",
       "   'R': 0,\n",
       "   'S': 0,\n",
       "   'charge': 0},\n",
       "  'RXN1G__45__853': {'C': 0,\n",
       "   'H': 2.0,\n",
       "   'N': 0,\n",
       "   'O': 0,\n",
       "   'P': 0,\n",
       "   'R': 0,\n",
       "   'S': 0,\n",
       "   'charge': 0},\n",
       "  'RXN1G__45__881': {'C': 0,\n",
       "   'H': 2.0,\n",
       "   'N': 0,\n",
       "   'O': 0,\n",
       "   'P': 0,\n",
       "   'R': 0,\n",
       "   'S': 0,\n",
       "   'charge': 0},\n",
       "  'RXN1G__45__951': {'C': 0,\n",
       "   'H': 2.0,\n",
       "   'N': 0,\n",
       "   'O': 0,\n",
       "   'P': 0,\n",
       "   'R': 0,\n",
       "   'S': 0,\n",
       "   'charge': 0},\n",
       "  'RXN3DJ__45__11100': {'C': 0,\n",
       "   'H': 3.0,\n",
       "   'N': 0,\n",
       "   'O': 0,\n",
       "   'P': 0,\n",
       "   'R': 0,\n",
       "   'S': 0,\n",
       "   'charge': 0},\n",
       "  'RXN3DJ__45__118': {'C': 3.0,\n",
       "   'H': -7.0,\n",
       "   'N': 6.0,\n",
       "   'O': 14.0,\n",
       "   'P': 3.0,\n",
       "   'R': 0,\n",
       "   'S': 1.0,\n",
       "   'charge': 0},\n",
       "  'RXN66__45__469': {'C': -21.0,\n",
       "   'H': -31.0,\n",
       "   'N': -7.0,\n",
       "   'O': -15.0,\n",
       "   'P': -3.0,\n",
       "   'R': 0,\n",
       "   'S': -1.0,\n",
       "   'charge': 0},\n",
       "  'RXN66__45__472': {'C': 0,\n",
       "   'H': 1.0,\n",
       "   'N': 0,\n",
       "   'O': -1.0,\n",
       "   'P': 0,\n",
       "   'R': 0,\n",
       "   'S': 0,\n",
       "   'charge': 0},\n",
       "  'RXN66__45__474': {'C': -21.0,\n",
       "   'H': -31.0,\n",
       "   'N': -7.0,\n",
       "   'O': -15.0,\n",
       "   'P': -3.0,\n",
       "   'R': 0,\n",
       "   'S': -1.0,\n",
       "   'charge': 0},\n",
       "  'RXN66__45__476': {'C': 0,\n",
       "   'H': 1.0,\n",
       "   'N': 0,\n",
       "   'O': -1.0,\n",
       "   'P': 0,\n",
       "   'R': 0,\n",
       "   'S': 0,\n",
       "   'charge': 0},\n",
       "  'RXN66__45__477': {'C': -21.0,\n",
       "   'H': -31.0,\n",
       "   'N': -7.0,\n",
       "   'O': -15.0,\n",
       "   'P': -3.0,\n",
       "   'R': 0,\n",
       "   'S': -1.0,\n",
       "   'charge': 0},\n",
       "  'RXN66__45__485__45__CPD__45__10261__47__NAD__47____47__POLYMER__45__INST__45__3__45__KETOACYL__45__COA__45__C14__45__H28__47__NADH__47__PROTON__46__63__46__': {'C': 0,\n",
       "   'H': 0,\n",
       "   'N': 0,\n",
       "   'O': 0,\n",
       "   'P': 0,\n",
       "   'R': 0,\n",
       "   'S': 0,\n",
       "   'charge': 4.0},\n",
       "  'RXN66__45__485__45__POLYMER__45__INST__45__D__45__3__45__HYDROXYACYL__45__COA__45__C10__45__H20__47__NAD__47____47__CPD__45__10284__47__NADH__47__PROTON__46__68__46__': {'C': 0,\n",
       "   'H': 0,\n",
       "   'N': 0,\n",
       "   'O': 0,\n",
       "   'P': 0,\n",
       "   'R': 0,\n",
       "   'S': 0,\n",
       "   'charge': -4.0},\n",
       "  'RXN66__45__485__45__POLYMER__45__INST__45__D__45__3__45__HYDROXYACYL__45__COA__45__C12__45__H24__47__NAD__47____47__3__45__OXOPALMITOYL__45__COA__47__NADH__47__PROTON__46__77__46__': {'C': 0,\n",
       "   'H': 0,\n",
       "   'N': 0,\n",
       "   'O': 0,\n",
       "   'P': 0,\n",
       "   'R': 0,\n",
       "   'S': 0,\n",
       "   'charge': -4.0},\n",
       "  'RXN66__45__485__45__POLYMER__45__INST__45__D__45__3__45__HYDROXYACYL__45__COA__45__C2__45__H4__47__NAD__47____47__K__45__HEXANOYL__45__COA__47__NADH__47__PROTON__46__71__46__': {'C': 0,\n",
       "   'H': 0,\n",
       "   'N': 0,\n",
       "   'O': 0,\n",
       "   'P': 0,\n",
       "   'R': 0,\n",
       "   'S': 0,\n",
       "   'charge': -4.0},\n",
       "  'RXN66__45__485__45__POLYMER__45__INST__45__D__45__3__45__HYDROXYACYL__45__COA__45__C4__45__H8__47__NAD__47____47__CPD0__45__2106__47__NADH__47__PROTON__46__66__46__': {'C': 0,\n",
       "   'H': 0,\n",
       "   'N': 0,\n",
       "   'O': 0,\n",
       "   'P': 0,\n",
       "   'R': 0,\n",
       "   'S': 0,\n",
       "   'charge': -4.0},\n",
       "  'RXN66__45__485__45__POLYMER__45__INST__45__D__45__3__45__HYDROXYACYL__45__COA__45__C8__45__H16__47__NAD__47____47__CPD0__45__2105__47__NADH__47__PROTON__46__67__46__': {'C': 0,\n",
       "   'H': 0,\n",
       "   'N': 0,\n",
       "   'O': 0,\n",
       "   'P': 0,\n",
       "   'R': 0,\n",
       "   'S': 0,\n",
       "   'charge': -4.0},\n",
       "  'RXN__45__10655': {'C': 0,\n",
       "   'H': 2.0,\n",
       "   'N': 0,\n",
       "   'O': 0,\n",
       "   'P': 0,\n",
       "   'R': 0,\n",
       "   'S': 0,\n",
       "   'charge': 0},\n",
       "  'RXN__45__10659': {'C': 0,\n",
       "   'H': 2.0,\n",
       "   'N': 0,\n",
       "   'O': 0,\n",
       "   'P': 0,\n",
       "   'R': 0,\n",
       "   'S': 0,\n",
       "   'charge': 0},\n",
       "  'RXN__45__10938': {'C': 0,\n",
       "   'H': -1.0,\n",
       "   'N': 0,\n",
       "   'O': 3.0,\n",
       "   'P': 1.0,\n",
       "   'R': 0,\n",
       "   'S': 0,\n",
       "   'charge': 0},\n",
       "  'RXN__45__10958': {'C': 0,\n",
       "   'H': -1.0,\n",
       "   'N': 0,\n",
       "   'O': 3.0,\n",
       "   'P': 1.0,\n",
       "   'R': 0,\n",
       "   'S': 0,\n",
       "   'charge': 0},\n",
       "  'RXN__45__10981': {'C': 0,\n",
       "   'H': 0,\n",
       "   'N': 0,\n",
       "   'O': 0,\n",
       "   'P': 0,\n",
       "   'R': 0,\n",
       "   'S': 0,\n",
       "   'charge': -1.0},\n",
       "  'RXN__45__11026__45__CPD__45__9965__47__OXYGEN__45__MOLECULE__47____47__POLYMER__45__INST__45__TRANS__45__D2__45__ENOYL__45__COA__45__C16__45__H32__47__HYDROGEN__45__PEROXIDE__46__84__46__': {'C': 0,\n",
       "   'H': 0,\n",
       "   'N': 0,\n",
       "   'O': 0,\n",
       "   'P': 0,\n",
       "   'R': 0,\n",
       "   'S': 0,\n",
       "   'charge': 4.0},\n",
       "  'RXN__45__11026__45__PALMITYL__45__COA__47__OXYGEN__45__MOLECULE__47____47__POLYMER__45__INST__45__TRANS__45__D2__45__ENOYL__45__COA__45__C12__45__H24__47__HYDROGEN__45__PEROXIDE__46__88__46__': {'C': 0,\n",
       "   'H': 0,\n",
       "   'N': 0,\n",
       "   'O': 0,\n",
       "   'P': 0,\n",
       "   'R': 0,\n",
       "   'S': 0,\n",
       "   'charge': 4.0},\n",
       "  'RXN__45__11026__45__TETRADECANOYL__45__COA__47__OXYGEN__45__MOLECULE__47____47__POLYMER__45__INST__45__TRANS__45__D2__45__ENOYL__45__COA__45__C10__45__H20__47__HYDROGEN__45__PEROXIDE__46__93__46__': {'C': 0,\n",
       "   'H': 0,\n",
       "   'N': 0,\n",
       "   'O': 0,\n",
       "   'P': 0,\n",
       "   'R': 0,\n",
       "   'S': 0,\n",
       "   'charge': 4.0},\n",
       "  'RXN__45__11373': {'C': -1.0,\n",
       "   'H': -2.0,\n",
       "   'N': 0,\n",
       "   'O': 0,\n",
       "   'P': 0,\n",
       "   'R': 0,\n",
       "   'S': 0,\n",
       "   'charge': 0},\n",
       "  'RXN__45__11374': {'C': -1.0,\n",
       "   'H': -2.0,\n",
       "   'N': 0,\n",
       "   'O': 0,\n",
       "   'P': 0,\n",
       "   'R': 0,\n",
       "   'S': 0,\n",
       "   'charge': 0},\n",
       "  'RXN__45__11375': {'C': 0,\n",
       "   'H': -2.0,\n",
       "   'N': 0,\n",
       "   'O': -1.0,\n",
       "   'P': 0,\n",
       "   'R': 0,\n",
       "   'S': 0,\n",
       "   'charge': 0},\n",
       "  'RXN__45__11377': {'C': 2.0,\n",
       "   'H': 7.0,\n",
       "   'N': 1.0,\n",
       "   'O': 4.0,\n",
       "   'P': 1.0,\n",
       "   'R': 0,\n",
       "   'S': 0,\n",
       "   'charge': 0},\n",
       "  'RXN__45__11409': {'C': 0,\n",
       "   'H': 0,\n",
       "   'N': 0,\n",
       "   'O': 0,\n",
       "   'P': 0,\n",
       "   'R': 0,\n",
       "   'S': 0,\n",
       "   'charge': 1.0},\n",
       "  'RXN__45__11410': {'C': 0,\n",
       "   'H': 0,\n",
       "   'N': 0,\n",
       "   'O': 0,\n",
       "   'P': 0,\n",
       "   'R': 0,\n",
       "   'S': 0,\n",
       "   'charge': 1.0},\n",
       "  'RXN__45__11474': {'C': -2.0,\n",
       "   'H': -2.0,\n",
       "   'N': 0,\n",
       "   'O': -1.0,\n",
       "   'P': 0,\n",
       "   'R': 0,\n",
       "   'S': 0,\n",
       "   'charge': 0},\n",
       "  'RXN__45__11476': {'C': 0,\n",
       "   'H': 2.0,\n",
       "   'N': 0,\n",
       "   'O': 0,\n",
       "   'P': 0,\n",
       "   'R': 0,\n",
       "   'S': 0,\n",
       "   'charge': 0},\n",
       "  'RXN__45__11480': {'C': -19.0,\n",
       "   'H': -31.0,\n",
       "   'N': -2.0,\n",
       "   'O': -11.0,\n",
       "   'P': -1.0,\n",
       "   'R': -1.0,\n",
       "   'S': -1.0,\n",
       "   'charge': 0},\n",
       "  'RXN__45__11634': {'C': -4.0,\n",
       "   'H': -8.0,\n",
       "   'N': 0,\n",
       "   'O': 0,\n",
       "   'P': 0,\n",
       "   'R': 0,\n",
       "   'S': 0,\n",
       "   'charge': 0},\n",
       "  'RXN__45__11696': {'C': 0,\n",
       "   'H': 1.0,\n",
       "   'N': 0,\n",
       "   'O': 0,\n",
       "   'P': 0,\n",
       "   'R': 0,\n",
       "   'S': 0,\n",
       "   'charge': 0},\n",
       "  'RXN__45__11754': {'C': -1.0,\n",
       "   'H': -4.0,\n",
       "   'N': 0,\n",
       "   'O': 0,\n",
       "   'P': 0,\n",
       "   'R': 0,\n",
       "   'S': 0,\n",
       "   'charge': -2.0},\n",
       "  'RXN__45__11797': {'C': 0,\n",
       "   'H': 0,\n",
       "   'N': 0,\n",
       "   'O': 0,\n",
       "   'P': 0,\n",
       "   'R': 0,\n",
       "   'S': 0,\n",
       "   'charge': -1.0},\n",
       "  'RXN__45__12088': {'C': 6.0,\n",
       "   'H': 10.0,\n",
       "   'N': 0,\n",
       "   'O': 5.0,\n",
       "   'P': 0,\n",
       "   'R': 0,\n",
       "   'S': 0,\n",
       "   'charge': 0},\n",
       "  'RXN__45__1224': {'C': -6.0,\n",
       "   'H': -10.0,\n",
       "   'N': 0,\n",
       "   'O': -7.0,\n",
       "   'P': 0,\n",
       "   'R': 0,\n",
       "   'S': -1.0,\n",
       "   'charge': 0},\n",
       "  'RXN__45__12339': {'C': 23.0,\n",
       "   'H': 48.0,\n",
       "   'N': 2.0,\n",
       "   'O': 4.0,\n",
       "   'P': 1.0,\n",
       "   'R': 0,\n",
       "   'S': 0,\n",
       "   'charge': 0},\n",
       "  'RXN__45__12448': {'C': 0,\n",
       "   'H': 2.0,\n",
       "   'N': 0,\n",
       "   'O': 0,\n",
       "   'P': 0,\n",
       "   'R': 0,\n",
       "   'S': 0,\n",
       "   'charge': 0},\n",
       "  'RXN__45__12460': {'C': 14.0,\n",
       "   'H': 25.0,\n",
       "   'N': 2.0,\n",
       "   'O': 12.0,\n",
       "   'P': 1.0,\n",
       "   'R': 2.0,\n",
       "   'S': 0,\n",
       "   'charge': 1.0},\n",
       "  'RXN__45__12518': {'C': 0,\n",
       "   'H': 2.0,\n",
       "   'N': 0,\n",
       "   'O': 0,\n",
       "   'P': 0,\n",
       "   'R': 0,\n",
       "   'S': 0,\n",
       "   'charge': 0},\n",
       "  'RXN__45__12539': {'C': 0,\n",
       "   'H': 0,\n",
       "   'N': 0,\n",
       "   'O': 0,\n",
       "   'P': 0,\n",
       "   'R': 0,\n",
       "   'S': 0,\n",
       "   'charge': 1.0},\n",
       "  'RXN__45__12579': {'C': 20.0,\n",
       "   'H': 29.0,\n",
       "   'N': 0,\n",
       "   'O': 0,\n",
       "   'P': 0,\n",
       "   'R': 0,\n",
       "   'S': 0,\n",
       "   'charge': 0},\n",
       "  'RXN__45__12588': {'C': 0,\n",
       "   'H': -1.0,\n",
       "   'N': 0,\n",
       "   'O': 0,\n",
       "   'P': 0,\n",
       "   'R': 0,\n",
       "   'S': -1.0,\n",
       "   'charge': -1.0},\n",
       "  'RXN__45__12959': {'C': 0,\n",
       "   'H': 1.0,\n",
       "   'N': 0,\n",
       "   'O': -3.0,\n",
       "   'P': -1.0,\n",
       "   'R': 0,\n",
       "   'S': 0,\n",
       "   'charge': 0},\n",
       "  'RXN__45__13008': {'C': 0,\n",
       "   'H': 2.0,\n",
       "   'N': 0,\n",
       "   'O': 0,\n",
       "   'P': 0,\n",
       "   'R': 0,\n",
       "   'S': 0,\n",
       "   'charge': 0},\n",
       "  'RXN__45__13334': {'C': 6.0,\n",
       "   'H': 9.0,\n",
       "   'N': 0,\n",
       "   'O': 11.0,\n",
       "   'P': 2.0,\n",
       "   'R': 0,\n",
       "   'S': 0,\n",
       "   'charge': 0},\n",
       "  'RXN__45__13415': {'C': -4.0,\n",
       "   'H': -8.0,\n",
       "   'N': -1.0,\n",
       "   'O': 0,\n",
       "   'P': 0,\n",
       "   'R': 0,\n",
       "   'S': 0,\n",
       "   'charge': 0},\n",
       "  'RXN__45__13416': {'C': 0,\n",
       "   'H': 1.0,\n",
       "   'N': 0,\n",
       "   'O': 0,\n",
       "   'P': 0,\n",
       "   'R': 0,\n",
       "   'S': 0,\n",
       "   'charge': 0},\n",
       "  'RXN__45__13417': {'C': 0,\n",
       "   'H': -2.0,\n",
       "   'N': 0,\n",
       "   'O': 0,\n",
       "   'P': 0,\n",
       "   'R': 0,\n",
       "   'S': 0,\n",
       "   'charge': 0},\n",
       "  'RXN__45__13445': {'C': 0,\n",
       "   'H': 0,\n",
       "   'N': 0,\n",
       "   'O': 0,\n",
       "   'P': 0,\n",
       "   'R': 0,\n",
       "   'S': 0,\n",
       "   'charge': -2.0},\n",
       "  'RXN__45__13682': {'C': 0,\n",
       "   'H': 2.0,\n",
       "   'N': 0,\n",
       "   'O': 0,\n",
       "   'P': 0,\n",
       "   'R': 0,\n",
       "   'S': 0,\n",
       "   'charge': 0},\n",
       "  'RXN__45__13730': {'C': 6.0,\n",
       "   'H': 10.0,\n",
       "   'N': 0,\n",
       "   'O': 8.0,\n",
       "   'P': 1.0,\n",
       "   'R': 0,\n",
       "   'S': 0,\n",
       "   'charge': 0},\n",
       "  'RXN__45__13731': {'C': 12.0,\n",
       "   'H': 20.0,\n",
       "   'N': 0,\n",
       "   'O': 13.0,\n",
       "   'P': 1.0,\n",
       "   'R': 0,\n",
       "   'S': 0,\n",
       "   'charge': 0},\n",
       "  'RXN__45__13732': {'C': 18.0,\n",
       "   'H': 30.0,\n",
       "   'N': 0,\n",
       "   'O': 21.0,\n",
       "   'P': 2.0,\n",
       "   'R': 0,\n",
       "   'S': 0,\n",
       "   'charge': 0},\n",
       "  'RXN__45__13733': {'C': 18.0,\n",
       "   'H': 38.0,\n",
       "   'N': 1.0,\n",
       "   'O': 1.0,\n",
       "   'P': 0,\n",
       "   'R': 0,\n",
       "   'S': 0,\n",
       "   'charge': 0},\n",
       "  'RXN__45__14290': {'C': 0,\n",
       "   'H': 0,\n",
       "   'N': 0,\n",
       "   'O': 0,\n",
       "   'P': 0,\n",
       "   'R': 0,\n",
       "   'S': 0,\n",
       "   'charge': 1.0},\n",
       "  'RXN__45__14326': {'C': -3.0,\n",
       "   'H': -6.0,\n",
       "   'N': 0,\n",
       "   'O': 0,\n",
       "   'P': 0,\n",
       "   'R': 0,\n",
       "   'S': 0,\n",
       "   'charge': 0},\n",
       "  'RXN__45__14554': {'C': -16.0,\n",
       "   'H': -30.0,\n",
       "   'N': 0,\n",
       "   'O': -1.0,\n",
       "   'P': 0,\n",
       "   'R': 0,\n",
       "   'S': 0,\n",
       "   'charge': 0},\n",
       "  'RXN__45__14577': {'C': 0,\n",
       "   'H': 0,\n",
       "   'N': 0,\n",
       "   'O': 0,\n",
       "   'P': 0,\n",
       "   'R': 0,\n",
       "   'S': 0,\n",
       "   'charge': -2.0},\n",
       "  'RXN__45__14665': {'C': 0,\n",
       "   'H': 0,\n",
       "   'N': 0,\n",
       "   'O': -1.0,\n",
       "   'P': 0,\n",
       "   'R': 0,\n",
       "   'S': 0,\n",
       "   'charge': 0},\n",
       "  'RXN__45__14906': {'C': 0,\n",
       "   'H': 1.0,\n",
       "   'N': 0,\n",
       "   'O': -3.0,\n",
       "   'P': -1.0,\n",
       "   'R': 0,\n",
       "   'S': 0,\n",
       "   'charge': 0},\n",
       "  'RXN__45__14950': {'C': 0,\n",
       "   'H': 4.0,\n",
       "   'N': 0,\n",
       "   'O': 0,\n",
       "   'P': 0,\n",
       "   'R': 0,\n",
       "   'S': 0,\n",
       "   'charge': 0},\n",
       "  'RXN__45__14959': {'C': 0,\n",
       "   'H': 4.0,\n",
       "   'N': 0,\n",
       "   'O': 0,\n",
       "   'P': 0,\n",
       "   'R': 0,\n",
       "   'S': 0,\n",
       "   'charge': 0},\n",
       "  'RXN__45__14960': {'C': 0,\n",
       "   'Fe': 1.0,\n",
       "   'H': -1.0,\n",
       "   'N': 0,\n",
       "   'O': 0,\n",
       "   'P': 0,\n",
       "   'R': 0,\n",
       "   'S': 0,\n",
       "   'charge': -1.0},\n",
       "  'RXN__45__15003': {'C': -5.0,\n",
       "   'H': -6.0,\n",
       "   'N': -1.0,\n",
       "   'O': -3.0,\n",
       "   'P': 0,\n",
       "   'R': 0,\n",
       "   'S': 0,\n",
       "   'charge': 0},\n",
       "  'RXN__45__15004': {'C': 5.0,\n",
       "   'H': 11.0,\n",
       "   'N': 2.0,\n",
       "   'O': 1.0,\n",
       "   'P': 0,\n",
       "   'R': 0,\n",
       "   'S': 0,\n",
       "   'charge': 0},\n",
       "  'RXN__45__15005': {'C': 0,\n",
       "   'H': 0,\n",
       "   'N': 0,\n",
       "   'O': -3.0,\n",
       "   'P': -1.0,\n",
       "   'R': 0,\n",
       "   'S': 0,\n",
       "   'charge': 0},\n",
       "  'RXN__45__15006': {'C': 0,\n",
       "   'H': -1.0,\n",
       "   'N': 0,\n",
       "   'O': 4.0,\n",
       "   'P': 1.0,\n",
       "   'R': 0,\n",
       "   'S': 0,\n",
       "   'charge': 0},\n",
       "  'RXN__45__15007': {'C': 0,\n",
       "   'H': 4.0,\n",
       "   'N': 1.0,\n",
       "   'O': -1.0,\n",
       "   'P': 0,\n",
       "   'R': 0,\n",
       "   'S': 0,\n",
       "   'charge': 0},\n",
       "  'RXN__45__15041': {'C': 0,\n",
       "   'H': 0,\n",
       "   'N': 0,\n",
       "   'O': -1.0,\n",
       "   'P': 0,\n",
       "   'R': 0,\n",
       "   'S': 0,\n",
       "   'charge': 1.0},\n",
       "  'RXN__45__15139': {'C': 0,\n",
       "   'H': 0,\n",
       "   'N': 0,\n",
       "   'O': 0,\n",
       "   'P': 0,\n",
       "   'R': 0,\n",
       "   'S': 0,\n",
       "   'charge': 1.0},\n",
       "  'RXN__45__15211': {'C': -40.0,\n",
       "   'H': -80.0,\n",
       "   'N': -1.0,\n",
       "   'O': -8.0,\n",
       "   'P': -1.0,\n",
       "   'R': 0,\n",
       "   'S': 0,\n",
       "   'charge': 0},\n",
       "  'RXN__45__15212': {'C': 5.0,\n",
       "   'H': 12.0,\n",
       "   'N': 1.0,\n",
       "   'O': 3.0,\n",
       "   'P': 1.0,\n",
       "   'R': 0,\n",
       "   'S': 0,\n",
       "   'charge': 0},\n",
       "  'RXN__45__15271': {'C': -11.0,\n",
       "   'H': -16.0,\n",
       "   'N': -1.0,\n",
       "   'O': -8.0,\n",
       "   'P': 0,\n",
       "   'R': 0,\n",
       "   'S': 0,\n",
       "   'charge': 0},\n",
       "  'RXN__45__15276': {'C': -6.0,\n",
       "   'H': -10.0,\n",
       "   'N': 0,\n",
       "   'O': -5.0,\n",
       "   'P': 0,\n",
       "   'R': 0,\n",
       "   'S': 0,\n",
       "   'charge': 0},\n",
       "  'RXN__45__15277': {'C': -8.0,\n",
       "   'H': -13.0,\n",
       "   'N': -1.0,\n",
       "   'O': -5.0,\n",
       "   'P': 0,\n",
       "   'R': 0,\n",
       "   'S': 0,\n",
       "   'charge': 0},\n",
       "  'RXN__45__15278': {'C': -6.0,\n",
       "   'H': -10.0,\n",
       "   'N': 0,\n",
       "   'O': -5.0,\n",
       "   'P': 0,\n",
       "   'R': 0,\n",
       "   'S': 0,\n",
       "   'charge': 0},\n",
       "  'RXN__45__1602': {'C': 0,\n",
       "   'H': -1.0,\n",
       "   'N': 0,\n",
       "   'O': -1.0,\n",
       "   'P': 0,\n",
       "   'R': 0,\n",
       "   'S': 0,\n",
       "   'charge': 0},\n",
       "  'RXN__45__1641': {'C': -40.0,\n",
       "   'H': -80.0,\n",
       "   'N': -1.0,\n",
       "   'O': -8.0,\n",
       "   'P': -1.0,\n",
       "   'R': 0,\n",
       "   'S': 0,\n",
       "   'charge': 0},\n",
       "  'RXN__45__3701': {'C': -20.0,\n",
       "   'H': -32.0,\n",
       "   'N': 0,\n",
       "   'O': 0,\n",
       "   'P': 0,\n",
       "   'R': 0,\n",
       "   'S': 0,\n",
       "   'charge': 0},\n",
       "  'RXN__45__5781': {'C': 35.0,\n",
       "   'H': 68.0,\n",
       "   'N': 0,\n",
       "   'O': 5.0,\n",
       "   'P': 0,\n",
       "   'R': 0,\n",
       "   'S': 0,\n",
       "   'charge': 0},\n",
       "  'RXN__45__6601': {'C': -5.0,\n",
       "   'H': -6.0,\n",
       "   'N': -1.0,\n",
       "   'O': -3.0,\n",
       "   'P': 0,\n",
       "   'R': 0,\n",
       "   'S': 0,\n",
       "   'charge': 0},\n",
       "  'RXN__45__7605': {'C': -1.0,\n",
       "   'H': -3.0,\n",
       "   'N': 0,\n",
       "   'O': 0,\n",
       "   'P': 0,\n",
       "   'R': 0,\n",
       "   'S': 0,\n",
       "   'charge': -1.0},\n",
       "  'RXN__45__7699__45__CPD__45__14275__47____47__POLYMER__45__INST__45__TRANS__45__D2__45__ENOYL__45__COA__45__C16__45__H32__47__WATER__46__57__46__': {'C': 0,\n",
       "   'H': 0,\n",
       "   'N': 0,\n",
       "   'O': 0,\n",
       "   'P': 0,\n",
       "   'R': 0,\n",
       "   'S': 0,\n",
       "   'charge': -4.0},\n",
       "  'RXN__45__7699__45__POLYMER__45__INST__45__D__45__3__45__HYDROXYACYL__45__COA__45__C2__45__H4__47____47__CPD0__45__2121__47__WATER__46__56__46__': {'C': 0,\n",
       "   'H': 0,\n",
       "   'N': 0,\n",
       "   'O': 0,\n",
       "   'P': 0,\n",
       "   'R': 0,\n",
       "   'S': 0,\n",
       "   'charge': 4.0},\n",
       "  'RXN__45__7699__45__POLYMER__45__INST__45__D__45__3__45__HYDROXYACYL__45__COA__45__C4__45__H8__47____47__CPD0__45__2108__47__WATER__46__56__46__': {'C': 0,\n",
       "   'H': 0,\n",
       "   'N': 0,\n",
       "   'O': 0,\n",
       "   'P': 0,\n",
       "   'R': 0,\n",
       "   'S': 0,\n",
       "   'charge': 4.0},\n",
       "  'RXN__45__7699__45__POLYMER__45__INST__45__D__45__3__45__HYDROXYACYL__45__COA__45__C8__45__H16__47____47__CPD__45__7222__47__WATER__46__56__46__': {'C': 0,\n",
       "   'H': 0,\n",
       "   'N': 0,\n",
       "   'O': 0,\n",
       "   'P': 0,\n",
       "   'R': 0,\n",
       "   'S': 0,\n",
       "   'charge': 4.0},\n",
       "  'RXN__45__7719': {'C': 0,\n",
       "   'H': 2.0,\n",
       "   'N': 0,\n",
       "   'O': 0,\n",
       "   'P': 0,\n",
       "   'R': 0,\n",
       "   'S': 0,\n",
       "   'charge': 0},\n",
       "  'RXN__45__7838': {'C': 0,\n",
       "   'H': 2.0,\n",
       "   'N': 0,\n",
       "   'O': 1.0,\n",
       "   'P': 0,\n",
       "   'R': 0,\n",
       "   'S': 0,\n",
       "   'charge': 0},\n",
       "  'RXN__45__7919': {'C': 10.0,\n",
       "   'H': 14.0,\n",
       "   'N': 3.0,\n",
       "   'O': 5.0,\n",
       "   'P': 0,\n",
       "   'R': 0,\n",
       "   'S': 1.0,\n",
       "   'charge': 0},\n",
       "  'RXN__45__8351': {'C': 0,\n",
       "   'H': 0,\n",
       "   'N': 0,\n",
       "   'O': 0,\n",
       "   'P': 0,\n",
       "   'R': 0,\n",
       "   'S': 0,\n",
       "   'charge': -2.0},\n",
       "  'RXN__45__8353': {'C': 0,\n",
       "   'H': 0,\n",
       "   'N': 0,\n",
       "   'O': 0,\n",
       "   'P': 0,\n",
       "   'R': 0,\n",
       "   'S': 0,\n",
       "   'charge': -2.0},\n",
       "  'RXN__45__8629': {'C': 0,\n",
       "   'H': 2.0,\n",
       "   'N': 0,\n",
       "   'O': 0,\n",
       "   'P': 0,\n",
       "   'R': 0,\n",
       "   'S': 0,\n",
       "   'charge': 0},\n",
       "  'RXN__45__9548': {'C': 0,\n",
       "   'H': 0,\n",
       "   'N': 0,\n",
       "   'O': 0,\n",
       "   'P': 0,\n",
       "   'R': 0,\n",
       "   'S': 0,\n",
       "   'charge': -1.0},\n",
       "  'RXN__45__9552': {'C': 0,\n",
       "   'H': 2.0,\n",
       "   'N': 0,\n",
       "   'O': 0,\n",
       "   'P': 0,\n",
       "   'R': 0,\n",
       "   'S': 0,\n",
       "   'charge': 0},\n",
       "  'RXN__45__9553': {'C': 0,\n",
       "   'H': 2.0,\n",
       "   'N': 0,\n",
       "   'O': 1.0,\n",
       "   'P': 0,\n",
       "   'R': 0,\n",
       "   'S': 0,\n",
       "   'charge': 0},\n",
       "  'RXN__45__9557': {'C': -29.0,\n",
       "   'H': -51.0,\n",
       "   'N': -2.0,\n",
       "   'O': -8.0,\n",
       "   'P': -1.0,\n",
       "   'R': -1.0,\n",
       "   'S': -1.0,\n",
       "   'charge': 0},\n",
       "  'RXN__45__9597': {'C': 0,\n",
       "   'H': 4.0,\n",
       "   'N': 1.0,\n",
       "   'O': -1.0,\n",
       "   'P': 0,\n",
       "   'R': 0,\n",
       "   'S': 0,\n",
       "   'charge': 0},\n",
       "  'RXN__45__9779': {'C': 0,\n",
       "   'H': -1.0,\n",
       "   'N': 0,\n",
       "   'O': 3.0,\n",
       "   'P': 1.0,\n",
       "   'R': 0,\n",
       "   'S': 0,\n",
       "   'charge': 0},\n",
       "  'RXN__45__9787': {'C': 0,\n",
       "   'H': 0,\n",
       "   'N': 0,\n",
       "   'O': 0,\n",
       "   'P': 0,\n",
       "   'R': 0,\n",
       "   'S': -1.0,\n",
       "   'charge': 0},\n",
       "  'RXN__45__9918': {'C': 14.0,\n",
       "   'H': 17.0,\n",
       "   'N': 6.0,\n",
       "   'O': 13.0,\n",
       "   'P': 3.0,\n",
       "   'R': 0,\n",
       "   'S': 1.0,\n",
       "   'charge': 0},\n",
       "  'RXN__45__9920': {'C': 0,\n",
       "   'H': -1.0,\n",
       "   'N': 0,\n",
       "   'O': 3.0,\n",
       "   'P': 1.0,\n",
       "   'R': 0,\n",
       "   'S': 0,\n",
       "   'charge': 0},\n",
       "  'SERTRS': {'C': 0,\n",
       "   'H': -1.0,\n",
       "   'N': 0,\n",
       "   'O': 0,\n",
       "   'P': 0,\n",
       "   'R': 0,\n",
       "   'S': 0,\n",
       "   'charge': -2.0},\n",
       "  'SPHINGOMYELIN__45__PHOSPHODIESTERASE__45__RXN': {'C': 5.0,\n",
       "   'H': 12.0,\n",
       "   'N': 1.0,\n",
       "   'O': 3.0,\n",
       "   'P': 1.0,\n",
       "   'R': 0,\n",
       "   'S': 0,\n",
       "   'charge': 0},\n",
       "  'STS1r': {'C': 0,\n",
       "   'H': 0,\n",
       "   'N': 0,\n",
       "   'O': 0,\n",
       "   'P': 0,\n",
       "   'R': 0,\n",
       "   'S': 0,\n",
       "   'charge': 2.0},\n",
       "  'THMtex': {'C': 0,\n",
       "   'H': 0,\n",
       "   'N': 0,\n",
       "   'O': 0,\n",
       "   'P': 0,\n",
       "   'R': 0,\n",
       "   'S': 0,\n",
       "   'charge': 1.0},\n",
       "  'THREONINE__45____45__TRNA__45__LIGASE__45__RXN': {'C': -4.0,\n",
       "   'H': -9.0,\n",
       "   'N': -1.0,\n",
       "   'O': -2.0,\n",
       "   'P': 0,\n",
       "   'R': -1.0,\n",
       "   'S': 0,\n",
       "   'charge': -1.0},\n",
       "  'TRPO2': {'C': 0,\n",
       "   'H': 0,\n",
       "   'N': 0,\n",
       "   'O': 0,\n",
       "   'P': 0,\n",
       "   'R': 0,\n",
       "   'S': 0,\n",
       "   'charge': -2.0},\n",
       "  'TRYPTOPHAN__45____45__TRNA__45__LIGASE__45__RXN': {'C': -11.0,\n",
       "   'H': -12.0,\n",
       "   'N': -2.0,\n",
       "   'O': -1.0,\n",
       "   'P': 0,\n",
       "   'R': -1.0,\n",
       "   'S': 0,\n",
       "   'charge': -1.0},\n",
       "  'TYROSINE__45____45__TRNA__45__LIGASE__45__RXN': {'C': -9.0,\n",
       "   'H': -11.0,\n",
       "   'N': -1.0,\n",
       "   'O': -2.0,\n",
       "   'P': 0,\n",
       "   'R': -1.0,\n",
       "   'S': 0,\n",
       "   'charge': -1.0},\n",
       "  'UBIQUITIN__45____45__PROTEIN__45__LIGASE__45__RXN': {'C': 0,\n",
       "   'H': 2.0,\n",
       "   'N': 0,\n",
       "   'O': 1.0,\n",
       "   'P': 0,\n",
       "   'R': 0,\n",
       "   'S': 0,\n",
       "   'charge': 0},\n",
       "  'VALINE__45____45__TRNA__45__LIGASE__45__RXN': {'C': -5.0,\n",
       "   'H': -11.0,\n",
       "   'N': -1.0,\n",
       "   'O': -1.0,\n",
       "   'P': 0,\n",
       "   'R': -1.0,\n",
       "   'S': 0,\n",
       "   'charge': -1.0},\n",
       "  '_1__45__PHOSPHATIDYLINOSITOL__45__3__45__KINASE__45__RXN': {'C': 0,\n",
       "   'H': 1.0,\n",
       "   'N': 0,\n",
       "   'O': -3.0,\n",
       "   'P': -1.0,\n",
       "   'R': 0,\n",
       "   'S': 0,\n",
       "   'charge': 0},\n",
       "  '_1__45__PHOSPHATIDYLINOSITOL__45__KINASE__45__RXN': {'C': 0,\n",
       "   'H': 1.0,\n",
       "   'N': 0,\n",
       "   'O': -3.0,\n",
       "   'P': -1.0,\n",
       "   'R': 0,\n",
       "   'S': 0,\n",
       "   'charge': 0},\n",
       "  '_1__46__11__46__1__46__12__45__RXN': {'C': 30.0,\n",
       "   'H': 50.0,\n",
       "   'N': 0,\n",
       "   'O': 9.0,\n",
       "   'P': 2.0,\n",
       "   'R': 0,\n",
       "   'S': 0,\n",
       "   'charge': -4.0},\n",
       "  '_1__46__14__46__19__46__6__45__RXN': {'C': 0,\n",
       "   'H': -2.0,\n",
       "   'N': 0,\n",
       "   'O': 1.0,\n",
       "   'P': 0,\n",
       "   'R': 0,\n",
       "   'S': 0,\n",
       "   'charge': 0},\n",
       "  '_1__46__17__46__4__46__2__45__RXN': {'C': 0,\n",
       "   'H': 0,\n",
       "   'N': 0,\n",
       "   'O': -1.0,\n",
       "   'P': 0,\n",
       "   'R': 0,\n",
       "   'S': 0,\n",
       "   'charge': 0},\n",
       "  '_1__46__1__46__1__46__117__45__RXN': {'C': 0,\n",
       "   'H': -1.0,\n",
       "   'N': 0,\n",
       "   'O': 0,\n",
       "   'P': 0,\n",
       "   'R': 0,\n",
       "   'S': 0,\n",
       "   'charge': 0},\n",
       "  '_1__46__2__46__4__46__4__45__RXN': {'C': -4.0,\n",
       "   'H': -8.0,\n",
       "   'N': 0,\n",
       "   'O': -1.0,\n",
       "   'P': 0,\n",
       "   'R': 0,\n",
       "   'S': 0,\n",
       "   'charge': 0},\n",
       "  '_2__46__1__46__1__46__126__45__RXN': {'C': -1.0,\n",
       "   'H': -2.0,\n",
       "   'N': 0,\n",
       "   'O': 0,\n",
       "   'P': 0,\n",
       "   'R': 0,\n",
       "   'S': 0,\n",
       "   'charge': 0},\n",
       "  '_2__46__1__46__1__46__16__45__RXN': {'C': -1.0,\n",
       "   'H': -2.0,\n",
       "   'N': 0,\n",
       "   'O': 0,\n",
       "   'P': 0,\n",
       "   'R': 0,\n",
       "   'S': 0,\n",
       "   'charge': 0},\n",
       "  '_2__46__1__46__1__46__77__45__RXN': {'C': -1.0,\n",
       "   'H': -3.0,\n",
       "   'N': 0,\n",
       "   'O': 0,\n",
       "   'P': 0,\n",
       "   'R': 0,\n",
       "   'S': 0,\n",
       "   'charge': 0},\n",
       "  '_2__46__1__46__1__46__79__45__RXN': {'C': -1.0,\n",
       "   'H': -2.0,\n",
       "   'N': 0,\n",
       "   'O': 0,\n",
       "   'P': 0,\n",
       "   'R': 0,\n",
       "   'S': 0,\n",
       "   'charge': 0},\n",
       "  '_2__46__3__46__1__46__168__45__RXN': {'C': 4.0,\n",
       "   'H': 6.0,\n",
       "   'N': 0,\n",
       "   'O': 1.0,\n",
       "   'P': 0,\n",
       "   'R': 0,\n",
       "   'S': 0,\n",
       "   'charge': 0},\n",
       "  '_2__46__3__46__1__46__97__45__RXN': {'C': -14.0,\n",
       "   'H': -26.0,\n",
       "   'N': 0,\n",
       "   'O': -1.0,\n",
       "   'P': 0,\n",
       "   'R': 0,\n",
       "   'S': 0,\n",
       "   'charge': 0},\n",
       "  '_2__46__3__46__2__46__13__45__RXN': {'C': 0,\n",
       "   'H': 4.0,\n",
       "   'N': 1.0,\n",
       "   'O': 0,\n",
       "   'P': 0,\n",
       "   'R': 0,\n",
       "   'S': 0,\n",
       "   'charge': 0},\n",
       "  '_2__46__4__46__1__46__119__45__RXN': {'C': -88.0,\n",
       "   'H': -147.0,\n",
       "   'N': -2.0,\n",
       "   'O': -70.0,\n",
       "   'P': 0,\n",
       "   'R': 0,\n",
       "   'S': 0,\n",
       "   'charge': 0},\n",
       "  '_2__46__4__46__1__46__149__45__RXN': {'C': -8.0,\n",
       "   'H': -13.0,\n",
       "   'N': -1.0,\n",
       "   'O': -5.0,\n",
       "   'P': 0,\n",
       "   'R': 0,\n",
       "   'S': 0,\n",
       "   'charge': 0},\n",
       "  '_2__46__4__46__1__46__150__45__RXN': {'C': -8.0,\n",
       "   'H': -13.0,\n",
       "   'N': -1.0,\n",
       "   'O': -5.0,\n",
       "   'P': 0,\n",
       "   'R': 0,\n",
       "   'S': 0,\n",
       "   'charge': 0},\n",
       "  '_2__46__4__46__1__46__151__45__RXN': {'C': -6.0,\n",
       "   'H': -10.0,\n",
       "   'N': 0,\n",
       "   'O': -5.0,\n",
       "   'P': 0,\n",
       "   'R': 0,\n",
       "   'S': 0,\n",
       "   'charge': 0},\n",
       "  '_2__46__4__46__1__46__198__45__RXN': {'C': -8.0,\n",
       "   'H': -13.0,\n",
       "   'N': -1.0,\n",
       "   'O': -5.0,\n",
       "   'P': 0,\n",
       "   'R': 0,\n",
       "   'S': 0,\n",
       "   'charge': 0},\n",
       "  '_2__46__4__46__1__46__223__45__RXN': {'C': -8.0,\n",
       "   'H': -13.0,\n",
       "   'N': -1.0,\n",
       "   'O': -5.0,\n",
       "   'P': 0,\n",
       "   'R': 0,\n",
       "   'S': 0,\n",
       "   'charge': 0},\n",
       "  '_2__46__4__46__1__46__38__45__RXN': {'C': -6.0,\n",
       "   'H': -10.0,\n",
       "   'N': 0,\n",
       "   'O': -5.0,\n",
       "   'P': 0,\n",
       "   'R': 0,\n",
       "   'S': 0,\n",
       "   'charge': 0},\n",
       "  '_2__46__4__46__99__46__6__45__RXN': {'C': -11.0,\n",
       "   'H': -16.0,\n",
       "   'N': -1.0,\n",
       "   'O': -8.0,\n",
       "   'P': 0,\n",
       "   'R': 0,\n",
       "   'S': 0,\n",
       "   'charge': 0},\n",
       "  '_2__46__5__46__1__46__46__45__RXN': {'C': -4.0,\n",
       "   'H': -9.0,\n",
       "   'N': -1.0,\n",
       "   'O': 0,\n",
       "   'P': 0,\n",
       "   'R': 0,\n",
       "   'S': 0,\n",
       "   'charge': 0},\n",
       "  '_2__46__7__46__12__46__1__45__RXN': {'C': 0,\n",
       "   'H': 1.0,\n",
       "   'N': 0,\n",
       "   'O': -3.0,\n",
       "   'P': -1.0,\n",
       "   'R': 0,\n",
       "   'S': 0,\n",
       "   'charge': 0},\n",
       "  '_2__46__7__46__1__46__149__45__RXN': {'C': 0,\n",
       "   'H': 1.0,\n",
       "   'N': 0,\n",
       "   'O': -3.0,\n",
       "   'P': -1.0,\n",
       "   'R': 0,\n",
       "   'S': 0,\n",
       "   'charge': 0},\n",
       "  '_2__46__7__46__1__46__150__45__RXN': {'C': 0,\n",
       "   'H': 1.0,\n",
       "   'N': 0,\n",
       "   'O': -3.0,\n",
       "   'P': -1.0,\n",
       "   'R': 0,\n",
       "   'S': 0,\n",
       "   'charge': 0},\n",
       "  '_2__46__7__46__1__46__153__45__RXN': {'C': 0,\n",
       "   'H': 1.0,\n",
       "   'N': 0,\n",
       "   'O': -3.0,\n",
       "   'P': -1.0,\n",
       "   'R': 0,\n",
       "   'S': 0,\n",
       "   'charge': 0},\n",
       "  '_2__46__7__46__1__46__154__45__RXN': {'C': 0,\n",
       "   'H': 1.0,\n",
       "   'N': 0,\n",
       "   'O': -3.0,\n",
       "   'P': -1.0,\n",
       "   'R': 0,\n",
       "   'S': 0,\n",
       "   'charge': 0},\n",
       "  '_2__46__7__46__1__46__68__45__RXN': {'C': 0,\n",
       "   'H': 1.0,\n",
       "   'N': 0,\n",
       "   'O': -3.0,\n",
       "   'P': -1.0,\n",
       "   'R': 0,\n",
       "   'S': 0,\n",
       "   'charge': 0},\n",
       "  '_2__46__7__46__8__46__11__45__RXN': {'C': -41.0,\n",
       "   'H': -78.0,\n",
       "   'N': 0,\n",
       "   'O': -13.0,\n",
       "   'P': -1.0,\n",
       "   'R': 0,\n",
       "   'S': 0,\n",
       "   'charge': 0},\n",
       "  '_2__46__7__46__8__46__19__45__RXN': {'C': -6.0,\n",
       "   'H': -10.0,\n",
       "   'N': 0,\n",
       "   'O': -8.0,\n",
       "   'P': -1.0,\n",
       "   'R': 0,\n",
       "   'S': 0,\n",
       "   'charge': 0},\n",
       "  '_2__46__8__46__1__46__6__45__RXN': {'C': 0,\n",
       "   'H': 1.0,\n",
       "   'N': 0,\n",
       "   'O': 0,\n",
       "   'P': 0,\n",
       "   'R': 0,\n",
       "   'S': 1.0,\n",
       "   'charge': -1.0},\n",
       "  '_3__45__OXOACID__45__COA__45__TRANSFERASE__45__RXN': {'C': -21.0,\n",
       "   'H': -31.0,\n",
       "   'N': -7.0,\n",
       "   'O': -15.0,\n",
       "   'P': -3.0,\n",
       "   'R': 0,\n",
       "   'S': -1.0,\n",
       "   'charge': 0},\n",
       "  '_3__46__1__46__1__46__23__45__RXN': {'C': 3.0,\n",
       "   'H': 7.0,\n",
       "   'N': 0,\n",
       "   'O': 2.0,\n",
       "   'P': 0,\n",
       "   'R': 0,\n",
       "   'S': 0,\n",
       "   'charge': 0},\n",
       "  '_3__46__1__46__1__46__47__45__RXN': {'C': 2.0,\n",
       "   'H': 2.0,\n",
       "   'N': 0,\n",
       "   'O': 1.0,\n",
       "   'P': 0,\n",
       "   'R': 0,\n",
       "   'S': 0,\n",
       "   'charge': 0},\n",
       "  '_3__46__1__46__1__46__69__45__RXN': {'C': 2.0,\n",
       "   'H': 1.0,\n",
       "   'N': 0,\n",
       "   'O': 1.0,\n",
       "   'P': 0,\n",
       "   'R': 0,\n",
       "   'S': 0,\n",
       "   'charge': 0},\n",
       "  '_3__46__1__46__1__46__73__45__RXN': {'C': 10.0,\n",
       "   'H': 9.0,\n",
       "   'N': 0,\n",
       "   'O': 3.0,\n",
       "   'P': 0,\n",
       "   'R': 0,\n",
       "   'S': 0,\n",
       "   'charge': 1.0},\n",
       "  '_3__46__1__46__3__46__16__45__RXN': {'C': 0,\n",
       "   'H': -1.0,\n",
       "   'N': 0,\n",
       "   'O': 3.0,\n",
       "   'P': 1.0,\n",
       "   'R': 0,\n",
       "   'S': 0,\n",
       "   'charge': 0},\n",
       "  '_3__46__1__46__4__46__10__45__RXN': {'C': 6.0,\n",
       "   'H': 10.0,\n",
       "   'N': 0,\n",
       "   'O': 8.0,\n",
       "   'P': 1.0,\n",
       "   'R': 0,\n",
       "   'S': 0,\n",
       "   'charge': 0},\n",
       "  '_3__46__1__46__4__46__11__45__RXN': {'C': 6.0,\n",
       "   'H': 8.0,\n",
       "   'N': 0,\n",
       "   'O': 14.0,\n",
       "   'P': 3.0,\n",
       "   'R': 0,\n",
       "   'S': 0,\n",
       "   'charge': 0},\n",
       "  '_3__46__2__46__1__46__21__45__RXN': {'C': 6.0,\n",
       "   'H': 10.0,\n",
       "   'N': 0,\n",
       "   'O': 5.0,\n",
       "   'P': 0,\n",
       "   'R': 0,\n",
       "   'S': 0,\n",
       "   'charge': 0},\n",
       "  '_3__46__2__46__1__46__24__45__RXN': {'C': 6.0,\n",
       "   'H': 10.0,\n",
       "   'N': 0,\n",
       "   'O': 5.0,\n",
       "   'P': 0,\n",
       "   'R': 0,\n",
       "   'S': 0,\n",
       "   'charge': 0},\n",
       "  '_3__46__2__46__1__46__25__45__RXN': {'C': 6.0,\n",
       "   'H': 10.0,\n",
       "   'N': 0,\n",
       "   'O': 5.0,\n",
       "   'P': 0,\n",
       "   'R': 0,\n",
       "   'S': 0,\n",
       "   'charge': 0},\n",
       "  '_3__46__2__46__1__46__52__45__RXN': {'C': 8.0,\n",
       "   'H': 13.0,\n",
       "   'N': 1.0,\n",
       "   'O': 5.0,\n",
       "   'P': 0,\n",
       "   'R': 0,\n",
       "   'S': 0,\n",
       "   'charge': 0},\n",
       "  '_3__46__4__46__11__46__7__45__RXN': {'C': 5.0,\n",
       "   'H': 7.0,\n",
       "   'N': 1.0,\n",
       "   'O': 3.0,\n",
       "   'P': 0,\n",
       "   'R': 0,\n",
       "   'S': 0,\n",
       "   'charge': 0},\n",
       "  '_3__46__5__46__1__46__87__45__RXN': {'C': 1.0,\n",
       "   'H': 0,\n",
       "   'N': 1.0,\n",
       "   'O': 1.0,\n",
       "   'P': 0,\n",
       "   'R': 0,\n",
       "   'S': 0,\n",
       "   'charge': 0},\n",
       "  '_3__46__5__46__1__46__98__45__RXN': {'C': 2.0,\n",
       "   'H': 1.0,\n",
       "   'N': 0,\n",
       "   'O': 1.0,\n",
       "   'P': 0,\n",
       "   'R': 0,\n",
       "   'S': 0,\n",
       "   'charge': 0},\n",
       "  '_3__46__5__46__5__46__1__45__RXN': {'C': 0,\n",
       "   'H': 0,\n",
       "   'N': 1.0,\n",
       "   'O': -2.0,\n",
       "   'P': 0,\n",
       "   'R': 0,\n",
       "   'S': 0,\n",
       "   'charge': 0},\n",
       "  '_6__46__1__46__1__46__23__45__RXN': {'C': -4.0,\n",
       "   'H': -7.0,\n",
       "   'N': -1.0,\n",
       "   'O': -3.0,\n",
       "   'P': 0,\n",
       "   'R': 0,\n",
       "   'S': 0,\n",
       "   'charge': -1.0}},\n",
       " [])"
      ]
     },
     "execution_count": 79,
     "metadata": {},
     "output_type": "execute_result"
    }
   ],
   "source": [
    "foo.find_unbalanced_reactions(model)"
   ]
  },
  {
   "cell_type": "code",
   "execution_count": 80,
   "metadata": {},
   "outputs": [
    {
     "name": "stdout",
     "output_type": "stream",
     "text": [
      "coa_c + h_c + 2.0 malACP_c + palmACP_c --> 3ooctdACP_c + 2.0 ACP_c + co2_c + malcoa_c \n",
      "\n",
      "malACP_c C14H22N2O10PRS -2\n",
      "coa_c C21H32N7O16P3S -4\n",
      "h_c H 1\n",
      "palmACP_c C27H51N2O8PRS -1\n",
      "<=>\n",
      "malcoa_c C24H33N7O19P3S -5\n",
      "ACP_c C11H21N2O7PRS -1\n",
      "3ooctdACP_c C29H53N2O9PRS 0\n",
      "co2_c CO2 0\n"
     ]
    }
   ],
   "source": [
    "foo.superprint(model,'3OAS180')"
   ]
  },
  {
   "cell_type": "code",
   "execution_count": 81,
   "metadata": {
    "collapsed": true
   },
   "outputs": [],
   "source": [
    "met = model.metabolites.get_by_id('3ooctdACP_c')\n",
    "met.charge = -1"
   ]
  },
  {
   "cell_type": "code",
   "execution_count": 82,
   "metadata": {},
   "outputs": [
    {
     "name": "stdout",
     "output_type": "stream",
     "text": [
      "butACP_c + h_c + malACP_c --> 3ohexACP_c + ACP_c + co2_c \n",
      "\n",
      "malACP_c C14H22N2O10PRS -2\n",
      "butACP_c C15H27N2O8PRS 0\n",
      "h_c H 1\n",
      "<=>\n",
      "ACP_c C11H21N2O7PRS -1\n",
      "3ohexACP_c C17H29N2O9PRS -1\n",
      "co2_c CO2 0\n"
     ]
    }
   ],
   "source": [
    "foo.superprint(model,'3OAS60')"
   ]
  },
  {
   "cell_type": "code",
   "execution_count": 83,
   "metadata": {
    "collapsed": true
   },
   "outputs": [],
   "source": [
    "met = model.metabolites.get_by_id('butACP_c')\n",
    "met.charge = -1"
   ]
  },
  {
   "cell_type": "code",
   "execution_count": 84,
   "metadata": {},
   "outputs": [
    {
     "name": "stdout",
     "output_type": "stream",
     "text": [
      "h_c + hexACP_c + malACP_c --> 3ooctACP_c + ACP_c + co2_c \n",
      "\n",
      "malACP_c C14H22N2O10PRS -2\n",
      "hexACP_c C17H31N2O8PRS -1\n",
      "h_c H 1\n",
      "<=>\n",
      "ACP_c C11H21N2O7PRS -1\n",
      "3ooctACP_c C19H33N2O9PRS 0\n",
      "co2_c CO2 0\n"
     ]
    }
   ],
   "source": [
    "foo.superprint(model,'3OAS80')"
   ]
  },
  {
   "cell_type": "code",
   "execution_count": 85,
   "metadata": {
    "collapsed": true
   },
   "outputs": [],
   "source": [
    "met = model.metabolites.get_by_id('3ooctACP_c')\n",
    "met.charge = -1"
   ]
  },
  {
   "cell_type": "code",
   "execution_count": 86,
   "metadata": {},
   "outputs": [
    {
     "name": "stdout",
     "output_type": "stream",
     "text": [
      "3odecACP_c + h_c + nadph_c --> 3hdecACP_c + nadp_c \n",
      "\n",
      "nadph_c C21H26N7O17P3 -4\n",
      "3odecACP_c C21H37N2O9PRS -1\n",
      "h_c H 1\n",
      "<=>\n",
      "nadp_c C21H25N7O17P3 -3\n",
      "3hdecACP_c C21H39N2O9PRS 0\n"
     ]
    }
   ],
   "source": [
    "foo.superprint(model,'3OAR100')"
   ]
  },
  {
   "cell_type": "code",
   "execution_count": 87,
   "metadata": {
    "collapsed": true
   },
   "outputs": [],
   "source": [
    "met = model.metabolites.get_by_id('3hdecACP_c')\n",
    "met.charge = -1"
   ]
  },
  {
   "cell_type": "code",
   "execution_count": 88,
   "metadata": {},
   "outputs": [
    {
     "name": "stdout",
     "output_type": "stream",
     "text": [
      "ACP_c + accoa_c --> acACP_c + coa_c \n",
      "\n",
      "accoa_c C23H34N7O17P3S -4\n",
      "ACP_c C11H21N2O7PRS -1\n",
      "<=>\n",
      "coa_c C21H32N7O16P3S -4\n",
      "acACP_c C13H23N2O8PRS 0\n"
     ]
    }
   ],
   "source": [
    "foo.superprint(model,'ACOATA')"
   ]
  },
  {
   "cell_type": "code",
   "execution_count": 89,
   "metadata": {
    "collapsed": true
   },
   "outputs": [],
   "source": [
    "met = model.metabolites.get_by_id('acACP_c')\n",
    "met.charge = -1"
   ]
  },
  {
   "cell_type": "code",
   "execution_count": 90,
   "metadata": {},
   "outputs": [
    {
     "name": "stdout",
     "output_type": "stream",
     "text": [
      "h2o_c + ocdcaACP_c --> ACP_c + h_c + ocdca_c \n",
      "\n",
      "ocdcaACP_c C29H55N2O8PRS 0\n",
      "h2o_c H2O 0\n",
      "<=>\n",
      "ACP_c C11H21N2O7PRS -1\n",
      "h_c H 1\n",
      "ocdca_c C18H35O2 -1\n"
     ]
    }
   ],
   "source": [
    "foo.superprint(model,'RXN__45__9548')"
   ]
  },
  {
   "cell_type": "code",
   "execution_count": 91,
   "metadata": {
    "collapsed": true
   },
   "outputs": [],
   "source": [
    "met = model.metabolites.get_by_id('ocdcaACP_c')\n",
    "met.charge = -1"
   ]
  },
  {
   "cell_type": "code",
   "execution_count": 92,
   "metadata": {},
   "outputs": [
    {
     "name": "stdout",
     "output_type": "stream",
     "text": [
      "3hoctaACP_c + nadp_c <=> 3ooctdACP_c + h_c + nadph_c \n",
      "\n",
      "nadp_c C21H25N7O17P3 -3\n",
      "3hoctaACP_c C29H55N2O9PRS 0\n",
      "<=>\n",
      "3ooctdACP_c C29H53N2O9PRS -1\n",
      "h_c H 1\n",
      "nadph_c C21H26N7O17P3 -4\n"
     ]
    }
   ],
   "source": [
    "foo.superprint(model,'3OAR180')"
   ]
  },
  {
   "cell_type": "code",
   "execution_count": 93,
   "metadata": {
    "collapsed": true
   },
   "outputs": [],
   "source": [
    "met = model.metabolites.get_by_id('3hoctaACP_c')\n",
    "met.charge = -1"
   ]
  },
  {
   "cell_type": "code",
   "execution_count": 96,
   "metadata": {},
   "outputs": [
    {
     "name": "stdout",
     "output_type": "stream",
     "text": [
      "There are 298 unbalanced reactions and 0 metabolites with a faulty syntax\n",
      "EAR140y {'C': 0, 'H': 0, 'charge': -1.0, 'O': 0, 'N': 0, 'P': 0, 'S': 0, 'R': 0}\n",
      "BIOMASS_REACTION {'C': -44.37737999999989, 'H': -128.8003400000002, 'charge': -44.89506000000003, 'O': -19.711309999999877, 'N': -5.5009199999999945, 'P': -0.9892799999999615, 'S': -0.082, 'R': 0}\n",
      "COA1819ZD9DS {'C': 21.0, 'H': 27.0, 'charge': -4.0, 'O': 14.0, 'N': 7.0, 'P': 2.0, 'S': 0, 'R': 0}\n",
      "3HAD180 {'C': 0, 'H': 0, 'charge': 1.0, 'O': 0, 'N': 0, 'P': 0, 'S': 0, 'R': 0}\n",
      "3OAR80_1 {'C': 0, 'H': 0, 'charge': 1.0, 'O': 0, 'N': 0, 'P': 0, 'S': 0, 'R': 0}\n",
      "KAS14 {'C': 0, 'H': 0, 'charge': 1.0, 'O': 0, 'N': 0, 'P': 0, 'S': 0, 'R': 0}\n",
      "EAR80y {'C': 0, 'H': 0, 'charge': -1.0, 'O': 0, 'N': 0, 'P': 0, 'S': 0, 'R': 0}\n",
      "EAR40y {'C': 0, 'H': 0, 'charge': -1.0, 'O': 0, 'N': 0, 'P': 0, 'S': 0, 'R': 0}\n",
      "PSD160 {'C': 0, 'H': 0, 'charge': -1.0, 'O': 0, 'N': 0, 'P': 0, 'S': 0, 'R': 0}\n",
      "PSSA160 {'C': 0, 'H': 0, 'charge': 1.0, 'O': 0, 'N': 0, 'P': 0, 'S': 0, 'R': 0}\n",
      "3HAD100 {'C': 0, 'H': 0, 'charge': 1.0, 'O': 0, 'N': 0, 'P': 0, 'S': 0, 'R': 0}\n",
      "_1__46__14__46__19__46__6__45__RXN {'C': 0, 'H': -2.0, 'charge': 0, 'O': 1.0, 'N': 0, 'P': 0, 'S': 0, 'R': 0}\n",
      "EAR180y {'C': 0, 'H': 0, 'charge': 1.0, 'O': 0, 'N': 0, 'P': 0, 'S': 0, 'R': 0}\n",
      "CYTOCHROME__45__B5__45__REDUCTASE__45__RXN {'C': 0, 'H': -1.0, 'charge': 1.0, 'O': 0, 'N': 0, 'P': 0, 'S': 0, 'R': 0}\n"
     ]
    }
   ],
   "source": [
    "essential_reactions = find_essential_reactions(model)\n",
    "unbalanced_list = foo.find_unbalanced_reactions(model)\n",
    "check_and_fix = [x.id for x in essential_reactions if x.id in unbalanced_list[0]]\n",
    "for x in check_and_fix:\n",
    "    print x,unbalanced_list[0][x]"
   ]
  },
  {
   "cell_type": "code",
   "execution_count": 97,
   "metadata": {},
   "outputs": [
    {
     "name": "stdout",
     "output_type": "stream",
     "text": [
      "3hoctaACP_c <=> h2o_c + toctd2eACP_c \n",
      "\n",
      "3hoctaACP_c C29H55N2O9PRS -1\n",
      "<=>\n",
      "h2o_c H2O 0\n",
      "toctd2eACP_c C29H53N2O8PRS 0\n"
     ]
    }
   ],
   "source": [
    "foo.superprint(model,'3HAD180')"
   ]
  },
  {
   "cell_type": "code",
   "execution_count": 98,
   "metadata": {},
   "outputs": [],
   "source": [
    "model.metabolites.toctd2eACP_c.charge = -1"
   ]
  },
  {
   "cell_type": "code",
   "execution_count": 99,
   "metadata": {},
   "outputs": [
    {
     "name": "stdout",
     "output_type": "stream",
     "text": [
      "h_c + nadph_c + tmrs2eACP_c --> myrsACP_c + nadp_c \n",
      "\n",
      "tmrs2eACP_c C25H45N2O8PRS 0\n",
      "nadph_c C21H26N7O17P3 -4\n",
      "h_c H 1\n",
      "<=>\n",
      "nadp_c C21H25N7O17P3 -3\n",
      "myrsACP_c C25H47N2O8PRS -1\n"
     ]
    }
   ],
   "source": [
    "foo.superprint(model,'EAR140y')"
   ]
  },
  {
   "cell_type": "code",
   "execution_count": 100,
   "metadata": {},
   "outputs": [],
   "source": [
    "model.metabolites.tmrs2eACP_c.charge = -1"
   ]
  },
  {
   "cell_type": "code",
   "execution_count": 101,
   "metadata": {},
   "outputs": [
    {
     "name": "stdout",
     "output_type": "stream",
     "text": [
      "3ooctACP_c + h_c + nadph_c --> 3hoctACP_c + nadp_c \n",
      "\n",
      "h_c H 1\n",
      "3ooctACP_c C19H33N2O9PRS -1\n",
      "nadph_c C21H26N7O17P3 -4\n",
      "<=>\n",
      "3hoctACP_c C19H35N2O9PRS 0\n",
      "nadp_c C21H25N7O17P3 -3\n"
     ]
    }
   ],
   "source": [
    "foo.superprint(model,'3OAR80_1')"
   ]
  },
  {
   "cell_type": "code",
   "execution_count": 102,
   "metadata": {
    "collapsed": true
   },
   "outputs": [],
   "source": [
    "model.metabolites.get_by_id('3hoctACP_c').charge = -1"
   ]
  },
  {
   "cell_type": "code",
   "execution_count": 103,
   "metadata": {},
   "outputs": [
    {
     "name": "stdout",
     "output_type": "stream",
     "text": [
      "3hoctACP_c --> h2o_c + toct2eACP_c \n",
      "\n",
      "3hoctACP_c C19H35N2O9PRS -1\n",
      "<=>\n",
      "h2o_c H2O 0\n",
      "toct2eACP_c C19H33N2O8PRS 0\n"
     ]
    }
   ],
   "source": [
    "foo.superprint(model,'3HAD80')"
   ]
  },
  {
   "cell_type": "code",
   "execution_count": 104,
   "metadata": {
    "collapsed": true
   },
   "outputs": [],
   "source": [
    "model.metabolites.get_by_id('toct2eACP_c').charge = -1"
   ]
  },
  {
   "cell_type": "code",
   "execution_count": 105,
   "metadata": {},
   "outputs": [
    {
     "name": "stdout",
     "output_type": "stream",
     "text": [
      "cdpdhdecg_c + ser__L_c --> cmp_c + h_c + ps160_c \n",
      "\n",
      "ser__L_c C3H7NO3 0\n",
      "cdpdhdecg_c C44H79N3O15P2 -2\n",
      "<=>\n",
      "h_c H 1\n",
      "cmp_c C9H12N3O8P -2\n",
      "ps160_c C38H73N1O10P1 0\n"
     ]
    }
   ],
   "source": [
    "foo.superprint(model,'PSSA160')"
   ]
  },
  {
   "cell_type": "code",
   "execution_count": 106,
   "metadata": {
    "collapsed": true
   },
   "outputs": [],
   "source": [
    "model.metabolites.get_by_id('ps160_c').charge = -1"
   ]
  },
  {
   "cell_type": "code",
   "execution_count": 107,
   "metadata": {},
   "outputs": [
    {
     "name": "stdout",
     "output_type": "stream",
     "text": [
      "acACP_c + h_c + malACP_c --> ACP_c + actACP_c + co2_c \n",
      "\n",
      "acACP_c C13H23N2O8PRS -1\n",
      "malACP_c C14H22N2O10PRS -2\n",
      "h_c H 1\n",
      "<=>\n",
      "ACP_c C11H21N2O7PRS -1\n",
      "actACP_c C15H25N2O9PRS 0\n",
      "co2_c CO2 0\n"
     ]
    }
   ],
   "source": [
    "foo.superprint(model,'KAS14')"
   ]
  },
  {
   "cell_type": "code",
   "execution_count": 108,
   "metadata": {
    "collapsed": true
   },
   "outputs": [],
   "source": [
    "model.metabolites.get_by_id('actACP_c').charge = -1"
   ]
  },
  {
   "cell_type": "code",
   "execution_count": 109,
   "metadata": {},
   "outputs": [
    {
     "name": "stdout",
     "output_type": "stream",
     "text": [
      "actACP_c + h_c + nadph_c --> 3haACP_c + nadp_c \n",
      "\n",
      "h_c H 1\n",
      "actACP_c C15H25N2O9PRS -1\n",
      "nadph_c C21H26N7O17P3 -4\n",
      "<=>\n",
      "nadp_c C21H25N7O17P3 -3\n",
      "3haACP_c C15H27N2O9PRS 0\n"
     ]
    }
   ],
   "source": [
    "foo.superprint(model,'3OAR40')"
   ]
  },
  {
   "cell_type": "code",
   "execution_count": 110,
   "metadata": {
    "collapsed": true
   },
   "outputs": [],
   "source": [
    "model.metabolites.get_by_id('3haACP_c').charge = -1"
   ]
  },
  {
   "cell_type": "code",
   "execution_count": 111,
   "metadata": {},
   "outputs": [
    {
     "name": "stdout",
     "output_type": "stream",
     "text": [
      "3hmrsACP_c --> h2o_c + tmrs2eACP_c \n",
      "\n",
      "3hmrsACP_c C25H47N2O9PRS 0\n",
      "<=>\n",
      "h2o_c H2O 0\n",
      "tmrs2eACP_c C25H45N2O8PRS -1\n"
     ]
    }
   ],
   "source": [
    "foo.superprint(model,'3HAD140')"
   ]
  },
  {
   "cell_type": "code",
   "execution_count": 112,
   "metadata": {
    "collapsed": true
   },
   "outputs": [],
   "source": [
    "model.metabolites.get_by_id('3hmrsACP_c').charge = -1"
   ]
  },
  {
   "cell_type": "code",
   "execution_count": 113,
   "metadata": {},
   "outputs": [
    {
     "name": "stdout",
     "output_type": "stream",
     "text": [
      "3omrsACP_c + h_c + nadph_c --> 3hmrsACP_c + nadp_c \n",
      "\n",
      "nadph_c C21H26N7O17P3 -4\n",
      "3omrsACP_c C25H45N2O9PRS 0\n",
      "h_c H 1\n",
      "<=>\n",
      "nadp_c C21H25N7O17P3 -3\n",
      "3hmrsACP_c C25H47N2O9PRS -1\n"
     ]
    }
   ],
   "source": [
    "foo.superprint(model,'3OAR140')"
   ]
  },
  {
   "cell_type": "code",
   "execution_count": 114,
   "metadata": {
    "collapsed": true
   },
   "outputs": [],
   "source": [
    "model.metabolites.get_by_id('3omrsACP_c').charge = -1"
   ]
  },
  {
   "cell_type": "code",
   "execution_count": 115,
   "metadata": {},
   "outputs": [
    {
     "name": "stdout",
     "output_type": "stream",
     "text": [
      "3haACP_c --> but2eACP_c + h2o_c \n",
      "\n",
      "3haACP_c C15H27N2O9PRS -1\n",
      "<=>\n",
      "but2eACP_c C15H25N2O8PRS 0\n",
      "h2o_c H2O 0\n"
     ]
    }
   ],
   "source": [
    "foo.superprint(model,'3HAD40')"
   ]
  },
  {
   "cell_type": "code",
   "execution_count": 116,
   "metadata": {
    "collapsed": true
   },
   "outputs": [],
   "source": [
    "model.metabolites.get_by_id('but2eACP_c').charge = -1"
   ]
  },
  {
   "cell_type": "code",
   "execution_count": 117,
   "metadata": {},
   "outputs": [
    {
     "name": "stdout",
     "output_type": "stream",
     "text": [
      "ddcaACP_c + h_c + malACP_c <=> 3omrsACP_c + ACP_c + co2_c \n",
      "\n",
      "malACP_c C14H22N2O10PRS -2\n",
      "ddcaACP_c C23H43N2O8PRS 0\n",
      "h_c H 1\n",
      "<=>\n",
      "ACP_c C11H21N2O7PRS -1\n",
      "3omrsACP_c C25H45N2O9PRS -1\n",
      "co2_c CO2 0\n"
     ]
    }
   ],
   "source": [
    "foo.superprint(model,'3OAS140')"
   ]
  },
  {
   "cell_type": "code",
   "execution_count": 118,
   "metadata": {
    "collapsed": true
   },
   "outputs": [],
   "source": [
    "model.metabolites.get_by_id('ddcaACP_c').charge = -1"
   ]
  },
  {
   "cell_type": "code",
   "execution_count": 119,
   "metadata": {},
   "outputs": [
    {
     "name": "stdout",
     "output_type": "stream",
     "text": [
      "3hdecACP_c --> h2o_c + tdec2eACP_c \n",
      "\n",
      "3hdecACP_c C21H39N2O9PRS -1\n",
      "<=>\n",
      "h2o_c H2O 0\n",
      "tdec2eACP_c C21H37N2O8PRS 0\n"
     ]
    }
   ],
   "source": [
    "foo.superprint(model,'3HAD100')"
   ]
  },
  {
   "cell_type": "code",
   "execution_count": 120,
   "metadata": {
    "collapsed": true
   },
   "outputs": [],
   "source": [
    "model.metabolites.get_by_id('tdec2eACP_c').charge = -1"
   ]
  },
  {
   "cell_type": "code",
   "execution_count": 121,
   "metadata": {},
   "outputs": [
    {
     "name": "stdout",
     "output_type": "stream",
     "text": [
      "h_c + nadph_c + tdec2eACP_c --> dcaACP_c + nadp_c \n",
      "\n",
      "tdec2eACP_c C21H37N2O8PRS -1\n",
      "h_c H 1\n",
      "nadph_c C21H26N7O17P3 -4\n",
      "<=>\n",
      "nadp_c C21H25N7O17P3 -3\n",
      "dcaACP_c C21H39N2O8PRS 0\n"
     ]
    }
   ],
   "source": [
    "foo.superprint(model,'EAR100y')"
   ]
  },
  {
   "cell_type": "code",
   "execution_count": 122,
   "metadata": {
    "collapsed": true
   },
   "outputs": [],
   "source": [
    "model.metabolites.get_by_id('dcaACP_c').charge = -1"
   ]
  },
  {
   "cell_type": "code",
   "execution_count": 123,
   "metadata": {},
   "outputs": [
    {
     "name": "stdout",
     "output_type": "stream",
     "text": [
      "dcaACP_c + h_c + malACP_c --> 3oddecACP_c + ACP_c + co2_c \n",
      "\n",
      "malACP_c C14H22N2O10PRS -2\n",
      "dcaACP_c C21H39N2O8PRS -1\n",
      "h_c H 1\n",
      "<=>\n",
      "ACP_c C11H21N2O7PRS -1\n",
      "co2_c CO2 0\n",
      "3oddecACP_c C23H41N2O9PRS 0\n"
     ]
    }
   ],
   "source": [
    "foo.superprint(model,'3OAS120')"
   ]
  },
  {
   "cell_type": "code",
   "execution_count": 124,
   "metadata": {
    "collapsed": true
   },
   "outputs": [],
   "source": [
    "model.metabolites.get_by_id('3oddecACP_c').charge = -1"
   ]
  },
  {
   "cell_type": "code",
   "execution_count": 125,
   "metadata": {},
   "outputs": [
    {
     "name": "stdout",
     "output_type": "stream",
     "text": [
      "h_c + nadph_c + tddec2eACP_c --> ddcaACP_c + nadp_c \n",
      "\n",
      "tddec2eACP_c C23H41N2O8PRS 0\n",
      "nadph_c C21H26N7O17P3 -4\n",
      "h_c H 1\n",
      "<=>\n",
      "nadp_c C21H25N7O17P3 -3\n",
      "ddcaACP_c C23H43N2O8PRS -1\n"
     ]
    }
   ],
   "source": [
    "foo.superprint(model,'EAR120y')"
   ]
  },
  {
   "cell_type": "code",
   "execution_count": 126,
   "metadata": {
    "collapsed": true
   },
   "outputs": [],
   "source": [
    "model.metabolites.get_by_id('tddec2eACP_c').charge = -1"
   ]
  },
  {
   "cell_type": "code",
   "execution_count": 127,
   "metadata": {
    "scrolled": true
   },
   "outputs": [
    {
     "name": "stdout",
     "output_type": "stream",
     "text": [
      "3oddecACP_c + h_c + nadph_c --> 3hddecACP_c + nadp_c \n",
      "\n",
      "h_c H 1\n",
      "nadph_c C21H26N7O17P3 -4\n",
      "3oddecACP_c C23H41N2O9PRS -1\n",
      "<=>\n",
      "nadp_c C21H25N7O17P3 -3\n",
      "3hddecACP_c C23H43N2O9PRS 0\n"
     ]
    }
   ],
   "source": [
    "foo.superprint(model,'3OAR120')"
   ]
  },
  {
   "cell_type": "code",
   "execution_count": 128,
   "metadata": {
    "collapsed": true
   },
   "outputs": [],
   "source": [
    "model.metabolites.get_by_id('3hddecACP_c').charge = -1"
   ]
  },
  {
   "cell_type": "code",
   "execution_count": 129,
   "metadata": {},
   "outputs": [
    {
     "name": "stdout",
     "output_type": "stream",
     "text": [
      "focytb5_c + 2.0 h_c + o2_c + stcoa_c <=> ficytb5_c + 2.0 h2o_c + nadh_c + ocdce9coa_c \n",
      "\n",
      "focytb5_c None 0\n",
      "stcoa_c C39H66N7O17P3S -4\n",
      "o2_c O2 0\n",
      "h_c H 1\n",
      "<=>\n",
      "nadh_c C21H27N7O14P2 -2\n",
      "h2o_c H2O 0\n",
      "ocdce9coa_c C39H64N7O17P3S -4\n",
      "ficytb5_c None 0\n"
     ]
    }
   ],
   "source": [
    "foo.superprint(model,'COA1819ZD9DS')"
   ]
  },
  {
   "cell_type": "code",
   "execution_count": 130,
   "metadata": {},
   "outputs": [],
   "source": [
    "model.reactions.COA1819ZD9DS.build_reaction_from_string('2.0 h_c + o2_c + stcoa_c + 2.0 focytb5_c <=> 2.0 h2o_c + 2.0 ficytb5_c + ocdce9coa_c')"
   ]
  },
  {
   "cell_type": "code",
   "execution_count": 131,
   "metadata": {},
   "outputs": [
    {
     "data": {
      "text/plain": [
       "{'charge': -2.0}"
      ]
     },
     "execution_count": 131,
     "metadata": {},
     "output_type": "execute_result"
    }
   ],
   "source": [
    "model.reactions.COA1819ZD9DS.check_mass_balance()"
   ]
  },
  {
   "cell_type": "code",
   "execution_count": 132,
   "metadata": {
    "collapsed": true
   },
   "outputs": [],
   "source": [
    "model.reactions.CYTOCHROME__45__B5__45__REDUCTASE__45__RXN.build_reaction_from_string('2.0 ficytb5_c + nadh_c <=> 2.0 focytb5_c + nad_c + h_c ')"
   ]
  },
  {
   "cell_type": "code",
   "execution_count": 133,
   "metadata": {},
   "outputs": [],
   "source": [
    "model.metabolites.focytb5_c.formula = 'X'\n",
    "model.metabolites.focytb5_c.charge = 0\n",
    "model.metabolites.ficytb5_c.formula = 'X'\n",
    "model.metabolites.ficytb5_c.charge = 1"
   ]
  },
  {
   "cell_type": "code",
   "execution_count": 134,
   "metadata": {},
   "outputs": [
    {
     "name": "stdout",
     "output_type": "stream",
     "text": [
      "2.0 ficytb5_c + nadh_c <=> 2.0 focytb5_c + h_c + nad_c \n",
      "\n",
      "nadh_c C21H27N7O14P2 -2\n",
      "ficytb5_c X 1\n",
      "<=>\n",
      "focytb5_c X 0\n",
      "h_c H 1\n",
      "nad_c C21H26N7O14P2 -1\n"
     ]
    }
   ],
   "source": [
    "foo.superprint(model,'CYTOCHROME__45__B5__45__REDUCTASE__45__RXN')"
   ]
  },
  {
   "cell_type": "code",
   "execution_count": 135,
   "metadata": {},
   "outputs": [
    {
     "name": "stdout",
     "output_type": "stream",
     "text": [
      "2.0 focytb5_c + 2.0 h_c + o2_c + stcoa_c <=> 2.0 ficytb5_c + 2.0 h2o_c + ocdce9coa_c \n",
      "\n",
      "stcoa_c C39H66N7O17P3S -4\n",
      "focytb5_c X 0\n",
      "h_c H 1\n",
      "o2_c O2 0\n",
      "<=>\n",
      "ocdce9coa_c C39H64N7O17P3S -4\n",
      "h2o_c H2O 0\n",
      "ficytb5_c X 1\n"
     ]
    }
   ],
   "source": [
    "foo.superprint(model,'COA1819ZD9DS')"
   ]
  },
  {
   "cell_type": "code",
   "execution_count": 136,
   "metadata": {},
   "outputs": [
    {
     "name": "stdout",
     "output_type": "stream",
     "text": [
      "h_c + nadph_c + ocdce9coa_c --> h2o_c + lnlccoa_c + nadp_c \n",
      "\n",
      "ocdce9coa_c C39H64N7O17P3S -4\n",
      "h_c H 1\n",
      "nadph_c C21H26N7O17P3 -4\n",
      "<=>\n",
      "nadp_c C21H25N7O17P3 -3\n",
      "lnlccoa_c C39H62N7O17P3S -4\n",
      "h2o_c H2O 0\n"
     ]
    }
   ],
   "source": [
    "foo.superprint(model,'_1__46__14__46__19__46__6__45__RXN')"
   ]
  },
  {
   "cell_type": "code",
   "execution_count": 137,
   "metadata": {
    "collapsed": true
   },
   "outputs": [],
   "source": [
    "model.reactions._1__46__14__46__19__46__6__45__RXN.build_reaction_from_string('2.0 focytb5_c + 2.0 h_c + o2_c + ocdce9coa_c -> 2.0 ficytb5_c + 2.0 h2o_c + lnlccoa_c')"
   ]
  },
  {
   "cell_type": "code",
   "execution_count": 138,
   "metadata": {},
   "outputs": [
    {
     "name": "stdout",
     "output_type": "stream",
     "text": [
      "There are 284 unbalanced reactions and 0 metabolites with a faulty syntax\n",
      "BIOMASS_REACTION {'C': -44.37737999999989, 'H': -128.8003400000002, 'charge': -44.89506000000003, 'O': -19.711309999999877, 'N': -5.5009199999999945, 'P': -0.9892799999999615, 'S': -0.082, 'R': 0}\n"
     ]
    }
   ],
   "source": [
    "essential_reactions = find_essential_reactions(model)\n",
    "unbalanced_list = foo.find_unbalanced_reactions(model)\n",
    "check_and_fix = [x.id for x in essential_reactions if x.id in unbalanced_list[0]]\n",
    "for x in check_and_fix:\n",
    "    print x,unbalanced_list[0][x]"
   ]
  },
  {
   "cell_type": "code",
   "execution_count": 139,
   "metadata": {},
   "outputs": [
    {
     "name": "stdout",
     "output_type": "stream",
     "text": [
      "There are 284 unbalanced reactions and 0 metabolites with a faulty syntax\n"
     ]
    }
   ],
   "source": [
    "unbalanced_list = foo.find_unbalanced_reactions(model)"
   ]
  },
  {
   "cell_type": "code",
   "execution_count": 140,
   "metadata": {
    "collapsed": true
   },
   "outputs": [],
   "source": [
    "model.remove_reactions(['ACP_REPLENISHMENT_RXN'],remove_orphans=True)"
   ]
  },
  {
   "cell_type": "code",
   "execution_count": 142,
   "metadata": {},
   "outputs": [
    {
     "data": {
      "text/plain": [
       "0.9879687633916031"
      ]
     },
     "execution_count": 142,
     "metadata": {},
     "output_type": "execute_result"
    }
   ],
   "source": [
    "model.optimize().f"
   ]
  },
  {
   "cell_type": "code",
   "execution_count": 143,
   "metadata": {},
   "outputs": [
    {
     "name": "stdout",
     "output_type": "stream",
     "text": [
      "EX_o2_e: o2_e <=>  -1000.0 1000.0 -6.34703242588\n",
      "EX_co2_e: co2_e <=>  -1000.0 1000.0 -5.9173895099\n",
      "EX_nh4_e: nh4_e <=>  -1000.0 1000.0 -25.4799614001\n",
      "EX_pi_e: pi_e <=>  -1000.0 1000.0 -0.977377738248\n",
      "EX_so4_e: so4_e <=>  -1000.0 1000.0 -0.0810134385981\n",
      "EX_h2o_e: h2o_e <=>  -1000.0 1000.0 47.2143257447\n",
      "EX_nac_e: nac_e <=>  -1000.0 1000.0 -3.5527136788e-14\n",
      "EX_glc__D_e: glc__D_e <=>  -20 1000 -20.0\n",
      "EX_fum_e: fum_e -->  0.0 1000.0 0.47325679704\n",
      "EX_asp__L_e: asp__L_e -->  0.0 1000.0 20.0452242701\n"
     ]
    }
   ],
   "source": [
    "for rxn in model.reactions:\n",
    "    if rxn.id.startswith('EX_') and abs(rxn.flux)>0:\n",
    "        print rxn,rxn.lower_bound,rxn.upper_bound,rxn.flux"
   ]
  },
  {
   "cell_type": "code",
   "execution_count": 145,
   "metadata": {},
   "outputs": [],
   "source": [
    "model.reactions.EX_nac_e.bounds= 0, 0"
   ]
  },
  {
   "cell_type": "code",
   "execution_count": 146,
   "metadata": {},
   "outputs": [
    {
     "data": {
      "text/plain": [
       "0.9879687633916031"
      ]
     },
     "execution_count": 146,
     "metadata": {},
     "output_type": "execute_result"
    }
   ],
   "source": [
    "model.optimize().f"
   ]
  },
  {
   "cell_type": "code",
   "execution_count": 149,
   "metadata": {},
   "outputs": [],
   "source": [
    "model.reactions.EX_glc__D_e.bounds=0, 0"
   ]
  },
  {
   "cell_type": "code",
   "execution_count": 150,
   "metadata": {},
   "outputs": [
    {
     "data": {
      "text/plain": [
       "-5.967066432441049e-15"
      ]
     },
     "execution_count": 150,
     "metadata": {},
     "output_type": "execute_result"
    }
   ],
   "source": [
    "model.optimize().f"
   ]
  },
  {
   "cell_type": "code",
   "execution_count": 154,
   "metadata": {},
   "outputs": [
    {
     "data": {
      "text/html": [
       "\n",
       "        <table>\n",
       "            <tr>\n",
       "                <td><strong>Reaction identifier</strong></td><td>EX_glc__D_e</td>\n",
       "            </tr><tr>\n",
       "                <td><strong>Name</strong></td><td>D-Glucose exchange</td>\n",
       "            </tr><tr>\n",
       "                <td><strong>Memory address</strong></td>\n",
       "                <td>0x01141e3290</td>\n",
       "            </tr><tr>\n",
       "                <td><strong>Stoichiometry</strong></td>\n",
       "                <td>\n",
       "                    <p style='text-align:right'>glc__D_e --> </p>\n",
       "                    <p style='text-align:right'>None --> </p>\n",
       "                </td>\n",
       "            </tr><tr>\n",
       "                <td><strong>GPR</strong></td><td></td>\n",
       "            </tr><tr>\n",
       "                <td><strong>Lower bound</strong></td><td>0</td>\n",
       "            </tr><tr>\n",
       "                <td><strong>Upper bound</strong></td><td>0</td>\n",
       "            </tr>\n",
       "        </table>\n",
       "        "
      ],
      "text/plain": [
       "<Reaction EX_glc__D_e at 0x1141e3290>"
      ]
     },
     "execution_count": 154,
     "metadata": {},
     "output_type": "execute_result"
    }
   ],
   "source": [
    "model.reactions.EX_glc__D_e"
   ]
  },
  {
   "cell_type": "code",
   "execution_count": 155,
   "metadata": {},
   "outputs": [],
   "source": [
    "model.reactions.EX_glc__D_e.bounds= -20, 0"
   ]
  },
  {
   "cell_type": "code",
   "execution_count": 156,
   "metadata": {},
   "outputs": [
    {
     "data": {
      "text/plain": [
       "0.9879687633916031"
      ]
     },
     "execution_count": 156,
     "metadata": {},
     "output_type": "execute_result"
    }
   ],
   "source": [
    "model.optimize().f"
   ]
  },
  {
   "cell_type": "code",
   "execution_count": 157,
   "metadata": {},
   "outputs": [
    {
     "name": "stdout",
     "output_type": "stream",
     "text": [
      "Maximize\n",
      "-1.0*BIOMASS_REACTION_reverse_42726 + 1.0*BIOMASS_REACTION\n"
     ]
    }
   ],
   "source": [
    "print model.objective"
   ]
  },
  {
   "cell_type": "markdown",
   "metadata": {},
   "source": [
    "### Find blocked reactions"
   ]
  },
  {
   "cell_type": "code",
   "execution_count": 164,
   "metadata": {},
   "outputs": [],
   "source": [
    "from cobra.flux_analysis.variability import find_blocked_reactions"
   ]
  },
  {
   "cell_type": "code",
   "execution_count": 166,
   "metadata": {},
   "outputs": [],
   "source": [
    "result = find_blocked_reactions(model)"
   ]
  },
  {
   "cell_type": "code",
   "execution_count": 169,
   "metadata": {},
   "outputs": [],
   "source": [
    "fully_blocked = [x for x in result if not x.startswith('TRANS__45')]"
   ]
  },
  {
   "cell_type": "code",
   "execution_count": 170,
   "metadata": {
    "collapsed": true
   },
   "outputs": [],
   "source": [
    "from cameo.flux_analysis import structural"
   ]
  },
  {
   "cell_type": "code",
   "execution_count": 171,
   "metadata": {},
   "outputs": [],
   "source": [
    "dead_ends = structural.find_dead_end_reactions(model)"
   ]
  },
  {
   "cell_type": "code",
   "execution_count": 172,
   "metadata": {},
   "outputs": [
    {
     "data": {
      "text/plain": [
       "740"
      ]
     },
     "execution_count": 172,
     "metadata": {},
     "output_type": "execute_result"
    }
   ],
   "source": [
    "len(dead_ends)"
   ]
  },
  {
   "cell_type": "code",
   "execution_count": 173,
   "metadata": {},
   "outputs": [],
   "source": [
    "dead_ends_non_transport = [x for x in dead_ends if not x.startswith('TRANS__45')]"
   ]
  },
  {
   "cell_type": "code",
   "execution_count": 174,
   "metadata": {},
   "outputs": [
    {
     "data": {
      "text/plain": [
       "648"
      ]
     },
     "execution_count": 174,
     "metadata": {},
     "output_type": "execute_result"
    }
   ],
   "source": [
    "len(dead_ends_non_transport)"
   ]
  },
  {
   "cell_type": "code",
   "execution_count": 176,
   "metadata": {},
   "outputs": [],
   "source": [
    "non_dead_ends_unbalanced = []\n",
    "\n",
    "for rx in model.reactions:\n",
    "    if rx.id not in dead_ends_non_transport:\n",
    "        if rx.id not in result:\n",
    "            marker = False\n",
    "            for met in rx.metabolites:\n",
    "                if met.formula is None:\n",
    "                    marker = True\n",
    "            if marker == True:\n",
    "                non_dead_ends_unbalanced.append(rx.id)"
   ]
  },
  {
   "cell_type": "code",
   "execution_count": 177,
   "metadata": {},
   "outputs": [
    {
     "data": {
      "text/plain": [
       "49"
      ]
     },
     "execution_count": 177,
     "metadata": {},
     "output_type": "execute_result"
    }
   ],
   "source": [
    "len(non_dead_ends_unbalanced)"
   ]
  },
  {
   "cell_type": "code",
   "execution_count": 178,
   "metadata": {},
   "outputs": [],
   "source": [
    "non_dead_ends_metabolites = []\n",
    "for rxn_id in non_dead_ends_unbalanced:\n",
    "    for met in model.reactions.get_by_id(rxn_id).metabolites:\n",
    "        if met.formula is None and met.id not in non_dead_ends_metabolites:\n",
    "            non_dead_ends_metabolites.append(met.id)"
   ]
  },
  {
   "cell_type": "code",
   "execution_count": 179,
   "metadata": {},
   "outputs": [
    {
     "data": {
      "text/plain": [
       "['_1__46__2__46__4__46__4__45__RXN',\n",
       " 'RXN__45__7719',\n",
       " '_2__46__3__46__1__46__168__45__RXN',\n",
       " 'RXN__45__5781',\n",
       " 'PHOSPHATIDYLINOSITOL__45__BISPHOSPHATASE__45__RXN',\n",
       " 'RXN__45__15212',\n",
       " '_1__45__PHOSPHATIDYLINOSITOL__45__3__45__KINASE__45__RXN',\n",
       " 'CITRYLY__45__RXN',\n",
       " 'CITTRANS__45__RXN',\n",
       " 'BUTYRYL__45__COA__45__DEHYDROGENASE__45__RXN',\n",
       " 'RXN__45__12959',\n",
       " 'PHOSPHATIDATE__45__PHOSPHATASE__45__RXN',\n",
       " 'CARBONYL__45__REDUCTASE__45__NADPH__45__RXN',\n",
       " 'RXN__45__10938',\n",
       " '_2__46__7__46__1__46__150__45__RXN',\n",
       " '_2__46__7__46__1__46__68__45__RXN',\n",
       " 'RXN0__45__5055',\n",
       " 'PHOSPHOLIPASE__45__C__45__RXN',\n",
       " '_2__46__7__46__1__46__149__45__RXN',\n",
       " 'RXN__45__12460',\n",
       " 'BIOTIN__45__CARBOXYL__45__RXN',\n",
       " 'PHOSPHATIDYLINOSITOL__45__3__45__PHOSPHATASE__45__RXN',\n",
       " 'ASPARAGINE__45____45__TRNA__45__LIGASE__45__RXN',\n",
       " 'RXN__45__5061',\n",
       " 'RXN__45__15211',\n",
       " 'PYRUFLAVREDUCT__45__RXN',\n",
       " 'PROTEIN__45__KINASE__45__RXN',\n",
       " 'RXN__45__13417',\n",
       " 'RXN__45__13416',\n",
       " 'RXN__45__13415',\n",
       " '_2__46__5__46__1__46__46__45__RXN',\n",
       " '_1__46__18__46__1__46__2__45__RXN',\n",
       " '_3__46__5__46__1__46__98__45__RXN',\n",
       " 'GLUTARYL__45__COA__45__DEHYDROG__45__RXN',\n",
       " 'RXN__45__9920',\n",
       " '_2__46__7__46__12__46__1__45__RXN',\n",
       " '_3__46__1__46__3__46__16__45__RXN',\n",
       " 'RXN__45__12448',\n",
       " 'TRANS__45__RXNTFS__45__24',\n",
       " 'TRANS__45__RXN0__45__468',\n",
       " 'RXN__45__15004',\n",
       " 'RXN__45__15007',\n",
       " 'RXN__45__15006',\n",
       " 'RXN__45__15005',\n",
       " 'RXN__45__15003',\n",
       " 'HISTONE__45__ACETYLTRANSFERASE__45__RXN',\n",
       " 'RXN__45__9779',\n",
       " 'CYOR_u6m_umay',\n",
       " 'CYOOm_umay']"
      ]
     },
     "execution_count": 179,
     "metadata": {},
     "output_type": "execute_result"
    }
   ],
   "source": [
    "non_dead_ends_unbalanced"
   ]
  },
  {
   "cell_type": "markdown",
   "metadata": {},
   "source": [
    "### Removal of any reactions using generic metabolites"
   ]
  },
  {
   "cell_type": "code",
   "execution_count": 180,
   "metadata": {
    "collapsed": true
   },
   "outputs": [],
   "source": [
    "generic_rxns_ids = [x.id for x in model.metabolites.Carboxylates_c.reactions]\n",
    "model.remove_reactions(generic_rxns_ids,remove_orphans=True)"
   ]
  },
  {
   "cell_type": "code",
   "execution_count": 181,
   "metadata": {},
   "outputs": [],
   "source": [
    "generic_rxns_ids = [x.id for x in model.metabolites.Amino__45__Acids_c.reactions]\n",
    "model.remove_reactions(generic_rxns_ids,remove_orphans=True)"
   ]
  },
  {
   "cell_type": "code",
   "execution_count": 182,
   "metadata": {},
   "outputs": [],
   "source": [
    "generic_rxns_ids = [x.id for x in model.metabolites.N__45__Carbamoyl__45__L__45__Amino__45__Acids_c.reactions]\n",
    "model.remove_reactions(generic_rxns_ids,remove_orphans=True)"
   ]
  },
  {
   "cell_type": "code",
   "execution_count": 183,
   "metadata": {},
   "outputs": [],
   "source": [
    "generic_rxns_ids = [x.id for x in model.metabolites.L__45__2__45__AMINO__45__ACID_c.reactions]\n",
    "model.remove_reactions(generic_rxns_ids,remove_orphans=True)"
   ]
  },
  {
   "cell_type": "code",
   "execution_count": 184,
   "metadata": {},
   "outputs": [],
   "source": [
    "generic_rxns_ids = [x.id for x in model.metabolites.Amino__45__Acids__45__20_c.reactions]\n",
    "model.remove_reactions(generic_rxns_ids,remove_orphans=True)"
   ]
  },
  {
   "cell_type": "markdown",
   "metadata": {},
   "source": [
    "### Sphingosine/ Cermide conversions knocked out, but left in the model for later review"
   ]
  },
  {
   "cell_type": "code",
   "execution_count": 185,
   "metadata": {},
   "outputs": [],
   "source": [
    "model.reactions.RXN__45__15212.knock_out()\n",
    "model.reactions.RXN__45__12460.knock_out()"
   ]
  },
  {
   "cell_type": "markdown",
   "metadata": {},
   "source": [
    "### Use the balanced respiratory chain from the iMM904 S. cerevisiae model"
   ]
  },
  {
   "cell_type": "code",
   "execution_count": 186,
   "metadata": {
    "collapsed": true
   },
   "outputs": [],
   "source": [
    "met = model.metabolites.focytc_m\n",
    "met.formula = 'C42H53FeN8O6S2'\n",
    "met.charge = 1"
   ]
  },
  {
   "cell_type": "code",
   "execution_count": 187,
   "metadata": {
    "collapsed": true
   },
   "outputs": [],
   "source": [
    "met = model.metabolites.ficytc_m\n",
    "met.formula = 'C42H52FeN8O6S2'\n",
    "met.charge = 1"
   ]
  },
  {
   "cell_type": "code",
   "execution_count": 188,
   "metadata": {},
   "outputs": [],
   "source": [
    "model.reactions.CYOOm_umay.build_reaction_from_string(\n",
    "    '4.0 focytc_m + 6.0 h_m + o2_m -> 6.0 h_p + 4.0 ficytc_m + 2.0 h2o_m')"
   ]
  },
  {
   "cell_type": "code",
   "execution_count": 189,
   "metadata": {},
   "outputs": [],
   "source": [
    "model.reactions.CYOR_u6m_umay.build_reaction_from_string(\n",
    "'2.0 ficytc_m + 1.5 h_m + q6h2_m -> 1.5 h_p + 2.0 focytc_m + q6_m')"
   ]
  },
  {
   "cell_type": "markdown",
   "metadata": {},
   "source": [
    "### Phosphatidyl Inositol Transformations"
   ]
  },
  {
   "cell_type": "code",
   "execution_count": 190,
   "metadata": {},
   "outputs": [],
   "source": [
    "met = model.metabolites.L__45__1__45__ehosphatidyl__45__inositols_c\n",
    "met.name = 'Phosphatidyl 1D myo inositol'\n",
    "met.formula = 'C41H78O13P'\n",
    "met.charge = 0\n",
    "met.id = 'ptd1ino160_c'"
   ]
  },
  {
   "cell_type": "code",
   "execution_count": 191,
   "metadata": {},
   "outputs": [],
   "source": [
    "rxn = model.reactions._2__46__7__46__8__46__11__45__RXN\n",
    "rxn.name = 'CDP diacylglycerol-inositol 3-phosphatidyltransferase'\n",
    "rxn.id = 'CDPPT160'"
   ]
  },
  {
   "cell_type": "code",
   "execution_count": 192,
   "metadata": {},
   "outputs": [],
   "source": [
    "# I decided to delete all the non-metabolic kinase reactions of phosphatidyl inositol\n",
    "reactions = ['_1__45__PHOSPHATIDYLINOSITOL__45__3__45__KINASE__45__RXN',\n",
    " 'RXN__45__10938','_2__46__7__46__1__46__150__45__RXN',\n",
    "            'RXN__45__10958','_2__46__7__46__1__46__149__45__RXN',\n",
    "            'PHOSPHATIDYLINOSITOL__45__BISPHOSPHATASE__45__RXN','_1__45__PHOSPHATIDYLINOSITOL__45__KINASE__45__RXN',\n",
    "            'PHOSPHATIDYLINOSITOL__45__3__45__PHOSPHATASE__45__RXN','_2__46__7__46__1__46__153__45__RXN',\n",
    "            '_2__46__7__46__1__46__68__45__RXN',\n",
    "            '_2__46__7__46__1__46__154__45__RXN',\n",
    "            'RXN__45__9779',\n",
    "            '_3__46__1__46__4__46__11__45__RXN',\n",
    "             '_3__46__1__46__4__46__10__45__RXN',\n",
    "            'RXN__45__13334',\n",
    "            '_2__46__4__46__1__46__198__45__RXN']\n",
    "model.remove_reactions(reactions,remove_orphans=True)"
   ]
  },
  {
   "cell_type": "markdown",
   "metadata": {},
   "source": [
    "### Removal of generic 'Nucleosides' Transport reactions"
   ]
  },
  {
   "cell_type": "code",
   "execution_count": 193,
   "metadata": {
    "collapsed": true
   },
   "outputs": [],
   "source": [
    "reactions = ['TRANS__45__RXN0__45__468',\n",
    " 'TRANS__45__RXNTFS__45__24']\n",
    "model.remove_reactions(reactions,remove_orphans=True)"
   ]
  },
  {
   "cell_type": "markdown",
   "metadata": {},
   "source": [
    "### Removal of Biotin Carrier Biosynthesis and Reaction cycle"
   ]
  },
  {
   "cell_type": "code",
   "execution_count": 194,
   "metadata": {
    "collapsed": true
   },
   "outputs": [],
   "source": [
    "reactions = ['BIOTINLIG__45__RXN','RXN__45__7101','RXN0__45__5055',\n",
    " 'BIOTIN__45__CARBOXYL__45__RXN']\n",
    "model.remove_reactions(reactions,remove_orphans=True)"
   ]
  },
  {
   "cell_type": "code",
   "execution_count": 195,
   "metadata": {},
   "outputs": [],
   "source": [
    "model.reactions.ACCOAC.gene_reaction_rule = 'UMAG_04629 or UMAG_05131 or UMAG_11593 or UMAG_03839'"
   ]
  },
  {
   "cell_type": "markdown",
   "metadata": {},
   "source": [
    "### Removal of generic Carbonyl-Reductase (NADPH) and Alcohol-Oxidase (NAD) Reactions"
   ]
  },
  {
   "cell_type": "code",
   "execution_count": 196,
   "metadata": {
    "collapsed": true
   },
   "outputs": [],
   "source": [
    "reactions = ['RXN__45__12448',\n",
    " 'CARBONYL__45__REDUCTASE__45__NADPH__45__RXN']\n",
    "model.remove_reactions(reactions,remove_orphans=True)"
   ]
  },
  {
   "cell_type": "markdown",
   "metadata": {},
   "source": [
    "### Removal of non-metabolic histone methyl/ acetyl transferase reactions"
   ]
  },
  {
   "cell_type": "code",
   "execution_count": 197,
   "metadata": {
    "collapsed": true
   },
   "outputs": [],
   "source": [
    "reactions = ['HISTONE__45__ACETYLTRANSFERASE__45__RXN',\n",
    " '_3__46__5__46__1__46__98__45__RXN']\n",
    "model.remove_reactions(reactions,remove_orphans=True)"
   ]
  },
  {
   "cell_type": "markdown",
   "metadata": {},
   "source": [
    "### Removal of non-metabolic protein kinase reactions"
   ]
  },
  {
   "cell_type": "code",
   "execution_count": 198,
   "metadata": {},
   "outputs": [],
   "source": [
    "reactions = ['PROTEIN__45__KINASE__45__RXN',\n",
    " '_3__46__1__46__3__46__16__45__RXN',\n",
    "            'RXN__45__9920',\n",
    "            '_2__46__7__46__12__46__1__45__RXN']\n",
    "model.remove_reactions(reactions,remove_orphans=True)"
   ]
  },
  {
   "cell_type": "markdown",
   "metadata": {},
   "source": [
    "### Consensus definition of Ferredoxins"
   ]
  },
  {
   "cell_type": "code",
   "execution_count": 199,
   "metadata": {},
   "outputs": [
    {
     "data": {
      "text/plain": [
       "frozenset({<Reaction RXN__45__5061 at 0x113db4850>,\n",
       "           <Reaction PYRUFLAVREDUCT__45__RXN at 0x113dee190>,\n",
       "           <Reaction _1__46__18__46__1__46__2__45__RXN at 0x113e26110>,\n",
       "           <Reaction FERREDOXIN__45____45__NITRITE__45__REDUCTASE__45__RXN at 0x113fb10d0>})"
      ]
     },
     "execution_count": 199,
     "metadata": {},
     "output_type": "execute_result"
    }
   ],
   "source": [
    "model.metabolites.Oxidized__45__ferredoxins_c.reactions"
   ]
  },
  {
   "cell_type": "code",
   "execution_count": 200,
   "metadata": {
    "collapsed": true
   },
   "outputs": [],
   "source": [
    "met = model.metabolites.Oxidized__45__ferredoxins_c\n",
    "met.formula = 'X'\n",
    "met.charge = 0\n",
    "met.name = 'Oxidized ferredoxin'\n",
    "met.id = 'fdxox_c'"
   ]
  },
  {
   "cell_type": "code",
   "execution_count": 201,
   "metadata": {
    "collapsed": true
   },
   "outputs": [],
   "source": [
    "met = model.metabolites.fdxrd_c\n",
    "met.formula = 'XH2'\n",
    "met.charge = 0\n",
    "met.name = 'Reduced ferredoxin'"
   ]
  },
  {
   "cell_type": "markdown",
   "metadata": {},
   "source": [
    "### Removal of Archeal Lysine Biosynthethis Pathway"
   ]
  },
  {
   "cell_type": "code",
   "execution_count": 202,
   "metadata": {
    "collapsed": true
   },
   "outputs": [],
   "source": [
    "reactions = ['RXN__45__15004',\n",
    " 'RXN__45__15007',\n",
    " 'RXN__45__15006',\n",
    " 'RXN__45__15005',\n",
    " 'RXN__45__15003']"
   ]
  },
  {
   "cell_type": "code",
   "execution_count": 203,
   "metadata": {
    "collapsed": true
   },
   "outputs": [],
   "source": [
    "model.remove_reactions(reactions,remove_orphans=True)"
   ]
  },
  {
   "cell_type": "markdown",
   "metadata": {},
   "source": [
    "### Removal of non-metabolic Deoxyhypusine Biosynthesis (post-translational modification catalyzed by UMAG_00071)"
   ]
  },
  {
   "cell_type": "code",
   "execution_count": 204,
   "metadata": {
    "collapsed": true
   },
   "outputs": [],
   "source": [
    "reactions = ['RXN__45__13417','RXN__45__13416','RXN__45__13415','RXN__45__13414','_2__46__5__46__1__46__46__45__RXN']"
   ]
  },
  {
   "cell_type": "code",
   "execution_count": 205,
   "metadata": {
    "collapsed": true
   },
   "outputs": [],
   "source": [
    "model.remove_reactions(reactions,remove_orphans=True)"
   ]
  },
  {
   "cell_type": "markdown",
   "metadata": {},
   "source": [
    "### Replacement of all ETF metabolites with the fad/fadh2 metabolites used in the model"
   ]
  },
  {
   "cell_type": "code",
   "execution_count": 206,
   "metadata": {
    "collapsed": true
   },
   "outputs": [],
   "source": [
    "foo.swap_mets(model.metabolites.ETF__45__Oxidized_c,model.metabolites.fadh2_c)"
   ]
  },
  {
   "cell_type": "code",
   "execution_count": 207,
   "metadata": {
    "collapsed": true
   },
   "outputs": [],
   "source": [
    "foo.swap_mets(model.metabolites.ETF__45__Reduced_c,model.metabolites.fad_c)"
   ]
  },
  {
   "cell_type": "code",
   "execution_count": 208,
   "metadata": {
    "collapsed": true
   },
   "outputs": [],
   "source": [
    "model.metabolites.remove('ETF__45__Oxidized_c')"
   ]
  },
  {
   "cell_type": "code",
   "execution_count": 209,
   "metadata": {
    "collapsed": true
   },
   "outputs": [],
   "source": [
    "model.metabolites.remove('ETF__45__Reduced_c')"
   ]
  },
  {
   "cell_type": "markdown",
   "metadata": {},
   "source": [
    "### Removal of Citrate Lyase Bypass through 2 subreactions"
   ]
  },
  {
   "cell_type": "code",
   "execution_count": 210,
   "metadata": {
    "collapsed": true
   },
   "outputs": [],
   "source": [
    "cit_ly_rxns = ['CITTRANS__45__RXN','CITRYLY__45__RXN']"
   ]
  },
  {
   "cell_type": "code",
   "execution_count": 211,
   "metadata": {},
   "outputs": [],
   "source": [
    "model.remove_reactions(cit_ly_rxns,remove_orphans=True)"
   ]
  },
  {
   "cell_type": "markdown",
   "metadata": {},
   "source": [
    "### Removal of 3 subreactions of  2-oxoisovalerate dehydrogenase"
   ]
  },
  {
   "cell_type": "code",
   "execution_count": 212,
   "metadata": {
    "collapsed": true
   },
   "outputs": [],
   "source": [
    "OIVD2m_instances = ['_1__46__2__46__4__46__4__45__RXN','RXN__45__7719','_2__46__3__46__1__46__168__45__RXN']"
   ]
  },
  {
   "cell_type": "code",
   "execution_count": 213,
   "metadata": {},
   "outputs": [],
   "source": [
    "merge_set = set()\n",
    "for rxn_id in OIVD2m_instances:\n",
    "        merge_set.update(model.reactions.get_by_id(rxn_id).genes)"
   ]
  },
  {
   "cell_type": "code",
   "execution_count": 214,
   "metadata": {},
   "outputs": [],
   "source": [
    "gpr_str = ''\n",
    "for gene in list(merge_set):\n",
    "    if gpr_str == '':\n",
    "        gpr_str = gene.id\n",
    "    else:\n",
    "        gpr_str += ' or ' + gene.id"
   ]
  },
  {
   "cell_type": "code",
   "execution_count": 215,
   "metadata": {},
   "outputs": [],
   "source": [
    "model.reactions.OIVD2m.gene_reaction_rule = gpr_str"
   ]
  },
  {
   "cell_type": "code",
   "execution_count": 216,
   "metadata": {},
   "outputs": [],
   "source": [
    "model.remove_reactions(OIVD2m_instances,remove_orphans=True)"
   ]
  },
  {
   "cell_type": "markdown",
   "metadata": {},
   "source": [
    "### Diacylglycerol Transformations"
   ]
  },
  {
   "cell_type": "code",
   "execution_count": 217,
   "metadata": {
    "collapsed": true
   },
   "outputs": [],
   "source": [
    "foo.swap_mets(model.metabolites.L__45__PHOSPHATIDATE_c,model.metabolites.pa160_c)"
   ]
  },
  {
   "cell_type": "code",
   "execution_count": 218,
   "metadata": {
    "collapsed": true
   },
   "outputs": [],
   "source": [
    "model.metabolites.remove('L__45__PHOSPHATIDATE_c')"
   ]
  },
  {
   "cell_type": "code",
   "execution_count": 219,
   "metadata": {},
   "outputs": [
    {
     "data": {
      "text/plain": [
       "frozenset({<Reaction PHOSCHOL__45__RXN__45__1__45__2__45__DIPALMITOYLPHOSPHATIDYLCHOLINE__47__WATER__47____47__CPD0__45__1422__47__CHOLINE__47__PROTON__46__67__46__ at 0x113a8b1d0>,\n",
       "           <Reaction RXN__45__12959 at 0x113ba9fd0>,\n",
       "           <Reaction PHOSPHATIDATE__45__PHOSPHATASE__45__RXN at 0x113bbc290>,\n",
       "           <Reaction RXN__45__1623__45__PALMITYL__45__COA__47__1__45__PALMITOYLGLYCEROL__45__3__45__PHOSPHATE__47____47__CPD0__45__1422__47__CO__45__A__46__61__46__ at 0x113bbc310>,\n",
       "           <Reaction DASYN160 at 0x113bbc5d0>,\n",
       "           <Reaction AGPAT160 at 0x113bf3410>,\n",
       "           <Reaction RXN0__45__6705 at 0x113bf3810>})"
      ]
     },
     "execution_count": 219,
     "metadata": {},
     "output_type": "execute_result"
    }
   ],
   "source": [
    "model.metabolites.pa160_c.reactions"
   ]
  },
  {
   "cell_type": "code",
   "execution_count": 220,
   "metadata": {},
   "outputs": [],
   "source": [
    "rxn = model.reactions.PHOSPHATIDATE__45__PHOSPHATASE__45__RXN\n",
    "rxn.name = 'Phosphatidate phosphatase (n-C16:0)'\n",
    "rxn.id = 'PAPA160'"
   ]
  },
  {
   "cell_type": "code",
   "execution_count": 221,
   "metadata": {},
   "outputs": [
    {
     "data": {
      "text/html": [
       "\n",
       "        <table>\n",
       "            <tr>\n",
       "                <td><strong>Reaction identifier</strong></td><td>PAPA160</td>\n",
       "            </tr><tr>\n",
       "                <td><strong>Name</strong></td><td>Phosphatidate phosphatase (n-C16:0)</td>\n",
       "            </tr><tr>\n",
       "                <td><strong>Memory address</strong></td>\n",
       "                <td>0x0113bbc290</td>\n",
       "            </tr><tr>\n",
       "                <td><strong>Stoichiometry</strong></td>\n",
       "                <td>\n",
       "                    <p style='text-align:right'>h2o_c + pa160_c --> 12dgr_EC_c + pi_c</p>\n",
       "                    <p style='text-align:right'>H2O + dipalmitoyl phosphatidate --> a 1,2-diacyl-sn-glycerol + phosphate</p>\n",
       "                </td>\n",
       "            </tr><tr>\n",
       "                <td><strong>GPR</strong></td><td>UMAG_10421</td>\n",
       "            </tr><tr>\n",
       "                <td><strong>Lower bound</strong></td><td>0.0</td>\n",
       "            </tr><tr>\n",
       "                <td><strong>Upper bound</strong></td><td>1000.0</td>\n",
       "            </tr>\n",
       "        </table>\n",
       "        "
      ],
      "text/plain": [
       "<Reaction PAPA160 at 0x113bbc290>"
      ]
     },
     "execution_count": 221,
     "metadata": {},
     "output_type": "execute_result"
    }
   ],
   "source": [
    "model.reactions.PAPA160"
   ]
  },
  {
   "cell_type": "code",
   "execution_count": 222,
   "metadata": {
    "collapsed": true
   },
   "outputs": [],
   "source": [
    "met = model.metabolites.get_by_id('12dgr_EC_c')\n",
    "met.formula = 'C35H68O5'\n",
    "met.charge = 0\n",
    "met.name = '1,2-Diacyl-sn-glycerol (dihexadecanoyl, n-C16:0)'\n",
    "met.id = '12dgr160_c'"
   ]
  },
  {
   "cell_type": "markdown",
   "metadata": {},
   "source": [
    "### Remove orphans with no reactions at all"
   ]
  },
  {
   "cell_type": "code",
   "execution_count": 223,
   "metadata": {
    "collapsed": true
   },
   "outputs": [],
   "source": [
    "orphans = []\n",
    "for met in model.metabolites:\n",
    "    orphan = foo.is_orphan(model,met)\n",
    "    if orphan:\n",
    "        orphans.append(met.id)\n",
    "\n",
    "orphans_c = [x for x in orphans if x.endswith('_c')]"
   ]
  },
  {
   "cell_type": "code",
   "execution_count": 224,
   "metadata": {},
   "outputs": [
    {
     "data": {
      "text/plain": [
       "182"
      ]
     },
     "execution_count": 224,
     "metadata": {},
     "output_type": "execute_result"
    }
   ],
   "source": [
    "len(orphans_c)"
   ]
  },
  {
   "cell_type": "code",
   "execution_count": 225,
   "metadata": {},
   "outputs": [],
   "source": [
    "for met in orphans_c:\n",
    "    if not model.metabolites.get_by_id(met).reactions:\n",
    "        model.metabolites.remove(met)\n",
    "        orphans_c.remove(met)"
   ]
  },
  {
   "cell_type": "code",
   "execution_count": 226,
   "metadata": {
    "collapsed": true
   },
   "outputs": [],
   "source": [
    "orphans = []\n",
    "for met in model.metabolites:\n",
    "    orphan = foo.is_orphan(model,met)\n",
    "    if orphan:\n",
    "        orphans.append(met.id)\n",
    "\n",
    "orphans_c = [x for x in orphans if x.endswith('_c')]"
   ]
  },
  {
   "cell_type": "code",
   "execution_count": 227,
   "metadata": {},
   "outputs": [
    {
     "data": {
      "text/plain": [
       "170"
      ]
     },
     "execution_count": 227,
     "metadata": {},
     "output_type": "execute_result"
    }
   ],
   "source": [
    "len(orphans_c)"
   ]
  },
  {
   "cell_type": "markdown",
   "metadata": {},
   "source": [
    "### Find orphans that are consumed in reactions that have no GPR"
   ]
  },
  {
   "cell_type": "code",
   "execution_count": 228,
   "metadata": {},
   "outputs": [],
   "source": [
    "no_gene_deadend_rxns = []\n",
    "\n",
    "for met in orphans_c:\n",
    "    if model.metabolites.get_by_id(met).reactions:\n",
    "        for rxn in model.metabolites.get_by_id(met).reactions:\n",
    "            if not rxn.genes:\n",
    "                no_gene_deadend_rxns.append(rxn.id)"
   ]
  },
  {
   "cell_type": "markdown",
   "metadata": {},
   "source": [
    "### Final Balancing of those reactions with GPR"
   ]
  },
  {
   "cell_type": "code",
   "execution_count": 229,
   "metadata": {},
   "outputs": [
    {
     "name": "stdout",
     "output_type": "stream",
     "text": [
      "There are 234 unbalanced reactions and 0 metabolites with a faulty syntax\n"
     ]
    }
   ],
   "source": [
    "unbalanced_list = foo.find_unbalanced_reactions(model)"
   ]
  },
  {
   "cell_type": "code",
   "execution_count": 232,
   "metadata": {},
   "outputs": [],
   "source": [
    "unbalanced_list_GPR = []\n",
    "\n",
    "for rxn in unbalanced_list[0].keys():\n",
    "    if rxn not in result and model.reactions.get_by_id(rxn).genes:\n",
    "        unbalanced_list_GPR.append(rxn)"
   ]
  },
  {
   "cell_type": "code",
   "execution_count": 233,
   "metadata": {},
   "outputs": [
    {
     "name": "stdout",
     "output_type": "stream",
     "text": [
      "CPD__45__9965_c + o2_c --> POLYMER__45__INST__45__TRANS__45__D2__45__ENOYL__45__COA__45__C16__45__H32_c + h2o2_c \n",
      "\n",
      "o2_c O2 0\n",
      "CPD__45__9965_c C41H70N7O17P3S -4\n",
      "<=>\n",
      "POLYMER__45__INST__45__TRANS__45__D2__45__ENOYL__45__COA__45__C16__45__H32_c C41H68N7O17P3S None\n",
      "h2o2_c H2O2 0\n",
      "-----------------------------------------------------------------------------\n",
      "dd2coa_c + h2o_c --> POLYMER__45__INST__45__D__45__3__45__HYDROXYACYL__45__COA__45__C8__45__H16_c \n",
      "\n",
      "dd2coa_c C33H52N7O17P3S -4\n",
      "h2o_c H2O 0\n",
      "<=>\n",
      "POLYMER__45__INST__45__D__45__3__45__HYDROXYACYL__45__COA__45__C8__45__H16_c C33H54N7O18P3S None\n",
      "-----------------------------------------------------------------------------\n",
      "CPD__45__10261_c + nad_c --> POLYMER__45__INST__45__3__45__KETOACYL__45__COA__45__C14__45__H28_c + h_c + nadh_c \n",
      "\n",
      "CPD__45__10261_c C39H66N7O18P3S -4\n",
      "nad_c C21H26N7O14P2 -1\n",
      "<=>\n",
      "POLYMER__45__INST__45__3__45__KETOACYL__45__COA__45__C14__45__H28_c C39H64N7O18P3S None\n",
      "nadh_c C21H27N7O14P2 -2\n",
      "h_c H 1\n",
      "-----------------------------------------------------------------------------\n",
      "POLYMER__45__INST__45__L__45__3__45__HYDROXYACYL__45__COA__45__C16__45__H32_c + nad_c --> CPD__45__14271_c + h_c + nadh_c \n",
      "\n",
      "POLYMER__45__INST__45__L__45__3__45__HYDROXYACYL__45__COA__45__C16__45__H32_c C41H70N7O18P3S None\n",
      "nad_c C21H26N7O14P2 -1\n",
      "<=>\n",
      "h_c H 1\n",
      "CPD__45__14271_c C41H68N7O18P3S -4\n",
      "nadh_c C21H27N7O14P2 -2\n",
      "-----------------------------------------------------------------------------\n",
      "POLYMER__45__INST__45__TRANS__45__D2__45__ENOYL__45__COA__45__C12__45__H24_c + h2o_c --> 3hhdcoa_c \n",
      "\n",
      "h2o_c H2O 0\n",
      "POLYMER__45__INST__45__TRANS__45__D2__45__ENOYL__45__COA__45__C12__45__H24_c C37H60N7O17P3S None\n",
      "<=>\n",
      "3hhdcoa_c C37H62N7O18P3S -4\n",
      "-----------------------------------------------------------------------------\n",
      "fadh2_c + glutcoa_c + h_c <=> GLUTACONYL__45__COA_c + fad_c \n",
      "\n",
      "h_c H 1\n",
      "glutcoa_c C26H37N7O19P3S -5\n",
      "fadh2_c C27H33N9O15P2 -2\n",
      "<=>\n",
      "fad_c C27H30N9O15P2 -3\n",
      "GLUTACONYL__45__COA_c C26H35N7O19P3S -5\n",
      "-----------------------------------------------------------------------------\n",
      "o2_c + tdcoa_c --> POLYMER__45__INST__45__TRANS__45__D2__45__ENOYL__45__COA__45__C10__45__WATER_c + h2o2_c \n",
      "\n",
      "o2_c O2 0\n",
      "tdcoa_c C35H58N7O17P3S -4\n",
      "<=>\n",
      "h2o2_c H2O2 0\n",
      "POLYMER__45__INST__45__TRANS__45__D2__45__ENOYL__45__COA__45__C10__45__WATER_c C35H56N7O17P3S None\n",
      "-----------------------------------------------------------------------------\n",
      "cdpdhdecg_c + inost_c --> cmp_c + h_c + ptd1ino160_c \n",
      "\n",
      "inost_c C6H12O6 0\n",
      "cdpdhdecg_c C44H79N3O15P2 -2\n",
      "<=>\n",
      "h_c H 1\n",
      "ptd1ino160_c C41H78O13P 0\n",
      "cmp_c C9H12N3O8P -2\n",
      "-----------------------------------------------------------------------------\n",
      "h2o_c + hx2coa_c --> POLYMER__45__INST__45__D__45__3__45__HYDROXYACYL__45__COA__45__C2__45__H4_c \n",
      "\n",
      "h2o_c H2O 0\n",
      "hx2coa_c C27H40N7O17P3S -4\n",
      "<=>\n",
      "POLYMER__45__INST__45__D__45__3__45__HYDROXYACYL__45__COA__45__C2__45__H4_c C27H42N7O18P3S None\n",
      "-----------------------------------------------------------------------------\n",
      "Charged__45__ASN__45__tRNAs_c + h2o_c --> asn__L_c + 2.0 h_c + trnaasn_c \n",
      "\n",
      "Charged__45__ASN__45__tRNAs_c None 1\n",
      "h2o_c H2O 0\n",
      "<=>\n",
      "trnaasn_c C10H17O10PR2 0\n",
      "asn__L_c C4H8N2O3 0\n",
      "h_c H 1\n",
      "-----------------------------------------------------------------------------\n",
      "2.0 fdxrd_c + h_c + nadp_c --> 2.0 fdxox_c + nadph_c \n",
      "\n",
      "nadp_c C21H25N7O17P3 -3\n",
      "h_c H 1\n",
      "fdxrd_c XH2 0\n",
      "<=>\n",
      "nadph_c C21H26N7O17P3 -4\n",
      "fdxox_c X 0\n",
      "-----------------------------------------------------------------------------\n",
      "dd2coa_c + h2o_c --> POLYMER__45__INST__45__L__45__3__45__HYDROXYACYL__45__COA__45__C8__45__H16_c \n",
      "\n",
      "dd2coa_c C33H52N7O17P3S -4\n",
      "h2o_c H2O 0\n",
      "<=>\n",
      "POLYMER__45__INST__45__L__45__3__45__HYDROXYACYL__45__COA__45__C8__45__H16_c C33H54N7O18P3S None\n",
      "-----------------------------------------------------------------------------\n",
      "h2o_c + oc2coa_c --> POLYMER__45__INST__45__D__45__3__45__HYDROXYACYL__45__COA__45__C4__45__H8_c \n",
      "\n",
      "oc2coa_c C29H44N7O17P3S -4\n",
      "h2o_c H2O 0\n",
      "<=>\n",
      "POLYMER__45__INST__45__D__45__3__45__HYDROXYACYL__45__COA__45__C4__45__H8_c C29H46N7O18P3S None\n",
      "-----------------------------------------------------------------------------\n",
      "acon_T_c --> co2_c + itacon_c \n",
      "\n",
      "acon_T_c C6H3O6 -3\n",
      "<=>\n",
      "co2_c CO2 0\n",
      "itacon_c C5H4O4 -2\n",
      "-----------------------------------------------------------------------------\n",
      "N__45__acyl__45__sphingosylphosphorylcholine_c + h2o_c --> N__45__Acylsphingosine_c + cholp_c + h_c \n",
      "\n",
      "h2o_c H2O 0\n",
      "N__45__acyl__45__sphingosylphosphorylcholine_c None 0\n",
      "<=>\n",
      "h_c H 1\n",
      "N__45__Acylsphingosine_c None 0\n",
      "cholp_c C5H13NO4P -1\n",
      "-----------------------------------------------------------------------------\n",
      "POLYMER__45__INST__45__L__45__3__45__HYDROXYACYL__45__COA__45__C8__45__H16_c + nad_c --> 3oddcoa_c + h_c + nadh_c \n",
      "\n",
      "POLYMER__45__INST__45__L__45__3__45__HYDROXYACYL__45__COA__45__C8__45__H16_c C33H54N7O18P3S None\n",
      "nad_c C21H26N7O14P2 -1\n",
      "<=>\n",
      "nadh_c C21H27N7O14P2 -2\n",
      "3oddcoa_c C33H52N7O18P3S -4\n",
      "h_c H 1\n",
      "-----------------------------------------------------------------------------\n",
      "POLYMER__45__INST__45__D__45__3__45__HYDROXYACYL__45__COA__45__C8__45__H16_c + nad_c --> 3oddcoa_c + h_c + nadh_c \n",
      "\n",
      "POLYMER__45__INST__45__D__45__3__45__HYDROXYACYL__45__COA__45__C8__45__H16_c C33H54N7O18P3S None\n",
      "nad_c C21H26N7O14P2 -1\n",
      "<=>\n",
      "nadh_c C21H27N7O14P2 -2\n",
      "3oddcoa_c C33H52N7O18P3S -4\n",
      "h_c H 1\n",
      "-----------------------------------------------------------------------------\n",
      "POLYMER__45__INST__45__D__45__3__45__HYDROXYACYL__45__COA__45__C2__45__H4_c + nad_c --> 3ohcoa_c + h_c + nadh_c \n",
      "\n",
      "nad_c C21H26N7O14P2 -1\n",
      "POLYMER__45__INST__45__D__45__3__45__HYDROXYACYL__45__COA__45__C2__45__H4_c C27H42N7O18P3S None\n",
      "<=>\n",
      "h_c H 1\n",
      "nadh_c C21H27N7O14P2 -2\n",
      "3ohcoa_c C27H40N7O18P3S -4\n",
      "-----------------------------------------------------------------------------\n",
      "POLYMER__45__INST__45__L__45__3__45__HYDROXYACYL__45__COA__45__C10__45__WATER_c + nad_c --> 3otdcoa_c + h_c + nadh_c \n",
      "\n",
      "POLYMER__45__INST__45__L__45__3__45__HYDROXYACYL__45__COA__45__C10__45__WATER_c C35H58N7O18P3S None\n",
      "nad_c C21H26N7O14P2 -1\n",
      "<=>\n",
      "3otdcoa_c C35H56N7O18P3S -4\n",
      "nadh_c C21H27N7O14P2 -2\n",
      "h_c H 1\n",
      "-----------------------------------------------------------------------------\n",
      "POLYMER__45__INST__45__TRANS__45__D2__45__ENOYL__45__COA__45__C16__45__H32_c + h2o_c --> CPD__45__14275_c \n",
      "\n",
      "POLYMER__45__INST__45__TRANS__45__D2__45__ENOYL__45__COA__45__C16__45__H32_c C41H68N7O17P3S None\n",
      "h2o_c H2O 0\n",
      "<=>\n",
      "CPD__45__14275_c C41H70N7O18P3S -4\n",
      "-----------------------------------------------------------------------------\n",
      "POLYMER__45__INST__45__D__45__3__45__HYDROXYACYL__45__COA__45__C10__45__WATER_c + nad_c --> 3otdcoa_c + h_c + nadh_c \n",
      "\n",
      "POLYMER__45__INST__45__D__45__3__45__HYDROXYACYL__45__COA__45__C10__45__WATER_c C35H58N7O18P3S None\n",
      "nad_c C21H26N7O14P2 -1\n",
      "<=>\n",
      "3otdcoa_c C35H56N7O18P3S -4\n",
      "nadh_c C21H27N7O14P2 -2\n",
      "h_c H 1\n",
      "-----------------------------------------------------------------------------\n",
      "POLYMER__45__INST__45__D__45__3__45__HYDROXYACYL__45__COA__45__C12__45__H24_c + nad_c --> 3ohdcoa_c + h_c + nadh_c \n",
      "\n",
      "nad_c C21H26N7O14P2 -1\n",
      "POLYMER__45__INST__45__D__45__3__45__HYDROXYACYL__45__COA__45__C12__45__H24_c C37H62N7O18P3S None\n",
      "<=>\n",
      "h_c H 1\n",
      "3ohdcoa_c C37H60N7O18P3S -4\n",
      "nadh_c C21H27N7O14P2 -2\n",
      "-----------------------------------------------------------------------------\n",
      "POLYMER__45__INST__45__D__45__3__45__HYDROXYACYL__45__COA__45__C4__45__H8_c + nad_c --> 3oocoa_c + h_c + nadh_c \n",
      "\n",
      "POLYMER__45__INST__45__D__45__3__45__HYDROXYACYL__45__COA__45__C4__45__H8_c C29H46N7O18P3S None\n",
      "nad_c C21H26N7O14P2 -1\n",
      "<=>\n",
      "nadh_c C21H27N7O14P2 -2\n",
      "3oocoa_c C29H44N7O18P3S -4\n",
      "h_c H 1\n",
      "-----------------------------------------------------------------------------\n",
      "asn__L_c + atp_c + h_c + trnaasn_c --> Charged__45__ASN__45__tRNAs_c + amp_c + ppi_c \n",
      "\n",
      "trnaasn_c C10H17O10PR2 0\n",
      "asn__L_c C4H8N2O3 0\n",
      "atp_c C10H12N5O13P3 -4\n",
      "h_c H 1\n",
      "<=>\n",
      "Charged__45__ASN__45__tRNAs_c None 1\n",
      "amp_c C10H12N5O7P -2\n",
      "ppi_c HO7P2 -3\n",
      "-----------------------------------------------------------------------------\n",
      "o2_c + pmtcoa_c --> POLYMER__45__INST__45__TRANS__45__D2__45__ENOYL__45__COA__45__C12__45__H24_c + h2o2_c \n",
      "\n",
      "o2_c O2 0\n",
      "pmtcoa_c C37H62N7O17P3S -4\n",
      "<=>\n",
      "h2o2_c H2O2 0\n",
      "POLYMER__45__INST__45__TRANS__45__D2__45__ENOYL__45__COA__45__C12__45__H24_c C37H60N7O17P3S None\n",
      "-----------------------------------------------------------------------------\n",
      "POLYMER__45__INST__45__3__45__KETOACYL__45__COA__45__C14__45__H28_c + coa_c --> accoa_c + pmtcoa_c \n",
      "\n",
      "POLYMER__45__INST__45__3__45__KETOACYL__45__COA__45__C14__45__H28_c C39H64N7O18P3S None\n",
      "coa_c C21H32N7O16P3S -4\n",
      "<=>\n",
      "accoa_c C23H34N7O17P3S -4\n",
      "pmtcoa_c C37H62N7O17P3S -4\n",
      "-----------------------------------------------------------------------------\n",
      "h2o_c + od2coa_c --> POLYMER__45__INST__45__L__45__3__45__HYDROXYACYL__45__COA__45__C14__45__H28_c \n",
      "\n",
      "od2coa_c C39H64N7O17P3S -4\n",
      "h2o_c H2O 0\n",
      "<=>\n",
      "POLYMER__45__INST__45__L__45__3__45__HYDROXYACYL__45__COA__45__C14__45__H28_c C39H66N7O18P3S None\n",
      "-----------------------------------------------------------------------------\n",
      "b2coa_c + fad_c --> btcoa_c + fadh2_c + h_c \n",
      "\n",
      "b2coa_c C25H36N7O17P3S -4\n",
      "fad_c C27H30N9O15P2 -3\n",
      "<=>\n",
      "btcoa_c C25H38N7O17P3S -4\n",
      "fadh2_c C27H33N9O15P2 -2\n",
      "h_c H 1\n",
      "-----------------------------------------------------------------------------\n"
     ]
    }
   ],
   "source": [
    "for idx in unbalanced_list_GPR:\n",
    "    foo.superprint(model,idx)\n",
    "    print '-----------'*7"
   ]
  },
  {
   "cell_type": "code",
   "execution_count": 242,
   "metadata": {},
   "outputs": [
    {
     "name": "stdout",
     "output_type": "stream",
     "text": [
      "12dgr160_c + ctp_c --> cdp_c + h_c + pa160_c \n",
      "\n",
      "12dgr160_c C35H68O5 0\n",
      "ctp_c C9H12N3O14P3 -4\n",
      "<=>\n",
      "pa160_c C35H67O8P -2\n",
      "cdp_c C9H12N3O11P2 -3\n",
      "h_c H 1\n",
      "----------------------------------------------------------------------------------------------------\n",
      "RXN__45__12959\n",
      "h2o_c + pc160_c --> 12dgr160_c + cholp_c + h_c \n",
      "\n",
      "pc160_c C40H80N1O8P1 0\n",
      "h2o_c H2O 0\n",
      "<=>\n",
      "cholp_c C5H13NO4P -1\n",
      "12dgr160_c C35H68O5 0\n",
      "h_c H 1\n",
      "----------------------------------------------------------------------------------------------------\n",
      "PHOSPHOLIPASE__45__C__45__RXN\n",
      "asn__L_c + atp_c + h_c + trnaasn_c --> Charged__45__ASN__45__tRNAs_c + amp_c + ppi_c \n",
      "\n",
      "trnaasn_c C10H17O10PR2 0\n",
      "asn__L_c C4H8N2O3 0\n",
      "atp_c C10H12N5O13P3 -4\n",
      "h_c H 1\n",
      "<=>\n",
      "Charged__45__ASN__45__tRNAs_c None 1\n",
      "amp_c C10H12N5O7P -2\n",
      "ppi_c HO7P2 -3\n",
      "----------------------------------------------------------------------------------------------------\n",
      "ASPARAGINE__45____45__TRNA__45__LIGASE__45__RXN\n",
      "2.0 fdxrd_c + 2.0 h_c + mlthf_c --> 5mthf_c + 2.0 fdxox_c \n",
      "\n",
      "mlthf_c C20H21N7O6 -2\n",
      "fdxrd_c XH2 0\n",
      "h_c H 1\n",
      "<=>\n",
      "5mthf_c C20H23N7O6 -2\n",
      "fdxox_c X 0\n",
      "----------------------------------------------------------------------------------------------------\n",
      "RXN__45__5061\n",
      "N__45__Acylsphingosine_c + pc160_c --> 12dgr160_c + N__45__acyl__45__sphingosylphosphorylcholine_c \n",
      "\n",
      "N__45__Acylsphingosine_c None 0\n",
      "pc160_c C40H80N1O8P1 0\n",
      "<=>\n",
      "N__45__acyl__45__sphingosylphosphorylcholine_c None 0\n",
      "12dgr160_c C35H68O5 0\n",
      "----------------------------------------------------------------------------------------------------\n",
      "RXN__45__15211\n",
      "coa_c + 2.0 fdxox_c + pyr_c --> accoa_c + co2_c + 2.0 fdxrd_c + h_c \n",
      "\n",
      "coa_c C21H32N7O16P3S -4\n",
      "pyr_c C3H3O3 -1\n",
      "fdxox_c X 0\n",
      "<=>\n",
      "co2_c CO2 0\n",
      "accoa_c C23H34N7O17P3S -4\n",
      "h_c H 1\n",
      "fdxrd_c XH2 0\n",
      "----------------------------------------------------------------------------------------------------\n",
      "PYRUFLAVREDUCT__45__RXN\n",
      "4.0 focytc_m + 6.0 h_m + o2_m --> 4.0 ficytc_m + 2.0 h2o_m + 6.0 h_p \n",
      "\n",
      "focytc_m C42H53FeN8O6S2 1\n",
      "h_m H 1\n",
      "o2_m O2 0\n",
      "<=>\n",
      "h2o_m H2O 0\n",
      "h_p H 1\n",
      "ficytc_m C42H52FeN8O6S2 1\n",
      "----------------------------------------------------------------------------------------------------\n",
      "CYOOm_umay\n"
     ]
    }
   ],
   "source": [
    "for i, rxn in enumerate(non_dead_ends_unbalanced):\n",
    "    if rxn in model.reactions:\n",
    "        foo.superprint(model,rxn)\n",
    "        print '--'*50\n",
    "        print rxn\n",
    "    else:\n",
    "        non_dead_ends_unbalanced.pop(i)"
   ]
  },
  {
   "cell_type": "markdown",
   "metadata": {},
   "source": [
    "### Addition of Cyp3 - P450 monooxygenase Umag_05074"
   ]
  },
  {
   "cell_type": "code",
   "execution_count": 243,
   "metadata": {},
   "outputs": [
    {
     "data": {
      "text/plain": [
       "'C5H4O4'"
      ]
     },
     "execution_count": 243,
     "metadata": {},
     "output_type": "execute_result"
    }
   ],
   "source": [
    "model.metabolites.itacon_c.formula"
   ]
  },
  {
   "cell_type": "code",
   "execution_count": 244,
   "metadata": {
    "collapsed": true
   },
   "outputs": [],
   "source": [
    "met = Metabolite(id='2hp_c',formula='C5H5O5',name='2-Hydroxyparaconate',compartment='c')"
   ]
  },
  {
   "cell_type": "code",
   "execution_count": 245,
   "metadata": {
    "collapsed": true
   },
   "outputs": [],
   "source": [
    "met.charge = -1"
   ]
  },
  {
   "cell_type": "code",
   "execution_count": 246,
   "metadata": {
    "collapsed": true
   },
   "outputs": [],
   "source": [
    "rxn = Reaction(id='IMO',name='Itaconate monooxigenase - Cyp3 P450 Monooxygenase')"
   ]
  },
  {
   "cell_type": "code",
   "execution_count": 247,
   "metadata": {
    "collapsed": true
   },
   "outputs": [],
   "source": [
    "rxn.add_metabolites({met:1,\n",
    "                    model.metabolites.itacon_c:-1,\n",
    "                    model.metabolites.o2_c:-1,\n",
    "                    model.metabolites.nadp_c:1,\n",
    "                    model.metabolites.nadph_c:-1,\n",
    "                    model.metabolites.h_c:-2,\n",
    "                    model.metabolites.h2o_c:1})"
   ]
  },
  {
   "cell_type": "code",
   "execution_count": 248,
   "metadata": {},
   "outputs": [
    {
     "data": {
      "text/plain": [
       "{}"
      ]
     },
     "execution_count": 248,
     "metadata": {},
     "output_type": "execute_result"
    }
   ],
   "source": [
    "rxn.check_mass_balance()"
   ]
  },
  {
   "cell_type": "code",
   "execution_count": 249,
   "metadata": {
    "collapsed": true
   },
   "outputs": [],
   "source": [
    "rxn.gene_reaction_rule = 'UMAG_05074'"
   ]
  },
  {
   "cell_type": "code",
   "execution_count": 250,
   "metadata": {},
   "outputs": [],
   "source": [
    "model.add_reaction(rxn)"
   ]
  },
  {
   "cell_type": "code",
   "execution_count": 253,
   "metadata": {},
   "outputs": [],
   "source": [
    "model.add_boundary(model.metabolites.get_by_id('2hp_c'),type='demand')\n",
    "model.reactions.DM_2hp_c.bounds= 0,1000"
   ]
  },
  {
   "cell_type": "code",
   "execution_count": 255,
   "metadata": {},
   "outputs": [
    {
     "data": {
      "text/plain": [
       "0.9879687633915931"
      ]
     },
     "execution_count": 255,
     "metadata": {},
     "output_type": "execute_result"
    }
   ],
   "source": [
    "model.optimize().f"
   ]
  },
  {
   "cell_type": "code",
   "execution_count": 256,
   "metadata": {},
   "outputs": [
    {
     "name": "stdout",
     "output_type": "stream",
     "text": [
      "EX_o2_e: o2_e <=>  -1000.0 1000.0 -6.34703242588\n",
      "EX_co2_e: co2_e <=>  -1000.0 1000.0 -5.9173895099\n",
      "EX_nh4_e: nh4_e <=>  -1000.0 1000.0 -5.92696292721\n",
      "EX_pi_e: pi_e <=>  -1000.0 1000.0 -0.977377738248\n",
      "EX_so4_e: so4_e <=>  -1000.0 1000.0 -0.0810134385981\n",
      "EX_h2o_e: h2o_e <=>  -1000.0 1000.0 27.4152143732\n",
      "EX_glc__D_e: glc__D_e <--  -20 0 -20.0\n",
      "EX_mal__L_e: mal__L_e -->  0.0 1000.0 19.7991113715\n",
      "EX_fum_e: fum_e -->  0.0 1000.0 0.47325679704\n",
      "EX_gly_e: gly_e -->  0.0 1000.0 0.492225797297\n"
     ]
    }
   ],
   "source": [
    "for rxn in model.reactions:\n",
    "    if rxn.id.startswith('EX_') and abs(rxn.flux)>0:\n",
    "        print rxn,rxn.lower_bound,rxn.upper_bound,rxn.flux"
   ]
  },
  {
   "cell_type": "code",
   "execution_count": 258,
   "metadata": {},
   "outputs": [],
   "source": [
    "model.objective = model.reactions.DM_2hp_c"
   ]
  },
  {
   "cell_type": "code",
   "execution_count": 259,
   "metadata": {},
   "outputs": [
    {
     "name": "stdout",
     "output_type": "stream",
     "text": [
      "Maximize\n",
      "1.0*DM_2hp_c - 1.0*DM_2hp_c_reverse_2d6fc\n"
     ]
    }
   ],
   "source": [
    "print model.objective"
   ]
  },
  {
   "cell_type": "code",
   "execution_count": 260,
   "metadata": {
    "collapsed": true
   },
   "outputs": [],
   "source": [
    "model.reactions.EX_glc__D_e.bounds = -10, 1000"
   ]
  },
  {
   "cell_type": "code",
   "execution_count": 261,
   "metadata": {},
   "outputs": [
    {
     "data": {
      "text/plain": [
       "9.999999999992852"
      ]
     },
     "execution_count": 261,
     "metadata": {},
     "output_type": "execute_result"
    }
   ],
   "source": [
    "model.optimize().f"
   ]
  },
  {
   "cell_type": "code",
   "execution_count": 262,
   "metadata": {},
   "outputs": [
    {
     "name": "stdout",
     "output_type": "stream",
     "text": [
      "EX_o2_e: o2_e <=>  -1000.0 1000.0 -24.8484848485\n",
      "EX_co2_e: co2_e <=>  -1000.0 1000.0 9.99999999993\n",
      "EX_pi_e: pi_e <=>  -1000.0 1000.0 3.45578302299e-11\n",
      "EX_h2o_e: h2o_e <=>  -1000.0 1000.0 39.6969696968\n",
      "EX_na1_e: na1_e <=>  -1000.0 1000.0 3.23117426779e-27\n",
      "EX_glc__D_e: glc__D_e <=>  -10 1000 -10.0\n",
      "EX_fum_e: fum_e -->  0.0 1000.0 -2.30374701798e-11\n",
      "EX_asn__L_e: asn__L_e -->  0.0 1000.0 4.62236322155e-11\n",
      "EX_cys__L_e: cys__L_e -->  0.0 1000.0 1.65524167187e-13\n",
      "EX_gly_e: gly_e -->  0.0 1000.0 -1.25990320828e-11\n",
      "DM_2hp_c: 2hp_c -->  0 1000 9.99999999999\n"
     ]
    }
   ],
   "source": [
    "for rxn in model.reactions:\n",
    "    if (rxn.id.startswith('EX_') or rxn.id.startswith('DM_')) and abs(rxn.flux)>0:\n",
    "        print rxn,rxn.lower_bound,rxn.upper_bound,rxn.flux"
   ]
  },
  {
   "cell_type": "markdown",
   "metadata": {},
   "source": [
    "# Test carbon sources that umay should be able to grow on"
   ]
  },
  {
   "cell_type": "code",
   "execution_count": 279,
   "metadata": {},
   "outputs": [],
   "source": [
    "model.objective = model.reactions.BIOMASS_REACTION"
   ]
  },
  {
   "cell_type": "code",
   "execution_count": 282,
   "metadata": {
    "collapsed": true
   },
   "outputs": [],
   "source": [
    "model.reactions.EX_glc__D_e.bounds= 0, 1000"
   ]
  },
  {
   "cell_type": "code",
   "execution_count": 283,
   "metadata": {},
   "outputs": [
    {
     "data": {
      "text/plain": [
       "0.0"
      ]
     },
     "execution_count": 283,
     "metadata": {},
     "output_type": "execute_result"
    }
   ],
   "source": [
    "model.optimize().f"
   ]
  },
  {
   "cell_type": "code",
   "execution_count": 284,
   "metadata": {},
   "outputs": [
    {
     "ename": "ValueError",
     "evalue": "boundary EX_salc_e already exists",
     "output_type": "error",
     "traceback": [
      "\u001b[0;31m---------------------------------------------------------------------------\u001b[0m",
      "\u001b[0;31mValueError\u001b[0m                                Traceback (most recent call last)",
      "\u001b[0;32m<ipython-input-284-12e330525b0c>\u001b[0m in \u001b[0;36m<module>\u001b[0;34m()\u001b[0m\n\u001b[0;32m----> 1\u001b[0;31m \u001b[0mmodel\u001b[0m\u001b[0;34m.\u001b[0m\u001b[0madd_boundary\u001b[0m\u001b[0;34m(\u001b[0m\u001b[0mmodel\u001b[0m\u001b[0;34m.\u001b[0m\u001b[0mmetabolites\u001b[0m\u001b[0;34m.\u001b[0m\u001b[0msalc_e\u001b[0m\u001b[0;34m,\u001b[0m\u001b[0mtype\u001b[0m\u001b[0;34m=\u001b[0m\u001b[0;34m'exchange'\u001b[0m\u001b[0;34m)\u001b[0m\u001b[0;34m\u001b[0m\u001b[0m\n\u001b[0m",
      "\u001b[0;32m/Users/clie/.virtualenvs/test-memote/lib/python2.7/site-packages/cobra/core/model.pyc\u001b[0m in \u001b[0;36madd_boundary\u001b[0;34m(self, metabolite, type, reaction_id, lb, ub)\u001b[0m\n\u001b[1;32m    484\u001b[0m             \u001b[0mreaction_id\u001b[0m \u001b[0;34m=\u001b[0m \u001b[0;34m\"{}_{}\"\u001b[0m\u001b[0;34m.\u001b[0m\u001b[0mformat\u001b[0m\u001b[0;34m(\u001b[0m\u001b[0mprefix\u001b[0m\u001b[0;34m,\u001b[0m \u001b[0mmetabolite\u001b[0m\u001b[0;34m.\u001b[0m\u001b[0mid\u001b[0m\u001b[0;34m)\u001b[0m\u001b[0;34m\u001b[0m\u001b[0m\n\u001b[1;32m    485\u001b[0m         \u001b[0;32mif\u001b[0m \u001b[0mreaction_id\u001b[0m \u001b[0;32min\u001b[0m \u001b[0mself\u001b[0m\u001b[0;34m.\u001b[0m\u001b[0mreactions\u001b[0m\u001b[0;34m:\u001b[0m\u001b[0;34m\u001b[0m\u001b[0m\n\u001b[0;32m--> 486\u001b[0;31m             \u001b[0;32mraise\u001b[0m \u001b[0mValueError\u001b[0m\u001b[0;34m(\u001b[0m\u001b[0;34m'boundary %s already exists'\u001b[0m \u001b[0;34m%\u001b[0m \u001b[0mreaction_id\u001b[0m\u001b[0;34m)\u001b[0m\u001b[0;34m\u001b[0m\u001b[0m\n\u001b[0m\u001b[1;32m    487\u001b[0m         \u001b[0mname\u001b[0m \u001b[0;34m=\u001b[0m \u001b[0;34m\"{} {}\"\u001b[0m\u001b[0;34m.\u001b[0m\u001b[0mformat\u001b[0m\u001b[0;34m(\u001b[0m\u001b[0mmetabolite\u001b[0m\u001b[0;34m.\u001b[0m\u001b[0mname\u001b[0m\u001b[0;34m,\u001b[0m \u001b[0mtype\u001b[0m\u001b[0;34m)\u001b[0m\u001b[0;34m\u001b[0m\u001b[0m\n\u001b[1;32m    488\u001b[0m         rxn = Reaction(id=reaction_id, name=name, lower_bound=lb,\n",
      "\u001b[0;31mValueError\u001b[0m: boundary EX_salc_e already exists"
     ]
    }
   ],
   "source": [
    "model.add_boundary(model.metabolites.salc_e,type='exchange')\n"
   ]
  },
  {
   "cell_type": "code",
   "execution_count": 267,
   "metadata": {},
   "outputs": [],
   "source": [
    "model.reactions.EX_salc_e.bounds= -10, 1000"
   ]
  },
  {
   "cell_type": "code",
   "execution_count": 268,
   "metadata": {},
   "outputs": [
    {
     "data": {
      "text/plain": [
       "0.0"
      ]
     },
     "execution_count": 268,
     "metadata": {},
     "output_type": "execute_result"
    }
   ],
   "source": [
    "model.optimize().f"
   ]
  },
  {
   "cell_type": "code",
   "execution_count": 269,
   "metadata": {
    "collapsed": true
   },
   "outputs": [],
   "source": [
    "model.reactions.EX_salc_e.bounds= 0, 1000"
   ]
  },
  {
   "cell_type": "code",
   "execution_count": 270,
   "metadata": {},
   "outputs": [
    {
     "data": {
      "text/plain": [
       "frozenset({<Reaction BENZOATE__45__4__45__MONOOXYGENASE__45__RXN at 0x1132b7410>})"
      ]
     },
     "execution_count": 270,
     "metadata": {},
     "output_type": "execute_result"
    }
   ],
   "source": [
    "model.metabolites.get_by_id('4hbz_c').reactions"
   ]
  },
  {
   "cell_type": "code",
   "execution_count": 271,
   "metadata": {},
   "outputs": [
    {
     "data": {
      "text/plain": [
       "frozenset({<Reaction GLUCONATE__45__5__45__DEHYDROGENASE__45__RXN__45__GLUCONATE__47__NAD__47____47__5__45__DEHYDROGLUCONATE__47__NADH__47__PROTON__46__46__46__ at 0x113bbcc10>,\n",
       "           <Reaction GLUCONATE__45__5__45__DEHYDROGENASE__45__RXN__45__GLUCONATE__47__NADP__47____47__5__45__DEHYDROGLUCONATE__47__NADPH__47__PROTON__46__48__46__ at 0x113bbcc90>})"
      ]
     },
     "execution_count": 271,
     "metadata": {},
     "output_type": "execute_result"
    }
   ],
   "source": [
    "model.metabolites.get_by_id('5dglcn_c').reactions"
   ]
  },
  {
   "cell_type": "code",
   "execution_count": 272,
   "metadata": {},
   "outputs": [
    {
     "data": {
      "text/html": [
       "\n",
       "        <table>\n",
       "            <tr>\n",
       "                <td><strong>Reaction identifier</strong></td><td>DM_5dglcn_c</td>\n",
       "            </tr><tr>\n",
       "                <td><strong>Name</strong></td><td>5-dehydro-D-gluconate demand</td>\n",
       "            </tr><tr>\n",
       "                <td><strong>Memory address</strong></td>\n",
       "                <td>0x0113e26b50</td>\n",
       "            </tr><tr>\n",
       "                <td><strong>Stoichiometry</strong></td>\n",
       "                <td>\n",
       "                    <p style='text-align:right'>5dglcn_c --> </p>\n",
       "                    <p style='text-align:right'>5-dehydro-D-gluconate --> </p>\n",
       "                </td>\n",
       "            </tr><tr>\n",
       "                <td><strong>GPR</strong></td><td></td>\n",
       "            </tr><tr>\n",
       "                <td><strong>Lower bound</strong></td><td>0</td>\n",
       "            </tr><tr>\n",
       "                <td><strong>Upper bound</strong></td><td>1000.0</td>\n",
       "            </tr>\n",
       "        </table>\n",
       "        "
      ],
      "text/plain": [
       "<Reaction DM_5dglcn_c at 0x113e26b50>"
      ]
     },
     "execution_count": 272,
     "metadata": {},
     "output_type": "execute_result"
    }
   ],
   "source": [
    "model.add_boundary(model.metabolites.get_by_id('5dglcn_c'),type='demand')"
   ]
  },
  {
   "cell_type": "code",
   "execution_count": 273,
   "metadata": {
    "collapsed": true
   },
   "outputs": [],
   "source": [
    "model.reactions.DM_5dglcn_c.bounds= -10, 1000"
   ]
  },
  {
   "cell_type": "code",
   "execution_count": 274,
   "metadata": {
    "collapsed": true
   },
   "outputs": [],
   "source": [
    "foo.invert_reaction(model.reactions.GLUCONATE__45__5__45__DEHYDROGENASE__45__RXN__45__GLUCONATE__47__NADP__47____47__5__45__DEHYDROGLUCONATE__47__NADPH__47__PROTON__46__48__46__)"
   ]
  },
  {
   "cell_type": "code",
   "execution_count": 275,
   "metadata": {
    "collapsed": true
   },
   "outputs": [],
   "source": [
    "foo.invert_reaction(model.reactions.GLUCONATE__45__5__45__DEHYDROGENASE__45__RXN__45__GLUCONATE__47__NAD__47____47__5__45__DEHYDROGLUCONATE__47__NADH__47__PROTON__46__46__46__)"
   ]
  },
  {
   "cell_type": "code",
   "execution_count": 276,
   "metadata": {},
   "outputs": [
    {
     "data": {
      "text/plain": [
       "9.999999999999988"
      ]
     },
     "execution_count": 276,
     "metadata": {},
     "output_type": "execute_result"
    }
   ],
   "source": [
    "model.optimize().f"
   ]
  },
  {
   "cell_type": "code",
   "execution_count": 280,
   "metadata": {
    "collapsed": true
   },
   "outputs": [],
   "source": [
    "model.reactions.DM_5dglcn_c.bounds= 0, 1000"
   ]
  },
  {
   "cell_type": "code",
   "execution_count": 281,
   "metadata": {},
   "outputs": [
    {
     "data": {
      "text/plain": [
       "0.0"
      ]
     },
     "execution_count": 281,
     "metadata": {},
     "output_type": "execute_result"
    }
   ],
   "source": [
    "model.optimize().f"
   ]
  },
  {
   "cell_type": "code",
   "execution_count": 285,
   "metadata": {},
   "outputs": [
    {
     "data": {
      "text/html": [
       "\n",
       "        <table>\n",
       "            <tr>\n",
       "                <td><strong>Reaction identifier</strong></td><td>EX_ac_e</td>\n",
       "            </tr><tr>\n",
       "                <td><strong>Name</strong></td><td>acetate exchange</td>\n",
       "            </tr><tr>\n",
       "                <td><strong>Memory address</strong></td>\n",
       "                <td>0x0113875510</td>\n",
       "            </tr><tr>\n",
       "                <td><strong>Stoichiometry</strong></td>\n",
       "                <td>\n",
       "                    <p style='text-align:right'>ac_e <=> </p>\n",
       "                    <p style='text-align:right'>acetate <=> </p>\n",
       "                </td>\n",
       "            </tr><tr>\n",
       "                <td><strong>GPR</strong></td><td></td>\n",
       "            </tr><tr>\n",
       "                <td><strong>Lower bound</strong></td><td>-1000.0</td>\n",
       "            </tr><tr>\n",
       "                <td><strong>Upper bound</strong></td><td>1000.0</td>\n",
       "            </tr>\n",
       "        </table>\n",
       "        "
      ],
      "text/plain": [
       "<Reaction EX_ac_e at 0x113875510>"
      ]
     },
     "execution_count": 285,
     "metadata": {},
     "output_type": "execute_result"
    }
   ],
   "source": [
    "model.add_boundary(model.metabolites.get_by_id('ac_e'),type='exchange')"
   ]
  },
  {
   "cell_type": "code",
   "execution_count": 286,
   "metadata": {},
   "outputs": [],
   "source": [
    "model.reactions.EX_ac_e.bounds= -1000, 1000"
   ]
  },
  {
   "cell_type": "code",
   "execution_count": 287,
   "metadata": {},
   "outputs": [
    {
     "data": {
      "text/plain": [
       "frozenset({<Reaction TRANS__45__RXNTFS__45__58__45__ACET__47__PROTON__47____47__ACET__47__PROTON__46__25__46__ at 0x113422390>,\n",
       "           <Reaction EX_ac_e at 0x113875510>,\n",
       "           <Reaction TRANS__45__RXNTFS__45__7__45__ACET__47____47__ACET__46__11__46__ at 0x113ed2290>,\n",
       "           <Reaction TRANS__45__RXNTFS__45__8__45__ACET__47____47__ACET__46__11__46__ at 0x113efc310>,\n",
       "           <Reaction TRANS__45__RXNTFS__45__1__45__ACET__47____47__ACET__46__11__46__ at 0x113fdd410>})"
      ]
     },
     "execution_count": 287,
     "metadata": {},
     "output_type": "execute_result"
    }
   ],
   "source": [
    "model.metabolites.ac_e.reactions"
   ]
  },
  {
   "cell_type": "code",
   "execution_count": 288,
   "metadata": {},
   "outputs": [
    {
     "data": {
      "text/plain": [
       "frozenset({<Reaction RXN__45__14728 at 0x1132b78d0>,\n",
       "           <Reaction TRANS__45__RXNTFS__45__58__45__ACET__47__PROTON__47____47__ACET__47__PROTON__46__25__46__ at 0x113422390>,\n",
       "           <Reaction ACSp at 0x113a64d50>,\n",
       "           <Reaction ACETATE__45____45__COA__45__LIGASE__45__ADP__45__FORMING__45__RXN at 0x113a77190>,\n",
       "           <Reaction LO at 0x113b82090>,\n",
       "           <Reaction _3__46__1__46__1__46__56__45__RXN at 0x113c41690>,\n",
       "           <Reaction AHSERL at 0x113cb4210>,\n",
       "           <Reaction AHSERL2 at 0x113cb4290>,\n",
       "           <Reaction _3__46__1__46__1__46__69__45__RXN at 0x113cf6dd0>,\n",
       "           <Reaction _3__46__1__46__1__46__47__45__RXN at 0x113d09cd0>,\n",
       "           <Reaction ACKrm at 0x113da2710>,\n",
       "           <Reaction METB1 at 0x113dda8d0>,\n",
       "           <Reaction TRANS__45__RXNTFS__45__7__45__ACET__47____47__ACET__46__11__46__ at 0x113ed2290>,\n",
       "           <Reaction TRANS__45__RXNTFS__45__8__45__ACET__47____47__ACET__46__11__46__ at 0x113efc310>,\n",
       "           <Reaction TRANS__45__RXNTFS__45__1__45__ACET__47____47__ACET__46__11__46__ at 0x113fdd410>,\n",
       "           <Reaction ALDD2xm at 0x1140fd0d0>,\n",
       "           <Reaction RXN__45__15008 at 0x114132210>,\n",
       "           <Reaction SLCYSS at 0x114143650>,\n",
       "           <Reaction CYSS_1 at 0x1141436d0>,\n",
       "           <Reaction ALDD2ym at 0x114157610>})"
      ]
     },
     "execution_count": 288,
     "metadata": {},
     "output_type": "execute_result"
    }
   ],
   "source": [
    "model.metabolites.ac_c.reactions"
   ]
  },
  {
   "cell_type": "code",
   "execution_count": 289,
   "metadata": {},
   "outputs": [
    {
     "data": {
      "text/plain": [
       "0.0"
      ]
     },
     "execution_count": 289,
     "metadata": {},
     "output_type": "execute_result"
    }
   ],
   "source": [
    "model.optimize().f"
   ]
  },
  {
   "cell_type": "code",
   "execution_count": 459,
   "metadata": {
    "collapsed": true
   },
   "outputs": [],
   "source": [
    "model.reactions.EX_ac_e.bounds= 0, 1000"
   ]
  },
  {
   "cell_type": "code",
   "execution_count": 300,
   "metadata": {},
   "outputs": [
    {
     "data": {
      "text/plain": [
       "frozenset({<Reaction TRANS__45__RXNTFS__45__7__45__2__45__OXOBUTANOATE__47____47__2__45__OXOBUTANOATE__46__31__46__ at 0x113e98ad0>,\n",
       "           <Reaction TRANS__45__RXNTFS__45__1__45__2__45__OXOBUTANOATE__47____47__2__45__OXOBUTANOATE__46__31__46__ at 0x113fb1f50>})"
      ]
     },
     "execution_count": 300,
     "metadata": {},
     "output_type": "execute_result"
    }
   ],
   "source": [
    "model.metabolites.get_by_id('2obut_e').reactions"
   ]
  },
  {
   "cell_type": "code",
   "execution_count": 301,
   "metadata": {},
   "outputs": [
    {
     "data": {
      "text/html": [
       "\n",
       "        <table>\n",
       "            <tr>\n",
       "                <td><strong>Reaction identifier</strong></td><td>EX_2obut_e</td>\n",
       "            </tr><tr>\n",
       "                <td><strong>Name</strong></td><td>2-oxobutanoate exchange</td>\n",
       "            </tr><tr>\n",
       "                <td><strong>Memory address</strong></td>\n",
       "                <td>0x0119152d90</td>\n",
       "            </tr><tr>\n",
       "                <td><strong>Stoichiometry</strong></td>\n",
       "                <td>\n",
       "                    <p style='text-align:right'>2obut_e <=> </p>\n",
       "                    <p style='text-align:right'>2-oxobutanoate <=> </p>\n",
       "                </td>\n",
       "            </tr><tr>\n",
       "                <td><strong>GPR</strong></td><td></td>\n",
       "            </tr><tr>\n",
       "                <td><strong>Lower bound</strong></td><td>-1000.0</td>\n",
       "            </tr><tr>\n",
       "                <td><strong>Upper bound</strong></td><td>1000.0</td>\n",
       "            </tr>\n",
       "        </table>\n",
       "        "
      ],
      "text/plain": [
       "<Reaction EX_2obut_e at 0x119152d90>"
      ]
     },
     "execution_count": 301,
     "metadata": {},
     "output_type": "execute_result"
    }
   ],
   "source": [
    "model.add_boundary(model.metabolites.get_by_id('2obut_e'),type=\"exchange\")"
   ]
  },
  {
   "cell_type": "code",
   "execution_count": 302,
   "metadata": {
    "collapsed": true
   },
   "outputs": [],
   "source": [
    "model.reactions.EX_2obut_e.bounds=-10, 1000"
   ]
  },
  {
   "cell_type": "code",
   "execution_count": 303,
   "metadata": {},
   "outputs": [
    {
     "data": {
      "text/plain": [
       "0.14450196746653718"
      ]
     },
     "execution_count": 303,
     "metadata": {},
     "output_type": "execute_result"
    }
   ],
   "source": [
    "model.optimize().f"
   ]
  },
  {
   "cell_type": "code",
   "execution_count": 304,
   "metadata": {
    "collapsed": true
   },
   "outputs": [],
   "source": [
    "model.reactions.EX_2obut_e.bounds= 0, 1000"
   ]
  },
  {
   "cell_type": "code",
   "execution_count": 305,
   "metadata": {},
   "outputs": [
    {
     "data": {
      "text/plain": [
       "frozenset({<Reaction TRANS__45__RXNTFS__45__7__45__2__45__KETOGLUTARATE__47____47__2__45__KETOGLUTARATE__46__33__46__ at 0x113e98910>,\n",
       "           <Reaction TRANS__45__RXNTFS__45__1__45__2__45__KETOGLUTARATE__47____47__2__45__KETOGLUTARATE__46__33__46__ at 0x113fb1b10>})"
      ]
     },
     "execution_count": 305,
     "metadata": {},
     "output_type": "execute_result"
    }
   ],
   "source": [
    "model.metabolites.akg_e.reactions"
   ]
  },
  {
   "cell_type": "code",
   "execution_count": 306,
   "metadata": {},
   "outputs": [
    {
     "data": {
      "text/html": [
       "\n",
       "        <table>\n",
       "            <tr>\n",
       "                <td><strong>Reaction identifier</strong></td><td>EX_akg_e</td>\n",
       "            </tr><tr>\n",
       "                <td><strong>Name</strong></td><td>2-oxoglutarate exchange</td>\n",
       "            </tr><tr>\n",
       "                <td><strong>Memory address</strong></td>\n",
       "                <td>0x01191520d0</td>\n",
       "            </tr><tr>\n",
       "                <td><strong>Stoichiometry</strong></td>\n",
       "                <td>\n",
       "                    <p style='text-align:right'>akg_e <=> </p>\n",
       "                    <p style='text-align:right'>2-oxoglutarate <=> </p>\n",
       "                </td>\n",
       "            </tr><tr>\n",
       "                <td><strong>GPR</strong></td><td></td>\n",
       "            </tr><tr>\n",
       "                <td><strong>Lower bound</strong></td><td>-1000.0</td>\n",
       "            </tr><tr>\n",
       "                <td><strong>Upper bound</strong></td><td>1000.0</td>\n",
       "            </tr>\n",
       "        </table>\n",
       "        "
      ],
      "text/plain": [
       "<Reaction EX_akg_e at 0x1191520d0>"
      ]
     },
     "execution_count": 306,
     "metadata": {},
     "output_type": "execute_result"
    }
   ],
   "source": [
    "model.add_boundary(model.metabolites.akg_e, type='exchange')"
   ]
  },
  {
   "cell_type": "code",
   "execution_count": 307,
   "metadata": {
    "collapsed": true
   },
   "outputs": [],
   "source": [
    "model.reactions.EX_akg_e.bounds= -1000, 1000"
   ]
  },
  {
   "cell_type": "code",
   "execution_count": 308,
   "metadata": {},
   "outputs": [
    {
     "data": {
      "text/plain": [
       "1.947743101374853"
      ]
     },
     "execution_count": 308,
     "metadata": {},
     "output_type": "execute_result"
    }
   ],
   "source": [
    "model.optimize().f"
   ]
  },
  {
   "cell_type": "code",
   "execution_count": 309,
   "metadata": {
    "collapsed": true
   },
   "outputs": [],
   "source": [
    "model.reactions.EX_akg_e.bounds= 0, 1000"
   ]
  },
  {
   "cell_type": "code",
   "execution_count": 310,
   "metadata": {},
   "outputs": [
    {
     "data": {
      "text/plain": [
       "frozenset({<Reaction ACYLCOASYN__45__RXN__45__BUTYRIC_ACID__47__CO__45__A__47__ATP__47____47__BUTYRYL__45__COA__47__PPI__47__AMP__46__43__46__ at 0x113b0d650>,\n",
       "           <Reaction BUTYRATE__45____45__COA__45__LIGASE__45__RXN__45__BUTYRIC_ACID__47__ATP__47__CO__45__A__47____47__BUTYRYL__45__COA__47__AMP__47__PPI__46__43__46__ at 0x113b33210>,\n",
       "           <Reaction RXN__45__12086 at 0x113c8ec50>,\n",
       "           <Reaction TRANS__45__RXNTFS__45__7__45__BUTYRIC_ACID__47____47__BUTYRIC_ACID__46__27__46__ at 0x113eaa550>,\n",
       "           <Reaction TRANS__45__RXNTFS__45__1__45__BUTYRIC_ACID__47____47__BUTYRIC_ACID__46__27__46__ at 0x113fc9510>,\n",
       "           <Reaction ACYL__45__COA__45__HYDROLASE__45__RXN__45__BUTYRYL__45__COA__47__WATER__47____47__BUTYRIC_ACID__47__CO__45__A__47__PROTON__46__44__46__ at 0x1140c5490>})"
      ]
     },
     "execution_count": 310,
     "metadata": {},
     "output_type": "execute_result"
    }
   ],
   "source": [
    "model.metabolites.but_c.reactions"
   ]
  },
  {
   "cell_type": "code",
   "execution_count": 311,
   "metadata": {},
   "outputs": [
    {
     "data": {
      "text/plain": [
       "3.4663348173457567"
      ]
     },
     "execution_count": 311,
     "metadata": {},
     "output_type": "execute_result"
    }
   ],
   "source": [
    "model.add_boundary(model.metabolites.but_e,type='exchange')\n",
    "model.reactions.EX_but_e.bounds= -1000, 1000\n",
    "model.optimize().f"
   ]
  },
  {
   "cell_type": "code",
   "execution_count": 312,
   "metadata": {
    "collapsed": true
   },
   "outputs": [],
   "source": [
    "model.reactions.EX_but_e.bounds= 0, 1000"
   ]
  },
  {
   "cell_type": "code",
   "execution_count": 313,
   "metadata": {},
   "outputs": [
    {
     "data": {
      "text/plain": [
       "4.304739546668171e-15"
      ]
     },
     "execution_count": 313,
     "metadata": {},
     "output_type": "execute_result"
    }
   ],
   "source": [
    "model.optimize().f"
   ]
  },
  {
   "cell_type": "code",
   "execution_count": 314,
   "metadata": {},
   "outputs": [
    {
     "data": {
      "text/plain": [
       "4.304739546668171e-15"
      ]
     },
     "execution_count": 314,
     "metadata": {},
     "output_type": "execute_result"
    }
   ],
   "source": [
    "model.reactions.EX_mal__L_e.bounds= -1000, 1000\n",
    "model.optimize().f"
   ]
  },
  {
   "cell_type": "code",
   "execution_count": 315,
   "metadata": {},
   "outputs": [
    {
     "data": {
      "text/plain": [
       "frozenset({<Reaction TRANS__45__RXNTFS__45__7__45__MAL__47____47__MAL__46__9__46__ at 0x113ebf390>,\n",
       "           <Reaction TRANS__45__RXNTFS__45__1__45__MAL__47____47__MAL__46__9__46__ at 0x113fc9b90>,\n",
       "           <Reaction TRANS__45__RXNTFS__45__53__45__MAL__47____47__MAL__46__9__46__ at 0x11419bfd0>,\n",
       "           <Reaction EX_mal__L_e at 0x1141e3390>})"
      ]
     },
     "execution_count": 315,
     "metadata": {},
     "output_type": "execute_result"
    }
   ],
   "source": [
    "model.metabolites.mal__L_e.reactions"
   ]
  },
  {
   "cell_type": "code",
   "execution_count": 316,
   "metadata": {},
   "outputs": [],
   "source": [
    "model.reactions.TRANS__45__RXNTFS__45__53__45__MAL__47____47__MAL__46__9__46__.lower_bound = -1000"
   ]
  },
  {
   "cell_type": "code",
   "execution_count": 317,
   "metadata": {},
   "outputs": [
    {
     "data": {
      "text/plain": [
       "4.304739546668171e-15"
      ]
     },
     "execution_count": 317,
     "metadata": {},
     "output_type": "execute_result"
    }
   ],
   "source": [
    "model.optimize().f"
   ]
  },
  {
   "cell_type": "code",
   "execution_count": 318,
   "metadata": {
    "collapsed": true
   },
   "outputs": [],
   "source": [
    "model.reactions.EX_mal__L_e.bounds= 0, 1000"
   ]
  },
  {
   "cell_type": "code",
   "execution_count": 319,
   "metadata": {},
   "outputs": [
    {
     "data": {
      "text/plain": [
       "frozenset({<Reaction TRANS__45__RXNTFS__45__16__45__L__45__ALPHA__45__ALANINE__47__PROTON__47____47__L__45__ALPHA__45__ALANINE__47__PROTON__46__47__46__ at 0x113f3ee10>,\n",
       "           <Reaction TRANS__45__RXNTFS__45__26__45__L__45__ALPHA__45__ALANINE__47____47__L__45__ALPHA__45__ALANINE__46__33__46__ at 0x113f96390>,\n",
       "           <Reaction TRANS__45__RXNTFS__45__33__45__L__45__ALPHA__45__ALANINE__47__PROTON__47____47__L__45__ALPHA__45__ALANINE__47__PROTON__46__47__46__ at 0x114039dd0>,\n",
       "           <Reaction EX_ala__L_e at 0x1141e34d0>})"
      ]
     },
     "execution_count": 319,
     "metadata": {},
     "output_type": "execute_result"
    }
   ],
   "source": [
    "model.metabolites.ala__L_e.reactions"
   ]
  },
  {
   "cell_type": "code",
   "execution_count": 320,
   "metadata": {},
   "outputs": [
    {
     "name": "stdout",
     "output_type": "stream",
     "text": [
      "TRANS__45__RXNTFS__45__16__45__L__45__ALPHA__45__ALANINE__47__PROTON__47____47__L__45__ALPHA__45__ALANINE__47__PROTON__46__47__46__: ala__L_e + h_e --> ala__L_c + h_c 0.0 1000.0\n",
      "TRANS__45__RXNTFS__45__26__45__L__45__ALPHA__45__ALANINE__47____47__L__45__ALPHA__45__ALANINE__46__33__46__: ala__L_e <=> ala__L_c -1000.0 1000.0\n",
      "TRANS__45__RXNTFS__45__33__45__L__45__ALPHA__45__ALANINE__47__PROTON__47____47__L__45__ALPHA__45__ALANINE__47__PROTON__46__47__46__: ala__L_e + h_e --> ala__L_c + h_c 0.0 1000.0\n",
      "EX_ala__L_e: ala__L_e -->  0.0 1000.0\n"
     ]
    }
   ],
   "source": [
    "for rxn in model.metabolites.ala__L_e.reactions:\n",
    "        print rxn,rxn.lower_bound,rxn.upper_bound"
   ]
  },
  {
   "cell_type": "code",
   "execution_count": 321,
   "metadata": {},
   "outputs": [
    {
     "data": {
      "text/plain": [
       "3.2520405031916395"
      ]
     },
     "execution_count": 321,
     "metadata": {},
     "output_type": "execute_result"
    }
   ],
   "source": [
    "model.reactions.EX_ala__L_e.bounds= -1000, 1000\n",
    "model.optimize().f"
   ]
  },
  {
   "cell_type": "code",
   "execution_count": 322,
   "metadata": {
    "collapsed": true
   },
   "outputs": [],
   "source": [
    "model.reactions.EX_ala__L_e.bounds= 0, 1000"
   ]
  },
  {
   "cell_type": "code",
   "execution_count": 323,
   "metadata": {},
   "outputs": [
    {
     "name": "stdout",
     "output_type": "stream",
     "text": [
      "TRANS__45__RXNTFS__45__33__45__B__45__ALANINE__47__PROTON__47____47__B__45__ALANINE__47__PROTON__46__35__46__: ala_B_e + h_e --> ala_B_c + h_c 0.0 1000.0\n"
     ]
    }
   ],
   "source": [
    "for rxn in model.metabolites.ala_B_e.reactions:\n",
    "        print rxn,rxn.lower_bound,rxn.upper_bound"
   ]
  },
  {
   "cell_type": "code",
   "execution_count": 324,
   "metadata": {},
   "outputs": [
    {
     "data": {
      "text/plain": [
       "9.298401885666734e-14"
      ]
     },
     "execution_count": 324,
     "metadata": {},
     "output_type": "execute_result"
    }
   ],
   "source": [
    "model.add_boundary(model.metabolites.ala_B_e,type='exchange')\n",
    "model.reactions.EX_ala_B_e.bounds= -1000, 1000\n",
    "model.optimize().f"
   ]
  },
  {
   "cell_type": "code",
   "execution_count": 325,
   "metadata": {
    "collapsed": true
   },
   "outputs": [],
   "source": [
    "model.reactions.TRANS__45__RXNTFS__45__33__45__B__45__ALANINE__47__PROTON__47____47__B__45__ALANINE__47__PROTON__46__35__46__.lower_bound = -1000"
   ]
  },
  {
   "cell_type": "code",
   "execution_count": 326,
   "metadata": {},
   "outputs": [
    {
     "data": {
      "text/plain": [
       "9.298401885666734e-14"
      ]
     },
     "execution_count": 326,
     "metadata": {},
     "output_type": "execute_result"
    }
   ],
   "source": [
    "model.optimize().f"
   ]
  },
  {
   "cell_type": "code",
   "execution_count": 327,
   "metadata": {
    "collapsed": true
   },
   "outputs": [],
   "source": [
    "model.reactions.EX_ala_B_e.bounds= 0, 1000"
   ]
  },
  {
   "cell_type": "code",
   "execution_count": 328,
   "metadata": {},
   "outputs": [
    {
     "data": {
      "text/html": [
       "\n",
       "        <table>\n",
       "            <tr>\n",
       "                <td><strong>Metabolite identifier</strong></td><td>arab__L_c</td>\n",
       "            </tr><tr>\n",
       "                <td><strong>Name</strong></td><td>L-arabinopyranose</td>\n",
       "            </tr><tr>\n",
       "                <td><strong>Memory address</strong></td>\n",
       "                <td>0x01139847d0</td>\n",
       "            </tr><tr>\n",
       "                <td><strong>Formula</strong></td><td>C5H10O5</td>\n",
       "            </tr><tr>\n",
       "                <td><strong>Compartment</strong></td><td>c</td>\n",
       "            </tr><tr>\n",
       "                <td><strong>In 3 reaction(s)</strong></td><td>\n",
       "                    ARABR, RXN__45__14809, RXN__45__14808</td>\n",
       "            </tr>\n",
       "        </table>"
      ],
      "text/plain": [
       "<Metabolite arab__L_c at 0x1139847d0>"
      ]
     },
     "execution_count": 328,
     "metadata": {},
     "output_type": "execute_result"
    }
   ],
   "source": [
    "model.metabolites.arab__L_c"
   ]
  },
  {
   "cell_type": "code",
   "execution_count": 329,
   "metadata": {},
   "outputs": [
    {
     "data": {
      "text/plain": [
       "20.571122086897386"
      ]
     },
     "execution_count": 329,
     "metadata": {},
     "output_type": "execute_result"
    }
   ],
   "source": [
    "model.add_boundary(model.metabolites.arab__L_c,type='exchange')\n",
    "model.reactions.EX_arab__L_c.bounds= -1000, 1000\n",
    "model.optimize().f"
   ]
  },
  {
   "cell_type": "code",
   "execution_count": 330,
   "metadata": {
    "collapsed": true
   },
   "outputs": [],
   "source": [
    "model.reactions.EX_arab__L_c.bounds= 0, 1000"
   ]
  },
  {
   "cell_type": "code",
   "execution_count": 331,
   "metadata": {},
   "outputs": [
    {
     "data": {
      "text/plain": [
       "frozenset({<Reaction TRANS__45__RXNTFS__45__2__45__CPD__45__355__47____47__CPD__45__355__46__17__46__ at 0x113e83810>})"
      ]
     },
     "execution_count": 331,
     "metadata": {},
     "output_type": "execute_result"
    }
   ],
   "source": [
    "model.metabolites.abt__D_e.reactions"
   ]
  },
  {
   "cell_type": "code",
   "execution_count": 332,
   "metadata": {},
   "outputs": [
    {
     "data": {
      "text/plain": [
       "frozenset({<Reaction _1__46__1__46__1__46__250__45__RXN at 0x113526d10>,\n",
       "           <Reaction TRANS__45__RXNTFS__45__2__45__CPD__45__355__47____47__CPD__45__355__46__17__46__ at 0x113e83810>})"
      ]
     },
     "execution_count": 332,
     "metadata": {},
     "output_type": "execute_result"
    }
   ],
   "source": [
    "model.metabolites.abt__D_c.reactions"
   ]
  },
  {
   "cell_type": "code",
   "execution_count": 333,
   "metadata": {},
   "outputs": [
    {
     "data": {
      "text/html": [
       "\n",
       "        <table>\n",
       "            <tr>\n",
       "                <td><strong>Reaction identifier</strong></td><td>_1__46__1__46__1__46__250__45__RXN</td>\n",
       "            </tr><tr>\n",
       "                <td><strong>Name</strong></td><td>1.1.1.250-RXN</td>\n",
       "            </tr><tr>\n",
       "                <td><strong>Memory address</strong></td>\n",
       "                <td>0x0113526d10</td>\n",
       "            </tr><tr>\n",
       "                <td><strong>Stoichiometry</strong></td>\n",
       "                <td>\n",
       "                    <p style='text-align:right'>abt__D_c + nad_c <=> h_c + nadh_c + rbl__D_c</p>\n",
       "                    <p style='text-align:right'>D-arabitol + NAD+ <=> H+ + NADH + D-ribulose</p>\n",
       "                </td>\n",
       "            </tr><tr>\n",
       "                <td><strong>GPR</strong></td><td>UMAG_11256 or UMAG_00108</td>\n",
       "            </tr><tr>\n",
       "                <td><strong>Lower bound</strong></td><td>-1000.0</td>\n",
       "            </tr><tr>\n",
       "                <td><strong>Upper bound</strong></td><td>1000.0</td>\n",
       "            </tr>\n",
       "        </table>\n",
       "        "
      ],
      "text/plain": [
       "<Reaction _1__46__1__46__1__46__250__45__RXN at 0x113526d10>"
      ]
     },
     "execution_count": 333,
     "metadata": {},
     "output_type": "execute_result"
    }
   ],
   "source": [
    "model.reactions._1__46__1__46__1__46__250__45__RXN"
   ]
  },
  {
   "cell_type": "code",
   "execution_count": 334,
   "metadata": {},
   "outputs": [
    {
     "data": {
      "text/plain": [
       "17.132985330696947"
      ]
     },
     "execution_count": 334,
     "metadata": {},
     "output_type": "execute_result"
    }
   ],
   "source": [
    "model.add_boundary(model.metabolites.abt__D_e,type='exchange')\n",
    "model.reactions.EX_abt__D_e.bounds= -1000, 1000\n",
    "model.optimize().f"
   ]
  },
  {
   "cell_type": "code",
   "execution_count": 335,
   "metadata": {
    "collapsed": true
   },
   "outputs": [],
   "source": [
    "model.reactions.EX_abt__D_e.bounds= 0, 1000"
   ]
  },
  {
   "cell_type": "code",
   "execution_count": 336,
   "metadata": {},
   "outputs": [
    {
     "name": "stdout",
     "output_type": "stream",
     "text": [
      "TRANS__45__RXNTFS__45__2__45__CPD__45__15382__47____47__CPD__45__15382__46__21__46__: fru_e --> fru_c 0.0 1000.0\n",
      "TRANS__45__RXNTFS__45__32__45__CPD__45__15382__47____47__CPD__45__15382__46__21__46__: fru_e --> fru_c 0.0 1000.0\n"
     ]
    }
   ],
   "source": [
    "for rxn in model.metabolites.fru_e.reactions:\n",
    "        print rxn,rxn.lower_bound,rxn.upper_bound"
   ]
  },
  {
   "cell_type": "code",
   "execution_count": 337,
   "metadata": {},
   "outputs": [
    {
     "data": {
      "text/plain": [
       "25.655562330422047"
      ]
     },
     "execution_count": 337,
     "metadata": {},
     "output_type": "execute_result"
    }
   ],
   "source": [
    "model.add_boundary(model.metabolites.fru_e,type='exchange')\n",
    "model.reactions.EX_fru_e.bounds= -1000, 1000\n",
    "model.optimize().f"
   ]
  },
  {
   "cell_type": "code",
   "execution_count": 338,
   "metadata": {
    "collapsed": true
   },
   "outputs": [],
   "source": [
    "model.reactions.EX_fru_e.bounds= 0, 1000"
   ]
  },
  {
   "cell_type": "code",
   "execution_count": 339,
   "metadata": {},
   "outputs": [
    {
     "name": "stdout",
     "output_type": "stream",
     "text": [
      "TRANS__45__RXNTFS__45__32__45__GALACTOSE__47____47__GALACTOSE__46__21__46__: gal_bD_e --> gal_bD_c 0.0 1000.0\n",
      "TRANS__45__RXNTFS__45__50__45__GALACTOSE__47____47__GALACTOSE__46__21__46__: gal_bD_e --> gal_bD_c 0.0 1000.0\n",
      "TRANS__45__RXNTFS__45__2__45__GALACTOSE__47____47__GALACTOSE__46__21__46__: gal_bD_e --> gal_bD_c 0.0 1000.0\n"
     ]
    }
   ],
   "source": [
    "for rxn in model.metabolites.gal_bD_e.reactions:\n",
    "        print rxn,rxn.lower_bound,rxn.upper_bound"
   ]
  },
  {
   "cell_type": "code",
   "execution_count": 340,
   "metadata": {},
   "outputs": [
    {
     "data": {
      "text/plain": [
       "25.655562330413193"
      ]
     },
     "execution_count": 340,
     "metadata": {},
     "output_type": "execute_result"
    }
   ],
   "source": [
    "model.add_boundary(model.metabolites.gal_bD_e,type='exchange')\n",
    "model.reactions.EX_gal_bD_e.bounds= -1000, 1000\n",
    "model.optimize().f"
   ]
  },
  {
   "cell_type": "code",
   "execution_count": 341,
   "metadata": {
    "collapsed": true
   },
   "outputs": [],
   "source": [
    "model.reactions.EX_gal_bD_e.bounds= 0, 1000"
   ]
  },
  {
   "cell_type": "code",
   "execution_count": 344,
   "metadata": {},
   "outputs": [],
   "source": [
    "# model.metabolites.galur_c"
   ]
  },
  {
   "cell_type": "code",
   "execution_count": 345,
   "metadata": {},
   "outputs": [
    {
     "data": {
      "text/plain": [
       "frozenset({<Reaction TRANS__45__RXNTFS__45__58__45__GLUCONATE__47__PROTON__47____47__GLUCONATE__47__PROTON__46__35__46__ at 0x113422150>,\n",
       "           <Reaction TRANS__45__RXNTFS__45__7__45__GLUCONATE__47____47__GLUCONATE__46__21__46__ at 0x113ebff50>,\n",
       "           <Reaction TRANS__45__RXNTFS__45__8__45__GLUCONATE__47____47__GLUCONATE__46__21__46__ at 0x113ee7fd0>,\n",
       "           <Reaction TRANS__45__RXNTFS__45__1__45__GLUCONATE__47____47__GLUCONATE__46__21__46__ at 0x113fdd290>})"
      ]
     },
     "execution_count": 345,
     "metadata": {},
     "output_type": "execute_result"
    }
   ],
   "source": [
    "model.metabolites.glcn_e.reactions"
   ]
  },
  {
   "cell_type": "code",
   "execution_count": 346,
   "metadata": {},
   "outputs": [
    {
     "data": {
      "text/plain": [
       "14.596706351633015"
      ]
     },
     "execution_count": 346,
     "metadata": {},
     "output_type": "execute_result"
    }
   ],
   "source": [
    "model.add_boundary(model.metabolites.glcn_e,type='exchange')\n",
    "model.reactions.EX_glcn_e.bounds= -1000, 1000 \n",
    "model.optimize().f"
   ]
  },
  {
   "cell_type": "code",
   "execution_count": 347,
   "metadata": {
    "collapsed": true
   },
   "outputs": [],
   "source": [
    "model.reactions.EX_glcn_e.bounds= 0, 1000"
   ]
  },
  {
   "cell_type": "code",
   "execution_count": 348,
   "metadata": {},
   "outputs": [
    {
     "data": {
      "text/plain": [
       "frozenset({<Reaction ACGAM6PS at 0x113599ad0>,\n",
       "           <Reaction L__45__GLN__45__FRUCT__45__6__45__P__45__AMINOTRANS__45__RXN__45__FRUCTOSE__45__6P__47__GLN__47____47__CPD__45__13469__47__GLT__46__31__46__ at 0x113a9fc90>,\n",
       "           <Reaction GLUCOSAMINE__45__6__45__P__45__DEAMIN__45__RXN at 0x114111650>})"
      ]
     },
     "execution_count": 348,
     "metadata": {},
     "output_type": "execute_result"
    }
   ],
   "source": [
    "model.metabolites.gam6p_c.reactions"
   ]
  },
  {
   "cell_type": "code",
   "execution_count": 349,
   "metadata": {},
   "outputs": [
    {
     "data": {
      "text/html": [
       "\n",
       "        <table>\n",
       "            <tr>\n",
       "                <td><strong>Reaction identifier</strong></td><td>DM_gam6p_c</td>\n",
       "            </tr><tr>\n",
       "                <td><strong>Name</strong></td><td>alpha-D-glucosamine 6-phosphate demand</td>\n",
       "            </tr><tr>\n",
       "                <td><strong>Memory address</strong></td>\n",
       "                <td>0x0119152750</td>\n",
       "            </tr><tr>\n",
       "                <td><strong>Stoichiometry</strong></td>\n",
       "                <td>\n",
       "                    <p style='text-align:right'>gam6p_c --> </p>\n",
       "                    <p style='text-align:right'>alpha-D-glucosamine 6-phosphate --> </p>\n",
       "                </td>\n",
       "            </tr><tr>\n",
       "                <td><strong>GPR</strong></td><td></td>\n",
       "            </tr><tr>\n",
       "                <td><strong>Lower bound</strong></td><td>0</td>\n",
       "            </tr><tr>\n",
       "                <td><strong>Upper bound</strong></td><td>1000.0</td>\n",
       "            </tr>\n",
       "        </table>\n",
       "        "
      ],
      "text/plain": [
       "<Reaction DM_gam6p_c at 0x119152750>"
      ]
     },
     "execution_count": 349,
     "metadata": {},
     "output_type": "execute_result"
    }
   ],
   "source": [
    "model.add_boundary(model.metabolites.gam6p_c,type='demand')"
   ]
  },
  {
   "cell_type": "code",
   "execution_count": 350,
   "metadata": {},
   "outputs": [
    {
     "data": {
      "text/plain": [
       "36.55793692286508"
      ]
     },
     "execution_count": 350,
     "metadata": {},
     "output_type": "execute_result"
    }
   ],
   "source": [
    "model.reactions.DM_gam6p_c.bounds= -1000, 1000\n",
    "model.optimize().f"
   ]
  },
  {
   "cell_type": "code",
   "execution_count": 351,
   "metadata": {
    "collapsed": true
   },
   "outputs": [],
   "source": [
    "model.reactions.DM_gam6p_c.bounds= 0, 1000"
   ]
  },
  {
   "cell_type": "code",
   "execution_count": 352,
   "metadata": {},
   "outputs": [
    {
     "data": {
      "text/plain": [
       "frozenset({<Reaction GLYCDy at 0x1132915d0>, <Reaction DHAK at 0x113526fd0>})"
      ]
     },
     "execution_count": 352,
     "metadata": {},
     "output_type": "execute_result"
    }
   ],
   "source": [
    "model.metabolites.dha_c.reactions"
   ]
  },
  {
   "cell_type": "code",
   "execution_count": 353,
   "metadata": {},
   "outputs": [
    {
     "data": {
      "text/plain": [
       "20.57112208689847"
      ]
     },
     "execution_count": 353,
     "metadata": {},
     "output_type": "execute_result"
    }
   ],
   "source": [
    "model.add_boundary(model.metabolites.dha_c,type=\"demand\")\n",
    "model.reactions.DM_dha_c.bounds= -1000, 1000\n",
    "model.optimize().f"
   ]
  },
  {
   "cell_type": "code",
   "execution_count": 354,
   "metadata": {
    "collapsed": true
   },
   "outputs": [],
   "source": [
    "model.reactions.DM_dha_c.bounds= 0, 1000"
   ]
  },
  {
   "cell_type": "code",
   "execution_count": 355,
   "metadata": {},
   "outputs": [
    {
     "data": {
      "text/plain": [
       "frozenset({<Reaction TRANS__45__RXNTFS__45__2__45__MANNITOL__47____47__MANNITOL__46__19__46__ at 0x113e83510>,\n",
       "           <Reaction EX_mnl_e at 0x1141e3490>})"
      ]
     },
     "execution_count": 355,
     "metadata": {},
     "output_type": "execute_result"
    }
   ],
   "source": [
    "model.metabolites.mnl_e.reactions"
   ]
  },
  {
   "cell_type": "code",
   "execution_count": 356,
   "metadata": {},
   "outputs": [
    {
     "data": {
      "text/plain": [
       "17.998360227637267"
      ]
     },
     "execution_count": 356,
     "metadata": {},
     "output_type": "execute_result"
    }
   ],
   "source": [
    "model.reactions.EX_mnl_e.bounds= -1000, 1000\n",
    "model.optimize().f"
   ]
  },
  {
   "cell_type": "code",
   "execution_count": 357,
   "metadata": {
    "collapsed": true
   },
   "outputs": [],
   "source": [
    "model.reactions.EX_mnl_e.bounds= 0, 1000"
   ]
  },
  {
   "cell_type": "code",
   "execution_count": 358,
   "metadata": {},
   "outputs": [
    {
     "data": {
      "text/html": [
       "\n",
       "        <table>\n",
       "            <tr>\n",
       "                <td><strong>Reaction identifier</strong></td><td>DM_man_c</td>\n",
       "            </tr><tr>\n",
       "                <td><strong>Name</strong></td><td>D-mannopyranose demand</td>\n",
       "            </tr><tr>\n",
       "                <td><strong>Memory address</strong></td>\n",
       "                <td>0x0113e46710</td>\n",
       "            </tr><tr>\n",
       "                <td><strong>Stoichiometry</strong></td>\n",
       "                <td>\n",
       "                    <p style='text-align:right'>man_c --> </p>\n",
       "                    <p style='text-align:right'>D-mannopyranose --> </p>\n",
       "                </td>\n",
       "            </tr><tr>\n",
       "                <td><strong>GPR</strong></td><td></td>\n",
       "            </tr><tr>\n",
       "                <td><strong>Lower bound</strong></td><td>0</td>\n",
       "            </tr><tr>\n",
       "                <td><strong>Upper bound</strong></td><td>1000.0</td>\n",
       "            </tr>\n",
       "        </table>\n",
       "        "
      ],
      "text/plain": [
       "<Reaction DM_man_c at 0x113e46710>"
      ]
     },
     "execution_count": 358,
     "metadata": {},
     "output_type": "execute_result"
    }
   ],
   "source": [
    "model.add_boundary(model.metabolites.man_c,type='demand')"
   ]
  },
  {
   "cell_type": "code",
   "execution_count": 359,
   "metadata": {},
   "outputs": [
    {
     "data": {
      "text/plain": [
       "6.353283488331506e-14"
      ]
     },
     "execution_count": 359,
     "metadata": {},
     "output_type": "execute_result"
    }
   ],
   "source": [
    "model.reactions.DM_man_c.bounds= -1000, 1000\n",
    "model.optimize().f"
   ]
  },
  {
   "cell_type": "code",
   "execution_count": 360,
   "metadata": {
    "collapsed": true
   },
   "outputs": [],
   "source": [
    "model.reactions.DM_man_c.bounds= 0, 1000"
   ]
  },
  {
   "cell_type": "code",
   "execution_count": 361,
   "metadata": {},
   "outputs": [
    {
     "data": {
      "text/plain": [
       "28.530128075859636"
      ]
     },
     "execution_count": 361,
     "metadata": {},
     "output_type": "execute_result"
    }
   ],
   "source": [
    "model.add_boundary(model.metabolites.raffin_c,type='demand')\n",
    "model.reactions.DM_raffin_c.bounds= -1000, 1000\n",
    "model.optimize().f"
   ]
  },
  {
   "cell_type": "code",
   "execution_count": 362,
   "metadata": {
    "collapsed": true
   },
   "outputs": [],
   "source": [
    "model.reactions.DM_raffin_c.bounds= 0, 1000"
   ]
  },
  {
   "cell_type": "code",
   "execution_count": 363,
   "metadata": {},
   "outputs": [
    {
     "data": {
      "text/plain": [
       "9.620238265006948"
      ]
     },
     "execution_count": 363,
     "metadata": {},
     "output_type": "execute_result"
    }
   ],
   "source": [
    "model.add_boundary(model.metabolites.rib__D_c,type='demand')\n",
    "model.reactions.DM_rib__D_c.bounds= -1000, 1000\n",
    "model.optimize().f"
   ]
  },
  {
   "cell_type": "code",
   "execution_count": 364,
   "metadata": {
    "collapsed": true
   },
   "outputs": [],
   "source": [
    "model.reactions.DM_rib__D_c.bounds= 0, 1000"
   ]
  },
  {
   "cell_type": "code",
   "execution_count": 365,
   "metadata": {
    "scrolled": true
   },
   "outputs": [
    {
     "data": {
      "text/plain": [
       "frozenset({<Reaction TRE6PP at 0x113be1d90>,\n",
       "           <Reaction TREHALA__45__RXN at 0x114132810>})"
      ]
     },
     "execution_count": 365,
     "metadata": {},
     "output_type": "execute_result"
    }
   ],
   "source": [
    "model.metabolites.tre_c.reactions"
   ]
  },
  {
   "cell_type": "code",
   "execution_count": 366,
   "metadata": {},
   "outputs": [
    {
     "data": {
      "text/plain": [
       "26.885768723043714"
      ]
     },
     "execution_count": 366,
     "metadata": {},
     "output_type": "execute_result"
    }
   ],
   "source": [
    "model.add_boundary(model.metabolites.tre_c,type='demand')\n",
    "model.reactions.DM_tre_c.bounds= -1000, 1000\n",
    "model.optimize().f"
   ]
  },
  {
   "cell_type": "code",
   "execution_count": 367,
   "metadata": {
    "collapsed": true
   },
   "outputs": [],
   "source": [
    "model.reactions.DM_tre_c.bounds=0,1000"
   ]
  },
  {
   "cell_type": "code",
   "execution_count": 368,
   "metadata": {},
   "outputs": [
    {
     "data": {
      "text/plain": [
       "frozenset({<Reaction RXN__45__14503 at 0x113570bd0>,\n",
       "           <Reaction XYLR at 0x113a40550>})"
      ]
     },
     "execution_count": 368,
     "metadata": {},
     "output_type": "execute_result"
    }
   ],
   "source": [
    "model.metabolites.xyl__D_c.reactions"
   ]
  },
  {
   "cell_type": "code",
   "execution_count": 369,
   "metadata": {},
   "outputs": [
    {
     "data": {
      "text/plain": [
       "20.5711220868987"
      ]
     },
     "execution_count": 369,
     "metadata": {},
     "output_type": "execute_result"
    }
   ],
   "source": [
    "model.add_boundary(model.metabolites.xyl__D_c,type='demand')\n",
    "model.reactions.DM_xyl__D_c.bounds = -1000, 1000\n",
    "model.optimize().f"
   ]
  },
  {
   "cell_type": "code",
   "execution_count": 370,
   "metadata": {
    "collapsed": true
   },
   "outputs": [],
   "source": [
    "model.reactions.DM_xyl__D_c.bounds=0,1000"
   ]
  },
  {
   "cell_type": "code",
   "execution_count": 371,
   "metadata": {},
   "outputs": [
    {
     "data": {
      "text/html": [
       "\n",
       "        <table>\n",
       "            <tr>\n",
       "                <td><strong>Metabolite identifier</strong></td><td>fum_m</td>\n",
       "            </tr><tr>\n",
       "                <td><strong>Name</strong></td><td>fumarate</td>\n",
       "            </tr><tr>\n",
       "                <td><strong>Memory address</strong></td>\n",
       "                <td>0x011376f510</td>\n",
       "            </tr><tr>\n",
       "                <td><strong>Formula</strong></td><td>C4H2O4</td>\n",
       "            </tr><tr>\n",
       "                <td><strong>Compartment</strong></td><td>m</td>\n",
       "            </tr><tr>\n",
       "                <td><strong>In 3 reaction(s)</strong></td><td>\n",
       "                    SUCDH_q6_m, FUMm, TRANS__45__FUMARATE__45__SUCCINATE__45__RXN</td>\n",
       "            </tr>\n",
       "        </table>"
      ],
      "text/plain": [
       "<Metabolite fum_m at 0x11376f510>"
      ]
     },
     "execution_count": 371,
     "metadata": {},
     "output_type": "execute_result"
    }
   ],
   "source": [
    "model.metabolites.fum_m"
   ]
  },
  {
   "cell_type": "code",
   "execution_count": 372,
   "metadata": {},
   "outputs": [
    {
     "name": "stdout",
     "output_type": "stream",
     "text": [
      "TRANS__45__FUMARATE__45__SUCCINATE__45__RXN: fum_c + succ_m <=> fum_m + succ_c -1000.0 1000.0\n",
      "FUMAC: 4fumacac_c + h2o_c --> acac_c + fum_c + h_c 0.0 1000.0\n",
      "ADSL2r: 25aics_c --> aicar_c + fum_c 0.0 1000.0\n",
      "TRANS__45__RXNTFS__45__1__45__FUM__47____47__FUM__46__9__46__: fum_e <=> fum_c -1000.0 1000.0\n",
      "ARGSL: argsuc_c --> arg__L_c + fum_c 0.0 1000.0\n",
      "ADSL1r: dcamp_c --> amp_c + fum_c 0.0 1000.0\n",
      "TRANS__45__RXNTFS__45__7__45__FUM__47____47__FUM__46__9__46__: fum_e --> fum_c 0.0 1000.0\n",
      "RXN__45__22: CANAVANINOSUCCINATE_c <=> CANAVANINE_c + fum_c -1000.0 1000.0\n"
     ]
    }
   ],
   "source": [
    "for rxn in model.metabolites.fum_c.reactions:\n",
    "        print rxn,rxn.lower_bound,rxn.upper_bound"
   ]
  },
  {
   "cell_type": "code",
   "execution_count": 373,
   "metadata": {},
   "outputs": [
    {
     "data": {
      "text/plain": [
       "3.719203327098377e-13"
      ]
     },
     "execution_count": 373,
     "metadata": {},
     "output_type": "execute_result"
    }
   ],
   "source": [
    "model.reactions.EX_fum_e.bounds = -1000, 1000\n",
    "model.optimize().f"
   ]
  },
  {
   "cell_type": "code",
   "execution_count": 374,
   "metadata": {
    "collapsed": true
   },
   "outputs": [],
   "source": [
    "model.reactions.EX_fum_e.bounds=0,1000"
   ]
  },
  {
   "cell_type": "code",
   "execution_count": 375,
   "metadata": {},
   "outputs": [
    {
     "data": {
      "text/plain": [
       "frozenset({<Reaction ABUTt2rL at 0x1140a1050>})"
      ]
     },
     "execution_count": 375,
     "metadata": {},
     "output_type": "execute_result"
    }
   ],
   "source": [
    "model.metabolites.get_by_id('4abut_e').reactions"
   ]
  },
  {
   "cell_type": "code",
   "execution_count": 376,
   "metadata": {},
   "outputs": [
    {
     "data": {
      "text/html": [
       "\n",
       "        <table>\n",
       "            <tr>\n",
       "                <td><strong>Reaction identifier</strong></td><td>ABUTt2rL</td>\n",
       "            </tr><tr>\n",
       "                <td><strong>Name</strong></td><td>TRANS-RXN-57</td>\n",
       "            </tr><tr>\n",
       "                <td><strong>Memory address</strong></td>\n",
       "                <td>0x01140a1050</td>\n",
       "            </tr><tr>\n",
       "                <td><strong>Stoichiometry</strong></td>\n",
       "                <td>\n",
       "                    <p style='text-align:right'>4abut_e + h_e --> 4abut_c + h_c</p>\n",
       "                    <p style='text-align:right'>4-aminobutanoate + H+ --> 4-aminobutanoate + H+</p>\n",
       "                </td>\n",
       "            </tr><tr>\n",
       "                <td><strong>GPR</strong></td><td>UMAG_03522</td>\n",
       "            </tr><tr>\n",
       "                <td><strong>Lower bound</strong></td><td>0.0</td>\n",
       "            </tr><tr>\n",
       "                <td><strong>Upper bound</strong></td><td>1000.0</td>\n",
       "            </tr>\n",
       "        </table>\n",
       "        "
      ],
      "text/plain": [
       "<Reaction ABUTt2rL at 0x1140a1050>"
      ]
     },
     "execution_count": 376,
     "metadata": {},
     "output_type": "execute_result"
    }
   ],
   "source": [
    "model.reactions.ABUTt2rL"
   ]
  },
  {
   "cell_type": "code",
   "execution_count": 377,
   "metadata": {},
   "outputs": [
    {
     "data": {
      "text/plain": [
       "0.10831086604935555"
      ]
     },
     "execution_count": 377,
     "metadata": {},
     "output_type": "execute_result"
    }
   ],
   "source": [
    "model.add_boundary(model.metabolites.get_by_id('4abut_e'),type='exchange')\n",
    "model.reactions.EX_4abut_e.bounds = -1000, 1000\n",
    "model.optimize().f"
   ]
  },
  {
   "cell_type": "code",
   "execution_count": 378,
   "metadata": {
    "collapsed": true
   },
   "outputs": [],
   "source": [
    "model.reactions.EX_4abut_e.bounds=0,1000"
   ]
  },
  {
   "cell_type": "code",
   "execution_count": 383,
   "metadata": {},
   "outputs": [
    {
     "data": {
      "text/plain": [
       "frozenset({<Reaction TRANS__45__RXNTFS__45__2__45__XYLITOL__47____47__XYLITOL__46__17__46__ at 0x113e83910>,\n",
       "           <Reaction EX_xylt_e at 0x1141e3310>})"
      ]
     },
     "execution_count": 383,
     "metadata": {},
     "output_type": "execute_result"
    }
   ],
   "source": [
    "model.metabolites.xylt_e.reactions"
   ]
  },
  {
   "cell_type": "code",
   "execution_count": 384,
   "metadata": {},
   "outputs": [
    {
     "data": {
      "text/plain": [
       "15.424619215115312"
      ]
     },
     "execution_count": 384,
     "metadata": {},
     "output_type": "execute_result"
    }
   ],
   "source": [
    "model.reactions.EX_xylt_e.bounds = -1000, 1000\n",
    "model.optimize().f"
   ]
  },
  {
   "cell_type": "code",
   "execution_count": 385,
   "metadata": {
    "collapsed": true
   },
   "outputs": [],
   "source": [
    "model.reactions.EX_xylt_e.bounds=0,1000"
   ]
  },
  {
   "cell_type": "code",
   "execution_count": 386,
   "metadata": {},
   "outputs": [
    {
     "data": {
      "text/plain": [
       "28.5301280758596"
      ]
     },
     "execution_count": 386,
     "metadata": {},
     "output_type": "execute_result"
    }
   ],
   "source": [
    "model.add_boundary(model.metabolites.get_by_id('sucr_c'),type='exchange')\n",
    "model.reactions.EX_sucr_c.bounds = -1000, 1000\n",
    "model.optimize().f"
   ]
  },
  {
   "cell_type": "code",
   "execution_count": 387,
   "metadata": {
    "collapsed": true
   },
   "outputs": [],
   "source": [
    "model.reactions.EX_sucr_c.bounds=0,1000"
   ]
  },
  {
   "cell_type": "code",
   "execution_count": 388,
   "metadata": {},
   "outputs": [
    {
     "name": "stdout",
     "output_type": "stream",
     "text": [
      "TRANS__45__RXNTFS__45__1__45__SUC__47____47__SUC__46__9__46__: succ_e --> succ_c 0.0 1000.0\n",
      "TRANS__45__RXNTFS__45__7__45__SUC__47____47__SUC__46__9__46__: succ_e --> succ_c 0.0 1000.0\n",
      "EX_succ_e: succ_e -->  0.0 1000.0\n"
     ]
    }
   ],
   "source": [
    "for rxn in model.metabolites.succ_e.reactions:\n",
    "        print rxn,rxn.lower_bound,rxn.upper_bound"
   ]
  },
  {
   "cell_type": "code",
   "execution_count": 389,
   "metadata": {},
   "outputs": [
    {
     "data": {
      "text/plain": [
       "4.3228276683908544e-14"
      ]
     },
     "execution_count": 389,
     "metadata": {},
     "output_type": "execute_result"
    }
   ],
   "source": [
    "model.reactions.EX_succ_e.bounds = -1000, 1000\n",
    "model.optimize().f"
   ]
  },
  {
   "cell_type": "code",
   "execution_count": 390,
   "metadata": {
    "collapsed": true
   },
   "outputs": [],
   "source": [
    "model.reactions.EX_succ_e.bounds=0,1000"
   ]
  },
  {
   "cell_type": "code",
   "execution_count": 391,
   "metadata": {},
   "outputs": [
    {
     "data": {
      "text/plain": [
       "frozenset({<Reaction RXN__45__11501 at 0x113ce5950>})"
      ]
     },
     "execution_count": 391,
     "metadata": {},
     "output_type": "execute_result"
    }
   ],
   "source": [
    "model.metabolites.stys_c.reactions"
   ]
  },
  {
   "cell_type": "code",
   "execution_count": 392,
   "metadata": {},
   "outputs": [
    {
     "data": {
      "text/plain": [
       "28.53012807586"
      ]
     },
     "execution_count": 392,
     "metadata": {},
     "output_type": "execute_result"
    }
   ],
   "source": [
    "model.add_boundary(model.metabolites.get_by_id('stys_c'),type='demand')\n",
    "model.reactions.DM_stys_c.bounds = -1000, 1000\n",
    "model.optimize().f"
   ]
  },
  {
   "cell_type": "code",
   "execution_count": 393,
   "metadata": {
    "collapsed": true
   },
   "outputs": [],
   "source": [
    "model.reactions.DM_stys_c.bounds=0,1000"
   ]
  },
  {
   "cell_type": "code",
   "execution_count": 394,
   "metadata": {},
   "outputs": [
    {
     "data": {
      "text/plain": [
       "0.3608864091982009"
      ]
     },
     "execution_count": 394,
     "metadata": {},
     "output_type": "execute_result"
    }
   ],
   "source": [
    "model.add_boundary(model.metabolites.get_by_id('quin_kt_e'),type='exchange')\n",
    "model.reactions.EX_quin_kt_e.bounds = -1000, 1000\n",
    "model.optimize().f"
   ]
  },
  {
   "cell_type": "code",
   "execution_count": 395,
   "metadata": {
    "collapsed": true
   },
   "outputs": [],
   "source": [
    "model.reactions.EX_quin_kt_e.bounds=0,1000"
   ]
  },
  {
   "cell_type": "code",
   "execution_count": 396,
   "metadata": {},
   "outputs": [
    {
     "data": {
      "text/plain": [
       "5.950717070062526"
      ]
     },
     "execution_count": 396,
     "metadata": {},
     "output_type": "execute_result"
    }
   ],
   "source": [
    "model.reactions.EX_pyr_e.bounds = -1000, 1000\n",
    "model.optimize().f"
   ]
  },
  {
   "cell_type": "code",
   "execution_count": 397,
   "metadata": {
    "collapsed": true
   },
   "outputs": [],
   "source": [
    "model.reactions.EX_pyr_e.bounds=0,1000"
   ]
  },
  {
   "cell_type": "code",
   "execution_count": 398,
   "metadata": {},
   "outputs": [
    {
     "data": {
      "text/plain": [
       "frozenset({<Reaction _3__46__2__46__1__46__17__45__RXN at 0x113585750>,\n",
       "           <Reaction RXN__45__12626 at 0x113e5e6d0>,\n",
       "           <Reaction AHEXASE3 at 0x113e5e790>})"
      ]
     },
     "execution_count": 398,
     "metadata": {},
     "output_type": "execute_result"
    }
   ],
   "source": [
    "model.metabolites.acgam_c.reactions"
   ]
  },
  {
   "cell_type": "code",
   "execution_count": 399,
   "metadata": {},
   "outputs": [
    {
     "data": {
      "text/plain": [
       "-5.2093678907219356e-15"
      ]
     },
     "execution_count": 399,
     "metadata": {},
     "output_type": "execute_result"
    }
   ],
   "source": [
    "model.add_boundary(model.metabolites.get_by_id('acgam_c'),type='exchange')\n",
    "model.reactions.EX_acgam_c.bounds = -1000, 1000\n",
    "model.optimize().f"
   ]
  },
  {
   "cell_type": "code",
   "execution_count": 400,
   "metadata": {
    "collapsed": true
   },
   "outputs": [],
   "source": [
    "model.reactions.EX_acgam_c.bounds=0,1000"
   ]
  },
  {
   "cell_type": "code",
   "execution_count": 401,
   "metadata": {},
   "outputs": [
    {
     "data": {
      "text/plain": [
       "frozenset({<Reaction TRANS__45__RXNTFS__45__20 at 0x113f5f550>,\n",
       "           <Reaction EX_inost_e at 0x1141e3110>})"
      ]
     },
     "execution_count": 401,
     "metadata": {},
     "output_type": "execute_result"
    }
   ],
   "source": [
    "model.metabolites.inost_e.reactions"
   ]
  },
  {
   "cell_type": "code",
   "execution_count": 402,
   "metadata": {},
   "outputs": [
    {
     "data": {
      "text/plain": [
       "-5.2093678907219356e-15"
      ]
     },
     "execution_count": 402,
     "metadata": {},
     "output_type": "execute_result"
    }
   ],
   "source": [
    "model.reactions.EX_inost_e.bounds = -1000, 1000\n",
    "model.optimize().f"
   ]
  },
  {
   "cell_type": "code",
   "execution_count": 403,
   "metadata": {
    "collapsed": true
   },
   "outputs": [],
   "source": [
    "model.reactions.EX_inost_e.bounds=0,1000"
   ]
  },
  {
   "cell_type": "code",
   "execution_count": 404,
   "metadata": {},
   "outputs": [
    {
     "data": {
      "text/plain": [
       "0.35146234696009604"
      ]
     },
     "execution_count": 404,
     "metadata": {},
     "output_type": "execute_result"
    }
   ],
   "source": [
    "model.add_boundary(model.metabolites.get_by_id('ppa_e'),type='exchange')\n",
    "model.reactions.EX_ppa_e.bounds = -1000, 1000\n",
    "model.optimize().f"
   ]
  },
  {
   "cell_type": "code",
   "execution_count": 405,
   "metadata": {
    "collapsed": true
   },
   "outputs": [],
   "source": [
    "model.reactions.EX_ppa_e.bounds=0,1000"
   ]
  },
  {
   "cell_type": "code",
   "execution_count": 406,
   "metadata": {},
   "outputs": [
    {
     "data": {
      "text/plain": [
       "frozenset({<Reaction MLTG1ly at 0x113570c50>,\n",
       "           <Reaction AMALT1 at 0x113bbc190>,\n",
       "           <Reaction RXN0__45__5182 at 0x113efc450>})"
      ]
     },
     "execution_count": 406,
     "metadata": {},
     "output_type": "execute_result"
    }
   ],
   "source": [
    "model.metabolites.malttr_c.reactions"
   ]
  },
  {
   "cell_type": "code",
   "execution_count": 407,
   "metadata": {},
   "outputs": [
    {
     "data": {
      "text/html": [
       "\n",
       "        <table>\n",
       "            <tr>\n",
       "                <td><strong>Reaction identifier</strong></td><td>DM_malttr_c</td>\n",
       "            </tr><tr>\n",
       "                <td><strong>Name</strong></td><td>maltotriose demand</td>\n",
       "            </tr><tr>\n",
       "                <td><strong>Memory address</strong></td>\n",
       "                <td>0x011915fb10</td>\n",
       "            </tr><tr>\n",
       "                <td><strong>Stoichiometry</strong></td>\n",
       "                <td>\n",
       "                    <p style='text-align:right'>malttr_c --> </p>\n",
       "                    <p style='text-align:right'>maltotriose --> </p>\n",
       "                </td>\n",
       "            </tr><tr>\n",
       "                <td><strong>GPR</strong></td><td></td>\n",
       "            </tr><tr>\n",
       "                <td><strong>Lower bound</strong></td><td>0</td>\n",
       "            </tr><tr>\n",
       "                <td><strong>Upper bound</strong></td><td>1000.0</td>\n",
       "            </tr>\n",
       "        </table>\n",
       "        "
      ],
      "text/plain": [
       "<Reaction DM_malttr_c at 0x11915fb10>"
      ]
     },
     "execution_count": 407,
     "metadata": {},
     "output_type": "execute_result"
    }
   ],
   "source": [
    "model.add_boundary(model.metabolites.get_by_id('malttr_c'),type='demand')"
   ]
  },
  {
   "cell_type": "code",
   "execution_count": 408,
   "metadata": {},
   "outputs": [
    {
     "data": {
      "text/plain": [
       "35.43776540610921"
      ]
     },
     "execution_count": 408,
     "metadata": {},
     "output_type": "execute_result"
    }
   ],
   "source": [
    "model.reactions.DM_malttr_c.bounds = -1000, 1000\n",
    "model.optimize().f"
   ]
  },
  {
   "cell_type": "code",
   "execution_count": 409,
   "metadata": {
    "collapsed": true
   },
   "outputs": [],
   "source": [
    "model.reactions.DM_malttr_c.bounds=0,1000"
   ]
  },
  {
   "cell_type": "code",
   "execution_count": 410,
   "metadata": {},
   "outputs": [
    {
     "name": "stdout",
     "output_type": "stream",
     "text": [
      "-3.2102170918e-14\n"
     ]
    }
   ],
   "source": [
    "model.reactions.EX_val__L_e.bounds = -1000, 1000\n",
    "print model.optimize().f\n",
    "model.reactions.EX_val__L_e.bounds=0,1000"
   ]
  },
  {
   "cell_type": "code",
   "execution_count": 411,
   "metadata": {},
   "outputs": [
    {
     "name": "stdout",
     "output_type": "stream",
     "text": [
      "0.108905366028\n"
     ]
    }
   ],
   "source": [
    "model.reactions.EX_thr__L_e.bounds = -1000, 1000\n",
    "print model.optimize().f\n",
    "model.reactions.EX_thr__L_e.bounds=0,1000"
   ]
  },
  {
   "cell_type": "code",
   "execution_count": 412,
   "metadata": {},
   "outputs": [
    {
     "name": "stdout",
     "output_type": "stream",
     "text": [
      "25.6555623304\n"
     ]
    }
   ],
   "source": [
    "model.add_boundary(model.metabolites.get_by_id('srb__L_c'),type='demand')\n",
    "model.reactions.DM_srb__L_c.bounds = -1000, 1000\n",
    "print model.optimize().f\n",
    "model.reactions.DM_srb__L_c.bounds=0,1000"
   ]
  },
  {
   "cell_type": "code",
   "execution_count": 413,
   "metadata": {},
   "outputs": [
    {
     "name": "stdout",
     "output_type": "stream",
     "text": [
      "3.27974971051\n"
     ]
    }
   ],
   "source": [
    "model.reactions.EX_ser__L_e.bounds = -1000, 1000\n",
    "print model.optimize().f\n",
    "model.reactions.EX_ser__L_e.bounds=0,1000"
   ]
  },
  {
   "cell_type": "code",
   "execution_count": 414,
   "metadata": {},
   "outputs": [
    {
     "name": "stdout",
     "output_type": "stream",
     "text": [
      "6.1453496393\n"
     ]
    }
   ],
   "source": [
    "model.reactions.EX_pro__L_e.bounds = -1000, 1000\n",
    "print model.optimize().f\n",
    "model.reactions.EX_pro__L_e.bounds=0,1000"
   ]
  },
  {
   "cell_type": "code",
   "execution_count": 415,
   "metadata": {},
   "outputs": [
    {
     "name": "stdout",
     "output_type": "stream",
     "text": [
      "6.53412397981\n"
     ]
    }
   ],
   "source": [
    "model.reactions.EX_phe__L_e.bounds = -1000, 1000\n",
    "print model.optimize().f\n",
    "model.reactions.EX_phe__L_e.bounds=0,1000"
   ]
  },
  {
   "cell_type": "code",
   "execution_count": 416,
   "metadata": {},
   "outputs": [
    {
     "data": {
      "text/plain": [
       "frozenset({<Reaction TRANS__45__RXNTFS__45__33__45__L__45__ORNITHINE__47__PROTON__47____47__L__45__ORNITHINE__47__PROTON__46__39__46__ at 0x11406f290>})"
      ]
     },
     "execution_count": 416,
     "metadata": {},
     "output_type": "execute_result"
    }
   ],
   "source": [
    "model.metabolites.orn_e.reactions"
   ]
  },
  {
   "cell_type": "code",
   "execution_count": 417,
   "metadata": {},
   "outputs": [
    {
     "data": {
      "text/html": [
       "\n",
       "        <table>\n",
       "            <tr>\n",
       "                <td><strong>Reaction identifier</strong></td><td>EX_orn_e</td>\n",
       "            </tr><tr>\n",
       "                <td><strong>Name</strong></td><td>L-ornithine exchange</td>\n",
       "            </tr><tr>\n",
       "                <td><strong>Memory address</strong></td>\n",
       "                <td>0x0113e26490</td>\n",
       "            </tr><tr>\n",
       "                <td><strong>Stoichiometry</strong></td>\n",
       "                <td>\n",
       "                    <p style='text-align:right'>orn_e <=> </p>\n",
       "                    <p style='text-align:right'>L-ornithine <=> </p>\n",
       "                </td>\n",
       "            </tr><tr>\n",
       "                <td><strong>GPR</strong></td><td></td>\n",
       "            </tr><tr>\n",
       "                <td><strong>Lower bound</strong></td><td>-1000.0</td>\n",
       "            </tr><tr>\n",
       "                <td><strong>Upper bound</strong></td><td>1000.0</td>\n",
       "            </tr>\n",
       "        </table>\n",
       "        "
      ],
      "text/plain": [
       "<Reaction EX_orn_e at 0x113e26490>"
      ]
     },
     "execution_count": 417,
     "metadata": {},
     "output_type": "execute_result"
    }
   ],
   "source": [
    "model.add_boundary(model.metabolites.get_by_id('orn_e'),type='exchange')"
   ]
  },
  {
   "cell_type": "code",
   "execution_count": 418,
   "metadata": {},
   "outputs": [
    {
     "name": "stdout",
     "output_type": "stream",
     "text": [
      "0.446575502743\n"
     ]
    }
   ],
   "source": [
    "model.reactions.EX_orn_e.bounds = -1000, 1000\n",
    "print model.optimize().f\n",
    "model.reactions.EX_orn_e.bounds=0,1000"
   ]
  },
  {
   "cell_type": "code",
   "execution_count": 419,
   "metadata": {},
   "outputs": [
    {
     "name": "stdout",
     "output_type": "stream",
     "text": [
      "2.70928480259e-13\n"
     ]
    }
   ],
   "source": [
    "model.reactions.EX_mal__L_e.bounds = -1000, 1000\n",
    "print model.optimize().f\n",
    "model.reactions.EX_mal__L_e.bounds=0,1000"
   ]
  },
  {
   "cell_type": "code",
   "execution_count": 420,
   "metadata": {},
   "outputs": [
    {
     "name": "stdout",
     "output_type": "stream",
     "text": [
      "0.437070005066\n"
     ]
    }
   ],
   "source": [
    "model.reactions.EX_lys__L_e.bounds = -1000, 1000\n",
    "print model.optimize().f\n",
    "model.reactions.EX_lys__L_e.bounds=0,1000"
   ]
  },
  {
   "cell_type": "code",
   "execution_count": 421,
   "metadata": {},
   "outputs": [
    {
     "name": "stdout",
     "output_type": "stream",
     "text": [
      "2.15132158117\n"
     ]
    }
   ],
   "source": [
    "model.reactions.EX_leu__L_e.bounds = -1000, 1000\n",
    "print model.optimize().f\n",
    "model.reactions.EX_leu__L_e.bounds=0,1000"
   ]
  },
  {
   "cell_type": "code",
   "execution_count": 422,
   "metadata": {},
   "outputs": [
    {
     "data": {
      "text/plain": [
       "frozenset({<Reaction TRANS__45__RXNTFS__45__7__45__L__45__LACTATE__47____47__L__45__LACTATE__46__21__46__ at 0x113eaa850>,\n",
       "           <Reaction TRANS__45__RXNTFS__45__1__45__L__45__LACTATE__47____47__L__45__LACTATE__46__21__46__ at 0x113fc9690>})"
      ]
     },
     "execution_count": 422,
     "metadata": {},
     "output_type": "execute_result"
    }
   ],
   "source": [
    "model.metabolites.lac__L_e.reactions"
   ]
  },
  {
   "cell_type": "code",
   "execution_count": 423,
   "metadata": {},
   "outputs": [
    {
     "data": {
      "text/html": [
       "\n",
       "        <table>\n",
       "            <tr>\n",
       "                <td><strong>Reaction identifier</strong></td><td>EX_lac__L_e</td>\n",
       "            </tr><tr>\n",
       "                <td><strong>Name</strong></td><td>(S)-lactate exchange</td>\n",
       "            </tr><tr>\n",
       "                <td><strong>Memory address</strong></td>\n",
       "                <td>0x01137ef350</td>\n",
       "            </tr><tr>\n",
       "                <td><strong>Stoichiometry</strong></td>\n",
       "                <td>\n",
       "                    <p style='text-align:right'>lac__L_e <=> </p>\n",
       "                    <p style='text-align:right'>(S)-lactate <=> </p>\n",
       "                </td>\n",
       "            </tr><tr>\n",
       "                <td><strong>GPR</strong></td><td></td>\n",
       "            </tr><tr>\n",
       "                <td><strong>Lower bound</strong></td><td>-1000.0</td>\n",
       "            </tr><tr>\n",
       "                <td><strong>Upper bound</strong></td><td>1000.0</td>\n",
       "            </tr>\n",
       "        </table>\n",
       "        "
      ],
      "text/plain": [
       "<Reaction EX_lac__L_e at 0x1137ef350>"
      ]
     },
     "execution_count": 423,
     "metadata": {},
     "output_type": "execute_result"
    }
   ],
   "source": [
    "model.add_boundary(model.metabolites.get_by_id('lac__L_e'),type='exchange')"
   ]
  },
  {
   "cell_type": "code",
   "execution_count": 424,
   "metadata": {},
   "outputs": [
    {
     "name": "stdout",
     "output_type": "stream",
     "text": [
      "2.63864618678e-14\n"
     ]
    }
   ],
   "source": [
    "model.reactions.EX_lac__L_e.bounds = -1000, 1000\n",
    "print model.optimize().f\n",
    "model.reactions.EX_lac__L_e.bounds=0,1000"
   ]
  },
  {
   "cell_type": "code",
   "execution_count": 425,
   "metadata": {},
   "outputs": [
    {
     "name": "stdout",
     "output_type": "stream",
     "text": [
      "2.39061971245e-14\n"
     ]
    }
   ],
   "source": [
    "model.reactions.EX_ile__L_e.bounds = -1000, 1000\n",
    "print model.optimize().f\n",
    "model.reactions.EX_ile__L_e.bounds=0,1000"
   ]
  },
  {
   "cell_type": "code",
   "execution_count": 426,
   "metadata": {},
   "outputs": [
    {
     "data": {
      "text/plain": [
       "frozenset({<Reaction TRANS__45__RXNTFS__45__33__45__HOMO__45__SER__47__PROTON__47____47__HOMO__45__SER__47__PROTON__46__33__46__ at 0x11406fd10>})"
      ]
     },
     "execution_count": 426,
     "metadata": {},
     "output_type": "execute_result"
    }
   ],
   "source": [
    "model.metabolites.hom__L_e.reactions"
   ]
  },
  {
   "cell_type": "code",
   "execution_count": 427,
   "metadata": {},
   "outputs": [
    {
     "data": {
      "text/html": [
       "\n",
       "        <table>\n",
       "            <tr>\n",
       "                <td><strong>Reaction identifier</strong></td><td>EX_hom__L_e</td>\n",
       "            </tr><tr>\n",
       "                <td><strong>Name</strong></td><td>L-homoserine exchange</td>\n",
       "            </tr><tr>\n",
       "                <td><strong>Memory address</strong></td>\n",
       "                <td>0x011915f5d0</td>\n",
       "            </tr><tr>\n",
       "                <td><strong>Stoichiometry</strong></td>\n",
       "                <td>\n",
       "                    <p style='text-align:right'>hom__L_e <=> </p>\n",
       "                    <p style='text-align:right'>L-homoserine <=> </p>\n",
       "                </td>\n",
       "            </tr><tr>\n",
       "                <td><strong>GPR</strong></td><td></td>\n",
       "            </tr><tr>\n",
       "                <td><strong>Lower bound</strong></td><td>-1000.0</td>\n",
       "            </tr><tr>\n",
       "                <td><strong>Upper bound</strong></td><td>1000.0</td>\n",
       "            </tr>\n",
       "        </table>\n",
       "        "
      ],
      "text/plain": [
       "<Reaction EX_hom__L_e at 0x11915f5d0>"
      ]
     },
     "execution_count": 427,
     "metadata": {},
     "output_type": "execute_result"
    }
   ],
   "source": [
    "model.add_boundary(model.metabolites.get_by_id('hom__L_e'),type='exchange')"
   ]
  },
  {
   "cell_type": "code",
   "execution_count": 428,
   "metadata": {},
   "outputs": [
    {
     "name": "stdout",
     "output_type": "stream",
     "text": [
      "0.109100224266\n"
     ]
    }
   ],
   "source": [
    "model.reactions.EX_hom__L_e.bounds = -1000, 1000\n",
    "print model.optimize().f\n",
    "model.reactions.EX_hom__L_e.bounds=0,1000"
   ]
  },
  {
   "cell_type": "code",
   "execution_count": 429,
   "metadata": {},
   "outputs": [
    {
     "name": "stdout",
     "output_type": "stream",
     "text": [
      "-7.80708416775e-15\n"
     ]
    }
   ],
   "source": [
    "model.reactions.EX_his__L_e.bounds = -1000, 1000\n",
    "print model.optimize().f\n",
    "model.reactions.EX_his__L_e.bounds=0,1000"
   ]
  },
  {
   "cell_type": "code",
   "execution_count": 430,
   "metadata": {},
   "outputs": [
    {
     "name": "stdout",
     "output_type": "stream",
     "text": [
      "0.446575502744\n"
     ]
    }
   ],
   "source": [
    "model.reactions.EX_gln__L_e.bounds = -1000, 1000\n",
    "print model.optimize().f\n",
    "model.reactions.EX_gln__L_e.bounds=0,1000"
   ]
  },
  {
   "cell_type": "code",
   "execution_count": 431,
   "metadata": {},
   "outputs": [
    {
     "data": {
      "text/html": [
       "\n",
       "        <table>\n",
       "            <tr>\n",
       "                <td><strong>Reaction identifier</strong></td><td>EX_glu__L_e</td>\n",
       "            </tr><tr>\n",
       "                <td><strong>Name</strong></td><td>L-glutamate exchange</td>\n",
       "            </tr><tr>\n",
       "                <td><strong>Memory address</strong></td>\n",
       "                <td>0x01133a5cd0</td>\n",
       "            </tr><tr>\n",
       "                <td><strong>Stoichiometry</strong></td>\n",
       "                <td>\n",
       "                    <p style='text-align:right'>glu__L_e <=> </p>\n",
       "                    <p style='text-align:right'>L-glutamate <=> </p>\n",
       "                </td>\n",
       "            </tr><tr>\n",
       "                <td><strong>GPR</strong></td><td></td>\n",
       "            </tr><tr>\n",
       "                <td><strong>Lower bound</strong></td><td>-1000.0</td>\n",
       "            </tr><tr>\n",
       "                <td><strong>Upper bound</strong></td><td>1000.0</td>\n",
       "            </tr>\n",
       "        </table>\n",
       "        "
      ],
      "text/plain": [
       "<Reaction EX_glu__L_e at 0x1133a5cd0>"
      ]
     },
     "execution_count": 431,
     "metadata": {},
     "output_type": "execute_result"
    }
   ],
   "source": [
    "model.add_boundary(model.metabolites.get_by_id('glu__L_e'),type='exchange')"
   ]
  },
  {
   "cell_type": "code",
   "execution_count": 432,
   "metadata": {},
   "outputs": [
    {
     "name": "stdout",
     "output_type": "stream",
     "text": [
      "1.94774310137\n"
     ]
    }
   ],
   "source": [
    "model.reactions.EX_glu__L_e.bounds = -1000, 1000\n",
    "print model.optimize().f\n",
    "model.reactions.EX_glu__L_e.bounds=0,1000"
   ]
  },
  {
   "cell_type": "code",
   "execution_count": 433,
   "metadata": {},
   "outputs": [
    {
     "data": {
      "text/plain": [
       "frozenset({<Reaction RXN__45__11153 at 0x1135999d0>,\n",
       "           <Reaction RXN__45__11152 at 0x113599a90>})"
      ]
     },
     "execution_count": 433,
     "metadata": {},
     "output_type": "execute_result"
    }
   ],
   "source": [
    "model.metabolites.CPD__45__330_c.reactions"
   ]
  },
  {
   "cell_type": "code",
   "execution_count": 434,
   "metadata": {},
   "outputs": [
    {
     "data": {
      "text/html": [
       "\n",
       "        <table>\n",
       "            <tr>\n",
       "                <td><strong>Reaction identifier</strong></td><td>EX_CPD__45__330_c</td>\n",
       "            </tr><tr>\n",
       "                <td><strong>Name</strong></td><td>L-galactono-1,4-lactone exchange</td>\n",
       "            </tr><tr>\n",
       "                <td><strong>Memory address</strong></td>\n",
       "                <td>0x0113ba9ed0</td>\n",
       "            </tr><tr>\n",
       "                <td><strong>Stoichiometry</strong></td>\n",
       "                <td>\n",
       "                    <p style='text-align:right'>CPD__45__330_c <=> </p>\n",
       "                    <p style='text-align:right'>L-galactono-1,4-lactone <=> </p>\n",
       "                </td>\n",
       "            </tr><tr>\n",
       "                <td><strong>GPR</strong></td><td></td>\n",
       "            </tr><tr>\n",
       "                <td><strong>Lower bound</strong></td><td>-1000.0</td>\n",
       "            </tr><tr>\n",
       "                <td><strong>Upper bound</strong></td><td>1000.0</td>\n",
       "            </tr>\n",
       "        </table>\n",
       "        "
      ],
      "text/plain": [
       "<Reaction EX_CPD__45__330_c at 0x113ba9ed0>"
      ]
     },
     "execution_count": 434,
     "metadata": {},
     "output_type": "execute_result"
    }
   ],
   "source": [
    "model.add_boundary(model.metabolites.get_by_id('CPD__45__330_c'),type='exchange')"
   ]
  },
  {
   "cell_type": "code",
   "execution_count": 435,
   "metadata": {},
   "outputs": [
    {
     "name": "stdout",
     "output_type": "stream",
     "text": [
      "-7.84679891664e-14\n"
     ]
    }
   ],
   "source": [
    "model.reactions.EX_CPD__45__330_c.bounds = -1000, 1000\n",
    "print model.optimize().f\n",
    "model.reactions.EX_CPD__45__330_c.bounds=0,1000"
   ]
  },
  {
   "cell_type": "code",
   "execution_count": 436,
   "metadata": {},
   "outputs": [
    {
     "data": {
      "text/plain": [
       "frozenset({<Reaction ER at 0x1141e3a50>,\n",
       "           <Reaction DM_erythol_c at 0x1141e3a90>,\n",
       "           <Reaction EMT1 at 0x1141e3b10>})"
      ]
     },
     "execution_count": 436,
     "metadata": {},
     "output_type": "execute_result"
    }
   ],
   "source": [
    "model.metabolites.erythol_c.reactions"
   ]
  },
  {
   "cell_type": "code",
   "execution_count": 437,
   "metadata": {},
   "outputs": [
    {
     "name": "stdout",
     "output_type": "stream",
     "text": [
      "-7.84679891664e-14\n"
     ]
    }
   ],
   "source": [
    "model.reactions.DM_erythol_c.bounds = -1000, 1000\n",
    "print model.optimize().f\n",
    "model.reactions.DM_erythol_c.bounds=0,1000"
   ]
  },
  {
   "cell_type": "code",
   "execution_count": 438,
   "metadata": {},
   "outputs": [
    {
     "name": "stdout",
     "output_type": "stream",
     "text": [
      "-7.84679891664e-14\n"
     ]
    }
   ],
   "source": [
    "model.reactions.EX_asn__L_e.bounds = -1000, 1000\n",
    "print model.optimize().f\n",
    "model.reactions.EX_asn__L_e.bounds=0,1000"
   ]
  },
  {
   "cell_type": "code",
   "execution_count": 439,
   "metadata": {},
   "outputs": [
    {
     "data": {
      "text/plain": [
       "frozenset({<Reaction TRANS__45__RXNTFS__45__2__45__L__45__ARABITOL__47____47__L__45__ARABITOL__46__23__46__ at 0x113e83a10>})"
      ]
     },
     "execution_count": 439,
     "metadata": {},
     "output_type": "execute_result"
    }
   ],
   "source": [
    "model.metabolites.abt_e.reactions"
   ]
  },
  {
   "cell_type": "code",
   "execution_count": 440,
   "metadata": {},
   "outputs": [
    {
     "name": "stdout",
     "output_type": "stream",
     "text": [
      "15.4246192151\n"
     ]
    }
   ],
   "source": [
    "model.add_boundary(model.metabolites.get_by_id('abt_e'),type='exchange')\n",
    "model.reactions.EX_abt_e.bounds = -1000, 1000\n",
    "print model.optimize().f\n",
    "model.reactions.EX_abt_e.bounds=0,1000"
   ]
  },
  {
   "cell_type": "code",
   "execution_count": 441,
   "metadata": {},
   "outputs": [
    {
     "data": {
      "text/plain": [
       "frozenset({<Reaction ARABR at 0x113570390>,\n",
       "           <Reaction RXN__45__14809 at 0x1135851d0>,\n",
       "           <Reaction RXN__45__14808 at 0x113585b90>,\n",
       "           <Reaction EX_arab__L_c at 0x119152f50>})"
      ]
     },
     "execution_count": 441,
     "metadata": {},
     "output_type": "execute_result"
    }
   ],
   "source": [
    "model.metabolites.arab__L_c.reactions"
   ]
  },
  {
   "cell_type": "code",
   "execution_count": 442,
   "metadata": {},
   "outputs": [
    {
     "name": "stdout",
     "output_type": "stream",
     "text": [
      "20.5711220869\n"
     ]
    }
   ],
   "source": [
    "model.add_boundary(model.metabolites.get_by_id('arab__L_c'),type='demand')\n",
    "model.reactions.DM_arab__L_c.bounds = -1000, 1000\n",
    "print model.optimize().f\n",
    "model.reactions.DM_arab__L_c.bounds=0,1000"
   ]
  },
  {
   "cell_type": "code",
   "execution_count": 443,
   "metadata": {},
   "outputs": [
    {
     "name": "stdout",
     "output_type": "stream",
     "text": [
      "3.2520405032\n"
     ]
    }
   ],
   "source": [
    "model.reactions.EX_ala__L_e.bounds = -1000, 1000\n",
    "print model.optimize().f\n",
    "model.reactions.EX_ala__L_e.bounds=0,1000"
   ]
  },
  {
   "cell_type": "code",
   "execution_count": 444,
   "metadata": {},
   "outputs": [
    {
     "data": {
      "text/plain": [
       "frozenset({<Reaction TRANS__45__RXNTFS__45__16__45__GLY__47__PROTON__47____47__GLY__47__PROTON__46__23__46__ at 0x113f3ec90>,\n",
       "           <Reaction TRANS__45__RXNTFS__45__26__45__GLY__47____47__GLY__46__9__46__ at 0x113f86ed0>,\n",
       "           <Reaction TRANS__45__RXNTFS__45__33__45__GLY__47__PROTON__47____47__GLY__47__PROTON__46__23__46__ at 0x114039950>,\n",
       "           <Reaction EX_gly_e at 0x1141e3650>})"
      ]
     },
     "execution_count": 444,
     "metadata": {},
     "output_type": "execute_result"
    }
   ],
   "source": [
    "model.metabolites.gly_e.reactions"
   ]
  },
  {
   "cell_type": "code",
   "execution_count": 445,
   "metadata": {},
   "outputs": [
    {
     "name": "stdout",
     "output_type": "stream",
     "text": [
      "9.79090110283e-15\n"
     ]
    }
   ],
   "source": [
    "model.reactions.EX_gly_e.bounds = -1000, 1000\n",
    "print model.optimize().f\n",
    "model.reactions.EX_gly_e.bounds=0,1000"
   ]
  },
  {
   "cell_type": "code",
   "execution_count": 446,
   "metadata": {},
   "outputs": [
    {
     "data": {
      "text/plain": [
       "frozenset({<Reaction TRANS__45__RXNTFS__45__2__45__GLYCEROL__47____47__GLYCEROL__46__19__46__ at 0x113e83210>,\n",
       "           <Reaction TRANS__45__RXNTFS__45__39 at 0x1140c5e50>,\n",
       "           <Reaction EX_glyc_e at 0x1141e32d0>})"
      ]
     },
     "execution_count": 446,
     "metadata": {},
     "output_type": "execute_result"
    }
   ],
   "source": [
    "model.metabolites.glyc_e.reactions"
   ]
  },
  {
   "cell_type": "code",
   "execution_count": 447,
   "metadata": {},
   "outputs": [
    {
     "name": "stdout",
     "output_type": "stream",
     "text": [
      "12.9568821538\n"
     ]
    }
   ],
   "source": [
    "model.reactions.EX_glyc_e.bounds = -1000, 1000\n",
    "print model.optimize().f\n",
    "model.reactions.EX_glyc_e.bounds=0,1000"
   ]
  },
  {
   "cell_type": "markdown",
   "metadata": {},
   "source": [
    "# Carbon Sources U. maydis should not be able to grow on!"
   ]
  },
  {
   "cell_type": "code",
   "execution_count": 451,
   "metadata": {},
   "outputs": [
    {
     "name": "stdout",
     "output_type": "stream",
     "text": [
      "Maximize\n",
      "-1.0*BIOMASS_REACTION_reverse_42726 + 1.0*BIOMASS_REACTION\n"
     ]
    }
   ],
   "source": [
    "print model.objective"
   ]
  },
  {
   "cell_type": "code",
   "execution_count": 452,
   "metadata": {},
   "outputs": [],
   "source": [
    "model.reactions.EX_nac_e.bounds = 0, 10"
   ]
  },
  {
   "cell_type": "code",
   "execution_count": 453,
   "metadata": {},
   "outputs": [
    {
     "data": {
      "text/plain": [
       "4.9171719234846555e-14"
      ]
     },
     "execution_count": 453,
     "metadata": {},
     "output_type": "execute_result"
    }
   ],
   "source": [
    "model.optimize().f"
   ]
  },
  {
   "cell_type": "code",
   "execution_count": 454,
   "metadata": {},
   "outputs": [
    {
     "data": {
      "text/html": [
       "\n",
       "        <table>\n",
       "            <tr>\n",
       "                <td><strong>Reaction identifier</strong></td><td>EX_nac_e</td>\n",
       "            </tr><tr>\n",
       "                <td><strong>Name</strong></td><td>Nicotinic acid exchange</td>\n",
       "            </tr><tr>\n",
       "                <td><strong>Memory address</strong></td>\n",
       "                <td>0x01141e3090</td>\n",
       "            </tr><tr>\n",
       "                <td><strong>Stoichiometry</strong></td>\n",
       "                <td>\n",
       "                    <p style='text-align:right'>nac_e --> </p>\n",
       "                    <p style='text-align:right'>nicotinate --> </p>\n",
       "                </td>\n",
       "            </tr><tr>\n",
       "                <td><strong>GPR</strong></td><td></td>\n",
       "            </tr><tr>\n",
       "                <td><strong>Lower bound</strong></td><td>0</td>\n",
       "            </tr><tr>\n",
       "                <td><strong>Upper bound</strong></td><td>10</td>\n",
       "            </tr>\n",
       "        </table>\n",
       "        "
      ],
      "text/plain": [
       "<Reaction EX_nac_e at 0x1141e3090>"
      ]
     },
     "execution_count": 454,
     "metadata": {},
     "output_type": "execute_result"
    }
   ],
   "source": [
    "model.reactions.EX_nac_e"
   ]
  },
  {
   "cell_type": "code",
   "execution_count": 455,
   "metadata": {
    "collapsed": true
   },
   "outputs": [],
   "source": [
    "model.reactions.EX_glc__D_e.bounds=0,1000"
   ]
  },
  {
   "cell_type": "code",
   "execution_count": 456,
   "metadata": {},
   "outputs": [
    {
     "data": {
      "text/plain": [
       "4.9171719234846555e-14"
      ]
     },
     "execution_count": 456,
     "metadata": {},
     "output_type": "execute_result"
    }
   ],
   "source": [
    "model.optimize().f"
   ]
  },
  {
   "cell_type": "code",
   "execution_count": 458,
   "metadata": {},
   "outputs": [
    {
     "name": "stdout",
     "output_type": "stream",
     "text": [
      "EX_o2_e: o2_e <=>  -1000.0 1000.0 -5.0\n",
      "EX_co2_e: co2_e <=>  -1000.0 1000.0 -3.52626675718e-12\n",
      "EX_nh4_e: nh4_e <=>  -1000.0 1000.0 -10.0\n",
      "EX_pi_e: pi_e <=>  -1000.0 1000.0 4.9983158425e-13\n",
      "EX_so4_e: so4_e <=>  -1000.0 1000.0 1.65783302827e-13\n",
      "EX_h2o_e: h2o_e <=>  -1000.0 1000.0 15.0\n",
      "EX_na1_e: na1_e <=>  -1000.0 1000.0 3.71959252812e-13\n",
      "EX_nac_e: nac_e -->  0 10 -1.45661260831e-13\n",
      "EX_fum_e: fum_e -->  0 1000 -1.51736245209e-13\n",
      "EX_arg__L_e: arg__L_e -->  0.0 1000.0 5.86451437775e-14\n",
      "EX_asn__L_e: asn__L_e -->  0 1000 5.0\n",
      "EX_his__L_e: his__L_e -->  0 1000 -2.21362845581e-13\n",
      "EX_ac_e: ac_e <=>  -10 1000 -10.0\n"
     ]
    }
   ],
   "source": [
    "for rxn in model.reactions:\n",
    "    if (rxn.id.startswith('EX_') or rxn.id.startswith('DM_')) and abs(rxn.flux)>0:\n",
    "        print rxn,rxn.lower_bound,rxn.upper_bound,rxn.flux"
   ]
  },
  {
   "cell_type": "code",
   "execution_count": 460,
   "metadata": {
    "collapsed": true
   },
   "outputs": [],
   "source": [
    "model.reactions.EX_ac_e.bounds = 0, 1000"
   ]
  },
  {
   "cell_type": "code",
   "execution_count": 461,
   "metadata": {},
   "outputs": [
    {
     "data": {
      "text/plain": [
       "frozenset({<Reaction LCARR at 0x113e26790>})"
      ]
     },
     "execution_count": 461,
     "metadata": {},
     "output_type": "execute_result"
    }
   ],
   "source": [
    "model.metabolites.get_by_id('12ppd__R_c').reactions"
   ]
  },
  {
   "cell_type": "code",
   "execution_count": 462,
   "metadata": {},
   "outputs": [
    {
     "data": {
      "text/html": [
       "\n",
       "        <table>\n",
       "            <tr>\n",
       "                <td><strong>Reaction identifier</strong></td><td>DM_12ppd__R_c</td>\n",
       "            </tr><tr>\n",
       "                <td><strong>Name</strong></td><td>(R)-propane-1,2-diol demand</td>\n",
       "            </tr><tr>\n",
       "                <td><strong>Memory address</strong></td>\n",
       "                <td>0x01137e3d50</td>\n",
       "            </tr><tr>\n",
       "                <td><strong>Stoichiometry</strong></td>\n",
       "                <td>\n",
       "                    <p style='text-align:right'>12ppd__R_c --> </p>\n",
       "                    <p style='text-align:right'>(R)-propane-1,2-diol --> </p>\n",
       "                </td>\n",
       "            </tr><tr>\n",
       "                <td><strong>GPR</strong></td><td></td>\n",
       "            </tr><tr>\n",
       "                <td><strong>Lower bound</strong></td><td>0</td>\n",
       "            </tr><tr>\n",
       "                <td><strong>Upper bound</strong></td><td>1000.0</td>\n",
       "            </tr>\n",
       "        </table>\n",
       "        "
      ],
      "text/plain": [
       "<Reaction DM_12ppd__R_c at 0x1137e3d50>"
      ]
     },
     "execution_count": 462,
     "metadata": {},
     "output_type": "execute_result"
    }
   ],
   "source": [
    "model.add_boundary(model.metabolites.get_by_id('12ppd__R_c'),type='demand')"
   ]
  },
  {
   "cell_type": "code",
   "execution_count": 463,
   "metadata": {},
   "outputs": [],
   "source": [
    "model.reactions.DM_12ppd__R_c.bounds = -1000, 1000"
   ]
  },
  {
   "cell_type": "code",
   "execution_count": 464,
   "metadata": {},
   "outputs": [
    {
     "data": {
      "text/plain": [
       "9.277100583309798"
      ]
     },
     "execution_count": 464,
     "metadata": {},
     "output_type": "execute_result"
    }
   ],
   "source": [
    "model.optimize().f"
   ]
  },
  {
   "cell_type": "code",
   "execution_count": 465,
   "metadata": {
    "collapsed": true
   },
   "outputs": [],
   "source": [
    "model.reactions.DM_12ppd__R_c.bounds=0,1000"
   ]
  },
  {
   "cell_type": "code",
   "execution_count": 466,
   "metadata": {},
   "outputs": [
    {
     "data": {
      "text/plain": [
       "-7.157255609071358e-15"
      ]
     },
     "execution_count": 466,
     "metadata": {},
     "output_type": "execute_result"
    }
   ],
   "source": [
    "model.optimize().f"
   ]
  },
  {
   "cell_type": "code",
   "execution_count": 467,
   "metadata": {},
   "outputs": [
    {
     "data": {
      "text/plain": [
       "frozenset({<Reaction TRANS__45__RXNTFS__45__14__45__DEOXYADENOSINE__47__PROTON__47____47__DEOXYADENOSINE__47__PROTON__46__45__46__ at 0x113f3e450>,\n",
       "           <Reaction TRANS__45__RXNTFS__45__24__45__NA__43____47__DEOXYADENOSINE__47____47__NA__43____47__DEOXYADENOSINE__46__39__46__ at 0x113f86310>,\n",
       "           <Reaction TRANS__45__RXNTFS__45__27__45__DEOXYADENOSINE__47____47__DEOXYADENOSINE__46__31__46__ at 0x113fa4b50>,\n",
       "           <Reaction TRANS__45__RXN0__45__468__45__DEOXYADENOSINE__47____47__DEOXYADENOSINE__46__31__46__ at 0x113fb1890>,\n",
       "           <Reaction TRANS__45__RXNTFS__45__46__45__CYTOSINE__47__DEOXYADENOSINE__47____47__CYTOSINE__47__DEOXYADENOSINE__46__49__46__ at 0x114178250>})"
      ]
     },
     "execution_count": 467,
     "metadata": {},
     "output_type": "execute_result"
    }
   ],
   "source": [
    "model.metabolites.dad_2_e.reactions"
   ]
  },
  {
   "cell_type": "code",
   "execution_count": 468,
   "metadata": {},
   "outputs": [
    {
     "data": {
      "text/html": [
       "\n",
       "        <table>\n",
       "            <tr>\n",
       "                <td><strong>Reaction identifier</strong></td><td>EX_dad_2_e</td>\n",
       "            </tr><tr>\n",
       "                <td><strong>Name</strong></td><td>2'-deoxyadenosine exchange</td>\n",
       "            </tr><tr>\n",
       "                <td><strong>Memory address</strong></td>\n",
       "                <td>0x01137e3990</td>\n",
       "            </tr><tr>\n",
       "                <td><strong>Stoichiometry</strong></td>\n",
       "                <td>\n",
       "                    <p style='text-align:right'>dad_2_e <=> </p>\n",
       "                    <p style='text-align:right'>2'-deoxyadenosine <=> </p>\n",
       "                </td>\n",
       "            </tr><tr>\n",
       "                <td><strong>GPR</strong></td><td></td>\n",
       "            </tr><tr>\n",
       "                <td><strong>Lower bound</strong></td><td>-1000.0</td>\n",
       "            </tr><tr>\n",
       "                <td><strong>Upper bound</strong></td><td>1000.0</td>\n",
       "            </tr>\n",
       "        </table>\n",
       "        "
      ],
      "text/plain": [
       "<Reaction EX_dad_2_e at 0x1137e3990>"
      ]
     },
     "execution_count": 468,
     "metadata": {},
     "output_type": "execute_result"
    }
   ],
   "source": [
    "model.add_boundary(model.metabolites.get_by_id('dad_2_e'),type='exchange')"
   ]
  },
  {
   "cell_type": "code",
   "execution_count": 469,
   "metadata": {},
   "outputs": [
    {
     "name": "stdout",
     "output_type": "stream",
     "text": [
      "7.58207573327e-14\n"
     ]
    }
   ],
   "source": [
    "model.reactions.EX_dad_2_e.bounds = -1000, 1000\n",
    "print model.optimize().f\n",
    "model.reactions.EX_dad_2_e.bounds=0,1000"
   ]
  },
  {
   "cell_type": "code",
   "execution_count": 470,
   "metadata": {},
   "outputs": [
    {
     "data": {
      "text/plain": [
       "frozenset({<Reaction TRANS__45__RXNTFS__45__2__45__2__45__DEOXYRIBOSE__47____47__2__45__DEOXYRIBOSE__46__29__46__ at 0x113e6f7d0>,\n",
       "           <Reaction TRANS__45__RXNTFS__45__32__45__2__45__DEOXYRIBOSE__47____47__2__45__DEOXYRIBOSE__46__29__46__ at 0x1140290d0>})"
      ]
     },
     "execution_count": 470,
     "metadata": {},
     "output_type": "execute_result"
    }
   ],
   "source": [
    "model.metabolites.drib_e.reactions"
   ]
  },
  {
   "cell_type": "code",
   "execution_count": 471,
   "metadata": {},
   "outputs": [
    {
     "name": "stdout",
     "output_type": "stream",
     "text": [
      "26.2994351669\n"
     ]
    }
   ],
   "source": [
    "model.add_boundary(model.metabolites.get_by_id('drib_e'),type='exchange')\n",
    "model.reactions.EX_drib_e.bounds = -1000, 1000\n",
    "print model.optimize().f\n",
    "model.reactions.EX_drib_e.bounds=0,1000"
   ]
  },
  {
   "cell_type": "code",
   "execution_count": 472,
   "metadata": {},
   "outputs": [
    {
     "data": {
      "text/plain": [
       "frozenset({<Reaction ACTD at 0x113a77610>})"
      ]
     },
     "execution_count": 472,
     "metadata": {},
     "output_type": "execute_result"
    }
   ],
   "source": [
    "model.metabolites.actn__R_c.reactions"
   ]
  },
  {
   "cell_type": "code",
   "execution_count": 473,
   "metadata": {},
   "outputs": [
    {
     "name": "stdout",
     "output_type": "stream",
     "text": [
      "5.17202850673e-14\n"
     ]
    }
   ],
   "source": [
    "model.add_boundary(model.metabolites.get_by_id('actn__R_c'),type='demand')\n",
    "model.reactions.DM_actn__R_c.bounds = -1000, 1000\n",
    "print model.optimize().f\n",
    "model.reactions.DM_actn__R_c.bounds=0,1000"
   ]
  },
  {
   "cell_type": "code",
   "execution_count": 474,
   "metadata": {},
   "outputs": [
    {
     "data": {
      "text/plain": [
       "frozenset({<Reaction RXN__45__14728 at 0x1132b78d0>})"
      ]
     },
     "execution_count": 474,
     "metadata": {},
     "output_type": "execute_result"
    }
   ],
   "source": [
    "model.metabolites.ad_c.reactions"
   ]
  },
  {
   "cell_type": "code",
   "execution_count": 475,
   "metadata": {},
   "outputs": [
    {
     "name": "stdout",
     "output_type": "stream",
     "text": [
      "1.16309835495e-15\n"
     ]
    }
   ],
   "source": [
    "model.add_boundary(model.metabolites.get_by_id('ad_c'),type='demand')\n",
    "model.reactions.DM_ad_c.bounds = -1000, 1000\n",
    "print model.optimize().f\n",
    "model.reactions.DM_ad_c.bounds=0,1000"
   ]
  },
  {
   "cell_type": "code",
   "execution_count": 476,
   "metadata": {},
   "outputs": [
    {
     "data": {
      "text/plain": [
       "frozenset({<Reaction OCOAT1m at 0x113422950>,\n",
       "           <Reaction FUMAC at 0x113538310>,\n",
       "           <Reaction HMGLx at 0x113e026d0>,\n",
       "           <Reaction AACOAT at 0x114157bd0>})"
      ]
     },
     "execution_count": 476,
     "metadata": {},
     "output_type": "execute_result"
    }
   ],
   "source": [
    "model.metabolites.acac_c.reactions"
   ]
  },
  {
   "cell_type": "code",
   "execution_count": 477,
   "metadata": {},
   "outputs": [
    {
     "name": "stdout",
     "output_type": "stream",
     "text": [
      "3.4663348173\n"
     ]
    }
   ],
   "source": [
    "model.add_boundary(model.metabolites.get_by_id('acac_c'),type='demand')\n",
    "model.reactions.DM_acac_c.bounds = -1000, 1000\n",
    "print model.optimize().f\n",
    "model.reactions.DM_acac_c.bounds=0,1000"
   ]
  },
  {
   "cell_type": "code",
   "execution_count": 480,
   "metadata": {},
   "outputs": [],
   "source": [
    "model.reactions.EX_glc__D_e.bounds= -10, 1000"
   ]
  },
  {
   "cell_type": "code",
   "execution_count": 481,
   "metadata": {},
   "outputs": [
    {
     "data": {
      "text/plain": [
       "0.49398438169568304"
      ]
     },
     "execution_count": 481,
     "metadata": {},
     "output_type": "execute_result"
    }
   ],
   "source": [
    "model.optimize().f"
   ]
  },
  {
   "cell_type": "code",
   "execution_count": 482,
   "metadata": {
    "collapsed": true
   },
   "outputs": [],
   "source": [
    "model.reactions.EX_glc__D_e.bounds=0,1000"
   ]
  },
  {
   "cell_type": "code",
   "execution_count": 490,
   "metadata": {},
   "outputs": [],
   "source": [
    "model.reactions.EX_nac_e.bounds=0,0"
   ]
  },
  {
   "cell_type": "code",
   "execution_count": 491,
   "metadata": {},
   "outputs": [
    {
     "data": {
      "text/plain": [
       "-7.776117491218603e-14"
      ]
     },
     "execution_count": 491,
     "metadata": {},
     "output_type": "execute_result"
    }
   ],
   "source": [
    "model.optimize().f"
   ]
  },
  {
   "cell_type": "code",
   "execution_count": 492,
   "metadata": {},
   "outputs": [
    {
     "data": {
      "text/plain": [
       "frozenset({<Reaction NTD7pp at 0x11333d4d0>,\n",
       "           <Reaction RXN__45__7001__45__ADENOSINE__47__ARSENATE__47____47__ADENINE__47__RIBOSE__45__1__45__ARSENATE__46__46__46__ at 0x113af6b90>,\n",
       "           <Reaction PUNP1m at 0x113b0d250>,\n",
       "           <Reaction AHCi at 0x113b42050>,\n",
       "           <Reaction ADENODEAMIN__45__RXN at 0x113bcfa10>,\n",
       "           <Reaction ADNUC at 0x113d31e10>,\n",
       "           <Reaction ADNK1m at 0x113d44510>,\n",
       "           <Reaction TRANS__45__RXNTFS__45__14__45__ADENOSINE__47__PROTON__47____47__ADENOSINE__47__PROTON__46__35__46__ at 0x113f3e1d0>,\n",
       "           <Reaction TRANS__45__RXNTFS__45__24__45__NA__43____47__ADENOSINE__47____47__NA__43____47__ADENOSINE__46__29__46__ at 0x113f86190>,\n",
       "           <Reaction TRANS__45__RXNTFS__45__27__45__ADENOSINE__47____47__ADENOSINE__46__21__46__ at 0x113fa49d0>,\n",
       "           <Reaction TRANS__45__RXN0__45__468__45__ADENOSINE__47____47__ADENOSINE__46__21__46__ at 0x113fb1790>,\n",
       "           <Reaction TRANS__45__RXNTFS__45__46__45__CYTOSINE__47__ADENOSINE__47____47__CYTOSINE__47__ADENOSINE__46__39__46__ at 0x1141780d0>})"
      ]
     },
     "execution_count": 492,
     "metadata": {},
     "output_type": "execute_result"
    }
   ],
   "source": [
    "model.metabolites.adn_c.reactions"
   ]
  },
  {
   "cell_type": "code",
   "execution_count": 493,
   "metadata": {},
   "outputs": [
    {
     "name": "stdout",
     "output_type": "stream",
     "text": [
      "-7.26186171954e-15\n"
     ]
    }
   ],
   "source": [
    "model.add_boundary(model.metabolites.get_by_id('adn_e'),type='exchange')\n",
    "model.reactions.EX_adn_e.bounds = -1000, 1000\n",
    "print model.optimize().f\n",
    "model.reactions.EX_adn_e.bounds=0,1000"
   ]
  },
  {
   "cell_type": "code",
   "execution_count": 494,
   "metadata": {},
   "outputs": [
    {
     "data": {
      "text/plain": [
       "frozenset({<Reaction RBTDG at 0x113ce5550>,\n",
       "           <Reaction TRANS__45__RXNTFS__45__2__45__RIBITOL__47____47__RIBITOL__46__17__46__ at 0x113e83710>})"
      ]
     },
     "execution_count": 494,
     "metadata": {},
     "output_type": "execute_result"
    }
   ],
   "source": [
    "model.metabolites.rbt_c.reactions"
   ]
  },
  {
   "cell_type": "code",
   "execution_count": 495,
   "metadata": {},
   "outputs": [
    {
     "name": "stdout",
     "output_type": "stream",
     "text": [
      "21.9887848928\n"
     ]
    }
   ],
   "source": [
    "model.add_boundary(model.metabolites.get_by_id('rbt_e'),type='exchange')\n",
    "model.reactions.EX_rbt_e.bounds = -1000, 1000\n",
    "print model.optimize().f\n",
    "model.reactions.EX_rbt_e.bounds=0,1000"
   ]
  },
  {
   "cell_type": "code",
   "execution_count": 496,
   "metadata": {},
   "outputs": [
    {
     "data": {
      "text/html": [
       "\n",
       "        <table>\n",
       "            <tr>\n",
       "                <td><strong>Metabolite identifier</strong></td><td>alltt_c</td>\n",
       "            </tr><tr>\n",
       "                <td><strong>Name</strong></td><td>allantoate</td>\n",
       "            </tr><tr>\n",
       "                <td><strong>Memory address</strong></td>\n",
       "                <td>0x01132ce310</td>\n",
       "            </tr><tr>\n",
       "                <td><strong>Formula</strong></td><td>C4H7N4O4</td>\n",
       "            </tr><tr>\n",
       "                <td><strong>Compartment</strong></td><td>c</td>\n",
       "            </tr><tr>\n",
       "                <td><strong>In 6 reaction(s)</strong></td><td>\n",
       "                    ATAH, TRANS__45__RXNTFS__45__1__45__ALLANTOATE__47____47__ALLANTOATE__46__23__46__, TRANS__45__RXNTFS__45__9, TRANS__45__RXNTFS__45__58__45__ALLANTOATE__47__PROTON__47____47__ALLANTOATE__47__PROTON__46__37__46__, TRANS__45__RXNTFS__45__8__45__ALLANTOATE__47____47__ALLANTOATE__46__23__46__, TRANS__45__RXNTFS__45__7__45__ALLANTOATE__47____47__ALLANTOATE__46__23__46__</td>\n",
       "            </tr>\n",
       "        </table>"
      ],
      "text/plain": [
       "<Metabolite alltt_c at 0x1132ce310>"
      ]
     },
     "execution_count": 496,
     "metadata": {},
     "output_type": "execute_result"
    }
   ],
   "source": [
    "model.metabolites.alltt_c"
   ]
  },
  {
   "cell_type": "code",
   "execution_count": 497,
   "metadata": {},
   "outputs": [
    {
     "data": {
      "text/plain": [
       "frozenset({<Reaction TRANS__45__RXNTFS__45__7__45__CPD__45__3617__47____47__CPD__45__3617__46__19__46__ at 0x113eaa050>,\n",
       "           <Reaction TRANS__45__RXNTFS__45__1__45__CPD__45__3617__47____47__CPD__45__3617__46__19__46__ at 0x113fc9290>})"
      ]
     },
     "execution_count": 497,
     "metadata": {},
     "output_type": "execute_result"
    }
   ],
   "source": [
    "model.metabolites.dca_e.reactions"
   ]
  },
  {
   "cell_type": "code",
   "execution_count": 498,
   "metadata": {},
   "outputs": [
    {
     "name": "stdout",
     "output_type": "stream",
     "text": [
      "9.85708102375\n"
     ]
    }
   ],
   "source": [
    "model.add_boundary(model.metabolites.get_by_id('dca_e'),type='exchange')\n",
    "model.reactions.EX_dca_e.bounds = -1000, 1000\n",
    "print model.optimize().f\n",
    "model.reactions.EX_dca_e.bounds=0,1000"
   ]
  },
  {
   "cell_type": "code",
   "execution_count": 499,
   "metadata": {},
   "outputs": [
    {
     "data": {
      "text/html": [
       "\n",
       "        <table>\n",
       "            <tr>\n",
       "                <td><strong>Metabolite identifier</strong></td><td>hex2manerythol_c</td>\n",
       "            </tr><tr>\n",
       "                <td><strong>Name</strong></td><td>hexoyl-2-mannosylerithritol</td>\n",
       "            </tr><tr>\n",
       "                <td><strong>Memory address</strong></td>\n",
       "                <td>0x0113329f50</td>\n",
       "            </tr><tr>\n",
       "                <td><strong>Formula</strong></td><td>C16H30O10</td>\n",
       "            </tr><tr>\n",
       "                <td><strong>Compartment</strong></td><td>c</td>\n",
       "            </tr><tr>\n",
       "                <td><strong>In 2 reaction(s)</strong></td><td>\n",
       "                    MAC2, MAC1</td>\n",
       "            </tr>\n",
       "        </table>"
      ],
      "text/plain": [
       "<Metabolite hex2manerythol_c at 0x113329f50>"
      ]
     },
     "execution_count": 499,
     "metadata": {},
     "output_type": "execute_result"
    }
   ],
   "source": [
    "model.metabolites.hex2manerythol_c"
   ]
  },
  {
   "cell_type": "code",
   "execution_count": 500,
   "metadata": {},
   "outputs": [
    {
     "data": {
      "text/plain": [
       "frozenset({<Reaction ACITL at 0x113e46c90>,\n",
       "           <Reaction TRANS_Citrate_Malate_Shuttle at 0x1141aba90>})"
      ]
     },
     "execution_count": 500,
     "metadata": {},
     "output_type": "execute_result"
    }
   ],
   "source": [
    "model.metabolites.cit_c.reactions"
   ]
  },
  {
   "cell_type": "code",
   "execution_count": 501,
   "metadata": {},
   "outputs": [
    {
     "name": "stdout",
     "output_type": "stream",
     "text": [
      "-6.72440037741e-15\n"
     ]
    }
   ],
   "source": [
    "model.add_boundary(model.metabolites.get_by_id('cit_c'),type='demand')\n",
    "model.reactions.DM_cit_c.bounds = -1000, 1000\n",
    "print model.optimize().f\n",
    "model.reactions.DM_cit_c.bounds=0,1000"
   ]
  },
  {
   "cell_type": "code",
   "execution_count": 502,
   "metadata": {},
   "outputs": [],
   "source": [
    "model.remove_reactions(['DM_cit_c'])"
   ]
  },
  {
   "cell_type": "code",
   "execution_count": 503,
   "metadata": {},
   "outputs": [
    {
     "data": {
      "text/plain": [
       "frozenset({<Reaction GPDDA2pp at 0x113526690>,\n",
       "           <Reaction GPDDA1pp at 0x1135269d0>,\n",
       "           <Reaction RXN__45__15045 at 0x113585ad0>,\n",
       "           <Reaction G3PAT160 at 0x113b6f2d0>,\n",
       "           <Reaction RXN__45__1381__45__PALMITYL__45__COA__47__GLYCEROL__45__3P__47____47__1__45__PALMITOYLGLYCEROL__45__3__45__PHOSPHATE__47__CO__45__A__46__63__46__ at 0x113b6f3d0>,\n",
       "           <Reaction RXN__45__13805 at 0x113b6f490>,\n",
       "           <Reaction G3PT at 0x113bf3bd0>,\n",
       "           <Reaction GLYKm at 0x113c18250>,\n",
       "           <Reaction GLYCPDIESTER__45__RXN at 0x113cc4550>,\n",
       "           <Reaction PGSA160 at 0x113d09610>,\n",
       "           <Reaction G3PD5 at 0x113d7b1d0>,\n",
       "           <Reaction G3PD2 at 0x113d7b210>,\n",
       "           <Reaction G3PD1 at 0x113d7b310>})"
      ]
     },
     "execution_count": 503,
     "metadata": {},
     "output_type": "execute_result"
    }
   ],
   "source": [
    "model.metabolites.glyc3p_c.reactions"
   ]
  },
  {
   "cell_type": "code",
   "execution_count": 504,
   "metadata": {},
   "outputs": [
    {
     "name": "stdout",
     "output_type": "stream",
     "text": [
      "22.0844528617\n"
     ]
    }
   ],
   "source": [
    "model.add_boundary(model.metabolites.get_by_id('glyc3p_c'),type='demand')\n",
    "model.reactions.DM_glyc3p_c.bounds = -1000, 1000\n",
    "print model.optimize().f\n",
    "model.reactions.DM_glyc3p_c.bounds=0,1000"
   ]
  },
  {
   "cell_type": "code",
   "execution_count": 505,
   "metadata": {
    "collapsed": true
   },
   "outputs": [],
   "source": [
    "model.remove_reactions(['DM_glyc3p_c'])"
   ]
  },
  {
   "cell_type": "code",
   "execution_count": 506,
   "metadata": {},
   "outputs": [
    {
     "data": {
      "text/plain": [
       "1.004178413901429e-15"
      ]
     },
     "execution_count": 506,
     "metadata": {},
     "output_type": "execute_result"
    }
   ],
   "source": [
    "model.optimize().f"
   ]
  },
  {
   "cell_type": "code",
   "execution_count": 507,
   "metadata": {},
   "outputs": [
    {
     "data": {
      "text/plain": [
       "frozenset({<Reaction TRANS__45__RXNTFS__45__58__45__CARNITINE__47__PROTON__47____47__CARNITINE__47__PROTON__46__35__46__ at 0x1134222d0>,\n",
       "           <Reaction BBHOX at 0x113e0d790>,\n",
       "           <Reaction TRANS__45__RXNTFS__45__7__45__CARNITINE__47____47__CARNITINE__46__21__46__ at 0x113ed2190>,\n",
       "           <Reaction TRANS__45__RXNTFS__45__8__45__CARNITINE__47____47__CARNITINE__46__21__46__ at 0x113efc210>,\n",
       "           <Reaction TRANS__45__RXNTFS__45__1__45__CARNITINE__47____47__CARNITINE__46__21__46__ at 0x113fdd390>,\n",
       "           <Reaction CARNITINE__45__O__45__ACETYLTRANSFERASE__45__RXN_CYTOSOLIC at 0x1141bc050>,\n",
       "           <Reaction TRANS_CARNITINE__45__Translocase at 0x1141bc290>})"
      ]
     },
     "execution_count": 507,
     "metadata": {},
     "output_type": "execute_result"
    }
   ],
   "source": [
    "model.metabolites.crn_c.reactions"
   ]
  },
  {
   "cell_type": "code",
   "execution_count": 508,
   "metadata": {},
   "outputs": [
    {
     "name": "stdout",
     "output_type": "stream",
     "text": [
      "0.0\n"
     ]
    }
   ],
   "source": [
    "model.add_boundary(model.metabolites.get_by_id('crn_e'),type='exchange')\n",
    "model.reactions.EX_crn_e.bounds = -1000, 1000\n",
    "print model.optimize().f\n",
    "model.reactions.EX_crn_e.bounds=0,1000"
   ]
  },
  {
   "cell_type": "code",
   "execution_count": 509,
   "metadata": {},
   "outputs": [],
   "source": [
    "for rxn in model.reactions:\n",
    "    if (rxn.id.startswith('EX_') or rxn.id.startswith('DM_')) and abs(rxn.flux)>0:\n",
    "        print rxn,rxn.lower_bound,rxn.upper_bound,rxn.flux"
   ]
  },
  {
   "cell_type": "code",
   "execution_count": 510,
   "metadata": {},
   "outputs": [
    {
     "data": {
      "text/plain": [
       "frozenset({<Reaction TRANS__45__RXNTFS__45__33__45__CPD__45__302__47__PROTON__47____47__CPD__45__302__47__PROTON__46__31__46__ at 0x114091a10>})"
      ]
     },
     "execution_count": 510,
     "metadata": {},
     "output_type": "execute_result"
    }
   ],
   "source": [
    "model.metabolites.asp__D_e.reactions"
   ]
  },
  {
   "cell_type": "code",
   "execution_count": 511,
   "metadata": {},
   "outputs": [
    {
     "name": "stdout",
     "output_type": "stream",
     "text": [
      "0.0\n"
     ]
    }
   ],
   "source": [
    "model.add_boundary(model.metabolites.get_by_id('asp__D_e'),type='exchange')\n",
    "model.reactions.EX_asp__D_e.bounds = -1000, 1000\n",
    "print model.optimize().f\n",
    "model.reactions.EX_asp__D_e.bounds=0,1000"
   ]
  },
  {
   "cell_type": "code",
   "execution_count": 512,
   "metadata": {},
   "outputs": [
    {
     "data": {
      "text/plain": [
       "frozenset({<Reaction RXN__45__10773 at 0x113da20d0>})"
      ]
     },
     "execution_count": 512,
     "metadata": {},
     "output_type": "execute_result"
    }
   ],
   "source": [
    "model.metabolites.cellb_c.reactions"
   ]
  },
  {
   "cell_type": "code",
   "execution_count": 513,
   "metadata": {},
   "outputs": [
    {
     "name": "stdout",
     "output_type": "stream",
     "text": [
      "26.885768723\n"
     ]
    }
   ],
   "source": [
    "model.add_boundary(model.metabolites.get_by_id('cellb_c'),type='demand')\n",
    "model.reactions.DM_cellb_c.bounds = -1000, 1000\n",
    "print model.optimize().f\n",
    "model.reactions.DM_cellb_c.bounds=0,1000"
   ]
  },
  {
   "cell_type": "code",
   "execution_count": 514,
   "metadata": {},
   "outputs": [
    {
     "data": {
      "text/plain": [
       "frozenset({<Reaction RXN__45__8243 at 0x113585e90>})"
      ]
     },
     "execution_count": 514,
     "metadata": {},
     "output_type": "execute_result"
    }
   ],
   "source": [
    "model.metabolites.get_by_id('5aptn_c').reactions"
   ]
  },
  {
   "cell_type": "code",
   "execution_count": 515,
   "metadata": {},
   "outputs": [
    {
     "name": "stdout",
     "output_type": "stream",
     "text": [
      "-1.79252464574e-14\n"
     ]
    }
   ],
   "source": [
    "model.add_boundary(model.metabolites.get_by_id('5aptn_c'),type='demand')\n",
    "model.reactions.DM_5aptn_c.bounds = -1000, 1000\n",
    "print model.optimize().f\n",
    "model.reactions.DM_5aptn_c.bounds=0,1000"
   ]
  },
  {
   "cell_type": "code",
   "execution_count": 516,
   "metadata": {},
   "outputs": [
    {
     "data": {
      "text/plain": [
       "frozenset({<Reaction RXN__45__10639 at 0x113585950>,\n",
       "           <Reaction UGLT at 0x113ba94d0>,\n",
       "           <Reaction G1PPpp at 0x113c41490>,\n",
       "           <Reaction GALUi at 0x113cb4110>,\n",
       "           <Reaction PGMT at 0x113e0d810>,\n",
       "           <Reaction RXN0__45__5182 at 0x113efc450>})"
      ]
     },
     "execution_count": 516,
     "metadata": {},
     "output_type": "execute_result"
    }
   ],
   "source": [
    "model.metabolites.g1p_c.reactions"
   ]
  },
  {
   "cell_type": "code",
   "execution_count": 517,
   "metadata": {},
   "outputs": [
    {
     "name": "stdout",
     "output_type": "stream",
     "text": [
      "36.2378365311\n"
     ]
    }
   ],
   "source": [
    "model.add_boundary(model.metabolites.get_by_id('g1p_c'),type='demand')\n",
    "model.reactions.DM_g1p_c.bounds = -1000, 1000\n",
    "print model.optimize().f\n",
    "model.reactions.DM_g1p_c.bounds=0,1000"
   ]
  },
  {
   "cell_type": "code",
   "execution_count": 522,
   "metadata": {},
   "outputs": [
    {
     "name": "stdout",
     "output_type": "stream",
     "text": [
      "-4.84765594275e-15\n"
     ]
    }
   ],
   "source": [
    "model.reactions.EX_glc__D_e.change=-10,1000\n",
    "model.reactions.EX_nac_e.bounds=0,10\n",
    "print model.optimize().f\n",
    "model.reactions.EX_glc__D_e.bounds=0,1000"
   ]
  },
  {
   "cell_type": "code",
   "execution_count": 523,
   "metadata": {},
   "outputs": [
    {
     "data": {
      "text/plain": [
       "frozenset({<Reaction RXN__45__14693 at 0x113570a50>,\n",
       "           <Reaction UDPGNP at 0x113599d90>,\n",
       "           <Reaction INOSTO at 0x113e0df90>})"
      ]
     },
     "execution_count": 523,
     "metadata": {},
     "output_type": "execute_result"
    }
   ],
   "source": [
    "model.metabolites.glcur_c.reactions"
   ]
  },
  {
   "cell_type": "code",
   "execution_count": 524,
   "metadata": {},
   "outputs": [
    {
     "name": "stdout",
     "output_type": "stream",
     "text": [
      "-6.17529029108e-15\n"
     ]
    }
   ],
   "source": [
    "model.add_boundary(model.metabolites.get_by_id('glcur_c'),type='demand')\n",
    "model.reactions.DM_glcur_c.bounds = -1000, 1000\n",
    "print model.optimize().f\n",
    "model.reactions.DM_glcur_c.bounds=0,1000"
   ]
  },
  {
   "cell_type": "code",
   "execution_count": 525,
   "metadata": {},
   "outputs": [
    {
     "name": "stdout",
     "output_type": "stream",
     "text": [
      "EX_co2_e: co2_e <=>  -1000.0 1000.0 -3.97903932026e-13\n",
      "EX_pi_e: pi_e <=>  -1000.0 1000.0 -1.26797358781e-13\n",
      "EX_h2o_e: h2o_e <=>  -1000.0 1000.0 4.54747350886e-13\n",
      "EX_4abz_e: 4abz_e <=>  -1000.0 1000.0 1.87289310912e-14\n",
      "EX_fum_e: fum_e -->  0 1000 1.34077814961e-13\n",
      "EX_itacon_e: itacon_e -->  0.0 1000.0 -3.07607080785e-13\n",
      "EX_asn__L_e: asn__L_e -->  0 1000 -1.56194907445e-13\n",
      "EX_cys__L_e: cys__L_e -->  0.0 1000.0 5.06373803869e-16\n",
      "EX_ile__L_e: ile__L_e -->  0 1000 7.10158383475e-16\n"
     ]
    }
   ],
   "source": [
    "for rxn in model.reactions:\n",
    "    if len(rxn.metabolites.keys()) == 1 and abs(rxn.flux)>0:\n",
    "        print rxn,rxn.lower_bound,rxn.upper_bound,rxn.flux"
   ]
  },
  {
   "cell_type": "code",
   "execution_count": 526,
   "metadata": {},
   "outputs": [
    {
     "data": {
      "text/plain": [
       "frozenset({<Reaction MALDDH at 0x113b82cd0>,\n",
       "           <Reaction TRANS__45__RXNTFS__45__7__45__CPD__45__660__47____47__CPD__45__660__46__17__46__ at 0x113ebf290>,\n",
       "           <Reaction TRANS__45__RXNTFS__45__1__45__CPD__45__660__47____47__CPD__45__660__46__17__46__ at 0x113fc9b50>,\n",
       "           <Reaction TRANS__45__RXNTFS__45__53__45__CPD__45__660__47____47__CPD__45__660__46__17__46__ at 0x11419bcd0>})"
      ]
     },
     "execution_count": 526,
     "metadata": {},
     "output_type": "execute_result"
    }
   ],
   "source": [
    "model.metabolites.mal__D_c.reactions"
   ]
  },
  {
   "cell_type": "code",
   "execution_count": 527,
   "metadata": {},
   "outputs": [
    {
     "name": "stdout",
     "output_type": "stream",
     "text": [
      "-1.67977723315e-14\n"
     ]
    }
   ],
   "source": [
    "model.add_boundary(model.metabolites.get_by_id('mal__D_e'),type='exchange')\n",
    "model.reactions.EX_mal__D_e.bounds = -1000, 1000\n",
    "print model.optimize().f\n",
    "model.reactions.EX_mal__D_e.bounds=0,1000"
   ]
  },
  {
   "cell_type": "code",
   "execution_count": 530,
   "metadata": {},
   "outputs": [],
   "source": [
    "model.reactions.EX_nac_e.change=0,0"
   ]
  },
  {
   "cell_type": "code",
   "execution_count": 531,
   "metadata": {},
   "outputs": [],
   "source": [
    "model.reactions.EX_glc__D_e.bounds=-10,1000"
   ]
  },
  {
   "cell_type": "code",
   "execution_count": 532,
   "metadata": {},
   "outputs": [
    {
     "data": {
      "text/plain": [
       "0.4939843816957789"
      ]
     },
     "execution_count": 532,
     "metadata": {},
     "output_type": "execute_result"
    }
   ],
   "source": [
    "model.optimize().f"
   ]
  },
  {
   "cell_type": "code",
   "execution_count": 536,
   "metadata": {},
   "outputs": [],
   "source": [
    "import cobra\n",
    "from os import getcwd\n",
    "\n",
    "relative_directory = getcwd()\n",
    "target_filename_json = relative_directory + '/iCL_Conversion4.json'\n",
    "target_filename_xml = relative_directory + '/iCL_Conversion4.xml'\n",
    "cobra.io.write_sbml_model(model, target_filename_xml, use_fbc_package=True)\n",
    "cobra.io.save_json_model(model, target_filename_json,pretty = True)"
   ]
  },
  {
   "cell_type": "code",
   "execution_count": 537,
   "metadata": {},
   "outputs": [
    {
     "name": "stdout",
     "output_type": "stream",
     "text": [
      "mal__D_e --> mal__D_c\n",
      "mal__D_e --> mal__D_c\n",
      "mal__D_e --> mal__D_c\n",
      "mal__D_c + nad_c <=> co2_c + nadh_c + pyr_c\n"
     ]
    }
   ],
   "source": [
    "for rxn in model.metabolites.mal__D_c.reactions:\n",
    "    print rxn.reaction"
   ]
  },
  {
   "cell_type": "code",
   "execution_count": null,
   "metadata": {
    "collapsed": true
   },
   "outputs": [],
   "source": []
  }
 ],
 "metadata": {
  "kernelspec": {
   "display_name": "Python 2",
   "language": "python",
   "name": "python2"
  },
  "language_info": {
   "codemirror_mode": {
    "name": "ipython",
    "version": 2
   },
   "file_extension": ".py",
   "mimetype": "text/x-python",
   "name": "python",
   "nbconvert_exporter": "python",
   "pygments_lexer": "ipython2",
   "version": "2.7.10"
  }
 },
 "nbformat": 4,
 "nbformat_minor": 1
}
