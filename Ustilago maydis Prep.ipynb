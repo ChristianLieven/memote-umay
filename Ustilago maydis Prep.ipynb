{
 "cells": [
  {
   "cell_type": "code",
   "execution_count": 1,
   "metadata": {},
   "outputs": [
    {
     "data": {
      "text/html": []
     },
     "metadata": {},
     "output_type": "display_data"
    },
    {
     "data": {
      "application/javascript": [
       "\n",
       "(function(global) {\n",
       "  function now() {\n",
       "    return new Date();\n",
       "  }\n",
       "\n",
       "  if (typeof (window._bokeh_onload_callbacks) === \"undefined\") {\n",
       "    window._bokeh_onload_callbacks = [];\n",
       "  }\n",
       "\n",
       "  function run_callbacks() {\n",
       "    window._bokeh_onload_callbacks.forEach(function(callback) { callback() });\n",
       "    delete window._bokeh_onload_callbacks\n",
       "    console.info(\"Bokeh: all callbacks have finished\");\n",
       "  }\n",
       "\n",
       "  function load_libs(js_urls, callback) {\n",
       "    window._bokeh_onload_callbacks.push(callback);\n",
       "    if (window._bokeh_is_loading > 0) {\n",
       "      console.log(\"Bokeh: BokehJS is being loaded, scheduling callback at\", now());\n",
       "      return null;\n",
       "    }\n",
       "    if (js_urls == null || js_urls.length === 0) {\n",
       "      run_callbacks();\n",
       "      return null;\n",
       "    }\n",
       "    console.log(\"Bokeh: BokehJS not loaded, scheduling load and callback at\", now());\n",
       "    window._bokeh_is_loading = js_urls.length;\n",
       "    for (var i = 0; i < js_urls.length; i++) {\n",
       "      var url = js_urls[i];\n",
       "      var s = document.createElement('script');\n",
       "      s.src = url;\n",
       "      s.async = false;\n",
       "      s.onreadystatechange = s.onload = function() {\n",
       "        window._bokeh_is_loading--;\n",
       "        if (window._bokeh_is_loading === 0) {\n",
       "          console.log(\"Bokeh: all BokehJS libraries loaded\");\n",
       "          run_callbacks()\n",
       "        }\n",
       "      };\n",
       "      s.onerror = function() {\n",
       "        console.warn(\"failed to load library \" + url);\n",
       "      };\n",
       "      console.log(\"Bokeh: injecting script tag for BokehJS library: \", url);\n",
       "      document.getElementsByTagName(\"head\")[0].appendChild(s);\n",
       "    }\n",
       "  };\n",
       "\n",
       "  var js_urls = ['https://cdn.pydata.org/bokeh/release/bokeh-0.11.1.min.js', 'https://cdn.pydata.org/bokeh/release/bokeh-widgets-0.11.1.min.js', 'https://cdn.pydata.org/bokeh/release/bokeh-compiler-0.11.1.min.js'];\n",
       "\n",
       "  var inline_js = [\n",
       "    function(Bokeh) {\n",
       "      Bokeh.set_log_level(\"info\");\n",
       "    },\n",
       "    \n",
       "    function(Bokeh) {\n",
       "      Bokeh.$(\"#6cf6a7b2-84c7-439f-834e-f22ecad32a2d\").text(\"BokehJS successfully loaded\");\n",
       "    },\n",
       "    function(Bokeh) {\n",
       "      console.log(\"Bokeh: injecting CSS: https://cdn.pydata.org/bokeh/release/bokeh-0.11.1.min.css\");\n",
       "      Bokeh.embed.inject_css(\"https://cdn.pydata.org/bokeh/release/bokeh-0.11.1.min.css\");\n",
       "      console.log(\"Bokeh: injecting CSS: https://cdn.pydata.org/bokeh/release/bokeh-widgets-0.11.1.min.css\");\n",
       "      Bokeh.embed.inject_css(\"https://cdn.pydata.org/bokeh/release/bokeh-widgets-0.11.1.min.css\");\n",
       "    }\n",
       "  ];\n",
       "\n",
       "  function run_inline_js() {\n",
       "    for (var i = 0; i < inline_js.length; i++) {\n",
       "      inline_js[i](window.Bokeh);\n",
       "    }\n",
       "  }\n",
       "\n",
       "  if (window._bokeh_is_loading === 0) {\n",
       "    console.log(\"Bokeh: BokehJS loaded, going straight to plotting\");\n",
       "    run_inline_js();\n",
       "  } else {\n",
       "    load_libs(js_urls, function() {\n",
       "      console.log(\"Bokeh: BokehJS plotting callback run at\", now());\n",
       "      run_inline_js();\n",
       "    });\n",
       "  }\n",
       "}(this));"
      ]
     },
     "metadata": {},
     "output_type": "display_data"
    }
   ],
   "source": [
    "import cameo as cameo\n",
    "from cobra import Model, Reaction, Metabolite\n",
    "from collections import OrderedDict\n",
    "import re\n",
    "import escher\n",
    "from cameo import load_model\n",
    "from cameo import Reaction, Metabolite\n",
    "from cameo.data import metanetx\n",
    "from cameo.network_analysis import model_to_network, remove_highly_connected_nodes\n",
    "from cameo.flux_analysis.analysis import phenotypic_phase_plane\n",
    "from cameo.parallel import SequentialView\n",
    "import os"
   ]
  },
  {
   "cell_type": "code",
   "execution_count": 2,
   "metadata": {},
   "outputs": [
    {
     "name": "stderr",
     "output_type": "stream",
     "text": [
      "/Users/clie/Dev/cobrapy/cobra/io/sbml.py:205: UserWarning:\n",
      "\n",
      "PROTON_c appears as a reactant and product RXN__45__10981\n",
      "\n",
      "/Users/clie/Dev/cobrapy/cobra/io/sbml.py:205: UserWarning:\n",
      "\n",
      "ASCORBATE_c appears as a reactant and product RXN__45__12440\n",
      "\n",
      "/Users/clie/Dev/cobrapy/cobra/io/sbml.py:205: UserWarning:\n",
      "\n",
      "PROTON_c appears as a reactant and product RXN__45__6081\n",
      "\n",
      "/Users/clie/Dev/cobrapy/cobra/io/sbml.py:205: UserWarning:\n",
      "\n",
      "PROTON_m appears as a reactant and product NADH__45__DEHYDROG__45__A__45__RXN\n",
      "\n",
      "/Users/clie/Dev/cobrapy/cobra/io/sbml.py:205: UserWarning:\n",
      "\n",
      "PROTON_m appears as a reactant and product TRANS__45__RXN__45__249\n",
      "\n",
      "/Users/clie/Dev/cobrapy/cobra/io/sbml.py:205: UserWarning:\n",
      "\n",
      "PROTON_c appears as a reactant and product _3__46__6__46__3__46__10__45__RXN\n",
      "\n",
      "/Users/clie/Dev/cobrapy/cobra/io/sbml.py:205: UserWarning:\n",
      "\n",
      "PROTON_c appears as a reactant and product RXN0__45__3281\n",
      "\n",
      "/Users/clie/Dev/cobrapy/cobra/io/sbml.py:205: UserWarning:\n",
      "\n",
      "WATER_c appears as a reactant and product _1__46__14__46__19__46__6__45__RXN\n",
      "\n"
     ]
    }
   ],
   "source": [
    "relative_directory = os.getcwd()\n",
    "filename = relative_directory + '/iCL1079.xml'\n",
    "model = cameo.load_model(filename,sanitize=False)"
   ]
  },
  {
   "cell_type": "markdown",
   "metadata": {},
   "source": [
    "### Check for Unbalanced Reactions"
   ]
  },
  {
   "cell_type": "code",
   "execution_count": 3,
   "metadata": {},
   "outputs": [],
   "source": [
    "import imp"
   ]
  },
  {
   "cell_type": "code",
   "execution_count": 4,
   "metadata": {},
   "outputs": [],
   "source": [
    "foo = imp.load_source('curation_tools','/Users/clie/Desktop/EFPro2/Functions_Modules/curation_tools.py')"
   ]
  },
  {
   "cell_type": "code",
   "execution_count": 5,
   "metadata": {},
   "outputs": [
    {
     "name": "stdout",
     "output_type": "stream",
     "text": [
      "There are 0 unbalanced reactions and 0 metabolites with a faulty syntax\n"
     ]
    }
   ],
   "source": [
    "Unbalanced_reactions = foo.find_unbalanced_reactions(model)"
   ]
  },
  {
   "cell_type": "code",
   "execution_count": 6,
   "metadata": {},
   "outputs": [
    {
     "name": "stdout",
     "output_type": "stream",
     "text": [
      "[]\n"
     ]
    }
   ],
   "source": [
    "print Unbalanced_reactions[0].keys()\n",
    "for rxnid in Unbalanced_reactions[0].keys():\n",
    "    model.reactions.get_by_id(rxnid).upper_bound = 0\n",
    "    model.reactions.get_by_id(rxnid).lower_bound = 0"
   ]
  },
  {
   "cell_type": "code",
   "execution_count": 7,
   "metadata": {},
   "outputs": [],
   "source": [
    "mets_noformula = [met for met in model.metabolites if met.formula == '']"
   ]
  },
  {
   "cell_type": "code",
   "execution_count": 8,
   "metadata": {},
   "outputs": [
    {
     "data": {
      "text/plain": [
       "441"
      ]
     },
     "execution_count": 8,
     "metadata": {},
     "output_type": "execute_result"
    }
   ],
   "source": [
    "len(mets_noformula)"
   ]
  },
  {
   "cell_type": "markdown",
   "metadata": {},
   "source": [
    "### Map the Met/Rxn IDs from Metacyc to MNX to BiGG"
   ]
  },
  {
   "cell_type": "markdown",
   "metadata": {},
   "source": [
    "#### Import of the mapping table for MetaCyc to MNX"
   ]
  },
  {
   "cell_type": "code",
   "execution_count": 9,
   "metadata": {
    "collapsed": true
   },
   "outputs": [],
   "source": [
    "import pandas as pd"
   ]
  },
  {
   "cell_type": "code",
   "execution_count": 10,
   "metadata": {},
   "outputs": [],
   "source": [
    "# Metacyc as keys\n",
    "chem_xref_MNX_Metacyc = pd.read_csv('/Users/clie/Desktop/EFPro2/Calculation Results/MetanetX Mapping/chem_xref_2_alt.tsv.txt', delimiter='\\t')\n",
    "df_Metacyc = chem_xref_MNX_Metacyc.loc[192554:208025,'XRef':'MNX_ID']"
   ]
  },
  {
   "cell_type": "code",
   "execution_count": 11,
   "metadata": {},
   "outputs": [],
   "source": [
    "reindex = df_Metacyc.set_index('XRef_ID')"
   ]
  },
  {
   "cell_type": "code",
   "execution_count": 12,
   "metadata": {},
   "outputs": [],
   "source": [
    "df = reindex.drop('XRef', 1)"
   ]
  },
  {
   "cell_type": "code",
   "execution_count": 13,
   "metadata": {
    "collapsed": true
   },
   "outputs": [],
   "source": [
    "chem_xref_MNX_Metacyc_dict = df.to_dict('index')"
   ]
  },
  {
   "cell_type": "code",
   "execution_count": 14,
   "metadata": {},
   "outputs": [],
   "source": [
    "MetCyc2MNX= dict([(k,chem_xref_MNX_Metacyc_dict[k]['MNX_ID']) for k in chem_xref_MNX_Metacyc_dict.keys()])"
   ]
  },
  {
   "cell_type": "code",
   "execution_count": 15,
   "metadata": {},
   "outputs": [],
   "source": [
    "# Get a mapping from Metacyc to the new MNXR IDs.\n",
    "reac_xref_MNX_2 = pd.read_csv('/Users/clie/Desktop/EFPro2/Calculation Results/MetanetX Mapping/reac_xref_2_alt.tsv.txt', delimiter='\\t')\n",
    "df_2 = reac_xref_MNX_2.loc[22929:36711,'XRef':'MNX_ID']\n",
    "reindex_rxn = df_2.set_index('XRef_ID')\n",
    "df2 = reindex_rxn.drop('XRef', 1)\n",
    "rxn_xref_MNX_Metacyc_dict = df2.to_dict('index')\n",
    "RxnCyc2MNX= dict([(k,rxn_xref_MNX_Metacyc_dict[k]['MNX_ID']) for k in rxn_xref_MNX_Metacyc_dict.keys()])"
   ]
  },
  {
   "cell_type": "code",
   "execution_count": 16,
   "metadata": {},
   "outputs": [
    {
     "data": {
      "text/plain": [
       "{'GLUCOSE-1-PHOSPHATE-PHOSPHODISMUTASE-RXN': 'MNXR32864',\n",
       " 'RXN-12158': 'MNXR21956',\n",
       " 'D-XYLULOSE-REDUCTASE-RXN': 'MNXR84426',\n",
       " 'HALOALKANE-DEHALOGENASE-RXN': 'MNXR37148',\n",
       " 'RXN-13525': 'MNXR87852',\n",
       " 'PROCOLLAGEN-GALACTOSYLTRANSFERASE-RXN': 'MNXR87177',\n",
       " 'RXN-14471': 'MNXR69704',\n",
       " 'RXN-11109': 'MNXR87365',\n",
       " 'RXN-11108': 'MNXR71565',\n",
       " 'RXN-12157': 'MNXR87636',\n",
       " 'RXN-11105': 'MNXR87364',\n",
       " 'RXN-11104': 'MNXR87363',\n",
       " 'RXN-11107': 'MNXR21230',\n",
       " 'RXN-11106': 'MNXR8789',\n",
       " 'RXN-11101': 'MNXR9011',\n",
       " '3.6.3.33-RXN': 'MNXR19984',\n",
       " 'RXN-11103': 'MNXR34082',\n",
       " 'RXN-11102': 'MNXR8981',\n",
       " '1.3.99.17-RXN': 'MNXR26398',\n",
       " 'RXN-12718': 'MNXR76953',\n",
       " 'PNKIN-RXN': 'MNXR4539',\n",
       " '3.4.21.49-RXN': 'MNXR86818',\n",
       " 'RXN-4229': 'MNXR17302',\n",
       " 'RXN-4228': 'MNXR89835',\n",
       " 'RXN-4225': 'MNXR17300',\n",
       " 'RXN-12710': 'MNXR22325',\n",
       " 'RXN-12713': 'MNXR5902',\n",
       " 'RXN-4226': 'MNXR89834',\n",
       " 'RXN-12715': 'MNXR19078',\n",
       " 'RXN-12714': 'MNXR85993',\n",
       " 'GLU6PDEHYDROG-RXN': 'MNXR2456',\n",
       " 'RXN-4222': 'MNXR77467',\n",
       " 'RXN-15848': 'MNXR89058',\n",
       " 'RXN-15849': 'MNXR89059',\n",
       " 'RXN-8018': 'MNXR60341',\n",
       " '2-NITROPHENOL-2-MONOOXYGENASE-RXN': 'MNXR84810',\n",
       " 'RXN-15844': 'MNXR89054',\n",
       " 'RXN-15845': 'MNXR89055',\n",
       " 'RXN-15846': 'MNXR89056',\n",
       " 'RXN-15847': 'MNXR89057',\n",
       " 'RXN-15840': 'MNXR15436',\n",
       " 'RXN-15841': 'MNXR86503',\n",
       " '1.1.1.289-RXN': 'MNXR71449',\n",
       " 'RXN-15843': 'MNXR89053',\n",
       " '2.3.1.72-RXN': 'MNXR19395',\n",
       " 'FRUCTOKINASE-RXN': 'MNXR35952',\n",
       " 'R303-RXN': 'MNXR20718',\n",
       " 'RXN-7692': 'MNXR81406',\n",
       " '2.1.1.130-RXN': 'MNXR4115',\n",
       " '2.3.1.126-RXN': 'MNXR7758',\n",
       " 'DLACTDEHYDROGFAD-RXN': 'MNXR87033',\n",
       " 'RXN-11366': 'MNXR61440',\n",
       " '2.3.1.83-RXN': 'MNXR71059',\n",
       " 'METHIONINE--GLYOXYLATE-TRANSAMINASE-RXN': 'MNXR8075',\n",
       " '3-OXOSTEROID-1-DEHYDROGENASE-RXN': 'MNXR80081',\n",
       " '3.4.22.28-RXN': 'MNXR61790',\n",
       " 'DGTPTRIPHYDRO-RXN': 'MNXR69563',\n",
       " '2.8.1.6-RXN': 'MNXR86689',\n",
       " 'RXN1F-20': 'MNXR69482',\n",
       " 'RXN-14789': 'MNXR88316',\n",
       " 'RXN1F-28': 'MNXR8459',\n",
       " 'PALMITOTRANS-RXN': 'MNXR37224',\n",
       " 'UDPGLCNACEPIM-RXN': 'MNXR55976',\n",
       " 'RXN-16571': 'MNXR89619',\n",
       " 'RXN-16570': 'MNXR89618',\n",
       " 'RXN-16573': 'MNXR89621',\n",
       " 'RXN-16572': 'MNXR89620',\n",
       " 'RXN-16575': 'MNXR89623',\n",
       " 'RXN-16574': 'MNXR89622',\n",
       " 'RXN-16577': 'MNXR89625',\n",
       " 'RXN-16576': 'MNXR89624',\n",
       " 'RXN-16579': 'MNXR89627',\n",
       " 'RXN-16578': 'MNXR89626',\n",
       " 'UDP-GLUCOSE-46-DEHYDRATASE-RXN': 'MNXR73632',\n",
       " '3.4.24.69-RXN': 'MNXR86818',\n",
       " '3.6.3.32-RXN': 'MNXR36955',\n",
       " 'RXN-13274': 'MNXR61429',\n",
       " 'RXN-14719': 'MNXR86192',\n",
       " 'RXN-14718': 'MNXR86189',\n",
       " 'RXN-2506': 'MNXR77450',\n",
       " 'RXN-14716': 'MNXR26736',\n",
       " 'RXN-14715': 'MNXR88267',\n",
       " 'RXN-14714': 'MNXR88266',\n",
       " 'R261-RXN': 'MNXR87209',\n",
       " 'RXN-14712': 'MNXR88264',\n",
       " 'RXN-14711': 'MNXR88263',\n",
       " 'RXN-14710': 'MNXR88262',\n",
       " 'RXN1G-1486': 'MNXR90565',\n",
       " 'RXN0-743': 'MNXR81637',\n",
       " '2.5.1.46-RXN': 'MNXR19533',\n",
       " 'ENDOPOLYPHOSPHATASE-RXN': 'MNXR73598',\n",
       " 'HOMSUCTRAN-RXN': 'MNXR3051',\n",
       " 'RXN-10419': 'MNXR20877',\n",
       " 'RXN-15791': 'MNXR89009',\n",
       " 'ACID-PHOSPHATASE-RXN': 'MNXR84633',\n",
       " 'RXN-16715': 'MNXR89737',\n",
       " 'RXN-16714': 'MNXR89736',\n",
       " 'RXN-16717': 'MNXR89739',\n",
       " 'RXN-16716': 'MNXR89738',\n",
       " 'RXN-16711': 'MNXR89733',\n",
       " 'RXN-16710': 'MNXR89732',\n",
       " 'RXN-16713': 'MNXR89735',\n",
       " 'RXN-16712': 'MNXR89734',\n",
       " 'RXN-16719': 'MNXR89741',\n",
       " 'RXN-16718': 'MNXR89740',\n",
       " 'RXN-11100': 'MNXR76605',\n",
       " 'ARYL-SULFOTRANSFERASE-RXN': 'MNXR86976',\n",
       " 'GLUCUROISOM-RXN': 'MNXR87072',\n",
       " 'SPONTPRO-RXN': 'MNXR69079',\n",
       " 'RXN-15792': 'MNXR89010',\n",
       " 'TRANS-RXN66-1231': 'MNXR24839',\n",
       " '1.3.1.54-RXN': 'MNXR83575',\n",
       " 'RXN-12719': 'MNXR19012',\n",
       " 'RXN-9309': 'MNXR63723',\n",
       " 'RXN-9308': 'MNXR90286',\n",
       " 'RXN-9659': 'MNXR68782',\n",
       " 'RXN-9658': 'MNXR68780',\n",
       " 'RXN-9305': 'MNXR85978',\n",
       " 'RXN-9304': 'MNXR85977',\n",
       " 'RXN-9307': 'MNXR90285',\n",
       " '+-SABINOL-DEHYDROGENASE-RXN': 'MNXR6893',\n",
       " 'RXN-9301': 'MNXR19013',\n",
       " 'RXN-9652': 'MNXR77884',\n",
       " 'RXN-9303': 'MNXR85971',\n",
       " 'RXN-9650': 'MNXR77882',\n",
       " 'RXN3O-54': 'MNXR24605',\n",
       " 'LACTATE-MALATE-TRANSHYDROGENASE-RXN': 'MNXR6946',\n",
       " '3.4.21.86-RXN': 'MNXR61785',\n",
       " 'RXN-8232': 'MNXR90047',\n",
       " 'RXN3O-58': 'MNXR64097',\n",
       " 'RXN-15445': 'MNXR88757',\n",
       " 'R12-RXN': 'MNXR36673',\n",
       " '2.1.1.147-RXN': 'MNXR7673',\n",
       " 'RXN-15114': 'MNXR88528',\n",
       " 'RXN-15115': 'MNXR84597',\n",
       " 'RXN-13293': 'MNXR5765',\n",
       " 'RXN-13291': 'MNXR61434',\n",
       " 'RXN-13290': 'MNXR55353',\n",
       " 'RXN-13297': 'MNXR77060',\n",
       " 'RXN-13296': 'MNXR77059',\n",
       " 'RXN-13295': 'MNXR64466',\n",
       " 'D-GLUTAMINASE-RXN': 'MNXR6613',\n",
       " 'RXN-13299': 'MNXR62907',\n",
       " 'SERINE--GLYOXYLATE-AMINOTRANSFERASE-RXN': 'MNXR5465',\n",
       " 'RXN-8707': 'MNXR63607',\n",
       " 'PHOSICITDEHASE-RXN': 'MNXR20632',\n",
       " 'RXN-3102': 'MNXR85708',\n",
       " 'TRANS-RXN-242A': 'MNXR80835',\n",
       " 'TRANS-RXN-242B': 'MNXR65709',\n",
       " 'ADCLY-RXN': 'MNXR467',\n",
       " 'RXN-4221': 'MNXR89833',\n",
       " 'RXN-12639': 'MNXR62647',\n",
       " 'RXN-10955': 'MNXR34486',\n",
       " 'RXN66-169': 'MNXR64127',\n",
       " 'RXN66-168': 'MNXR64126',\n",
       " 'RXN66-165': 'MNXR64123',\n",
       " 'RXN-6550': 'MNXR60087',\n",
       " 'RXN66-167': 'MNXR64125',\n",
       " '2.1.1.135-RXN': 'MNXR71009',\n",
       " 'RXN66-161': 'MNXR64120',\n",
       " 'RXN66-163': 'MNXR64122',\n",
       " '2.4.1.36-RXN': 'MNXR76018',\n",
       " 'RXN1G-248': 'MNXR64036',\n",
       " 'RXN-11725': 'MNXR87522',\n",
       " 'RXN-7689': 'MNXR63370',\n",
       " 'RXN-7938': 'MNXR14391',\n",
       " 'RXN-11724': 'MNXR76742',\n",
       " 'RXN-7682': 'MNXR3054',\n",
       " 'S-CARBOXYMETHYLCYSTEINE-SYNTHASE-RXN': 'MNXR8573',\n",
       " 'RXN-7680': 'MNXR22902',\n",
       " 'RXN-7686': 'MNXR79367',\n",
       " 'RXN-7687': 'MNXR74103',\n",
       " 'LEUCYLTRANSFERASE-RXN': 'MNXR87123',\n",
       " 'RXN-7933': 'MNXR8886',\n",
       " 'RXN-15796': 'MNXR89014',\n",
       " 'RXN-11929': 'MNXR21797',\n",
       " 'RXN-11928': 'MNXR21796',\n",
       " '3.4.21.1-RXN': 'MNXR86818',\n",
       " 'RXN-11923': 'MNXR37478',\n",
       " 'RXN-11922': 'MNXR87555',\n",
       " 'RXN-11921': 'MNXR17834',\n",
       " 'RXN-11920': 'MNXR87554',\n",
       " 'RXN-11927': 'MNXR87559',\n",
       " 'RXN-11926': 'MNXR87558',\n",
       " 'RXN-11925': 'MNXR87557',\n",
       " 'RXN-11924': 'MNXR87556',\n",
       " '3.1.3.14-RXN': 'MNXR6283',\n",
       " 'RXN-11723': 'MNXR87521',\n",
       " 'RXN-13234': 'MNXR62857',\n",
       " 'RXN-11722': 'MNXR21674',\n",
       " '3.1.3.43-RXN': 'MNXR19680',\n",
       " 'RXN-15797': 'MNXR89015',\n",
       " 'RXN-8016': 'MNXR85506',\n",
       " 'ALPHA-AMINO-ACID-ESTERASE-RXN': 'MNXR86963',\n",
       " 'RXN-13236': 'MNXR62859',\n",
       " 'CROBETRED-RXN': 'MNXR87004',\n",
       " 'RXN0-5038': 'MNXR4127',\n",
       " 'RXN-8017': 'MNXR85504',\n",
       " 'RXN-6883': 'MNXR89912',\n",
       " 'GLYCERATE-DEHYDROGENASE-RXN': 'MNXR2769',\n",
       " 'RXN-13722': 'MNXR8932',\n",
       " 'RXN-8015': 'MNXR85505',\n",
       " 'RXN-13233': 'MNXR62856',\n",
       " 'RXN-13879': 'MNXR77249',\n",
       " 'RXN-13878': 'MNXR87922',\n",
       " 'RXN-13877': 'MNXR77247',\n",
       " 'RXN-13876': 'MNXR87921',\n",
       " '3.3.2.2-RXN': 'MNXR15137',\n",
       " 'FRUCTOSE-5-DEHYDROGENASE-RXN': 'MNXR79278',\n",
       " 'RXN-13873': 'MNXR86266',\n",
       " 'RXN-13872': 'MNXR86265',\n",
       " 'RXN-13871': 'MNXR72904',\n",
       " 'RXN-13870': 'MNXR58538',\n",
       " '3.2.1.161-RXN': 'MNXR86773',\n",
       " 'AMYLOSUCRASE-RXN': 'MNXR86970',\n",
       " 'RXN-15842': 'MNXR89052',\n",
       " '2.1.1.86-RXN': 'MNXR5759',\n",
       " 'RXN-8011': 'MNXR89996',\n",
       " '3.1.13.2-RXN': 'MNXR61638',\n",
       " 'RXN0-1261': 'MNXR24117',\n",
       " 'RXN-11148': 'MNXR87386',\n",
       " 'RXN-12475': 'MNXR57518',\n",
       " 'RXN-12476': 'MNXR57519',\n",
       " 'RXN-12477': 'MNXR59007',\n",
       " '3.11.1.3-RXN': 'MNXR57256',\n",
       " 'RXN-12471': 'MNXR87694',\n",
       " 'RXN-12472': 'MNXR87695',\n",
       " 'RXN-12473': 'MNXR87696',\n",
       " '6.3.2.16-RXN': 'MNXR86936',\n",
       " '6PFRUCTPHOS-RXN': 'MNXR83629',\n",
       " 'RXN-12479': 'MNXR59006',\n",
       " 'RXN-11184': 'MNXR9029',\n",
       " '2.4.1.24-RXN': 'MNXR86634',\n",
       " 'RXN-9775': 'MNXR24010',\n",
       " 'AMYGDALIN-BETA-GLUCOSIDASE-RXN': 'MNXR20133',\n",
       " '1.1.1.263-RXN': 'MNXR6573',\n",
       " 'RXN-6462': 'MNXR22746',\n",
       " 'DIISOPROPYL-FLUOROPHOSPHATASE-RXN': 'MNXR8490',\n",
       " 'PROPANEDIOL-PHOSPHATE-DEHYDROGENASE-RXN': 'MNXR6916',\n",
       " '2.7.11.4-RXN': 'MNXR19572',\n",
       " 'RXN-15069': 'MNXR88496',\n",
       " '1.1.1.265-RXN': 'MNXR81652',\n",
       " 'RXN-13801': 'MNXR87893',\n",
       " 'GSHTRAN-RXN': 'MNXR70321',\n",
       " 'MESO-TARTRATE-DEHYDROGENASE-RXN': 'MNXR7120',\n",
       " 'RXN-7739': 'MNXR81991',\n",
       " 'RXN-7658': 'MNXR75541',\n",
       " '3-DEHYDROQUINATE-DEHYDRATASE-RXN': 'MNXR55233',\n",
       " 'RXN-13906': 'MNXR77275',\n",
       " 'PROGESTERONE-5-ALPHA-REDUCTASE-RXN': 'MNXR7240',\n",
       " 'RXN-13905': 'MNXR77274',\n",
       " 'OHBENZCOARED-RXN': 'MNXR87153',\n",
       " '2.7.7.39-RXN': 'MNXR69072',\n",
       " 'UDP-N-ACETYLGLUCOSAMINE-4-EPIMERASE-RXN': 'MNXR55978',\n",
       " 'RXN-7732': 'MNXR63375',\n",
       " 'PMPOXI-RXN': 'MNXR4532',\n",
       " 'RXN-7733': 'MNXR75621',\n",
       " 'RXN0-6981': 'MNXR39728',\n",
       " '1.14.11.1-RXN': 'MNXR19210',\n",
       " '2.4.1.37-RXN': 'MNXR86641',\n",
       " 'RXN-13900': 'MNXR77269',\n",
       " 'RXN-8228': 'MNXR90045',\n",
       " 'PTAALT-RXN': 'MNXR4501',\n",
       " 'RXN-8221': 'MNXR16335',\n",
       " 'RXN-8220': 'MNXR8762',\n",
       " 'RXN-8223': 'MNXR63478',\n",
       " 'RXN-8222': 'MNXR8761',\n",
       " 'ATPSYN-RXN': 'MNXR81785',\n",
       " 'RXN-8224': 'MNXR90043',\n",
       " 'RXN-8226': 'MNXR90044',\n",
       " 'RXN-15127': 'MNXR70253',\n",
       " 'RXN-15434': 'MNXR60238',\n",
       " 'RXN-15125': 'MNXR84191',\n",
       " 'RXN-15124': 'MNXR70159',\n",
       " 'RXN-15123': 'MNXR88534',\n",
       " 'RXN-15122': 'MNXR88533',\n",
       " 'RXN-15121': 'MNXR88532',\n",
       " 'RXN-15120': 'MNXR88531',\n",
       " 'RXN-15769': 'MNXR88987',\n",
       " '3.4.24.83-RXN': 'MNXR86818',\n",
       " 'RXN-15439': 'MNXR88751',\n",
       " 'RXN-15438': 'MNXR88750',\n",
       " 'RXN-15129': 'MNXR88536',\n",
       " 'RXN-15128': 'MNXR88535',\n",
       " 'RXN-11736': 'MNXR9317',\n",
       " 'RXN-11737': 'MNXR31786',\n",
       " 'RXN-11734': 'MNXR87523',\n",
       " 'RXN-11732': 'MNXR76743',\n",
       " 'RXN-11733': 'MNXR85909',\n",
       " 'RXN-11730': 'MNXR9170',\n",
       " 'RXN-11731': 'MNXR21680',\n",
       " 'RXN-4561': 'MNXR77477',\n",
       " 'RXN-11738': 'MNXR87524',\n",
       " 'RXN-11739': 'MNXR62461',\n",
       " '2.4.1.116-RXN': 'MNXR85492',\n",
       " 'RXN-15767': 'MNXR88985',\n",
       " 'RXN-13964': 'MNXR87951',\n",
       " '3.2.1.98-RXN': 'MNXR86809',\n",
       " 'RXN-15766': 'MNXR88984',\n",
       " 'RXN-15761': 'MNXR88979',\n",
       " 'RXN-5961': 'MNXR81997',\n",
       " 'RXN-5962': 'MNXR82066',\n",
       " 'R128-RXN': 'MNXR84524',\n",
       " 'RXN-15763': 'MNXR88981',\n",
       " '1.14.99.20-RXN': 'MNXR79253',\n",
       " 'TRANS-RXN-250': 'MNXR3513',\n",
       " '2.4.1.156-RXN': 'MNXR56875',\n",
       " 'S-NORLAUDANOSOLINE-SYNTHASE-RXN': 'MNXR8023',\n",
       " 'FPPSYN-RXN': 'MNXR69185',\n",
       " 'RXN-15459': 'MNXR88767',\n",
       " 'NADPH-DEHYDROGENASE-FLAVIN-RXN': 'MNXR82866',\n",
       " 'CELLULOSE-SYNTHASE-GDP-FORMING-RXN': 'MNXR86989',\n",
       " 'PROTEIN-LYSINE-6-OXIDASE-RXN': 'MNXR87184',\n",
       " 'PNPOXI-RXN': 'MNXR4138',\n",
       " 'RXN-13740': 'MNXR77158',\n",
       " 'D-ARABINOSE-1-DEHYDROGENASE-RXN': 'MNXR87013',\n",
       " '3.1.11.6-RXN': 'MNXR86703',\n",
       " 'RXN-14528': 'MNXR88158',\n",
       " 'RXN-14529': 'MNXR88159',\n",
       " 'RXN-13276': 'MNXR65670',\n",
       " 'RXN-14520': 'MNXR88150',\n",
       " 'RXN-14521': 'MNXR88151',\n",
       " 'RXN-14522': 'MNXR88152',\n",
       " 'RXN-14523': 'MNXR88153',\n",
       " 'RXN-14524': 'MNXR88154',\n",
       " 'RXN-14525': 'MNXR88155',\n",
       " 'RXN-14526': 'MNXR88156',\n",
       " 'RXN-14527': 'MNXR88157',\n",
       " 'FATTY-ACID-O-METHYLTRANSFERASE-RXN': 'MNXR14795',\n",
       " 'TYROSINE-23-AMINOMUTASE-RXN': 'MNXR7045',\n",
       " 'RXN-10061': 'MNXR20822',\n",
       " 'RXN-10060': 'MNXR87247',\n",
       " 'RXN-10063': 'MNXR20824',\n",
       " 'RXN-10062': 'MNXR87248',\n",
       " 'RXN-10065': 'MNXR20826',\n",
       " 'RXN-10064': 'MNXR87249',\n",
       " 'RXN-10067': 'MNXR86212',\n",
       " 'RXN-10066': 'MNXR589',\n",
       " 'RXN1G-94': 'MNXR90627',\n",
       " 'MANDELONITRILE-LYASE-RXN': 'MNXR71812',\n",
       " 'RXN1G-98': 'MNXR90628',\n",
       " '3.5.2.17-RXN': 'MNXR8375',\n",
       " 'RXN-9351': 'MNXR8909',\n",
       " '2.6.1.56-RXN': 'MNXR8239',\n",
       " 'THIKIN-RXN': 'MNXR5103',\n",
       " '2.4.1.104-RXN': 'MNXR74091',\n",
       " 'RXN0-5186': 'MNXR59064',\n",
       " 'FUCISOM-RXN': 'MNXR87056',\n",
       " 'DICHCYCLO-RXN': 'MNXR16112',\n",
       " '3.4.24.19-RXN': 'MNXR61804',\n",
       " 'RXN-12717': 'MNXR75761',\n",
       " 'SUCCCOASYN-RXN': 'MNXR4958',\n",
       " 'RXN-9595': 'MNXR23916',\n",
       " 'TANNASE-RXN': 'MNXR6314',\n",
       " 'RIBOFLAVIN-SYN-RXN': 'MNXR84099',\n",
       " '3.4.14.12-RXN': 'MNXR86834',\n",
       " 'RXN-9597': 'MNXR90331',\n",
       " 'RXN1G-1015': 'MNXR90559',\n",
       " '2.7.7.44-RXN': 'MNXR71343',\n",
       " '1.8.4.7-RXN': 'MNXR19311',\n",
       " '2.3.1.125-RXN': 'MNXR59635',\n",
       " 'RXN0-4022': 'MNXR8748',\n",
       " 'RXN-10975': 'MNXR87332',\n",
       " 'ENDOGLYCOSYLCERAMIDASE-RXN': 'MNXR87036',\n",
       " 'RXN-16388': 'MNXR89465',\n",
       " 'RXN-16389': 'MNXR89466',\n",
       " '3.4.22.10-RXN': 'MNXR86818',\n",
       " 'RXN66-577': 'MNXR90684',\n",
       " 'RXN-16382': 'MNXR89461',\n",
       " 'RXN-16380': 'MNXR2008',\n",
       " 'RXN-16381': 'MNXR89460',\n",
       " 'RXN-16386': 'MNXR89463',\n",
       " 'RXN-16387': 'MNXR89464',\n",
       " '1.8.4.1-RXN': 'MNXR73746',\n",
       " 'RXN-16385': 'MNXR89462',\n",
       " '2.7.1.63-RXN': 'MNXR19557',\n",
       " '4.1.1.78-RXN': 'MNXR8536',\n",
       " 'ISOCITRATE-EPIMERASE-RXN': 'MNXR6497',\n",
       " 'RXN-8484': 'MNXR60947',\n",
       " '6-BETA-HYDROXYHYOSCYAMINE-EPOXIDASE-RXN': 'MNXR15417',\n",
       " '1.2.1.42-RXN': 'MNXR6956',\n",
       " '2.8.3.17-RXN': 'MNXR8092',\n",
       " 'RXN-16030': 'MNXR89182',\n",
       " 'RXN66-317': 'MNXR56352',\n",
       " 'RXN-16032': 'MNXR89183',\n",
       " 'RXN-16033': 'MNXR72834',\n",
       " 'RXN-16034': 'MNXR89184',\n",
       " 'RXN-16035': 'MNXR89185',\n",
       " 'RXN-16036': 'MNXR89186',\n",
       " 'RXN-16037': 'MNXR89187',\n",
       " '4OH2OXOGLUTARALDOL-RXN': 'MNXR1487',\n",
       " 'RXN66-318': 'MNXR64138',\n",
       " 'RXN66-319': 'MNXR1028',\n",
       " 'RXN-13608': 'MNXR58379',\n",
       " 'RXN-13609': 'MNXR77119',\n",
       " 'MACROCIN-O-METHYLTRANSFERASE-RXN': 'MNXR7656',\n",
       " '2.4.1.181-RXN': 'MNXR86623',\n",
       " 'RXN-13600': 'MNXR63102',\n",
       " 'RXN-13602': 'MNXR63103',\n",
       " 'RXN-13603': 'MNXR63104',\n",
       " 'RXN-13605': 'MNXR61385',\n",
       " 'RXN-13606': 'MNXR63106',\n",
       " 'BRANCHED-CHAINAMINOTRANSFERILEU-RXN': 'MNXR31743',\n",
       " 'RXN-9518': 'MNXR90316',\n",
       " 'RXN-9848': 'MNXR5449',\n",
       " 'RXN-9510': 'MNXR69003',\n",
       " 'RXN-9843': 'MNXR4028',\n",
       " 'RXN-9840': 'MNXR608',\n",
       " 'RXN-9841': 'MNXR5996',\n",
       " 'RXN-9514': 'MNXR74285',\n",
       " 'RXN-9515': 'MNXR77858',\n",
       " 'RXN-9516': 'MNXR81385',\n",
       " 'RXN-9845': 'MNXR18350',\n",
       " '1.1.1.247-RXN': 'MNXR71818',\n",
       " '2.7.7.33-RXN': 'MNXR71287',\n",
       " 'L-3-CYANOALANINE-SYNTHASE-RXN': 'MNXR70813',\n",
       " 'GLUTKIN-RXN': 'MNXR32778',\n",
       " '3.4.23.25-RXN': 'MNXR86818',\n",
       " 'RXN-15608': 'MNXR88875',\n",
       " 'RXN-15609': 'MNXR88876',\n",
       " 'RXN-15606': 'MNXR88873',\n",
       " 'RXN-15607': 'MNXR88874',\n",
       " 'RXN-15604': 'MNXR62486',\n",
       " 'RXN-15605': 'MNXR88872',\n",
       " 'RXN-15602': 'MNXR88870',\n",
       " 'RXN-15603': 'MNXR88871',\n",
       " 'RXN-15600': 'MNXR88868',\n",
       " 'RXN-15601': 'MNXR88869',\n",
       " 'RXN-13468': 'MNXR61379',\n",
       " 'RXN-13469': 'MNXR63007',\n",
       " 'RXN0-6978': 'MNXR63969',\n",
       " 'RXN0-6979': 'MNXR14387',\n",
       " 'RXN-13464': 'MNXR63005',\n",
       " 'RXN0-6977': 'MNXR63968',\n",
       " 'RXN-13466': 'MNXR87836',\n",
       " 'RXN-13467': 'MNXR77088',\n",
       " 'RXN-13460': 'MNXR63003',\n",
       " 'RXN0-6973': 'MNXR82818',\n",
       " 'RXN-13463': 'MNXR87835',\n",
       " 'PREPHENATE-DEHYDROGENASE-NADP+-RXN': 'MNXR4403',\n",
       " 'RIB5PISOM-RXN': 'MNXR4654',\n",
       " '1.14.13.64-RXN': 'MNXR9736',\n",
       " '2.6.1.22-RXN': 'MNXR30457',\n",
       " 'DIOXYXANFL-RXN': 'MNXR74481',\n",
       " '2.7.1.151-RXN': 'MNXR3535',\n",
       " '3.4.21.62-RXN': 'MNXR86818',\n",
       " 'PANTOTHENASE-RXN': 'MNXR6078',\n",
       " 'KDGALDOL-RXN': 'MNXR2674',\n",
       " 'ACETOACETYL-COA-HYDROLASE-RXN': 'MNXR5787',\n",
       " 'TRANS-RXN0-181': 'MNXR90775',\n",
       " 'RXN-15553': 'MNXR88830',\n",
       " 'RHAMNULPALDOL-RXN': 'MNXR84117',\n",
       " 'AMPSYN-RXN': 'MNXR514',\n",
       " '2.4.1.193-RXN': 'MNXR74253',\n",
       " '3.2.1.18-RXN': 'MNXR76102',\n",
       " '3.1.3.52-RXN': 'MNXR19682',\n",
       " 'RXN-12809': 'MNXR22373',\n",
       " '1.1.2.5-RXN': 'MNXR61446',\n",
       " 'RXN-12805': 'MNXR61248',\n",
       " '1.5.1.24-RXN': 'MNXR65831',\n",
       " 'RXN-12807': 'MNXR60140',\n",
       " 'RXN-12806': 'MNXR61249',\n",
       " 'RXN-12801': 'MNXR9630',\n",
       " 'ASPAMINOTRANS-RXN': 'MNXR32641',\n",
       " 'RXN-12803': 'MNXR60137',\n",
       " 'RXN-12802': 'MNXR16642',\n",
       " 'RXN-10901': 'MNXR21096',\n",
       " '6.3.4.16-RXN': 'MNXR6370',\n",
       " 'ALLYSINE-DEHYDROG-RXN': 'MNXR68238',\n",
       " 'ABC-14-RXN': 'MNXR2971',\n",
       " 'ABC-34-RXN': 'MNXR2750',\n",
       " 'RXN1G-760': 'MNXR24568',\n",
       " 'RXN-11123': 'MNXR87369',\n",
       " 'RXN-11122': 'MNXR21240',\n",
       " 'RXN-11121': 'MNXR21239',\n",
       " 'RXN-11120': 'MNXR87368',\n",
       " 'RXN-11127': 'MNXR87371',\n",
       " 'RXN-11126': 'MNXR87370',\n",
       " 'RXN-11125': 'MNXR49420',\n",
       " '2.4.1.47-RXN': 'MNXR59260',\n",
       " 'RXN-14959': 'MNXR88420',\n",
       " '2.1.1.146-RXN': 'MNXR7672',\n",
       " 'RXN-11129': 'MNXR87372',\n",
       " '1.3.1.25-RXN': 'MNXR989',\n",
       " 'RXN-15363': 'MNXR88700',\n",
       " '3.4.21.36-RXN': 'MNXR86818',\n",
       " 'RXN-15362': 'MNXR86540',\n",
       " '2-ISOPROPYLMALATESYN-RXN': 'MNXR3135',\n",
       " 'RXN-12739': 'MNXR22334',\n",
       " 'RXN-12738': 'MNXR22333',\n",
       " 'RXN-12737': 'MNXR22332',\n",
       " 'RXN-12736': 'MNXR3606',\n",
       " 'RXN-12735': 'MNXR87736',\n",
       " 'RXN-12734': 'MNXR87735',\n",
       " 'RXN-12733': 'MNXR22331',\n",
       " 'RXN-12732': 'MNXR76957',\n",
       " 'RXN-12731': 'MNXR87734',\n",
       " 'RXN-12730': 'MNXR75677',\n",
       " 'RXN-8074': 'MNXR74934',\n",
       " 'RXN-8075': 'MNXR50984',\n",
       " 'RXN-8076': 'MNXR68155',\n",
       " 'RXN-8077': 'MNXR3325',\n",
       " '3.5.1.92-RXN': 'MNXR4361',\n",
       " 'CARBOXYMETHYLENEBUTENOLIDASE-RXN': 'MNXR10798',\n",
       " 'RXN-8078': 'MNXR3262',\n",
       " 'RXN-8079': 'MNXR85920',\n",
       " 'DIHYDROBUNOLOL-DEHYDROGENASE-RXN': 'MNXR37089',\n",
       " 'XYLONO-14-LACTONASE-RXN': 'MNXR8353',\n",
       " 'RIBONUCLEOSIDE-DIP-REDUCTII-RXN': 'MNXR76470',\n",
       " 'DEPHOSPHOCOAKIN-RXN': 'MNXR1772',\n",
       " '1.14.13.99-RXN': 'MNXR8650',\n",
       " 'ACYLAMINOACYL-PEPTIDASE-RXN': 'MNXR86951',\n",
       " 'RXN-8469': 'MNXR9394',\n",
       " 'D-LYSOPINE-DEHYDROGENASE-RXN': 'MNXR7297',\n",
       " '3.4.21.59-RXN': 'MNXR86818',\n",
       " 'RXN-11386': 'MNXR61414',\n",
       " 'RXN-11385': 'MNXR62363',\n",
       " 'RXN-11384': 'MNXR21433',\n",
       " 'RXN-11383': 'MNXR21432',\n",
       " 'RXN-11382': 'MNXR71891',\n",
       " 'RXN-11381': 'MNXR37401',\n",
       " 'RXN-11380': 'MNXR37400',\n",
       " 'RXN-11389': 'MNXR62366',\n",
       " 'RXN-11388': 'MNXR62365',\n",
       " '1.2.1.45-RXN': 'MNXR15622',\n",
       " 'CINNAMYL-ALCOHOL-DEHYDROGENASE-RXN': 'MNXR7091',\n",
       " '3.5.1.86-RXN': 'MNXR7020',\n",
       " '2.3.1.175-RXN': 'MNXR6079',\n",
       " 'NICOTINATE-N-METHYLTRANSFERASE-RXN': 'MNXR5740',\n",
       " 'D-NOPALINE-DEHYDROGENASE-RXN': 'MNXR87014',\n",
       " 'HYDROXYPYRUVATE-DECARBOXYLASE-RXN': 'MNXR3013',\n",
       " 'ACETYLINDOXYL-OXIDASE-RXN': 'MNXR15476',\n",
       " 'HYDROXYMETHYLGLUTARYL-COA-SYNTHASE-RXN': 'MNXR2982',\n",
       " 'GUANIDINOBUTANAMIDE-NH3-RXN': 'MNXR55041',\n",
       " 'GLUTAMATE-DEHYDROGENASE-NADP+-RXN': 'MNXR33333',\n",
       " 'RXN-2505': 'MNXR60519',\n",
       " 'PHTHALATE-45-DIOXYGENASE-RXN': 'MNXR7513',\n",
       " 'RXN-7342': 'MNXR77544',\n",
       " '2.3.1.44-RXN': 'MNXR7801',\n",
       " 'RXN-14365': 'MNXR86419',\n",
       " '1.1.1.64-RXN': 'MNXR3030',\n",
       " 'RXN1G-853': 'MNXR64085',\n",
       " 'RXN-13895': 'MNXR77265',\n",
       " 'RXN-10652': 'MNXR87278',\n",
       " 'RXN-10653': 'MNXR87279',\n",
       " 'RXN-10650': 'MNXR87276',\n",
       " 'RXN-10651': 'MNXR87277',\n",
       " 'RXN-10656': 'MNXR20966',\n",
       " 'RXN-10657': 'MNXR87281',\n",
       " '2KETO-4METHYL-PENTANOATE-DEHYDROG-RXN': 'MNXR3955',\n",
       " 'RXN-10655': 'MNXR20965',\n",
       " 'RXN-13576': 'MNXR63086',\n",
       " 'RXN-10658': 'MNXR87282',\n",
       " 'RXN-10659': 'MNXR20969',\n",
       " 'RXN-16557': 'MNXR89610',\n",
       " '2.8.2.31-RXN': 'MNXR8633',\n",
       " 'RXN-16555': 'MNXR89608',\n",
       " 'RXN-16554': 'MNXR89607',\n",
       " 'RXN-16553': 'MNXR89606',\n",
       " 'ERYTHRONOLIDE-SYNTHASE-RXN': 'MNXR84826',\n",
       " 'RXN-16551': 'MNXR89604',\n",
       " 'RXN-16550': 'MNXR89603',\n",
       " 'RXN-15185': 'MNXR88585',\n",
       " 'RXN-16559': 'MNXR89612',\n",
       " 'RXN-16558': 'MNXR89611',\n",
       " 'ARG-OXIDATION-RXN': 'MNXR76208',\n",
       " 'RXN-14774': 'MNXR88301',\n",
       " 'RXN-14777': 'MNXR88304',\n",
       " '3.6.3.26-RXN': 'MNXR19979',\n",
       " 'RXN-14771': 'MNXR88298',\n",
       " 'RXN-14770': 'MNXR88297',\n",
       " 'RXN-2562': 'MNXR10355',\n",
       " 'ACETYL-COA-HYDROLASE-RXN': 'MNXR429',\n",
       " 'PHOSPHONOACETALDEHYDE-HYDROLASE-RXN': 'MNXR6727',\n",
       " 'RXN-15186': 'MNXR88586',\n",
       " 'RXN-14779': 'MNXR88306',\n",
       " 'RXN-14778': 'MNXR88305',\n",
       " '4.2.2.3-RXN': 'MNXR86921',\n",
       " 'RXN490-3616': 'MNXR81773',\n",
       " 'UDP-GALACTURONATE-DECARBOXYLASE-RXN': 'MNXR84623',\n",
       " 'RXN-10477': 'MNXR76507',\n",
       " 'RXN-10474': 'MNXR20923',\n",
       " 'PANTOATE-BETA-ALANINE-LIG-RXN': 'MNXR4088',\n",
       " 'RXN-10470': 'MNXR20921',\n",
       " 'RXN-10471': 'MNXR20922',\n",
       " 'POLYSIALIC-ACID-O-ACETYLTRANSFERASE-RXN': 'MNXR87176',\n",
       " 'FUMHYDR-RXN': 'MNXR2338',\n",
       " '3.4.23.34-RXN': 'MNXR86818',\n",
       " 'BETA-DIKETONE-HYDROLASE-RXN': 'MNXR56542',\n",
       " '3.4.24.75-RXN': 'MNXR86884',\n",
       " 'SULFITE-REDUCTASE-FERREDOXIN-RXN': 'MNXR84814',\n",
       " 'RXN-13799': 'MNXR87891',\n",
       " 'LTAA-RXN': 'MNXR5056',\n",
       " 'RXN-9674': 'MNXR23958',\n",
       " 'RXN-803': 'MNXR23023',\n",
       " 'RXN-9676': 'MNXR90351',\n",
       " 'RXN-9670': 'MNXR90350',\n",
       " 'RXN-9673': 'MNXR2015',\n",
       " 'RXN3O-73': 'MNXR16951',\n",
       " 'RXN-9679': 'MNXR8685',\n",
       " 'RXN-9678': 'MNXR90353',\n",
       " 'RXN3O-75': 'MNXR90638',\n",
       " 'RXN-7163': 'MNXR33986',\n",
       " 'F16ALDOLASE-RXN': 'MNXR82808',\n",
       " 'PHENYLALANINE--TRNA-LIGASE-RXN': 'MNXR87168',\n",
       " 'RXN-7162': 'MNXR33787',\n",
       " 'LYSINE-DEHYDROGENASE-RXN': 'MNXR70854',\n",
       " 'RXN-11669': 'MNXR87500',\n",
       " '3.1.13.3-RXN': 'MNXR61639',\n",
       " 'RXN-10847': 'MNXR18944',\n",
       " 'RXN66-357': 'MNXR90654',\n",
       " 'ALANYLPHOSPHATIDYLGLYCEROL-SYNTHASE-RXN': 'MNXR86958',\n",
       " 'ECDYSONE-O-ACYLTRANSFERASE-RXN': 'MNXR7770',\n",
       " 'ISOLEUCINE--TRNA-LIGASE-RXN': 'MNXR87110',\n",
       " 'RXN-15212': 'MNXR25174',\n",
       " 'GUANIDINOACETASE-RXN': 'MNXR6643',\n",
       " '1.1.1.152-RXN': 'MNXR5701',\n",
       " 'GALACTODEHYDROG-RXN': 'MNXR6910',\n",
       " 'RXN-3167': 'MNXR22543',\n",
       " '2.3.1.166-RXN': 'MNXR70999',\n",
       " 'RXN-3165': 'MNXR22541',\n",
       " 'RXN-3164': 'MNXR22540',\n",
       " 'RXN-3163': 'MNXR22539',\n",
       " 'GLUTAMINE--PYRUVATE-AMINOTRANSFERASE-RXN': 'MNXR8223',\n",
       " '4.3.1.16-RXN': 'MNXR16283',\n",
       " 'ADPSUGPPHOSPHAT-RXN': 'MNXR74098',\n",
       " 'RXN66-142': 'MNXR24633',\n",
       " 'RXN66-141': 'MNXR90649',\n",
       " 'RXN-16738': 'MNXR89760',\n",
       " 'RXN66-147': 'MNXR64117',\n",
       " 'RXN66-146': 'MNXR24636',\n",
       " 'RXN66-145': 'MNXR24635',\n",
       " 'RXN66-144': 'MNXR90650',\n",
       " 'RXN-16733': 'MNXR89755',\n",
       " 'RXN-16732': 'MNXR89754',\n",
       " 'RXN-16731': 'MNXR89753',\n",
       " 'RXN-16730': 'MNXR89752',\n",
       " 'RXN-16737': 'MNXR89759',\n",
       " 'RXN-16736': 'MNXR89758',\n",
       " 'RXN-16735': 'MNXR89757',\n",
       " '1.14.19.1-RXN': 'MNXR14994',\n",
       " 'RXN-7660': 'MNXR75542',\n",
       " 'RXN-7913': 'MNXR68625',\n",
       " 'RXN-7910': 'MNXR77608',\n",
       " 'RXN-7663': 'MNXR81986',\n",
       " 'RXN-7664': 'MNXR89948',\n",
       " 'RXN-7665': 'MNXR22893',\n",
       " 'RXN-7666': 'MNXR89949',\n",
       " 'RXN-7667': 'MNXR89950',\n",
       " 'RXN-7668': 'MNXR89951',\n",
       " 'RXN-7669': 'MNXR77570',\n",
       " 'RXN-7919': 'MNXR65464',\n",
       " 'RXN1G-220': 'MNXR24463',\n",
       " 'RXN0-1461': 'MNXR1272',\n",
       " 'L-RHAMNONO-14-LACTONASE-RXN': 'MNXR8351',\n",
       " 'RXN-6081': 'MNXR86177',\n",
       " 'RXN-8606': 'MNXR63587',\n",
       " 'O-PYROCATECHUATE-DECARBOXYLASE-RXN': 'MNXR7048',\n",
       " '3.4.21.35-RXN': 'MNXR86818',\n",
       " '2.6.1.65-RXN': 'MNXR33708',\n",
       " 'RXN-8604': 'MNXR61303',\n",
       " 'TSA-REDUCT-RXN': 'MNXR6034',\n",
       " 'TRANS-RXN-126B': 'MNXR3224',\n",
       " 'TRANS-RXN-126A': 'MNXR5324',\n",
       " 'ABC-2-RXN': 'MNXR86939',\n",
       " '2.4.1.161-RXN': 'MNXR80347',\n",
       " 'TETRAHYDROBERBERINE-OXIDASE-RXN': 'MNXR7265',\n",
       " 'RXN-15500': 'MNXR86082',\n",
       " 'GLUCONATE-2-DEHYDROGENASE-RXN': 'MNXR26307',\n",
       " 'RXN-13814': 'MNXR87897',\n",
       " 'RXN-13817': 'MNXR87898',\n",
       " 'RXN-13811': 'MNXR77201',\n",
       " 'RXN-13810': 'MNXR87894',\n",
       " 'RXN-13813': 'MNXR87896',\n",
       " 'RXN-13812': 'MNXR87895',\n",
       " '2.4.1.124-RXN': 'MNXR59666',\n",
       " 'RXN-15502': 'MNXR86084',\n",
       " 'RXN-13819': 'MNXR87900',\n",
       " 'RXN-13818': 'MNXR87899',\n",
       " '3.2.1.48-RXN': 'MNXR11052',\n",
       " 'RXN-12550': 'MNXR85757',\n",
       " '1.14.11.19-RXN': 'MNXR79221',\n",
       " '3.1.4.14-RXN': 'MNXR81549',\n",
       " 'DIIODOPHENYLPYRUVATE-REDUCTASE-RXN': 'MNXR6923',\n",
       " 'RXN-12224': 'MNXR85968',\n",
       " 'RXN-87': 'MNXR56845',\n",
       " '1.2.7.5-RXN': 'MNXR57133',\n",
       " 'RXN-12555': 'MNXR22227',\n",
       " 'LEUKOTRIENE-C4-SYNTHASE-RXN': 'MNXR3342',\n",
       " '1.8.98.2-RXN': 'MNXR36747',\n",
       " 'PYFLAVOXRE-RXN': 'MNXR20673',\n",
       " '1.3.1.19-RXN': 'MNXR7236',\n",
       " 'L-RHAMNONATE-DEHYDRATASE-RXN': 'MNXR8551',\n",
       " '1.14.13.35-RXN': 'MNXR7495',\n",
       " '1.1.1.251-RXN': 'MNXR86546',\n",
       " 'RXN-14107': 'MNXR87988',\n",
       " 'RXN0-901': 'MNXR5348',\n",
       " 'RXN-15983': 'MNXR89148',\n",
       " 'GLUCOSE-1-DEHYDROGENASE-RXN': 'MNXR6827',\n",
       " 'RXN-11465': 'MNXR87456',\n",
       " 'RXN-14102': 'MNXR87987',\n",
       " 'RXN-7902': 'MNXR89980',\n",
       " 'RXN-13541': 'MNXR58614',\n",
       " '2.4.1.213-RXN': 'MNXR16024',\n",
       " 'RXN-15987': 'MNXR89032',\n",
       " 'RXN3O-347': 'MNXR78074',\n",
       " 'RXN-14101': 'MNXR15906',\n",
       " '4-HYDROXYBENZOATE-3-MONOOXYGENASE-RXN': 'MNXR230',\n",
       " 'CITRAMALYL-COA-LYASE-RXN': 'MNXR1173',\n",
       " 'RXN-15989': 'MNXR89153',\n",
       " 'RXN-12424': 'MNXR76892',\n",
       " 'RXN-15988': 'MNXR89152',\n",
       " 'ABEQUOSYLTRANSFERASE-RXN': 'MNXR86945',\n",
       " 'ALIZARIN-2-BETA-GLUCOSYLTRANSFERASE-RXN': 'MNXR74099',\n",
       " '4.1.1.74-RXN': 'MNXR3106',\n",
       " 'RXN0-7141': 'MNXR90543',\n",
       " 'RXN0-7143': 'MNXR90544',\n",
       " '3.1.3.56-RXN': 'MNXR3537',\n",
       " 'RXN-11468': 'MNXR76687',\n",
       " 'RXN-15790': 'MNXR89008',\n",
       " 'RXN-11469': 'MNXR13879',\n",
       " '2.8.2.23-RXN': 'MNXR76048',\n",
       " 'URIDINEKIN-RXN': 'MNXR5306',\n",
       " 'RXN-15419': 'MNXR86535',\n",
       " 'RXN-15418': 'MNXR88739',\n",
       " 'RXN-15149': 'MNXR88552',\n",
       " 'RXN-15148': 'MNXR75505',\n",
       " 'RXN-8248': 'MNXR60253',\n",
       " 'RXN-15145': 'MNXR88550',\n",
       " 'GALACTOSE-OXIDASE-RXN': 'MNXR70824',\n",
       " 'RXN-15147': 'MNXR88551',\n",
       " '3.1.4.17-RXN': 'MNXR86735',\n",
       " '2.7.8.24-RXN': 'MNXR85376',\n",
       " 'RXN-15140': 'MNXR88545',\n",
       " 'RXN-15143': 'MNXR88548',\n",
       " 'RXN-15142': 'MNXR88547',\n",
       " 'RXN-9657': 'MNXR77887',\n",
       " 'ENTDB-RXN': 'MNXR87037',\n",
       " '6-HYDROXYHEXANOATE-OXIDATION-RXN': 'MNXR6718',\n",
       " '1.8.5.2-RXN': 'MNXR36746',\n",
       " 'RXN-9655': 'MNXR20342',\n",
       " '3.2.1.97-RXN': 'MNXR86808',\n",
       " 'RXN1G-0': 'MNXR24409',\n",
       " 'CATECHOL-2-3-DIOXYGENASE-RXN': 'MNXR54912',\n",
       " 'RXN-9306': 'MNXR85973',\n",
       " 'PUTRESCINE-N-METHYLTRANSFERASE-RXN': 'MNXR7689',\n",
       " 'RXN-9653': 'MNXR77885',\n",
       " 'RXN-15478': 'MNXR88781',\n",
       " 'ASCORBATE-PHOSPHORYLATION-III-RXN': 'MNXR20157',\n",
       " 'RXN-8870': 'MNXR74690',\n",
       " 'RXN-9651': 'MNXR77883',\n",
       " 'RXN0-6460': 'MNXR19130',\n",
       " 'OLEATE-HYDRATASE-RXN': 'MNXR7643',\n",
       " 'LIND-RXN': 'MNXR16000',\n",
       " '3.4.22.45-RXN': 'MNXR61794',\n",
       " 'LYSOLECITHIN-ACYLMUTASE-RXN': 'MNXR85058',\n",
       " '2.1.1.60-RXN': 'MNXR86584',\n",
       " 'RXN-12420': 'MNXR76128',\n",
       " '3.1.1.47-RXN': 'MNXR6275',\n",
       " 'PYRUVDEH-RXN': 'MNXR4132',\n",
       " '3.4.21.116-RXN': 'MNXR86852',\n",
       " 'RXN-8871': 'MNXR23495',\n",
       " 'FLAVONADPREDUCT-RXN': 'MNXR20356',\n",
       " '4.1.1.86-RXN': 'MNXR8729',\n",
       " 'MMUM-RXN': 'MNXR69220',\n",
       " 'RXN-1408': 'MNXR87983',\n",
       " 'RXN-1402': 'MNXR9384',\n",
       " 'RXN-1403': 'MNXR22457',\n",
       " 'RXN-5181': 'MNXR22675',\n",
       " 'RXN-1401': 'MNXR70000',\n",
       " 'RXN-1406': 'MNXR87978',\n",
       " 'RXN-5185': 'MNXR89881',\n",
       " 'ORNITHINE-GLU-AMINOTRANSFORASE-RXN': 'MNXR32050',\n",
       " 'CYTDEAM-RXN': 'MNXR1306',\n",
       " '2.7.8.10-RXN': 'MNXR8332',\n",
       " 'GLYCEROL-DEHYDROGENASE-NADP+-RXN': 'MNXR68335',\n",
       " 'GLYCEROL-3-PHOSPHATE-OXIDASE-RXN': 'MNXR14674',\n",
       " 'GLUTAMATE-FORMIMINOTRANSFERASE-RXN': 'MNXR87075',\n",
       " 'GALACTURAN-14-ALPHA-GALACTURONIDASE-RXN': 'MNXR87059',\n",
       " 'LINE-RXN': 'MNXR20507',\n",
       " 'RXN-11248': 'MNXR21334',\n",
       " 'RXN-11249': 'MNXR21335',\n",
       " 'RXN-11718': 'MNXR87519',\n",
       " 'RXN-11719': 'MNXR21671',\n",
       " 'RXN-14548': 'MNXR88165',\n",
       " 'RXN-14549': 'MNXR88166',\n",
       " 'RXN-11242': 'MNXR62336',\n",
       " 'RXN-11243': 'MNXR21329',\n",
       " 'RXN-11240': 'MNXR87415',\n",
       " '3.1.2.19-RXN': 'MNXR86711',\n",
       " 'RXN-11246': 'MNXR21332',\n",
       " 'RXN-11247': 'MNXR21333',\n",
       " 'RXN-11244': 'MNXR21330',\n",
       " 'RXN-11245': 'MNXR21331',\n",
       " 'RXN-10049': 'MNXR12095',\n",
       " 'RXN-10048': 'MNXR20815',\n",
       " '1.2.1.65-RXN': 'MNXR6969',\n",
       " 'RXN-10046': 'MNXR87242',\n",
       " 'RXN-10045': 'MNXR87241',\n",
       " 'RXN-10044': 'MNXR87240',\n",
       " '1.14.15.6-RXN': 'MNXR84980',\n",
       " 'RXN-10042': 'MNXR87238',\n",
       " 'RXN-10041': 'MNXR87237',\n",
       " 'RXN-10040': 'MNXR156',\n",
       " '5.3.4.1-RXN': 'MNXR20038',\n",
       " 'DUDPKIN-RXN': 'MNXR69534',\n",
       " 'RXN-9872': 'MNXR24055',\n",
       " 'RXN-9871': 'MNXR24054',\n",
       " 'GLYCEROL-KIN-RXN': 'MNXR69177',\n",
       " '3.4.22.30-RXN': 'MNXR86818',\n",
       " 'TRANS-RXN-270': 'MNXR30297',\n",
       " 'TRANS-RXN-271': 'MNXR90765',\n",
       " 'TRANS-RXN-272': 'MNXR82719',\n",
       " 'IMILACTDEHYDROG-RXN': 'MNXR87107',\n",
       " 'TRANS-RXN-274': 'MNXR90767',\n",
       " 'TRANS-RXN-275': 'MNXR90768',\n",
       " 'RXN-15006': 'MNXR88453',\n",
       " '1.1.1.8-RXN': 'MNXR2438',\n",
       " 'DDT-DEHYDROCHLORINASE-RXN': 'MNXR7154',\n",
       " '2-AMINOMUCONATE-REDUCTASE-RXN': 'MNXR70441',\n",
       " 'NUCLEOSIDE-TRIPHOSPHATASE-RXN': 'MNXR84929',\n",
       " 'RXN-13624': 'MNXR87869',\n",
       " '3.4.21.41-RXN': 'MNXR61774',\n",
       " 'STEROID-17-ALPHA-MONOOXYGENASE-RXN': 'MNXR90725',\n",
       " 'R217-RXN': 'MNXR81979',\n",
       " 'DUTP-PYROP-RXN': 'MNXR1816',\n",
       " 'RXN66-550': 'MNXR86570',\n",
       " '1.2.1.66-RXN': 'MNXR3463',\n",
       " 'RXN66-555': 'MNXR4401',\n",
       " '4.2.2.10-RXN': 'MNXR86912',\n",
       " 'GALACTARDEHYDRA-RXN': 'MNXR2498',\n",
       " 'RXN-16391': 'MNXR61288',\n",
       " 'OCTOPAMINE-DEHYDRATASE-RXN': 'MNXR8548',\n",
       " 'RXN-15473': 'MNXR88779',\n",
       " 'RXN-13298': 'MNXR62906',\n",
       " '3.2.1.94-RXN': 'MNXR86806',\n",
       " '3.5.1.93-RXN': 'MNXR8643',\n",
       " '3.2.1.44-RXN': 'MNXR86786',\n",
       " 'HISTPRATPHYD-RXN': 'MNXR4426',\n",
       " '3.6.3.19-RXN': 'MNXR3403',\n",
       " 'RXN66-338': 'MNXR85282',\n",
       " 'RXN66-339': 'MNXR85151',\n",
       " 'RXN-6271': 'MNXR6799',\n",
       " 'RXN66-336': 'MNXR90653',\n",
       " 'R503-RXN': 'MNXR87216',\n",
       " 'RXN66-332': 'MNXR24673',\n",
       " '1.1.1.259-RXN': 'MNXR6569',\n",
       " 'RXN-16056': 'MNXR89202',\n",
       " 'RXN-16057': 'MNXR89203',\n",
       " 'ALLENE-OXIDE-CYCLASE-RXN': 'MNXR6362',\n",
       " 'RXN-16052': 'MNXR89200',\n",
       " 'RXN-16053': 'MNXR89201',\n",
       " 'RXN-16050': 'MNXR89198',\n",
       " 'RXN-16051': 'MNXR89199',\n",
       " 'PHOSPHAGLYPSYN-RXN': 'MNXR1099',\n",
       " '2.4.1.171-RXN': 'MNXR74090',\n",
       " 'RXN-16058': 'MNXR17610',\n",
       " 'RXN-16059': 'MNXR89204',\n",
       " '3.4.23.43-RXN': 'MNXR86875',\n",
       " '2.6.1.37-RXN': 'MNXR8053',\n",
       " 'RXN-13667': 'MNXR63153',\n",
       " 'R465-RXN': 'MNXR16201',\n",
       " 'RXN-13665': 'MNXR77134',\n",
       " 'RXN-13662': 'MNXR77131',\n",
       " '2.4.99.8-RXN': 'MNXR8219',\n",
       " 'RXN-13660': 'MNXR63147',\n",
       " 'RXN-13661': 'MNXR60167',\n",
       " 'MERCURY-II-REDUCTASE-RXN': 'MNXR7463',\n",
       " 'AKPTHIOL-RXN': 'MNXR9151',\n",
       " '4.4.1.14-RXN': 'MNXR5646',\n",
       " 'RXN-9538': 'MNXR68774',\n",
       " 'RXN-9539': 'MNXR81383',\n",
       " 'RXN-9536': 'MNXR68185',\n",
       " 'RXN-9537': 'MNXR68170',\n",
       " 'RXN-9534': 'MNXR68771',\n",
       " '4-COUMARATE--COA-LIGASE-RXN': 'MNXR227',\n",
       " 'NAD-SYNTH-GLN-RXN': 'MNXR33034',\n",
       " 'RXN-9533': 'MNXR90319',\n",
       " 'RXN-9530': 'MNXR77859',\n",
       " 'RXN-9531': 'MNXR81381',\n",
       " 'RXN0-5201': 'MNXR936',\n",
       " 'RXN0-5200': 'MNXR90456',\n",
       " 'RXN0-5203': 'MNXR90457',\n",
       " 'RXN0-2522': 'MNXR90420',\n",
       " 'RXN0-5205': 'MNXR5385',\n",
       " 'RXN0-5204': 'MNXR86817',\n",
       " '3.2.1.11-RXN': 'MNXR86750',\n",
       " 'RXN0-5209': 'MNXR24223',\n",
       " 'RXN0-5208': 'MNXR57293',\n",
       " 'QUERCETIN-23-DIOXYGENASE-RXN': 'MNXR7550',\n",
       " '2.3.1.128-RXN': 'MNXR19372',\n",
       " 'RXN-15624': 'MNXR88886',\n",
       " 'RXN-15625': 'MNXR88887',\n",
       " 'RXN-15626': 'MNXR88888',\n",
       " 'RXN-15627': 'MNXR88889',\n",
       " 'RXN-15620': 'MNXR88882',\n",
       " 'RXN-15621': 'MNXR88883',\n",
       " 'RXN-15622': 'MNXR88884',\n",
       " 'RXN-15623': 'MNXR88885',\n",
       " 'RXN-15628': 'MNXR88890',\n",
       " 'RXN-15629': 'MNXR88891',\n",
       " '3.5.3.22-RXN': 'MNXR8172',\n",
       " 'RXN-13482': 'MNXR51003',\n",
       " 'RXN-13483': 'MNXR63017',\n",
       " 'RXN0-6957': 'MNXR71786',\n",
       " 'RXN-13486': 'MNXR63020',\n",
       " 'RXN-13487': 'MNXR63021',\n",
       " 'RXN-13484': 'MNXR63018',\n",
       " 'RXN-13485': 'MNXR77090',\n",
       " '3.4.23.28-RXN': 'MNXR86818',\n",
       " 'RXN-13489': 'MNXR63023',\n",
       " 'LICODIONE-2-O-METHYLTRANSFERASE-RXN': 'MNXR7694',\n",
       " '2.6.1.80-RXN': 'MNXR86669',\n",
       " 'HYDROXYBENZALDEHYDE-OXIDATION-NAD-RXN': 'MNXR5337',\n",
       " 'R211-RXN': 'MNXR18022',\n",
       " 'AMMONIA-KINASE-RXN': 'MNXR8304',\n",
       " 'RXN-11903': 'MNXR9259',\n",
       " '3.6.3.37-RXN': 'MNXR19987',\n",
       " '1.13.12.12-RXN': 'MNXR75900',\n",
       " 'RXN66-164': 'MNXR24644',\n",
       " 'DISULFOXRED-RXN': 'MNXR20312',\n",
       " 'RXN3DJ-11417': 'MNXR4882',\n",
       " 'ACYLGLYCERONE-PHOSPHATE-REDUCTASE-RXN': 'MNXR6815',\n",
       " 'RXN1G-3232': 'MNXR90591',\n",
       " 'RXN-13683': 'MNXR63164',\n",
       " 'RXN-12531': 'MNXR22208',\n",
       " 'RXN-12530': 'MNXR62618',\n",
       " 'RXN-12533': 'MNXR76915',\n",
       " 'RXN-12532': 'MNXR87705',\n",
       " '1.20.1.1-RXN': 'MNXR56599',\n",
       " 'RXN-12534': 'MNXR76916',\n",
       " 'RXN-12289': 'MNXR76869',\n",
       " '3.4.21.63-RXN': 'MNXR86818',\n",
       " 'CYCLOHEXADIENYL-DEHYDROGENASE-RXN': 'MNXR7251',\n",
       " 'RXN-12538': 'MNXR9562',\n",
       " 'RXN-12829': 'MNXR61257',\n",
       " 'RXN-12828': 'MNXR87747',\n",
       " '4.1.1.80-RXN': 'MNXR7628',\n",
       " 'RXN-12281': 'MNXR12632',\n",
       " 'RXN-12280': 'MNXR37545',\n",
       " 'RXN-15080': 'MNXR88507',\n",
       " 'RXN-15081': 'MNXR88508',\n",
       " 'RXN-15082': 'MNXR88509',\n",
       " 'RXN-8587': 'MNXR77728',\n",
       " 'RXN-15084': 'MNXR88511',\n",
       " 'RXN-15085': 'MNXR88512',\n",
       " 'RXN-15086': 'MNXR88513',\n",
       " 'RXN-15087': 'MNXR88514',\n",
       " 'HYGROMYCIN-B-KINASE-RXN': 'MNXR8258',\n",
       " 'RXN-15089': 'MNXR72509',\n",
       " 'RXN-13684': 'MNXR77138',\n",
       " 'RXN-8588': 'MNXR61258',\n",
       " 'RXN-8589': 'MNXR63574',\n",
       " 'HYDROXYMETHYLGLUTARYL-COA-LYASE-RXN': 'MNXR2984',\n",
       " 'RXN-14976': 'MNXR88430',\n",
       " 'RXN-14975': 'MNXR86199',\n",
       " 'RXN-14973': 'MNXR88429',\n",
       " 'RXN-14972': 'MNXR88428',\n",
       " 'RXN-14971': 'MNXR88427',\n",
       " 'RXN-14970': 'MNXR88427',\n",
       " 'RXN-13685': 'MNXR82876',\n",
       " 'GLUTAMATESYN-RXN': 'MNXR31609',\n",
       " 'RXN-14979': 'MNXR88431',\n",
       " 'RXN-14978': 'MNXR86233',\n",
       " 'RXN-12755': 'MNXR87740',\n",
       " 'RXN-12754': 'MNXR22349',\n",
       " 'RXN-12757': 'MNXR19089',\n",
       " 'RXN-12756': 'MNXR9616',\n",
       " '4.4.1.19-RXN': 'MNXR71232',\n",
       " 'RXN-12750': 'MNXR22345',\n",
       " 'NAPHTHOATE-SYN-RXN': 'MNXR6311',\n",
       " 'RXN-12752': 'MNXR22347',\n",
       " 'RXN-10115': 'MNXR87256',\n",
       " 'RXN-12759': 'MNXR9617',\n",
       " 'RXN-12758': 'MNXR17111',\n",
       " '3.4.21.119-RXN': 'MNXR86853',\n",
       " 'RXN-10114': 'MNXR87255',\n",
       " 'RXN1G-374': 'MNXR90601',\n",
       " 'RXN-10116': 'MNXR87257',\n",
       " 'TOLUENE-DIOXYGENASE-RXN': 'MNXR7592',\n",
       " '1.1.3.34-RXN': 'MNXR70875',\n",
       " 'GALACTONOLACTONE-DEHYDROGENASE-RXN': 'MNXR87057',\n",
       " 'ARABINONATE-DEHYDRATASE-RXN': 'MNXR7641',\n",
       " '2.4.1.165-RXN': 'MNXR86620',\n",
       " '1.1.1.277-RXN': 'MNXR6098',\n",
       " '2.4.1.194-RXN': 'MNXR73748',\n",
       " 'LYSINE-N-ACETYLTRANSFERASE-RXN': 'MNXR5852',\n",
       " 'RXN-11035': 'MNXR21184',\n",
       " 'THREONINE-ALDOLASE-RXN': 'MNXR5055',\n",
       " 'RXN-11036': 'MNXR9072',\n",
       " 'DIGLUCO-DOCOSANOATE-ACETYLATION-RXN': 'MNXR61932',\n",
       " 'RXN-16450': 'MNXR89510',\n",
       " 'RXN-14285': 'MNXR39735',\n",
       " 'RXN-14284': 'MNXR83380',\n",
       " 'RXN-14287': 'MNXR65546',\n",
       " 'RXN-14286': 'MNXR39736',\n",
       " 'RXN-14281': 'MNXR74148',\n",
       " 'RXN-14280': 'MNXR4546',\n",
       " 'RXN-14283': 'MNXR26727',\n",
       " 'RXN-14282': 'MNXR26726',\n",
       " ...}"
      ]
     },
     "execution_count": 16,
     "metadata": {},
     "output_type": "execute_result"
    }
   ],
   "source": [
    "RxnCyc2MNX"
   ]
  },
  {
   "cell_type": "markdown",
   "metadata": {},
   "source": [
    "#### Encode the IDs in the Dictionary to match the ones in the model"
   ]
  },
  {
   "cell_type": "code",
   "execution_count": 17,
   "metadata": {},
   "outputs": [],
   "source": [
    "MetCyc2MNX_fixed = {}\n",
    "RxnCyc2MNX_fixed = {}\n",
    "\n",
    "for key in MetCyc2MNX.keys():\n",
    "    keyx = key.replace('(','__40__')\n",
    "    keyx = keyx.replace(')','__41__')\n",
    "    keyx = keyx.replace('-','__45__')\n",
    "    keyx = keyx.replace('+','__43__')\n",
    "    keyx = keyx.replace('.','__46__')\n",
    "    keyx = keyx.replace('/','__47__')\n",
    "    MetCyc2MNX_fixed.update({keyx: MetCyc2MNX[key]})\n",
    "for key in RxnCyc2MNX.keys():\n",
    "    keyx = key.replace('(','__40__')\n",
    "    keyx = keyx.replace(')','__41__')\n",
    "    keyx = keyx.replace('-','__45__')\n",
    "    keyx = keyx.replace('+','__43__')\n",
    "    keyx = keyx.replace('.','__46__')\n",
    "    keyx = keyx.replace('/','__47__')\n",
    "    RxnCyc2MNX_fixed.update({keyx: RxnCyc2MNX[key]})"
   ]
  },
  {
   "cell_type": "markdown",
   "metadata": {},
   "source": [
    "#### Import of the mapping table from MNX to BiGG"
   ]
  },
  {
   "cell_type": "code",
   "execution_count": 18,
   "metadata": {},
   "outputs": [],
   "source": [
    "# MNX as keys mapping to BiGG for Metabolites\n",
    "chem_xref_MNX_BiGG = pd.read_csv('/Users/clie/Desktop/EFPro2/Calculation Results/MetanetX Mapping/chem_xref_2_alt.tsv.txt', delimiter='\\t')\n",
    "df_Metacyc = chem_xref_MNX_BiGG.loc[2:4042,'XRef':'MNX_ID']"
   ]
  },
  {
   "cell_type": "code",
   "execution_count": 19,
   "metadata": {
    "collapsed": true
   },
   "outputs": [],
   "source": [
    "reindex_mnxmet = df_Metacyc.set_index('MNX_ID')"
   ]
  },
  {
   "cell_type": "code",
   "execution_count": 20,
   "metadata": {
    "collapsed": true
   },
   "outputs": [],
   "source": [
    "df3 = reindex_mnxmet.drop('XRef', 1)"
   ]
  },
  {
   "cell_type": "code",
   "execution_count": 21,
   "metadata": {},
   "outputs": [],
   "source": [
    "met_xref_MNX_BIGG_dict = df3.to_dict('index')\n",
    "MetMNX2BIGG = dict([(k,met_xref_MNX_BIGG_dict[k]['XRef_ID']) for k in met_xref_MNX_BIGG_dict.keys()])"
   ]
  },
  {
   "cell_type": "code",
   "execution_count": 22,
   "metadata": {},
   "outputs": [],
   "source": [
    "MetMNX2bigg = dict((v,k) for k,v in MetMNX2BIGG.iteritems())"
   ]
  },
  {
   "cell_type": "code",
   "execution_count": 23,
   "metadata": {
    "collapsed": true
   },
   "outputs": [],
   "source": [
    "# MNX as keys mapping to BiGG for reactions\n",
    "chem_xref_MNX_BiGG = pd.read_csv('/Users/clie/Desktop/EFPro2/Calculation Results/MetanetX Mapping/reac_xref_2_alt.tsv.txt', delimiter='\\t')\n",
    "df_Metacyc1 = chem_xref_MNX_BiGG.loc[0:11459,'XRef':'MNX_ID']\n",
    "reindex_mnxrxn = df_Metacyc1.set_index('MNX_ID')\n",
    "df4 = reindex_mnxrxn.drop('XRef', 1)\n",
    "rxn_xref_MNX_BIGG_dict = df4.to_dict('index')\n",
    "RxnMNX2BIGG = dict([(k,rxn_xref_MNX_BIGG_dict[k]['XRef_ID']) for k in rxn_xref_MNX_BIGG_dict.keys()])"
   ]
  },
  {
   "cell_type": "markdown",
   "metadata": {},
   "source": [
    "#### Construction of a mapping dict from MetaCyc straight to BiGG"
   ]
  },
  {
   "cell_type": "code",
   "execution_count": 24,
   "metadata": {},
   "outputs": [],
   "source": [
    "# Metabolites\n",
    "met_no_conversion_possible = []\n",
    "MetCyc2bigg = {}\n",
    "\n",
    "for key in MetCyc2MNX_fixed:\n",
    "    if MetCyc2MNX_fixed[key] in MetMNX2BIGG.keys():\n",
    "        mnx = MetCyc2MNX_fixed[key]\n",
    "        MetCyc2bigg[key] = MetMNX2BIGG[mnx]\n",
    "    else:\n",
    "        met_no_conversion_possible.append(key)"
   ]
  },
  {
   "cell_type": "code",
   "execution_count": 25,
   "metadata": {},
   "outputs": [],
   "source": [
    "# Reactions\n",
    "rxn_no_conversion_possible = []\n",
    "RxnCyc2bigg = {}\n",
    "\n",
    "for key in RxnCyc2MNX_fixed:\n",
    "    if RxnCyc2MNX_fixed[key] in RxnMNX2BIGG.keys():\n",
    "        mnx = RxnCyc2MNX_fixed[key]\n",
    "        RxnCyc2bigg[key] = RxnMNX2BIGG[mnx]\n",
    "    else:\n",
    "        rxn_no_conversion_possible.append(key)"
   ]
  },
  {
   "cell_type": "markdown",
   "metadata": {},
   "source": [
    "#### Amount of MetaCyc IDs that cannot be converted to BiGG IDs via MNX IDs"
   ]
  },
  {
   "cell_type": "code",
   "execution_count": 26,
   "metadata": {},
   "outputs": [
    {
     "name": "stdout",
     "output_type": "stream",
     "text": [
      "13517\n",
      "12001\n"
     ]
    }
   ],
   "source": [
    "print len(met_no_conversion_possible)\n",
    "print len(rxn_no_conversion_possible)"
   ]
  },
  {
   "cell_type": "markdown",
   "metadata": {},
   "source": [
    "#### Amount of MetaCyc IDs that could be mapped"
   ]
  },
  {
   "cell_type": "code",
   "execution_count": 27,
   "metadata": {},
   "outputs": [
    {
     "name": "stdout",
     "output_type": "stream",
     "text": [
      "1955\n",
      "1782\n"
     ]
    }
   ],
   "source": [
    "print len(MetCyc2bigg.keys())\n",
    "print len(RxnCyc2bigg.keys())"
   ]
  },
  {
   "cell_type": "markdown",
   "metadata": {},
   "source": [
    "#### Find ambiguous mappings in the dict that are relevant for the IDs in the model"
   ]
  },
  {
   "cell_type": "code",
   "execution_count": 28,
   "metadata": {},
   "outputs": [],
   "source": [
    "what_the = {x.id:MetCyc2bigg[x.id.lstrip('_')[:-2]] for x in list(model.metabolites) if x.id.lstrip('_')[:-2] in MetCyc2bigg.keys()}"
   ]
  },
  {
   "cell_type": "code",
   "execution_count": 29,
   "metadata": {},
   "outputs": [],
   "source": [
    "ambig_dict = {}\n",
    "for key in what_the.keys(): \n",
    "    if what_the.values().count(what_the[key]) > 1:\n",
    "        if what_the[key] not in ambig_dict.keys():\n",
    "            ambig_dict[what_the[key]] = [key[:-2]]\n",
    "        else:\n",
    "            if key[:-2] in ambig_dict[what_the[key]]:\n",
    "                pass\n",
    "            else:\n",
    "                ambig_dict[what_the[key]].append(key[:-2])"
   ]
  },
  {
   "cell_type": "code",
   "execution_count": 30,
   "metadata": {},
   "outputs": [
    {
     "name": "stdout",
     "output_type": "stream",
     "text": [
      "['nadp', 'Lfmkynr', 'phpyr', 'acac', 'nadph', 'coa', 'so3', 'nh3', 'trnagln', 'op4en', 'oh1']\n"
     ]
    }
   ],
   "source": [
    "print [x for x in ambig_dict.keys() if len(ambig_dict[x]) > 1]"
   ]
  },
  {
   "cell_type": "code",
   "execution_count": 31,
   "metadata": {},
   "outputs": [
    {
     "data": {
      "text/plain": [
       "['SO3', 'HSO3']"
      ]
     },
     "execution_count": 31,
     "metadata": {},
     "output_type": "execute_result"
    }
   ],
   "source": [
    "ambig_dict['so3']"
   ]
  },
  {
   "cell_type": "code",
   "execution_count": 32,
   "metadata": {
    "collapsed": true
   },
   "outputs": [],
   "source": [
    "what_the['HSO3_c'] = 'hso3'"
   ]
  },
  {
   "cell_type": "code",
   "execution_count": 33,
   "metadata": {},
   "outputs": [
    {
     "data": {
      "text/plain": [
       "['NAD__45__P__45__OR__45__NOP', 'NADP']"
      ]
     },
     "execution_count": 33,
     "metadata": {},
     "output_type": "execute_result"
    }
   ],
   "source": [
    "ambig_dict['nadp']"
   ]
  },
  {
   "cell_type": "code",
   "execution_count": 34,
   "metadata": {},
   "outputs": [],
   "source": [
    "what_the['NAD__45__P__45__OR__45__NOP_c'] = 'NAD__45__P__45__OR__45__NOP'"
   ]
  },
  {
   "cell_type": "code",
   "execution_count": 35,
   "metadata": {},
   "outputs": [
    {
     "data": {
      "text/plain": [
       "['ENOL__45__PHENYLPYRUVATE', 'PHENYL__45__PYRUVATE']"
      ]
     },
     "execution_count": 35,
     "metadata": {},
     "output_type": "execute_result"
    }
   ],
   "source": [
    "ambig_dict['phpyr']"
   ]
  },
  {
   "cell_type": "code",
   "execution_count": 36,
   "metadata": {},
   "outputs": [],
   "source": [
    "what_the['ENOL__45__PHENYLPYRUVATE_c'] = 'ENOL__45__PHENYLPYRUVATE'"
   ]
  },
  {
   "cell_type": "code",
   "execution_count": 37,
   "metadata": {},
   "outputs": [
    {
     "data": {
      "text/plain": [
       "['A__45__3__45__OXO__45__ACID', '_3__45__KETOBUTYRATE']"
      ]
     },
     "execution_count": 37,
     "metadata": {},
     "output_type": "execute_result"
    }
   ],
   "source": [
    "ambig_dict['acac']"
   ]
  },
  {
   "cell_type": "code",
   "execution_count": 38,
   "metadata": {
    "collapsed": true
   },
   "outputs": [],
   "source": [
    "what_the['A__45__3__45__OXO__45__ACID_c'] = 'A__45__3__45__OXO__45__ACID'"
   ]
  },
  {
   "cell_type": "code",
   "execution_count": 39,
   "metadata": {},
   "outputs": [
    {
     "data": {
      "text/plain": [
       "['OH', 'WATER']"
      ]
     },
     "execution_count": 39,
     "metadata": {},
     "output_type": "execute_result"
    }
   ],
   "source": [
    "ambig_dict['oh1']"
   ]
  },
  {
   "cell_type": "code",
   "execution_count": 40,
   "metadata": {},
   "outputs": [],
   "source": [
    "what_the['WATER_e'] = 'WATER'"
   ]
  },
  {
   "cell_type": "code",
   "execution_count": 41,
   "metadata": {},
   "outputs": [],
   "source": [
    "what_the['WATER_m'] = 'WATER'"
   ]
  },
  {
   "cell_type": "code",
   "execution_count": 42,
   "metadata": {
    "collapsed": true
   },
   "outputs": [],
   "source": [
    "what_the['WATER_c'] = 'WATER'"
   ]
  },
  {
   "cell_type": "code",
   "execution_count": 43,
   "metadata": {},
   "outputs": [
    {
     "data": {
      "text/plain": [
       "['OXOPENTENOATE', 'CPD__45__6761']"
      ]
     },
     "execution_count": 43,
     "metadata": {},
     "output_type": "execute_result"
    }
   ],
   "source": [
    "ambig_dict['op4en']"
   ]
  },
  {
   "cell_type": "code",
   "execution_count": 44,
   "metadata": {},
   "outputs": [],
   "source": [
    "what_the['CPD__45__6761_c'] = 'CPD__45__6761'"
   ]
  },
  {
   "cell_type": "code",
   "execution_count": 45,
   "metadata": {},
   "outputs": [
    {
     "data": {
      "text/plain": [
       "['Alcohols', 'GLN__45__tRNAs']"
      ]
     },
     "execution_count": 45,
     "metadata": {},
     "output_type": "execute_result"
    }
   ],
   "source": [
    "ambig_dict['trnagln']"
   ]
  },
  {
   "cell_type": "code",
   "execution_count": 46,
   "metadata": {
    "collapsed": true
   },
   "outputs": [],
   "source": [
    "what_the['Alcohols_c'] = 'Alcohols'"
   ]
  },
  {
   "cell_type": "code",
   "execution_count": 47,
   "metadata": {},
   "outputs": [
    {
     "data": {
      "text/plain": [
       "['AMMONIUM', 'AMMONIA']"
      ]
     },
     "execution_count": 47,
     "metadata": {},
     "output_type": "execute_result"
    }
   ],
   "source": [
    "ambig_dict['nh3']"
   ]
  },
  {
   "cell_type": "code",
   "execution_count": 48,
   "metadata": {},
   "outputs": [],
   "source": [
    "what_the['AMMONIUM_c'] = 'nh4'"
   ]
  },
  {
   "cell_type": "code",
   "execution_count": 49,
   "metadata": {},
   "outputs": [],
   "source": [
    "what_the['AMMONIUM_e'] = 'nh4'"
   ]
  },
  {
   "cell_type": "code",
   "execution_count": 50,
   "metadata": {},
   "outputs": [
    {
     "data": {
      "text/plain": [
       "['CO__45__A', 'COA__45__GROUP']"
      ]
     },
     "execution_count": 50,
     "metadata": {},
     "output_type": "execute_result"
    }
   ],
   "source": [
    "ambig_dict['coa']"
   ]
  },
  {
   "cell_type": "code",
   "execution_count": 51,
   "metadata": {},
   "outputs": [],
   "source": [
    "what_the['COA__45__GROUP_c'] = 'COA__45__GROUP_c'"
   ]
  },
  {
   "cell_type": "code",
   "execution_count": 52,
   "metadata": {},
   "outputs": [
    {
     "data": {
      "text/plain": [
       "['NADH__45__P__45__OR__45__NOP', 'NADPH']"
      ]
     },
     "execution_count": 52,
     "metadata": {},
     "output_type": "execute_result"
    }
   ],
   "source": [
    "ambig_dict['nadph']"
   ]
  },
  {
   "cell_type": "code",
   "execution_count": 53,
   "metadata": {},
   "outputs": [],
   "source": [
    "what_the['NADH__45__P__45__OR__45__NOP_c'] = 'NADH__45__P__45__OR__45__NOP'"
   ]
  },
  {
   "cell_type": "code",
   "execution_count": 54,
   "metadata": {},
   "outputs": [
    {
     "data": {
      "text/plain": [
       "['N__45__FORMYLKYNURENINE', 'CPD__45__10488']"
      ]
     },
     "execution_count": 54,
     "metadata": {},
     "output_type": "execute_result"
    }
   ],
   "source": [
    "ambig_dict['Lfmkynr']"
   ]
  },
  {
   "cell_type": "code",
   "execution_count": 55,
   "metadata": {
    "collapsed": true
   },
   "outputs": [],
   "source": [
    "what_the['CPD__45__10488_c'] = 'CPD__45__10488'"
   ]
  },
  {
   "cell_type": "markdown",
   "metadata": {},
   "source": [
    "#### Mapping the IDs in the current loaded version of the model"
   ]
  },
  {
   "cell_type": "code",
   "execution_count": 56,
   "metadata": {},
   "outputs": [
    {
     "data": {
      "text/plain": [
       "1987"
      ]
     },
     "execution_count": 56,
     "metadata": {},
     "output_type": "execute_result"
    }
   ],
   "source": [
    "len(model.metabolites)"
   ]
  },
  {
   "cell_type": "code",
   "execution_count": 57,
   "metadata": {},
   "outputs": [
    {
     "data": {
      "text/plain": [
       "1103"
      ]
     },
     "execution_count": 57,
     "metadata": {},
     "output_type": "execute_result"
    }
   ],
   "source": [
    "len(what_the)"
   ]
  },
  {
   "cell_type": "code",
   "execution_count": 58,
   "metadata": {},
   "outputs": [
    {
     "name": "stdout",
     "output_type": "stream",
     "text": [
      "CARBON__45__DIOXIDE_m co2\n"
     ]
    }
   ],
   "source": [
    "for met in what_the.keys():\n",
    "    try:\n",
    "        new_id = what_the[met] + '_' + model.metabolites.get_by_id(met).compartment\n",
    "        model.metabolites.get_by_id(met).id = new_id\n",
    "    except ValueError:\n",
    "        print met, what_the[met]"
   ]
  },
  {
   "cell_type": "markdown",
   "metadata": {},
   "source": [
    "### Manually fixing those mets that couldn't be matched"
   ]
  },
  {
   "cell_type": "code",
   "execution_count": 59,
   "metadata": {
    "collapsed": true
   },
   "outputs": [],
   "source": [
    "def swap_mets(metA, metB):\n",
    "\tfor reaction in metA.reactions:\n",
    "\t\tcoef = reaction.metabolites[metA]\n",
    "\t\treaction.add_metabolites({metA: -coef, metB: coef}, combine=True)"
   ]
  },
  {
   "cell_type": "code",
   "execution_count": 60,
   "metadata": {},
   "outputs": [
    {
     "name": "stdout",
     "output_type": "stream",
     "text": [
      "--------------------------------------------------\n",
      "These metabolites have no common reactions!\n"
     ]
    }
   ],
   "source": [
    "foo.find_reaction_from_metabolites(model,['CARBON__45__DIOXIDE_m', 'co2_m'])"
   ]
  },
  {
   "cell_type": "code",
   "execution_count": 61,
   "metadata": {},
   "outputs": [
    {
     "data": {
      "text/plain": [
       "frozenset({<Reaction TRANS_Permeable_Small_Uncharged_Molecules_CO2_EX at 0x126f9c650>})"
      ]
     },
     "execution_count": 61,
     "metadata": {},
     "output_type": "execute_result"
    }
   ],
   "source": [
    "model.metabolites.co2_m.reactions"
   ]
  },
  {
   "cell_type": "code",
   "execution_count": 62,
   "metadata": {},
   "outputs": [
    {
     "data": {
      "text/plain": [
       "frozenset({<Reaction _2OXOGLUTARATEDEH__45__RXN at 0x11cd1e110>,\n",
       "           <Reaction ISOCITDEH__45__RXN at 0x126808b50>,\n",
       "           <Reaction ISOCITRATE__45__DEHYDROGENASE__45__NAD__43____45__RXN at 0x126be5050>,\n",
       "           <Reaction PYRUVDEH__45__RXN at 0x126ce66d0>,\n",
       "           <Reaction _1__46__1__46__1__46__39__45__RXN at 0x126d34b50>,\n",
       "           <Reaction MALIC__45__NADP__45__RXN at 0x126d34c90>,\n",
       "           <Reaction TRANS_Permeable_Small_Uncharged_Molecules_CO2 at 0x126f9c510>,\n",
       "           <Reaction Carbonic_Anhydrase at 0x126fa8fd0>})"
      ]
     },
     "execution_count": 62,
     "metadata": {},
     "output_type": "execute_result"
    }
   ],
   "source": [
    "model.metabolites.CARBON__45__DIOXIDE_m.reactions"
   ]
  },
  {
   "cell_type": "code",
   "execution_count": 63,
   "metadata": {},
   "outputs": [],
   "source": [
    "swap_mets(model.metabolites.CARBON__45__DIOXIDE_m,model.metabolites.co2_m)\n",
    "model.metabolites.CARBON__45__DIOXIDE_m.remove_from_model('subtractive')"
   ]
  },
  {
   "cell_type": "code",
   "execution_count": 64,
   "metadata": {
    "collapsed": true
   },
   "outputs": [],
   "source": [
    "model.metabolites.WATER_m.id = 'h2o_m'"
   ]
  },
  {
   "cell_type": "code",
   "execution_count": 65,
   "metadata": {
    "collapsed": true
   },
   "outputs": [],
   "source": [
    "model.metabolites.WATER_e.id = 'h2o_e'"
   ]
  },
  {
   "cell_type": "code",
   "execution_count": 66,
   "metadata": {},
   "outputs": [],
   "source": [
    "model.metabolites.WATER_c.id = 'h2o_c'"
   ]
  },
  {
   "cell_type": "code",
   "execution_count": 67,
   "metadata": {},
   "outputs": [
    {
     "name": "stdout",
     "output_type": "stream",
     "text": [
      "1986\n",
      "1103\n",
      "55.538771 percent could be mapped\n"
     ]
    }
   ],
   "source": [
    "print len(model.metabolites)\n",
    "print len(what_the)\n",
    "print '%f percent could be mapped' % (float(len(what_the)) / float(len(model.metabolites)) * 100)"
   ]
  },
  {
   "cell_type": "markdown",
   "metadata": {},
   "source": [
    "### Mapping of reactions"
   ]
  },
  {
   "cell_type": "code",
   "execution_count": 68,
   "metadata": {},
   "outputs": [],
   "source": [
    "what_the_rxn = {x.id:RxnCyc2bigg[x.id.lstrip('_')] for x in list(model.reactions) if x.id.lstrip('_') in RxnCyc2bigg.keys()}"
   ]
  },
  {
   "cell_type": "code",
   "execution_count": 69,
   "metadata": {},
   "outputs": [
    {
     "name": "stdout",
     "output_type": "stream",
     "text": [
      "TRANS__45__RXN__45__143 Ktex\n",
      "RXN__45__13698 ALATA_Lm\n"
     ]
    }
   ],
   "source": [
    "for rxn in what_the_rxn.keys():\n",
    "    try:\n",
    "        model.reactions.get_by_id(rxn).id = what_the_rxn[rxn]\n",
    "    except ValueError:\n",
    "        print rxn, what_the_rxn[rxn]"
   ]
  },
  {
   "cell_type": "code",
   "execution_count": 70,
   "metadata": {
    "collapsed": true
   },
   "outputs": [],
   "source": [
    "model.remove_reactions([model.reactions.RXN__45__13698])"
   ]
  },
  {
   "cell_type": "code",
   "execution_count": 71,
   "metadata": {},
   "outputs": [
    {
     "name": "stdout",
     "output_type": "stream",
     "text": [
      "2217\n",
      "595\n",
      "26.838069 percent could be mapped\n"
     ]
    }
   ],
   "source": [
    "print len(model.reactions)\n",
    "print len(what_the_rxn)\n",
    "print '%f percent could be mapped' % (float(len(what_the_rxn)) / float(len(model.reactions)) * 100)"
   ]
  },
  {
   "cell_type": "code",
   "execution_count": 72,
   "metadata": {
    "collapsed": true
   },
   "outputs": [],
   "source": [
    "Rxns_with_Metacyc_ID = [x for x in model.reactions if not x.id in RxnCyc2bigg.values()]"
   ]
  },
  {
   "cell_type": "markdown",
   "metadata": {},
   "source": [
    "#### Adding in the growth conditions from the FBA Script that came with the Thesis"
   ]
  },
  {
   "cell_type": "code",
   "execution_count": 73,
   "metadata": {},
   "outputs": [],
   "source": [
    "for rxn in model.reactions:\n",
    "    if rxn.reversibility == False:\n",
    "        rxn.lower_bound = 0\n",
    "        rxn.upper_bound = 25\n",
    "    else:\n",
    "        rxn.lower_bound = -25\n",
    "        rxn.upper_bound = 25   "
   ]
  },
  {
   "cell_type": "code",
   "execution_count": 74,
   "metadata": {},
   "outputs": [
    {
     "name": "stdout",
     "output_type": "stream",
     "text": [
      "unknown metabolite 'btn_e' created\n",
      "unknown metabolite 'pydx_e' created\n",
      "unknown metabolite 'thm_e' created\n",
      "unknown metabolite 'pnto_R_e' created\n",
      "unknown metabolite 'pnto_R_c' created\n"
     ]
    }
   ],
   "source": [
    "## \n",
    "## Uptake Vitamins\n",
    "rxn = Reaction('BTNtex')\n",
    "rxn.name = 'Biotin transport via diffusion (extracellular to cytosol)'\n",
    "model.add_reaction(rxn)\n",
    "rxn.build_reaction_from_string('btn_e <=> btn_c')\n",
    "\n",
    "rxn = Reaction('PYDXtex')\n",
    "rxn.name = 'Pyridoxal transport via diffusion (extracellular to cytosol)'\n",
    "model.add_reaction(rxn)\n",
    "rxn.build_reaction_from_string('pydx_e <=> pydx_c')\n",
    "\n",
    "rxn = Reaction('THMtex')\n",
    "rxn.name = 'Thiamin transport via diffusion (extracellular to cytosol)'\n",
    "model.add_reaction(rxn)\n",
    "rxn.build_reaction_from_string('thm_e <=> thm_c')\n",
    "\n",
    "rxn = Reaction('PNTO_Rtex')\n",
    "rxn.name = '(R)-Pantothenate transport via diffusion (extracellular to cytosol)'\n",
    "model.add_reaction(rxn)\n",
    "rxn.build_reaction_from_string('pnto_R_e <=> pnto_R_c')\n",
    "\n",
    "model.reactions.TRANS__45__RXNTFS__45__17.lower_bound = -25\n",
    "model.reactions.TRANS__45__RXNTFS__45__17.upper_bound = 25\n",
    "\n",
    "model.metabolites.btn_e.formula = 'C10H15N2O3S'\n",
    "model.metabolites.pydx_e.formula = 'C8H9NO3'\n",
    "model.metabolites.thm_e.formula = 'C12H17N4OS'\n",
    "model.metabolites.pnto_R_e.formula = 'C9H16NO5'"
   ]
  },
  {
   "cell_type": "code",
   "execution_count": 75,
   "metadata": {},
   "outputs": [],
   "source": [
    "model.reactions.EX_cl_e.id = 'CLtex'"
   ]
  },
  {
   "cell_type": "code",
   "execution_count": 76,
   "metadata": {},
   "outputs": [
    {
     "name": "stdout",
     "output_type": "stream",
     "text": [
      "unknown metabolite 'co2_e' created\n"
     ]
    }
   ],
   "source": [
    "## Medium Minerals\n",
    "rxn = Reaction('EX_o2_e')\n",
    "rxn.name = 'Oxygen exchange'\n",
    "model.add_reaction(rxn)\n",
    "rxn.build_reaction_from_string('o2_e <=> ')\n",
    "\n",
    "rxn = Reaction('CO2tex')\n",
    "rxn.name = 'Carbon Dioxide transport via diffusion (extracellular to cytosol)'\n",
    "model.add_reaction(rxn)\n",
    "rxn.build_reaction_from_string('co2_e <=> co2_c')\n",
    "\n",
    "rxn = Reaction('EX_co2_e')\n",
    "rxn.name = 'Carbon Dioxide exchange'\n",
    "model.add_reaction(rxn)\n",
    "rxn.build_reaction_from_string('co2_e <=>')\n",
    "\n",
    "rxn = Reaction('EX_nh4_e')\n",
    "rxn.name = 'Ammonium exchange'\n",
    "model.add_reaction(rxn)\n",
    "rxn.build_reaction_from_string('nh4_e <=> ')\n",
    "\n",
    "rxn = Reaction('EX_cl_e')\n",
    "rxn.name = 'Chloride exchange'\n",
    "model.add_reaction(rxn)\n",
    "rxn.build_reaction_from_string('cl_e <=> ')\n",
    "\n",
    "rxn = Reaction('EX_k_e')\n",
    "rxn.name = 'Potassium exchange'\n",
    "model.add_reaction(rxn)\n",
    "rxn.build_reaction_from_string('k_e <=> ')\n",
    "\n",
    "rxn = Reaction('EX_pi_e')\n",
    "rxn.name = 'Phosphate exchange'\n",
    "model.add_reaction(rxn)\n",
    "rxn.build_reaction_from_string('pi_e <=> ')\n",
    "\n",
    "rxn = Reaction('EX_mg2_e')\n",
    "rxn.name = 'Magnesium exchange'\n",
    "model.add_reaction(rxn)\n",
    "rxn.build_reaction_from_string('mg2_e <=> ')\n",
    "\n",
    "rxn = Reaction('EX_so4_e')\n",
    "rxn.name = 'Sulfate exchange'\n",
    "model.add_reaction(rxn)\n",
    "rxn.build_reaction_from_string('so4_e <=> ')\n",
    "\n",
    "rxn = Reaction('EX_h2o_e')\n",
    "rxn.name = 'Water exchange'\n",
    "model.add_reaction(rxn)\n",
    "rxn.build_reaction_from_string('h2o_e <=> ')"
   ]
  },
  {
   "cell_type": "code",
   "execution_count": 77,
   "metadata": {},
   "outputs": [
    {
     "name": "stdout",
     "output_type": "stream",
     "text": [
      "unknown metabolite 'copper2_e' created\n"
     ]
    }
   ],
   "source": [
    "## Medium Trace Elements\n",
    "rxn = Reaction('EX_zn2_e')\n",
    "rxn.name = 'Zinc exchange'\n",
    "model.add_reaction(rxn)\n",
    "rxn.build_reaction_from_string('zn2_e <=> ')\n",
    "\n",
    "rxn = Reaction('EX_fe2_e')\n",
    "rxn.name = 'Iron exchange'\n",
    "model.add_reaction(rxn)\n",
    "rxn.build_reaction_from_string('fe2_e <=> ')\n",
    "\n",
    "rxn = Reaction('EX_cobalt2_e')\n",
    "rxn.name = 'Cobalt exchange'\n",
    "model.add_reaction(rxn)\n",
    "rxn.build_reaction_from_string('cobalt2_e <=> ')\n",
    "\n",
    "rxn = Reaction('EX_copper2_e')\n",
    "rxn.name = 'Copper exchange'\n",
    "model.add_reaction(rxn)\n",
    "rxn.build_reaction_from_string('copper2_e <=> ')\n",
    "\n",
    "rxn = Reaction('EX_na1_e')\n",
    "rxn.name = 'Sodium exchange'\n",
    "model.add_reaction(rxn)\n",
    "rxn.build_reaction_from_string('na1_e <=> ')\n",
    "\n",
    "rxn = Reaction('EX_ca2_e')\n",
    "rxn.name = 'Calcium exchange'\n",
    "model.add_reaction(rxn)\n",
    "rxn.build_reaction_from_string('ca2_e <=> ')"
   ]
  },
  {
   "cell_type": "code",
   "execution_count": 78,
   "metadata": {
    "collapsed": true
   },
   "outputs": [],
   "source": [
    "## Medium Vitamins\n",
    "rxn = Reaction('EX_btn_e')\n",
    "rxn.name = 'Biotin exchange'\n",
    "model.add_reaction(rxn)\n",
    "rxn.build_reaction_from_string('btn_e <=> ')\n",
    "rxn.lower_bound = -5\n",
    "rxn.upper_bound = 1000\n",
    "\n",
    "rxn = Reaction('EX_pnto_R_e')\n",
    "rxn.name = '(R)-Pantothenate exchange'\n",
    "model.add_reaction(rxn)\n",
    "rxn.build_reaction_from_string('pnto_R_e <=> ')\n",
    "rxn.lower_bound = -5\n",
    "rxn.upper_bound = 1000\n",
    "\n",
    "rxn = Reaction('EX_nac_e')\n",
    "rxn.name = 'Nicotinic acid exchange'\n",
    "model.add_reaction(rxn)\n",
    "rxn.build_reaction_from_string('nac_e <=> ')\n",
    "rxn.lower_bound = -5\n",
    "rxn.upper_bound = 1000\n",
    "\n",
    "rxn = Reaction('EX_inost_e')\n",
    "rxn.name = '(Myo)-Inositol exchange'\n",
    "model.add_reaction(rxn)\n",
    "rxn.build_reaction_from_string('inost_e <=> ')\n",
    "rxn.lower_bound = -5\n",
    "rxn.upper_bound = 1000\n",
    "\n",
    "rxn = Reaction('EX_thm_e')\n",
    "rxn.name = 'Thiamine exchange'\n",
    "model.add_reaction(rxn)\n",
    "rxn.build_reaction_from_string('thm_e <=> ')\n",
    "rxn.lower_bound = -5\n",
    "rxn.upper_bound = 1000\n",
    "\n",
    "rxn = Reaction('EX_pydx_e')\n",
    "rxn.name = 'Pyridoxal exchange'\n",
    "model.add_reaction(rxn)\n",
    "rxn.build_reaction_from_string('pydx_e <=> ')\n",
    "rxn.lower_bound = -5\n",
    "rxn.upper_bound = 1000\n",
    "\n",
    "rxn = Reaction('EX_4abz_e')\n",
    "rxn.name = '4-Aminobenzoate exchange'\n",
    "model.add_reaction(rxn)\n",
    "rxn.build_reaction_from_string('4abz_e <=> ')\n",
    "rxn.lower_bound = -5\n",
    "rxn.upper_bound = 1000"
   ]
  },
  {
   "cell_type": "code",
   "execution_count": 79,
   "metadata": {
    "collapsed": true
   },
   "outputs": [],
   "source": [
    "## Medium Carbon Source \n",
    "rxn = Reaction('EX_glc_A_e')\n",
    "rxn.name = 'D-Glucose exchange'\n",
    "model.add_reaction(rxn)\n",
    "rxn.build_reaction_from_string('glc_A_e <=> ')\n",
    "rxn.lower_bound = -20\n",
    "rxn.upper_bound = 1000\n",
    "\n",
    "rxn = Reaction('EX_glyc_e')\n",
    "rxn.name = 'Glycerol exchange'\n",
    "model.add_reaction(rxn)\n",
    "rxn.build_reaction_from_string('glyc_e <=> ')\n",
    "rxn.lower_bound = 0\n",
    "rxn.upper_bound = 1000\n",
    "\n",
    "rxn = Reaction('EX_xylt_e')\n",
    "rxn.name = 'Xylitol exchange'\n",
    "model.add_reaction(rxn)\n",
    "rxn.build_reaction_from_string('xylt_e <=> ')\n",
    "rxn.lower_bound = 0\n",
    "rxn.upper_bound = 1000"
   ]
  },
  {
   "cell_type": "code",
   "execution_count": 80,
   "metadata": {},
   "outputs": [],
   "source": [
    "# NGAM flux reported by David et al. 2008, Analysis of Aspergillus nidulans metabolism at the genome-scale, BMC Genomics, 9, 163-178. \n",
    "model.reactions.NGAM.upper_bound = 1.8\n",
    "model.reactions.NGAM.lower_bound = 1.8\n",
    "# model.reactions.NGAM.upper_bound = 1000\n",
    "# model.reactions.NGAM.lower_bound = -1000"
   ]
  },
  {
   "cell_type": "code",
   "execution_count": 81,
   "metadata": {},
   "outputs": [
    {
     "name": "stdout",
     "output_type": "stream",
     "text": [
      "NGAM\n"
     ]
    }
   ],
   "source": [
    "for const in model.solver.constraints:\n",
    "\tif const.lb not in (None, 0) or const.ub not in (None, 0):\n",
    "\t\tprint(const.name)\n",
    "\t\t\n",
    "for var in model.solver.variables:\n",
    "\tif var.lb > 0:\n",
    "\t\tprint(var.name)"
   ]
  },
  {
   "cell_type": "code",
   "execution_count": 82,
   "metadata": {
    "collapsed": true
   },
   "outputs": [],
   "source": [
    "# Biomass Exchange Reaction\n",
    "rxn = Reaction('EX_BIOMASS_c')\n",
    "rxn.name = 'BIOMASS exchange'\n",
    "model.add_reaction(rxn)\n",
    "rxn.build_reaction_from_string('BIOMASS_c <=> ')\n",
    "rxn.lower_bound = 0\n",
    "rxn.upper_bound = 1000"
   ]
  },
  {
   "cell_type": "code",
   "execution_count": 83,
   "metadata": {
    "collapsed": true
   },
   "outputs": [],
   "source": [
    "## Add Exchange Reactions for Secretion Products\n",
    "# Carbonic Acids\n",
    "rxn = Reaction('EX_mal__L_e')\n",
    "rxn.name = 'L-Malate exchange'\n",
    "model.add_reaction(rxn)\n",
    "rxn.build_reaction_from_string('mal__L_e -> ')\n",
    "\n",
    "rxn = Reaction('EX_succ_e')\n",
    "rxn.name = 'Succinate exchange'\n",
    "model.add_reaction(rxn)\n",
    "rxn.build_reaction_from_string('succ_e -> ')\n",
    "\n",
    "rxn = Reaction('EX_fum_e')\n",
    "rxn.name = 'Fumarate exchange'\n",
    "model.add_reaction(rxn)\n",
    "rxn.build_reaction_from_string('fum_e -> ')\n",
    "\n",
    "rxn = Reaction('EX_itacon_e')\n",
    "rxn.name = 'Itaconate exchange'\n",
    "model.add_reaction(rxn)\n",
    "rxn.build_reaction_from_string('itacon_e -> ')"
   ]
  },
  {
   "cell_type": "code",
   "execution_count": 84,
   "metadata": {},
   "outputs": [],
   "source": [
    "# Polyols\n",
    "rxn = Reaction('EX_mnl_e')\n",
    "rxn.name = 'Mannitol exchange'\n",
    "model.add_reaction(rxn)\n",
    "rxn.build_reaction_from_string('mnl_e -> ')"
   ]
  },
  {
   "cell_type": "code",
   "execution_count": 85,
   "metadata": {},
   "outputs": [],
   "source": [
    "model.reactions.EX_arg__L_e.id = 'ARGtex'"
   ]
  },
  {
   "cell_type": "code",
   "execution_count": 86,
   "metadata": {},
   "outputs": [],
   "source": [
    "# Amino Acids\n",
    "rxn = Reaction('EX_ala__L_e')\n",
    "rxn.name = 'Alanine exchange'\n",
    "model.add_reaction(rxn)\n",
    "rxn.build_reaction_from_string('ala__L_e -> ')\n",
    "\n",
    "rxn = Reaction('EX_arg__L_e')\n",
    "rxn.name = 'Arginine exchange'\n",
    "model.add_reaction(rxn)\n",
    "rxn.build_reaction_from_string('arg__L_e -> ')\n",
    "\n",
    "rxn = Reaction('EX_asn__L_e')\n",
    "rxn.name = 'Asparagine exchange'\n",
    "model.add_reaction(rxn)\n",
    "rxn.build_reaction_from_string('asn__L_e -> ')\n",
    "\n",
    "rxn = Reaction('EX_asp__L_e')\n",
    "rxn.name = 'Aspartate exchange'\n",
    "model.add_reaction(rxn)\n",
    "rxn.build_reaction_from_string('asp__L_e -> ')\n",
    "\n",
    "rxn = Reaction('EX_cys__L_e')\n",
    "rxn.name = 'Cysteine exchange'\n",
    "model.add_reaction(rxn)\n",
    "rxn.build_reaction_from_string('cys__L_e -> ')\n",
    "\n",
    "rxn = Reaction('EX_gln__L_e')\n",
    "rxn.name = 'Glutamine exchange'\n",
    "model.add_reaction(rxn)\n",
    "rxn.build_reaction_from_string('gln__L_e -> ')\n",
    "\n",
    "rxn = Reaction('EX_gly_e')\n",
    "rxn.name = 'Glycine exchange'\n",
    "model.add_reaction(rxn)\n",
    "rxn.build_reaction_from_string('gly_e -> ')\n",
    "\n",
    "rxn = Reaction('EX_his__L_e')\n",
    "rxn.name = 'Histidine exchange'\n",
    "model.add_reaction(rxn)\n",
    "rxn.build_reaction_from_string('his__L_e -> ')\n",
    "\n",
    "rxn = Reaction('EX_ile__L_e')\n",
    "rxn.name = 'Isoleucine exchange'\n",
    "model.add_reaction(rxn)\n",
    "rxn.build_reaction_from_string('ile__L_e -> ')\n",
    "\n",
    "rxn = Reaction('EX_leu__L_e')\n",
    "rxn.name = 'Leucine exchange'\n",
    "model.add_reaction(rxn)\n",
    "rxn.build_reaction_from_string('leu__L_e -> ')\n",
    "\n",
    "rxn = Reaction('EX_lys__L_e')\n",
    "rxn.name = 'Lysine exchange'\n",
    "model.add_reaction(rxn)\n",
    "rxn.build_reaction_from_string('lys__L_e -> ')\n",
    "\n",
    "rxn = Reaction('EX_met__L_e')\n",
    "rxn.name = 'Methionine exchange'\n",
    "model.add_reaction(rxn)\n",
    "rxn.build_reaction_from_string('met__L_e -> ')\n",
    "\n",
    "rxn = Reaction('EX_phe__L_e')\n",
    "rxn.name = 'Phenylalanine exchange'\n",
    "model.add_reaction(rxn)\n",
    "rxn.build_reaction_from_string('phe__L_e -> ')\n",
    "\n",
    "rxn = Reaction('EX_pro__L_e')\n",
    "rxn.name = 'Proline exchange'\n",
    "model.add_reaction(rxn)\n",
    "rxn.build_reaction_from_string('pro__L_e -> ')\n",
    "\n",
    "rxn = Reaction('EX_ser__L_e')\n",
    "rxn.name = 'Serine exchange'\n",
    "model.add_reaction(rxn)\n",
    "rxn.build_reaction_from_string('ser__L_e -> ')\n",
    "\n",
    "rxn = Reaction('EX_thr__L_e')\n",
    "rxn.name = 'Threonine exchange'\n",
    "model.add_reaction(rxn)\n",
    "rxn.build_reaction_from_string('thr__L_e -> ')\n",
    "\n",
    "rxn = Reaction('EX_trp__L_e')\n",
    "rxn.name = 'Tryptophane exchange'\n",
    "model.add_reaction(rxn)\n",
    "rxn.build_reaction_from_string('trp__L_e -> ')\n",
    "\n",
    "rxn = Reaction('EX_tyr__L_e')\n",
    "rxn.name = 'Tyrosine exchange'\n",
    "model.add_reaction(rxn)\n",
    "rxn.build_reaction_from_string('tyr__L_e -> ')\n",
    "\n",
    "rxn = Reaction('EX_val__L_e')\n",
    "rxn.name = 'Valine exchange'\n",
    "model.add_reaction(rxn)\n",
    "rxn.build_reaction_from_string('val__L_e -> ')"
   ]
  },
  {
   "cell_type": "code",
   "execution_count": 87,
   "metadata": {
    "collapsed": true
   },
   "outputs": [],
   "source": [
    "model.reactions.get_by_id('BIOMASS__45__Formation').add_metabolites({model.metabolites.BIOMASS_c:-1},combine=True)"
   ]
  },
  {
   "cell_type": "code",
   "execution_count": 88,
   "metadata": {
    "collapsed": true
   },
   "outputs": [],
   "source": [
    "model.reactions.get_by_id('BIOMASS__45__Formation').id = 'BIOMASS_REACTION'"
   ]
  },
  {
   "cell_type": "code",
   "execution_count": 89,
   "metadata": {},
   "outputs": [],
   "source": [
    "model.change_objective(model.reactions.BIOMASS_REACTION)"
   ]
  },
  {
   "cell_type": "code",
   "execution_count": 90,
   "metadata": {},
   "outputs": [],
   "source": [
    "sol = model.solve()"
   ]
  },
  {
   "cell_type": "code",
   "execution_count": 91,
   "metadata": {
    "scrolled": true
   },
   "outputs": [
    {
     "data": {
      "text/plain": [
       "0.3552831875120829"
      ]
     },
     "execution_count": 91,
     "metadata": {},
     "output_type": "execute_result"
    }
   ],
   "source": [
    "sol.f"
   ]
  },
  {
   "cell_type": "code",
   "execution_count": 92,
   "metadata": {},
   "outputs": [],
   "source": [
    "# for met in model.metabolites:\n",
    "#     met_id = met.id\n",
    "#     descriptive_name = met.name\n",
    "#     if met.id.endswith('_e'):\n",
    "#         try: \n",
    "#             model.reactions.get_by_id('EX_' + met_id)\n",
    "#         except KeyError:\n",
    "#             rxn = Reaction('EX_' + met_id)\n",
    "#             rxn.name = '{} exchange'.format(descriptive_name)\n",
    "#             rxn.id = 'EX_' + met_id\n",
    "#             model.add_reaction(rxn)\n",
    "#             rxn.reaction = met_id + '-->'\n",
    "#             print rxn\n",
    "            "
   ]
  },
  {
   "cell_type": "code",
   "execution_count": 93,
   "metadata": {
    "scrolled": false
   },
   "outputs": [
    {
     "name": "stdout",
     "output_type": "stream",
     "text": [
      "EX_o2_e -12.8556314123\n",
      "EX_co2_e 3.49043531261\n",
      "EX_nh4_e -3.27220938926\n",
      "EX_pi_e -0.856957259607\n",
      "EX_so4_e -0.029133221376\n",
      "EX_h2o_e 25.0\n",
      "EX_nac_e 0.0562306700875\n",
      "EX_glc_A_e -8.2524844281\n",
      "EX_mal__L_e 6.75306626714\n",
      "EX_ala__L_e 0.72829294588\n",
      "BIOMASS_REACTION 0.355283187512\n"
     ]
    }
   ],
   "source": [
    "solution = foo.show_uptake_excretion(model,model.reactions.BIOMASS_REACTION)"
   ]
  },
  {
   "cell_type": "code",
   "execution_count": 94,
   "metadata": {},
   "outputs": [
    {
     "name": "stderr",
     "output_type": "stream",
     "text": [
      "Warning:  File contains basis.  Basis is loaded.\n"
     ]
    },
    {
     "name": "stdout",
     "output_type": "stream",
     "text": [
      "LINOLEIC_ACID_c -->  0.0399231717808\n"
     ]
    },
    {
     "name": "stderr",
     "output_type": "stream",
     "text": [
      "Warning:  File contains basis.  Basis is loaded.\n"
     ]
    },
    {
     "name": "stdout",
     "output_type": "stream",
     "text": [
      "met__L_c -->  4.85765765766\n"
     ]
    },
    {
     "name": "stderr",
     "output_type": "stream",
     "text": [
      "Warning:  File contains basis.  Basis is loaded.\n"
     ]
    },
    {
     "name": "stdout",
     "output_type": "stream",
     "text": [
      "his__L_c -->  2.12363250133\n"
     ]
    },
    {
     "name": "stderr",
     "output_type": "stream",
     "text": [
      "Warning:  File contains basis.  Basis is loaded.\n"
     ]
    },
    {
     "name": "stdout",
     "output_type": "stream",
     "text": [
      "PHOSPHATIDYLCHOLINE_c -->  1.91545988258\n"
     ]
    },
    {
     "name": "stderr",
     "output_type": "stream",
     "text": [
      "Warning:  File contains basis.  Basis is loaded.\n"
     ]
    },
    {
     "name": "stdout",
     "output_type": "stream",
     "text": [
      "hdca_c -->  3.04705882353\n"
     ]
    },
    {
     "name": "stderr",
     "output_type": "stream",
     "text": [
      "Warning:  File contains basis.  Basis is loaded.\n"
     ]
    },
    {
     "name": "stdout",
     "output_type": "stream",
     "text": [
      "ocdcea_c -->  0.0399231717807\n"
     ]
    },
    {
     "name": "stderr",
     "output_type": "stream",
     "text": [
      "Warning:  File contains basis.  Basis is loaded.\n"
     ]
    },
    {
     "name": "stdout",
     "output_type": "stream",
     "text": [
      "ALPHA__45__D__45__GALACTOSE_c -->  20.0\n"
     ]
    },
    {
     "name": "stderr",
     "output_type": "stream",
     "text": [
      "Warning:  File contains basis.  Basis is loaded.\n"
     ]
    },
    {
     "name": "stdout",
     "output_type": "stream",
     "text": [
      "amp_c -->  9.74860480208\n"
     ]
    },
    {
     "name": "stderr",
     "output_type": "stream",
     "text": [
      "Warning:  File contains basis.  Basis is loaded.\n"
     ]
    },
    {
     "name": "stdout",
     "output_type": "stream",
     "text": [
      "ala__L_c -->  17.2666666667\n"
     ]
    },
    {
     "name": "stderr",
     "output_type": "stream",
     "text": [
      "Warning:  File contains basis.  Basis is loaded.\n"
     ]
    },
    {
     "name": "stdout",
     "output_type": "stream",
     "text": [
      "val__L_c -->  10.36\n"
     ]
    },
    {
     "name": "stderr",
     "output_type": "stream",
     "text": [
      "Warning:  File contains basis.  Basis is loaded.\n"
     ]
    },
    {
     "name": "stdout",
     "output_type": "stream",
     "text": [
      "L__45__1__45__PHOSPHATIDYL__45__ETHANOLAMINE_c -->  3.57\n"
     ]
    },
    {
     "name": "stderr",
     "output_type": "stream",
     "text": [
      "Warning:  File contains basis.  Basis is loaded.\n"
     ]
    },
    {
     "name": "stdout",
     "output_type": "stream",
     "text": [
      "gmp_c -->  8.18989423405\n"
     ]
    },
    {
     "name": "stderr",
     "output_type": "stream",
     "text": [
      "Warning:  File contains basis.  Basis is loaded.\n"
     ]
    },
    {
     "name": "stdout",
     "output_type": "stream",
     "text": [
      "asp__L_c -->  12.65\n"
     ]
    },
    {
     "name": "stderr",
     "output_type": "stream",
     "text": [
      "Warning:  File contains basis.  Basis is loaded.\n"
     ]
    },
    {
     "name": "stdout",
     "output_type": "stream",
     "text": [
      "ser__L_c -->  16.8666666667\n"
     ]
    },
    {
     "name": "stderr",
     "output_type": "stream",
     "text": [
      "Warning:  File contains basis.  Basis is loaded.\n"
     ]
    },
    {
     "name": "stdout",
     "output_type": "stream",
     "text": [
      "leu__L_c -->  5.75555555556\n"
     ]
    },
    {
     "name": "stderr",
     "output_type": "stream",
     "text": [
      "Warning:  File contains basis.  Basis is loaded.\n"
     ]
    },
    {
     "name": "stdout",
     "output_type": "stream",
     "text": [
      "cys__L_c -->  4.24895572264\n"
     ]
    },
    {
     "name": "stderr",
     "output_type": "stream",
     "text": [
      "Warning:  File contains basis.  Basis is loaded.\n"
     ]
    },
    {
     "name": "stdout",
     "output_type": "stream",
     "text": [
      "dttp_c -->  1.75306122449\n"
     ]
    },
    {
     "name": "stderr",
     "output_type": "stream",
     "text": [
      "Warning:  File contains basis.  Basis is loaded.\n"
     ]
    },
    {
     "name": "stdout",
     "output_type": "stream",
     "text": [
      "dgtp_c -->  6.82807017544\n"
     ]
    },
    {
     "name": "stderr",
     "output_type": "stream",
     "text": [
      "Warning:  File contains basis.  Basis is loaded.\n"
     ]
    },
    {
     "name": "stdout",
     "output_type": "stream",
     "text": [
      "LINOLENIC_ACID_c -->  0.0398685731564\n"
     ]
    },
    {
     "name": "stderr",
     "output_type": "stream",
     "text": [
      "Warning:  File contains basis.  Basis is loaded.\n"
     ]
    },
    {
     "name": "stdout",
     "output_type": "stream",
     "text": [
      "gln__L_c -->  5.18\n"
     ]
    },
    {
     "name": "stderr",
     "output_type": "stream",
     "text": [
      "Warning:  File contains basis.  Basis is loaded.\n"
     ]
    },
    {
     "name": "stdout",
     "output_type": "stream",
     "text": [
      "phe__L_c -->  3.13216374269\n"
     ]
    },
    {
     "name": "stderr",
     "output_type": "stream",
     "text": [
      "Warning:  File contains basis.  Basis is loaded.\n"
     ]
    },
    {
     "name": "stdout",
     "output_type": "stream",
     "text": [
      "dctp_c -->  1.6093676815\n"
     ]
    },
    {
     "name": "stderr",
     "output_type": "stream",
     "text": [
      "Warning:  File contains basis.  Basis is loaded.\n"
     ]
    },
    {
     "name": "stdout",
     "output_type": "stream",
     "text": [
      "pro__L_c -->  7.4\n"
     ]
    },
    {
     "name": "stderr",
     "output_type": "stream",
     "text": [
      "Warning:  File contains basis.  Basis is loaded.\n"
     ]
    },
    {
     "name": "stdout",
     "output_type": "stream",
     "text": [
      "ergst_c -->  0.78125\n"
     ]
    },
    {
     "name": "stderr",
     "output_type": "stream",
     "text": [
      "Warning:  File contains basis.  Basis is loaded.\n"
     ]
    },
    {
     "name": "stdout",
     "output_type": "stream",
     "text": [
      "trp__L_c -->  1.75095948827\n"
     ]
    },
    {
     "name": "stderr",
     "output_type": "stream",
     "text": [
      "Warning:  File contains basis.  Basis is loaded.\n"
     ]
    },
    {
     "name": "stdout",
     "output_type": "stream",
     "text": [
      "glc_A_c -->  20.0\n"
     ]
    },
    {
     "name": "stderr",
     "output_type": "stream",
     "text": [
      "Warning:  File contains basis.  Basis is loaded.\n"
     ]
    },
    {
     "name": "stdout",
     "output_type": "stream",
     "text": [
      "ocdca_c -->  2.72631578947\n"
     ]
    },
    {
     "name": "stderr",
     "output_type": "stream",
     "text": [
      "Warning:  File contains basis.  Basis is loaded.\n"
     ]
    },
    {
     "name": "stdout",
     "output_type": "stream",
     "text": [
      "tyr__L_c -->  3.13216374269\n"
     ]
    },
    {
     "name": "stderr",
     "output_type": "stream",
     "text": [
      "Warning:  File contains basis.  Basis is loaded.\n"
     ]
    },
    {
     "name": "stdout",
     "output_type": "stream",
     "text": [
      "datp_c -->  6.82807017544\n"
     ]
    },
    {
     "name": "stderr",
     "output_type": "stream",
     "text": [
      "Warning:  File contains basis.  Basis is loaded.\n"
     ]
    },
    {
     "name": "stdout",
     "output_type": "stream",
     "text": [
      "arg__L_c -->  3.09795918367\n"
     ]
    },
    {
     "name": "stderr",
     "output_type": "stream",
     "text": [
      "Warning:  File contains basis.  Basis is loaded.\n"
     ]
    },
    {
     "name": "stdout",
     "output_type": "stream",
     "text": [
      "thr__L_c -->  11.3485714286\n"
     ]
    },
    {
     "name": "stderr",
     "output_type": "stream",
     "text": [
      "Warning:  File contains basis.  Basis is loaded.\n"
     ]
    },
    {
     "name": "stdout",
     "output_type": "stream",
     "text": [
      "ump_c -->  2.40024009604\n"
     ]
    },
    {
     "name": "stderr",
     "output_type": "stream",
     "text": [
      "Warning:  File contains basis.  Basis is loaded.\n"
     ]
    },
    {
     "name": "stdout",
     "output_type": "stream",
     "text": [
      "cmp_c -->  1.91487179487\n"
     ]
    },
    {
     "name": "stderr",
     "output_type": "stream",
     "text": [
      "Warning:  File contains basis.  Basis is loaded.\n"
     ]
    },
    {
     "name": "stdout",
     "output_type": "stream",
     "text": [
      "atp_c -->  6.82807017544\n"
     ]
    },
    {
     "name": "stderr",
     "output_type": "stream",
     "text": [
      "Warning:  File contains basis.  Basis is loaded.\n"
     ]
    },
    {
     "name": "stdout",
     "output_type": "stream",
     "text": [
      "asn__L_c -->  7.00168067227\n"
     ]
    },
    {
     "name": "stderr",
     "output_type": "stream",
     "text": [
      "Warning:  File contains basis.  Basis is loaded.\n"
     ]
    },
    {
     "name": "stdout",
     "output_type": "stream",
     "text": [
      "chtn_c -->  0.280794701987\n"
     ]
    },
    {
     "name": "stderr",
     "output_type": "stream",
     "text": [
      "Warning:  File contains basis.  Basis is loaded.\n"
     ]
    },
    {
     "name": "stdout",
     "output_type": "stream",
     "text": [
      "gly_c -->  10.12\n"
     ]
    },
    {
     "name": "stderr",
     "output_type": "stream",
     "text": [
      "Warning:  File contains basis.  Basis is loaded.\n"
     ]
    },
    {
     "name": "stdout",
     "output_type": "stream",
     "text": [
      "h2o_c -->  125.542207792\n"
     ]
    },
    {
     "name": "stderr",
     "output_type": "stream",
     "text": [
      "Warning:  File contains basis.  Basis is loaded.\n"
     ]
    },
    {
     "name": "stdout",
     "output_type": "stream",
     "text": [
      "glu__L_c -->  6.475\n"
     ]
    },
    {
     "name": "stderr",
     "output_type": "stream",
     "text": [
      "Warning:  File contains basis.  Basis is loaded.\n"
     ]
    },
    {
     "name": "stdout",
     "output_type": "stream",
     "text": [
      "ile__L_c -->  9.16761904762\n"
     ]
    },
    {
     "name": "stderr",
     "output_type": "stream",
     "text": [
      "Warning:  File contains basis.  Basis is loaded.\n"
     ]
    },
    {
     "name": "stdout",
     "output_type": "stream",
     "text": [
      "MANNOSE__45__6P_c -->  14.0244897959\n"
     ]
    },
    {
     "name": "stderr",
     "output_type": "stream",
     "text": [
      "Warning:  File contains basis.  Basis is loaded.\n"
     ]
    },
    {
     "name": "stdout",
     "output_type": "stream",
     "text": [
      "CPD__45__10330_c -->  20.0\n"
     ]
    },
    {
     "name": "stderr",
     "output_type": "stream",
     "text": [
      "Warning:  File contains basis.  Basis is loaded.\n"
     ]
    },
    {
     "name": "stdout",
     "output_type": "stream",
     "text": [
      "lys__L_c -->  4.70909090909\n"
     ]
    }
   ],
   "source": [
    "    for met in [x.id for x in model.reactions.BIOMASS_REACTION.reactants]:\n",
    "        model_copy = model.copy()\n",
    "        model_copy.add_reaction(Reaction('DM_test'))\n",
    "        model_copy.reactions.DM_test.build_reaction_from_string('%s ->' % (met))\n",
    "        model_copy.objective = model_copy.reactions.DM_test\n",
    "        print model_copy.reactions.DM_test.reaction, model_copy.solve().f"
   ]
  },
  {
   "cell_type": "code",
   "execution_count": 95,
   "metadata": {},
   "outputs": [
    {
     "name": "stdout",
     "output_type": "stream",
     "text": [
      "EX_o2_e -1000 1000\n",
      "EX_co2_e -1000 1000\n",
      "EX_nh4_e -1000 1000\n",
      "EX_cl_e -1000 1000\n",
      "EX_k_e -1000 1000\n",
      "EX_pi_e -1000 1000\n",
      "EX_mg2_e -1000 1000\n",
      "EX_so4_e -1000 1000\n",
      "EX_h2o_e -1000 1000\n",
      "EX_zn2_e -1000 1000\n",
      "EX_fe2_e -1000 1000\n",
      "EX_cobalt2_e -1000 1000\n",
      "EX_copper2_e -1000 1000\n",
      "EX_na1_e -1000 1000\n",
      "EX_ca2_e -1000 1000\n",
      "EX_btn_e -5 1000\n",
      "EX_pnto_R_e -5 1000\n",
      "EX_nac_e -5 1000\n",
      "EX_inost_e -5 1000\n",
      "EX_thm_e -5 1000\n",
      "EX_pydx_e -5 1000\n",
      "EX_4abz_e -5 1000\n",
      "EX_glc_A_e -20 1000\n"
     ]
    }
   ],
   "source": [
    "for rxn in model.reactions:\n",
    "    if rxn.id.startswith('EX_') and rxn.lower_bound < 0:\n",
    "        print rxn.id,rxn.lower_bound,rxn.upper_bound"
   ]
  },
  {
   "cell_type": "markdown",
   "metadata": {},
   "source": [
    "#### Move notes to annotations"
   ]
  },
  {
   "cell_type": "code",
   "execution_count": 96,
   "metadata": {
    "collapsed": true
   },
   "outputs": [],
   "source": [
    "for met in model.metabolites:\n",
    "    try:\n",
    "        len(met.notes.keys()) > 1\n",
    "        met_notes = met.notes\n",
    "        anno_dict = {}\n",
    "        for key in met_notes.keys():\n",
    "            if key == 'BIGG':\n",
    "                anno_dict['bigg.metabolite'] = met_notes[key][0].lstrip('\\'').rstrip('\\'').split(',')[0]\n",
    "            elif key == 'KEGG':\n",
    "                    value_entries = met_notes[key][0].lstrip('\\'').rstrip('\\'').split(',')\n",
    "                    if len(value_entries) > 1:\n",
    "                        anno_dict['kegg.compound'] = [x.lstrip(' ') for x in value_entries]\n",
    "                    else:\n",
    "                        anno_dict['kegg.compound'] = value_entries[0].lstrip(' ')\n",
    "            elif key == 'SEED':\n",
    "                value_entries = met_notes[key][0].lstrip('\\'').rstrip('\\'').split(',')\n",
    "                if len(value_entries) > 1:\n",
    "                    anno_dict['seed.compound'] = [x for x in value_entries]\n",
    "                else:\n",
    "                    anno_dict['seed.compound'] = value_entries[0]\n",
    "            elif key == 'MXNREF':\n",
    "                value_entries = met_notes[key][0].lstrip('\\'').rstrip('\\'').split(',')\n",
    "                if len(value_entries) > 1:\n",
    "                    anno_dict['metanetx.chemical'] = [key+':'+x.lstrip(' ') for x in value_entries]\n",
    "                else:\n",
    "                    anno_dict['metanetx.chemical'] = value_entries[0]\n",
    "            elif key == 'BIOCYC':\n",
    "                value_entries = met_notes[key][0].lstrip('\\'').rstrip('\\'').split(',')\n",
    "                if len(value_entries) > 1:\n",
    "                    anno_dict['biocyc'] = ['META:'+x.lstrip(' ') for x in value_entries]\n",
    "                else:\n",
    "                    anno_dict['biocyc'] = 'META:'+ value_entries[0].lstrip(' ')\n",
    "            elif key == 'CHEBI':\n",
    "                value_entries = met_notes[key][0].lstrip('\\'').rstrip('\\'').split(',')\n",
    "                if len(value_entries) > 1:\n",
    "                    anno_dict['chebi'] = [x.lstrip(' ') for x in value_entries]\n",
    "                else:\n",
    "                    anno_dict['chebi'] = value_entries[0].lstrip(' ')\n",
    "            elif key == 'CAS':\n",
    "                value_entries = met_notes[key][0].lstrip('\\'').rstrip('\\'').split(',')\n",
    "                if len(value_entries) > 1:\n",
    "                    anno_dict['cas'] = [x.lstrip(' ') for x in value_entries]\n",
    "                else:\n",
    "                    anno_dict['cas'] = value_entries[0].lstrip(' ')\n",
    "            elif key == 'CHEMSPIDER':\n",
    "                value_entries = met_notes[key][0].lstrip('\\'').rstrip('\\'').split(',')\n",
    "                if len(value_entries) > 1:\n",
    "                    anno_dict['chemspider'] = [x.lstrip(' ') for x in value_entries]\n",
    "                else:\n",
    "                    anno_dict['chemspider'] = value_entries[0].lstrip(' ')\n",
    "            elif key == 'LIPID-MAPS':\n",
    "                value_entries = met_notes[key][0].lstrip('\\'').rstrip('\\'').split(',')\n",
    "                if len(value_entries) > 1:\n",
    "                    anno_dict['lipidmaps'] = [x.lstrip(' ') for x in value_entries]\n",
    "                else:\n",
    "                    anno_dict['lipidmaps'] = value_entries[0].lstrip(' ')\n",
    "            elif key == 'PUBCHEM':\n",
    "                value_entries = met_notes[key][0].lstrip('\\'').rstrip('\\'').split(',')\n",
    "                if len(value_entries) > 1:\n",
    "                    anno_dict['pubchem.compound'] = [x.lstrip(' ') for x in value_entries]\n",
    "                else:\n",
    "                    anno_dict['pubchem.compound'] = value_entries[0].lstrip(' ')\n",
    "            elif key == 'SMILES':\n",
    "                pass\n",
    "            elif key == 'BRENDA':\n",
    "                pass\n",
    "            elif key == 'INCHI':\n",
    "                value_entries = met_notes[key][0].lstrip('\\'').rstrip('\\'')\n",
    "                anno_dict['inchi'] = met_notes[key][0].lstrip('\\'').rstrip('\\'')\n",
    "            elif key == 'HMDB':\n",
    "                value_entries = met_notes[key][0].lstrip('\\'').rstrip('\\'').split(',')\n",
    "                if len(value_entries) > 1:\n",
    "                    anno_dict[key.lower()] = [x.lstrip(' ') for x in value_entries]\n",
    "                else:\n",
    "                    anno_dict[key.lower()] = value_entries[0].lstrip(' ')\n",
    "            else:\n",
    "                value_entries = met_notes[key][0].lstrip('\\'').rstrip('\\'').split(',')\n",
    "                if len(value_entries) > 1:\n",
    "                    anno_dict[key.lower()] = [key+':'+x.lstrip(' ') for x in value_entries]\n",
    "                else:\n",
    "                    anno_dict[key.lower()] = key+':'+value_entries[0].lstrip(' ')\n",
    "        met.annotation = anno_dict\n",
    "    except:\n",
    "        pass"
   ]
  },
  {
   "cell_type": "code",
   "execution_count": 97,
   "metadata": {
    "collapsed": true
   },
   "outputs": [],
   "source": [
    "for met in model.metabolites:\n",
    "    try:\n",
    "        for key in met.notes.keys():\n",
    "            if key not in ['SMILES']:\n",
    "                met.notes.pop(key)\n",
    "    except:\n",
    "        print '{1} has no notes section'.format(met)"
   ]
  },
  {
   "cell_type": "code",
   "execution_count": 98,
   "metadata": {
    "collapsed": true
   },
   "outputs": [],
   "source": [
    "for rxn in model.reactions:\n",
    "    try:\n",
    "        len(rxn.notes.keys()) > 1\n",
    "        rxn_notes = rxn.notes\n",
    "        anno_dict = {}\n",
    "        for key in rxn_notes.keys():\n",
    "            if key == 'BIGG':\n",
    "                anno_dict['bigg.reaction'] = rxn_notes[key][0].lstrip('\\'').rstrip('\\'').split(',')[0]\n",
    "            elif key == 'KEGG':\n",
    "                    value_entries = rxn_notes[key][0].lstrip('\\'').rstrip('\\'').split(',')\n",
    "                    if len(value_entries) > 1:\n",
    "                        anno_dict['kegg.reaction'] = [x.lstrip(' ') for x in value_entries]\n",
    "                    else:\n",
    "                        anno_dict['kegg.reaction'] = value_entries[0].lstrip(' ')\n",
    "            elif key == 'SEED':\n",
    "                value_entries = rxn_notes[key][0].lstrip('\\'').rstrip('\\'').split(',')\n",
    "                if len(value_entries) > 1:\n",
    "                    anno_dict['seed'] = [x.lstrip(' ') for x in value_entries]\n",
    "                else:\n",
    "                    anno_dict['seed'] = value_entries[0].lstrip(' ')\n",
    "            elif key == 'MXNREF':\n",
    "                value_entries = rxn_notes[key][0].lstrip('\\'').rstrip('\\'').split(',')\n",
    "                if len(value_entries) > 1:\n",
    "                    anno_dict['metanetx.reaction'] = [key+':'+x.lstrip(' ') for x in value_entries]\n",
    "                else:\n",
    "                    anno_dict['metanetx.reaction'] = value_entries[0]\n",
    "            elif key == 'BIOCYC':\n",
    "                value_entries = rxn_notes[key][0].lstrip('\\'').rstrip('\\'').split(',')\n",
    "                if len(value_entries) > 1:\n",
    "                    anno_dict['biocyc'] = ['META:'+x.lstrip(' ') for x in value_entries]\n",
    "                else:\n",
    "                    anno_dict['biocyc'] = 'META:'+ value_entries[0].lstrip(' ')\n",
    "            elif key == 'GENE ASSOCIATION':\n",
    "                pass\n",
    "            elif key == 'CONFIDENCE LEVEL':\n",
    "                pass\n",
    "            elif key == 'NOTES':\n",
    "                pass\n",
    "            elif key == 'INHIBITOR':\n",
    "                pass\n",
    "            elif key == 'LOCALIZATION':\n",
    "                pass\n",
    "            elif key == 'COFACTOR':\n",
    "                pass\n",
    "            elif key == 'SUBSYSTEM':\n",
    "                pass\n",
    "            elif key == 'BRENDA':\n",
    "                pass\n",
    "            elif key == 'EC NUMBER':\n",
    "                value_entries = rxn_notes[key][0].lstrip('\\'').rstrip('\\'').split(';')\n",
    "                if len(value_entries) > 1:\n",
    "                    anno_dict['brenda'] = [x.lstrip(' ') for x in value_entries]\n",
    "                else:\n",
    "                    anno_dict['brenda'] = value_entries[0].lstrip(' ')\n",
    "            elif key == 'REACTOME':\n",
    "                value_entries = rxn_notes[key][0].lstrip('\\'').rstrip('\\'').split(',')\n",
    "                if len(value_entries) > 1:\n",
    "                    anno_dict['reactome'] = [x.lstrip(' ') for x in value_entries]\n",
    "                else:\n",
    "                    anno_dict['reactome'] = value_entries[0].lstrip(' ')\n",
    "            elif key == 'RHEA':\n",
    "                value_entries = rxn_notes[key][0].lstrip('\\'').rstrip('\\'').split(',')\n",
    "                if len(value_entries) > 1:\n",
    "                    anno_dict['rhea'] = [x.lstrip(' ') for x in value_entries]\n",
    "                else:\n",
    "                    anno_dict['rhea'] = value_entries[0].lstrip(' ')\n",
    "            else:\n",
    "                value_entries = rxn_notes[key][0].lstrip('\\'').rstrip('\\'').split(',')\n",
    "                if len(value_entries) > 1:\n",
    "                    anno_dict[key.lower()] = [key+':'+x.lstrip(' ') for x in value_entries]\n",
    "                else:\n",
    "                    anno_dict[key.lower()] = key+':'+value_entries[0].lstrip(' ')\n",
    "        rxn.annotation = anno_dict\n",
    "    except:\n",
    "        pass"
   ]
  },
  {
   "cell_type": "code",
   "execution_count": 99,
   "metadata": {
    "collapsed": true
   },
   "outputs": [],
   "source": [
    "for rxn in model.reactions:\n",
    "    if type(rxn.notes) == dict:\n",
    "        for key in rxn.notes.keys():\n",
    "            if key in ['CONFIDENCE LEVEL', 'LOCALIZATION', 'SUBSYSTEM','INHIBITOR','COFACTOR','NOTES']:\n",
    "                value_entries = rxn.notes[key][0].strip('\\'').split(',')\n",
    "                if len(value_entries) > 1:\n",
    "                    rxn.notes[key] = [x.lstrip(' ') for x in value_entries]\n",
    "                else:\n",
    "                    rxn.notes[key] = value_entries[0]\n",
    "            else:\n",
    "                rxn.notes.pop(key)"
   ]
  },
  {
   "cell_type": "code",
   "execution_count": 100,
   "metadata": {
    "collapsed": true
   },
   "outputs": [],
   "source": [
    "from cobra.manipulation.annotate import add_SBO"
   ]
  },
  {
   "cell_type": "code",
   "execution_count": 101,
   "metadata": {
    "collapsed": true
   },
   "outputs": [],
   "source": [
    "add_SBO(model)"
   ]
  },
  {
   "cell_type": "markdown",
   "metadata": {},
   "source": [
    "### Export the model as JSON and XML using the most recent formats"
   ]
  },
  {
   "cell_type": "code",
   "execution_count": 103,
   "metadata": {
    "collapsed": true
   },
   "outputs": [],
   "source": [
    "import cobra as cobra"
   ]
  },
  {
   "cell_type": "code",
   "execution_count": 106,
   "metadata": {},
   "outputs": [],
   "source": [
    "cobra.io.write_sbml_model(model, 'iCL_Conversion1.xml', use_fbc_package=True)\n",
    "cobra.io.save_json_model(model, 'iCL_Conversion1.json',pretty = True)"
   ]
  },
  {
   "cell_type": "code",
   "execution_count": null,
   "metadata": {
    "collapsed": true
   },
   "outputs": [],
   "source": []
  },
  {
   "cell_type": "code",
   "execution_count": null,
   "metadata": {},
   "outputs": [],
   "source": [
    "emap = escher.Builder(model=model)\n",
    "emap.display_in_browser()"
   ]
  }
 ],
 "metadata": {
  "kernelspec": {
   "display_name": "Python 2",
   "language": "python",
   "name": "python2"
  },
  "language_info": {
   "codemirror_mode": {
    "name": "ipython",
    "version": 2
   },
   "file_extension": ".py",
   "mimetype": "text/x-python",
   "name": "python",
   "nbconvert_exporter": "python",
   "pygments_lexer": "ipython2",
   "version": "2.7.10"
  }
 },
 "nbformat": 4,
 "nbformat_minor": 1
}
