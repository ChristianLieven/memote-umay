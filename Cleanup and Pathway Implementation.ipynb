{
 "cells": [
  {
   "cell_type": "code",
   "execution_count": 1,
   "metadata": {},
   "outputs": [
    {
     "data": {
      "text/html": []
     },
     "metadata": {},
     "output_type": "display_data"
    },
    {
     "data": {
      "application/javascript": [
       "\n",
       "(function(global) {\n",
       "  function now() {\n",
       "    return new Date();\n",
       "  }\n",
       "\n",
       "  if (typeof (window._bokeh_onload_callbacks) === \"undefined\") {\n",
       "    window._bokeh_onload_callbacks = [];\n",
       "  }\n",
       "\n",
       "  function run_callbacks() {\n",
       "    window._bokeh_onload_callbacks.forEach(function(callback) { callback() });\n",
       "    delete window._bokeh_onload_callbacks\n",
       "    console.info(\"Bokeh: all callbacks have finished\");\n",
       "  }\n",
       "\n",
       "  function load_libs(js_urls, callback) {\n",
       "    window._bokeh_onload_callbacks.push(callback);\n",
       "    if (window._bokeh_is_loading > 0) {\n",
       "      console.log(\"Bokeh: BokehJS is being loaded, scheduling callback at\", now());\n",
       "      return null;\n",
       "    }\n",
       "    if (js_urls == null || js_urls.length === 0) {\n",
       "      run_callbacks();\n",
       "      return null;\n",
       "    }\n",
       "    console.log(\"Bokeh: BokehJS not loaded, scheduling load and callback at\", now());\n",
       "    window._bokeh_is_loading = js_urls.length;\n",
       "    for (var i = 0; i < js_urls.length; i++) {\n",
       "      var url = js_urls[i];\n",
       "      var s = document.createElement('script');\n",
       "      s.src = url;\n",
       "      s.async = false;\n",
       "      s.onreadystatechange = s.onload = function() {\n",
       "        window._bokeh_is_loading--;\n",
       "        if (window._bokeh_is_loading === 0) {\n",
       "          console.log(\"Bokeh: all BokehJS libraries loaded\");\n",
       "          run_callbacks()\n",
       "        }\n",
       "      };\n",
       "      s.onerror = function() {\n",
       "        console.warn(\"failed to load library \" + url);\n",
       "      };\n",
       "      console.log(\"Bokeh: injecting script tag for BokehJS library: \", url);\n",
       "      document.getElementsByTagName(\"head\")[0].appendChild(s);\n",
       "    }\n",
       "  };\n",
       "\n",
       "  var js_urls = ['https://cdn.pydata.org/bokeh/release/bokeh-0.11.1.min.js', 'https://cdn.pydata.org/bokeh/release/bokeh-widgets-0.11.1.min.js', 'https://cdn.pydata.org/bokeh/release/bokeh-compiler-0.11.1.min.js'];\n",
       "\n",
       "  var inline_js = [\n",
       "    function(Bokeh) {\n",
       "      Bokeh.set_log_level(\"info\");\n",
       "    },\n",
       "    \n",
       "    function(Bokeh) {\n",
       "      Bokeh.$(\"#7b51a3b7-f76d-4b30-8799-e668966b01b8\").text(\"BokehJS successfully loaded\");\n",
       "    },\n",
       "    function(Bokeh) {\n",
       "      console.log(\"Bokeh: injecting CSS: https://cdn.pydata.org/bokeh/release/bokeh-0.11.1.min.css\");\n",
       "      Bokeh.embed.inject_css(\"https://cdn.pydata.org/bokeh/release/bokeh-0.11.1.min.css\");\n",
       "      console.log(\"Bokeh: injecting CSS: https://cdn.pydata.org/bokeh/release/bokeh-widgets-0.11.1.min.css\");\n",
       "      Bokeh.embed.inject_css(\"https://cdn.pydata.org/bokeh/release/bokeh-widgets-0.11.1.min.css\");\n",
       "    }\n",
       "  ];\n",
       "\n",
       "  function run_inline_js() {\n",
       "    for (var i = 0; i < inline_js.length; i++) {\n",
       "      inline_js[i](window.Bokeh);\n",
       "    }\n",
       "  }\n",
       "\n",
       "  if (window._bokeh_is_loading === 0) {\n",
       "    console.log(\"Bokeh: BokehJS loaded, going straight to plotting\");\n",
       "    run_inline_js();\n",
       "  } else {\n",
       "    load_libs(js_urls, function() {\n",
       "      console.log(\"Bokeh: BokehJS plotting callback run at\", now());\n",
       "      run_inline_js();\n",
       "    });\n",
       "  }\n",
       "}(this));"
      ]
     },
     "metadata": {},
     "output_type": "display_data"
    }
   ],
   "source": [
    "import cameo as cameo\n",
    "from cobra import Model, Reaction, Metabolite\n",
    "from collections import OrderedDict\n",
    "import re\n",
    "import escher\n",
    "from cameo import load_model\n",
    "# from cameo import Reaction, Metabolite\n",
    "from cameo.data import metanetx\n",
    "from cameo.network_analysis import model_to_network, remove_highly_connected_nodes\n",
    "from cameo.flux_analysis.analysis import phenotypic_phase_plane\n",
    "from cameo.parallel import SequentialView\n",
    "import os"
   ]
  },
  {
   "cell_type": "code",
   "execution_count": 2,
   "metadata": {
    "collapsed": true
   },
   "outputs": [],
   "source": [
    "from cameo.core import reaction, metabolite"
   ]
  },
  {
   "cell_type": "code",
   "execution_count": 3,
   "metadata": {
    "collapsed": true
   },
   "outputs": [],
   "source": [
    "model = load_model('iCL_Conversion1.json')"
   ]
  },
  {
   "cell_type": "code",
   "execution_count": 4,
   "metadata": {},
   "outputs": [],
   "source": [
    "solution = model.solve()"
   ]
  },
  {
   "cell_type": "code",
   "execution_count": 5,
   "metadata": {},
   "outputs": [],
   "source": [
    "# maps = escher.Builder(\n",
    "#                     model=model,\n",
    "#                     map_name = 'Ustilago maydis 521 genome-scale metabolic model',\n",
    "#                     map_json='/Users/clie/Desktop/Side Projects/Ustilago_maydis_Thiemo_Zambanini/UstiMap3.json',\n",
    "#                     reaction_data=solution.fluxes,\n",
    "#                     show_gene_reaction_rules=True,\n",
    "#                     use_3d_transform = True,\n",
    "#                     )\n",
    "\n",
    "# maps.set_reaction_scale([ { 'type': 'min', 'color': 'rgb(235,89,162)', 'size': 12 },\n",
    "#    { 'type': 'median', 'color': 'rgb(200,200,200)', 'size': 20 },\n",
    "#    { 'type': 'max', 'color': 'rgb(255,255,109)', 'size': 25 } ])\n",
    "# maps.display_in_browser()"
   ]
  },
  {
   "cell_type": "code",
   "execution_count": 6,
   "metadata": {
    "collapsed": true
   },
   "outputs": [],
   "source": [
    "import imp"
   ]
  },
  {
   "cell_type": "code",
   "execution_count": 7,
   "metadata": {
    "collapsed": true
   },
   "outputs": [],
   "source": [
    "foo = imp.load_source('curation_tools','/Users/clie/Desktop/EFPro2/Functions_Modules/curation_tools.py')"
   ]
  },
  {
   "cell_type": "markdown",
   "metadata": {},
   "source": [
    "## Clean up NH4 Assimilation"
   ]
  },
  {
   "cell_type": "code",
   "execution_count": 8,
   "metadata": {},
   "outputs": [
    {
     "name": "stdout",
     "output_type": "stream",
     "text": [
      "_4__46__3__46__1__46__15__45__RXN: 23dappa_c + h2o_c + h_c <=> 2.0 nh4_c + pyr_c\n",
      "_3__46__5__46__1__46__87__45__RXN: N__45__Carbamoyl__45__L__45__Amino__45__Acids_c + h2o_c + 2.0 h_c <=> L__45__2__45__AMINO__45__ACID_c + co2_c + nh4_c\n",
      "RXN__45__1404: 2.0 h2o_c + ind3acnl_c <=> ind3ac_c + nh4_c\n",
      "RXN__45__14728: ad_c + h2o_c <=> ac_c + nh4_c\n",
      "AMP__45__DEAMINASE__45__RXN: amp_c + h2o_c + h_c <=> imp_c + nh4_c\n",
      "RXN__45__14727: PROPIONAMIDE_c + h2o_c <=> nh4_c + ppa_c\n",
      "RXN__45__9697: tyr__L_c <=> T4hcinnm_c + nh4_c\n",
      "PHENYLALANINE__45__AMMONIA__45__LYASE__45__RXN: phe__L_c <=> cinnm_c + nh4_c\n",
      "_2__46__3__46__2__46__13__45__RXN: Alkylamines_c + Protein__45__L__45__glutamine_c <=> Protein__45__N5__45__alkylglutamines_c + nh4_c\n",
      "_3__46__5__46__5__46__1__45__RXN: Nitriles_c + 2.0 h2o_c <=> Carboxylates_c + nh4_c\n",
      "RXN__45__14987: 34dhphe_c <=> 34dhcinm_c + nh4_c\n",
      "RXNN__45__404: h2o_c + iad_c <=> ind3ac_c + nh4_c\n",
      "BETA__45__UREIDOPROPIONASE__45__RXN: cala_c + h2o_c + 2.0 h_c <=> ala_B_c + co2_c + nh4_c\n",
      "RXN__45__11811: h_c + nh3_c <=> nh4_c\n",
      "RXN__45__11210: 3uib_c + h2o_c + 2.0 h_c <=> 3aib__D_c + co2_c + nh4_c\n",
      "GCVT__45__RXN: AMINOMETHYLDIHYDROLIPOYL__45__GCVH_c + thf_c <=> DIHYDROLIPOYL__45__GCVH_c + mlthf_c + nh4_c\n",
      "R311__45__RXN: aa_c + h2o_c <=> acryl_c + nh4_c\n"
     ]
    }
   ],
   "source": [
    "for rxn in model.metabolites.nh4_c.reactions:\n",
    "    if rxn.reversibility == True and model.metabolites.nh4_c in rxn.products:\n",
    "        print rxn\n",
    "        rxn.lower_bound = 0"
   ]
  },
  {
   "cell_type": "code",
   "execution_count": 9,
   "metadata": {},
   "outputs": [
    {
     "name": "stdout",
     "output_type": "stream",
     "text": [
      "GMP__45__SYN__45__NH3__45__RXN: atp_c + nh4_c + xmp_c <=> amp_c + gmp_c + 2.0 h_c + ppi_c\n",
      "RXN__45__14325: atp_c + nh4_c + utp_c <=> adp_c + ctp_c + 2.0 h_c + pi_c\n",
      "RXN__45__13854: 2.0 h2o_c + 3.0 nad_c + nh4_c <=> 5.0 h_c + 3.0 nadh_c + no2_c\n"
     ]
    }
   ],
   "source": [
    "putative_nh4_assimilatory_rxns = []\n",
    "for rxn in model.metabolites.nh4_c.reactions:\n",
    "    if rxn.reversibility == True and model.metabolites.nh4_c in rxn.reactants:\n",
    "        print rxn"
   ]
  },
  {
   "cell_type": "code",
   "execution_count": 10,
   "metadata": {
    "collapsed": true
   },
   "outputs": [],
   "source": [
    "# Removed because rxn GMPS_glu_m fulfills the same purpose \n",
    "# using Glutamate which is more correct than using Ammonia as the NH3-donor.\n",
    "# This reaction would bypass the natural Ammonia Assimilation done via GS/GOGAT and NADP-GDH in\n",
    "# U. maydis.\n",
    "\n",
    "model.remove_reactions(['GMP__45__SYN__45__NH3__45__RXN'])"
   ]
  },
  {
   "cell_type": "code",
   "execution_count": 11,
   "metadata": {},
   "outputs": [
    {
     "name": "stdout",
     "output_type": "stream",
     "text": [
      "RXN__45__13854: 2.0 h2o_c + 3.0 nad_c + nh4_c <=> 5.0 h_c + 3.0 nadh_c + no2_c\n",
      "RXN__45__13854: 5.0 h_c + 3.0 nadh_c + no2_c --> 2.0 h2o_c + 3.0 nad_c + nh4_c\n"
     ]
    }
   ],
   "source": [
    "rxn = model.reactions.RXN__45__13854\n",
    "print rxn\n",
    "foo.invert_reaction(rxn)\n",
    "rxn.lower_bound = 0\n",
    "print rxn"
   ]
  },
  {
   "cell_type": "code",
   "execution_count": 12,
   "metadata": {
    "collapsed": true
   },
   "outputs": [],
   "source": [
    "# Removed for the same reasons as GMP__45__SYN__45__NH3__45__RXN:\n",
    "# Bypass of Ammonia Assimilation and alternative Reaction CTPS2 fulfills the same purpose\n",
    "model.remove_reactions(['RXN__45__14325'])"
   ]
  },
  {
   "cell_type": "code",
   "execution_count": 13,
   "metadata": {},
   "outputs": [
    {
     "name": "stdout",
     "output_type": "stream",
     "text": [
      "RXN__45__13202: 2.0 atp_c + hco3_c + nh4_c --> 2.0 adp_c + cbp_c + 2.0 h_c + pi_c\n",
      "ASNSYNA__45__RXN: asp__L_c + atp_c + nh4_c --> amp_c + asn__L_c + h_c + ppi_c\n",
      "GLUTDEHYD__45__RXN: akg_c + h_c + nadph_c + nh4_c --> glu__L_c + h2o_c + nadp_c\n",
      "RXN__45__11338: CPD__45__12302_c + atp_c + nh4_c --> CPD__45__12295_c + amp_c + h_c + ppi_c\n",
      "GLUTAMINESYN__45__RXN: atp_c + glu__L_c + nh4_c --> adp_c + gln__L_c + h_c + pi_c\n"
     ]
    }
   ],
   "source": [
    "putative_nh4_assimilatory_rxns = []\n",
    "for rxn in model.metabolites.nh4_c.reactions:\n",
    "    if rxn.reversibility == False and model.metabolites.nh4_c in rxn.reactants:\n",
    "        print rxn"
   ]
  },
  {
   "cell_type": "code",
   "execution_count": 14,
   "metadata": {
    "collapsed": true
   },
   "outputs": [],
   "source": [
    "# Removed for the same reasons as GMP__45__SYN__45__NH3__45__RXN:\n",
    "# Bypass of Ammonia Assimilation and alternative Reaction ASNS1 fulfills the same purpose\n",
    "model.remove_reactions(['ASNSYNA__45__RXN'])"
   ]
  },
  {
   "cell_type": "code",
   "execution_count": 15,
   "metadata": {
    "collapsed": true
   },
   "outputs": [],
   "source": [
    "# Removed for the same reasons as GMP__45__SYN__45__NH3__45__RXN:\n",
    "# Bypass of Ammonia Assimilation and alternative Reaction HCGALm fulfills the same purpose\n",
    "model.remove_reactions(['RXN__45__13202'])"
   ]
  },
  {
   "cell_type": "code",
   "execution_count": 16,
   "metadata": {},
   "outputs": [],
   "source": [
    "# putative_nh4_assimilatory_rxns = []\n",
    "# for rxn in model.metabolites.nh4_c.reactions:\n",
    "#     if rxn.reversibility == False and model.metabolites.nh4_c in rxn.products:\n",
    "#         print rxn"
   ]
  },
  {
   "cell_type": "code",
   "execution_count": 17,
   "metadata": {
    "collapsed": true
   },
   "outputs": [],
   "source": [
    "# GS/GOGAT -> correct IDs"
   ]
  },
  {
   "cell_type": "code",
   "execution_count": 18,
   "metadata": {
    "collapsed": true
   },
   "outputs": [],
   "source": [
    "model.reactions.GLUTAMINESYN__45__RXN.id = 'GLNS'\n",
    "model.reactions.GDH1.id = 'GDHx'\n",
    "model.reactions.GLUTDEHYD__45__RXN.id = 'GDHy'\n",
    "model.reactions.TRANS__45__RXNTFS__45__43__45__AMMONIUM__47____47__AMMONIUM__46__19__46__.id = 'NH4t'"
   ]
  },
  {
   "cell_type": "markdown",
   "metadata": {},
   "source": [
    "## Move Glyoxylate Shute to Mitochondrion"
   ]
  },
  {
   "cell_type": "code",
   "execution_count": 19,
   "metadata": {},
   "outputs": [],
   "source": [
    "# The Glyoxylate Shunt is supposed to be located in the glyoxysome, since this compartment doesn't exist in the model\n",
    "# MALSp and ISOCIT__45__CLEAV__45__RXN will be relocated to the mitochondrium"
   ]
  },
  {
   "cell_type": "code",
   "execution_count": 20,
   "metadata": {
    "collapsed": true
   },
   "outputs": [],
   "source": [
    "def move_compartment(model,reactions,target_compartment_string):\n",
    "    for rxn in reactions:\n",
    "        new_met_dict = {}\n",
    "        for met in rxn.metabolites:\n",
    "            query_id = met.id[:-2] + '_' + target_compartment_string\n",
    "            if query_id in model.metabolites:\n",
    "                new_met_dict[model.metabolites.get_by_id(query_id)] = rxn.metabolites[met]\n",
    "                new_met_dict[met] = -rxn.metabolites[met]\n",
    "            else:\n",
    "                copy_met = met.copy()\n",
    "                copy_met.id = query_id\n",
    "                copy_met.compartment = target_compartment_string\n",
    "                model.add_metabolite(copy_met)\n",
    "                new_met_dict[model.metabolites.get_by_id(query_id)] = rxn.metabolites[met]\n",
    "                new_met_dict[met] = -rxn.metabolites[met]\n",
    "        rxn.add_metabolites(new_met_dict, combine=True)"
   ]
  },
  {
   "cell_type": "code",
   "execution_count": 21,
   "metadata": {},
   "outputs": [],
   "source": [
    "move_compartment(model,[model.reactions.MALSp,model.reactions.ISOCIT__45__CLEAV__45__RXN],'m')"
   ]
  },
  {
   "cell_type": "code",
   "execution_count": 22,
   "metadata": {},
   "outputs": [
    {
     "data": {
      "text/html": [
       "\n",
       "        <table>\n",
       "            <tr>\n",
       "                <td><strong>Id</strong></td><td>MALSp</td>\n",
       "            </tr>\n",
       "            <tr>\n",
       "                <td><strong>Name</strong></td><td>MALSYN-RXN</td>\n",
       "            </tr>\n",
       "            <tr>\n",
       "                <td><strong>Stoichiometry</strong></td><td>accoa_m + glx_m + h2o_m --> coa_m + h_m + mal__L_m</td>\n",
       "            </tr>\n",
       "            <tr>\n",
       "                <td><strong>GPR</strong></td><td>(um15004)</td>\n",
       "            </tr>\n",
       "            <tr>\n",
       "                <td><strong>Lower bound</strong></td><td>0.000000</td>\n",
       "            </tr>\n",
       "            <tr>\n",
       "                <td><strong>Upper bound</strong></td><td>25.000000</td>\n",
       "            </tr>\n",
       "        </table>\n",
       "        "
      ],
      "text/plain": [
       "<Reaction MALSp at 0x121272190>"
      ]
     },
     "execution_count": 22,
     "metadata": {},
     "output_type": "execute_result"
    }
   ],
   "source": [
    "model.reactions.MALSp"
   ]
  },
  {
   "cell_type": "code",
   "execution_count": 23,
   "metadata": {
    "collapsed": true
   },
   "outputs": [],
   "source": [
    "model.reactions.MALSp.id = 'MALSm'"
   ]
  },
  {
   "cell_type": "code",
   "execution_count": 24,
   "metadata": {
    "collapsed": true
   },
   "outputs": [],
   "source": [
    "rxn = model.reactions.MALATE__45__DEH__45__RXN_Cytosolic"
   ]
  },
  {
   "cell_type": "markdown",
   "metadata": {},
   "source": [
    "## Fix Gene-Reaction-Rule for MDH and Malic Enzyme"
   ]
  },
  {
   "cell_type": "code",
   "execution_count": 25,
   "metadata": {
    "collapsed": true
   },
   "outputs": [],
   "source": [
    "rxn.id = 'MDH'"
   ]
  },
  {
   "cell_type": "code",
   "execution_count": 26,
   "metadata": {},
   "outputs": [],
   "source": [
    "# um15004 was falsly annotated as a malate dehydrogenase\n",
    "# more recently it was discovered that it functions as a malate synthase.\n",
    "# um00403 is the mitochondrial malate dehydrogenase and um11161 is the cytosolic malate dehydrogenase\n",
    "rxn.gene_reaction_rule = 'um11161'"
   ]
  },
  {
   "cell_type": "code",
   "execution_count": 27,
   "metadata": {
    "collapsed": true
   },
   "outputs": [],
   "source": [
    "rxn = model.reactions.MDHx\n",
    "rxn.id = 'MDHm'\n",
    "rxn.gene_reaction_rule = 'um00403'"
   ]
  },
  {
   "cell_type": "code",
   "execution_count": 28,
   "metadata": {},
   "outputs": [],
   "source": [
    "model.reactions.Ubiquinol_Cytochrome_C_Reductase_RXN.gene_reaction_rule = '(um11097) and (um10507) and (um00940) and (um11212) and (um01478) and (um04237) and (um11288)'"
   ]
  },
  {
   "cell_type": "code",
   "execution_count": 29,
   "metadata": {},
   "outputs": [
    {
     "data": {
      "text/plain": [
       "frozenset({<Reaction MALATE__45__DEHYDROGENASE__45__ACCEPTOR__45__RXN at 0x117578dd0>,\n",
       "           <Reaction MDHy at 0x1177e2590>,\n",
       "           <Reaction MDH at 0x120a4f5d0>,\n",
       "           <Reaction ME1m at 0x12130e550>,\n",
       "           <Reaction ME2m at 0x12130e690>})"
      ]
     },
     "execution_count": 29,
     "metadata": {},
     "output_type": "execute_result"
    }
   ],
   "source": [
    "model.genes.um11161.reactions"
   ]
  },
  {
   "cell_type": "code",
   "execution_count": 30,
   "metadata": {
    "collapsed": true
   },
   "outputs": [],
   "source": [
    "# Malic enzyme um11919 catalyzes the reversible oxidative decarboxylation of malate to pyruvate and thus provides NADPH \n",
    "# for fatty acid biosynthesis\n",
    "# Below I remove the NAD version of it and move the NADP reaction into the cytosol\n",
    "model.remove_reactions(['ME1m','MALATE__45__DEHYDROGENASE__45__ACCEPTOR__45__RXN','MDHy'])"
   ]
  },
  {
   "cell_type": "code",
   "execution_count": 31,
   "metadata": {},
   "outputs": [
    {
     "data": {
      "text/plain": [
       "frozenset({<Reaction MDH at 0x120a4f5d0>, <Reaction ME2m at 0x12130e690>})"
      ]
     },
     "execution_count": 31,
     "metadata": {},
     "output_type": "execute_result"
    }
   ],
   "source": [
    "model.genes.um11161.reactions"
   ]
  },
  {
   "cell_type": "code",
   "execution_count": 32,
   "metadata": {},
   "outputs": [],
   "source": [
    "model.reactions.ME2m.gene_reaction_rule = 'um11919'"
   ]
  },
  {
   "cell_type": "code",
   "execution_count": 33,
   "metadata": {
    "collapsed": true
   },
   "outputs": [],
   "source": [
    "move_compartment(model,[model.reactions.ME2m],'c')"
   ]
  },
  {
   "cell_type": "code",
   "execution_count": 34,
   "metadata": {},
   "outputs": [],
   "source": [
    "model.reactions.ME2m.id = 'ME2'"
   ]
  },
  {
   "cell_type": "markdown",
   "metadata": {},
   "source": [
    "## Glycolysis clean up"
   ]
  },
  {
   "cell_type": "code",
   "execution_count": 35,
   "metadata": {
    "collapsed": true
   },
   "outputs": [],
   "source": [
    "# MUMDB infers PFK to use ATP as its cofactor. Hence the PPI utilizing version of the reaction will be removed."
   ]
  },
  {
   "cell_type": "code",
   "execution_count": 36,
   "metadata": {},
   "outputs": [
    {
     "data": {
      "text/plain": [
       "frozenset({<Reaction PFKh at 0x12154f890>,\n",
       "           <Reaction _2__46__7__46__1__46__90__45__RXN at 0x12154fc10>})"
      ]
     },
     "execution_count": 36,
     "metadata": {},
     "output_type": "execute_result"
    }
   ],
   "source": [
    "model.genes.um02512.reactions"
   ]
  },
  {
   "cell_type": "code",
   "execution_count": 37,
   "metadata": {
    "collapsed": true
   },
   "outputs": [],
   "source": [
    "model.remove_reactions(['_2__46__7__46__1__46__90__45__RXN'])"
   ]
  },
  {
   "cell_type": "code",
   "execution_count": 38,
   "metadata": {},
   "outputs": [
    {
     "data": {
      "text/plain": [
       "frozenset({<Reaction RXN__45__13720 at 0x1212d89d0>,\n",
       "           <Reaction PGIBh at 0x12130d4d0>,\n",
       "           <Reaction PGIAh at 0x1216bd810>})"
      ]
     },
     "execution_count": 38,
     "metadata": {},
     "output_type": "execute_result"
    }
   ],
   "source": [
    "model.genes.um15008.reactions"
   ]
  },
  {
   "cell_type": "code",
   "execution_count": 39,
   "metadata": {
    "collapsed": true
   },
   "outputs": [],
   "source": [
    "# Generic phosphoglucose isomerase reaction removed\n",
    "model.remove_reactions(['RXN__45__13720'])"
   ]
  },
  {
   "cell_type": "code",
   "execution_count": 40,
   "metadata": {
    "collapsed": true
   },
   "outputs": [],
   "source": [
    "# Glucose Metabolism Simplifictation. Right now the model has 3 isoforms metabolites for glucose (alpha,beta,both)\n",
    "# This will be simplified to just use the one representing both."
   ]
  },
  {
   "cell_type": "code",
   "execution_count": 41,
   "metadata": {
    "collapsed": true
   },
   "outputs": [],
   "source": [
    "import imp"
   ]
  },
  {
   "cell_type": "code",
   "execution_count": 42,
   "metadata": {},
   "outputs": [],
   "source": [
    "foo = imp.load_source('curation_tools','/Users/clie/Desktop/EFPro2/Functions_Modules/curation_tools.py')"
   ]
  },
  {
   "cell_type": "code",
   "execution_count": 43,
   "metadata": {},
   "outputs": [
    {
     "name": "stdout",
     "output_type": "stream",
     "text": [
      "--------------------------------------------------\n",
      "These metabolites have no common reactions!\n"
     ]
    }
   ],
   "source": [
    "foo.find_reaction_from_metabolites(model,['glc__D_c','glc_A_c'])"
   ]
  },
  {
   "cell_type": "code",
   "execution_count": 44,
   "metadata": {},
   "outputs": [],
   "source": [
    "foo.swap_mets(model.metabolites.glc_A_c,model.metabolites.glc__D_c)"
   ]
  },
  {
   "cell_type": "code",
   "execution_count": 45,
   "metadata": {},
   "outputs": [],
   "source": [
    "model.reactions.EX_glc_A_e.upper_bound = 100"
   ]
  },
  {
   "cell_type": "code",
   "execution_count": 46,
   "metadata": {},
   "outputs": [],
   "source": [
    "model.reactions.EX_glc_A_e.lower_bound = -20"
   ]
  },
  {
   "cell_type": "code",
   "execution_count": 47,
   "metadata": {
    "collapsed": true
   },
   "outputs": [],
   "source": [
    "model.reactions.EX_glc_A_e.id = 'EX_glc__D_e'"
   ]
  },
  {
   "cell_type": "code",
   "execution_count": 48,
   "metadata": {},
   "outputs": [],
   "source": [
    "model.add_metabolite(Metabolite('glc__D_e'))"
   ]
  },
  {
   "cell_type": "code",
   "execution_count": 49,
   "metadata": {},
   "outputs": [],
   "source": [
    "foo.swap_mets(model.metabolites.glc_A_e,model.metabolites.glc__D_e)\n",
    "model.metabolites.glc_A_e.remove_from_model('subtractive')"
   ]
  },
  {
   "cell_type": "code",
   "execution_count": 50,
   "metadata": {
    "collapsed": true
   },
   "outputs": [],
   "source": [
    "foo.swap_mets(model.metabolites.glc_bD_c,model.metabolites.glc__D_c)"
   ]
  },
  {
   "cell_type": "code",
   "execution_count": 51,
   "metadata": {},
   "outputs": [],
   "source": [
    "model.metabolites.glc_bD_c.remove_from_model('subtractive')"
   ]
  },
  {
   "cell_type": "code",
   "execution_count": 52,
   "metadata": {},
   "outputs": [
    {
     "data": {
      "text/plain": [
       "frozenset({<Reaction UG6PGTn at 0x12142b450>,\n",
       "           <Reaction RXN__45__761 at 0x12143a750>,\n",
       "           <Reaction PGIAh at 0x1216bd810>,\n",
       "           <Reaction PGMTh at 0x1216bf050>,\n",
       "           <Reaction G6PIh at 0x1216bf250>,\n",
       "           <Reaction GLUKAh at 0x12189dd50>})"
      ]
     },
     "execution_count": 52,
     "metadata": {},
     "output_type": "execute_result"
    }
   ],
   "source": [
    "model.metabolites.g6p_A_c.reactions"
   ]
  },
  {
   "cell_type": "code",
   "execution_count": 53,
   "metadata": {},
   "outputs": [
    {
     "data": {
      "text/plain": [
       "frozenset({<Reaction PGIBh at 0x12130d4d0>,\n",
       "           <Reaction G6PBDHh at 0x12130dcd0>,\n",
       "           <Reaction G6PIh at 0x1216bf250>,\n",
       "           <Reaction GLUCOKIN__45__RXN at 0x121889cd0>})"
      ]
     },
     "execution_count": 53,
     "metadata": {},
     "output_type": "execute_result"
    }
   ],
   "source": [
    "model.metabolites.g6p_B_c.reactions"
   ]
  },
  {
   "cell_type": "code",
   "execution_count": 54,
   "metadata": {},
   "outputs": [
    {
     "data": {
      "text/plain": [
       "frozenset({<Reaction MYO__45__INOSITOL__45__1__45__PHOSPHATE__45__SYNTHASE__45__RXN at 0x117765510>,\n",
       "           <Reaction HEX1 at 0x121889610>})"
      ]
     },
     "execution_count": 54,
     "metadata": {},
     "output_type": "execute_result"
    }
   ],
   "source": [
    "model.metabolites.D__45__glucopyranose__45__6__45__ehosphate_c.reactions"
   ]
  },
  {
   "cell_type": "code",
   "execution_count": 55,
   "metadata": {
    "collapsed": true
   },
   "outputs": [],
   "source": [
    "foo.swap_mets(model.metabolites.g6p_B_c,model.metabolites.g6p_A_c)"
   ]
  },
  {
   "cell_type": "code",
   "execution_count": 56,
   "metadata": {},
   "outputs": [
    {
     "data": {
      "text/plain": [
       "frozenset({<Reaction PGIBh at 0x12130d4d0>,\n",
       "           <Reaction G6PBDHh at 0x12130dcd0>,\n",
       "           <Reaction UG6PGTn at 0x12142b450>,\n",
       "           <Reaction RXN__45__761 at 0x12143a750>,\n",
       "           <Reaction PGIAh at 0x1216bd810>,\n",
       "           <Reaction PGMTh at 0x1216bf050>,\n",
       "           <Reaction GLUCOKIN__45__RXN at 0x121889cd0>,\n",
       "           <Reaction GLUKAh at 0x12189dd50>})"
      ]
     },
     "execution_count": 56,
     "metadata": {},
     "output_type": "execute_result"
    }
   ],
   "source": [
    "model.metabolites.g6p_A_c.reactions"
   ]
  },
  {
   "cell_type": "code",
   "execution_count": 57,
   "metadata": {},
   "outputs": [
    {
     "data": {
      "text/plain": [
       "frozenset()"
      ]
     },
     "execution_count": 57,
     "metadata": {},
     "output_type": "execute_result"
    }
   ],
   "source": [
    "model.metabolites.g6p_B_c.reactions"
   ]
  },
  {
   "cell_type": "code",
   "execution_count": 58,
   "metadata": {
    "collapsed": true
   },
   "outputs": [],
   "source": [
    "foo.swap_mets(model.metabolites.D__45__glucopyranose__45__6__45__ehosphate_c,model.metabolites.g6p_A_c)"
   ]
  },
  {
   "cell_type": "code",
   "execution_count": 59,
   "metadata": {},
   "outputs": [
    {
     "data": {
      "text/plain": [
       "frozenset({<Reaction MYO__45__INOSITOL__45__1__45__PHOSPHATE__45__SYNTHASE__45__RXN at 0x117765510>,\n",
       "           <Reaction PGIBh at 0x12130d4d0>,\n",
       "           <Reaction G6PBDHh at 0x12130dcd0>,\n",
       "           <Reaction UG6PGTn at 0x12142b450>,\n",
       "           <Reaction RXN__45__761 at 0x12143a750>,\n",
       "           <Reaction PGIAh at 0x1216bd810>,\n",
       "           <Reaction PGMTh at 0x1216bf050>,\n",
       "           <Reaction HEX1 at 0x121889610>,\n",
       "           <Reaction GLUCOKIN__45__RXN at 0x121889cd0>,\n",
       "           <Reaction GLUKAh at 0x12189dd50>})"
      ]
     },
     "execution_count": 59,
     "metadata": {},
     "output_type": "execute_result"
    }
   ],
   "source": [
    "model.metabolites.g6p_A_c.reactions"
   ]
  },
  {
   "cell_type": "code",
   "execution_count": 60,
   "metadata": {
    "collapsed": true
   },
   "outputs": [],
   "source": [
    "model.metabolites.g6p_A_c.name = 'D-Glucose 6-phosphate'"
   ]
  },
  {
   "cell_type": "code",
   "execution_count": 61,
   "metadata": {},
   "outputs": [],
   "source": [
    "model.metabolites.g6p_A_c.id = 'g6p_c'"
   ]
  },
  {
   "cell_type": "code",
   "execution_count": 62,
   "metadata": {
    "scrolled": true
   },
   "outputs": [
    {
     "data": {
      "text/plain": [
       "frozenset({<Reaction MYO__45__INOSITOL__45__1__45__PHOSPHATE__45__SYNTHASE__45__RXN at 0x117765510>,\n",
       "           <Reaction PGIBh at 0x12130d4d0>,\n",
       "           <Reaction G6PBDHh at 0x12130dcd0>,\n",
       "           <Reaction UG6PGTn at 0x12142b450>,\n",
       "           <Reaction RXN__45__761 at 0x12143a750>,\n",
       "           <Reaction PGIAh at 0x1216bd810>,\n",
       "           <Reaction PGMTh at 0x1216bf050>,\n",
       "           <Reaction HEX1 at 0x121889610>,\n",
       "           <Reaction GLUCOKIN__45__RXN at 0x121889cd0>,\n",
       "           <Reaction GLUKAh at 0x12189dd50>})"
      ]
     },
     "execution_count": 62,
     "metadata": {},
     "output_type": "execute_result"
    }
   ],
   "source": [
    "model.metabolites.g6p_c.reactions"
   ]
  },
  {
   "cell_type": "code",
   "execution_count": 63,
   "metadata": {
    "collapsed": true
   },
   "outputs": [],
   "source": [
    "model.reactions.PGIBh.id = 'PGI'\n",
    "model.reactions.PGMTh.id = 'PGMT'\n",
    "model.reactions.G6PBDHh.id = 'G6PBDH'\n",
    "model.reactions.UG6PGTn.id = 'UG6PGT'\n",
    "model.reactions.MYO__45__INOSITOL__45__1__45__PHOSPHATE__45__SYNTHASE__45__RXN.id = 'MI1PS'"
   ]
  },
  {
   "cell_type": "code",
   "execution_count": 64,
   "metadata": {
    "collapsed": true
   },
   "outputs": [],
   "source": [
    "model.remove_reactions(['GLUKAh','PGIAh','GLUCOKIN__45__RXN'])"
   ]
  },
  {
   "cell_type": "code",
   "execution_count": 65,
   "metadata": {},
   "outputs": [
    {
     "data": {
      "text/plain": [
       "frozenset({<Reaction RXN__45__14812 at 0x12161dd50>})"
      ]
     },
     "execution_count": 65,
     "metadata": {},
     "output_type": "execute_result"
    }
   ],
   "source": [
    "model.metabolites.f6p_c.reactions"
   ]
  },
  {
   "cell_type": "code",
   "execution_count": 66,
   "metadata": {},
   "outputs": [
    {
     "data": {
      "text/plain": [
       "frozenset({<Reaction TKT2h at 0x1174117d0>,\n",
       "           <Reaction _6__45__PHOSPHOFRUCTO__45__2__45__KINASE__45__RXN at 0x1178683d0>,\n",
       "           <Reaction _3__46__1__46__3__46__46__45__RXN at 0x121287fd0>,\n",
       "           <Reaction MPAKI at 0x1212d4e90>,\n",
       "           <Reaction TAh at 0x12130d210>,\n",
       "           <Reaction PGI at 0x12130d4d0>,\n",
       "           <Reaction BFBPh at 0x12130eed0>,\n",
       "           <Reaction FRUCTOSE__45__6__45__PHOSPHATE__45__PHOSPHOKETOLASE__45__RXN at 0x1213822d0>,\n",
       "           <Reaction L__45__GLN__45__FRUCT__45__6__45__P__45__AMINOTRANS__45__RXN__45__FRUCTOSE__45__6P__47__GLN__47____47__CPD__45__13469__47__GLT__46__31__46__ at 0x121382c90>,\n",
       "           <Reaction ABFPTh at 0x12150de50>,\n",
       "           <Reaction PFKh at 0x12154f890>,\n",
       "           <Reaction RXN__45__14812 at 0x12161dd50>,\n",
       "           <Reaction GLUCOSAMINE__45__6__45__P__45__DEAMIN__45__RXN at 0x121688e10>,\n",
       "           <Reaction UFAGT at 0x1216bdd50>})"
      ]
     },
     "execution_count": 66,
     "metadata": {},
     "output_type": "execute_result"
    }
   ],
   "source": [
    "model.metabolites.f6p_B_c.reactions"
   ]
  },
  {
   "cell_type": "code",
   "execution_count": 67,
   "metadata": {},
   "outputs": [],
   "source": [
    "foo.swap_mets(model.metabolites.f6p_B_c,model.metabolites.f6p_c)"
   ]
  },
  {
   "cell_type": "code",
   "execution_count": 68,
   "metadata": {},
   "outputs": [],
   "source": [
    "model.metabolites.f6p_B_c.remove_from_model()"
   ]
  },
  {
   "cell_type": "code",
   "execution_count": 69,
   "metadata": {
    "collapsed": true
   },
   "outputs": [],
   "source": [
    "model.metabolites.fdp_B_c.id = 'fdp_c'"
   ]
  },
  {
   "cell_type": "code",
   "execution_count": 70,
   "metadata": {
    "collapsed": true
   },
   "outputs": [],
   "source": [
    "model.reactions.G6PBDH.id = 'G6PDH'"
   ]
  },
  {
   "cell_type": "code",
   "execution_count": 71,
   "metadata": {
    "collapsed": true
   },
   "outputs": [],
   "source": [
    "model.reactions.RXN0__45__5260.name = 'Glycerol-3-phosphate dehydrogenase, mitochondrial'\n",
    "model.reactions.RXN0__45__5260.id = 'G3PD5'\n",
    "model.reactions.G3PD1irm.id = 'G3PD1'"
   ]
  },
  {
   "cell_type": "markdown",
   "metadata": {},
   "source": [
    "## Fix up Ubiquinone Reactions"
   ]
  },
  {
   "cell_type": "code",
   "execution_count": 72,
   "metadata": {
    "collapsed": true
   },
   "outputs": [],
   "source": [
    "model.metabolites.UBIQUINONE__45__30_m.id = 'q6_m'"
   ]
  },
  {
   "cell_type": "code",
   "execution_count": 73,
   "metadata": {},
   "outputs": [],
   "source": [
    "model.metabolites.q6_m.compartment = 'm'"
   ]
  },
  {
   "cell_type": "code",
   "execution_count": 74,
   "metadata": {
    "collapsed": true
   },
   "outputs": [],
   "source": [
    "model.metabolites.q6h2_c.compartment = 'c'"
   ]
  },
  {
   "cell_type": "code",
   "execution_count": 75,
   "metadata": {
    "collapsed": true
   },
   "outputs": [],
   "source": [
    "model.metabolites.q6h2_c.id = 'q6h2_m'"
   ]
  },
  {
   "cell_type": "markdown",
   "metadata": {},
   "source": [
    "## Change Genenames to newest nomenclature"
   ]
  },
  {
   "cell_type": "code",
   "execution_count": 76,
   "metadata": {},
   "outputs": [],
   "source": [
    "for gene in model.genes:\n",
    "    gene.id = 'UMAG_' + gene.id[2:]"
   ]
  },
  {
   "cell_type": "code",
   "execution_count": 77,
   "metadata": {
    "collapsed": true
   },
   "outputs": [],
   "source": [
    "import re"
   ]
  },
  {
   "cell_type": "code",
   "execution_count": 78,
   "metadata": {},
   "outputs": [],
   "source": [
    "for rxn in model.reactions:\n",
    "    if rxn.gene_reaction_rule != '':\n",
    "        rep_rule = re.sub('um','UMAG_',rxn.gene_name_reaction_rule)\n",
    "        rxn.gene_reaction_rule = rep_rule"
   ]
  },
  {
   "cell_type": "markdown",
   "metadata": {},
   "source": [
    "## Implement Erythritol Pathway"
   ]
  },
  {
   "cell_type": "code",
   "execution_count": 79,
   "metadata": {},
   "outputs": [
    {
     "data": {
      "text/plain": [
       "frozenset({<Reaction DHAK at 0x1216d2d50>, <Reaction TRIOK at 0x1216e2350>})"
      ]
     },
     "execution_count": 79,
     "metadata": {},
     "output_type": "execute_result"
    }
   ],
   "source": [
    "model.genes.UMAG_00109.reactions"
   ]
  },
  {
   "cell_type": "code",
   "execution_count": 80,
   "metadata": {},
   "outputs": [
    {
     "data": {
      "text/html": [
       "\n",
       "        <table>\n",
       "            <tr>\n",
       "                <td><strong>Id</strong></td><td>DHAK</td>\n",
       "            </tr>\n",
       "            <tr>\n",
       "                <td><strong>Name</strong></td><td>GLYCERONE-KINASE-RXN</td>\n",
       "            </tr>\n",
       "            <tr>\n",
       "                <td><strong>Stoichiometry</strong></td><td>atp_c + dha_c <=> adp_c + dhap_c + h_c</td>\n",
       "            </tr>\n",
       "            <tr>\n",
       "                <td><strong>GPR</strong></td><td>UMAG_00109</td>\n",
       "            </tr>\n",
       "            <tr>\n",
       "                <td><strong>Lower bound</strong></td><td>-25.000000</td>\n",
       "            </tr>\n",
       "            <tr>\n",
       "                <td><strong>Upper bound</strong></td><td>25.000000</td>\n",
       "            </tr>\n",
       "        </table>\n",
       "        "
      ],
      "text/plain": [
       "<Reaction DHAK at 0x1216d2d50>"
      ]
     },
     "execution_count": 80,
     "metadata": {},
     "output_type": "execute_result"
    }
   ],
   "source": [
    "model.reactions.DHAK"
   ]
  },
  {
   "cell_type": "code",
   "execution_count": 81,
   "metadata": {
    "collapsed": true
   },
   "outputs": [],
   "source": [
    "met = Metabolite(name='Erythrose',id='eryth_c',formula='C4H8O4',charge=0,compartment='c')"
   ]
  },
  {
   "cell_type": "code",
   "execution_count": 82,
   "metadata": {},
   "outputs": [],
   "source": [
    "rxn = Reaction(id='E4PK',name='Erythrose-4-phosphate kinase',lower_bound=-25,upper_bound=25)"
   ]
  },
  {
   "cell_type": "code",
   "execution_count": 83,
   "metadata": {},
   "outputs": [],
   "source": [
    "rxn.add_metabolites({model.metabolites.e4p_c:-1,\n",
    "                     model.metabolites.adp_c:-1,\n",
    "                    model.metabolites.h_c:-1,\n",
    "                    model.metabolites.atp_c:1,\n",
    "                    met:1},combine=False)"
   ]
  },
  {
   "cell_type": "code",
   "execution_count": 84,
   "metadata": {
    "collapsed": true
   },
   "outputs": [],
   "source": [
    "met2 = Metabolite(name='Erythritol',id='erythol_c',formula='C4H10O4',charge=0,compartment='c')"
   ]
  },
  {
   "cell_type": "code",
   "execution_count": 85,
   "metadata": {
    "collapsed": true
   },
   "outputs": [],
   "source": [
    "rxn2 = Reaction(id='ER',name='Erythrose reductase',lower_bound=0,upper_bound=25)"
   ]
  },
  {
   "cell_type": "code",
   "execution_count": 86,
   "metadata": {},
   "outputs": [],
   "source": [
    "rxn2.add_metabolites({met:-1,\n",
    "                     model.metabolites.nadph_c:-1,\n",
    "                    model.metabolites.h_c:-1,\n",
    "                    model.metabolites.nadp_c:1,\n",
    "                    met2:1},combine=False)"
   ]
  },
  {
   "cell_type": "code",
   "execution_count": 87,
   "metadata": {
    "collapsed": true
   },
   "outputs": [],
   "source": [
    "model.add_reactions([rxn,rxn2])"
   ]
  },
  {
   "cell_type": "code",
   "execution_count": 88,
   "metadata": {
    "collapsed": true
   },
   "outputs": [],
   "source": [
    "model.reactions.E4PK.gene_reaction_rule = 'UMAG_00109'"
   ]
  },
  {
   "cell_type": "code",
   "execution_count": 89,
   "metadata": {},
   "outputs": [
    {
     "data": {
      "text/html": [
       "\n",
       "        <table>\n",
       "            <tr>\n",
       "                <td><strong>Id</strong></td><td>DM_erythol_c</td>\n",
       "            </tr>\n",
       "            <tr>\n",
       "                <td><strong>Name</strong></td><td>Demand Erythritol</td>\n",
       "            </tr>\n",
       "            <tr>\n",
       "                <td><strong>Stoichiometry</strong></td><td>erythol_c --> </td>\n",
       "            </tr>\n",
       "            <tr>\n",
       "                <td><strong>GPR</strong></td><td></td>\n",
       "            </tr>\n",
       "            <tr>\n",
       "                <td><strong>Lower bound</strong></td><td>0.000000</td>\n",
       "            </tr>\n",
       "            <tr>\n",
       "                <td><strong>Upper bound</strong></td><td>1000.000000</td>\n",
       "            </tr>\n",
       "        </table>\n",
       "        "
      ],
      "text/plain": [
       "<Reaction DM_erythol_c at 0x121287a90>"
      ]
     },
     "execution_count": 89,
     "metadata": {},
     "output_type": "execute_result"
    }
   ],
   "source": [
    "model.add_demand(model.metabolites.erythol_c)"
   ]
  },
  {
   "cell_type": "code",
   "execution_count": 90,
   "metadata": {
    "collapsed": true
   },
   "outputs": [],
   "source": [
    "model.change_objective(model.reactions.DM_erythol_c)"
   ]
  },
  {
   "cell_type": "code",
   "execution_count": 91,
   "metadata": {},
   "outputs": [
    {
     "data": {
      "text/plain": [
       "25.0"
      ]
     },
     "execution_count": 91,
     "metadata": {},
     "output_type": "execute_result"
    }
   ],
   "source": [
    "model.solve().f"
   ]
  },
  {
   "cell_type": "markdown",
   "metadata": {},
   "source": [
    "## MEL Biosynthesis Pathway"
   ]
  },
  {
   "cell_type": "code",
   "execution_count": 92,
   "metadata": {},
   "outputs": [
    {
     "data": {
      "text/html": [
       "\n",
       "        <table>\n",
       "            <tr>\n",
       "                <td><strong>Id</strong></td><td>gdpmann_c</td>\n",
       "            </tr>\n",
       "            <tr>\n",
       "                <td><strong>Name</strong></td><td>GDP-alpha-D-mannose</td>\n",
       "            </tr>\n",
       "            <tr>\n",
       "                <td><strong>Formula</strong></td><td>C16H23N5O16P2</td>\n",
       "            </tr>\n",
       "        </table>"
      ],
      "text/plain": [
       "<Metabolite gdpmann_c at 0x121272690>"
      ]
     },
     "execution_count": 92,
     "metadata": {},
     "output_type": "execute_result"
    }
   ],
   "source": [
    "model.metabolites.gdpmann_c"
   ]
  },
  {
   "cell_type": "code",
   "execution_count": 93,
   "metadata": {},
   "outputs": [
    {
     "data": {
      "text/plain": [
       "'C4H10O4'"
      ]
     },
     "execution_count": 93,
     "metadata": {},
     "output_type": "execute_result"
    }
   ],
   "source": [
    "model.metabolites.erythol_c.formula"
   ]
  },
  {
   "cell_type": "markdown",
   "metadata": {},
   "source": [
    "#### Defining EMT1"
   ]
  },
  {
   "cell_type": "code",
   "execution_count": 94,
   "metadata": {
    "collapsed": true
   },
   "outputs": [],
   "source": [
    "met = Metabolite(name='Mannosylerythritol',id='manerythol_c',formula='C10H20O9',charge=0,compartment='c')"
   ]
  },
  {
   "cell_type": "code",
   "execution_count": 95,
   "metadata": {
    "collapsed": true
   },
   "outputs": [],
   "source": [
    "rxn = Reaction(id='EMT1',name='Glycosyltransferase',lower_bound=0,upper_bound=1000)"
   ]
  },
  {
   "cell_type": "code",
   "execution_count": 96,
   "metadata": {},
   "outputs": [
    {
     "data": {
      "text/plain": [
       "-3"
      ]
     },
     "execution_count": 96,
     "metadata": {},
     "output_type": "execute_result"
    }
   ],
   "source": [
    "model.metabolites.gdp_c.charge"
   ]
  },
  {
   "cell_type": "code",
   "execution_count": 97,
   "metadata": {},
   "outputs": [],
   "source": [
    "rxn.add_metabolites({model.metabolites.erythol_c:-1,\n",
    "                    model.metabolites.gdpmann_c:-1,\n",
    "                    model.metabolites.gdp_c:1,\n",
    "                    model.metabolites.h_c:1,\n",
    "                    met:1},combine=False)"
   ]
  },
  {
   "cell_type": "code",
   "execution_count": 98,
   "metadata": {
    "collapsed": true
   },
   "outputs": [],
   "source": [
    "rxn.gene_reaction_rule = 'UMAG_10104'"
   ]
  },
  {
   "cell_type": "code",
   "execution_count": 99,
   "metadata": {},
   "outputs": [
    {
     "data": {
      "text/plain": [
       "{}"
      ]
     },
     "execution_count": 99,
     "metadata": {},
     "output_type": "execute_result"
    }
   ],
   "source": [
    "rxn.check_mass_balance()"
   ]
  },
  {
   "cell_type": "markdown",
   "metadata": {},
   "source": [
    "#### Defining MAC1"
   ]
  },
  {
   "cell_type": "code",
   "execution_count": 100,
   "metadata": {
    "collapsed": true
   },
   "outputs": [],
   "source": [
    "met2 = Metabolite(name='hexoyl-2-mannosylerithritol',id='hex2manerythol_c',formula='C16H30O10',charge=0,compartment='c')"
   ]
  },
  {
   "cell_type": "code",
   "execution_count": 101,
   "metadata": {
    "collapsed": true
   },
   "outputs": [],
   "source": [
    "rxn2 = Reaction(id='MAC1',name='Mannosylerithritol C2 Acyltransferase',lower_bound=0,upper_bound=1000)"
   ]
  },
  {
   "cell_type": "code",
   "execution_count": 102,
   "metadata": {
    "collapsed": true
   },
   "outputs": [],
   "source": [
    "rxn2.gene_reaction_rule = 'UMAG_03116'"
   ]
  },
  {
   "cell_type": "code",
   "execution_count": 103,
   "metadata": {
    "collapsed": true
   },
   "outputs": [],
   "source": [
    "rxn2.add_metabolites({met:-1,\n",
    "                    model.metabolites.hexACP_c:-1,\n",
    "                    model.metabolites.ACP_c:1,\n",
    "                    met2:1},combine=False)"
   ]
  },
  {
   "cell_type": "code",
   "execution_count": 104,
   "metadata": {
    "collapsed": true
   },
   "outputs": [],
   "source": [
    "model.metabolites.hexACP_c.formula = 'C17H31N2O8PRS'\n",
    "model.metabolites.hexACP_c.charge = -1\n",
    "model.metabolites.ACP_c.formula = 'C11H21N2O7PRS'\n",
    "model.metabolites.ACP_c.charge = -1"
   ]
  },
  {
   "cell_type": "code",
   "execution_count": 105,
   "metadata": {},
   "outputs": [
    {
     "data": {
      "text/plain": [
       "'hexACP_c + manerythol_c --> ACP_c + hex2manerythol_c'"
      ]
     },
     "execution_count": 105,
     "metadata": {},
     "output_type": "execute_result"
    }
   ],
   "source": [
    "rxn2.reaction"
   ]
  },
  {
   "cell_type": "code",
   "execution_count": 106,
   "metadata": {},
   "outputs": [
    {
     "data": {
      "text/plain": [
       "{}"
      ]
     },
     "execution_count": 106,
     "metadata": {},
     "output_type": "execute_result"
    }
   ],
   "source": [
    "rxn2.check_mass_balance()"
   ]
  },
  {
   "cell_type": "markdown",
   "metadata": {},
   "source": [
    "#### Defining MAC2"
   ]
  },
  {
   "cell_type": "code",
   "execution_count": 107,
   "metadata": {
    "collapsed": true
   },
   "outputs": [],
   "source": [
    "met3 = Metabolite(name='tetradecanoyl-3-hexoyl-2-mannosylerithritol',id='MEL_D_c',formula='C30H56O11',charge=0,compartment='c')"
   ]
  },
  {
   "cell_type": "code",
   "execution_count": 108,
   "metadata": {
    "collapsed": true
   },
   "outputs": [],
   "source": [
    "rxn3 = Reaction(id='MAC2',name='Mannosylerithritol C3 Acyltransferase',lower_bound=0,upper_bound=1000)"
   ]
  },
  {
   "cell_type": "code",
   "execution_count": 109,
   "metadata": {
    "collapsed": true
   },
   "outputs": [],
   "source": [
    "rxn3.gene_reaction_rule = 'UMAG_10636'"
   ]
  },
  {
   "cell_type": "code",
   "execution_count": 110,
   "metadata": {
    "collapsed": true
   },
   "outputs": [],
   "source": [
    "model.metabolites.myrsACP_c.formula = 'C25H47N2O8PRS'\n",
    "model.metabolites.myrsACP_c.charge = -1"
   ]
  },
  {
   "cell_type": "code",
   "execution_count": 111,
   "metadata": {
    "collapsed": true
   },
   "outputs": [],
   "source": [
    "rxn3.add_metabolites({met2:-1,\n",
    "                    model.metabolites.myrsACP_c:-1,\n",
    "                    model.metabolites.ACP_c:1,\n",
    "                    met3:1},combine=False)"
   ]
  },
  {
   "cell_type": "code",
   "execution_count": 112,
   "metadata": {},
   "outputs": [
    {
     "data": {
      "text/plain": [
       "{}"
      ]
     },
     "execution_count": 112,
     "metadata": {},
     "output_type": "execute_result"
    }
   ],
   "source": [
    "rxn3.check_mass_balance()"
   ]
  },
  {
   "cell_type": "code",
   "execution_count": 113,
   "metadata": {
    "collapsed": true
   },
   "outputs": [],
   "source": [
    "model.add_reactions([rxn,rxn2,rxn3])"
   ]
  },
  {
   "cell_type": "code",
   "execution_count": 114,
   "metadata": {
    "collapsed": true
   },
   "outputs": [],
   "source": [
    "model.repair()"
   ]
  },
  {
   "cell_type": "markdown",
   "metadata": {},
   "source": [
    "#### Defining MAT1"
   ]
  },
  {
   "cell_type": "code",
   "execution_count": 115,
   "metadata": {},
   "outputs": [],
   "source": [
    "met1 = Metabolite(name='MEL A',id='MEL_A_c',formula='C34H60O13',charge=0,compartment='c')\n",
    "met2 = Metabolite(name='MEL B',id='MEL_B_c',formula='C32H58O12',charge=0,compartment='c')\n",
    "met3 = Metabolite(name='MEL C',id='MEL_C_c',formula='C32H58O12',charge=0,compartment='c')"
   ]
  },
  {
   "cell_type": "code",
   "execution_count": 116,
   "metadata": {
    "collapsed": true
   },
   "outputs": [],
   "source": [
    "rxn1 = Reaction(id='MAT1a',name='MEL acetylase - MEL A',lower_bound=0,upper_bound=25)\n",
    "rxn1.gene_reaction_rule = 'UMAG_03114'\n",
    "rxn1.add_metabolites({model.metabolites.MEL_D_c:-1,\n",
    "                    model.metabolites.accoa_c:-2,\n",
    "                    model.metabolites.coa_c:2,\n",
    "                    met1:1},combine=False)\n",
    "rxn2 = Reaction(id='MAT1b',name='MEL acetylase  - MEL B',lower_bound=0,upper_bound=25)\n",
    "rxn2.gene_reaction_rule = 'UMAG_03114'\n",
    "rxn2.add_metabolites({model.metabolites.MEL_D_c:-1,\n",
    "                    model.metabolites.accoa_c:-1,\n",
    "                    model.metabolites.coa_c:1,\n",
    "                    met2:1},combine=False)\n",
    "rxn3 = Reaction(id='MAT1c',name='MEL acetylase  - MEL C',lower_bound=0,upper_bound=25)\n",
    "rxn3.gene_reaction_rule = 'UMAG_03114'\n",
    "rxn3.add_metabolites({model.metabolites.MEL_D_c:-1,\n",
    "                    model.metabolites.accoa_c:-1,\n",
    "                    model.metabolites.coa_c:1,\n",
    "                    met3:1},combine=False)"
   ]
  },
  {
   "cell_type": "code",
   "execution_count": 117,
   "metadata": {},
   "outputs": [],
   "source": [
    "model.add_reactions([rxn1,rxn2,rxn3])"
   ]
  },
  {
   "cell_type": "markdown",
   "metadata": {},
   "source": [
    "#### Defining Mmf1"
   ]
  },
  {
   "cell_type": "code",
   "execution_count": 118,
   "metadata": {
    "collapsed": true
   },
   "outputs": [],
   "source": [
    "met1 = model.metabolites.MEL_A_c.copy()\n",
    "met1.compartment = 'e'\n",
    "met1.id = 'MEL_A_e'\n",
    "met2 = model.metabolites.MEL_B_c.copy()\n",
    "met2.compartment = 'e'\n",
    "met2.id = 'MEL_B_e'\n",
    "met3 = model.metabolites.MEL_C_c.copy()\n",
    "met3.compartment = 'e'\n",
    "met3.id = 'MEL_C_e'\n",
    "met4 = model.metabolites.MEL_D_c.copy()\n",
    "met4.compartment = 'e'\n",
    "met4.id = 'MEL_D_e'"
   ]
  },
  {
   "cell_type": "code",
   "execution_count": 119,
   "metadata": {},
   "outputs": [],
   "source": [
    "rxn1 = Reaction(id='MEL_Ate',name='MEL A Transporter',lower_bound=-1000,upper_bound=1000)\n",
    "rxn1.add_metabolites({model.metabolites.MEL_A_c:-1,\n",
    "                    met1:1},combine=False)\n",
    "rxn2= Reaction(id='MEL_Bte',name='MEL B Transporter',lower_bound=-1000,upper_bound=1000)\n",
    "rxn2.add_metabolites({model.metabolites.MEL_B_c:-1,\n",
    "                    met2:1},combine=False)\n",
    "rxn3 = Reaction(id='MEL_Cte',name='MEL C Transporter',lower_bound=-1000,upper_bound=1000)\n",
    "rxn3.add_metabolites({model.metabolites.MEL_C_c:-1,\n",
    "                    met3:1},combine=False)\n",
    "rxn4 = Reaction(id='MEL_Dte',name='MEL D Transporter',lower_bound=-1000,upper_bound=1000)\n",
    "rxn4.add_metabolites({model.metabolites.MEL_D_c:-1,\n",
    "                    met4:1},combine=False)"
   ]
  },
  {
   "cell_type": "code",
   "execution_count": 120,
   "metadata": {
    "collapsed": true
   },
   "outputs": [],
   "source": [
    "rxn1.gene_reaction_rule = 'UMAG_03115'\n",
    "rxn2.gene_reaction_rule = 'UMAG_03115'\n",
    "rxn3.gene_reaction_rule = 'UMAG_03115'\n",
    "rxn4.gene_reaction_rule = 'UMAG_03115'"
   ]
  },
  {
   "cell_type": "code",
   "execution_count": 121,
   "metadata": {
    "collapsed": true
   },
   "outputs": [],
   "source": [
    "model.add_reactions([rxn1,rxn2,rxn3,rxn4])"
   ]
  },
  {
   "cell_type": "code",
   "execution_count": 122,
   "metadata": {},
   "outputs": [
    {
     "data": {
      "text/html": [
       "\n",
       "        <table>\n",
       "            <tr>\n",
       "                <td><strong>Id</strong></td><td>EX_MEL_D_e</td>\n",
       "            </tr>\n",
       "            <tr>\n",
       "                <td><strong>Name</strong></td><td>Exchange tetradecanoyl-3-hexoyl-2-mannosylerithritol</td>\n",
       "            </tr>\n",
       "            <tr>\n",
       "                <td><strong>Stoichiometry</strong></td><td>MEL_D_e --> </td>\n",
       "            </tr>\n",
       "            <tr>\n",
       "                <td><strong>GPR</strong></td><td></td>\n",
       "            </tr>\n",
       "            <tr>\n",
       "                <td><strong>Lower bound</strong></td><td>0.000000</td>\n",
       "            </tr>\n",
       "            <tr>\n",
       "                <td><strong>Upper bound</strong></td><td>1000.000000</td>\n",
       "            </tr>\n",
       "        </table>\n",
       "        "
      ],
      "text/plain": [
       "<Reaction EX_MEL_D_e at 0x1212bccd0>"
      ]
     },
     "execution_count": 122,
     "metadata": {},
     "output_type": "execute_result"
    }
   ],
   "source": [
    "model.add_demand(model.metabolites.MEL_A_e,prefix='EX_')\n",
    "model.add_demand(model.metabolites.MEL_B_e,prefix='EX_')\n",
    "model.add_demand(model.metabolites.MEL_C_e,prefix='EX_')\n",
    "model.add_demand(model.metabolites.MEL_D_e,prefix='EX_')"
   ]
  },
  {
   "cell_type": "code",
   "execution_count": 123,
   "metadata": {},
   "outputs": [],
   "source": [
    "for rxn in model.reactions:\n",
    "    if not rxn.id.startswith('EX') or not rxn.id.startswith('DM'):\n",
    "        if rxn.reversibility == True:\n",
    "            rxn.change_bounds(lb=-1000,ub=1000)\n",
    "        else:\n",
    "            rxn.change_bounds(lb=0,ub=1000)"
   ]
  },
  {
   "cell_type": "code",
   "execution_count": 124,
   "metadata": {},
   "outputs": [],
   "source": [
    "from cameo.util import TimeMachine"
   ]
  },
  {
   "cell_type": "code",
   "execution_count": 125,
   "metadata": {},
   "outputs": [
    {
     "name": "stdout",
     "output_type": "stream",
     "text": [
      "553.571428571\n",
      "300.0\n",
      "110.526315789\n",
      "96.3302752294\n",
      "102.941176471\n",
      "102.941176471\n",
      "-1.27897692437e-13\n",
      "225.935828877\n",
      "162.5\n"
     ]
    }
   ],
   "source": [
    "for met in ['manerythol_c','hex2manerythol_c','MEL_D_c','MEL_A_c','MEL_B_c','MEL_C_c','myrsACP_c','ddca_c','hdca_c']:\n",
    "    with TimeMachine() as tm:\n",
    "        model.add_demand(model.metabolites.get_by_id(met),time_machine=tm)\n",
    "        model.change_objective('DM_' + met)\n",
    "        print model.solve().f"
   ]
  },
  {
   "cell_type": "markdown",
   "metadata": {},
   "source": [
    "# Ustilagic Acid Biosynthesis"
   ]
  },
  {
   "cell_type": "markdown",
   "metadata": {},
   "source": [
    "#### Defining CYP1 and CYP2"
   ]
  },
  {
   "cell_type": "code",
   "execution_count": 126,
   "metadata": {},
   "outputs": [
    {
     "data": {
      "text/html": [
       "\n",
       "        <table>\n",
       "            <tr>\n",
       "                <td><strong>Id</strong></td><td>udpg_c</td>\n",
       "            </tr>\n",
       "            <tr>\n",
       "                <td><strong>Name</strong></td><td>UDP-alpha-D-glucose</td>\n",
       "            </tr>\n",
       "            <tr>\n",
       "                <td><strong>Formula</strong></td><td>C15H22N2O17P2</td>\n",
       "            </tr>\n",
       "        </table>"
      ],
      "text/plain": [
       "<Metabolite udpg_c at 0x12179c350>"
      ]
     },
     "execution_count": 126,
     "metadata": {},
     "output_type": "execute_result"
    }
   ],
   "source": [
    "model.metabolites.udpg_c"
   ]
  },
  {
   "cell_type": "code",
   "execution_count": 127,
   "metadata": {},
   "outputs": [
    {
     "data": {
      "text/html": [
       "\n",
       "        <table>\n",
       "            <tr>\n",
       "                <td><strong>Id</strong></td><td>hdca_c</td>\n",
       "            </tr>\n",
       "            <tr>\n",
       "                <td><strong>Name</strong></td><td>palmitate</td>\n",
       "            </tr>\n",
       "            <tr>\n",
       "                <td><strong>Formula</strong></td><td>C16H31O2</td>\n",
       "            </tr>\n",
       "        </table>"
      ],
      "text/plain": [
       "<Metabolite hdca_c at 0x120a5b4d0>"
      ]
     },
     "execution_count": 127,
     "metadata": {},
     "output_type": "execute_result"
    }
   ],
   "source": [
    "model.metabolites.hdca_c"
   ]
  },
  {
   "cell_type": "code",
   "execution_count": 128,
   "metadata": {
    "collapsed": true
   },
   "outputs": [],
   "source": [
    "met1 = Metabolite(id='16hhdca_c',name='16-Hydroxy Hexadecanoate',charge=-1,compartment='c',formula='C16H31O3')"
   ]
  },
  {
   "cell_type": "code",
   "execution_count": 129,
   "metadata": {},
   "outputs": [],
   "source": [
    "rxn1 = Reaction(id='HDCAMO',name='Hexadecanoate Monooxigenase - CYP1',lower_bound=0,upper_bound=1000)\n",
    "rxn1.add_metabolites(metabolites={model.metabolites.hdca_c:-1,\n",
    "                    model.metabolites.nadph_c:-1,\n",
    "                    model.metabolites.h_c:-1,\n",
    "                    model.metabolites.o2_c:-1,\n",
    "                    model.metabolites.nadp_c:1,\n",
    "                    model.metabolites.h2o_c:1,\n",
    "                    met1:1},combine=False)"
   ]
  },
  {
   "cell_type": "code",
   "execution_count": 130,
   "metadata": {
    "collapsed": true
   },
   "outputs": [],
   "source": [
    "met2 = Metabolite(id='1516dhhdca_c',name='15,16-dihydroxy Hexadecanoate',charge=-1,compartment='c',formula='C16H31O4')"
   ]
  },
  {
   "cell_type": "code",
   "execution_count": 131,
   "metadata": {},
   "outputs": [],
   "source": [
    "rxn2 = Reaction(id='HHDCAMO',name='16-Hydroxy Hexadecanoate Monooxigenase - CYP2',lower_bound=0,upper_bound=1000)\n",
    "rxn2.add_metabolites({met1:-1,\n",
    "                    model.metabolites.nadph_c:-1,\n",
    "                    model.metabolites.h_c:-1,\n",
    "                    model.metabolites.o2_c:-1,\n",
    "                    model.metabolites.nadp_c:1,\n",
    "                    model.metabolites.h2o_c:1,\n",
    "                    met2:1},combine=False)"
   ]
  },
  {
   "cell_type": "code",
   "execution_count": 132,
   "metadata": {
    "collapsed": true
   },
   "outputs": [],
   "source": [
    "model.add_reactions([rxn1,rxn2])"
   ]
  },
  {
   "cell_type": "markdown",
   "metadata": {},
   "source": [
    "#### Defining UGT1, (UAT1, FAS2, UHD1) and AHD1"
   ]
  },
  {
   "cell_type": "code",
   "execution_count": 133,
   "metadata": {
    "collapsed": true
   },
   "outputs": [],
   "source": [
    "met1 = Metabolite(id='cb1516dhdca_c',name='Cellobiosyl 15,16-dihydroxy Hexadecanoate',charge=-1,compartment='c',formula='C28H51O14')\n",
    "met2 = Metabolite(id='UA_A_c',name='Hexoyl Ustilagic Acid - UA A',charge=-1, compartment='c',formula='C36H63O17')\n",
    "met3 = Metabolite(id='UA_B_c',name='Hexoyl alpha-Hydroxy  Ustilagic Acid - UA B',charge=-1, compartment='c',formula='C36H63O18')\n",
    "met4 = Metabolite(id='UA_C_c',name='Octyl Ustilagic Acid - UA C',charge=-1, compartment='c',formula='C38H67O17')\n",
    "met5 = Metabolite(id='UA_D_c',name='Octyl alpha-Hydroxy Ustilagic Acid - UA D',charge=-1, compartment='c',formula='C38H67O18')"
   ]
  },
  {
   "cell_type": "code",
   "execution_count": 134,
   "metadata": {
    "collapsed": true
   },
   "outputs": [],
   "source": [
    "rxn1 = Reaction(id='UAGT',name='Ustilagic Acid glycosyl transferase - UGT1',lower_bound=0,upper_bound=1000)\n",
    "rxn1.add_metabolites({model.metabolites.get_by_id('1516dhhdca_c'):-1,\n",
    "                    model.metabolites.udpg_c:-2,\n",
    "                    model.metabolites.udp_c:2,\n",
    "                    model.metabolites.h_c:2,\n",
    "                    met1:1},combine=False)"
   ]
  },
  {
   "cell_type": "code",
   "execution_count": 135,
   "metadata": {},
   "outputs": [],
   "source": [
    "rxn2 = Reaction(id='UAHA',name='Ustilagic Acid hexyl acylase and acetylase - UAT1,FAS2,UHD1',lower_bound=0,upper_bound=1000)\n",
    "rxn2.add_metabolites({met1:-1,\n",
    "                    model.metabolites.o2_c:-1,\n",
    "                    model.metabolites.nadph_c:-1,\n",
    "                    model.metabolites.h_c:-1,\n",
    "                    model.metabolites.hexACP_c:-1,\n",
    "                    model.metabolites.accoa_c:-1,\n",
    "                    model.metabolites.ACP_c:1,\n",
    "                    model.metabolites.h2o_c:1,\n",
    "                    model.metabolites.coa_c:1,\n",
    "                    model.metabolites.nadp_c:1,\n",
    "                    met2:1},combine=False)"
   ]
  },
  {
   "cell_type": "code",
   "execution_count": 136,
   "metadata": {
    "collapsed": true
   },
   "outputs": [],
   "source": [
    "rxn3 = Reaction(id='UAAAO',name='UA A alpha oxidase',lower_bound=0,upper_bound=1000)\n",
    "rxn3.add_metabolites({met2:-1,\n",
    "                    model.metabolites.o2_c:-1,\n",
    "                    model.metabolites.nadph_c:-1,\n",
    "                    model.metabolites.h_c:-1,\n",
    "                    model.metabolites.h2o_c:1,\n",
    "                    model.metabolites.nadp_c:1,\n",
    "                    met3:1},combine=False)"
   ]
  },
  {
   "cell_type": "code",
   "execution_count": 137,
   "metadata": {},
   "outputs": [],
   "source": [
    "model.metabolites.ocACP_c.formula = 'C19H35N2O8PRS'\n",
    "model.metabolites.ocACP_c.charge = -1"
   ]
  },
  {
   "cell_type": "code",
   "execution_count": 138,
   "metadata": {
    "collapsed": true
   },
   "outputs": [],
   "source": [
    "rxn4 = Reaction(id='UAOA',name='Ustilagic Acid octyl acylase and acetylase - UAT1,FAS2,UHD1',lower_bound=0,upper_bound=1000)\n",
    "rxn4.add_metabolites({met1:-1,\n",
    "                    model.metabolites.o2_c:-1,\n",
    "                    model.metabolites.nadph_c:-1,\n",
    "                    model.metabolites.h_c:-1,\n",
    "                    model.metabolites.ocACP_c:-1,\n",
    "                    model.metabolites.accoa_c:-1,\n",
    "                    model.metabolites.ACP_c:1,\n",
    "                    model.metabolites.h2o_c:1,\n",
    "                    model.metabolites.coa_c:1,\n",
    "                    model.metabolites.nadp_c:1,\n",
    "                    met4:1},combine=False)"
   ]
  },
  {
   "cell_type": "code",
   "execution_count": 139,
   "metadata": {
    "collapsed": true
   },
   "outputs": [],
   "source": [
    "rxn5 = Reaction(id='UACAO',name='UA C alpha oxidase',lower_bound=0,upper_bound=1000)\n",
    "rxn5.add_metabolites({met4:-1,\n",
    "                    model.metabolites.o2_c:-1,\n",
    "                    model.metabolites.nadph_c:-1,\n",
    "                    model.metabolites.h_c:-1,\n",
    "                    model.metabolites.h2o_c:1,\n",
    "                    model.metabolites.nadp_c:1,\n",
    "                    met5:1},combine=False)"
   ]
  },
  {
   "cell_type": "code",
   "execution_count": 140,
   "metadata": {
    "collapsed": true
   },
   "outputs": [],
   "source": [
    "model.add_reactions([rxn1,rxn2,rxn3,rxn4,rxn5])"
   ]
  },
  {
   "cell_type": "markdown",
   "metadata": {},
   "source": [
    "#### Transport and Exchanges"
   ]
  },
  {
   "cell_type": "code",
   "execution_count": 141,
   "metadata": {
    "collapsed": true
   },
   "outputs": [],
   "source": [
    "met1 = model.metabolites.UA_A_c.copy()\n",
    "met1.compartment = 'e'\n",
    "met1.id = 'UA_A_e'\n",
    "met2 = model.metabolites.UA_B_c.copy()\n",
    "met2.compartment = 'e'\n",
    "met2.id = 'UA_B_e'\n",
    "met3 = model.metabolites.UA_C_c.copy()\n",
    "met3.compartment = 'e'\n",
    "met3.id = 'UA_C_e'\n",
    "met4 = model.metabolites.UA_D_c.copy()\n",
    "met4.compartment = 'e'\n",
    "met4.id = 'UA_D_e'"
   ]
  },
  {
   "cell_type": "code",
   "execution_count": 142,
   "metadata": {
    "collapsed": true
   },
   "outputs": [],
   "source": [
    "rxn1 = Reaction(id='UA_Ate',name='UA A Transporter',lower_bound=-1000,upper_bound=1000)\n",
    "rxn1.add_metabolites({model.metabolites.UA_A_c:-1,\n",
    "                    met1:1},combine=False)\n",
    "rxn2= Reaction(id='UA_Bte',name='UA B Transporter',lower_bound=-1000,upper_bound=1000)\n",
    "rxn2.add_metabolites({model.metabolites.UA_B_c:-1,\n",
    "                    met2:1},combine=False)\n",
    "rxn3 = Reaction(id='UA_Cte',name='UA C Transporter',lower_bound=-1000,upper_bound=1000)\n",
    "rxn3.add_metabolites({model.metabolites.UA_C_c:-1,\n",
    "                    met3:1},combine=False)\n",
    "rxn4 = Reaction(id='UA_Dte',name='UA D Transporter',lower_bound=-1000,upper_bound=1000)\n",
    "rxn4.add_metabolites({model.metabolites.UA_D_c:-1,\n",
    "                    met4:1},combine=False)"
   ]
  },
  {
   "cell_type": "code",
   "execution_count": 143,
   "metadata": {
    "collapsed": true
   },
   "outputs": [],
   "source": [
    "model.add_reactions([rxn1,rxn2,rxn3,rxn4])"
   ]
  },
  {
   "cell_type": "code",
   "execution_count": 144,
   "metadata": {},
   "outputs": [
    {
     "data": {
      "text/html": [
       "\n",
       "        <table>\n",
       "            <tr>\n",
       "                <td><strong>Id</strong></td><td>EX_UA_D_e</td>\n",
       "            </tr>\n",
       "            <tr>\n",
       "                <td><strong>Name</strong></td><td>Exchange Octyl alpha-Hydroxy Ustilagic Acid - UA D</td>\n",
       "            </tr>\n",
       "            <tr>\n",
       "                <td><strong>Stoichiometry</strong></td><td>UA_D_e --> </td>\n",
       "            </tr>\n",
       "            <tr>\n",
       "                <td><strong>GPR</strong></td><td></td>\n",
       "            </tr>\n",
       "            <tr>\n",
       "                <td><strong>Lower bound</strong></td><td>0.000000</td>\n",
       "            </tr>\n",
       "            <tr>\n",
       "                <td><strong>Upper bound</strong></td><td>1000.000000</td>\n",
       "            </tr>\n",
       "        </table>\n",
       "        "
      ],
      "text/plain": [
       "<Reaction EX_UA_D_e at 0x1212bc410>"
      ]
     },
     "execution_count": 144,
     "metadata": {},
     "output_type": "execute_result"
    }
   ],
   "source": [
    "model.add_demand(model.metabolites.UA_A_e,prefix='EX_')\n",
    "model.add_demand(model.metabolites.UA_B_e,prefix='EX_')\n",
    "model.add_demand(model.metabolites.UA_C_e,prefix='EX_')\n",
    "model.add_demand(model.metabolites.UA_D_e,prefix='EX_')"
   ]
  },
  {
   "cell_type": "code",
   "execution_count": 145,
   "metadata": {},
   "outputs": [
    {
     "name": "stdout",
     "output_type": "stream",
     "text": [
      "102.040816327\n",
      "104.166666667\n",
      "94.3396226415\n",
      "97.4025974026\n"
     ]
    }
   ],
   "source": [
    "for met in ['UA_A_c','UA_B_c','UA_C_c','UA_D_c']:\n",
    "    with TimeMachine() as tm:\n",
    "        model.add_demand(model.metabolites.get_by_id(met),time_machine=tm)\n",
    "        model.change_objective('DM_' + met)\n",
    "        print model.solve().f"
   ]
  },
  {
   "cell_type": "markdown",
   "metadata": {},
   "source": [
    "# Fatty Acid Biosynthesis Clean-up"
   ]
  },
  {
   "cell_type": "code",
   "execution_count": 146,
   "metadata": {
    "collapsed": true
   },
   "outputs": [],
   "source": [
    "clean_up_dict_rxn = {'ACONITATEHYDR__45__RXN':'ACONTb',\n",
    "                    'ACOATAm':'ACOATA','ACCOAhi':'ACCOAC',\n",
    "                    'MCOATAm':'MCOATA','KAS14_1':'KAS14',\n",
    "                    '3OAR40_1':'3OAR40','_4__46__2__46__1__46__58__45__RXN':'3HAD40',\n",
    "                    'RXN__45__9515':'EAR40y','3OAS60_1':'3OAS60',\n",
    "                    'RXN__45__9518':'3OAR60','RXN__45__9520':'3HAD60',\n",
    "                    'EAR60y_1':'EAR60y','RXN__45__9650':'3OAR80',\n",
    "                    '3HAD80_1':'3HAD80','EAR80y_1':'EAR80y',\n",
    "                    'RXN__45__9650':'3OAS80','RXN__45__9651':'3OAS100',\n",
    "                    '3OAR100_1':'3OAR100','RXN__45__9655':'3HAD100',\n",
    "                    'RXN__45__9530':'EAR100y','RXN__45__9652':'3OAS120',\n",
    "                    'RXN__45__9532':'3OAR120','RXN__45__9533':'3HAD120',\n",
    "                    'EAR120y_1':'EAR120y','3OAS140_1':'3OAS140',\n",
    "                    '3OAR140_1':'3OAR140','3HAD140_1':'3HAD140',\n",
    "                    'EAR140y_1':'EAR140y','RXN__45__9654':'3OAS160',\n",
    "                    'RXN__45__9540':'3OAR160','_4__46__2__46__1__46__61__45__RXN':'3HAD160',\n",
    "                    'RXN__45__9542':'EAR160y','RXN3O__45__1803':'3OAS180',\n",
    "                    'RXN__45__9633':'3OAR180','RXN__45__9634':'3HAD180',\n",
    "                    'RXN3O__45__5293':'EAR180y'}"
   ]
  },
  {
   "cell_type": "code",
   "execution_count": 147,
   "metadata": {
    "collapsed": true
   },
   "outputs": [],
   "source": [
    "clean_up_dict_met = {'THREO__45__DS__45__ISO__45__CITRATE_e':'icit_e',\n",
    "                    'THREO__45__DS__45__ISO__45__CITRATE_c':'icit_c',\n",
    "                    'THREO__45__DS__45__ISO__45__CITRATE_m':'icit_m',\n",
    "                    '3hbutACP_c':'3haACP_c','Crotonyl__45__ACPs_c':'but2eACP_c',\n",
    "                    'Trans__45__D2__45__decenoyl__45__ACPs_c':'tdec2eACP_c',\n",
    "                    'R__45__3__45__hydroxydodecanoyl__45__ACPs_c':'3hddecACP_c',\n",
    "                    '_3__45__oxo__45__stearoyl__45__ACPs_c':'3ooctdACP_c',\n",
    "                    'R__45__3__45__hydroxystearoyl__45__ACPs_c':'3hoctaACP_c',\n",
    "                    'Octadec__45__2__45__enoyl__45__ACPs_c':'toctd2eACP_c',\n",
    "                    'Stearoyl__45__ACPs_c':'ocdcaACP_c'}"
   ]
  },
  {
   "cell_type": "code",
   "execution_count": 148,
   "metadata": {},
   "outputs": [],
   "source": [
    "for key in clean_up_dict_rxn.keys():\n",
    "    model.reactions.get_by_id(key).id = clean_up_dict_rxn[key]"
   ]
  },
  {
   "cell_type": "code",
   "execution_count": 149,
   "metadata": {},
   "outputs": [
    {
     "data": {
      "text/plain": [
       "frozenset({<Reaction _3__45__HYDROXYDECANOYL__45__ACP__45__DEHYDR__45__RXN at 0x121837550>,\n",
       "           <Reaction _3__45__OXOACYL__45__ACP__45__REDUCT__45__RXN at 0x1218addd0>})"
      ]
     },
     "execution_count": 149,
     "metadata": {},
     "output_type": "execute_result"
    }
   ],
   "source": [
    "model.metabolites.get_by_id('3haACP_c').reactions"
   ]
  },
  {
   "cell_type": "code",
   "execution_count": 150,
   "metadata": {},
   "outputs": [],
   "source": [
    "model.remove_reactions(model.metabolites.get_by_id('3haACP_c').reactions,remove_orphans=True)"
   ]
  },
  {
   "cell_type": "code",
   "execution_count": 151,
   "metadata": {},
   "outputs": [],
   "source": [
    "for key in clean_up_dict_met.keys():\n",
    "    model.metabolites.get_by_id(key).id = clean_up_dict_met[key]"
   ]
  },
  {
   "cell_type": "code",
   "execution_count": 152,
   "metadata": {
    "collapsed": true
   },
   "outputs": [],
   "source": [
    "model.remove_reactions(['RXN__45__9648','RXN__45__9653'])"
   ]
  },
  {
   "cell_type": "code",
   "execution_count": 153,
   "metadata": {
    "collapsed": true
   },
   "outputs": [],
   "source": [
    "model.reactions.get_by_id('3OAS80').add_metabolites({model.metabolites.malcoa_c:1,model.metabolites.malACP_c:-1,\n",
    "                                                    model.metabolites.coa_c:-1,model.metabolites.ACP_c:1})"
   ]
  },
  {
   "cell_type": "code",
   "execution_count": 154,
   "metadata": {
    "collapsed": true
   },
   "outputs": [],
   "source": [
    "model.reactions.get_by_id('3OAS100').add_metabolites({model.metabolites.malcoa_c:1,model.metabolites.malACP_c:-1,\n",
    "                                                     model.metabolites.coa_c:-1,model.metabolites.ACP_c:1})"
   ]
  },
  {
   "cell_type": "code",
   "execution_count": 155,
   "metadata": {
    "collapsed": true
   },
   "outputs": [],
   "source": [
    "model.reactions.get_by_id('3OAS120').add_metabolites({model.metabolites.malcoa_c:1,model.metabolites.malACP_c:-1,\n",
    "                                                     model.metabolites.coa_c:-1,model.metabolites.ACP_c:1})"
   ]
  },
  {
   "cell_type": "code",
   "execution_count": 156,
   "metadata": {
    "collapsed": true
   },
   "outputs": [],
   "source": [
    "model.reactions.get_by_id('3OAS160').add_metabolites({model.metabolites.malcoa_c:1,model.metabolites.malACP_c:-1,\n",
    "                                                     model.metabolites.coa_c:-1,model.metabolites.ACP_c:1})"
   ]
  },
  {
   "cell_type": "code",
   "execution_count": 157,
   "metadata": {
    "collapsed": true
   },
   "outputs": [],
   "source": [
    "model.reactions.get_by_id('3OAS180').add_metabolites({model.metabolites.malcoa_c:1,model.metabolites.malACP_c:-1,\n",
    "                                                     model.metabolites.coa_c:-1,model.metabolites.ACP_c:1})"
   ]
  },
  {
   "cell_type": "code",
   "execution_count": 158,
   "metadata": {
    "collapsed": true
   },
   "outputs": [],
   "source": [
    "model.remove_reactions(['RXN__45__14972','RXN__45__14973','RXN__45__14954'])"
   ]
  },
  {
   "cell_type": "code",
   "execution_count": 261,
   "metadata": {},
   "outputs": [],
   "source": [
    "model.reactions.ACCOAC.gene_reaction_rule = 'UMAG_04629 or UMAG_05131'"
   ]
  },
  {
   "cell_type": "code",
   "execution_count": 262,
   "metadata": {
    "collapsed": true
   },
   "outputs": [],
   "source": [
    "model.remove_reactions(['RXN__45__11497'])"
   ]
  },
  {
   "cell_type": "code",
   "execution_count": 159,
   "metadata": {
    "collapsed": true
   },
   "outputs": [],
   "source": [
    "import json"
   ]
  },
  {
   "cell_type": "markdown",
   "metadata": {},
   "source": [
    "#### Fixing the map"
   ]
  },
  {
   "cell_type": "code",
   "execution_count": 160,
   "metadata": {
    "collapsed": true
   },
   "outputs": [],
   "source": [
    "with open('/Users/clie/Desktop/Side Projects/Ustilago_maydis_Thiemo_Zambanini/UstiMap9.json','r') as EscherMap:\n",
    "    d = json.load(EscherMap)\n",
    "\n",
    "for node in d[1]['nodes']:\n",
    "    if 'bigg_id' in d[1]['nodes'][node]: \n",
    "        if d[1]['nodes'][node]['bigg_id'] in clean_up_dict_met.keys():\n",
    "            d[1]['nodes'][node]['bigg_id'] = clean_up_dict_met[d[1]['nodes'][node]['bigg_id']]\n",
    "            \n",
    "for rxn in d[1]['reactions']:\n",
    "    if 'bigg_id' in d[1]['reactions'][rxn]: \n",
    "        if d[1]['reactions'][rxn]['bigg_id'] in clean_up_dict_rxn.keys():\n",
    "            d[1]['reactions'][rxn]['bigg_id'] = clean_up_dict_rxn[d[1]['reactions'][rxn]['bigg_id']]\n",
    "            \n",
    "with open('/Users/clie/Desktop/Side Projects/Ustilago_maydis_Thiemo_Zambanini/UstiMap9.json','w') as EscherMap:    \n",
    "    json.dump(d,EscherMap)"
   ]
  },
  {
   "cell_type": "markdown",
   "metadata": {},
   "source": [
    "# Some central carbon metabolism fixes"
   ]
  },
  {
   "cell_type": "code",
   "execution_count": 161,
   "metadata": {
    "collapsed": true
   },
   "outputs": [],
   "source": [
    "model.reactions.ACONTb.lower_bound = -1000"
   ]
  },
  {
   "cell_type": "code",
   "execution_count": 162,
   "metadata": {
    "collapsed": true
   },
   "outputs": [],
   "source": [
    "model.reactions.ACONTa.lower_bound = -1000"
   ]
  },
  {
   "cell_type": "code",
   "execution_count": 163,
   "metadata": {},
   "outputs": [],
   "source": [
    "model.reactions.ACITL.gene_reaction_rule = 'UMAG_01005 or UMAG_05677'"
   ]
  },
  {
   "cell_type": "code",
   "execution_count": 164,
   "metadata": {
    "collapsed": true
   },
   "outputs": [],
   "source": [
    "model.remove_reactions(['CITL'])"
   ]
  },
  {
   "cell_type": "code",
   "execution_count": 165,
   "metadata": {
    "collapsed": true
   },
   "outputs": [],
   "source": [
    "model.reactions.TRANS_Isocitrate_Malate_Shuttle.gene_reaction_rule = model.reactions.TRANS_Cis_Aconitate_Malate_Shuttle.gene_reaction_rule"
   ]
  },
  {
   "cell_type": "code",
   "execution_count": 166,
   "metadata": {
    "collapsed": true
   },
   "outputs": [],
   "source": [
    "hco3 = Reaction(id='HCO3tm',name='Carbonate transport, mitochondria',lower_bound=-1000,upper_bound=1000)\n",
    "hco3.add_metabolites({model.metabolites.hco3_c:-1,\n",
    "                    model.metabolites.hco3_m:1},combine=False)"
   ]
  },
  {
   "cell_type": "code",
   "execution_count": 167,
   "metadata": {
    "collapsed": true
   },
   "outputs": [],
   "source": [
    "model.add_reaction(hco3)"
   ]
  },
  {
   "cell_type": "markdown",
   "metadata": {},
   "source": [
    "### Glycolysis"
   ]
  },
  {
   "cell_type": "code",
   "execution_count": 168,
   "metadata": {},
   "outputs": [
    {
     "data": {
      "text/html": [
       "\n",
       "        <table>\n",
       "            <tr>\n",
       "                <td><strong>Id</strong></td><td>EX_pyr_e</td>\n",
       "            </tr>\n",
       "            <tr>\n",
       "                <td><strong>Name</strong></td><td>Exchange pyruvate</td>\n",
       "            </tr>\n",
       "            <tr>\n",
       "                <td><strong>Stoichiometry</strong></td><td>pyr_e --> </td>\n",
       "            </tr>\n",
       "            <tr>\n",
       "                <td><strong>GPR</strong></td><td></td>\n",
       "            </tr>\n",
       "            <tr>\n",
       "                <td><strong>Lower bound</strong></td><td>0.000000</td>\n",
       "            </tr>\n",
       "            <tr>\n",
       "                <td><strong>Upper bound</strong></td><td>1000.000000</td>\n",
       "            </tr>\n",
       "        </table>\n",
       "        "
      ],
      "text/plain": [
       "<Reaction EX_pyr_e at 0x1213f9bd0>"
      ]
     },
     "execution_count": 168,
     "metadata": {},
     "output_type": "execute_result"
    }
   ],
   "source": [
    "model.add_demand(model.metabolites.pyr_e,prefix='EX_')"
   ]
  },
  {
   "cell_type": "code",
   "execution_count": 169,
   "metadata": {},
   "outputs": [],
   "source": [
    "for rxn in model.metabolites.pyr_e.reactions:\n",
    "    if rxn.id.startswith('TRANS'):\n",
    "        rxn.change_bounds(lb=-1000,ub=1000)"
   ]
  },
  {
   "cell_type": "code",
   "execution_count": 170,
   "metadata": {
    "collapsed": true
   },
   "outputs": [],
   "source": [
    "clean_gly_rxn = {'TRANS__45__RXNTFS__45__45__45__ALPHA__45__GLUCOSE__47____47__ALPHA__45__GLUCOSE__46__29__46__':'GLCt1',\n",
    "                'PFKh':'PFK',\n",
    "                'FBAm':'FBA',\n",
    "                'GAPDHm':'GAPD',\n",
    "                'PGKm':'PGK',\n",
    "                'PGMm':'PGM',\n",
    "                'ENOm':'ENO',\n",
    "                'PYKm':'PYK'}"
   ]
  },
  {
   "cell_type": "code",
   "execution_count": 171,
   "metadata": {},
   "outputs": [],
   "source": [
    "for key in clean_gly_rxn.keys():\n",
    "    model.reactions.get_by_id(key).id = clean_gly_rxn[key]"
   ]
  },
  {
   "cell_type": "code",
   "execution_count": 172,
   "metadata": {
    "collapsed": true
   },
   "outputs": [],
   "source": [
    "with open('/Users/clie/Desktop/Side Projects/Ustilago_maydis_Thiemo_Zambanini/UstiMap10.json','r') as EscherMap:\n",
    "    d = json.load(EscherMap)\n",
    "\n",
    "for rxn in d[1]['reactions']:\n",
    "    if 'bigg_id' in d[1]['reactions'][rxn]: \n",
    "        if d[1]['reactions'][rxn]['bigg_id'] in clean_gly_rxn.keys():\n",
    "            d[1]['reactions'][rxn]['bigg_id'] = clean_gly_rxn[d[1]['reactions'][rxn]['bigg_id']]\n",
    "            \n",
    "with open('/Users/clie/Desktop/Side Projects/Ustilago_maydis_Thiemo_Zambanini/UstiMap10.json','w') as EscherMap:    \n",
    "    json.dump(d,EscherMap)"
   ]
  },
  {
   "cell_type": "code",
   "execution_count": 173,
   "metadata": {
    "collapsed": true
   },
   "outputs": [],
   "source": [
    "constraint = model.add_ratio_constraint('PFK','G6PDH',0.23)"
   ]
  },
  {
   "cell_type": "markdown",
   "metadata": {},
   "source": [
    "### Pentose-Phoshpate Pathway"
   ]
  },
  {
   "cell_type": "code",
   "execution_count": 174,
   "metadata": {},
   "outputs": [],
   "source": [
    "# Moving the Glucose Oxidase to the Mitochondrial comparment because for all the genes Pedant indicated a presence in the \n",
    "# Inner Mitochondrial Membrane. And in the Cytosol, the reaction clashes with the PPP.\n",
    "\n",
    "move_compartment(model,[model.reactions.GLUCOSE__45__OXIDASE__45__RXN],'m')"
   ]
  },
  {
   "cell_type": "code",
   "execution_count": 175,
   "metadata": {},
   "outputs": [],
   "source": [
    "model.remove_reactions(['RXN__45__3341'])"
   ]
  },
  {
   "cell_type": "code",
   "execution_count": 176,
   "metadata": {
    "collapsed": true
   },
   "outputs": [],
   "source": [
    "model.reactions.GLUCONOLACT__45__RXN.gene_reaction_rule = 'UMAG_05603'"
   ]
  },
  {
   "cell_type": "code",
   "execution_count": 177,
   "metadata": {},
   "outputs": [],
   "source": [
    "clean_ppp_rxn = {'GLUCOSE__45__OXIDASE__45__RXN':'GLUOXm',\n",
    "                'PGLh':'PGL',\n",
    "                'PGDHh':'PGDH',\n",
    "                'GLUCONOLACT__45__RXN':'GLAC',\n",
    "                'GNKh':'GNK',\n",
    "                'RPEh':'RPE',\n",
    "                'RIB5PISOM__45__RXN':'RPI',\n",
    "                'PRPPSYN__45__RXN':'PRPPS',\n",
    "                '_1TRANSKETO__45__RXN':'TKT1',\n",
    "                'TAh':'TALA','TKT2h':'TKT2',\n",
    "                'RIBOKIN__45__RXN':'RBK'}"
   ]
  },
  {
   "cell_type": "code",
   "execution_count": 178,
   "metadata": {
    "collapsed": true
   },
   "outputs": [],
   "source": [
    "clean_ppp_met = {'GLC__45__D__45__LACTONE_c':'g15lac_c',\n",
    "                'RIBOSE__45__5P_c':'r5p_c'}"
   ]
  },
  {
   "cell_type": "code",
   "execution_count": 179,
   "metadata": {
    "collapsed": true
   },
   "outputs": [],
   "source": [
    "foo.swap_mets(model.metabolites.CPD__45__10330_c,model.metabolites.rib__D_c)\n",
    "model.metabolites.CPD__45__10330_c.remove_from_model('subtractive')"
   ]
  },
  {
   "cell_type": "code",
   "execution_count": 180,
   "metadata": {},
   "outputs": [],
   "source": [
    "for key in clean_ppp_rxn.keys():\n",
    "        model.reactions.get_by_id(key).id = clean_ppp_rxn[key]"
   ]
  },
  {
   "cell_type": "code",
   "execution_count": 181,
   "metadata": {},
   "outputs": [],
   "source": [
    "for key in clean_ppp_met.keys():\n",
    "    model.metabolites.get_by_id(key).id = clean_ppp_met[key]"
   ]
  },
  {
   "cell_type": "code",
   "execution_count": 182,
   "metadata": {
    "collapsed": true
   },
   "outputs": [],
   "source": [
    "with open('/Users/clie/Desktop/Side Projects/Ustilago_maydis_Thiemo_Zambanini/UstiMap10.json','r') as EscherMap:\n",
    "    d = json.load(EscherMap)\n",
    "\n",
    "for node in d[1]['nodes']:\n",
    "    if 'bigg_id' in d[1]['nodes'][node]: \n",
    "        if d[1]['nodes'][node]['bigg_id'] in clean_ppp_met.keys():\n",
    "            d[1]['nodes'][node]['bigg_id'] = clean_ppp_met[d[1]['nodes'][node]['bigg_id']]\n",
    "\n",
    "for rxn in d[1]['reactions']:\n",
    "    if 'bigg_id' in d[1]['reactions'][rxn]: \n",
    "        if d[1]['reactions'][rxn]['bigg_id'] in clean_ppp_rxn.keys():\n",
    "            d[1]['reactions'][rxn]['bigg_id'] = clean_ppp_rxn[d[1]['reactions'][rxn]['bigg_id']]\n",
    "            \n",
    "with open('/Users/clie/Desktop/Side Projects/Ustilago_maydis_Thiemo_Zambanini/UstiMap10.json','w') as EscherMap:    \n",
    "    json.dump(d,EscherMap)"
   ]
  },
  {
   "cell_type": "code",
   "execution_count": 185,
   "metadata": {},
   "outputs": [
    {
     "name": "stdout",
     "output_type": "stream",
     "text": [
      "--------------------------------------------------\n",
      "Reaction's PYK3 reversibility is True\n",
      "gtp_c + pyr_c <=> gdp_c + h_c + pep_c\n",
      "--------------------------------------------------\n",
      "Reaction's AGPOPm reversibility is True\n",
      "dgtp_c + pyr_c <=> dgdp_c + h_c + pep_c\n",
      "--------------------------------------------------\n",
      "Reaction's DAPOP reversibility is False\n",
      "datp_c + pyr_c --> dadp_c + h_c + pep_c\n",
      "--------------------------------------------------\n",
      "Reaction's PPS reversibility is False\n",
      "atp_c + h2o_c + pyr_c --> amp_c + 2.0 h_c + pep_c + pi_c\n",
      "--------------------------------------------------\n",
      "Reaction's PYK reversibility is False\n",
      "adp_c + h_c + pep_c --> atp_c + pyr_c\n"
     ]
    }
   ],
   "source": [
    "foo.find_common_reactions(model,['pep_c','pyr_c'])"
   ]
  },
  {
   "cell_type": "code",
   "execution_count": 186,
   "metadata": {
    "collapsed": true
   },
   "outputs": [],
   "source": [
    "foo.invert_reaction(model.reactions.PYK3)"
   ]
  },
  {
   "cell_type": "code",
   "execution_count": 187,
   "metadata": {},
   "outputs": [],
   "source": [
    "model.reactions.PYK3.lower_bound = 0"
   ]
  },
  {
   "cell_type": "code",
   "execution_count": 188,
   "metadata": {
    "collapsed": true
   },
   "outputs": [],
   "source": [
    "foo.invert_reaction(model.reactions.AGPOPm)"
   ]
  },
  {
   "cell_type": "code",
   "execution_count": 189,
   "metadata": {},
   "outputs": [],
   "source": [
    "model.reactions.AGPOPm.lower_bound = 0"
   ]
  },
  {
   "cell_type": "code",
   "execution_count": 190,
   "metadata": {
    "collapsed": true
   },
   "outputs": [],
   "source": [
    "foo.invert_reaction(model.reactions.DAPOP)"
   ]
  },
  {
   "cell_type": "markdown",
   "metadata": {},
   "source": [
    "# Mitochondrial Respiratiory Chain"
   ]
  },
  {
   "cell_type": "markdown",
   "metadata": {},
   "source": [
    "#### Complex 1: NADH-Dehydrogenase:"
   ]
  },
  {
   "cell_type": "code",
   "execution_count": 191,
   "metadata": {
    "collapsed": true
   },
   "outputs": [],
   "source": [
    "# Unbalanced, and amount of transported protons didn't match KEGGs description here\n",
    "# http://www.genome.jp/kegg-bin/show_pathway?uma00190"
   ]
  },
  {
   "cell_type": "code",
   "execution_count": 192,
   "metadata": {},
   "outputs": [
    {
     "data": {
      "text/html": [
       "\n",
       "        <table>\n",
       "            <tr>\n",
       "                <td><strong>Id</strong></td><td>NADH__45__DEHYDROG__45__A__45__RXN</td>\n",
       "            </tr>\n",
       "            <tr>\n",
       "                <td><strong>Name</strong></td><td>NADH-DEHYDROG-A-RXN</td>\n",
       "            </tr>\n",
       "            <tr>\n",
       "                <td><strong>Stoichiometry</strong></td><td>4.0 h_m + nadh_m + q6_m --> 4.0 h_p + nad_m + q6h2_m</td>\n",
       "            </tr>\n",
       "            <tr>\n",
       "                <td><strong>GPR</strong></td><td>UMAG_01311 and UMAG_12039 and UMAG_10607 and UMAG_11495 and UMAG_11731 and UMAG_10989 and UMAG_10847 and UMAG_02164 and UMAG_03669 and UMAG_10695 and UMAG_11162 and UMAG_00778 and UMAG_11170 and UMAG_00381 and UMAG_11038 and UMAG_05598 and UMAG_12001 and UMAG_02437 and UMAG_10820 and UMAG_11896 and UMAG_00512 and UMAG_11448 and UMAG_00634</td>\n",
       "            </tr>\n",
       "            <tr>\n",
       "                <td><strong>Lower bound</strong></td><td>0.000000</td>\n",
       "            </tr>\n",
       "            <tr>\n",
       "                <td><strong>Upper bound</strong></td><td>1000.000000</td>\n",
       "            </tr>\n",
       "        </table>\n",
       "        "
      ],
      "text/plain": [
       "<Reaction NADH__45__DEHYDROG__45__A__45__RXN at 0x1178f1bd0>"
      ]
     },
     "execution_count": 192,
     "metadata": {},
     "output_type": "execute_result"
    }
   ],
   "source": [
    "model.reactions.NADH__45__DEHYDROG__45__A__45__RXN"
   ]
  },
  {
   "cell_type": "code",
   "execution_count": 193,
   "metadata": {
    "collapsed": true
   },
   "outputs": [],
   "source": [
    "model.reactions.NADH__45__DEHYDROG__45__A__45__RXN.add_metabolites({model.metabolites.h_m:-2,\n",
    "                                                                   model.metabolites.h_p:1})"
   ]
  },
  {
   "cell_type": "markdown",
   "metadata": {},
   "source": []
  },
  {
   "cell_type": "markdown",
   "metadata": {},
   "source": [
    "#### Complex 2: Succinate Dehydrogenase"
   ]
  },
  {
   "cell_type": "code",
   "execution_count": 194,
   "metadata": {},
   "outputs": [],
   "source": [
    "model.remove_reactions(['RXN__45__14971'])"
   ]
  },
  {
   "cell_type": "code",
   "execution_count": 195,
   "metadata": {},
   "outputs": [
    {
     "data": {
      "text/html": [
       "\n",
       "        <table>\n",
       "            <tr>\n",
       "                <td><strong>Id</strong></td><td>SUCCINATE__45__DEHYDROGENASE__45__UBIQUINONE__45__RXN</td>\n",
       "            </tr>\n",
       "            <tr>\n",
       "                <td><strong>Name</strong></td><td>SUCCINATE-DEHYDROGENASE-UBIQUINONE-RXN</td>\n",
       "            </tr>\n",
       "            <tr>\n",
       "                <td><strong>Stoichiometry</strong></td><td>q6_m + succ_m --> fum_m + q6h2_m</td>\n",
       "            </tr>\n",
       "            <tr>\n",
       "                <td><strong>GPR</strong></td><td>UMAG_04971 and UMAG_01172 and UMAG_00844 and UMAG_11744 and UMAG_03845</td>\n",
       "            </tr>\n",
       "            <tr>\n",
       "                <td><strong>Lower bound</strong></td><td>0.000000</td>\n",
       "            </tr>\n",
       "            <tr>\n",
       "                <td><strong>Upper bound</strong></td><td>1000.000000</td>\n",
       "            </tr>\n",
       "        </table>\n",
       "        "
      ],
      "text/plain": [
       "<Reaction SUCCINATE__45__DEHYDROGENASE__45__UBIQUINONE__45__RXN at 0x1217db5d0>"
      ]
     },
     "execution_count": 195,
     "metadata": {},
     "output_type": "execute_result"
    }
   ],
   "source": [
    "model.reactions.SUCCINATE__45__DEHYDROGENASE__45__UBIQUINONE__45__RXN"
   ]
  },
  {
   "cell_type": "markdown",
   "metadata": {},
   "source": [
    "#### Complex 3: Cytochrome bc1 Complex"
   ]
  },
  {
   "cell_type": "code",
   "execution_count": 196,
   "metadata": {
    "collapsed": true
   },
   "outputs": [],
   "source": [
    "# Unbalanced, and amount of transported protons didn't match KEGGs description here\n",
    "# http://www.genome.jp/kegg-bin/show_pathway?uma00190"
   ]
  },
  {
   "cell_type": "code",
   "execution_count": 197,
   "metadata": {},
   "outputs": [
    {
     "data": {
      "text/html": [
       "\n",
       "        <table>\n",
       "            <tr>\n",
       "                <td><strong>Id</strong></td><td>Ubiquinol_Cytochrome_C_Reductase_RXN</td>\n",
       "            </tr>\n",
       "            <tr>\n",
       "                <td><strong>Name</strong></td><td>Aerobic Respiration Ubiquinol-Cytochrome-C-Reductase-RXN</td>\n",
       "            </tr>\n",
       "            <tr>\n",
       "                <td><strong>Stoichiometry</strong></td><td>2.0 Cytochromes__45__C__45__Oxidized_m + 2.0 h_m + q6h2_m <=> 2.0 focytC_m + 2.0 h_p + q6_m</td>\n",
       "            </tr>\n",
       "            <tr>\n",
       "                <td><strong>GPR</strong></td><td>UMAG_11097 and UMAG_10507 and UMAG_00940 and UMAG_11212 and UMAG_01478 and UMAG_04237 and UMAG_11288</td>\n",
       "            </tr>\n",
       "            <tr>\n",
       "                <td><strong>Lower bound</strong></td><td>-1000.000000</td>\n",
       "            </tr>\n",
       "            <tr>\n",
       "                <td><strong>Upper bound</strong></td><td>1000.000000</td>\n",
       "            </tr>\n",
       "        </table>\n",
       "        "
      ],
      "text/plain": [
       "<Reaction Ubiquinol_Cytochrome_C_Reductase_RXN at 0x120a4fc90>"
      ]
     },
     "execution_count": 197,
     "metadata": {},
     "output_type": "execute_result"
    }
   ],
   "source": [
    "model.reactions.Ubiquinol_Cytochrome_C_Reductase_RXN"
   ]
  },
  {
   "cell_type": "code",
   "execution_count": 198,
   "metadata": {
    "collapsed": true
   },
   "outputs": [],
   "source": [
    "model.reactions.Ubiquinol_Cytochrome_C_Reductase_RXN.add_metabolites({model.metabolites.h_p:2})"
   ]
  },
  {
   "cell_type": "markdown",
   "metadata": {},
   "source": [
    "#### Comple 4:  Cytochrome c Oxidase"
   ]
  },
  {
   "cell_type": "code",
   "execution_count": 199,
   "metadata": {
    "collapsed": true
   },
   "outputs": [],
   "source": [
    "# Unbalanced"
   ]
  },
  {
   "cell_type": "code",
   "execution_count": 200,
   "metadata": {},
   "outputs": [
    {
     "data": {
      "text/html": [
       "\n",
       "        <table>\n",
       "            <tr>\n",
       "                <td><strong>Id</strong></td><td>Cytochrome_C_Oxidase_RXN</td>\n",
       "            </tr>\n",
       "            <tr>\n",
       "                <td><strong>Name</strong></td><td>Aerobic Respiration Cytochrome-C-Oxidase-RXN</td>\n",
       "            </tr>\n",
       "            <tr>\n",
       "                <td><strong>Stoichiometry</strong></td><td>focytC_m + 2.0 h_m + 0.5 o2_m --> Cytochromes__45__C__45__Oxidized_m + h2o_m + 2.0 h_p</td>\n",
       "            </tr>\n",
       "            <tr>\n",
       "                <td><strong>GPR</strong></td><td>UMAG_10048 and UMAG_12110 and UMAG_00912 and UMAG_11645 and UMAG_01150 and UMAG_11313 and UMAG_10296 and UMAG_03627 and UMAG_12241 and UMAG_11743 and UMAG_11153 and UMAG_05692 and UMAG_04802 and UMAG_12083 and UMAG_11005</td>\n",
       "            </tr>\n",
       "            <tr>\n",
       "                <td><strong>Lower bound</strong></td><td>0.000000</td>\n",
       "            </tr>\n",
       "            <tr>\n",
       "                <td><strong>Upper bound</strong></td><td>1000.000000</td>\n",
       "            </tr>\n",
       "        </table>\n",
       "        "
      ],
      "text/plain": [
       "<Reaction Cytochrome_C_Oxidase_RXN at 0x120a4ffd0>"
      ]
     },
     "execution_count": 200,
     "metadata": {},
     "output_type": "execute_result"
    }
   ],
   "source": [
    "model.reactions.Cytochrome_C_Oxidase_RXN"
   ]
  },
  {
   "cell_type": "code",
   "execution_count": 201,
   "metadata": {
    "collapsed": true
   },
   "outputs": [],
   "source": [
    "model.reactions.Cytochrome_C_Oxidase_RXN.add_metabolites({model.metabolites.h_m:-2})"
   ]
  },
  {
   "cell_type": "markdown",
   "metadata": {},
   "source": [
    "#### AOX - Alternative Oxidase"
   ]
  },
  {
   "cell_type": "code",
   "execution_count": 202,
   "metadata": {
    "collapsed": true
   },
   "outputs": [],
   "source": [
    "RXN = Reaction(name='Alternative oxidase',id='AOXm')\n",
    "RXN.gene_reaction_rule = 'UMAG_02774'"
   ]
  },
  {
   "cell_type": "code",
   "execution_count": 206,
   "metadata": {
    "collapsed": true
   },
   "outputs": [],
   "source": [
    "RXN.add_metabolites({model.metabolites.q6h2_m:-2,\n",
    "                    model.metabolites.q6_m:2,\n",
    "                    model.metabolites.o2_m:-1,\n",
    "                    model.metabolites.h2o_m:2},combine=False)"
   ]
  },
  {
   "cell_type": "code",
   "execution_count": 207,
   "metadata": {},
   "outputs": [
    {
     "data": {
      "text/plain": [
       "{}"
      ]
     },
     "execution_count": 207,
     "metadata": {},
     "output_type": "execute_result"
    }
   ],
   "source": [
    "RXN.check_mass_balance()"
   ]
  },
  {
   "cell_type": "code",
   "execution_count": 211,
   "metadata": {},
   "outputs": [],
   "source": [
    "model.add_reaction(RXN)"
   ]
  },
  {
   "cell_type": "markdown",
   "metadata": {},
   "source": [
    "#### NDH-2"
   ]
  },
  {
   "cell_type": "code",
   "execution_count": 212,
   "metadata": {},
   "outputs": [],
   "source": [
    "model.reactions.RXN0__45__5330.name = 'External alternative NADH-ubiquinone oxidoreductase, mitochondrial'"
   ]
  },
  {
   "cell_type": "code",
   "execution_count": 213,
   "metadata": {},
   "outputs": [
    {
     "data": {
      "text/html": [
       "\n",
       "        <table>\n",
       "            <tr>\n",
       "                <td><strong>Id</strong></td><td>RXN0__45__5330</td>\n",
       "            </tr>\n",
       "            <tr>\n",
       "                <td><strong>Name</strong></td><td>External alternative NADH-ubiquinone oxidoreductase, mitochondrial</td>\n",
       "            </tr>\n",
       "            <tr>\n",
       "                <td><strong>Stoichiometry</strong></td><td>nadh_m + q6_m --> h_m + nad_m + q6h2_m</td>\n",
       "            </tr>\n",
       "            <tr>\n",
       "                <td><strong>GPR</strong></td><td>UMAG_11038 or UMAG_12001 or UMAG_02437 or UMAG_10820 or UMAG_11896 or UMAG_00512 or UMAG_11448 or UMAG_00634</td>\n",
       "            </tr>\n",
       "            <tr>\n",
       "                <td><strong>Lower bound</strong></td><td>0.000000</td>\n",
       "            </tr>\n",
       "            <tr>\n",
       "                <td><strong>Upper bound</strong></td><td>1000.000000</td>\n",
       "            </tr>\n",
       "        </table>\n",
       "        "
      ],
      "text/plain": [
       "<Reaction RXN0__45__5330 at 0x1178f1510>"
      ]
     },
     "execution_count": 213,
     "metadata": {},
     "output_type": "execute_result"
    }
   ],
   "source": [
    "model.reactions.RXN0__45__5330"
   ]
  },
  {
   "cell_type": "code",
   "execution_count": 214,
   "metadata": {},
   "outputs": [],
   "source": [
    "model.reactions.RXN0__45__5330.add_metabolites({model.metabolites.h_c:-1,\n",
    "                                               model.metabolites.nadh_m:0,\n",
    "                                               model.metabolites.nad_m:0,\n",
    "                                               model.metabolites.nadh_c:-1,\n",
    "                                               model.metabolites.nad_c:1,\n",
    "                                               model.metabolites.h_m:0},combine=False)"
   ]
  },
  {
   "cell_type": "code",
   "execution_count": 216,
   "metadata": {},
   "outputs": [
    {
     "data": {
      "text/html": [
       "\n",
       "        <table>\n",
       "            <tr>\n",
       "                <td><strong>Id</strong></td><td>RXN0__45__5330</td>\n",
       "            </tr>\n",
       "            <tr>\n",
       "                <td><strong>Name</strong></td><td>External alternative NADH-ubiquinone oxidoreductase, mitochondrial</td>\n",
       "            </tr>\n",
       "            <tr>\n",
       "                <td><strong>Stoichiometry</strong></td><td>h_c + nadh_c + q6_m --> nad_c + q6h2_m</td>\n",
       "            </tr>\n",
       "            <tr>\n",
       "                <td><strong>GPR</strong></td><td>UMAG_11038 or UMAG_12001 or UMAG_02437 or UMAG_10820 or UMAG_11896 or UMAG_00512 or UMAG_11448 or UMAG_00634</td>\n",
       "            </tr>\n",
       "            <tr>\n",
       "                <td><strong>Lower bound</strong></td><td>0.000000</td>\n",
       "            </tr>\n",
       "            <tr>\n",
       "                <td><strong>Upper bound</strong></td><td>1000.000000</td>\n",
       "            </tr>\n",
       "        </table>\n",
       "        "
      ],
      "text/plain": [
       "<Reaction RXN0__45__5330 at 0x1178f1510>"
      ]
     },
     "execution_count": 216,
     "metadata": {},
     "output_type": "execute_result"
    }
   ],
   "source": [
    "model.reactions.RXN0__45__5330"
   ]
  },
  {
   "cell_type": "markdown",
   "metadata": {},
   "source": [
    "#### ATPase"
   ]
  },
  {
   "cell_type": "code",
   "execution_count": 217,
   "metadata": {},
   "outputs": [
    {
     "data": {
      "text/html": [
       "\n",
       "        <table>\n",
       "            <tr>\n",
       "                <td><strong>Id</strong></td><td>ATPasel</td>\n",
       "            </tr>\n",
       "            <tr>\n",
       "                <td><strong>Name</strong></td><td>ATPSYN-RXN</td>\n",
       "            </tr>\n",
       "            <tr>\n",
       "                <td><strong>Stoichiometry</strong></td><td>adp_m + 3.0 h_p + pi_m --> atp_m + h2o_m + 3.0 h_m</td>\n",
       "            </tr>\n",
       "            <tr>\n",
       "                <td><strong>GPR</strong></td><td>UMAG_05503 and UMAG_10280 and UMAG_10180 and UMAG_02064 and UMAG_04716 and UMAG_11698 and UMAG_11802 and UMAG_11271 and UMAG_11576 and UMAG_10926 and UMAG_00508 and UMAG_10548 and UMAG_10213 and UMAG_04345 and UMAG_04167 and UMAG_11520 and UMAG_02782 and UMAG_01103</td>\n",
       "            </tr>\n",
       "            <tr>\n",
       "                <td><strong>Lower bound</strong></td><td>0.000000</td>\n",
       "            </tr>\n",
       "            <tr>\n",
       "                <td><strong>Upper bound</strong></td><td>1000.000000</td>\n",
       "            </tr>\n",
       "        </table>\n",
       "        "
      ],
      "text/plain": [
       "<Reaction ATPasel at 0x1215b0b50>"
      ]
     },
     "execution_count": 217,
     "metadata": {},
     "output_type": "execute_result"
    }
   ],
   "source": [
    "model.reactions.ATPasel"
   ]
  },
  {
   "cell_type": "code",
   "execution_count": 218,
   "metadata": {},
   "outputs": [
    {
     "data": {
      "text/plain": [
       "{'H': 1.0, 'charge': 1.0}"
      ]
     },
     "execution_count": 218,
     "metadata": {},
     "output_type": "execute_result"
    }
   ],
   "source": [
    "model.reactions.ATPasel.check_mass_balance()"
   ]
  },
  {
   "cell_type": "code",
   "execution_count": 219,
   "metadata": {},
   "outputs": [],
   "source": [
    "model.reactions.ATPasel.add_metabolites({model.metabolites.h_m:3,\n",
    "                                        model.metabolites.h_p:-4},combine=False)"
   ]
  },
  {
   "cell_type": "markdown",
   "metadata": {},
   "source": [
    "#### H-transporting ATPase"
   ]
  },
  {
   "cell_type": "code",
   "execution_count": 220,
   "metadata": {},
   "outputs": [
    {
     "data": {
      "text/plain": [
       "{}"
      ]
     },
     "execution_count": 220,
     "metadata": {},
     "output_type": "execute_result"
    }
   ],
   "source": [
    "model.reactions.TRANS__45__RXN__45__249.check_mass_balance()"
   ]
  },
  {
   "cell_type": "code",
   "execution_count": 221,
   "metadata": {
    "collapsed": true
   },
   "outputs": [],
   "source": [
    "model.reactions.TRANS__45__RXN__45__249.add_metabolites({model.metabolites.h_m:0,\n",
    "                                        model.metabolites.h_p:1},combine=False)"
   ]
  },
  {
   "cell_type": "code",
   "execution_count": 222,
   "metadata": {
    "collapsed": true
   },
   "outputs": [],
   "source": [
    "model.reactions.TRANS__45__RXN__45__249.lower_bound = 0"
   ]
  },
  {
   "cell_type": "code",
   "execution_count": 223,
   "metadata": {},
   "outputs": [
    {
     "data": {
      "text/html": [
       "\n",
       "        <table>\n",
       "            <tr>\n",
       "                <td><strong>Id</strong></td><td>TRANS__45__RXN__45__249</td>\n",
       "            </tr>\n",
       "            <tr>\n",
       "                <td><strong>Name</strong></td><td>TRANS-RXN-249</td>\n",
       "            </tr>\n",
       "            <tr>\n",
       "                <td><strong>Stoichiometry</strong></td><td>atp_m + h2o_m --> adp_m + h_p + pi_m</td>\n",
       "            </tr>\n",
       "            <tr>\n",
       "                <td><strong>GPR</strong></td><td>UMAG_05503 or UMAG_02064 or UMAG_04716 or UMAG_11698 or UMAG_11802 or UMAG_11576 or UMAG_10926 or UMAG_00508 or UMAG_10548 or UMAG_04345 or UMAG_04167 or UMAG_11520 or UMAG_02782 or UMAG_01103</td>\n",
       "            </tr>\n",
       "            <tr>\n",
       "                <td><strong>Lower bound</strong></td><td>0.000000</td>\n",
       "            </tr>\n",
       "            <tr>\n",
       "                <td><strong>Upper bound</strong></td><td>1000.000000</td>\n",
       "            </tr>\n",
       "        </table>\n",
       "        "
      ],
      "text/plain": [
       "<Reaction TRANS__45__RXN__45__249 at 0x1215b0650>"
      ]
     },
     "execution_count": 223,
     "metadata": {},
     "output_type": "execute_result"
    }
   ],
   "source": [
    "model.reactions.TRANS__45__RXN__45__249"
   ]
  },
  {
   "cell_type": "markdown",
   "metadata": {},
   "source": [
    "#### Glycerol phosphate dehydrogenase,"
   ]
  },
  {
   "cell_type": "code",
   "execution_count": 224,
   "metadata": {},
   "outputs": [
    {
     "data": {
      "text/html": [
       "\n",
       "        <table>\n",
       "            <tr>\n",
       "                <td><strong>Id</strong></td><td>G3PD5</td>\n",
       "            </tr>\n",
       "            <tr>\n",
       "                <td><strong>Name</strong></td><td>Glycerol-3-phosphate dehydrogenase, mitochondrial</td>\n",
       "            </tr>\n",
       "            <tr>\n",
       "                <td><strong>Stoichiometry</strong></td><td>glyc3p_c + q6_m --> dhap_c + q6h2_m</td>\n",
       "            </tr>\n",
       "            <tr>\n",
       "                <td><strong>GPR</strong></td><td>UMAG_01619</td>\n",
       "            </tr>\n",
       "            <tr>\n",
       "                <td><strong>Lower bound</strong></td><td>0.000000</td>\n",
       "            </tr>\n",
       "            <tr>\n",
       "                <td><strong>Upper bound</strong></td><td>1000.000000</td>\n",
       "            </tr>\n",
       "        </table>\n",
       "        "
      ],
      "text/plain": [
       "<Reaction G3PD5 at 0x1217cd210>"
      ]
     },
     "execution_count": 224,
     "metadata": {},
     "output_type": "execute_result"
    }
   ],
   "source": [
    "#implemented as\n",
    "model.reactions.G3PD5"
   ]
  },
  {
   "cell_type": "code",
   "execution_count": 225,
   "metadata": {
    "collapsed": true
   },
   "outputs": [],
   "source": [
    "clean_oxres_rxn = {'NADH__45__DEHYDROG__45__A__45__RXN':'NAD_umay',\n",
    "                  'SUCCINATE__45__DEHYDROGENASE__45__UBIQUINONE__45__RXN':'SUCDH_q6_m',\n",
    "                  'Ubiquinol_Cytochrome_C_Reductase_RXN':'CYOR_u6m_umay',\n",
    "                  'Cytochrome_C_Oxidase_RXN':'CYOOm_umay',\n",
    "                  'RXN0__45__5330':'NDH2m',\n",
    "                  'TRANS__45__RXN__45__249':'ATPS'}"
   ]
  },
  {
   "cell_type": "code",
   "execution_count": 226,
   "metadata": {
    "collapsed": true
   },
   "outputs": [],
   "source": [
    "clean_oxres_met = {'Cytochromes__45__C__45__Oxidized_m':'ficytc_m',\n",
    "                  'focytC_m':'focytc_m'}"
   ]
  },
  {
   "cell_type": "code",
   "execution_count": 227,
   "metadata": {},
   "outputs": [],
   "source": [
    "for key in clean_oxres_rxn.keys():\n",
    "        model.reactions.get_by_id(key).id = clean_oxres_rxn[key]"
   ]
  },
  {
   "cell_type": "code",
   "execution_count": 228,
   "metadata": {},
   "outputs": [],
   "source": [
    "for key in clean_oxres_met.keys():\n",
    "    model.metabolites.get_by_id(key).id = clean_oxres_met[key]"
   ]
  },
  {
   "cell_type": "code",
   "execution_count": 229,
   "metadata": {
    "collapsed": true
   },
   "outputs": [],
   "source": [
    "with open('/Users/clie/Desktop/Side Projects/Ustilago_maydis_Thiemo_Zambanini/UstiMap10.json','r') as EscherMap:\n",
    "    d = json.load(EscherMap)\n",
    "\n",
    "for node in d[1]['nodes']:\n",
    "    if 'bigg_id' in d[1]['nodes'][node]: \n",
    "        if d[1]['nodes'][node]['bigg_id'] in clean_oxres_met.keys():\n",
    "            d[1]['nodes'][node]['bigg_id'] = clean_oxres_met[d[1]['nodes'][node]['bigg_id']]\n",
    "\n",
    "for rxn in d[1]['reactions']:\n",
    "    if 'bigg_id' in d[1]['reactions'][rxn]: \n",
    "        if d[1]['reactions'][rxn]['bigg_id'] in clean_oxres_rxn.keys():\n",
    "            d[1]['reactions'][rxn]['bigg_id'] = clean_oxres_rxn[d[1]['reactions'][rxn]['bigg_id']]\n",
    "            \n",
    "with open('/Users/clie/Desktop/Side Projects/Ustilago_maydis_Thiemo_Zambanini/UstiMap10.json','w') as EscherMap:    \n",
    "    json.dump(d,EscherMap)"
   ]
  },
  {
   "cell_type": "code",
   "execution_count": 231,
   "metadata": {},
   "outputs": [],
   "source": [
    "constraint2 = model.add_ratio_constraint('NDH2m','NAD_umay',0.5)"
   ]
  },
  {
   "cell_type": "code",
   "execution_count": 233,
   "metadata": {},
   "outputs": [],
   "source": [
    "constraint3 = model.add_ratio_constraint('AOXm','CYOOm_umay',0.2)"
   ]
  },
  {
   "cell_type": "code",
   "execution_count": 242,
   "metadata": {},
   "outputs": [
    {
     "data": {
      "text/plain": [
       "frozenset({<Reaction EX_glc__D_e at 0x116fbd790>,\n",
       "           <Reaction GLCt1 at 0x1212388d0>,\n",
       "           <Reaction TRANS__45__RXNTFS__45__2__45__ALPHA__45__GLUCOSE__47____47__ALPHA__45__GLUCOSE__46__29__46__ at 0x121592150>,\n",
       "           <Reaction TRANS__45__RXNTFS__45__32__45__ALPHA__45__GLUCOSE__47____47__ALPHA__45__GLUCOSE__46__29__46__ at 0x12164ae50>})"
      ]
     },
     "execution_count": 242,
     "metadata": {},
     "output_type": "execute_result"
    }
   ],
   "source": [
    "model.metabolites.glc__D_e.reactions"
   ]
  },
  {
   "cell_type": "code",
   "execution_count": 243,
   "metadata": {
    "collapsed": true
   },
   "outputs": [],
   "source": [
    "model.reactions.TRANS__45__RXNTFS__45__2__45__ALPHA__45__GLUCOSE__47____47__ALPHA__45__GLUCOSE__46__29__46__.lower_bound = 0\n",
    "model.reactions.TRANS__45__RXNTFS__45__2__45__ALPHA__45__GLUCOSE__47____47__ALPHA__45__GLUCOSE__46__29__46__.upper_bound = 0"
   ]
  },
  {
   "cell_type": "code",
   "execution_count": 244,
   "metadata": {
    "collapsed": true
   },
   "outputs": [],
   "source": [
    "model.reactions.TRANS__45__RXNTFS__45__32__45__ALPHA__45__GLUCOSE__47____47__ALPHA__45__GLUCOSE__46__29__46__.lower_bound = 0\n",
    "model.reactions.TRANS__45__RXNTFS__45__32__45__ALPHA__45__GLUCOSE__47____47__ALPHA__45__GLUCOSE__46__29__46__.upper_bound = 0"
   ]
  },
  {
   "cell_type": "code",
   "execution_count": 263,
   "metadata": {},
   "outputs": [
    {
     "name": "stdout",
     "output_type": "stream",
     "text": [
      "551.583837251\n"
     ]
    }
   ],
   "source": [
    "with TimeMachine() as tm:\n",
    "    model.add_demand(model.metabolites.icit_m,time_machine=tm)\n",
    "    model.change_objective(model.reactions.DM_icit_m)\n",
    "    print model.solve().f"
   ]
  },
  {
   "cell_type": "code",
   "execution_count": 264,
   "metadata": {},
   "outputs": [],
   "source": [
    "model.change_objective(model.reactions.BIOMASS_REACTION)"
   ]
  },
  {
   "cell_type": "code",
   "execution_count": 265,
   "metadata": {
    "collapsed": true
   },
   "outputs": [],
   "source": [
    "solution = model.solve()"
   ]
  },
  {
   "cell_type": "code",
   "execution_count": 266,
   "metadata": {},
   "outputs": [
    {
     "data": {
      "text/plain": [
       "11.013093151059593"
      ]
     },
     "execution_count": 266,
     "metadata": {},
     "output_type": "execute_result"
    }
   ],
   "source": [
    "solution.f"
   ]
  },
  {
   "cell_type": "code",
   "execution_count": 248,
   "metadata": {},
   "outputs": [
    {
     "data": {
      "text/plain": [
       "0.0"
      ]
     },
     "execution_count": 248,
     "metadata": {},
     "output_type": "execute_result"
    }
   ],
   "source": [
    "solution.fluxes['EX_pyr_e']"
   ]
  },
  {
   "cell_type": "code",
   "execution_count": 240,
   "metadata": {},
   "outputs": [
    {
     "name": "stdout",
     "output_type": "stream",
     "text": [
      "\n",
      "Note: You must interrupt the kernel to end this command\n",
      "\n",
      "Serving to http://127.0.0.1:7655/\n",
      "[Ctrl-C to exit from terminal, or Ctrl-M i i to interrupt notebook kernel]\n"
     ]
    },
    {
     "name": "stderr",
     "output_type": "stream",
     "text": [
      "/Users/clie/.virtualenvs/modeling/lib/python2.7/site-packages/escher/plots.py:351: UserWarning:\n",
      "\n",
      "map_json overrides map_name\n",
      "\n",
      "127.0.0.1 - - [10/Oct/2016 00:48:28] \"GET / HTTP/1.1\" 200 -\n"
     ]
    },
    {
     "name": "stdout",
     "output_type": "stream",
     "text": [
      "\n",
      "stopping Server...\n"
     ]
    }
   ],
   "source": [
    "maps = escher.Builder(\n",
    "                    model=model,\n",
    "                    map_name = 'Ustilago maydis 521 genome-scale metabolic model',\n",
    "                    map_json='/Users/clie/Desktop/Side Projects/Ustilago_maydis_Thiemo_Zambanini/UstiMap10.json',\n",
    "                    reaction_data=solution.fluxes,\n",
    "                    show_gene_reaction_rules=True,\n",
    "                    use_3d_transform = True,\n",
    "                    )\n",
    "\n",
    "maps.set_reaction_scale([ { 'type': 'min', 'color': 'rgb(235,89,162)', 'size': 12 },\n",
    "   { 'type': 'median', 'color': 'rgb(200,200,200)', 'size': 20 },\n",
    "   { 'type': 'max', 'color': 'rgb(255,255,109)', 'size': 25 } ])\n",
    "maps.display_in_browser()"
   ]
  },
  {
   "cell_type": "code",
   "execution_count": null,
   "metadata": {
    "collapsed": true
   },
   "outputs": [],
   "source": []
  },
  {
   "cell_type": "code",
   "execution_count": 267,
   "metadata": {
    "collapsed": true
   },
   "outputs": [],
   "source": [
    "from cobra.io import write_sbml_model,save_json_model"
   ]
  },
  {
   "cell_type": "code",
   "execution_count": 268,
   "metadata": {
    "collapsed": true
   },
   "outputs": [],
   "source": [
    "write_sbml_model(model, 'iCL_Conversion3.xml', use_fbc_package=True)\n",
    "save_json_model(model, 'iCL_Conversion3.json',pretty = True)"
   ]
  },
  {
   "cell_type": "code",
   "execution_count": 269,
   "metadata": {},
   "outputs": [],
   "source": [
    "model2 = load_model('iCL_Conversion3.xml',sanitize=False)"
   ]
  },
  {
   "cell_type": "code",
   "execution_count": null,
   "metadata": {
    "collapsed": true
   },
   "outputs": [],
   "source": []
  }
 ],
 "metadata": {
  "kernelspec": {
   "display_name": "Python 2",
   "language": "python",
   "name": "python2"
  },
  "language_info": {
   "codemirror_mode": {
    "name": "ipython",
    "version": 2
   },
   "file_extension": ".py",
   "mimetype": "text/x-python",
   "name": "python",
   "nbconvert_exporter": "python",
   "pygments_lexer": "ipython2",
   "version": "2.7.10"
  }
 },
 "nbformat": 4,
 "nbformat_minor": 1
}
